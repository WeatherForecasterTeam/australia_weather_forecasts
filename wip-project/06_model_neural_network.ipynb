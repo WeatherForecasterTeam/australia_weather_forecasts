{
 "cells": [
  {
   "cell_type": "markdown",
   "id": "61a95bf4-287c-4a59-8366-2b9aae2ce997",
   "metadata": {},
   "source": [
    "## <b>Weather forecast project "
   ]
  },
  {
   "cell_type": "markdown",
   "id": "fa790155-5498-477f-b8f1-a0927a6b0094",
   "metadata": {},
   "source": [
    "# <b>06 - NEURAL NETWORK MODEL"
   ]
  },
  {
   "cell_type": "code",
   "execution_count": null,
   "id": "22e95ae9-9304-45f0-bfd1-b13e687dd04a",
   "metadata": {},
   "outputs": [],
   "source": []
  },
  {
   "cell_type": "code",
   "execution_count": null,
   "id": "beae7da8-a850-4f1b-aa6b-21a9a08c5ac8",
   "metadata": {},
   "outputs": [],
   "source": [
    "conda create -n tf tensorflow\n",
    "conda activate tf"
   ]
  },
  {
   "cell_type": "code",
   "execution_count": null,
   "id": "d130e08f-ea70-48ad-a98f-46e5627317ae",
   "metadata": {},
   "outputs": [],
   "source": [
    "\n",
    "import numpy as np\n",
    "import pandas as pd\n",
    "import matplotlib.pyplot as plt\n",
    "\n",
    "from sklearn.model_selection import train_test_split\n",
    "from sklearn.metrics import confusion_matrix, classification_report,f1_score,accuracy_score\n",
    "\n",
    "import tensorflow as tf\n",
    "from tensorflow import keras\n",
    "from keras.layers import Dense, Embedding, LSTM, SpatialDropout1D\n",
    "\n",
    "import plotly.express as px\n",
    "import plotly.graph_objects as go\n",
    "\n",
    "import warnings\n",
    "warnings.filterwarnings('ignore')\n"
   ]
  },
  {
   "cell_type": "code",
   "execution_count": null,
   "id": "76081e8d-7f8f-4a07-9019-fc7d4eb85d72",
   "metadata": {},
   "outputs": [],
   "source": [
    "from keras.models import Sequential\n",
    "from keras.layers import Dense\n",
    "from keras.optimizers import Adam\n",
    "from sklearn.metrics import roc_curve, auc\n",
    "import matplotlib.pyplot as plt\n",
    "\n",
    "# Création et compilation d'un modèle de réseau de neurones\n",
    "nn_clf = Sequential()\n",
    "nn_clf.add(Dense(64, input_dim=X_train.shape[1], activation='relu'))\n",
    "nn_clf.add(Dense(32, activation='relu'))\n",
    "nn_clf.add(Dense(1, activation='sigmoid'))\n",
    "nn_clf.compile(loss='binary_crossentropy', optimizer=Adam(lr=0.001), metrics=['accuracy'])\n",
    "\n",
    "# Entraînement du modèle\n",
    "history = nn_clf.fit(X_train, y_train, epochs=50, batch_size=32, validation_split=0.2, verbose=0)\n",
    "\n",
    "# Prédiction des probabilités des classes pour les données de test\n",
    "probs_nn = nn_clf.predict(X_test)\n",
    "\n",
    "# Calcul des taux de faux positifs, des taux de vrais positifs et des seuils correspondants\n",
    "fpr_nn, tpr_nn, seuils_nn = roc_curve(y_test,probs_nn,pos_label=1)\n",
    "\n",
    "# Calcul de l'aire sous la courbe ROC\n",
    "roc_auc_nn = auc(fpr_nn, tpr_nn)\n",
    "\n",
    "# Tracé de la courbe ROC\n",
    "plt.figure(figsize=(20,6))\n",
    "plt.subplot(121)\n",
    "plt.plot(fpr_nn, tpr_nn, color='orange', lw=2, label='Neural Network (auc = %0.2f)' % roc_auc_nn)\n",
    "plt.plot([0, 1], [0, 1], color='navy', lw=2, linestyle='--', label='Aléatoire (auc = 0.5)')\n",
    "plt.xlim([0.0, 1.0])\n",
    "plt.ylim([0.0, 1.05])\n",
    "plt.xlabel('Taux faux positifs')\n",
    "plt.ylabel('Taux vrais positifs')\n",
    "plt.title('Courbe ROC')\n",
    "plt.legend(loc=\"lower right\")\n",
    "plt.show()"
   ]
  },
  {
   "cell_type": "code",
   "execution_count": null,
   "id": "31eb06f5-2ff2-44a9-9b17-4659cf6b236c",
   "metadata": {},
   "outputs": [],
   "source": [
    "# Score sur les données de test\n",
    "score_nn = nn_clf.evaluate(X_test, y_test, verbose=0)[1]\n",
    "\n",
    "print(\"Le score du modèle de réseau de neurones sur les données de test est : {:.2f}\".format(score_nn))"
   ]
  },
  {
   "cell_type": "code",
   "execution_count": null,
   "id": "72688cf8-6503-40f0-a5ea-645cc0816658",
   "metadata": {},
   "outputs": [],
   "source": [
    "from sklearn.linear_model import LogisticRegression\n",
    "from sklearn.metrics import roc_curve, auc\n",
    "import matplotlib.pyplot as plt\n",
    "\n",
    "# Création et entraînement d'un modèle de régression logistique\n",
    "logreg_clf = LogisticRegression(solver='lbfgs')\n",
    "logreg_clf.fit(X_train, y_train)\n",
    "\n",
    "# Prédiction des probabilités des classes pour les données de test\n",
    "probs_logreg = logreg_clf.predict_proba(X_test)\n",
    "\n",
    "# Calcul des taux de faux positifs, des taux de vrais positifs et des seuils correspondants\n",
    "fpr_logreg, tpr_logreg, seuils_logreg = roc_curve(y_test,probs_logreg[:,1],pos_label=1)\n",
    "\n",
    "# Calcul de l'aire sous la courbe ROC\n",
    "roc_auc_logreg = auc(fpr_logreg, tpr_logreg)\n",
    "\n",
    "# Tracé de la courbe ROC\n",
    "plt.figure(figsize=(20,6))\n",
    "plt.subplot(121)\n",
    "plt.plot(fpr_logreg, tpr_logreg, color='blue', lw=2, label='Logistic Regression (auc = %0.2f)' % roc_auc_logreg)\n",
    "plt.plot([0, 1], [0, 1], color='navy', lw=2, linestyle='--', label='Aléatoire (auc = 0.5)')\n",
    "plt.xlim([0.0, 1.0])\n",
    "plt.ylim([0.0, 1.05])\n",
    "plt.xlabel('Taux faux positifs')\n",
    "plt.ylabel('Taux vrais positifs')\n",
    "plt.title('Courbe ROC')\n",
    "plt.legend(loc=\"lower right\")\n",
    "plt.show()\n",
    "\n",
    "# Score sur les données de test\n",
    "score_logreg = logreg_clf.score(X_test, y_test)\n",
    "print(\"Le score du modèle de régression logistique sur les données de test est : {:.2f}\".format(score_logreg))"
   ]
  },
  {
   "cell_type": "code",
   "execution_count": null,
   "id": "0bf5b0e5-add0-4a0b-b638-e864d0060aaf",
   "metadata": {},
   "outputs": [],
   "source": []
  },
  {
   "cell_type": "code",
   "execution_count": null,
   "id": "fb580fc8-2721-426f-a801-b22f8bd1b5ac",
   "metadata": {},
   "outputs": [],
   "source": []
  },
  {
   "cell_type": "code",
   "execution_count": null,
   "id": "8f6a9a6a-f3d7-4e44-ac3c-9463e5212288",
   "metadata": {},
   "outputs": [],
   "source": []
  }
 ],
 "metadata": {
  "kernelspec": {
   "display_name": "venv_datascientest",
   "language": "python",
   "name": "venv_datascientest"
  },
  "language_info": {
   "codemirror_mode": {
    "name": "ipython",
    "version": 3
   },
   "file_extension": ".py",
   "mimetype": "text/x-python",
   "name": "python",
   "nbconvert_exporter": "python",
   "pygments_lexer": "ipython3",
   "version": "3.6.5"
  }
 },
 "nbformat": 4,
 "nbformat_minor": 5
}
