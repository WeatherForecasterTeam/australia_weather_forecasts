{
 "cells": [
  {
   "cell_type": "markdown",
   "id": "61a95bf4-287c-4a59-8366-2b9aae2ce997",
   "metadata": {},
   "source": [
    "## <b>Weather forecast project "
   ]
  },
  {
   "cell_type": "markdown",
   "id": "fa790155-5498-477f-b8f1-a0927a6b0094",
   "metadata": {},
   "source": [
    "# <b>05 - MODEL UNDERSAMPLING    "
   ]
  },
  {
   "cell_type": "code",
   "execution_count": 1,
   "id": "22e95ae9-9304-45f0-bfd1-b13e687dd04a",
   "metadata": {},
   "outputs": [],
   "source": [
    "from imblearn.over_sampling import RandomOverSampler, SMOTE\n",
    "from imblearn.under_sampling import RandomUnderSampler,  ClusterCentroids\n",
    "from imblearn.metrics import classification_report_imbalanced\n",
    "\n",
    "rOs = RandomOverSampler()\n",
    "X_ro, y_ro = rOs.fit_resample(X_train, y_train)\n",
    "print('Classes échantillon oversampled :', dict(pd.Series(y_ro).value_counts()))\n",
    "\n",
    "#Random Undersampling\n",
    "rUs = RandomUnderSampler()\n",
    "X_ru, y_ru = rUs.fit_resample(X_train, y_train)\n",
    "print('Classes échantillon undersampled :', dict(pd.Series(y_ru).value_counts()))\n",
    "\n",
    "#SMOTE\n",
    "#smo = SMOTE()\n",
    "#X_sm, y_sm = smo.fit_resample(X_train, y_train)\n",
    "#print('Classes échantillon SMOTE :', dict(pd.Series(y_sm).value_counts()))"
   ]
  },
  {
   "cell_type": "code",
   "execution_count": null,
   "id": "beae7da8-a850-4f1b-aa6b-21a9a08c5ac8",
   "metadata": {},
   "outputs": [],
   "source": [
    "svm = SVC(gamma='scale')\n",
    "svm.fit(X_ro, y_ro)\n",
    "\n",
    "y_pred = svm.predict(X_test)\n",
    "print(pd.crosstab(y_test, y_pred))\n",
    "\n",
    "print(classification_report_imbalanced(y_test, y_pred))"
   ]
  },
  {
   "cell_type": "code",
   "execution_count": null,
   "id": "d130e08f-ea70-48ad-a98f-46e5627317ae",
   "metadata": {},
   "outputs": [],
   "source": [
    "svm = SVC(gamma='scale')\n",
    "svm.fit(X_ru, y_ru)\n",
    "\n",
    "y_pred = svm.predict(X_test)\n",
    "print(pd.crosstab(y_test, y_pred))\n",
    "print(classification_report_imbalanced(y_test, y_pred))"
   ]
  },
  {
   "cell_type": "code",
   "execution_count": null,
   "id": "76081e8d-7f8f-4a07-9019-fc7d4eb85d72",
   "metadata": {},
   "outputs": [],
   "source": [
    "svm = SVC(gamma='scale', class_weight='balanced')\n",
    "svm.fit(X_train, y_train)                         \n",
    "\n",
    "preds = svm.predict(X_test)\n",
    "\n",
    "pd.crosstab(y_test, preds)"
   ]
  },
  {
   "cell_type": "code",
   "execution_count": null,
   "id": "31eb06f5-2ff2-44a9-9b17-4659cf6b236c",
   "metadata": {},
   "outputs": [],
   "source": [
    "svm = SVC(probability=True, gamma='scale') # 'probability= True' est nécessaire pour retourner les probas\n",
    "svm.fit(X_train, y_train)                        # mais ralentit l'entraînement\n",
    "\n",
    "threshold = 0.4 # Tester avec 0.4, 0.6, ...\n",
    "\n",
    "probs = svm.predict_proba(X_test)\n",
    "pred_class = (probs[:,1]>=threshold).astype('int')\n",
    "\n",
    "pd.crosstab(y_test, pred_class)"
   ]
  },
  {
   "cell_type": "code",
   "execution_count": null,
   "id": "72688cf8-6503-40f0-a5ea-645cc0816658",
   "metadata": {},
   "outputs": [],
   "source": [
    "# Essai sur la valeur de seuil de la classe 1"
   ]
  },
  {
   "cell_type": "code",
   "execution_count": null,
   "id": "73d5df37-5931-4e86-a46e-dd15c35a01c8",
   "metadata": {},
   "outputs": [],
   "source": [
    "threshold = 0.3 # Tester avec 0.4, 0.6, ...\n",
    "\n",
    "probs = svm.predict_proba(X_test)\n",
    "pred_class = (probs[:,1]>=threshold).astype('int')\n",
    "\n",
    "pd.crosstab(y_test, pred_class)\n",
    "\n",
    "print(classification_report_imbalanced(y_test, pred_class))"
   ]
  },
  {
   "cell_type": "code",
   "execution_count": null,
   "id": "532c3a98-8404-4b91-ae12-8febe8a992bc",
   "metadata": {},
   "outputs": [],
   "source": [
    "pd.crosstab(y_test, pred_class)"
   ]
  },
  {
   "cell_type": "code",
   "execution_count": null,
   "id": "3def6802-6963-4aeb-8380-e7c7a66b2a53",
   "metadata": {},
   "outputs": [],
   "source": [
    "from imblearn.ensemble import BalancedRandomForestClassifier\n",
    "\n",
    "bclf = BalancedRandomForestClassifier()\n",
    "bclf.fit(X_train, y_train) \n",
    "y_pred = bclf.predict(X_test)\n",
    "pd.crosstab(y_test, y_pred)"
   ]
  },
  {
   "cell_type": "code",
   "execution_count": null,
   "id": "aeb5e40d-5963-40bb-adb5-15c2fd8877e1",
   "metadata": {},
   "outputs": [],
   "source": []
  }
 ],
 "metadata": {
  "kernelspec": {
   "display_name": "venv_datascientest",
   "language": "python",
   "name": "venv_datascientest"
  },
  "language_info": {
   "codemirror_mode": {
    "name": "ipython",
    "version": 3
   },
   "file_extension": ".py",
   "mimetype": "text/x-python",
   "name": "python",
   "nbconvert_exporter": "python",
   "pygments_lexer": "ipython3",
   "version": "3.6.5"
  }
 },
 "nbformat": 4,
 "nbformat_minor": 5
}
