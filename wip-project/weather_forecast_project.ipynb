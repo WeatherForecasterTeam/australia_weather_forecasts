{
 "cells": [
  {
   "cell_type": "markdown",
   "id": "ffbbda97-5d8a-493c-b002-4b0c61aebeec",
   "metadata": {},
   "source": [
    "# Weather forecast project"
   ]
  },
  {
   "cell_type": "code",
   "execution_count": null,
   "id": "58259a10-5e9a-4e4e-8238-c93f375ac582",
   "metadata": {},
   "outputs": [],
   "source": []
  }
 ],
 "metadata": {
  "kernelspec": {
   "display_name": "Python (venv_cdcmto)",
   "language": "python",
   "name": "venv_cdcmto"
  },
  "language_info": {
   "codemirror_mode": {
    "name": "ipython",
    "version": 3
   },
   "file_extension": ".py",
   "mimetype": "text/x-python",
   "name": "python",
   "nbconvert_exporter": "python",
   "pygments_lexer": "ipython3",
   "version": "3.11.1"
  }
 },
 "nbformat": 4,
 "nbformat_minor": 5
}
