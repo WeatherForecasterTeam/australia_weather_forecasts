{
 "cells": [
  {
   "cell_type": "markdown",
   "id": "61a95bf4-287c-4a59-8366-2b9aae2ce997",
   "metadata": {},
   "source": [
    "## <b>Weather forecast project "
   ]
  },
  {
   "cell_type": "markdown",
   "id": "fa790155-5498-477f-b8f1-a0927a6b0094",
   "metadata": {},
   "source": [
    "# <b>07 - MODEL COMPARISON"
   ]
  },
  {
   "cell_type": "markdown",
   "id": "02dc5678-9107-4523-b494-ce108ce0a803",
   "metadata": {},
   "source": [
    "## Comparaison des modèles de prévision météo selon l'échelle : local / régional ou climatique / national\n",
    "\n",
    "## A faire une fois que le bon modèle a été choisi"
   ]
  },
  {
   "cell_type": "markdown",
   "id": "646454ee-a5c8-460f-864a-e8efbf417158",
   "metadata": {},
   "source": [
    "### Packages nécessaires au notebook :"
   ]
  },
  {
   "cell_type": "code",
   "execution_count": 2,
   "id": "22e95ae9-9304-45f0-bfd1-b13e687dd04a",
   "metadata": {},
   "outputs": [],
   "source": [
    "import numpy as np\n",
    "import pandas as pd\n",
    "import matplotlib.pyplot as plt\n",
    "import seaborn as sns\n",
    "import bokeh\n",
    "import plotly\n",
    "import sys\n",
    "import geopy.distance\n",
    "from collections import defaultdict\n",
    "import geopandas as gpd\n",
    "from shapely.geometry import Point\n",
    "from mpl_toolkits.axes_grid1 import make_axes_locatable\n",
    "from sklearn.neighbors import DistanceMetric\n",
    "from math import radians\n",
    "from tqdm import tqdm\n",
    "tqdm.pandas()\n",
    "import pickle\n",
    "import time\n",
    "import lazypredict\n",
    "from lazypredict.Supervised import LazyClassifier\n",
    "\n",
    "from sklearn.preprocessing import LabelEncoder\n",
    "from sklearn.pipeline import Pipeline\n",
    "from sklearn.impute import SimpleImputer\n",
    "from sklearn.preprocessing import OneHotEncoder, StandardScaler, LabelEncoder\n",
    "from sklearn.compose import ColumnTransformer\n",
    "\n",
    "from sklearn.model_selection import train_test_split\n",
    "from sklearn.metrics import accuracy_score\n",
    "from sklearn.model_selection import cross_val_score\n",
    "from sklearn.ensemble import RandomForestClassifier, ExtraTreesRegressor\n",
    "from sklearn.tree import DecisionTreeClassifier\n",
    "from sklearn.metrics import confusion_matrix, roc_auc_score, ConfusionMatrixDisplay, precision_score, recall_score, f1_score, classification_report, roc_curve, auc, precision_recall_curve, average_precision_score\n",
    "from sklearn.linear_model import LogisticRegression\n",
    "from sklearn.svm import SVC\n",
    "from sklearn.neighbors import KNeighborsClassifier\n",
    "from sklearn import metrics\n",
    "from sklearn.model_selection import GridSearchCV, validation_curve\n",
    "from sklearn.feature_selection import SelectKBest, f_regression, mutual_info_regression,f_classif,chi2\n",
    "\n",
    "import warnings\n",
    "warnings.filterwarnings(\"ignore\", category=UserWarning, module=\"matplotlib\")\n",
    "\n",
    "plt.rcParams['figure.figsize'] = [15, 10]\n",
    "\n",
    "import plotly.express as px\n",
    "\n",
    "from sklearn.preprocessing import LabelEncoder\n",
    "from sklearn.pipeline import Pipeline\n",
    "from sklearn.impute import SimpleImputer\n",
    "from sklearn.preprocessing import OneHotEncoder, StandardScaler, LabelEncoder\n",
    "from sklearn.compose import ColumnTransformer\n",
    "\n",
    "import xgboost as xgb\n",
    "\n",
    "np.random.seed(0)"
   ]
  },
  {
   "cell_type": "code",
   "execution_count": null,
   "id": "0bf5b0e5-add0-4a0b-b638-e864d0060aaf",
   "metadata": {},
   "outputs": [],
   "source": []
  },
  {
   "cell_type": "code",
   "execution_count": null,
   "id": "fb580fc8-2721-426f-a801-b22f8bd1b5ac",
   "metadata": {},
   "outputs": [],
   "source": []
  },
  {
   "cell_type": "code",
   "execution_count": null,
   "id": "8f6a9a6a-f3d7-4e44-ac3c-9463e5212288",
   "metadata": {},
   "outputs": [],
   "source": []
  }
 ],
 "metadata": {
  "kernelspec": {
   "display_name": "venv_weatherforecast",
   "language": "python",
   "name": "venv_weatherforecast"
  },
  "language_info": {
   "codemirror_mode": {
    "name": "ipython",
    "version": 3
   },
   "file_extension": ".py",
   "mimetype": "text/x-python",
   "name": "python",
   "nbconvert_exporter": "python",
   "pygments_lexer": "ipython3",
   "version": "3.10.9"
  }
 },
 "nbformat": 4,
 "nbformat_minor": 5
}
