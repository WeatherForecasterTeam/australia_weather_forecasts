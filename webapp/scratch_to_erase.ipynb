{
 "cells": [
  {
   "cell_type": "code",
   "execution_count": 4,
   "metadata": {
    "collapsed": true
   },
   "outputs": [
    {
     "name": "stderr",
     "output_type": "stream",
     "text": [
      "C:\\Users\\benme\\Documents\\virtualenv\\venv_weatherforecast\\lib\\site-packages\\numba\\core\\decorators.py:262: NumbaDeprecationWarning: \u001B[1mnumba.generated_jit is deprecated. Please see the documentation at: https://numba.readthedocs.io/en/stable/reference/deprecation.html#deprecation-of-generated-jit for more information and advice on a suitable replacement.\u001B[0m\n",
      "  warnings.warn(msg, NumbaDeprecationWarning)\n",
      "C:\\Users\\benme\\Documents\\virtualenv\\venv_weatherforecast\\lib\\site-packages\\visions\\backends\\shared\\nan_handling.py:51: NumbaDeprecationWarning: \u001B[1mThe 'nopython' keyword argument was not supplied to the 'numba.jit' decorator. The implicit default value for this argument is currently False, but it will be changed to True in Numba 0.59.0. See https://numba.readthedocs.io/en/stable/reference/deprecation.html#deprecation-of-object-mode-fall-back-behaviour-when-using-jit for details.\u001B[0m\n",
      "  def hasna(x: np.ndarray) -> bool:\n",
      "2023-06-20 23:18:33.085 INFO    visions.backends: Pandas backend loaded 1.5.2\n",
      "2023-06-20 23:18:33.101 INFO    visions.backends: Numpy backend loaded 1.23.0\n",
      "2023-06-20 23:18:33.148 INFO    visions.backends: Pyspark backend loaded 3.3.2\n",
      "2023-06-20 23:18:33.148 INFO    visions.backends: Python backend loaded\n"
     ]
    }
   ],
   "source": [
    "import pandas as pd\n",
    "from utils.load_data import Dataload\n",
    "from pathlib import Path\n",
    "from utils.ressources import *\n",
    "from utils.load_and_apply_model import *\n",
    "import warnings\n",
    "\n",
    "# Désactiver tous les avertissements\n",
    "warnings.filterwarnings(\"ignore\")\n",
    "\n",
    "current_path = Path.cwd()\n",
    "df_dataviz = current_path / \"data\" / \"df_dataviz.csv\"\n",
    "df_prepared = current_path / \"data\" / \"data_features_city.csv\"\n",
    "\n",
    "\n",
    "path_df = current_path / \"data\" / \"data_features.csv\"\n",
    "\n",
    "df_dataviz = Dataload(df_dataviz).load_df()\n",
    "# print(df.head())\n",
    "\n",
    "\n",
    "path_df = current_path / \"data\" / \"data_features.csv\"\n",
    "path_model = current_path / \"models\"\n"
   ]
  },
  {
   "cell_type": "code",
   "execution_count": 2,
   "outputs": [
    {
     "name": "stdout",
     "output_type": "stream",
     "text": [
      "Index(['sunshine', 'windgustspeed', 'humidity3pm', 'pressure3pm', 'year',\n",
      "       'windspeed3pm', 'temp_amplitude', 'cloud3pm', 'rainfall', 'climat',\n",
      "       'humidity9am', 'winddir3pm_sin', 'longitude', 'winddir9am_cos',\n",
      "       'cloud9am', 'winddir9am_sin', 'latitude', 'month', 'geography',\n",
      "       'raintoday', 'evaporation', 'windspeed9am'],\n",
      "      dtype='object')\n",
      "(14542, 22)\n"
     ]
    }
   ],
   "source": [
    "\n",
    "X_train, X_test, y_train, y_test = Dataload(path_df).split_data_train_test()\n",
    "\n",
    "print(X_test.iloc[:, :-1].columns)\n",
    "print(X_test.iloc[:, :-1].shape)"
   ],
   "metadata": {
    "collapsed": false
   }
  },
  {
   "cell_type": "code",
   "execution_count": 3,
   "outputs": [
    {
     "data": {
      "text/plain": "       sunshine  windgustspeed  humidity3pm  pressure3pm  year  windspeed3pm  \\\n45383      11.7           28.0         62.0       1004.5  2015          15.0   \n44335      10.0           35.0         54.0       1012.5  2010          20.0   \n68858      10.4           48.0         20.0       1025.9  2014          26.0   \n32339       9.9           54.0         32.0       1008.1  2017          15.0   \n12265       1.0           43.0         66.0       1003.5  2012          20.0   \n...         ...            ...          ...          ...   ...           ...   \n11013       0.3           22.0         69.0       1015.2  2012          13.0   \n59477       6.7           37.0         20.0       1019.0  2012          13.0   \n70885       9.6           37.0         45.0       1008.7  2015          20.0   \n60564       5.8           30.0         69.0       1020.2  2016          15.0   \n54271      10.5           56.0         72.0       1018.7  2011          24.0   \n\n       temp_amplitude  cloud3pm  rainfall  climat  ...  winddir9am_cos  \\\n45383             7.2       3.0       0.6       0  ...   -7.071068e-01   \n44335             7.4       1.0       0.6       0  ...    3.826834e-01   \n68858            20.5       1.0       0.0       1  ...   -3.826834e-01   \n32339            14.3       1.0       0.0       2  ...   -9.238795e-01   \n12265             6.4       7.0       0.0       0  ...   -1.000000e+00   \n...               ...       ...       ...     ...  ...             ...   \n11013             4.2       7.0       0.0       0  ...   -3.826834e-01   \n59477            12.6       5.0       0.0       3  ...    9.238795e-01   \n70885             8.7       1.0       0.0       0  ...    1.000000e+00   \n60564            13.1       5.0       0.0       3  ...    6.123234e-17   \n54271            10.8       7.0       0.2       1  ...    3.826834e-01   \n\n       cloud9am  winddir9am_sin   latitude  month  geography  raintoday  \\\n45383       4.0    7.071068e-01 -16.595325      1          1          0   \n44335       5.0   -9.238795e-01 -16.595325      9          1          0   \n68858       2.0   -9.238795e-01 -23.215601      8          2          0   \n32339       7.0    3.826834e-01 -37.667395      2          0          0   \n12265       7.0    1.224647e-16 -33.758057      1          1          0   \n...         ...             ...        ...    ...        ...        ...   \n11013       7.0   -9.238795e-01 -28.945667      7          3          0   \n59477       6.0    3.826834e-01 -31.938420      4          1          0   \n70885       7.0    0.000000e+00 -12.457743      4          1          0   \n60564       2.0    1.000000e+00 -31.938420      5          1          0   \n54271       5.0   -9.238795e-01 -31.107934     11          2          0   \n\n       evaporation  windspeed9am  windgustdir_cos  \n45383          5.8           4.0     6.123234e-17  \n44335          3.6          13.0     9.238795e-01  \n68858          7.0           9.0     3.826834e-01  \n32339          7.4          13.0    -3.826834e-01  \n12265          8.8           7.0     7.071068e-01  \n...            ...           ...              ...  \n11013          2.6          11.0    -9.238795e-01  \n59477          4.6          20.0     7.071068e-01  \n70885          6.8          19.0     3.826834e-01  \n60564          3.6          11.0    -9.238795e-01  \n54271         11.2          24.0    -3.826834e-01  \n\n[14542 rows x 23 columns]",
      "text/html": "<div>\n<style scoped>\n    .dataframe tbody tr th:only-of-type {\n        vertical-align: middle;\n    }\n\n    .dataframe tbody tr th {\n        vertical-align: top;\n    }\n\n    .dataframe thead th {\n        text-align: right;\n    }\n</style>\n<table border=\"1\" class=\"dataframe\">\n  <thead>\n    <tr style=\"text-align: right;\">\n      <th></th>\n      <th>sunshine</th>\n      <th>windgustspeed</th>\n      <th>humidity3pm</th>\n      <th>pressure3pm</th>\n      <th>year</th>\n      <th>windspeed3pm</th>\n      <th>temp_amplitude</th>\n      <th>cloud3pm</th>\n      <th>rainfall</th>\n      <th>climat</th>\n      <th>...</th>\n      <th>winddir9am_cos</th>\n      <th>cloud9am</th>\n      <th>winddir9am_sin</th>\n      <th>latitude</th>\n      <th>month</th>\n      <th>geography</th>\n      <th>raintoday</th>\n      <th>evaporation</th>\n      <th>windspeed9am</th>\n      <th>windgustdir_cos</th>\n    </tr>\n  </thead>\n  <tbody>\n    <tr>\n      <th>45383</th>\n      <td>11.7</td>\n      <td>28.0</td>\n      <td>62.0</td>\n      <td>1004.5</td>\n      <td>2015</td>\n      <td>15.0</td>\n      <td>7.2</td>\n      <td>3.0</td>\n      <td>0.6</td>\n      <td>0</td>\n      <td>...</td>\n      <td>-7.071068e-01</td>\n      <td>4.0</td>\n      <td>7.071068e-01</td>\n      <td>-16.595325</td>\n      <td>1</td>\n      <td>1</td>\n      <td>0</td>\n      <td>5.8</td>\n      <td>4.0</td>\n      <td>6.123234e-17</td>\n    </tr>\n    <tr>\n      <th>44335</th>\n      <td>10.0</td>\n      <td>35.0</td>\n      <td>54.0</td>\n      <td>1012.5</td>\n      <td>2010</td>\n      <td>20.0</td>\n      <td>7.4</td>\n      <td>1.0</td>\n      <td>0.6</td>\n      <td>0</td>\n      <td>...</td>\n      <td>3.826834e-01</td>\n      <td>5.0</td>\n      <td>-9.238795e-01</td>\n      <td>-16.595325</td>\n      <td>9</td>\n      <td>1</td>\n      <td>0</td>\n      <td>3.6</td>\n      <td>13.0</td>\n      <td>9.238795e-01</td>\n    </tr>\n    <tr>\n      <th>68858</th>\n      <td>10.4</td>\n      <td>48.0</td>\n      <td>20.0</td>\n      <td>1025.9</td>\n      <td>2014</td>\n      <td>26.0</td>\n      <td>20.5</td>\n      <td>1.0</td>\n      <td>0.0</td>\n      <td>1</td>\n      <td>...</td>\n      <td>-3.826834e-01</td>\n      <td>2.0</td>\n      <td>-9.238795e-01</td>\n      <td>-23.215601</td>\n      <td>8</td>\n      <td>2</td>\n      <td>0</td>\n      <td>7.0</td>\n      <td>9.0</td>\n      <td>3.826834e-01</td>\n    </tr>\n    <tr>\n      <th>32339</th>\n      <td>9.9</td>\n      <td>54.0</td>\n      <td>32.0</td>\n      <td>1008.1</td>\n      <td>2017</td>\n      <td>15.0</td>\n      <td>14.3</td>\n      <td>1.0</td>\n      <td>0.0</td>\n      <td>2</td>\n      <td>...</td>\n      <td>-9.238795e-01</td>\n      <td>7.0</td>\n      <td>3.826834e-01</td>\n      <td>-37.667395</td>\n      <td>2</td>\n      <td>0</td>\n      <td>0</td>\n      <td>7.4</td>\n      <td>13.0</td>\n      <td>-3.826834e-01</td>\n    </tr>\n    <tr>\n      <th>12265</th>\n      <td>1.0</td>\n      <td>43.0</td>\n      <td>66.0</td>\n      <td>1003.5</td>\n      <td>2012</td>\n      <td>20.0</td>\n      <td>6.4</td>\n      <td>7.0</td>\n      <td>0.0</td>\n      <td>0</td>\n      <td>...</td>\n      <td>-1.000000e+00</td>\n      <td>7.0</td>\n      <td>1.224647e-16</td>\n      <td>-33.758057</td>\n      <td>1</td>\n      <td>1</td>\n      <td>0</td>\n      <td>8.8</td>\n      <td>7.0</td>\n      <td>7.071068e-01</td>\n    </tr>\n    <tr>\n      <th>...</th>\n      <td>...</td>\n      <td>...</td>\n      <td>...</td>\n      <td>...</td>\n      <td>...</td>\n      <td>...</td>\n      <td>...</td>\n      <td>...</td>\n      <td>...</td>\n      <td>...</td>\n      <td>...</td>\n      <td>...</td>\n      <td>...</td>\n      <td>...</td>\n      <td>...</td>\n      <td>...</td>\n      <td>...</td>\n      <td>...</td>\n      <td>...</td>\n      <td>...</td>\n      <td>...</td>\n    </tr>\n    <tr>\n      <th>11013</th>\n      <td>0.3</td>\n      <td>22.0</td>\n      <td>69.0</td>\n      <td>1015.2</td>\n      <td>2012</td>\n      <td>13.0</td>\n      <td>4.2</td>\n      <td>7.0</td>\n      <td>0.0</td>\n      <td>0</td>\n      <td>...</td>\n      <td>-3.826834e-01</td>\n      <td>7.0</td>\n      <td>-9.238795e-01</td>\n      <td>-28.945667</td>\n      <td>7</td>\n      <td>3</td>\n      <td>0</td>\n      <td>2.6</td>\n      <td>11.0</td>\n      <td>-9.238795e-01</td>\n    </tr>\n    <tr>\n      <th>59477</th>\n      <td>6.7</td>\n      <td>37.0</td>\n      <td>20.0</td>\n      <td>1019.0</td>\n      <td>2012</td>\n      <td>13.0</td>\n      <td>12.6</td>\n      <td>5.0</td>\n      <td>0.0</td>\n      <td>3</td>\n      <td>...</td>\n      <td>9.238795e-01</td>\n      <td>6.0</td>\n      <td>3.826834e-01</td>\n      <td>-31.938420</td>\n      <td>4</td>\n      <td>1</td>\n      <td>0</td>\n      <td>4.6</td>\n      <td>20.0</td>\n      <td>7.071068e-01</td>\n    </tr>\n    <tr>\n      <th>70885</th>\n      <td>9.6</td>\n      <td>37.0</td>\n      <td>45.0</td>\n      <td>1008.7</td>\n      <td>2015</td>\n      <td>20.0</td>\n      <td>8.7</td>\n      <td>1.0</td>\n      <td>0.0</td>\n      <td>0</td>\n      <td>...</td>\n      <td>1.000000e+00</td>\n      <td>7.0</td>\n      <td>0.000000e+00</td>\n      <td>-12.457743</td>\n      <td>4</td>\n      <td>1</td>\n      <td>0</td>\n      <td>6.8</td>\n      <td>19.0</td>\n      <td>3.826834e-01</td>\n    </tr>\n    <tr>\n      <th>60564</th>\n      <td>5.8</td>\n      <td>30.0</td>\n      <td>69.0</td>\n      <td>1020.2</td>\n      <td>2016</td>\n      <td>15.0</td>\n      <td>13.1</td>\n      <td>5.0</td>\n      <td>0.0</td>\n      <td>3</td>\n      <td>...</td>\n      <td>6.123234e-17</td>\n      <td>2.0</td>\n      <td>1.000000e+00</td>\n      <td>-31.938420</td>\n      <td>5</td>\n      <td>1</td>\n      <td>0</td>\n      <td>3.6</td>\n      <td>11.0</td>\n      <td>-9.238795e-01</td>\n    </tr>\n    <tr>\n      <th>54271</th>\n      <td>10.5</td>\n      <td>56.0</td>\n      <td>72.0</td>\n      <td>1018.7</td>\n      <td>2011</td>\n      <td>24.0</td>\n      <td>10.8</td>\n      <td>7.0</td>\n      <td>0.2</td>\n      <td>1</td>\n      <td>...</td>\n      <td>3.826834e-01</td>\n      <td>5.0</td>\n      <td>-9.238795e-01</td>\n      <td>-31.107934</td>\n      <td>11</td>\n      <td>2</td>\n      <td>0</td>\n      <td>11.2</td>\n      <td>24.0</td>\n      <td>-3.826834e-01</td>\n    </tr>\n  </tbody>\n</table>\n<p>14542 rows × 23 columns</p>\n</div>"
     },
     "execution_count": 3,
     "metadata": {},
     "output_type": "execute_result"
    }
   ],
   "source": [
    "X_test"
   ],
   "metadata": {
    "collapsed": false
   }
  },
  {
   "cell_type": "code",
   "execution_count": 6,
   "outputs": [
    {
     "data": {
      "text/plain": "Index(['sunshine', 'windgustspeed', 'humidity3pm', 'pressure3pm', 'year',\n       'windspeed3pm', 'temp_amplitude', 'cloud3pm', 'rainfall', 'climat',\n       'humidity9am', 'winddir3pm_sin', 'longitude', 'winddir9am_cos',\n       'cloud9am', 'winddir9am_sin', 'latitude', 'month', 'geography',\n       'raintoday', 'evaporation', 'windspeed9am', 'windgustdir_cos',\n       'raintomorrow'],\n      dtype='object')"
     },
     "execution_count": 6,
     "metadata": {},
     "output_type": "execute_result"
    }
   ],
   "source": [
    "Dataload(path_df).load_df().columns"
   ],
   "metadata": {
    "collapsed": false
   }
  },
  {
   "cell_type": "code",
   "execution_count": null,
   "outputs": [],
   "source": [],
   "metadata": {
    "collapsed": false
   }
  },
  {
   "cell_type": "code",
   "execution_count": 10,
   "outputs": [
    {
     "data": {
      "text/plain": "              date location  mintemp  maxtemp  rainfall  evaporation  \\\n0       2008-12-01   Albury     13.4     22.9       0.6          7.6   \n1       2008-12-02   Albury      7.4     25.1       0.0         12.0   \n2       2008-12-03   Albury     12.9     25.7       0.0          8.0   \n3       2008-12-04   Albury      9.2     28.0       0.0         10.0   \n4       2008-12-05   Albury     17.5     32.3       1.0          4.8   \n...            ...      ...      ...      ...       ...          ...   \n145028  2016-04-20    Uluru     18.8     31.7       0.0          8.0   \n145031  2016-04-23    Uluru     16.9     28.4       0.0         18.4   \n145032  2016-04-24    Uluru     12.1     27.3       0.0          8.2   \n145033  2016-04-25    Uluru      9.6     28.8       0.0          7.8   \n145034  2016-04-26    Uluru     11.0     32.5       0.0          8.0   \n\n        sunshine windgustdir  windgustspeed winddir9am  ...   latitude  \\\n0           10.9           W           44.0          W  ... -36.065766   \n1           12.9         WNW           44.0        NNW  ... -36.065766   \n2            8.0         WSW           46.0          W  ... -36.065766   \n3            2.2          NE           24.0         SE  ... -36.065766   \n4            6.7           W           41.0        ENE  ... -36.065766   \n...          ...         ...            ...        ...  ...        ...   \n145028       9.9         SSW           31.0          S  ... -24.997901   \n145031      11.0           E           31.0        ESE  ... -24.997901   \n145032      11.0           E           31.0        ENE  ... -24.997901   \n145033      11.0           E           30.0          E  ... -24.997901   \n145034      11.0           N           33.0          E  ... -24.997901   \n\n         longitude  climat_koppen  year  month  day        climat  geography  \\\n0       146.910315            Cfa  2008     12    1  Chaud humide     valley   \n1       146.910315            Cfa  2008     12    2  Chaud humide     valley   \n2       146.910315            Cfa  2008     12    3  Chaud humide     valley   \n3       146.910315            Cfa  2008     12    4  Chaud humide     valley   \n4       146.910315            Cfa  2008     12    5  Chaud humide     valley   \n...            ...            ...   ...    ...  ...           ...        ...   \n145028  131.089241            BSh  2016      4   20           Sec     desert   \n145031  131.089241            BSh  2016      4   23           Sec     desert   \n145032  131.089241            BSh  2016      4   24           Sec     desert   \n145033  131.089241            BSh  2016      4   25           Sec     desert   \n145034  131.089241            BSh  2016      4   26           Sec     desert   \n\n        position  temp_amplitude  \n0              S             9.5  \n1              S            17.7  \n2              S            12.8  \n3              S            18.8  \n4              S            14.8  \n...          ...             ...  \n145028         S            12.9  \n145031         S            11.5  \n145032         S            15.2  \n145033         S            19.2  \n145034         S            21.5  \n\n[96158 rows x 33 columns]",
      "text/html": "<div>\n<style scoped>\n    .dataframe tbody tr th:only-of-type {\n        vertical-align: middle;\n    }\n\n    .dataframe tbody tr th {\n        vertical-align: top;\n    }\n\n    .dataframe thead th {\n        text-align: right;\n    }\n</style>\n<table border=\"1\" class=\"dataframe\">\n  <thead>\n    <tr style=\"text-align: right;\">\n      <th></th>\n      <th>date</th>\n      <th>location</th>\n      <th>mintemp</th>\n      <th>maxtemp</th>\n      <th>rainfall</th>\n      <th>evaporation</th>\n      <th>sunshine</th>\n      <th>windgustdir</th>\n      <th>windgustspeed</th>\n      <th>winddir9am</th>\n      <th>...</th>\n      <th>latitude</th>\n      <th>longitude</th>\n      <th>climat_koppen</th>\n      <th>year</th>\n      <th>month</th>\n      <th>day</th>\n      <th>climat</th>\n      <th>geography</th>\n      <th>position</th>\n      <th>temp_amplitude</th>\n    </tr>\n  </thead>\n  <tbody>\n    <tr>\n      <th>0</th>\n      <td>2008-12-01</td>\n      <td>Albury</td>\n      <td>13.4</td>\n      <td>22.9</td>\n      <td>0.6</td>\n      <td>7.6</td>\n      <td>10.9</td>\n      <td>W</td>\n      <td>44.0</td>\n      <td>W</td>\n      <td>...</td>\n      <td>-36.065766</td>\n      <td>146.910315</td>\n      <td>Cfa</td>\n      <td>2008</td>\n      <td>12</td>\n      <td>1</td>\n      <td>Chaud humide</td>\n      <td>valley</td>\n      <td>S</td>\n      <td>9.5</td>\n    </tr>\n    <tr>\n      <th>1</th>\n      <td>2008-12-02</td>\n      <td>Albury</td>\n      <td>7.4</td>\n      <td>25.1</td>\n      <td>0.0</td>\n      <td>12.0</td>\n      <td>12.9</td>\n      <td>WNW</td>\n      <td>44.0</td>\n      <td>NNW</td>\n      <td>...</td>\n      <td>-36.065766</td>\n      <td>146.910315</td>\n      <td>Cfa</td>\n      <td>2008</td>\n      <td>12</td>\n      <td>2</td>\n      <td>Chaud humide</td>\n      <td>valley</td>\n      <td>S</td>\n      <td>17.7</td>\n    </tr>\n    <tr>\n      <th>2</th>\n      <td>2008-12-03</td>\n      <td>Albury</td>\n      <td>12.9</td>\n      <td>25.7</td>\n      <td>0.0</td>\n      <td>8.0</td>\n      <td>8.0</td>\n      <td>WSW</td>\n      <td>46.0</td>\n      <td>W</td>\n      <td>...</td>\n      <td>-36.065766</td>\n      <td>146.910315</td>\n      <td>Cfa</td>\n      <td>2008</td>\n      <td>12</td>\n      <td>3</td>\n      <td>Chaud humide</td>\n      <td>valley</td>\n      <td>S</td>\n      <td>12.8</td>\n    </tr>\n    <tr>\n      <th>3</th>\n      <td>2008-12-04</td>\n      <td>Albury</td>\n      <td>9.2</td>\n      <td>28.0</td>\n      <td>0.0</td>\n      <td>10.0</td>\n      <td>2.2</td>\n      <td>NE</td>\n      <td>24.0</td>\n      <td>SE</td>\n      <td>...</td>\n      <td>-36.065766</td>\n      <td>146.910315</td>\n      <td>Cfa</td>\n      <td>2008</td>\n      <td>12</td>\n      <td>4</td>\n      <td>Chaud humide</td>\n      <td>valley</td>\n      <td>S</td>\n      <td>18.8</td>\n    </tr>\n    <tr>\n      <th>4</th>\n      <td>2008-12-05</td>\n      <td>Albury</td>\n      <td>17.5</td>\n      <td>32.3</td>\n      <td>1.0</td>\n      <td>4.8</td>\n      <td>6.7</td>\n      <td>W</td>\n      <td>41.0</td>\n      <td>ENE</td>\n      <td>...</td>\n      <td>-36.065766</td>\n      <td>146.910315</td>\n      <td>Cfa</td>\n      <td>2008</td>\n      <td>12</td>\n      <td>5</td>\n      <td>Chaud humide</td>\n      <td>valley</td>\n      <td>S</td>\n      <td>14.8</td>\n    </tr>\n    <tr>\n      <th>...</th>\n      <td>...</td>\n      <td>...</td>\n      <td>...</td>\n      <td>...</td>\n      <td>...</td>\n      <td>...</td>\n      <td>...</td>\n      <td>...</td>\n      <td>...</td>\n      <td>...</td>\n      <td>...</td>\n      <td>...</td>\n      <td>...</td>\n      <td>...</td>\n      <td>...</td>\n      <td>...</td>\n      <td>...</td>\n      <td>...</td>\n      <td>...</td>\n      <td>...</td>\n      <td>...</td>\n    </tr>\n    <tr>\n      <th>145028</th>\n      <td>2016-04-20</td>\n      <td>Uluru</td>\n      <td>18.8</td>\n      <td>31.7</td>\n      <td>0.0</td>\n      <td>8.0</td>\n      <td>9.9</td>\n      <td>SSW</td>\n      <td>31.0</td>\n      <td>S</td>\n      <td>...</td>\n      <td>-24.997901</td>\n      <td>131.089241</td>\n      <td>BSh</td>\n      <td>2016</td>\n      <td>4</td>\n      <td>20</td>\n      <td>Sec</td>\n      <td>desert</td>\n      <td>S</td>\n      <td>12.9</td>\n    </tr>\n    <tr>\n      <th>145031</th>\n      <td>2016-04-23</td>\n      <td>Uluru</td>\n      <td>16.9</td>\n      <td>28.4</td>\n      <td>0.0</td>\n      <td>18.4</td>\n      <td>11.0</td>\n      <td>E</td>\n      <td>31.0</td>\n      <td>ESE</td>\n      <td>...</td>\n      <td>-24.997901</td>\n      <td>131.089241</td>\n      <td>BSh</td>\n      <td>2016</td>\n      <td>4</td>\n      <td>23</td>\n      <td>Sec</td>\n      <td>desert</td>\n      <td>S</td>\n      <td>11.5</td>\n    </tr>\n    <tr>\n      <th>145032</th>\n      <td>2016-04-24</td>\n      <td>Uluru</td>\n      <td>12.1</td>\n      <td>27.3</td>\n      <td>0.0</td>\n      <td>8.2</td>\n      <td>11.0</td>\n      <td>E</td>\n      <td>31.0</td>\n      <td>ENE</td>\n      <td>...</td>\n      <td>-24.997901</td>\n      <td>131.089241</td>\n      <td>BSh</td>\n      <td>2016</td>\n      <td>4</td>\n      <td>24</td>\n      <td>Sec</td>\n      <td>desert</td>\n      <td>S</td>\n      <td>15.2</td>\n    </tr>\n    <tr>\n      <th>145033</th>\n      <td>2016-04-25</td>\n      <td>Uluru</td>\n      <td>9.6</td>\n      <td>28.8</td>\n      <td>0.0</td>\n      <td>7.8</td>\n      <td>11.0</td>\n      <td>E</td>\n      <td>30.0</td>\n      <td>E</td>\n      <td>...</td>\n      <td>-24.997901</td>\n      <td>131.089241</td>\n      <td>BSh</td>\n      <td>2016</td>\n      <td>4</td>\n      <td>25</td>\n      <td>Sec</td>\n      <td>desert</td>\n      <td>S</td>\n      <td>19.2</td>\n    </tr>\n    <tr>\n      <th>145034</th>\n      <td>2016-04-26</td>\n      <td>Uluru</td>\n      <td>11.0</td>\n      <td>32.5</td>\n      <td>0.0</td>\n      <td>8.0</td>\n      <td>11.0</td>\n      <td>N</td>\n      <td>33.0</td>\n      <td>E</td>\n      <td>...</td>\n      <td>-24.997901</td>\n      <td>131.089241</td>\n      <td>BSh</td>\n      <td>2016</td>\n      <td>4</td>\n      <td>26</td>\n      <td>Sec</td>\n      <td>desert</td>\n      <td>S</td>\n      <td>21.5</td>\n    </tr>\n  </tbody>\n</table>\n<p>96158 rows × 33 columns</p>\n</div>"
     },
     "execution_count": 10,
     "metadata": {},
     "output_type": "execute_result"
    }
   ],
   "source": [
    "df_dataviz"
   ],
   "metadata": {
    "collapsed": false
   }
  },
  {
   "cell_type": "code",
   "execution_count": 17,
   "outputs": [],
   "source": [
    "date_du_jour = pd.to_datetime('2015-04-15')"
   ],
   "metadata": {
    "collapsed": false
   }
  },
  {
   "cell_type": "code",
   "execution_count": 23,
   "outputs": [
    {
     "data": {
      "text/plain": "             date           location  mintemp  maxtemp  rainfall  evaporation  \\\n2237   2015-04-15             Albury     12.7     24.2       3.0          4.0   \n11264  2015-04-15      Coffs Harbour     15.3     25.6       0.0          3.0   \n14273  2015-04-15              Moree     16.6     28.9       0.0          6.0   \n20316  2015-04-15         Norah Head     16.2     25.7       0.0          5.0   \n23325  2015-04-15     Norfolk Island     17.8     22.4       0.4          4.2   \n32717  2015-04-15             Sydney     15.0     24.2       0.0          5.0   \n35726  2015-04-15     Sydney Airport     15.2     26.7       0.0          5.0   \n38735  2015-04-15        Wagga Wagga     14.3     25.1       0.0          4.0   \n41744  2015-04-15        Williamtown      9.3     27.3       0.0          3.0   \n48220  2015-04-15           Canberra      7.0     21.9       0.0          4.4   \n51259  2015-04-15        Tuggeranong      7.7     19.7       0.0          4.4   \n57339  2015-04-15           Ballarat     13.3     24.3       1.2          4.4   \n60379  2015-04-15            Bendigo     13.6     27.3       4.2          4.4   \n66397  2015-04-15  Melbourne Airport     15.2     27.3       1.8          4.4   \n72599  2015-04-15            Mildura     16.7     31.2       0.0          6.6   \n77186  2015-04-15           Portland     11.9     19.2       0.0          3.6   \n80195  2015-04-15           Watsonia     12.7     28.6       2.0          4.4   \n86397  2015-04-15           Brisbane     17.7     26.3       0.0          4.8   \n89437  2015-04-15             Cairns     22.5     30.2      11.8          5.4   \n92477  2015-04-15         Gold Coast     18.3     27.4       0.0          4.8   \n95517  2015-04-15         Townsville     22.8     31.3       0.8         10.2   \n101750 2015-04-15      Mount Gambier     11.7     20.7       0.6          3.6   \n104759 2015-04-15          Nuriootpa      9.7     22.1       0.2          6.6   \n107768 2015-04-15            Woomera     17.8     30.4       0.0         11.4   \n116826 2015-04-15        Pearce RAAF     13.0     23.6       0.0          4.0   \n119835 2015-04-15      Perth Airport     12.3     23.2       0.0          4.0   \n123028 2015-04-15              Perth     12.5     22.8       0.2          4.0   \n138308 2015-04-15      Alice Springs     16.6     38.3       0.0          8.8   \n141501 2015-04-15             Darwin     25.2     33.0       0.0          5.2   \n143079 2015-04-15          Katherine     23.5     35.8       0.0          5.6   \n144657 2015-04-15              Uluru     19.7     37.8       0.0          8.8   \n\n        sunshine windgustdir  windgustspeed winddir9am  ...   latitude  \\\n2237         5.4         ENE           39.0        ENE  ... -36.065766   \n11264       10.2          NE           31.0        NNW  ... -30.234976   \n14273       10.9           E           35.0        NNE  ... -29.447084   \n20316        8.7         NNW           52.0          N  ... -33.275517   \n23325        5.3           S           35.0        SSE  ... -28.945667   \n32717        8.7           W           46.0          W  ... -33.758057   \n35726        8.7           W           46.0         NW  ... -33.947598   \n38735        5.4         SSW           41.0        ENE  ... -34.536641   \n41744       10.2          SW           39.0         NW  ... -32.188655   \n48220        9.3           W           26.0        NNW  ... -35.137242   \n51259        9.3         ESE           19.0          S  ... -35.365911   \n57339        9.3         NNE           50.0        NNE  ... -37.557344   \n60379        9.3          NE           35.0          E  ... -36.743960   \n66397        9.3           N           70.0         NE  ... -37.667395   \n72599       10.7          SW           31.0         NW  ... -34.174752   \n77186        4.9           W           46.0         NW  ... -38.325878   \n80195        9.3         NNW           43.0        ENE  ... -37.702134   \n86397        8.3           E           24.0        SSW  ... -27.143594   \n89437        6.7         ESE           50.0          S  ... -16.595325   \n92477        8.3          SE           26.0          S  ... -28.000754   \n95517        8.6         ENE           52.0         SE  ... -19.252159   \n101750       4.9           W           39.0         NW  ... -37.748928   \n104759       8.5         SSW           35.0         SW  ... -34.419765   \n107768       7.7         SSE           39.0        SSE  ... -31.107934   \n116826      10.4           E           41.0        ESE  ... -31.657975   \n119835      10.4         ESE           41.0        ESE  ... -31.938420   \n123028      10.4          SE           28.0          E  ... -31.926704   \n138308      10.9         NNW           35.0         NW  ... -23.215601   \n141501       9.8           E           31.0          E  ... -12.457743   \n143079       9.8           E           35.0        ESE  ... -14.146696   \n144657      10.9         ESE           33.0         SE  ... -24.997901   \n\n         longitude  climat_koppen  year  month  day         climat  \\\n2237    146.910315            Cfa  2015      4   15   Chaud humide   \n11264   153.099084            Cfa  2015      4   15   Chaud humide   \n14273   149.839583            Cfa  2015      4   15   Chaud humide   \n20316   151.566867            Cfa  2015      4   15   Chaud humide   \n23325   167.978584            Cfa  2015      4   15   Chaud humide   \n32717   151.149932            Cfa  2015      4   15   Chaud humide   \n35726   151.182616            Cfa  2015      4   15   Chaud humide   \n38735   147.104610            Cfa  2015      4   15   Chaud humide   \n41744   151.835389            Cfa  2015      4   15   Chaud humide   \n48220   149.103799            Cfb  2015      4   15  Tempéré froid   \n51259   149.097905            Cfb  2015      4   15  Tempéré froid   \n57339   143.848612            Cfb  2015      4   15  Tempéré froid   \n60379   144.283881            Cfb  2015      4   15  Tempéré froid   \n66397   144.842445            Cfb  2015      4   15  Tempéré froid   \n72599   142.131703            BSk  2015      4   15            Sec   \n77186   141.609076            Csb  2015      4   15  Méditerranéen   \n80195   145.082684            Cfb  2015      4   15  Tempéré froid   \n86397   153.073873            Cfa  2015      4   15   Chaud humide   \n89437   145.892939             Am  2015      4   15   Chaud humide   \n92477   153.398281            Cfa  2015      4   15   Chaud humide   \n95517   146.816811             Aw  2015      4   15   Chaud humide   \n101750  140.781227            Csb  2015      4   15  Méditerranéen   \n104759  138.994959            BSk  2015      4   15            Sec   \n107768  136.820112            Bwh  2015      4   15            Sec   \n116826  116.024068            Csb  2015      4   15  Méditerranéen   \n119835  115.967281            Csb  2015      4   15  Méditerranéen   \n123028  115.859677            Csb  2015      4   15  Méditerranéen   \n138308  134.315030            BSh  2015      4   15            Sec   \n141501  130.844040             Aw  2015      4   15   Chaud humide   \n143079  132.333749             Aw  2015      4   15   Chaud humide   \n144657  131.089241            BSh  2015      4   15            Sec   \n\n          geography  position  temp_amplitude  \n2237         valley         S            11.5  \n11264       coastal         S            10.3  \n14273        valley         N            12.3  \n20316       coastal         S             9.5  \n23325        island         E             4.6  \n32717       coastal         E             9.2  \n35726       coastal         E            11.5  \n38735        valley         S            10.8  \n41744        valley         S            18.0  \n48220   mountainous         S            14.9  \n51259   mountainous         S            12.0  \n57339        valley         S            11.0  \n60379        valley         S            13.7  \n66397        valley         S            12.1  \n72599        desert         S            14.5  \n77186       coastal         S             7.3  \n80195        valley         S            15.9  \n86397       coastal         E             8.6  \n89437       coastal         E             7.7  \n92477       coastal         E             9.1  \n95517       coastal         E             8.5  \n101750       valley         S             9.0  \n104759       valley         S            12.4  \n107768       desert         S            12.6  \n116826      coastal         W            10.6  \n119835      coastal         W            10.9  \n123028      coastal         W            10.3  \n138308       desert         N            21.7  \n141501      coastal         N             7.8  \n143079       desert         N            12.3  \n144657       desert         S            18.1  \n\n[31 rows x 33 columns]",
      "text/html": "<div>\n<style scoped>\n    .dataframe tbody tr th:only-of-type {\n        vertical-align: middle;\n    }\n\n    .dataframe tbody tr th {\n        vertical-align: top;\n    }\n\n    .dataframe thead th {\n        text-align: right;\n    }\n</style>\n<table border=\"1\" class=\"dataframe\">\n  <thead>\n    <tr style=\"text-align: right;\">\n      <th></th>\n      <th>date</th>\n      <th>location</th>\n      <th>mintemp</th>\n      <th>maxtemp</th>\n      <th>rainfall</th>\n      <th>evaporation</th>\n      <th>sunshine</th>\n      <th>windgustdir</th>\n      <th>windgustspeed</th>\n      <th>winddir9am</th>\n      <th>...</th>\n      <th>latitude</th>\n      <th>longitude</th>\n      <th>climat_koppen</th>\n      <th>year</th>\n      <th>month</th>\n      <th>day</th>\n      <th>climat</th>\n      <th>geography</th>\n      <th>position</th>\n      <th>temp_amplitude</th>\n    </tr>\n  </thead>\n  <tbody>\n    <tr>\n      <th>2237</th>\n      <td>2015-04-15</td>\n      <td>Albury</td>\n      <td>12.7</td>\n      <td>24.2</td>\n      <td>3.0</td>\n      <td>4.0</td>\n      <td>5.4</td>\n      <td>ENE</td>\n      <td>39.0</td>\n      <td>ENE</td>\n      <td>...</td>\n      <td>-36.065766</td>\n      <td>146.910315</td>\n      <td>Cfa</td>\n      <td>2015</td>\n      <td>4</td>\n      <td>15</td>\n      <td>Chaud humide</td>\n      <td>valley</td>\n      <td>S</td>\n      <td>11.5</td>\n    </tr>\n    <tr>\n      <th>11264</th>\n      <td>2015-04-15</td>\n      <td>Coffs Harbour</td>\n      <td>15.3</td>\n      <td>25.6</td>\n      <td>0.0</td>\n      <td>3.0</td>\n      <td>10.2</td>\n      <td>NE</td>\n      <td>31.0</td>\n      <td>NNW</td>\n      <td>...</td>\n      <td>-30.234976</td>\n      <td>153.099084</td>\n      <td>Cfa</td>\n      <td>2015</td>\n      <td>4</td>\n      <td>15</td>\n      <td>Chaud humide</td>\n      <td>coastal</td>\n      <td>S</td>\n      <td>10.3</td>\n    </tr>\n    <tr>\n      <th>14273</th>\n      <td>2015-04-15</td>\n      <td>Moree</td>\n      <td>16.6</td>\n      <td>28.9</td>\n      <td>0.0</td>\n      <td>6.0</td>\n      <td>10.9</td>\n      <td>E</td>\n      <td>35.0</td>\n      <td>NNE</td>\n      <td>...</td>\n      <td>-29.447084</td>\n      <td>149.839583</td>\n      <td>Cfa</td>\n      <td>2015</td>\n      <td>4</td>\n      <td>15</td>\n      <td>Chaud humide</td>\n      <td>valley</td>\n      <td>N</td>\n      <td>12.3</td>\n    </tr>\n    <tr>\n      <th>20316</th>\n      <td>2015-04-15</td>\n      <td>Norah Head</td>\n      <td>16.2</td>\n      <td>25.7</td>\n      <td>0.0</td>\n      <td>5.0</td>\n      <td>8.7</td>\n      <td>NNW</td>\n      <td>52.0</td>\n      <td>N</td>\n      <td>...</td>\n      <td>-33.275517</td>\n      <td>151.566867</td>\n      <td>Cfa</td>\n      <td>2015</td>\n      <td>4</td>\n      <td>15</td>\n      <td>Chaud humide</td>\n      <td>coastal</td>\n      <td>S</td>\n      <td>9.5</td>\n    </tr>\n    <tr>\n      <th>23325</th>\n      <td>2015-04-15</td>\n      <td>Norfolk Island</td>\n      <td>17.8</td>\n      <td>22.4</td>\n      <td>0.4</td>\n      <td>4.2</td>\n      <td>5.3</td>\n      <td>S</td>\n      <td>35.0</td>\n      <td>SSE</td>\n      <td>...</td>\n      <td>-28.945667</td>\n      <td>167.978584</td>\n      <td>Cfa</td>\n      <td>2015</td>\n      <td>4</td>\n      <td>15</td>\n      <td>Chaud humide</td>\n      <td>island</td>\n      <td>E</td>\n      <td>4.6</td>\n    </tr>\n    <tr>\n      <th>32717</th>\n      <td>2015-04-15</td>\n      <td>Sydney</td>\n      <td>15.0</td>\n      <td>24.2</td>\n      <td>0.0</td>\n      <td>5.0</td>\n      <td>8.7</td>\n      <td>W</td>\n      <td>46.0</td>\n      <td>W</td>\n      <td>...</td>\n      <td>-33.758057</td>\n      <td>151.149932</td>\n      <td>Cfa</td>\n      <td>2015</td>\n      <td>4</td>\n      <td>15</td>\n      <td>Chaud humide</td>\n      <td>coastal</td>\n      <td>E</td>\n      <td>9.2</td>\n    </tr>\n    <tr>\n      <th>35726</th>\n      <td>2015-04-15</td>\n      <td>Sydney Airport</td>\n      <td>15.2</td>\n      <td>26.7</td>\n      <td>0.0</td>\n      <td>5.0</td>\n      <td>8.7</td>\n      <td>W</td>\n      <td>46.0</td>\n      <td>NW</td>\n      <td>...</td>\n      <td>-33.947598</td>\n      <td>151.182616</td>\n      <td>Cfa</td>\n      <td>2015</td>\n      <td>4</td>\n      <td>15</td>\n      <td>Chaud humide</td>\n      <td>coastal</td>\n      <td>E</td>\n      <td>11.5</td>\n    </tr>\n    <tr>\n      <th>38735</th>\n      <td>2015-04-15</td>\n      <td>Wagga Wagga</td>\n      <td>14.3</td>\n      <td>25.1</td>\n      <td>0.0</td>\n      <td>4.0</td>\n      <td>5.4</td>\n      <td>SSW</td>\n      <td>41.0</td>\n      <td>ENE</td>\n      <td>...</td>\n      <td>-34.536641</td>\n      <td>147.104610</td>\n      <td>Cfa</td>\n      <td>2015</td>\n      <td>4</td>\n      <td>15</td>\n      <td>Chaud humide</td>\n      <td>valley</td>\n      <td>S</td>\n      <td>10.8</td>\n    </tr>\n    <tr>\n      <th>41744</th>\n      <td>2015-04-15</td>\n      <td>Williamtown</td>\n      <td>9.3</td>\n      <td>27.3</td>\n      <td>0.0</td>\n      <td>3.0</td>\n      <td>10.2</td>\n      <td>SW</td>\n      <td>39.0</td>\n      <td>NW</td>\n      <td>...</td>\n      <td>-32.188655</td>\n      <td>151.835389</td>\n      <td>Cfa</td>\n      <td>2015</td>\n      <td>4</td>\n      <td>15</td>\n      <td>Chaud humide</td>\n      <td>valley</td>\n      <td>S</td>\n      <td>18.0</td>\n    </tr>\n    <tr>\n      <th>48220</th>\n      <td>2015-04-15</td>\n      <td>Canberra</td>\n      <td>7.0</td>\n      <td>21.9</td>\n      <td>0.0</td>\n      <td>4.4</td>\n      <td>9.3</td>\n      <td>W</td>\n      <td>26.0</td>\n      <td>NNW</td>\n      <td>...</td>\n      <td>-35.137242</td>\n      <td>149.103799</td>\n      <td>Cfb</td>\n      <td>2015</td>\n      <td>4</td>\n      <td>15</td>\n      <td>Tempéré froid</td>\n      <td>mountainous</td>\n      <td>S</td>\n      <td>14.9</td>\n    </tr>\n    <tr>\n      <th>51259</th>\n      <td>2015-04-15</td>\n      <td>Tuggeranong</td>\n      <td>7.7</td>\n      <td>19.7</td>\n      <td>0.0</td>\n      <td>4.4</td>\n      <td>9.3</td>\n      <td>ESE</td>\n      <td>19.0</td>\n      <td>S</td>\n      <td>...</td>\n      <td>-35.365911</td>\n      <td>149.097905</td>\n      <td>Cfb</td>\n      <td>2015</td>\n      <td>4</td>\n      <td>15</td>\n      <td>Tempéré froid</td>\n      <td>mountainous</td>\n      <td>S</td>\n      <td>12.0</td>\n    </tr>\n    <tr>\n      <th>57339</th>\n      <td>2015-04-15</td>\n      <td>Ballarat</td>\n      <td>13.3</td>\n      <td>24.3</td>\n      <td>1.2</td>\n      <td>4.4</td>\n      <td>9.3</td>\n      <td>NNE</td>\n      <td>50.0</td>\n      <td>NNE</td>\n      <td>...</td>\n      <td>-37.557344</td>\n      <td>143.848612</td>\n      <td>Cfb</td>\n      <td>2015</td>\n      <td>4</td>\n      <td>15</td>\n      <td>Tempéré froid</td>\n      <td>valley</td>\n      <td>S</td>\n      <td>11.0</td>\n    </tr>\n    <tr>\n      <th>60379</th>\n      <td>2015-04-15</td>\n      <td>Bendigo</td>\n      <td>13.6</td>\n      <td>27.3</td>\n      <td>4.2</td>\n      <td>4.4</td>\n      <td>9.3</td>\n      <td>NE</td>\n      <td>35.0</td>\n      <td>E</td>\n      <td>...</td>\n      <td>-36.743960</td>\n      <td>144.283881</td>\n      <td>Cfb</td>\n      <td>2015</td>\n      <td>4</td>\n      <td>15</td>\n      <td>Tempéré froid</td>\n      <td>valley</td>\n      <td>S</td>\n      <td>13.7</td>\n    </tr>\n    <tr>\n      <th>66397</th>\n      <td>2015-04-15</td>\n      <td>Melbourne Airport</td>\n      <td>15.2</td>\n      <td>27.3</td>\n      <td>1.8</td>\n      <td>4.4</td>\n      <td>9.3</td>\n      <td>N</td>\n      <td>70.0</td>\n      <td>NE</td>\n      <td>...</td>\n      <td>-37.667395</td>\n      <td>144.842445</td>\n      <td>Cfb</td>\n      <td>2015</td>\n      <td>4</td>\n      <td>15</td>\n      <td>Tempéré froid</td>\n      <td>valley</td>\n      <td>S</td>\n      <td>12.1</td>\n    </tr>\n    <tr>\n      <th>72599</th>\n      <td>2015-04-15</td>\n      <td>Mildura</td>\n      <td>16.7</td>\n      <td>31.2</td>\n      <td>0.0</td>\n      <td>6.6</td>\n      <td>10.7</td>\n      <td>SW</td>\n      <td>31.0</td>\n      <td>NW</td>\n      <td>...</td>\n      <td>-34.174752</td>\n      <td>142.131703</td>\n      <td>BSk</td>\n      <td>2015</td>\n      <td>4</td>\n      <td>15</td>\n      <td>Sec</td>\n      <td>desert</td>\n      <td>S</td>\n      <td>14.5</td>\n    </tr>\n    <tr>\n      <th>77186</th>\n      <td>2015-04-15</td>\n      <td>Portland</td>\n      <td>11.9</td>\n      <td>19.2</td>\n      <td>0.0</td>\n      <td>3.6</td>\n      <td>4.9</td>\n      <td>W</td>\n      <td>46.0</td>\n      <td>NW</td>\n      <td>...</td>\n      <td>-38.325878</td>\n      <td>141.609076</td>\n      <td>Csb</td>\n      <td>2015</td>\n      <td>4</td>\n      <td>15</td>\n      <td>Méditerranéen</td>\n      <td>coastal</td>\n      <td>S</td>\n      <td>7.3</td>\n    </tr>\n    <tr>\n      <th>80195</th>\n      <td>2015-04-15</td>\n      <td>Watsonia</td>\n      <td>12.7</td>\n      <td>28.6</td>\n      <td>2.0</td>\n      <td>4.4</td>\n      <td>9.3</td>\n      <td>NNW</td>\n      <td>43.0</td>\n      <td>ENE</td>\n      <td>...</td>\n      <td>-37.702134</td>\n      <td>145.082684</td>\n      <td>Cfb</td>\n      <td>2015</td>\n      <td>4</td>\n      <td>15</td>\n      <td>Tempéré froid</td>\n      <td>valley</td>\n      <td>S</td>\n      <td>15.9</td>\n    </tr>\n    <tr>\n      <th>86397</th>\n      <td>2015-04-15</td>\n      <td>Brisbane</td>\n      <td>17.7</td>\n      <td>26.3</td>\n      <td>0.0</td>\n      <td>4.8</td>\n      <td>8.3</td>\n      <td>E</td>\n      <td>24.0</td>\n      <td>SSW</td>\n      <td>...</td>\n      <td>-27.143594</td>\n      <td>153.073873</td>\n      <td>Cfa</td>\n      <td>2015</td>\n      <td>4</td>\n      <td>15</td>\n      <td>Chaud humide</td>\n      <td>coastal</td>\n      <td>E</td>\n      <td>8.6</td>\n    </tr>\n    <tr>\n      <th>89437</th>\n      <td>2015-04-15</td>\n      <td>Cairns</td>\n      <td>22.5</td>\n      <td>30.2</td>\n      <td>11.8</td>\n      <td>5.4</td>\n      <td>6.7</td>\n      <td>ESE</td>\n      <td>50.0</td>\n      <td>S</td>\n      <td>...</td>\n      <td>-16.595325</td>\n      <td>145.892939</td>\n      <td>Am</td>\n      <td>2015</td>\n      <td>4</td>\n      <td>15</td>\n      <td>Chaud humide</td>\n      <td>coastal</td>\n      <td>E</td>\n      <td>7.7</td>\n    </tr>\n    <tr>\n      <th>92477</th>\n      <td>2015-04-15</td>\n      <td>Gold Coast</td>\n      <td>18.3</td>\n      <td>27.4</td>\n      <td>0.0</td>\n      <td>4.8</td>\n      <td>8.3</td>\n      <td>SE</td>\n      <td>26.0</td>\n      <td>S</td>\n      <td>...</td>\n      <td>-28.000754</td>\n      <td>153.398281</td>\n      <td>Cfa</td>\n      <td>2015</td>\n      <td>4</td>\n      <td>15</td>\n      <td>Chaud humide</td>\n      <td>coastal</td>\n      <td>E</td>\n      <td>9.1</td>\n    </tr>\n    <tr>\n      <th>95517</th>\n      <td>2015-04-15</td>\n      <td>Townsville</td>\n      <td>22.8</td>\n      <td>31.3</td>\n      <td>0.8</td>\n      <td>10.2</td>\n      <td>8.6</td>\n      <td>ENE</td>\n      <td>52.0</td>\n      <td>SE</td>\n      <td>...</td>\n      <td>-19.252159</td>\n      <td>146.816811</td>\n      <td>Aw</td>\n      <td>2015</td>\n      <td>4</td>\n      <td>15</td>\n      <td>Chaud humide</td>\n      <td>coastal</td>\n      <td>E</td>\n      <td>8.5</td>\n    </tr>\n    <tr>\n      <th>101750</th>\n      <td>2015-04-15</td>\n      <td>Mount Gambier</td>\n      <td>11.7</td>\n      <td>20.7</td>\n      <td>0.6</td>\n      <td>3.6</td>\n      <td>4.9</td>\n      <td>W</td>\n      <td>39.0</td>\n      <td>NW</td>\n      <td>...</td>\n      <td>-37.748928</td>\n      <td>140.781227</td>\n      <td>Csb</td>\n      <td>2015</td>\n      <td>4</td>\n      <td>15</td>\n      <td>Méditerranéen</td>\n      <td>valley</td>\n      <td>S</td>\n      <td>9.0</td>\n    </tr>\n    <tr>\n      <th>104759</th>\n      <td>2015-04-15</td>\n      <td>Nuriootpa</td>\n      <td>9.7</td>\n      <td>22.1</td>\n      <td>0.2</td>\n      <td>6.6</td>\n      <td>8.5</td>\n      <td>SSW</td>\n      <td>35.0</td>\n      <td>SW</td>\n      <td>...</td>\n      <td>-34.419765</td>\n      <td>138.994959</td>\n      <td>BSk</td>\n      <td>2015</td>\n      <td>4</td>\n      <td>15</td>\n      <td>Sec</td>\n      <td>valley</td>\n      <td>S</td>\n      <td>12.4</td>\n    </tr>\n    <tr>\n      <th>107768</th>\n      <td>2015-04-15</td>\n      <td>Woomera</td>\n      <td>17.8</td>\n      <td>30.4</td>\n      <td>0.0</td>\n      <td>11.4</td>\n      <td>7.7</td>\n      <td>SSE</td>\n      <td>39.0</td>\n      <td>SSE</td>\n      <td>...</td>\n      <td>-31.107934</td>\n      <td>136.820112</td>\n      <td>Bwh</td>\n      <td>2015</td>\n      <td>4</td>\n      <td>15</td>\n      <td>Sec</td>\n      <td>desert</td>\n      <td>S</td>\n      <td>12.6</td>\n    </tr>\n    <tr>\n      <th>116826</th>\n      <td>2015-04-15</td>\n      <td>Pearce RAAF</td>\n      <td>13.0</td>\n      <td>23.6</td>\n      <td>0.0</td>\n      <td>4.0</td>\n      <td>10.4</td>\n      <td>E</td>\n      <td>41.0</td>\n      <td>ESE</td>\n      <td>...</td>\n      <td>-31.657975</td>\n      <td>116.024068</td>\n      <td>Csb</td>\n      <td>2015</td>\n      <td>4</td>\n      <td>15</td>\n      <td>Méditerranéen</td>\n      <td>coastal</td>\n      <td>W</td>\n      <td>10.6</td>\n    </tr>\n    <tr>\n      <th>119835</th>\n      <td>2015-04-15</td>\n      <td>Perth Airport</td>\n      <td>12.3</td>\n      <td>23.2</td>\n      <td>0.0</td>\n      <td>4.0</td>\n      <td>10.4</td>\n      <td>ESE</td>\n      <td>41.0</td>\n      <td>ESE</td>\n      <td>...</td>\n      <td>-31.938420</td>\n      <td>115.967281</td>\n      <td>Csb</td>\n      <td>2015</td>\n      <td>4</td>\n      <td>15</td>\n      <td>Méditerranéen</td>\n      <td>coastal</td>\n      <td>W</td>\n      <td>10.9</td>\n    </tr>\n    <tr>\n      <th>123028</th>\n      <td>2015-04-15</td>\n      <td>Perth</td>\n      <td>12.5</td>\n      <td>22.8</td>\n      <td>0.2</td>\n      <td>4.0</td>\n      <td>10.4</td>\n      <td>SE</td>\n      <td>28.0</td>\n      <td>E</td>\n      <td>...</td>\n      <td>-31.926704</td>\n      <td>115.859677</td>\n      <td>Csb</td>\n      <td>2015</td>\n      <td>4</td>\n      <td>15</td>\n      <td>Méditerranéen</td>\n      <td>coastal</td>\n      <td>W</td>\n      <td>10.3</td>\n    </tr>\n    <tr>\n      <th>138308</th>\n      <td>2015-04-15</td>\n      <td>Alice Springs</td>\n      <td>16.6</td>\n      <td>38.3</td>\n      <td>0.0</td>\n      <td>8.8</td>\n      <td>10.9</td>\n      <td>NNW</td>\n      <td>35.0</td>\n      <td>NW</td>\n      <td>...</td>\n      <td>-23.215601</td>\n      <td>134.315030</td>\n      <td>BSh</td>\n      <td>2015</td>\n      <td>4</td>\n      <td>15</td>\n      <td>Sec</td>\n      <td>desert</td>\n      <td>N</td>\n      <td>21.7</td>\n    </tr>\n    <tr>\n      <th>141501</th>\n      <td>2015-04-15</td>\n      <td>Darwin</td>\n      <td>25.2</td>\n      <td>33.0</td>\n      <td>0.0</td>\n      <td>5.2</td>\n      <td>9.8</td>\n      <td>E</td>\n      <td>31.0</td>\n      <td>E</td>\n      <td>...</td>\n      <td>-12.457743</td>\n      <td>130.844040</td>\n      <td>Aw</td>\n      <td>2015</td>\n      <td>4</td>\n      <td>15</td>\n      <td>Chaud humide</td>\n      <td>coastal</td>\n      <td>N</td>\n      <td>7.8</td>\n    </tr>\n    <tr>\n      <th>143079</th>\n      <td>2015-04-15</td>\n      <td>Katherine</td>\n      <td>23.5</td>\n      <td>35.8</td>\n      <td>0.0</td>\n      <td>5.6</td>\n      <td>9.8</td>\n      <td>E</td>\n      <td>35.0</td>\n      <td>ESE</td>\n      <td>...</td>\n      <td>-14.146696</td>\n      <td>132.333749</td>\n      <td>Aw</td>\n      <td>2015</td>\n      <td>4</td>\n      <td>15</td>\n      <td>Chaud humide</td>\n      <td>desert</td>\n      <td>N</td>\n      <td>12.3</td>\n    </tr>\n    <tr>\n      <th>144657</th>\n      <td>2015-04-15</td>\n      <td>Uluru</td>\n      <td>19.7</td>\n      <td>37.8</td>\n      <td>0.0</td>\n      <td>8.8</td>\n      <td>10.9</td>\n      <td>ESE</td>\n      <td>33.0</td>\n      <td>SE</td>\n      <td>...</td>\n      <td>-24.997901</td>\n      <td>131.089241</td>\n      <td>BSh</td>\n      <td>2015</td>\n      <td>4</td>\n      <td>15</td>\n      <td>Sec</td>\n      <td>desert</td>\n      <td>S</td>\n      <td>18.1</td>\n    </tr>\n  </tbody>\n</table>\n<p>31 rows × 33 columns</p>\n</div>"
     },
     "execution_count": 23,
     "metadata": {},
     "output_type": "execute_result"
    }
   ],
   "source": [
    "df_dataviz['date'] = pd.to_datetime(df_dataviz['date'])\n",
    "\n",
    "df_selection = df_dataviz[df_dataviz['date'] == date_du_jour]\n",
    "df_selection"
   ],
   "metadata": {
    "collapsed": false
   }
  },
  {
   "cell_type": "code",
   "execution_count": null,
   "outputs": [],
   "source": [],
   "metadata": {
    "collapsed": false
   }
  },
  {
   "cell_type": "code",
   "execution_count": 22,
   "outputs": [
    {
     "data": {
      "text/plain": "WindowsPath('C:/Users/benme/Documents/datascientest/projet/australia_weather_forecasts/webapp/data/data_features_city.csv')"
     },
     "execution_count": 22,
     "metadata": {},
     "output_type": "execute_result"
    }
   ],
   "source": [
    "df_prepared"
   ],
   "metadata": {
    "collapsed": false
   }
  },
  {
   "cell_type": "code",
   "execution_count": 25,
   "outputs": [
    {
     "ename": "KeyError",
     "evalue": "'date'",
     "output_type": "error",
     "traceback": [
      "\u001B[1;31m---------------------------------------------------------------------------\u001B[0m",
      "\u001B[1;31mKeyError\u001B[0m                                  Traceback (most recent call last)",
      "File \u001B[1;32m~\\Documents\\virtualenv\\venv_weatherforecast\\lib\\site-packages\\pandas\\core\\indexes\\base.py:3803\u001B[0m, in \u001B[0;36mIndex.get_loc\u001B[1;34m(self, key, method, tolerance)\u001B[0m\n\u001B[0;32m   3802\u001B[0m \u001B[38;5;28;01mtry\u001B[39;00m:\n\u001B[1;32m-> 3803\u001B[0m     \u001B[38;5;28;01mreturn\u001B[39;00m \u001B[38;5;28;43mself\u001B[39;49m\u001B[38;5;241;43m.\u001B[39;49m\u001B[43m_engine\u001B[49m\u001B[38;5;241;43m.\u001B[39;49m\u001B[43mget_loc\u001B[49m\u001B[43m(\u001B[49m\u001B[43mcasted_key\u001B[49m\u001B[43m)\u001B[49m\n\u001B[0;32m   3804\u001B[0m \u001B[38;5;28;01mexcept\u001B[39;00m \u001B[38;5;167;01mKeyError\u001B[39;00m \u001B[38;5;28;01mas\u001B[39;00m err:\n",
      "File \u001B[1;32m~\\Documents\\virtualenv\\venv_weatherforecast\\lib\\site-packages\\pandas\\_libs\\index.pyx:138\u001B[0m, in \u001B[0;36mpandas._libs.index.IndexEngine.get_loc\u001B[1;34m()\u001B[0m\n",
      "File \u001B[1;32m~\\Documents\\virtualenv\\venv_weatherforecast\\lib\\site-packages\\pandas\\_libs\\index.pyx:165\u001B[0m, in \u001B[0;36mpandas._libs.index.IndexEngine.get_loc\u001B[1;34m()\u001B[0m\n",
      "File \u001B[1;32mpandas\\_libs\\hashtable_class_helper.pxi:5745\u001B[0m, in \u001B[0;36mpandas._libs.hashtable.PyObjectHashTable.get_item\u001B[1;34m()\u001B[0m\n",
      "File \u001B[1;32mpandas\\_libs\\hashtable_class_helper.pxi:5753\u001B[0m, in \u001B[0;36mpandas._libs.hashtable.PyObjectHashTable.get_item\u001B[1;34m()\u001B[0m\n",
      "\u001B[1;31mKeyError\u001B[0m: 'date'",
      "\nThe above exception was the direct cause of the following exception:\n",
      "\u001B[1;31mKeyError\u001B[0m                                  Traceback (most recent call last)",
      "Cell \u001B[1;32mIn[25], line 2\u001B[0m\n\u001B[0;32m      1\u001B[0m df_prepared \u001B[38;5;241m=\u001B[39m pd\u001B[38;5;241m.\u001B[39mread_csv(df_prepared, index_col\u001B[38;5;241m=\u001B[39m\u001B[38;5;241m0\u001B[39m)\n\u001B[1;32m----> 2\u001B[0m df_prepared[\u001B[38;5;124m'\u001B[39m\u001B[38;5;124mdate\u001B[39m\u001B[38;5;124m'\u001B[39m] \u001B[38;5;241m=\u001B[39m pd\u001B[38;5;241m.\u001B[39mto_datetime(\u001B[43mdf_prepared\u001B[49m\u001B[43m[\u001B[49m\u001B[38;5;124;43m'\u001B[39;49m\u001B[38;5;124;43mdate\u001B[39;49m\u001B[38;5;124;43m'\u001B[39;49m\u001B[43m]\u001B[49m)\n\u001B[0;32m      4\u001B[0m df_selection_df_prepared \u001B[38;5;241m=\u001B[39m df_prepared[df_prepared[\u001B[38;5;124m'\u001B[39m\u001B[38;5;124mdate\u001B[39m\u001B[38;5;124m'\u001B[39m] \u001B[38;5;241m==\u001B[39m date_du_jour]\n\u001B[0;32m      5\u001B[0m df_selection_df_prepared\n",
      "File \u001B[1;32m~\\Documents\\virtualenv\\venv_weatherforecast\\lib\\site-packages\\pandas\\core\\frame.py:3805\u001B[0m, in \u001B[0;36mDataFrame.__getitem__\u001B[1;34m(self, key)\u001B[0m\n\u001B[0;32m   3803\u001B[0m \u001B[38;5;28;01mif\u001B[39;00m \u001B[38;5;28mself\u001B[39m\u001B[38;5;241m.\u001B[39mcolumns\u001B[38;5;241m.\u001B[39mnlevels \u001B[38;5;241m>\u001B[39m \u001B[38;5;241m1\u001B[39m:\n\u001B[0;32m   3804\u001B[0m     \u001B[38;5;28;01mreturn\u001B[39;00m \u001B[38;5;28mself\u001B[39m\u001B[38;5;241m.\u001B[39m_getitem_multilevel(key)\n\u001B[1;32m-> 3805\u001B[0m indexer \u001B[38;5;241m=\u001B[39m \u001B[38;5;28;43mself\u001B[39;49m\u001B[38;5;241;43m.\u001B[39;49m\u001B[43mcolumns\u001B[49m\u001B[38;5;241;43m.\u001B[39;49m\u001B[43mget_loc\u001B[49m\u001B[43m(\u001B[49m\u001B[43mkey\u001B[49m\u001B[43m)\u001B[49m\n\u001B[0;32m   3806\u001B[0m \u001B[38;5;28;01mif\u001B[39;00m is_integer(indexer):\n\u001B[0;32m   3807\u001B[0m     indexer \u001B[38;5;241m=\u001B[39m [indexer]\n",
      "File \u001B[1;32m~\\Documents\\virtualenv\\venv_weatherforecast\\lib\\site-packages\\pandas\\core\\indexes\\base.py:3805\u001B[0m, in \u001B[0;36mIndex.get_loc\u001B[1;34m(self, key, method, tolerance)\u001B[0m\n\u001B[0;32m   3803\u001B[0m     \u001B[38;5;28;01mreturn\u001B[39;00m \u001B[38;5;28mself\u001B[39m\u001B[38;5;241m.\u001B[39m_engine\u001B[38;5;241m.\u001B[39mget_loc(casted_key)\n\u001B[0;32m   3804\u001B[0m \u001B[38;5;28;01mexcept\u001B[39;00m \u001B[38;5;167;01mKeyError\u001B[39;00m \u001B[38;5;28;01mas\u001B[39;00m err:\n\u001B[1;32m-> 3805\u001B[0m     \u001B[38;5;28;01mraise\u001B[39;00m \u001B[38;5;167;01mKeyError\u001B[39;00m(key) \u001B[38;5;28;01mfrom\u001B[39;00m \u001B[38;5;21;01merr\u001B[39;00m\n\u001B[0;32m   3806\u001B[0m \u001B[38;5;28;01mexcept\u001B[39;00m \u001B[38;5;167;01mTypeError\u001B[39;00m:\n\u001B[0;32m   3807\u001B[0m     \u001B[38;5;66;03m# If we have a listlike key, _check_indexing_error will raise\u001B[39;00m\n\u001B[0;32m   3808\u001B[0m     \u001B[38;5;66;03m#  InvalidIndexError. Otherwise we fall through and re-raise\u001B[39;00m\n\u001B[0;32m   3809\u001B[0m     \u001B[38;5;66;03m#  the TypeError.\u001B[39;00m\n\u001B[0;32m   3810\u001B[0m     \u001B[38;5;28mself\u001B[39m\u001B[38;5;241m.\u001B[39m_check_indexing_error(key)\n",
      "\u001B[1;31mKeyError\u001B[0m: 'date'"
     ]
    }
   ],
   "source": [
    "df_prepared = pd.read_csv(df_prepared, index_col=0)\n",
    "df_prepared['date'] = pd.to_datetime(df_prepared['date'])\n",
    "\n",
    "df_selection_df_prepared = df_prepared[df_prepared['date'] == date_du_jour]\n",
    "df_selection_df_prepared"
   ],
   "metadata": {
    "collapsed": false
   }
  },
  {
   "cell_type": "code",
   "execution_count": 26,
   "outputs": [
    {
     "data": {
      "text/plain": "       location  evaporation  sunshine  windgustspeed  windspeed9am  \\\n0        Albury          7.6      10.9           44.0          20.0   \n1        Albury         12.0      12.9           44.0           4.0   \n2        Albury          8.0       8.0           46.0          19.0   \n3        Albury         10.0       2.2           24.0          11.0   \n4        Albury          4.8       6.7           41.0           7.0   \n...         ...          ...       ...            ...           ...   \n145027    Uluru          9.6      10.9           31.0           9.0   \n145028    Uluru          8.0       9.9           31.0          17.0   \n145032    Uluru          8.2      11.0           31.0          22.0   \n145033    Uluru          7.8      11.0           30.0          13.0   \n145034    Uluru          8.0      11.0           33.0          11.0   \n\n        windspeed3pm  humidity9am  humidity3pm  pressure3pm  cloud9am  ...  \\\n0               24.0         71.0         22.0       1007.1       8.0  ...   \n1               22.0         44.0         25.0       1007.8       1.0  ...   \n2               26.0         38.0         30.0       1008.7       7.0  ...   \n3                9.0         45.0         16.0       1012.8       8.0  ...   \n4               20.0         82.0         33.0       1006.0       7.0  ...   \n...              ...          ...          ...          ...       ...  ...   \n145027          11.0         30.0         12.0       1010.3       3.0  ...   \n145028          19.0         44.0         24.0       1013.8       8.0  ...   \n145032          19.0         42.0         21.0       1017.9       0.0  ...   \n145033           9.0         28.0         13.0       1017.1       0.0  ...   \n145034          24.0         28.0         12.0       1013.1       0.0  ...   \n\n        climat  geography  position  temp_amplitude  winddir9am_sin  \\\n0            0          0         0             9.5    1.224647e-16   \n1            0          0         0            17.7    9.238795e-01   \n2            0          0         0            12.8    1.224647e-16   \n3            0          0         0            18.8   -7.071068e-01   \n4            0          0         0            14.8    3.826834e-01   \n...        ...        ...       ...             ...             ...   \n145027       1          2         0            21.7    0.000000e+00   \n145028       1          2         0            12.9   -1.000000e+00   \n145032       1          2         0            15.2    3.826834e-01   \n145033       1          2         0            19.2    0.000000e+00   \n145034       1          2         0            21.5    0.000000e+00   \n\n        winddir9am_cos  winddir3pm_sin  winddir3pm_cos  windgustdir_sin  \\\n0        -1.000000e+00    3.826834e-01       -0.923880     1.224647e-16   \n1        -3.826834e-01   -3.826834e-01       -0.923880     3.826834e-01   \n2        -1.000000e+00   -3.826834e-01       -0.923880    -3.826834e-01   \n3         7.071068e-01    0.000000e+00        1.000000     7.071068e-01   \n4         9.238795e-01    7.071068e-01       -0.707107     1.224647e-16   \n...                ...             ...             ...              ...   \n145027    1.000000e+00    1.224647e-16       -1.000000    -3.826834e-01   \n145028   -1.836970e-16    7.071068e-01        0.707107    -9.238795e-01   \n145032    9.238795e-01    0.000000e+00        1.000000     0.000000e+00   \n145033    1.000000e+00    9.238795e-01        0.382683     0.000000e+00   \n145034    1.000000e+00    7.071068e-01       -0.707107     1.000000e+00   \n\n        windgustdir_cos  \n0         -1.000000e+00  \n1         -9.238795e-01  \n2         -9.238795e-01  \n3          7.071068e-01  \n4         -1.000000e+00  \n...                 ...  \n145027    -9.238795e-01  \n145028    -3.826834e-01  \n145032     1.000000e+00  \n145033     1.000000e+00  \n145034     6.123234e-17  \n\n[72707 rows x 28 columns]",
      "text/html": "<div>\n<style scoped>\n    .dataframe tbody tr th:only-of-type {\n        vertical-align: middle;\n    }\n\n    .dataframe tbody tr th {\n        vertical-align: top;\n    }\n\n    .dataframe thead th {\n        text-align: right;\n    }\n</style>\n<table border=\"1\" class=\"dataframe\">\n  <thead>\n    <tr style=\"text-align: right;\">\n      <th></th>\n      <th>location</th>\n      <th>evaporation</th>\n      <th>sunshine</th>\n      <th>windgustspeed</th>\n      <th>windspeed9am</th>\n      <th>windspeed3pm</th>\n      <th>humidity9am</th>\n      <th>humidity3pm</th>\n      <th>pressure3pm</th>\n      <th>cloud9am</th>\n      <th>...</th>\n      <th>climat</th>\n      <th>geography</th>\n      <th>position</th>\n      <th>temp_amplitude</th>\n      <th>winddir9am_sin</th>\n      <th>winddir9am_cos</th>\n      <th>winddir3pm_sin</th>\n      <th>winddir3pm_cos</th>\n      <th>windgustdir_sin</th>\n      <th>windgustdir_cos</th>\n    </tr>\n  </thead>\n  <tbody>\n    <tr>\n      <th>0</th>\n      <td>Albury</td>\n      <td>7.6</td>\n      <td>10.9</td>\n      <td>44.0</td>\n      <td>20.0</td>\n      <td>24.0</td>\n      <td>71.0</td>\n      <td>22.0</td>\n      <td>1007.1</td>\n      <td>8.0</td>\n      <td>...</td>\n      <td>0</td>\n      <td>0</td>\n      <td>0</td>\n      <td>9.5</td>\n      <td>1.224647e-16</td>\n      <td>-1.000000e+00</td>\n      <td>3.826834e-01</td>\n      <td>-0.923880</td>\n      <td>1.224647e-16</td>\n      <td>-1.000000e+00</td>\n    </tr>\n    <tr>\n      <th>1</th>\n      <td>Albury</td>\n      <td>12.0</td>\n      <td>12.9</td>\n      <td>44.0</td>\n      <td>4.0</td>\n      <td>22.0</td>\n      <td>44.0</td>\n      <td>25.0</td>\n      <td>1007.8</td>\n      <td>1.0</td>\n      <td>...</td>\n      <td>0</td>\n      <td>0</td>\n      <td>0</td>\n      <td>17.7</td>\n      <td>9.238795e-01</td>\n      <td>-3.826834e-01</td>\n      <td>-3.826834e-01</td>\n      <td>-0.923880</td>\n      <td>3.826834e-01</td>\n      <td>-9.238795e-01</td>\n    </tr>\n    <tr>\n      <th>2</th>\n      <td>Albury</td>\n      <td>8.0</td>\n      <td>8.0</td>\n      <td>46.0</td>\n      <td>19.0</td>\n      <td>26.0</td>\n      <td>38.0</td>\n      <td>30.0</td>\n      <td>1008.7</td>\n      <td>7.0</td>\n      <td>...</td>\n      <td>0</td>\n      <td>0</td>\n      <td>0</td>\n      <td>12.8</td>\n      <td>1.224647e-16</td>\n      <td>-1.000000e+00</td>\n      <td>-3.826834e-01</td>\n      <td>-0.923880</td>\n      <td>-3.826834e-01</td>\n      <td>-9.238795e-01</td>\n    </tr>\n    <tr>\n      <th>3</th>\n      <td>Albury</td>\n      <td>10.0</td>\n      <td>2.2</td>\n      <td>24.0</td>\n      <td>11.0</td>\n      <td>9.0</td>\n      <td>45.0</td>\n      <td>16.0</td>\n      <td>1012.8</td>\n      <td>8.0</td>\n      <td>...</td>\n      <td>0</td>\n      <td>0</td>\n      <td>0</td>\n      <td>18.8</td>\n      <td>-7.071068e-01</td>\n      <td>7.071068e-01</td>\n      <td>0.000000e+00</td>\n      <td>1.000000</td>\n      <td>7.071068e-01</td>\n      <td>7.071068e-01</td>\n    </tr>\n    <tr>\n      <th>4</th>\n      <td>Albury</td>\n      <td>4.8</td>\n      <td>6.7</td>\n      <td>41.0</td>\n      <td>7.0</td>\n      <td>20.0</td>\n      <td>82.0</td>\n      <td>33.0</td>\n      <td>1006.0</td>\n      <td>7.0</td>\n      <td>...</td>\n      <td>0</td>\n      <td>0</td>\n      <td>0</td>\n      <td>14.8</td>\n      <td>3.826834e-01</td>\n      <td>9.238795e-01</td>\n      <td>7.071068e-01</td>\n      <td>-0.707107</td>\n      <td>1.224647e-16</td>\n      <td>-1.000000e+00</td>\n    </tr>\n    <tr>\n      <th>...</th>\n      <td>...</td>\n      <td>...</td>\n      <td>...</td>\n      <td>...</td>\n      <td>...</td>\n      <td>...</td>\n      <td>...</td>\n      <td>...</td>\n      <td>...</td>\n      <td>...</td>\n      <td>...</td>\n      <td>...</td>\n      <td>...</td>\n      <td>...</td>\n      <td>...</td>\n      <td>...</td>\n      <td>...</td>\n      <td>...</td>\n      <td>...</td>\n      <td>...</td>\n      <td>...</td>\n    </tr>\n    <tr>\n      <th>145027</th>\n      <td>Uluru</td>\n      <td>9.6</td>\n      <td>10.9</td>\n      <td>31.0</td>\n      <td>9.0</td>\n      <td>11.0</td>\n      <td>30.0</td>\n      <td>12.0</td>\n      <td>1010.3</td>\n      <td>3.0</td>\n      <td>...</td>\n      <td>1</td>\n      <td>2</td>\n      <td>0</td>\n      <td>21.7</td>\n      <td>0.000000e+00</td>\n      <td>1.000000e+00</td>\n      <td>1.224647e-16</td>\n      <td>-1.000000</td>\n      <td>-3.826834e-01</td>\n      <td>-9.238795e-01</td>\n    </tr>\n    <tr>\n      <th>145028</th>\n      <td>Uluru</td>\n      <td>8.0</td>\n      <td>9.9</td>\n      <td>31.0</td>\n      <td>17.0</td>\n      <td>19.0</td>\n      <td>44.0</td>\n      <td>24.0</td>\n      <td>1013.8</td>\n      <td>8.0</td>\n      <td>...</td>\n      <td>1</td>\n      <td>2</td>\n      <td>0</td>\n      <td>12.9</td>\n      <td>-1.000000e+00</td>\n      <td>-1.836970e-16</td>\n      <td>7.071068e-01</td>\n      <td>0.707107</td>\n      <td>-9.238795e-01</td>\n      <td>-3.826834e-01</td>\n    </tr>\n    <tr>\n      <th>145032</th>\n      <td>Uluru</td>\n      <td>8.2</td>\n      <td>11.0</td>\n      <td>31.0</td>\n      <td>22.0</td>\n      <td>19.0</td>\n      <td>42.0</td>\n      <td>21.0</td>\n      <td>1017.9</td>\n      <td>0.0</td>\n      <td>...</td>\n      <td>1</td>\n      <td>2</td>\n      <td>0</td>\n      <td>15.2</td>\n      <td>3.826834e-01</td>\n      <td>9.238795e-01</td>\n      <td>0.000000e+00</td>\n      <td>1.000000</td>\n      <td>0.000000e+00</td>\n      <td>1.000000e+00</td>\n    </tr>\n    <tr>\n      <th>145033</th>\n      <td>Uluru</td>\n      <td>7.8</td>\n      <td>11.0</td>\n      <td>30.0</td>\n      <td>13.0</td>\n      <td>9.0</td>\n      <td>28.0</td>\n      <td>13.0</td>\n      <td>1017.1</td>\n      <td>0.0</td>\n      <td>...</td>\n      <td>1</td>\n      <td>2</td>\n      <td>0</td>\n      <td>19.2</td>\n      <td>0.000000e+00</td>\n      <td>1.000000e+00</td>\n      <td>9.238795e-01</td>\n      <td>0.382683</td>\n      <td>0.000000e+00</td>\n      <td>1.000000e+00</td>\n    </tr>\n    <tr>\n      <th>145034</th>\n      <td>Uluru</td>\n      <td>8.0</td>\n      <td>11.0</td>\n      <td>33.0</td>\n      <td>11.0</td>\n      <td>24.0</td>\n      <td>28.0</td>\n      <td>12.0</td>\n      <td>1013.1</td>\n      <td>0.0</td>\n      <td>...</td>\n      <td>1</td>\n      <td>2</td>\n      <td>0</td>\n      <td>21.5</td>\n      <td>0.000000e+00</td>\n      <td>1.000000e+00</td>\n      <td>7.071068e-01</td>\n      <td>-0.707107</td>\n      <td>1.000000e+00</td>\n      <td>6.123234e-17</td>\n    </tr>\n  </tbody>\n</table>\n<p>72707 rows × 28 columns</p>\n</div>"
     },
     "execution_count": 26,
     "metadata": {},
     "output_type": "execute_result"
    }
   ],
   "source": [
    "df_prepared"
   ],
   "metadata": {
    "collapsed": false
   }
  },
  {
   "cell_type": "code",
   "execution_count": 30,
   "outputs": [],
   "source": [
    "import pandas as pd\n",
    "\n",
    "def filter_by_date(df, date_du_jour):\n",
    "    # Convertir les colonnes \"annee\", \"mois\" et \"jour\" en type entier\n",
    "    df['year'] = df['year'].astype(int)\n",
    "    df['month'] = df['month'].astype(int)\n",
    "    df['day'] = df['day'].astype(int)\n",
    "\n",
    "    df['date'] = pd.to_datetime(df[['year', 'month', 'day']])\n",
    "    date_du_jour = pd.to_datetime(date_du_jour)\n",
    "    df_filtered = df[df['date'] == date_du_jour]\n",
    "\n",
    "    return df_filtered\n"
   ],
   "metadata": {
    "collapsed": false
   }
  },
  {
   "cell_type": "code",
   "execution_count": 32,
   "outputs": [
    {
     "data": {
      "text/plain": "                 location  evaporation  sunshine  windgustspeed  windspeed9am  \\\n5288       Badgerys Creek          3.2       8.3           13.0           6.0   \n11306       Coffs Harbour          2.2       5.1           30.0           7.0   \n14315               Moree          1.2       9.0           28.0          17.0   \n20358          Norah Head          3.2       8.3           20.0           4.0   \n23367      Norfolk Island          3.0       4.4           35.0          11.0   \n32759              Sydney          3.2       8.3           26.0          15.0   \n35768      Sydney Airport          3.2       8.3           26.0          15.0   \n38777         Wagga Wagga          0.8       1.1           22.0          15.0   \n41786         Williamtown          2.2       5.1           30.0          20.0   \n48262            Canberra          3.2       6.5           33.0           7.0   \n51301         Tuggeranong          3.2       6.5           30.0           6.0   \n57381            Ballarat          3.2       6.5           43.0          28.0   \n60421             Bendigo          3.2       6.5           24.0           9.0   \n66439   Melbourne Airport          3.2       6.5           61.0          30.0   \n72641             Mildura          4.0       8.0           24.0           6.0   \n77228            Portland          1.0       5.5           39.0          20.0   \n80237            Watsonia          3.2       6.5           44.0           7.0   \n89479              Cairns          4.2      10.1           41.0          22.0   \n95559          Townsville          8.0       7.7           43.0          17.0   \n101792      Mount Gambier          1.0       5.5           41.0          20.0   \n104801          Nuriootpa          1.4       9.3           28.0          15.0   \n116868        Pearce RAAF          2.2       7.8           33.0          11.0   \n119877      Perth Airport          2.2       7.8           39.0          11.0   \n123070              Perth          2.2       7.8           31.0           4.0   \n129077            Walpole          2.6       2.3           31.0           7.0   \n132270             Hobart          0.6       4.2           33.0          19.0   \n141543             Darwin          5.2      11.0           44.0          13.0   \n143121          Katherine          7.2      11.0           41.0           9.0   \n144699              Uluru          3.6       7.8           35.0          17.0   \n\n        windspeed3pm  humidity9am  humidity3pm  pressure3pm  cloud9am  ...  \\\n5288             7.0         82.0         50.0       1021.8       6.0  ...   \n11306           19.0         81.0         63.0       1021.8       5.0  ...   \n14315            9.0         80.0         43.0       1022.2       3.0  ...   \n20358            7.0         71.0         61.0       1021.9       6.0  ...   \n23367           17.0         57.0         52.0       1020.7       7.0  ...   \n32759            9.0         69.0         40.0       1021.6       6.0  ...   \n35768           13.0         60.0         38.0       1021.6       6.0  ...   \n38777           11.0         88.0         84.0       1022.5       7.0  ...   \n41786           17.0         77.0         52.0       1022.4       5.0  ...   \n48262           24.0         85.0         61.0       1022.6       8.0  ...   \n51301           19.0         83.0         60.0       1022.5       8.0  ...   \n57381           30.0         94.0         72.0       1018.4       8.0  ...   \n60421            9.0         88.0         63.0       1019.3       7.0  ...   \n66439           37.0         65.0         57.0       1017.9       6.0  ...   \n72641           11.0         81.0         40.0       1019.2       5.0  ...   \n77228           19.0         80.0         90.0       1015.6       7.0  ...   \n80237           20.0         70.0         59.0       1017.9       6.0  ...   \n89479           30.0         76.0         63.0       1015.8       3.0  ...   \n95559           31.0         68.0         57.0       1017.0       7.0  ...   \n101792          20.0         87.0         83.0       1016.0       5.0  ...   \n104801          13.0         73.0         57.0       1019.3       1.0  ...   \n116868          24.0         79.0         48.0       1020.9       4.0  ...   \n119877          26.0         75.0         39.0       1021.1       3.0  ...   \n123070          17.0         82.0         48.0       1021.0       3.0  ...   \n129077          13.0         73.0         71.0       1020.1       8.0  ...   \n132270          13.0         88.0         61.0       1012.5       7.0  ...   \n141543          22.0         73.0         29.0       1010.4       6.0  ...   \n143121          20.0         65.0         31.0       1011.3       0.0  ...   \n144699           9.0         53.0         29.0       1016.5       6.0  ...   \n\n        geography  position  temp_amplitude  winddir9am_sin  winddir9am_cos  \\\n5288            1         1            14.0   -9.238795e-01   -3.826834e-01   \n11306           1         0            13.0    7.071068e-01   -7.071068e-01   \n14315           0         2            14.6    0.000000e+00    1.000000e+00   \n20358           1         0             8.6    3.826834e-01   -9.238795e-01   \n23367           3         1             6.4    3.826834e-01   -9.238795e-01   \n32759           1         1            11.2    1.224647e-16   -1.000000e+00   \n35768           1         1            11.0    7.071068e-01   -7.071068e-01   \n38777           0         0             7.2    0.000000e+00    1.000000e+00   \n41786           0         0             9.9    7.071068e-01   -7.071068e-01   \n48262           4         0            17.1   -3.826834e-01    9.238795e-01   \n51301           4         0            15.9   -9.238795e-01   -3.826834e-01   \n57381           0         0             8.6    9.238795e-01    3.826834e-01   \n60421           0         0            11.2    0.000000e+00    1.000000e+00   \n66439           0         0             8.9    1.000000e+00    6.123234e-17   \n72641           2         0            13.1    9.238795e-01    3.826834e-01   \n77228           1         0            10.5    9.238795e-01   -3.826834e-01   \n80237           0         0            13.7    7.071068e-01    7.071068e-01   \n89479           1         1             7.5   -9.238795e-01    3.826834e-01   \n95559           1         1            10.1   -7.071068e-01    7.071068e-01   \n101792          0         0             9.3    9.238795e-01   -3.826834e-01   \n104801          0         0            11.5    3.826834e-01   -9.238795e-01   \n116868          1         3            13.2   -7.071068e-01    7.071068e-01   \n119877          1         3            12.1    3.826834e-01    9.238795e-01   \n123070          1         3            11.3   -7.071068e-01   -7.071068e-01   \n129077          1         3             7.2    1.224647e-16   -1.000000e+00   \n132270          1         0             9.8    9.238795e-01   -3.826834e-01   \n141543          1         2            11.6    0.000000e+00    1.000000e+00   \n143121          2         2            16.6   -3.826834e-01    9.238795e-01   \n144699          2         0            12.6   -7.071068e-01    7.071068e-01   \n\n        winddir3pm_sin  winddir3pm_cos  windgustdir_sin  windgustdir_cos  \\\n5288      1.000000e+00    6.123234e-17     1.000000e+00     6.123234e-17   \n11306     7.071068e-01    7.071068e-01     7.071068e-01     7.071068e-01   \n14315    -9.238795e-01    3.826834e-01     0.000000e+00     1.000000e+00   \n20358     7.071068e-01   -7.071068e-01     1.224647e-16    -1.000000e+00   \n23367     1.224647e-16   -1.000000e+00    -7.071068e-01    -7.071068e-01   \n32759     3.826834e-01   -9.238795e-01     1.224647e-16    -1.000000e+00   \n35768     1.224647e-16   -1.000000e+00     7.071068e-01    -7.071068e-01   \n38777     0.000000e+00    1.000000e+00     7.071068e-01     7.071068e-01   \n41786     3.826834e-01   -9.238795e-01     7.071068e-01    -7.071068e-01   \n48262     3.826834e-01   -9.238795e-01     3.826834e-01    -9.238795e-01   \n51301     3.826834e-01   -9.238795e-01     1.224647e-16    -1.000000e+00   \n57381     1.000000e+00    6.123234e-17     1.000000e+00     6.123234e-17   \n60421     1.000000e+00    6.123234e-17     9.238795e-01     3.826834e-01   \n66439     1.000000e+00    6.123234e-17     1.000000e+00     6.123234e-17   \n72641     7.071068e-01   -7.071068e-01     7.071068e-01    -7.071068e-01   \n77228     3.826834e-01   -9.238795e-01     7.071068e-01    -7.071068e-01   \n80237     9.238795e-01   -3.826834e-01     9.238795e-01    -3.826834e-01   \n89479    -3.826834e-01    9.238795e-01    -9.238795e-01     3.826834e-01   \n95559     3.826834e-01    9.238795e-01     3.826834e-01     9.238795e-01   \n101792    7.071068e-01   -7.071068e-01     9.238795e-01    -3.826834e-01   \n104801    1.224647e-16   -1.000000e+00     3.826834e-01    -9.238795e-01   \n116868   -1.000000e+00   -1.836970e-16    -1.000000e+00    -1.836970e-16   \n119877   -1.000000e+00   -1.836970e-16    -1.000000e+00    -1.836970e-16   \n123070   -9.238795e-01    3.826834e-01    -9.238795e-01     3.826834e-01   \n129077   -7.071068e-01   -7.071068e-01    -7.071068e-01    -7.071068e-01   \n132270    9.238795e-01   -3.826834e-01     9.238795e-01    -3.826834e-01   \n141543    3.826834e-01    9.238795e-01     0.000000e+00     1.000000e+00   \n143121    0.000000e+00    1.000000e+00    -3.826834e-01     9.238795e-01   \n144699    9.238795e-01    3.826834e-01     0.000000e+00     1.000000e+00   \n\n             date  \n5288   2015-05-27  \n11306  2015-05-27  \n14315  2015-05-27  \n20358  2015-05-27  \n23367  2015-05-27  \n32759  2015-05-27  \n35768  2015-05-27  \n38777  2015-05-27  \n41786  2015-05-27  \n48262  2015-05-27  \n51301  2015-05-27  \n57381  2015-05-27  \n60421  2015-05-27  \n66439  2015-05-27  \n72641  2015-05-27  \n77228  2015-05-27  \n80237  2015-05-27  \n89479  2015-05-27  \n95559  2015-05-27  \n101792 2015-05-27  \n104801 2015-05-27  \n116868 2015-05-27  \n119877 2015-05-27  \n123070 2015-05-27  \n129077 2015-05-27  \n132270 2015-05-27  \n141543 2015-05-27  \n143121 2015-05-27  \n144699 2015-05-27  \n\n[29 rows x 29 columns]",
      "text/html": "<div>\n<style scoped>\n    .dataframe tbody tr th:only-of-type {\n        vertical-align: middle;\n    }\n\n    .dataframe tbody tr th {\n        vertical-align: top;\n    }\n\n    .dataframe thead th {\n        text-align: right;\n    }\n</style>\n<table border=\"1\" class=\"dataframe\">\n  <thead>\n    <tr style=\"text-align: right;\">\n      <th></th>\n      <th>location</th>\n      <th>evaporation</th>\n      <th>sunshine</th>\n      <th>windgustspeed</th>\n      <th>windspeed9am</th>\n      <th>windspeed3pm</th>\n      <th>humidity9am</th>\n      <th>humidity3pm</th>\n      <th>pressure3pm</th>\n      <th>cloud9am</th>\n      <th>...</th>\n      <th>geography</th>\n      <th>position</th>\n      <th>temp_amplitude</th>\n      <th>winddir9am_sin</th>\n      <th>winddir9am_cos</th>\n      <th>winddir3pm_sin</th>\n      <th>winddir3pm_cos</th>\n      <th>windgustdir_sin</th>\n      <th>windgustdir_cos</th>\n      <th>date</th>\n    </tr>\n  </thead>\n  <tbody>\n    <tr>\n      <th>5288</th>\n      <td>Badgerys Creek</td>\n      <td>3.2</td>\n      <td>8.3</td>\n      <td>13.0</td>\n      <td>6.0</td>\n      <td>7.0</td>\n      <td>82.0</td>\n      <td>50.0</td>\n      <td>1021.8</td>\n      <td>6.0</td>\n      <td>...</td>\n      <td>1</td>\n      <td>1</td>\n      <td>14.0</td>\n      <td>-9.238795e-01</td>\n      <td>-3.826834e-01</td>\n      <td>1.000000e+00</td>\n      <td>6.123234e-17</td>\n      <td>1.000000e+00</td>\n      <td>6.123234e-17</td>\n      <td>2015-05-27</td>\n    </tr>\n    <tr>\n      <th>11306</th>\n      <td>Coffs Harbour</td>\n      <td>2.2</td>\n      <td>5.1</td>\n      <td>30.0</td>\n      <td>7.0</td>\n      <td>19.0</td>\n      <td>81.0</td>\n      <td>63.0</td>\n      <td>1021.8</td>\n      <td>5.0</td>\n      <td>...</td>\n      <td>1</td>\n      <td>0</td>\n      <td>13.0</td>\n      <td>7.071068e-01</td>\n      <td>-7.071068e-01</td>\n      <td>7.071068e-01</td>\n      <td>7.071068e-01</td>\n      <td>7.071068e-01</td>\n      <td>7.071068e-01</td>\n      <td>2015-05-27</td>\n    </tr>\n    <tr>\n      <th>14315</th>\n      <td>Moree</td>\n      <td>1.2</td>\n      <td>9.0</td>\n      <td>28.0</td>\n      <td>17.0</td>\n      <td>9.0</td>\n      <td>80.0</td>\n      <td>43.0</td>\n      <td>1022.2</td>\n      <td>3.0</td>\n      <td>...</td>\n      <td>0</td>\n      <td>2</td>\n      <td>14.6</td>\n      <td>0.000000e+00</td>\n      <td>1.000000e+00</td>\n      <td>-9.238795e-01</td>\n      <td>3.826834e-01</td>\n      <td>0.000000e+00</td>\n      <td>1.000000e+00</td>\n      <td>2015-05-27</td>\n    </tr>\n    <tr>\n      <th>20358</th>\n      <td>Norah Head</td>\n      <td>3.2</td>\n      <td>8.3</td>\n      <td>20.0</td>\n      <td>4.0</td>\n      <td>7.0</td>\n      <td>71.0</td>\n      <td>61.0</td>\n      <td>1021.9</td>\n      <td>6.0</td>\n      <td>...</td>\n      <td>1</td>\n      <td>0</td>\n      <td>8.6</td>\n      <td>3.826834e-01</td>\n      <td>-9.238795e-01</td>\n      <td>7.071068e-01</td>\n      <td>-7.071068e-01</td>\n      <td>1.224647e-16</td>\n      <td>-1.000000e+00</td>\n      <td>2015-05-27</td>\n    </tr>\n    <tr>\n      <th>23367</th>\n      <td>Norfolk Island</td>\n      <td>3.0</td>\n      <td>4.4</td>\n      <td>35.0</td>\n      <td>11.0</td>\n      <td>17.0</td>\n      <td>57.0</td>\n      <td>52.0</td>\n      <td>1020.7</td>\n      <td>7.0</td>\n      <td>...</td>\n      <td>3</td>\n      <td>1</td>\n      <td>6.4</td>\n      <td>3.826834e-01</td>\n      <td>-9.238795e-01</td>\n      <td>1.224647e-16</td>\n      <td>-1.000000e+00</td>\n      <td>-7.071068e-01</td>\n      <td>-7.071068e-01</td>\n      <td>2015-05-27</td>\n    </tr>\n    <tr>\n      <th>32759</th>\n      <td>Sydney</td>\n      <td>3.2</td>\n      <td>8.3</td>\n      <td>26.0</td>\n      <td>15.0</td>\n      <td>9.0</td>\n      <td>69.0</td>\n      <td>40.0</td>\n      <td>1021.6</td>\n      <td>6.0</td>\n      <td>...</td>\n      <td>1</td>\n      <td>1</td>\n      <td>11.2</td>\n      <td>1.224647e-16</td>\n      <td>-1.000000e+00</td>\n      <td>3.826834e-01</td>\n      <td>-9.238795e-01</td>\n      <td>1.224647e-16</td>\n      <td>-1.000000e+00</td>\n      <td>2015-05-27</td>\n    </tr>\n    <tr>\n      <th>35768</th>\n      <td>Sydney Airport</td>\n      <td>3.2</td>\n      <td>8.3</td>\n      <td>26.0</td>\n      <td>15.0</td>\n      <td>13.0</td>\n      <td>60.0</td>\n      <td>38.0</td>\n      <td>1021.6</td>\n      <td>6.0</td>\n      <td>...</td>\n      <td>1</td>\n      <td>1</td>\n      <td>11.0</td>\n      <td>7.071068e-01</td>\n      <td>-7.071068e-01</td>\n      <td>1.224647e-16</td>\n      <td>-1.000000e+00</td>\n      <td>7.071068e-01</td>\n      <td>-7.071068e-01</td>\n      <td>2015-05-27</td>\n    </tr>\n    <tr>\n      <th>38777</th>\n      <td>Wagga Wagga</td>\n      <td>0.8</td>\n      <td>1.1</td>\n      <td>22.0</td>\n      <td>15.0</td>\n      <td>11.0</td>\n      <td>88.0</td>\n      <td>84.0</td>\n      <td>1022.5</td>\n      <td>7.0</td>\n      <td>...</td>\n      <td>0</td>\n      <td>0</td>\n      <td>7.2</td>\n      <td>0.000000e+00</td>\n      <td>1.000000e+00</td>\n      <td>0.000000e+00</td>\n      <td>1.000000e+00</td>\n      <td>7.071068e-01</td>\n      <td>7.071068e-01</td>\n      <td>2015-05-27</td>\n    </tr>\n    <tr>\n      <th>41786</th>\n      <td>Williamtown</td>\n      <td>2.2</td>\n      <td>5.1</td>\n      <td>30.0</td>\n      <td>20.0</td>\n      <td>17.0</td>\n      <td>77.0</td>\n      <td>52.0</td>\n      <td>1022.4</td>\n      <td>5.0</td>\n      <td>...</td>\n      <td>0</td>\n      <td>0</td>\n      <td>9.9</td>\n      <td>7.071068e-01</td>\n      <td>-7.071068e-01</td>\n      <td>3.826834e-01</td>\n      <td>-9.238795e-01</td>\n      <td>7.071068e-01</td>\n      <td>-7.071068e-01</td>\n      <td>2015-05-27</td>\n    </tr>\n    <tr>\n      <th>48262</th>\n      <td>Canberra</td>\n      <td>3.2</td>\n      <td>6.5</td>\n      <td>33.0</td>\n      <td>7.0</td>\n      <td>24.0</td>\n      <td>85.0</td>\n      <td>61.0</td>\n      <td>1022.6</td>\n      <td>8.0</td>\n      <td>...</td>\n      <td>4</td>\n      <td>0</td>\n      <td>17.1</td>\n      <td>-3.826834e-01</td>\n      <td>9.238795e-01</td>\n      <td>3.826834e-01</td>\n      <td>-9.238795e-01</td>\n      <td>3.826834e-01</td>\n      <td>-9.238795e-01</td>\n      <td>2015-05-27</td>\n    </tr>\n    <tr>\n      <th>51301</th>\n      <td>Tuggeranong</td>\n      <td>3.2</td>\n      <td>6.5</td>\n      <td>30.0</td>\n      <td>6.0</td>\n      <td>19.0</td>\n      <td>83.0</td>\n      <td>60.0</td>\n      <td>1022.5</td>\n      <td>8.0</td>\n      <td>...</td>\n      <td>4</td>\n      <td>0</td>\n      <td>15.9</td>\n      <td>-9.238795e-01</td>\n      <td>-3.826834e-01</td>\n      <td>3.826834e-01</td>\n      <td>-9.238795e-01</td>\n      <td>1.224647e-16</td>\n      <td>-1.000000e+00</td>\n      <td>2015-05-27</td>\n    </tr>\n    <tr>\n      <th>57381</th>\n      <td>Ballarat</td>\n      <td>3.2</td>\n      <td>6.5</td>\n      <td>43.0</td>\n      <td>28.0</td>\n      <td>30.0</td>\n      <td>94.0</td>\n      <td>72.0</td>\n      <td>1018.4</td>\n      <td>8.0</td>\n      <td>...</td>\n      <td>0</td>\n      <td>0</td>\n      <td>8.6</td>\n      <td>9.238795e-01</td>\n      <td>3.826834e-01</td>\n      <td>1.000000e+00</td>\n      <td>6.123234e-17</td>\n      <td>1.000000e+00</td>\n      <td>6.123234e-17</td>\n      <td>2015-05-27</td>\n    </tr>\n    <tr>\n      <th>60421</th>\n      <td>Bendigo</td>\n      <td>3.2</td>\n      <td>6.5</td>\n      <td>24.0</td>\n      <td>9.0</td>\n      <td>9.0</td>\n      <td>88.0</td>\n      <td>63.0</td>\n      <td>1019.3</td>\n      <td>7.0</td>\n      <td>...</td>\n      <td>0</td>\n      <td>0</td>\n      <td>11.2</td>\n      <td>0.000000e+00</td>\n      <td>1.000000e+00</td>\n      <td>1.000000e+00</td>\n      <td>6.123234e-17</td>\n      <td>9.238795e-01</td>\n      <td>3.826834e-01</td>\n      <td>2015-05-27</td>\n    </tr>\n    <tr>\n      <th>66439</th>\n      <td>Melbourne Airport</td>\n      <td>3.2</td>\n      <td>6.5</td>\n      <td>61.0</td>\n      <td>30.0</td>\n      <td>37.0</td>\n      <td>65.0</td>\n      <td>57.0</td>\n      <td>1017.9</td>\n      <td>6.0</td>\n      <td>...</td>\n      <td>0</td>\n      <td>0</td>\n      <td>8.9</td>\n      <td>1.000000e+00</td>\n      <td>6.123234e-17</td>\n      <td>1.000000e+00</td>\n      <td>6.123234e-17</td>\n      <td>1.000000e+00</td>\n      <td>6.123234e-17</td>\n      <td>2015-05-27</td>\n    </tr>\n    <tr>\n      <th>72641</th>\n      <td>Mildura</td>\n      <td>4.0</td>\n      <td>8.0</td>\n      <td>24.0</td>\n      <td>6.0</td>\n      <td>11.0</td>\n      <td>81.0</td>\n      <td>40.0</td>\n      <td>1019.2</td>\n      <td>5.0</td>\n      <td>...</td>\n      <td>2</td>\n      <td>0</td>\n      <td>13.1</td>\n      <td>9.238795e-01</td>\n      <td>3.826834e-01</td>\n      <td>7.071068e-01</td>\n      <td>-7.071068e-01</td>\n      <td>7.071068e-01</td>\n      <td>-7.071068e-01</td>\n      <td>2015-05-27</td>\n    </tr>\n    <tr>\n      <th>77228</th>\n      <td>Portland</td>\n      <td>1.0</td>\n      <td>5.5</td>\n      <td>39.0</td>\n      <td>20.0</td>\n      <td>19.0</td>\n      <td>80.0</td>\n      <td>90.0</td>\n      <td>1015.6</td>\n      <td>7.0</td>\n      <td>...</td>\n      <td>1</td>\n      <td>0</td>\n      <td>10.5</td>\n      <td>9.238795e-01</td>\n      <td>-3.826834e-01</td>\n      <td>3.826834e-01</td>\n      <td>-9.238795e-01</td>\n      <td>7.071068e-01</td>\n      <td>-7.071068e-01</td>\n      <td>2015-05-27</td>\n    </tr>\n    <tr>\n      <th>80237</th>\n      <td>Watsonia</td>\n      <td>3.2</td>\n      <td>6.5</td>\n      <td>44.0</td>\n      <td>7.0</td>\n      <td>20.0</td>\n      <td>70.0</td>\n      <td>59.0</td>\n      <td>1017.9</td>\n      <td>6.0</td>\n      <td>...</td>\n      <td>0</td>\n      <td>0</td>\n      <td>13.7</td>\n      <td>7.071068e-01</td>\n      <td>7.071068e-01</td>\n      <td>9.238795e-01</td>\n      <td>-3.826834e-01</td>\n      <td>9.238795e-01</td>\n      <td>-3.826834e-01</td>\n      <td>2015-05-27</td>\n    </tr>\n    <tr>\n      <th>89479</th>\n      <td>Cairns</td>\n      <td>4.2</td>\n      <td>10.1</td>\n      <td>41.0</td>\n      <td>22.0</td>\n      <td>30.0</td>\n      <td>76.0</td>\n      <td>63.0</td>\n      <td>1015.8</td>\n      <td>3.0</td>\n      <td>...</td>\n      <td>1</td>\n      <td>1</td>\n      <td>7.5</td>\n      <td>-9.238795e-01</td>\n      <td>3.826834e-01</td>\n      <td>-3.826834e-01</td>\n      <td>9.238795e-01</td>\n      <td>-9.238795e-01</td>\n      <td>3.826834e-01</td>\n      <td>2015-05-27</td>\n    </tr>\n    <tr>\n      <th>95559</th>\n      <td>Townsville</td>\n      <td>8.0</td>\n      <td>7.7</td>\n      <td>43.0</td>\n      <td>17.0</td>\n      <td>31.0</td>\n      <td>68.0</td>\n      <td>57.0</td>\n      <td>1017.0</td>\n      <td>7.0</td>\n      <td>...</td>\n      <td>1</td>\n      <td>1</td>\n      <td>10.1</td>\n      <td>-7.071068e-01</td>\n      <td>7.071068e-01</td>\n      <td>3.826834e-01</td>\n      <td>9.238795e-01</td>\n      <td>3.826834e-01</td>\n      <td>9.238795e-01</td>\n      <td>2015-05-27</td>\n    </tr>\n    <tr>\n      <th>101792</th>\n      <td>Mount Gambier</td>\n      <td>1.0</td>\n      <td>5.5</td>\n      <td>41.0</td>\n      <td>20.0</td>\n      <td>20.0</td>\n      <td>87.0</td>\n      <td>83.0</td>\n      <td>1016.0</td>\n      <td>5.0</td>\n      <td>...</td>\n      <td>0</td>\n      <td>0</td>\n      <td>9.3</td>\n      <td>9.238795e-01</td>\n      <td>-3.826834e-01</td>\n      <td>7.071068e-01</td>\n      <td>-7.071068e-01</td>\n      <td>9.238795e-01</td>\n      <td>-3.826834e-01</td>\n      <td>2015-05-27</td>\n    </tr>\n    <tr>\n      <th>104801</th>\n      <td>Nuriootpa</td>\n      <td>1.4</td>\n      <td>9.3</td>\n      <td>28.0</td>\n      <td>15.0</td>\n      <td>13.0</td>\n      <td>73.0</td>\n      <td>57.0</td>\n      <td>1019.3</td>\n      <td>1.0</td>\n      <td>...</td>\n      <td>0</td>\n      <td>0</td>\n      <td>11.5</td>\n      <td>3.826834e-01</td>\n      <td>-9.238795e-01</td>\n      <td>1.224647e-16</td>\n      <td>-1.000000e+00</td>\n      <td>3.826834e-01</td>\n      <td>-9.238795e-01</td>\n      <td>2015-05-27</td>\n    </tr>\n    <tr>\n      <th>116868</th>\n      <td>Pearce RAAF</td>\n      <td>2.2</td>\n      <td>7.8</td>\n      <td>33.0</td>\n      <td>11.0</td>\n      <td>24.0</td>\n      <td>79.0</td>\n      <td>48.0</td>\n      <td>1020.9</td>\n      <td>4.0</td>\n      <td>...</td>\n      <td>1</td>\n      <td>3</td>\n      <td>13.2</td>\n      <td>-7.071068e-01</td>\n      <td>7.071068e-01</td>\n      <td>-1.000000e+00</td>\n      <td>-1.836970e-16</td>\n      <td>-1.000000e+00</td>\n      <td>-1.836970e-16</td>\n      <td>2015-05-27</td>\n    </tr>\n    <tr>\n      <th>119877</th>\n      <td>Perth Airport</td>\n      <td>2.2</td>\n      <td>7.8</td>\n      <td>39.0</td>\n      <td>11.0</td>\n      <td>26.0</td>\n      <td>75.0</td>\n      <td>39.0</td>\n      <td>1021.1</td>\n      <td>3.0</td>\n      <td>...</td>\n      <td>1</td>\n      <td>3</td>\n      <td>12.1</td>\n      <td>3.826834e-01</td>\n      <td>9.238795e-01</td>\n      <td>-1.000000e+00</td>\n      <td>-1.836970e-16</td>\n      <td>-1.000000e+00</td>\n      <td>-1.836970e-16</td>\n      <td>2015-05-27</td>\n    </tr>\n    <tr>\n      <th>123070</th>\n      <td>Perth</td>\n      <td>2.2</td>\n      <td>7.8</td>\n      <td>31.0</td>\n      <td>4.0</td>\n      <td>17.0</td>\n      <td>82.0</td>\n      <td>48.0</td>\n      <td>1021.0</td>\n      <td>3.0</td>\n      <td>...</td>\n      <td>1</td>\n      <td>3</td>\n      <td>11.3</td>\n      <td>-7.071068e-01</td>\n      <td>-7.071068e-01</td>\n      <td>-9.238795e-01</td>\n      <td>3.826834e-01</td>\n      <td>-9.238795e-01</td>\n      <td>3.826834e-01</td>\n      <td>2015-05-27</td>\n    </tr>\n    <tr>\n      <th>129077</th>\n      <td>Walpole</td>\n      <td>2.6</td>\n      <td>2.3</td>\n      <td>31.0</td>\n      <td>7.0</td>\n      <td>13.0</td>\n      <td>73.0</td>\n      <td>71.0</td>\n      <td>1020.1</td>\n      <td>8.0</td>\n      <td>...</td>\n      <td>1</td>\n      <td>3</td>\n      <td>7.2</td>\n      <td>1.224647e-16</td>\n      <td>-1.000000e+00</td>\n      <td>-7.071068e-01</td>\n      <td>-7.071068e-01</td>\n      <td>-7.071068e-01</td>\n      <td>-7.071068e-01</td>\n      <td>2015-05-27</td>\n    </tr>\n    <tr>\n      <th>132270</th>\n      <td>Hobart</td>\n      <td>0.6</td>\n      <td>4.2</td>\n      <td>33.0</td>\n      <td>19.0</td>\n      <td>13.0</td>\n      <td>88.0</td>\n      <td>61.0</td>\n      <td>1012.5</td>\n      <td>7.0</td>\n      <td>...</td>\n      <td>1</td>\n      <td>0</td>\n      <td>9.8</td>\n      <td>9.238795e-01</td>\n      <td>-3.826834e-01</td>\n      <td>9.238795e-01</td>\n      <td>-3.826834e-01</td>\n      <td>9.238795e-01</td>\n      <td>-3.826834e-01</td>\n      <td>2015-05-27</td>\n    </tr>\n    <tr>\n      <th>141543</th>\n      <td>Darwin</td>\n      <td>5.2</td>\n      <td>11.0</td>\n      <td>44.0</td>\n      <td>13.0</td>\n      <td>22.0</td>\n      <td>73.0</td>\n      <td>29.0</td>\n      <td>1010.4</td>\n      <td>6.0</td>\n      <td>...</td>\n      <td>1</td>\n      <td>2</td>\n      <td>11.6</td>\n      <td>0.000000e+00</td>\n      <td>1.000000e+00</td>\n      <td>3.826834e-01</td>\n      <td>9.238795e-01</td>\n      <td>0.000000e+00</td>\n      <td>1.000000e+00</td>\n      <td>2015-05-27</td>\n    </tr>\n    <tr>\n      <th>143121</th>\n      <td>Katherine</td>\n      <td>7.2</td>\n      <td>11.0</td>\n      <td>41.0</td>\n      <td>9.0</td>\n      <td>20.0</td>\n      <td>65.0</td>\n      <td>31.0</td>\n      <td>1011.3</td>\n      <td>0.0</td>\n      <td>...</td>\n      <td>2</td>\n      <td>2</td>\n      <td>16.6</td>\n      <td>-3.826834e-01</td>\n      <td>9.238795e-01</td>\n      <td>0.000000e+00</td>\n      <td>1.000000e+00</td>\n      <td>-3.826834e-01</td>\n      <td>9.238795e-01</td>\n      <td>2015-05-27</td>\n    </tr>\n    <tr>\n      <th>144699</th>\n      <td>Uluru</td>\n      <td>3.6</td>\n      <td>7.8</td>\n      <td>35.0</td>\n      <td>17.0</td>\n      <td>9.0</td>\n      <td>53.0</td>\n      <td>29.0</td>\n      <td>1016.5</td>\n      <td>6.0</td>\n      <td>...</td>\n      <td>2</td>\n      <td>0</td>\n      <td>12.6</td>\n      <td>-7.071068e-01</td>\n      <td>7.071068e-01</td>\n      <td>9.238795e-01</td>\n      <td>3.826834e-01</td>\n      <td>0.000000e+00</td>\n      <td>1.000000e+00</td>\n      <td>2015-05-27</td>\n    </tr>\n  </tbody>\n</table>\n<p>29 rows × 29 columns</p>\n</div>"
     },
     "execution_count": 32,
     "metadata": {},
     "output_type": "execute_result"
    }
   ],
   "source": [
    "# Appeler la fonction filter_by_date pour filtrer le DataFrame à partir de la date souhaitée\n",
    "df_filtered = filter_by_date(df_prepared, \"27/05/2015\")\n",
    "\n",
    "# Afficher le DataFrame filtré\n",
    "df_filtered"
   ],
   "metadata": {
    "collapsed": false
   }
  },
  {
   "cell_type": "code",
   "execution_count": 40,
   "outputs": [],
   "source": [
    "import pandas as pd\n",
    "import plotly.express as px\n",
    "\n",
    "def display_map_rain(df):\n",
    "    colors_rain = ['red', 'blue']  # Couleurs pour les jours sans pluie et avec pluie\n",
    "\n",
    "    fig = px.scatter_mapbox(df, lat='latitude', lon='longitude', color='raintomorrow', color_discrete_sequence=colors_rain,\n",
    "                            title='Prévision de pluie du lendemain', hover_name='location', hover_data=['raintomorrow'])\n",
    "\n",
    "    # Spécifier l'ordre des catégories pour la légende\n",
    "    fig.update_layout(coloraxis_colorbar=dict(title=\"Prévision de pluie du lendemain\", tickvals=[0, 1], ticktext=['Non', 'Oui']))\n",
    "\n",
    "    # Référence de tuile\n",
    "    fig.update_layout(mapbox_style='carto-positron')\n",
    "\n",
    "    # Limites de la carte et le zoom de départ\n",
    "    fig.update_layout(margin={\"r\": 0, \"t\": 0, \"l\": 0, \"b\": 0}, mapbox_center_lat=-25, mapbox_center_lon=135,\n",
    "                      mapbox_zoom=2)\n",
    "\n",
    "    # Augmentation de la taille des points\n",
    "    fig.update_traces(marker=dict(size=10))\n",
    "\n",
    "    # Afficher le graphique dans le notebook\n",
    "    fig.show()\n"
   ],
   "metadata": {
    "collapsed": false
   }
  },
  {
   "cell_type": "code",
   "execution_count": 42,
   "outputs": [
    {
     "data": {
      "text/plain": "<function __main__.filter_by_date(df, date_du_jour)>"
     },
     "execution_count": 42,
     "metadata": {},
     "output_type": "execute_result"
    }
   ],
   "source": [
    "filter_by_date"
   ],
   "metadata": {
    "collapsed": false
   }
  },
  {
   "cell_type": "code",
   "execution_count": 44,
   "outputs": [
    {
     "data": {
      "text/plain": "                 location  evaporation  sunshine  windgustspeed  windspeed9am  \\\n14407               Moree          2.8       0.3           17.0          13.0   \n32851              Sydney          3.0       4.3           52.0           9.0   \n35860      Sydney Airport          3.0       4.3           52.0          13.0   \n41878         Williamtown          3.4       4.3           52.0          17.0   \n51393         Tuggeranong          1.2       0.0           33.0           7.0   \n57473            Ballarat          1.2       0.0           39.0           7.0   \n60513             Bendigo          1.2       0.0           39.0           9.0   \n66531   Melbourne Airport          1.2       0.0           44.0          11.0   \n72733             Mildura          2.4       8.4           35.0           9.0   \n77320            Portland          1.8       5.2           37.0           4.0   \n80329            Watsonia          1.2       0.0           31.0           6.0   \n86531            Brisbane          4.0       0.3           30.0           2.0   \n89571              Cairns          6.6      10.3           39.0          19.0   \n92611          Gold Coast          4.0       0.3           20.0           6.0   \n95651          Townsville          6.4       9.9           33.0          13.0   \n101884      Mount Gambier          1.8       5.2           48.0           9.0   \n104893          Nuriootpa          2.2       3.2           35.0          11.0   \n116960        Pearce RAAF          3.6      10.2           41.0          20.0   \n119969      Perth Airport          3.6      10.2           39.0          22.0   \n123162              Perth          3.6      10.2           30.0           6.0   \n129169            Walpole          2.0       8.8           33.0          13.0   \n132362             Hobart          1.4       0.8           28.0           7.0   \n138442      Alice Springs          3.2       9.5           39.0          20.0   \n141635             Darwin          7.2       9.7           35.0           9.0   \n144791              Uluru          3.2       9.5           43.0          26.0   \n\n        windspeed3pm  humidity9am  humidity3pm  pressure3pm  cloud9am  ...  \\\n14407            7.0         89.0         90.0       1020.9       8.0  ...   \n32851           17.0         87.0         44.0       1015.1       7.0  ...   \n35860           22.0         68.0         38.0       1014.9       7.0  ...   \n41878           30.0         71.0         52.0       1017.5       7.0  ...   \n51393           15.0         99.0         59.0       1016.1       7.0  ...   \n57473           19.0        100.0         75.0       1020.8       8.0  ...   \n60513           26.0         84.0         52.0       1019.6       1.0  ...   \n66531           13.0         93.0         92.0       1020.2       7.0  ...   \n72733           15.0         84.0         33.0       1022.2       7.0  ...   \n77320           22.0         98.0         91.0       1023.1       1.0  ...   \n80329            9.0        100.0        100.0       1019.8       7.0  ...   \n86531            7.0         52.0         74.0       1019.9       7.0  ...   \n89571           28.0         69.0         49.0       1016.2       6.0  ...   \n92611            6.0         64.0         84.0       1019.2       7.0  ...   \n95651           24.0         63.0         63.0       1017.3       3.0  ...   \n101884          31.0         93.0         77.0       1023.1       7.0  ...   \n104893          20.0         99.0         75.0       1025.0       7.0  ...   \n116960          22.0         44.0         31.0       1013.6       3.0  ...   \n119969          24.0         43.0         29.0       1013.8       3.0  ...   \n123162          17.0         50.0         33.0       1013.5       3.0  ...   \n129169          11.0         58.0         39.0       1015.4       3.0  ...   \n132362          13.0         77.0         70.0       1021.7       8.0  ...   \n138442          22.0         65.0         44.0       1021.1       6.0  ...   \n141635          24.0         67.0         52.0       1012.5       7.0  ...   \n144791          24.0         64.0         35.0       1020.1       6.0  ...   \n\n        geography  position  temp_amplitude  winddir9am_sin  winddir9am_cos  \\\n14407           0         2             3.8    9.238795e-01        0.382683   \n32851           1         1             8.9    1.224647e-16       -1.000000   \n35860           1         1            10.8    3.826834e-01       -0.923880   \n41878           0         0             6.0    7.071068e-01       -0.707107   \n51393           4         0             6.0   -3.826834e-01       -0.923880   \n57473           0         0            11.5   -9.238795e-01       -0.382683   \n60513           0         0            10.1   -7.071068e-01       -0.707107   \n66531           0         0             3.1   -3.826834e-01       -0.923880   \n72733           2         0            10.3   -7.071068e-01       -0.707107   \n77320           1         0             9.1   -3.826834e-01       -0.923880   \n80329           0         0             1.8    1.224647e-16       -1.000000   \n86531           1         1             7.7   -9.238795e-01       -0.382683   \n89571           1         1            10.0   -9.238795e-01        0.382683   \n92611           1         1             5.9    1.224647e-16       -1.000000   \n95651           1         1             9.2    0.000000e+00        1.000000   \n101884          0         0             9.8    3.826834e-01       -0.923880   \n104893          0         0            13.6   -3.826834e-01       -0.923880   \n116960          1         3            13.0    3.826834e-01        0.923880   \n119969          1         3            13.9    3.826834e-01        0.923880   \n123162          1         3            16.0    0.000000e+00        1.000000   \n129169          1         3            13.2    9.238795e-01        0.382683   \n132362          1         0             7.4    9.238795e-01       -0.382683   \n138442          2         2             8.0    0.000000e+00        1.000000   \n141635          1         2            11.1   -7.071068e-01        0.707107   \n144791          2         0            13.4    0.000000e+00        1.000000   \n\n        winddir3pm_sin  winddir3pm_cos  windgustdir_sin  windgustdir_cos  \\\n14407         0.382683    9.238795e-01     3.826834e-01     9.238795e-01   \n32851         0.707107   -7.071068e-01     1.224647e-16    -1.000000e+00   \n35860         0.707107   -7.071068e-01     1.224647e-16    -1.000000e+00   \n41878         0.382683   -9.238795e-01     7.071068e-01    -7.071068e-01   \n51393         0.707107   -7.071068e-01     7.071068e-01    -7.071068e-01   \n57473        -0.707107   -7.071068e-01    -1.000000e+00    -1.836970e-16   \n60513        -0.923880   -3.826834e-01    -1.000000e+00    -1.836970e-16   \n66531        -0.923880   -3.826834e-01    -1.000000e+00    -1.836970e-16   \n72733        -0.923880   -3.826834e-01    -9.238795e-01    -3.826834e-01   \n77320        -1.000000   -1.836970e-16    -1.000000e+00    -1.836970e-16   \n80329        -0.707107   -7.071068e-01    -9.238795e-01    -3.826834e-01   \n86531        -0.707107   -7.071068e-01    -7.071068e-01    -7.071068e-01   \n89571        -0.707107    7.071068e-01    -7.071068e-01     7.071068e-01   \n92611         0.000000    1.000000e+00     7.071068e-01    -7.071068e-01   \n95651         0.382683    9.238795e-01     7.071068e-01     7.071068e-01   \n101884       -1.000000   -1.836970e-16    -1.000000e+00    -1.836970e-16   \n104893       -0.707107   -7.071068e-01    -7.071068e-01    -7.071068e-01   \n116960        1.000000    6.123234e-17     1.000000e+00     6.123234e-17   \n119969        0.923880    3.826834e-01     3.826834e-01     9.238795e-01   \n123162        0.707107    7.071068e-01     7.071068e-01     7.071068e-01   \n129169        0.923880    3.826834e-01     1.000000e+00     6.123234e-17   \n132362       -0.382683    9.238795e-01    -9.238795e-01    -3.826834e-01   \n138442        0.382683    9.238795e-01     0.000000e+00     1.000000e+00   \n141635        0.923880   -3.826834e-01     1.000000e+00     6.123234e-17   \n144791       -0.382683    9.238795e-01     3.826834e-01     9.238795e-01   \n\n             date  \n14407  2015-08-27  \n32851  2015-08-27  \n35860  2015-08-27  \n41878  2015-08-27  \n51393  2015-08-27  \n57473  2015-08-27  \n60513  2015-08-27  \n66531  2015-08-27  \n72733  2015-08-27  \n77320  2015-08-27  \n80329  2015-08-27  \n86531  2015-08-27  \n89571  2015-08-27  \n92611  2015-08-27  \n95651  2015-08-27  \n101884 2015-08-27  \n104893 2015-08-27  \n116960 2015-08-27  \n119969 2015-08-27  \n123162 2015-08-27  \n129169 2015-08-27  \n132362 2015-08-27  \n138442 2015-08-27  \n141635 2015-08-27  \n144791 2015-08-27  \n\n[25 rows x 29 columns]",
      "text/html": "<div>\n<style scoped>\n    .dataframe tbody tr th:only-of-type {\n        vertical-align: middle;\n    }\n\n    .dataframe tbody tr th {\n        vertical-align: top;\n    }\n\n    .dataframe thead th {\n        text-align: right;\n    }\n</style>\n<table border=\"1\" class=\"dataframe\">\n  <thead>\n    <tr style=\"text-align: right;\">\n      <th></th>\n      <th>location</th>\n      <th>evaporation</th>\n      <th>sunshine</th>\n      <th>windgustspeed</th>\n      <th>windspeed9am</th>\n      <th>windspeed3pm</th>\n      <th>humidity9am</th>\n      <th>humidity3pm</th>\n      <th>pressure3pm</th>\n      <th>cloud9am</th>\n      <th>...</th>\n      <th>geography</th>\n      <th>position</th>\n      <th>temp_amplitude</th>\n      <th>winddir9am_sin</th>\n      <th>winddir9am_cos</th>\n      <th>winddir3pm_sin</th>\n      <th>winddir3pm_cos</th>\n      <th>windgustdir_sin</th>\n      <th>windgustdir_cos</th>\n      <th>date</th>\n    </tr>\n  </thead>\n  <tbody>\n    <tr>\n      <th>14407</th>\n      <td>Moree</td>\n      <td>2.8</td>\n      <td>0.3</td>\n      <td>17.0</td>\n      <td>13.0</td>\n      <td>7.0</td>\n      <td>89.0</td>\n      <td>90.0</td>\n      <td>1020.9</td>\n      <td>8.0</td>\n      <td>...</td>\n      <td>0</td>\n      <td>2</td>\n      <td>3.8</td>\n      <td>9.238795e-01</td>\n      <td>0.382683</td>\n      <td>0.382683</td>\n      <td>9.238795e-01</td>\n      <td>3.826834e-01</td>\n      <td>9.238795e-01</td>\n      <td>2015-08-27</td>\n    </tr>\n    <tr>\n      <th>32851</th>\n      <td>Sydney</td>\n      <td>3.0</td>\n      <td>4.3</td>\n      <td>52.0</td>\n      <td>9.0</td>\n      <td>17.0</td>\n      <td>87.0</td>\n      <td>44.0</td>\n      <td>1015.1</td>\n      <td>7.0</td>\n      <td>...</td>\n      <td>1</td>\n      <td>1</td>\n      <td>8.9</td>\n      <td>1.224647e-16</td>\n      <td>-1.000000</td>\n      <td>0.707107</td>\n      <td>-7.071068e-01</td>\n      <td>1.224647e-16</td>\n      <td>-1.000000e+00</td>\n      <td>2015-08-27</td>\n    </tr>\n    <tr>\n      <th>35860</th>\n      <td>Sydney Airport</td>\n      <td>3.0</td>\n      <td>4.3</td>\n      <td>52.0</td>\n      <td>13.0</td>\n      <td>22.0</td>\n      <td>68.0</td>\n      <td>38.0</td>\n      <td>1014.9</td>\n      <td>7.0</td>\n      <td>...</td>\n      <td>1</td>\n      <td>1</td>\n      <td>10.8</td>\n      <td>3.826834e-01</td>\n      <td>-0.923880</td>\n      <td>0.707107</td>\n      <td>-7.071068e-01</td>\n      <td>1.224647e-16</td>\n      <td>-1.000000e+00</td>\n      <td>2015-08-27</td>\n    </tr>\n    <tr>\n      <th>41878</th>\n      <td>Williamtown</td>\n      <td>3.4</td>\n      <td>4.3</td>\n      <td>52.0</td>\n      <td>17.0</td>\n      <td>30.0</td>\n      <td>71.0</td>\n      <td>52.0</td>\n      <td>1017.5</td>\n      <td>7.0</td>\n      <td>...</td>\n      <td>0</td>\n      <td>0</td>\n      <td>6.0</td>\n      <td>7.071068e-01</td>\n      <td>-0.707107</td>\n      <td>0.382683</td>\n      <td>-9.238795e-01</td>\n      <td>7.071068e-01</td>\n      <td>-7.071068e-01</td>\n      <td>2015-08-27</td>\n    </tr>\n    <tr>\n      <th>51393</th>\n      <td>Tuggeranong</td>\n      <td>1.2</td>\n      <td>0.0</td>\n      <td>33.0</td>\n      <td>7.0</td>\n      <td>15.0</td>\n      <td>99.0</td>\n      <td>59.0</td>\n      <td>1016.1</td>\n      <td>7.0</td>\n      <td>...</td>\n      <td>4</td>\n      <td>0</td>\n      <td>6.0</td>\n      <td>-3.826834e-01</td>\n      <td>-0.923880</td>\n      <td>0.707107</td>\n      <td>-7.071068e-01</td>\n      <td>7.071068e-01</td>\n      <td>-7.071068e-01</td>\n      <td>2015-08-27</td>\n    </tr>\n    <tr>\n      <th>57473</th>\n      <td>Ballarat</td>\n      <td>1.2</td>\n      <td>0.0</td>\n      <td>39.0</td>\n      <td>7.0</td>\n      <td>19.0</td>\n      <td>100.0</td>\n      <td>75.0</td>\n      <td>1020.8</td>\n      <td>8.0</td>\n      <td>...</td>\n      <td>0</td>\n      <td>0</td>\n      <td>11.5</td>\n      <td>-9.238795e-01</td>\n      <td>-0.382683</td>\n      <td>-0.707107</td>\n      <td>-7.071068e-01</td>\n      <td>-1.000000e+00</td>\n      <td>-1.836970e-16</td>\n      <td>2015-08-27</td>\n    </tr>\n    <tr>\n      <th>60513</th>\n      <td>Bendigo</td>\n      <td>1.2</td>\n      <td>0.0</td>\n      <td>39.0</td>\n      <td>9.0</td>\n      <td>26.0</td>\n      <td>84.0</td>\n      <td>52.0</td>\n      <td>1019.6</td>\n      <td>1.0</td>\n      <td>...</td>\n      <td>0</td>\n      <td>0</td>\n      <td>10.1</td>\n      <td>-7.071068e-01</td>\n      <td>-0.707107</td>\n      <td>-0.923880</td>\n      <td>-3.826834e-01</td>\n      <td>-1.000000e+00</td>\n      <td>-1.836970e-16</td>\n      <td>2015-08-27</td>\n    </tr>\n    <tr>\n      <th>66531</th>\n      <td>Melbourne Airport</td>\n      <td>1.2</td>\n      <td>0.0</td>\n      <td>44.0</td>\n      <td>11.0</td>\n      <td>13.0</td>\n      <td>93.0</td>\n      <td>92.0</td>\n      <td>1020.2</td>\n      <td>7.0</td>\n      <td>...</td>\n      <td>0</td>\n      <td>0</td>\n      <td>3.1</td>\n      <td>-3.826834e-01</td>\n      <td>-0.923880</td>\n      <td>-0.923880</td>\n      <td>-3.826834e-01</td>\n      <td>-1.000000e+00</td>\n      <td>-1.836970e-16</td>\n      <td>2015-08-27</td>\n    </tr>\n    <tr>\n      <th>72733</th>\n      <td>Mildura</td>\n      <td>2.4</td>\n      <td>8.4</td>\n      <td>35.0</td>\n      <td>9.0</td>\n      <td>15.0</td>\n      <td>84.0</td>\n      <td>33.0</td>\n      <td>1022.2</td>\n      <td>7.0</td>\n      <td>...</td>\n      <td>2</td>\n      <td>0</td>\n      <td>10.3</td>\n      <td>-7.071068e-01</td>\n      <td>-0.707107</td>\n      <td>-0.923880</td>\n      <td>-3.826834e-01</td>\n      <td>-9.238795e-01</td>\n      <td>-3.826834e-01</td>\n      <td>2015-08-27</td>\n    </tr>\n    <tr>\n      <th>77320</th>\n      <td>Portland</td>\n      <td>1.8</td>\n      <td>5.2</td>\n      <td>37.0</td>\n      <td>4.0</td>\n      <td>22.0</td>\n      <td>98.0</td>\n      <td>91.0</td>\n      <td>1023.1</td>\n      <td>1.0</td>\n      <td>...</td>\n      <td>1</td>\n      <td>0</td>\n      <td>9.1</td>\n      <td>-3.826834e-01</td>\n      <td>-0.923880</td>\n      <td>-1.000000</td>\n      <td>-1.836970e-16</td>\n      <td>-1.000000e+00</td>\n      <td>-1.836970e-16</td>\n      <td>2015-08-27</td>\n    </tr>\n    <tr>\n      <th>80329</th>\n      <td>Watsonia</td>\n      <td>1.2</td>\n      <td>0.0</td>\n      <td>31.0</td>\n      <td>6.0</td>\n      <td>9.0</td>\n      <td>100.0</td>\n      <td>100.0</td>\n      <td>1019.8</td>\n      <td>7.0</td>\n      <td>...</td>\n      <td>0</td>\n      <td>0</td>\n      <td>1.8</td>\n      <td>1.224647e-16</td>\n      <td>-1.000000</td>\n      <td>-0.707107</td>\n      <td>-7.071068e-01</td>\n      <td>-9.238795e-01</td>\n      <td>-3.826834e-01</td>\n      <td>2015-08-27</td>\n    </tr>\n    <tr>\n      <th>86531</th>\n      <td>Brisbane</td>\n      <td>4.0</td>\n      <td>0.3</td>\n      <td>30.0</td>\n      <td>2.0</td>\n      <td>7.0</td>\n      <td>52.0</td>\n      <td>74.0</td>\n      <td>1019.9</td>\n      <td>7.0</td>\n      <td>...</td>\n      <td>1</td>\n      <td>1</td>\n      <td>7.7</td>\n      <td>-9.238795e-01</td>\n      <td>-0.382683</td>\n      <td>-0.707107</td>\n      <td>-7.071068e-01</td>\n      <td>-7.071068e-01</td>\n      <td>-7.071068e-01</td>\n      <td>2015-08-27</td>\n    </tr>\n    <tr>\n      <th>89571</th>\n      <td>Cairns</td>\n      <td>6.6</td>\n      <td>10.3</td>\n      <td>39.0</td>\n      <td>19.0</td>\n      <td>28.0</td>\n      <td>69.0</td>\n      <td>49.0</td>\n      <td>1016.2</td>\n      <td>6.0</td>\n      <td>...</td>\n      <td>1</td>\n      <td>1</td>\n      <td>10.0</td>\n      <td>-9.238795e-01</td>\n      <td>0.382683</td>\n      <td>-0.707107</td>\n      <td>7.071068e-01</td>\n      <td>-7.071068e-01</td>\n      <td>7.071068e-01</td>\n      <td>2015-08-27</td>\n    </tr>\n    <tr>\n      <th>92611</th>\n      <td>Gold Coast</td>\n      <td>4.0</td>\n      <td>0.3</td>\n      <td>20.0</td>\n      <td>6.0</td>\n      <td>6.0</td>\n      <td>64.0</td>\n      <td>84.0</td>\n      <td>1019.2</td>\n      <td>7.0</td>\n      <td>...</td>\n      <td>1</td>\n      <td>1</td>\n      <td>5.9</td>\n      <td>1.224647e-16</td>\n      <td>-1.000000</td>\n      <td>0.000000</td>\n      <td>1.000000e+00</td>\n      <td>7.071068e-01</td>\n      <td>-7.071068e-01</td>\n      <td>2015-08-27</td>\n    </tr>\n    <tr>\n      <th>95651</th>\n      <td>Townsville</td>\n      <td>6.4</td>\n      <td>9.9</td>\n      <td>33.0</td>\n      <td>13.0</td>\n      <td>24.0</td>\n      <td>63.0</td>\n      <td>63.0</td>\n      <td>1017.3</td>\n      <td>3.0</td>\n      <td>...</td>\n      <td>1</td>\n      <td>1</td>\n      <td>9.2</td>\n      <td>0.000000e+00</td>\n      <td>1.000000</td>\n      <td>0.382683</td>\n      <td>9.238795e-01</td>\n      <td>7.071068e-01</td>\n      <td>7.071068e-01</td>\n      <td>2015-08-27</td>\n    </tr>\n    <tr>\n      <th>101884</th>\n      <td>Mount Gambier</td>\n      <td>1.8</td>\n      <td>5.2</td>\n      <td>48.0</td>\n      <td>9.0</td>\n      <td>31.0</td>\n      <td>93.0</td>\n      <td>77.0</td>\n      <td>1023.1</td>\n      <td>7.0</td>\n      <td>...</td>\n      <td>0</td>\n      <td>0</td>\n      <td>9.8</td>\n      <td>3.826834e-01</td>\n      <td>-0.923880</td>\n      <td>-1.000000</td>\n      <td>-1.836970e-16</td>\n      <td>-1.000000e+00</td>\n      <td>-1.836970e-16</td>\n      <td>2015-08-27</td>\n    </tr>\n    <tr>\n      <th>104893</th>\n      <td>Nuriootpa</td>\n      <td>2.2</td>\n      <td>3.2</td>\n      <td>35.0</td>\n      <td>11.0</td>\n      <td>20.0</td>\n      <td>99.0</td>\n      <td>75.0</td>\n      <td>1025.0</td>\n      <td>7.0</td>\n      <td>...</td>\n      <td>0</td>\n      <td>0</td>\n      <td>13.6</td>\n      <td>-3.826834e-01</td>\n      <td>-0.923880</td>\n      <td>-0.707107</td>\n      <td>-7.071068e-01</td>\n      <td>-7.071068e-01</td>\n      <td>-7.071068e-01</td>\n      <td>2015-08-27</td>\n    </tr>\n    <tr>\n      <th>116960</th>\n      <td>Pearce RAAF</td>\n      <td>3.6</td>\n      <td>10.2</td>\n      <td>41.0</td>\n      <td>20.0</td>\n      <td>22.0</td>\n      <td>44.0</td>\n      <td>31.0</td>\n      <td>1013.6</td>\n      <td>3.0</td>\n      <td>...</td>\n      <td>1</td>\n      <td>3</td>\n      <td>13.0</td>\n      <td>3.826834e-01</td>\n      <td>0.923880</td>\n      <td>1.000000</td>\n      <td>6.123234e-17</td>\n      <td>1.000000e+00</td>\n      <td>6.123234e-17</td>\n      <td>2015-08-27</td>\n    </tr>\n    <tr>\n      <th>119969</th>\n      <td>Perth Airport</td>\n      <td>3.6</td>\n      <td>10.2</td>\n      <td>39.0</td>\n      <td>22.0</td>\n      <td>24.0</td>\n      <td>43.0</td>\n      <td>29.0</td>\n      <td>1013.8</td>\n      <td>3.0</td>\n      <td>...</td>\n      <td>1</td>\n      <td>3</td>\n      <td>13.9</td>\n      <td>3.826834e-01</td>\n      <td>0.923880</td>\n      <td>0.923880</td>\n      <td>3.826834e-01</td>\n      <td>3.826834e-01</td>\n      <td>9.238795e-01</td>\n      <td>2015-08-27</td>\n    </tr>\n    <tr>\n      <th>123162</th>\n      <td>Perth</td>\n      <td>3.6</td>\n      <td>10.2</td>\n      <td>30.0</td>\n      <td>6.0</td>\n      <td>17.0</td>\n      <td>50.0</td>\n      <td>33.0</td>\n      <td>1013.5</td>\n      <td>3.0</td>\n      <td>...</td>\n      <td>1</td>\n      <td>3</td>\n      <td>16.0</td>\n      <td>0.000000e+00</td>\n      <td>1.000000</td>\n      <td>0.707107</td>\n      <td>7.071068e-01</td>\n      <td>7.071068e-01</td>\n      <td>7.071068e-01</td>\n      <td>2015-08-27</td>\n    </tr>\n    <tr>\n      <th>129169</th>\n      <td>Walpole</td>\n      <td>2.0</td>\n      <td>8.8</td>\n      <td>33.0</td>\n      <td>13.0</td>\n      <td>11.0</td>\n      <td>58.0</td>\n      <td>39.0</td>\n      <td>1015.4</td>\n      <td>3.0</td>\n      <td>...</td>\n      <td>1</td>\n      <td>3</td>\n      <td>13.2</td>\n      <td>9.238795e-01</td>\n      <td>0.382683</td>\n      <td>0.923880</td>\n      <td>3.826834e-01</td>\n      <td>1.000000e+00</td>\n      <td>6.123234e-17</td>\n      <td>2015-08-27</td>\n    </tr>\n    <tr>\n      <th>132362</th>\n      <td>Hobart</td>\n      <td>1.4</td>\n      <td>0.8</td>\n      <td>28.0</td>\n      <td>7.0</td>\n      <td>13.0</td>\n      <td>77.0</td>\n      <td>70.0</td>\n      <td>1021.7</td>\n      <td>8.0</td>\n      <td>...</td>\n      <td>1</td>\n      <td>0</td>\n      <td>7.4</td>\n      <td>9.238795e-01</td>\n      <td>-0.382683</td>\n      <td>-0.382683</td>\n      <td>9.238795e-01</td>\n      <td>-9.238795e-01</td>\n      <td>-3.826834e-01</td>\n      <td>2015-08-27</td>\n    </tr>\n    <tr>\n      <th>138442</th>\n      <td>Alice Springs</td>\n      <td>3.2</td>\n      <td>9.5</td>\n      <td>39.0</td>\n      <td>20.0</td>\n      <td>22.0</td>\n      <td>65.0</td>\n      <td>44.0</td>\n      <td>1021.1</td>\n      <td>6.0</td>\n      <td>...</td>\n      <td>2</td>\n      <td>2</td>\n      <td>8.0</td>\n      <td>0.000000e+00</td>\n      <td>1.000000</td>\n      <td>0.382683</td>\n      <td>9.238795e-01</td>\n      <td>0.000000e+00</td>\n      <td>1.000000e+00</td>\n      <td>2015-08-27</td>\n    </tr>\n    <tr>\n      <th>141635</th>\n      <td>Darwin</td>\n      <td>7.2</td>\n      <td>9.7</td>\n      <td>35.0</td>\n      <td>9.0</td>\n      <td>24.0</td>\n      <td>67.0</td>\n      <td>52.0</td>\n      <td>1012.5</td>\n      <td>7.0</td>\n      <td>...</td>\n      <td>1</td>\n      <td>2</td>\n      <td>11.1</td>\n      <td>-7.071068e-01</td>\n      <td>0.707107</td>\n      <td>0.923880</td>\n      <td>-3.826834e-01</td>\n      <td>1.000000e+00</td>\n      <td>6.123234e-17</td>\n      <td>2015-08-27</td>\n    </tr>\n    <tr>\n      <th>144791</th>\n      <td>Uluru</td>\n      <td>3.2</td>\n      <td>9.5</td>\n      <td>43.0</td>\n      <td>26.0</td>\n      <td>24.0</td>\n      <td>64.0</td>\n      <td>35.0</td>\n      <td>1020.1</td>\n      <td>6.0</td>\n      <td>...</td>\n      <td>2</td>\n      <td>0</td>\n      <td>13.4</td>\n      <td>0.000000e+00</td>\n      <td>1.000000</td>\n      <td>-0.382683</td>\n      <td>9.238795e-01</td>\n      <td>3.826834e-01</td>\n      <td>9.238795e-01</td>\n      <td>2015-08-27</td>\n    </tr>\n  </tbody>\n</table>\n<p>25 rows × 29 columns</p>\n</div>"
     },
     "execution_count": 44,
     "metadata": {},
     "output_type": "execute_result"
    }
   ],
   "source": [
    "filter_by_date(df_prepared, \"27/08/2015\")"
   ],
   "metadata": {
    "collapsed": false
   }
  },
  {
   "cell_type": "code",
   "execution_count": 46,
   "outputs": [
    {
     "data": {
      "application/vnd.plotly.v1+json": {
       "data": [
        {
         "customdata": [
          [
           1
          ],
          [
           0
          ],
          [
           0
          ],
          [
           0
          ],
          [
           1
          ],
          [
           0
          ],
          [
           0
          ],
          [
           1
          ],
          [
           0
          ],
          [
           1
          ],
          [
           1
          ],
          [
           1
          ],
          [
           0
          ],
          [
           1
          ],
          [
           0
          ],
          [
           0
          ],
          [
           1
          ],
          [
           0
          ],
          [
           0
          ],
          [
           0
          ],
          [
           0
          ],
          [
           1
          ],
          [
           0
          ],
          [
           0
          ],
          [
           0
          ]
         ],
         "hovertemplate": "<b>%{hovertext}</b><br><br>latitude=%{lat}<br>longitude=%{lon}<br>raintomorrow=%{marker.color}<extra></extra>",
         "hovertext": [
          "Moree",
          "Sydney",
          "Sydney Airport",
          "Williamtown",
          "Tuggeranong",
          "Ballarat",
          "Bendigo",
          "Melbourne Airport",
          "Mildura",
          "Portland",
          "Watsonia",
          "Brisbane",
          "Cairns",
          "Gold Coast",
          "Townsville",
          "Mount Gambier",
          "Nuriootpa",
          "Pearce RAAF",
          "Perth Airport",
          "Perth",
          "Walpole",
          "Hobart",
          "Alice Springs",
          "Darwin",
          "Uluru"
         ],
         "lat": [
          -29.44708381,
          -33.75805696,
          -33.94759753,
          -32.18865479,
          -35.36591143,
          -37.55734398,
          -36.74395954,
          -37.66739489,
          -34.17475173,
          -38.32587758,
          -37.70213369,
          -27.14359405,
          -16.59532549,
          -28.0007545,
          -19.25215861,
          -37.74892794,
          -34.41976463,
          -31.65797491,
          -31.9384201,
          -31.92670393,
          -34.91354931,
          -42.86987705,
          -23.2156009,
          -12.45774287,
          -24.99790081
         ],
         "legendgroup": "",
         "lon": [
          149.8395826,
          151.1499317,
          151.1826156,
          151.835389,
          149.0979055,
          143.848612,
          144.2838805,
          144.8424452,
          142.131703,
          141.6090764,
          145.0826837,
          153.0738729,
          145.8929388,
          153.3982813,
          146.8168114,
          140.7812272,
          138.9949591,
          116.0240684,
          115.9672814,
          115.8596766,
          116.7081509,
          147.3227575,
          134.3150304,
          130.8440398,
          131.0892406
         ],
         "marker": {
          "color": [
           1,
           0,
           0,
           0,
           1,
           0,
           0,
           1,
           0,
           1,
           1,
           1,
           0,
           1,
           0,
           0,
           1,
           0,
           0,
           0,
           0,
           1,
           0,
           0,
           0
          ],
          "coloraxis": "coloraxis",
          "size": 10
         },
         "mode": "markers",
         "name": "",
         "showlegend": false,
         "subplot": "mapbox",
         "type": "scattermapbox"
        }
       ],
       "layout": {
        "template": {
         "data": {
          "candlestick": [
           {
            "decreasing": {
             "line": {
              "color": "#000033"
             }
            },
            "increasing": {
             "line": {
              "color": "#000032"
             }
            },
            "type": "candlestick"
           }
          ],
          "contourcarpet": [
           {
            "colorscale": [
             [
              0.0,
              "#000011"
             ],
             [
              0.1111111111111111,
              "#000012"
             ],
             [
              0.2222222222222222,
              "#000013"
             ],
             [
              0.3333333333333333,
              "#000014"
             ],
             [
              0.4444444444444444,
              "#000015"
             ],
             [
              0.5555555555555556,
              "#000016"
             ],
             [
              0.6666666666666666,
              "#000017"
             ],
             [
              0.7777777777777778,
              "#000018"
             ],
             [
              0.8888888888888888,
              "#000019"
             ],
             [
              1.0,
              "#000020"
             ]
            ],
            "type": "contourcarpet"
           }
          ],
          "contour": [
           {
            "colorscale": [
             [
              0.0,
              "#000011"
             ],
             [
              0.1111111111111111,
              "#000012"
             ],
             [
              0.2222222222222222,
              "#000013"
             ],
             [
              0.3333333333333333,
              "#000014"
             ],
             [
              0.4444444444444444,
              "#000015"
             ],
             [
              0.5555555555555556,
              "#000016"
             ],
             [
              0.6666666666666666,
              "#000017"
             ],
             [
              0.7777777777777778,
              "#000018"
             ],
             [
              0.8888888888888888,
              "#000019"
             ],
             [
              1.0,
              "#000020"
             ]
            ],
            "type": "contour"
           }
          ],
          "heatmap": [
           {
            "colorscale": [
             [
              0.0,
              "#000011"
             ],
             [
              0.1111111111111111,
              "#000012"
             ],
             [
              0.2222222222222222,
              "#000013"
             ],
             [
              0.3333333333333333,
              "#000014"
             ],
             [
              0.4444444444444444,
              "#000015"
             ],
             [
              0.5555555555555556,
              "#000016"
             ],
             [
              0.6666666666666666,
              "#000017"
             ],
             [
              0.7777777777777778,
              "#000018"
             ],
             [
              0.8888888888888888,
              "#000019"
             ],
             [
              1.0,
              "#000020"
             ]
            ],
            "type": "heatmap"
           }
          ],
          "histogram2d": [
           {
            "colorscale": [
             [
              0.0,
              "#000011"
             ],
             [
              0.1111111111111111,
              "#000012"
             ],
             [
              0.2222222222222222,
              "#000013"
             ],
             [
              0.3333333333333333,
              "#000014"
             ],
             [
              0.4444444444444444,
              "#000015"
             ],
             [
              0.5555555555555556,
              "#000016"
             ],
             [
              0.6666666666666666,
              "#000017"
             ],
             [
              0.7777777777777778,
              "#000018"
             ],
             [
              0.8888888888888888,
              "#000019"
             ],
             [
              1.0,
              "#000020"
             ]
            ],
            "type": "histogram2d"
           }
          ],
          "icicle": [
           {
            "textfont": {
             "color": "white"
            },
            "type": "icicle"
           }
          ],
          "sankey": [
           {
            "textfont": {
             "color": "#000036"
            },
            "type": "sankey"
           }
          ],
          "scatter": [
           {
            "marker": {
             "line": {
              "width": 0
             }
            },
            "type": "scatter"
           }
          ],
          "table": [
           {
            "cells": {
             "fill": {
              "color": "#000038"
             },
             "font": {
              "color": "#000037"
             },
             "line": {
              "color": "#000039"
             }
            },
            "header": {
             "fill": {
              "color": "#000040"
             },
             "font": {
              "color": "#000036"
             },
             "line": {
              "color": "#000039"
             }
            },
            "type": "table"
           }
          ],
          "waterfall": [
           {
            "connector": {
             "line": {
              "color": "#000036",
              "width": 2
             }
            },
            "decreasing": {
             "marker": {
              "color": "#000033"
             }
            },
            "increasing": {
             "marker": {
              "color": "#000032"
             }
            },
            "totals": {
             "marker": {
              "color": "#000034"
             }
            },
            "type": "waterfall"
           }
          ]
         },
         "layout": {
          "coloraxis": {
           "colorscale": [
            [
             0.0,
             "#000011"
            ],
            [
             0.1111111111111111,
             "#000012"
            ],
            [
             0.2222222222222222,
             "#000013"
            ],
            [
             0.3333333333333333,
             "#000014"
            ],
            [
             0.4444444444444444,
             "#000015"
            ],
            [
             0.5555555555555556,
             "#000016"
            ],
            [
             0.6666666666666666,
             "#000017"
            ],
            [
             0.7777777777777778,
             "#000018"
            ],
            [
             0.8888888888888888,
             "#000019"
            ],
            [
             1.0,
             "#000020"
            ]
           ]
          },
          "colorscale": {
           "diverging": [
            [
             0.0,
             "#000021"
            ],
            [
             0.1,
             "#000022"
            ],
            [
             0.2,
             "#000023"
            ],
            [
             0.3,
             "#000024"
            ],
            [
             0.4,
             "#000025"
            ],
            [
             0.5,
             "#000026"
            ],
            [
             0.6,
             "#000027"
            ],
            [
             0.7,
             "#000028"
            ],
            [
             0.8,
             "#000029"
            ],
            [
             0.9,
             "#000030"
            ],
            [
             1.0,
             "#000031"
            ]
           ],
           "sequential": [
            [
             0.0,
             "#000011"
            ],
            [
             0.1111111111111111,
             "#000012"
            ],
            [
             0.2222222222222222,
             "#000013"
            ],
            [
             0.3333333333333333,
             "#000014"
            ],
            [
             0.4444444444444444,
             "#000015"
            ],
            [
             0.5555555555555556,
             "#000016"
            ],
            [
             0.6666666666666666,
             "#000017"
            ],
            [
             0.7777777777777778,
             "#000018"
            ],
            [
             0.8888888888888888,
             "#000019"
            ],
            [
             1.0,
             "#000020"
            ]
           ],
           "sequentialminus": [
            [
             0.0,
             "#000011"
            ],
            [
             0.1111111111111111,
             "#000012"
            ],
            [
             0.2222222222222222,
             "#000013"
            ],
            [
             0.3333333333333333,
             "#000014"
            ],
            [
             0.4444444444444444,
             "#000015"
            ],
            [
             0.5555555555555556,
             "#000016"
            ],
            [
             0.6666666666666666,
             "#000017"
            ],
            [
             0.7777777777777778,
             "#000018"
            ],
            [
             0.8888888888888888,
             "#000019"
            ],
            [
             1.0,
             "#000020"
            ]
           ]
          },
          "colorway": [
           "#000001",
           "#000002",
           "#000003",
           "#000004",
           "#000005",
           "#000006",
           "#000007",
           "#000008",
           "#000009",
           "#000010"
          ]
         }
        },
        "mapbox": {
         "domain": {
          "x": [
           0.0,
           1.0
          ],
          "y": [
           0.0,
           1.0
          ]
         },
         "center": {
          "lat": -25,
          "lon": 135
         },
         "zoom": 2,
         "style": "carto-positron"
        },
        "coloraxis": {
         "colorbar": {
          "title": {
           "text": "Prévision de pluie du lendemain"
          },
          "tickvals": [
           0,
           1
          ],
          "ticktext": [
           "Non",
           "Oui"
          ]
         },
         "colorscale": [
          [
           0.0,
           "#000011"
          ],
          [
           0.1111111111111111,
           "#000012"
          ],
          [
           0.2222222222222222,
           "#000013"
          ],
          [
           0.3333333333333333,
           "#000014"
          ],
          [
           0.4444444444444444,
           "#000015"
          ],
          [
           0.5555555555555556,
           "#000016"
          ],
          [
           0.6666666666666666,
           "#000017"
          ],
          [
           0.7777777777777778,
           "#000018"
          ],
          [
           0.8888888888888888,
           "#000019"
          ],
          [
           1.0,
           "#000020"
          ]
         ]
        },
        "legend": {
         "tracegroupgap": 0
        },
        "title": {
         "text": "Prévision de pluie du lendemain"
        },
        "margin": {
         "r": 0,
         "t": 0,
         "l": 0,
         "b": 0
        }
       },
       "config": {
        "plotlyServerURL": "https://plot.ly"
       }
      },
      "text/html": "<div>                            <div id=\"4f9de393-811b-456b-aeba-2c65b1a5e726\" class=\"plotly-graph-div\" style=\"height:525px; width:100%;\"></div>            <script type=\"text/javascript\">                require([\"plotly\"], function(Plotly) {                    window.PLOTLYENV=window.PLOTLYENV || {};                                    if (document.getElementById(\"4f9de393-811b-456b-aeba-2c65b1a5e726\")) {                    Plotly.newPlot(                        \"4f9de393-811b-456b-aeba-2c65b1a5e726\",                        [{\"customdata\":[[1],[0],[0],[0],[1],[0],[0],[1],[0],[1],[1],[1],[0],[1],[0],[0],[1],[0],[0],[0],[0],[1],[0],[0],[0]],\"hovertemplate\":\"<b>%{hovertext}</b><br><br>latitude=%{lat}<br>longitude=%{lon}<br>raintomorrow=%{marker.color}<extra></extra>\",\"hovertext\":[\"Moree\",\"Sydney\",\"Sydney Airport\",\"Williamtown\",\"Tuggeranong\",\"Ballarat\",\"Bendigo\",\"Melbourne Airport\",\"Mildura\",\"Portland\",\"Watsonia\",\"Brisbane\",\"Cairns\",\"Gold Coast\",\"Townsville\",\"Mount Gambier\",\"Nuriootpa\",\"Pearce RAAF\",\"Perth Airport\",\"Perth\",\"Walpole\",\"Hobart\",\"Alice Springs\",\"Darwin\",\"Uluru\"],\"lat\":[-29.44708381,-33.75805696,-33.94759753,-32.18865479,-35.36591143,-37.55734398,-36.74395954,-37.66739489,-34.17475173,-38.32587758,-37.70213369,-27.14359405,-16.59532549,-28.0007545,-19.25215861,-37.74892794,-34.41976463,-31.65797491,-31.9384201,-31.92670393,-34.91354931,-42.86987705,-23.2156009,-12.45774287,-24.99790081],\"legendgroup\":\"\",\"lon\":[149.8395826,151.1499317,151.1826156,151.835389,149.0979055,143.848612,144.2838805,144.8424452,142.131703,141.6090764,145.0826837,153.0738729,145.8929388,153.3982813,146.8168114,140.7812272,138.9949591,116.0240684,115.9672814,115.8596766,116.7081509,147.3227575,134.3150304,130.8440398,131.0892406],\"marker\":{\"color\":[1,0,0,0,1,0,0,1,0,1,1,1,0,1,0,0,1,0,0,0,0,1,0,0,0],\"coloraxis\":\"coloraxis\",\"size\":10},\"mode\":\"markers\",\"name\":\"\",\"showlegend\":false,\"subplot\":\"mapbox\",\"type\":\"scattermapbox\"}],                        {\"template\":{\"data\":{\"candlestick\":[{\"decreasing\":{\"line\":{\"color\":\"#000033\"}},\"increasing\":{\"line\":{\"color\":\"#000032\"}},\"type\":\"candlestick\"}],\"contourcarpet\":[{\"colorscale\":[[0.0,\"#000011\"],[0.1111111111111111,\"#000012\"],[0.2222222222222222,\"#000013\"],[0.3333333333333333,\"#000014\"],[0.4444444444444444,\"#000015\"],[0.5555555555555556,\"#000016\"],[0.6666666666666666,\"#000017\"],[0.7777777777777778,\"#000018\"],[0.8888888888888888,\"#000019\"],[1.0,\"#000020\"]],\"type\":\"contourcarpet\"}],\"contour\":[{\"colorscale\":[[0.0,\"#000011\"],[0.1111111111111111,\"#000012\"],[0.2222222222222222,\"#000013\"],[0.3333333333333333,\"#000014\"],[0.4444444444444444,\"#000015\"],[0.5555555555555556,\"#000016\"],[0.6666666666666666,\"#000017\"],[0.7777777777777778,\"#000018\"],[0.8888888888888888,\"#000019\"],[1.0,\"#000020\"]],\"type\":\"contour\"}],\"heatmap\":[{\"colorscale\":[[0.0,\"#000011\"],[0.1111111111111111,\"#000012\"],[0.2222222222222222,\"#000013\"],[0.3333333333333333,\"#000014\"],[0.4444444444444444,\"#000015\"],[0.5555555555555556,\"#000016\"],[0.6666666666666666,\"#000017\"],[0.7777777777777778,\"#000018\"],[0.8888888888888888,\"#000019\"],[1.0,\"#000020\"]],\"type\":\"heatmap\"}],\"histogram2d\":[{\"colorscale\":[[0.0,\"#000011\"],[0.1111111111111111,\"#000012\"],[0.2222222222222222,\"#000013\"],[0.3333333333333333,\"#000014\"],[0.4444444444444444,\"#000015\"],[0.5555555555555556,\"#000016\"],[0.6666666666666666,\"#000017\"],[0.7777777777777778,\"#000018\"],[0.8888888888888888,\"#000019\"],[1.0,\"#000020\"]],\"type\":\"histogram2d\"}],\"icicle\":[{\"textfont\":{\"color\":\"white\"},\"type\":\"icicle\"}],\"sankey\":[{\"textfont\":{\"color\":\"#000036\"},\"type\":\"sankey\"}],\"scatter\":[{\"marker\":{\"line\":{\"width\":0}},\"type\":\"scatter\"}],\"table\":[{\"cells\":{\"fill\":{\"color\":\"#000038\"},\"font\":{\"color\":\"#000037\"},\"line\":{\"color\":\"#000039\"}},\"header\":{\"fill\":{\"color\":\"#000040\"},\"font\":{\"color\":\"#000036\"},\"line\":{\"color\":\"#000039\"}},\"type\":\"table\"}],\"waterfall\":[{\"connector\":{\"line\":{\"color\":\"#000036\",\"width\":2}},\"decreasing\":{\"marker\":{\"color\":\"#000033\"}},\"increasing\":{\"marker\":{\"color\":\"#000032\"}},\"totals\":{\"marker\":{\"color\":\"#000034\"}},\"type\":\"waterfall\"}]},\"layout\":{\"coloraxis\":{\"colorscale\":[[0.0,\"#000011\"],[0.1111111111111111,\"#000012\"],[0.2222222222222222,\"#000013\"],[0.3333333333333333,\"#000014\"],[0.4444444444444444,\"#000015\"],[0.5555555555555556,\"#000016\"],[0.6666666666666666,\"#000017\"],[0.7777777777777778,\"#000018\"],[0.8888888888888888,\"#000019\"],[1.0,\"#000020\"]]},\"colorscale\":{\"diverging\":[[0.0,\"#000021\"],[0.1,\"#000022\"],[0.2,\"#000023\"],[0.3,\"#000024\"],[0.4,\"#000025\"],[0.5,\"#000026\"],[0.6,\"#000027\"],[0.7,\"#000028\"],[0.8,\"#000029\"],[0.9,\"#000030\"],[1.0,\"#000031\"]],\"sequential\":[[0.0,\"#000011\"],[0.1111111111111111,\"#000012\"],[0.2222222222222222,\"#000013\"],[0.3333333333333333,\"#000014\"],[0.4444444444444444,\"#000015\"],[0.5555555555555556,\"#000016\"],[0.6666666666666666,\"#000017\"],[0.7777777777777778,\"#000018\"],[0.8888888888888888,\"#000019\"],[1.0,\"#000020\"]],\"sequentialminus\":[[0.0,\"#000011\"],[0.1111111111111111,\"#000012\"],[0.2222222222222222,\"#000013\"],[0.3333333333333333,\"#000014\"],[0.4444444444444444,\"#000015\"],[0.5555555555555556,\"#000016\"],[0.6666666666666666,\"#000017\"],[0.7777777777777778,\"#000018\"],[0.8888888888888888,\"#000019\"],[1.0,\"#000020\"]]},\"colorway\":[\"#000001\",\"#000002\",\"#000003\",\"#000004\",\"#000005\",\"#000006\",\"#000007\",\"#000008\",\"#000009\",\"#000010\"]}},\"mapbox\":{\"domain\":{\"x\":[0.0,1.0],\"y\":[0.0,1.0]},\"center\":{\"lat\":-25,\"lon\":135},\"zoom\":2,\"style\":\"carto-positron\"},\"coloraxis\":{\"colorbar\":{\"title\":{\"text\":\"Pr\\u00e9vision de pluie du lendemain\"},\"tickvals\":[0,1],\"ticktext\":[\"Non\",\"Oui\"]},\"colorscale\":[[0.0,\"#000011\"],[0.1111111111111111,\"#000012\"],[0.2222222222222222,\"#000013\"],[0.3333333333333333,\"#000014\"],[0.4444444444444444,\"#000015\"],[0.5555555555555556,\"#000016\"],[0.6666666666666666,\"#000017\"],[0.7777777777777778,\"#000018\"],[0.8888888888888888,\"#000019\"],[1.0,\"#000020\"]]},\"legend\":{\"tracegroupgap\":0},\"title\":{\"text\":\"Pr\\u00e9vision de pluie du lendemain\"},\"margin\":{\"r\":0,\"t\":0,\"l\":0,\"b\":0}},                        {\"responsive\": true}                    ).then(function(){\n                            \nvar gd = document.getElementById('4f9de393-811b-456b-aeba-2c65b1a5e726');\nvar x = new MutationObserver(function (mutations, observer) {{\n        var display = window.getComputedStyle(gd).display;\n        if (!display || display === 'none') {{\n            console.log([gd, 'removed!']);\n            Plotly.purge(gd);\n            observer.disconnect();\n        }}\n}});\n\n// Listen for the removal of the full notebook cells\nvar notebookContainer = gd.closest('#notebook-container');\nif (notebookContainer) {{\n    x.observe(notebookContainer, {childList: true});\n}}\n\n// Listen for the clearing of the current output cell\nvar outputEl = gd.closest('.output');\nif (outputEl) {{\n    x.observe(outputEl, {childList: true});\n}}\n\n                        })                };                });            </script>        </div>"
     },
     "metadata": {},
     "output_type": "display_data"
    }
   ],
   "source": [
    "display_map_rain(filter_by_date(df_prepared, \"27/08/2015\"))"
   ],
   "metadata": {
    "collapsed": false
   }
  },
  {
   "cell_type": "code",
   "execution_count": 48,
   "outputs": [],
   "source": [
    "df_prepared = filter_by_date(df_prepared, \"27/08/2015\")"
   ],
   "metadata": {
    "collapsed": false
   }
  },
  {
   "cell_type": "code",
   "execution_count": null,
   "outputs": [],
   "source": [],
   "metadata": {
    "collapsed": false
   }
  },
  {
   "cell_type": "code",
   "execution_count": 49,
   "outputs": [
    {
     "data": {
      "text/plain": "<folium.folium.Map at 0x1b70e16bcd0>",
      "text/html": "<div style=\"width:100%;\"><div style=\"position:relative;width:100%;height:0;padding-bottom:60%;\"><span style=\"color:#565656\">Make this Notebook Trusted to load map: File -> Trust Notebook</span><iframe srcdoc=\"&lt;!DOCTYPE html&gt;\n&lt;html&gt;\n&lt;head&gt;\n    \n    &lt;meta http-equiv=&quot;content-type&quot; content=&quot;text/html; charset=UTF-8&quot; /&gt;\n    \n        &lt;script&gt;\n            L_NO_TOUCH = false;\n            L_DISABLE_3D = false;\n        &lt;/script&gt;\n    \n    &lt;style&gt;html, body {width: 100%;height: 100%;margin: 0;padding: 0;}&lt;/style&gt;\n    &lt;style&gt;#map {position:absolute;top:0;bottom:0;right:0;left:0;}&lt;/style&gt;\n    &lt;script src=&quot;https://cdn.jsdelivr.net/npm/leaflet@1.9.3/dist/leaflet.js&quot;&gt;&lt;/script&gt;\n    &lt;script src=&quot;https://code.jquery.com/jquery-1.12.4.min.js&quot;&gt;&lt;/script&gt;\n    &lt;script src=&quot;https://cdn.jsdelivr.net/npm/bootstrap@5.2.2/dist/js/bootstrap.bundle.min.js&quot;&gt;&lt;/script&gt;\n    &lt;script src=&quot;https://cdnjs.cloudflare.com/ajax/libs/Leaflet.awesome-markers/2.0.2/leaflet.awesome-markers.js&quot;&gt;&lt;/script&gt;\n    &lt;link rel=&quot;stylesheet&quot; href=&quot;https://cdn.jsdelivr.net/npm/leaflet@1.9.3/dist/leaflet.css&quot;/&gt;\n    &lt;link rel=&quot;stylesheet&quot; href=&quot;https://cdn.jsdelivr.net/npm/bootstrap@5.2.2/dist/css/bootstrap.min.css&quot;/&gt;\n    &lt;link rel=&quot;stylesheet&quot; href=&quot;https://netdna.bootstrapcdn.com/bootstrap/3.0.0/css/bootstrap.min.css&quot;/&gt;\n    &lt;link rel=&quot;stylesheet&quot; href=&quot;https://cdn.jsdelivr.net/npm/@fortawesome/fontawesome-free@6.2.0/css/all.min.css&quot;/&gt;\n    &lt;link rel=&quot;stylesheet&quot; href=&quot;https://cdnjs.cloudflare.com/ajax/libs/Leaflet.awesome-markers/2.0.2/leaflet.awesome-markers.css&quot;/&gt;\n    &lt;link rel=&quot;stylesheet&quot; href=&quot;https://cdn.jsdelivr.net/gh/python-visualization/folium/folium/templates/leaflet.awesome.rotate.min.css&quot;/&gt;\n    \n            &lt;meta name=&quot;viewport&quot; content=&quot;width=device-width,\n                initial-scale=1.0, maximum-scale=1.0, user-scalable=no&quot; /&gt;\n            &lt;style&gt;\n                #map_24f760c196536e501a0e0b9b9c53f5b4 {\n                    position: relative;\n                    width: 100.0%;\n                    height: 100.0%;\n                    left: 0.0%;\n                    top: 0.0%;\n                }\n                .leaflet-container { font-size: 1rem; }\n            &lt;/style&gt;\n        \n&lt;/head&gt;\n&lt;body&gt;\n    \n    \n            &lt;div class=&quot;folium-map&quot; id=&quot;map_24f760c196536e501a0e0b9b9c53f5b4&quot; &gt;&lt;/div&gt;\n        \n&lt;/body&gt;\n&lt;script&gt;\n    \n    \n            var map_24f760c196536e501a0e0b9b9c53f5b4 = L.map(\n                &quot;map_24f760c196536e501a0e0b9b9c53f5b4&quot;,\n                {\n                    center: [-25.0, 135.0],\n                    crs: L.CRS.EPSG3857,\n                    zoom: 4,\n                    zoomControl: true,\n                    preferCanvas: false,\n                }\n            );\n\n            \n\n        \n    \n            var tile_layer_b67a8f22ed0559afc59159a5865f500d = L.tileLayer(\n                &quot;https://{s}.tile.openstreetmap.org/{z}/{x}/{y}.png&quot;,\n                {&quot;attribution&quot;: &quot;Data by \\u0026copy; \\u003ca target=\\&quot;_blank\\&quot; href=\\&quot;http://openstreetmap.org\\&quot;\\u003eOpenStreetMap\\u003c/a\\u003e, under \\u003ca target=\\&quot;_blank\\&quot; href=\\&quot;http://www.openstreetmap.org/copyright\\&quot;\\u003eODbL\\u003c/a\\u003e.&quot;, &quot;detectRetina&quot;: false, &quot;maxNativeZoom&quot;: 18, &quot;maxZoom&quot;: 18, &quot;minZoom&quot;: 0, &quot;noWrap&quot;: false, &quot;opacity&quot;: 1, &quot;subdomains&quot;: &quot;abc&quot;, &quot;tms&quot;: false}\n            ).addTo(map_24f760c196536e501a0e0b9b9c53f5b4);\n        \n    \n            var marker_47a680e08670cccb78a2bca9cfbfd273 = L.marker(\n                [-29.44708381, 149.8395826],\n                {}\n            ).addTo(map_24f760c196536e501a0e0b9b9c53f5b4);\n        \n    \n            var icon_788a19465b6e74121c5aa73d4da59e40 = L.AwesomeMarkers.icon(\n                {&quot;extraClasses&quot;: &quot;fa-rotate-0&quot;, &quot;icon&quot;: &quot;info-sign&quot;, &quot;iconColor&quot;: &quot;white&quot;, &quot;markerColor&quot;: &quot;blue&quot;, &quot;prefix&quot;: &quot;glyphicon&quot;}\n            );\n            marker_47a680e08670cccb78a2bca9cfbfd273.setIcon(icon_788a19465b6e74121c5aa73d4da59e40);\n        \n    \n            var marker_43096dbbc6af0ad4340458017891b83e = L.marker(\n                [-33.75805696, 151.1499317],\n                {}\n            ).addTo(map_24f760c196536e501a0e0b9b9c53f5b4);\n        \n    \n            var icon_320837386678253624d0153d3fd6aa58 = L.AwesomeMarkers.icon(\n                {&quot;extraClasses&quot;: &quot;fa-rotate-0&quot;, &quot;icon&quot;: &quot;info-sign&quot;, &quot;iconColor&quot;: &quot;white&quot;, &quot;markerColor&quot;: &quot;red&quot;, &quot;prefix&quot;: &quot;glyphicon&quot;}\n            );\n            marker_43096dbbc6af0ad4340458017891b83e.setIcon(icon_320837386678253624d0153d3fd6aa58);\n        \n    \n            var marker_71c3e527e19e81f5439c0395e5516bb2 = L.marker(\n                [-33.94759753, 151.1826156],\n                {}\n            ).addTo(map_24f760c196536e501a0e0b9b9c53f5b4);\n        \n    \n            var icon_629b81d82ca7e7e3170e038e11678e8e = L.AwesomeMarkers.icon(\n                {&quot;extraClasses&quot;: &quot;fa-rotate-0&quot;, &quot;icon&quot;: &quot;info-sign&quot;, &quot;iconColor&quot;: &quot;white&quot;, &quot;markerColor&quot;: &quot;red&quot;, &quot;prefix&quot;: &quot;glyphicon&quot;}\n            );\n            marker_71c3e527e19e81f5439c0395e5516bb2.setIcon(icon_629b81d82ca7e7e3170e038e11678e8e);\n        \n    \n            var marker_3506a49f8854f9eaec39ad407b891897 = L.marker(\n                [-32.18865479, 151.835389],\n                {}\n            ).addTo(map_24f760c196536e501a0e0b9b9c53f5b4);\n        \n    \n            var icon_89cdcf6c9e13fee30e60b21be97b77c4 = L.AwesomeMarkers.icon(\n                {&quot;extraClasses&quot;: &quot;fa-rotate-0&quot;, &quot;icon&quot;: &quot;info-sign&quot;, &quot;iconColor&quot;: &quot;white&quot;, &quot;markerColor&quot;: &quot;red&quot;, &quot;prefix&quot;: &quot;glyphicon&quot;}\n            );\n            marker_3506a49f8854f9eaec39ad407b891897.setIcon(icon_89cdcf6c9e13fee30e60b21be97b77c4);\n        \n    \n            var marker_e0cf4dbc8d24c3f47bd9bf459da9fb44 = L.marker(\n                [-35.36591143, 149.0979055],\n                {}\n            ).addTo(map_24f760c196536e501a0e0b9b9c53f5b4);\n        \n    \n            var icon_9b8126ea4cb1226be2bd3ad4f64b373a = L.AwesomeMarkers.icon(\n                {&quot;extraClasses&quot;: &quot;fa-rotate-0&quot;, &quot;icon&quot;: &quot;info-sign&quot;, &quot;iconColor&quot;: &quot;white&quot;, &quot;markerColor&quot;: &quot;blue&quot;, &quot;prefix&quot;: &quot;glyphicon&quot;}\n            );\n            marker_e0cf4dbc8d24c3f47bd9bf459da9fb44.setIcon(icon_9b8126ea4cb1226be2bd3ad4f64b373a);\n        \n    \n            var marker_800291aaf27158d415263946c0a90d2c = L.marker(\n                [-37.55734398, 143.848612],\n                {}\n            ).addTo(map_24f760c196536e501a0e0b9b9c53f5b4);\n        \n    \n            var icon_2fcad1c6f9c5a6f00bf948e650e6f844 = L.AwesomeMarkers.icon(\n                {&quot;extraClasses&quot;: &quot;fa-rotate-0&quot;, &quot;icon&quot;: &quot;info-sign&quot;, &quot;iconColor&quot;: &quot;white&quot;, &quot;markerColor&quot;: &quot;red&quot;, &quot;prefix&quot;: &quot;glyphicon&quot;}\n            );\n            marker_800291aaf27158d415263946c0a90d2c.setIcon(icon_2fcad1c6f9c5a6f00bf948e650e6f844);\n        \n    \n            var marker_89a1ae52d4a1dcd4a4c59ef735ee9ac7 = L.marker(\n                [-36.74395954, 144.2838805],\n                {}\n            ).addTo(map_24f760c196536e501a0e0b9b9c53f5b4);\n        \n    \n            var icon_01d1d60e89881cca5930aa7d88138681 = L.AwesomeMarkers.icon(\n                {&quot;extraClasses&quot;: &quot;fa-rotate-0&quot;, &quot;icon&quot;: &quot;info-sign&quot;, &quot;iconColor&quot;: &quot;white&quot;, &quot;markerColor&quot;: &quot;red&quot;, &quot;prefix&quot;: &quot;glyphicon&quot;}\n            );\n            marker_89a1ae52d4a1dcd4a4c59ef735ee9ac7.setIcon(icon_01d1d60e89881cca5930aa7d88138681);\n        \n    \n            var marker_28f954d15950b00379e8ab9247775c8e = L.marker(\n                [-37.66739489, 144.8424452],\n                {}\n            ).addTo(map_24f760c196536e501a0e0b9b9c53f5b4);\n        \n    \n            var icon_e4e2e400182083db61f02fc98dba78e5 = L.AwesomeMarkers.icon(\n                {&quot;extraClasses&quot;: &quot;fa-rotate-0&quot;, &quot;icon&quot;: &quot;info-sign&quot;, &quot;iconColor&quot;: &quot;white&quot;, &quot;markerColor&quot;: &quot;blue&quot;, &quot;prefix&quot;: &quot;glyphicon&quot;}\n            );\n            marker_28f954d15950b00379e8ab9247775c8e.setIcon(icon_e4e2e400182083db61f02fc98dba78e5);\n        \n    \n            var marker_358dad96b7f7de30167085d1e2183ae2 = L.marker(\n                [-34.17475173, 142.131703],\n                {}\n            ).addTo(map_24f760c196536e501a0e0b9b9c53f5b4);\n        \n    \n            var icon_3c75b19d1a0f5e2718c94de36d533fe6 = L.AwesomeMarkers.icon(\n                {&quot;extraClasses&quot;: &quot;fa-rotate-0&quot;, &quot;icon&quot;: &quot;info-sign&quot;, &quot;iconColor&quot;: &quot;white&quot;, &quot;markerColor&quot;: &quot;red&quot;, &quot;prefix&quot;: &quot;glyphicon&quot;}\n            );\n            marker_358dad96b7f7de30167085d1e2183ae2.setIcon(icon_3c75b19d1a0f5e2718c94de36d533fe6);\n        \n    \n            var marker_00b77e789fea1c0d1b704db45a147af2 = L.marker(\n                [-38.32587758, 141.6090764],\n                {}\n            ).addTo(map_24f760c196536e501a0e0b9b9c53f5b4);\n        \n    \n            var icon_2015de9be4f8cf7d2e1580a877783085 = L.AwesomeMarkers.icon(\n                {&quot;extraClasses&quot;: &quot;fa-rotate-0&quot;, &quot;icon&quot;: &quot;info-sign&quot;, &quot;iconColor&quot;: &quot;white&quot;, &quot;markerColor&quot;: &quot;blue&quot;, &quot;prefix&quot;: &quot;glyphicon&quot;}\n            );\n            marker_00b77e789fea1c0d1b704db45a147af2.setIcon(icon_2015de9be4f8cf7d2e1580a877783085);\n        \n    \n            var marker_8854fb0bbefc04939772500dffa3e589 = L.marker(\n                [-37.70213369, 145.0826837],\n                {}\n            ).addTo(map_24f760c196536e501a0e0b9b9c53f5b4);\n        \n    \n            var icon_4e8e5e6948f8fec3338ad3d3faa442fe = L.AwesomeMarkers.icon(\n                {&quot;extraClasses&quot;: &quot;fa-rotate-0&quot;, &quot;icon&quot;: &quot;info-sign&quot;, &quot;iconColor&quot;: &quot;white&quot;, &quot;markerColor&quot;: &quot;blue&quot;, &quot;prefix&quot;: &quot;glyphicon&quot;}\n            );\n            marker_8854fb0bbefc04939772500dffa3e589.setIcon(icon_4e8e5e6948f8fec3338ad3d3faa442fe);\n        \n    \n            var marker_81a72cb9e58b860745d393e61eb8cd48 = L.marker(\n                [-27.14359405, 153.0738729],\n                {}\n            ).addTo(map_24f760c196536e501a0e0b9b9c53f5b4);\n        \n    \n            var icon_b9f3e44845381b7506e2091f25795654 = L.AwesomeMarkers.icon(\n                {&quot;extraClasses&quot;: &quot;fa-rotate-0&quot;, &quot;icon&quot;: &quot;info-sign&quot;, &quot;iconColor&quot;: &quot;white&quot;, &quot;markerColor&quot;: &quot;blue&quot;, &quot;prefix&quot;: &quot;glyphicon&quot;}\n            );\n            marker_81a72cb9e58b860745d393e61eb8cd48.setIcon(icon_b9f3e44845381b7506e2091f25795654);\n        \n    \n            var marker_a6a6af12284b4cb3b8a7d947d2faedc8 = L.marker(\n                [-16.59532549, 145.8929388],\n                {}\n            ).addTo(map_24f760c196536e501a0e0b9b9c53f5b4);\n        \n    \n            var icon_3aaaf242a7f43ae166be834f61c5c868 = L.AwesomeMarkers.icon(\n                {&quot;extraClasses&quot;: &quot;fa-rotate-0&quot;, &quot;icon&quot;: &quot;info-sign&quot;, &quot;iconColor&quot;: &quot;white&quot;, &quot;markerColor&quot;: &quot;red&quot;, &quot;prefix&quot;: &quot;glyphicon&quot;}\n            );\n            marker_a6a6af12284b4cb3b8a7d947d2faedc8.setIcon(icon_3aaaf242a7f43ae166be834f61c5c868);\n        \n    \n            var marker_ed40be57070fcd488db2ee3d6489c149 = L.marker(\n                [-28.0007545, 153.3982813],\n                {}\n            ).addTo(map_24f760c196536e501a0e0b9b9c53f5b4);\n        \n    \n            var icon_728c1f6ec3fa073e4addb87658ddc028 = L.AwesomeMarkers.icon(\n                {&quot;extraClasses&quot;: &quot;fa-rotate-0&quot;, &quot;icon&quot;: &quot;info-sign&quot;, &quot;iconColor&quot;: &quot;white&quot;, &quot;markerColor&quot;: &quot;blue&quot;, &quot;prefix&quot;: &quot;glyphicon&quot;}\n            );\n            marker_ed40be57070fcd488db2ee3d6489c149.setIcon(icon_728c1f6ec3fa073e4addb87658ddc028);\n        \n    \n            var marker_f332d73b4e3ef271a2f9be90c90fadde = L.marker(\n                [-19.25215861, 146.8168114],\n                {}\n            ).addTo(map_24f760c196536e501a0e0b9b9c53f5b4);\n        \n    \n            var icon_633723636fba6b57a30f5e57170bd496 = L.AwesomeMarkers.icon(\n                {&quot;extraClasses&quot;: &quot;fa-rotate-0&quot;, &quot;icon&quot;: &quot;info-sign&quot;, &quot;iconColor&quot;: &quot;white&quot;, &quot;markerColor&quot;: &quot;red&quot;, &quot;prefix&quot;: &quot;glyphicon&quot;}\n            );\n            marker_f332d73b4e3ef271a2f9be90c90fadde.setIcon(icon_633723636fba6b57a30f5e57170bd496);\n        \n    \n            var marker_9294119da204ba83b6c3eca82da7d832 = L.marker(\n                [-37.74892794, 140.7812272],\n                {}\n            ).addTo(map_24f760c196536e501a0e0b9b9c53f5b4);\n        \n    \n            var icon_3f700de2f125ce20f456ac7992adaada = L.AwesomeMarkers.icon(\n                {&quot;extraClasses&quot;: &quot;fa-rotate-0&quot;, &quot;icon&quot;: &quot;info-sign&quot;, &quot;iconColor&quot;: &quot;white&quot;, &quot;markerColor&quot;: &quot;red&quot;, &quot;prefix&quot;: &quot;glyphicon&quot;}\n            );\n            marker_9294119da204ba83b6c3eca82da7d832.setIcon(icon_3f700de2f125ce20f456ac7992adaada);\n        \n    \n            var marker_7e781ce1a59dc031a7c52a136d27e2c2 = L.marker(\n                [-34.41976463, 138.9949591],\n                {}\n            ).addTo(map_24f760c196536e501a0e0b9b9c53f5b4);\n        \n    \n            var icon_4b1a0caf8f7cc47e73cc2f514d1a9a4a = L.AwesomeMarkers.icon(\n                {&quot;extraClasses&quot;: &quot;fa-rotate-0&quot;, &quot;icon&quot;: &quot;info-sign&quot;, &quot;iconColor&quot;: &quot;white&quot;, &quot;markerColor&quot;: &quot;blue&quot;, &quot;prefix&quot;: &quot;glyphicon&quot;}\n            );\n            marker_7e781ce1a59dc031a7c52a136d27e2c2.setIcon(icon_4b1a0caf8f7cc47e73cc2f514d1a9a4a);\n        \n    \n            var marker_31d4d9c20ec249235ab6f32692a312d5 = L.marker(\n                [-31.65797491, 116.0240684],\n                {}\n            ).addTo(map_24f760c196536e501a0e0b9b9c53f5b4);\n        \n    \n            var icon_2a9cf1503e76ef12429ef7cdaee993c9 = L.AwesomeMarkers.icon(\n                {&quot;extraClasses&quot;: &quot;fa-rotate-0&quot;, &quot;icon&quot;: &quot;info-sign&quot;, &quot;iconColor&quot;: &quot;white&quot;, &quot;markerColor&quot;: &quot;red&quot;, &quot;prefix&quot;: &quot;glyphicon&quot;}\n            );\n            marker_31d4d9c20ec249235ab6f32692a312d5.setIcon(icon_2a9cf1503e76ef12429ef7cdaee993c9);\n        \n    \n            var marker_39159dbe83b808b04502c1a573caf1f8 = L.marker(\n                [-31.9384201, 115.9672814],\n                {}\n            ).addTo(map_24f760c196536e501a0e0b9b9c53f5b4);\n        \n    \n            var icon_3dc5c7222ee4426f2991075b74e97b88 = L.AwesomeMarkers.icon(\n                {&quot;extraClasses&quot;: &quot;fa-rotate-0&quot;, &quot;icon&quot;: &quot;info-sign&quot;, &quot;iconColor&quot;: &quot;white&quot;, &quot;markerColor&quot;: &quot;red&quot;, &quot;prefix&quot;: &quot;glyphicon&quot;}\n            );\n            marker_39159dbe83b808b04502c1a573caf1f8.setIcon(icon_3dc5c7222ee4426f2991075b74e97b88);\n        \n    \n            var marker_32f8e95169e51e23032c8e4c69a4d1fe = L.marker(\n                [-31.92670393, 115.8596766],\n                {}\n            ).addTo(map_24f760c196536e501a0e0b9b9c53f5b4);\n        \n    \n            var icon_ee270aeb15987c7af56ab7e188374c8f = L.AwesomeMarkers.icon(\n                {&quot;extraClasses&quot;: &quot;fa-rotate-0&quot;, &quot;icon&quot;: &quot;info-sign&quot;, &quot;iconColor&quot;: &quot;white&quot;, &quot;markerColor&quot;: &quot;red&quot;, &quot;prefix&quot;: &quot;glyphicon&quot;}\n            );\n            marker_32f8e95169e51e23032c8e4c69a4d1fe.setIcon(icon_ee270aeb15987c7af56ab7e188374c8f);\n        \n    \n            var marker_e0048b0ea5740507e661c25ff8c8b852 = L.marker(\n                [-34.91354931, 116.7081509],\n                {}\n            ).addTo(map_24f760c196536e501a0e0b9b9c53f5b4);\n        \n    \n            var icon_061b6985533518ebe6237b387ae75788 = L.AwesomeMarkers.icon(\n                {&quot;extraClasses&quot;: &quot;fa-rotate-0&quot;, &quot;icon&quot;: &quot;info-sign&quot;, &quot;iconColor&quot;: &quot;white&quot;, &quot;markerColor&quot;: &quot;red&quot;, &quot;prefix&quot;: &quot;glyphicon&quot;}\n            );\n            marker_e0048b0ea5740507e661c25ff8c8b852.setIcon(icon_061b6985533518ebe6237b387ae75788);\n        \n    \n            var marker_8cbaa64d76ef3861528947b6c192fe35 = L.marker(\n                [-42.86987705, 147.3227575],\n                {}\n            ).addTo(map_24f760c196536e501a0e0b9b9c53f5b4);\n        \n    \n            var icon_56cec0c594c2536a45973401b7c70133 = L.AwesomeMarkers.icon(\n                {&quot;extraClasses&quot;: &quot;fa-rotate-0&quot;, &quot;icon&quot;: &quot;info-sign&quot;, &quot;iconColor&quot;: &quot;white&quot;, &quot;markerColor&quot;: &quot;blue&quot;, &quot;prefix&quot;: &quot;glyphicon&quot;}\n            );\n            marker_8cbaa64d76ef3861528947b6c192fe35.setIcon(icon_56cec0c594c2536a45973401b7c70133);\n        \n    \n            var marker_899aea0f4071a8112c6e5e146e254740 = L.marker(\n                [-23.2156009, 134.3150304],\n                {}\n            ).addTo(map_24f760c196536e501a0e0b9b9c53f5b4);\n        \n    \n            var icon_7b9c08fc69dcf6370da9924648937305 = L.AwesomeMarkers.icon(\n                {&quot;extraClasses&quot;: &quot;fa-rotate-0&quot;, &quot;icon&quot;: &quot;info-sign&quot;, &quot;iconColor&quot;: &quot;white&quot;, &quot;markerColor&quot;: &quot;red&quot;, &quot;prefix&quot;: &quot;glyphicon&quot;}\n            );\n            marker_899aea0f4071a8112c6e5e146e254740.setIcon(icon_7b9c08fc69dcf6370da9924648937305);\n        \n    \n            var marker_22d738a5cb15124afd90c3122234a94a = L.marker(\n                [-12.45774287, 130.8440398],\n                {}\n            ).addTo(map_24f760c196536e501a0e0b9b9c53f5b4);\n        \n    \n            var icon_295b1009dba4265d17b812f819b9a34b = L.AwesomeMarkers.icon(\n                {&quot;extraClasses&quot;: &quot;fa-rotate-0&quot;, &quot;icon&quot;: &quot;info-sign&quot;, &quot;iconColor&quot;: &quot;white&quot;, &quot;markerColor&quot;: &quot;red&quot;, &quot;prefix&quot;: &quot;glyphicon&quot;}\n            );\n            marker_22d738a5cb15124afd90c3122234a94a.setIcon(icon_295b1009dba4265d17b812f819b9a34b);\n        \n    \n            var marker_c918868d2f0ef3268fd7f519a5004188 = L.marker(\n                [-24.99790081, 131.0892406],\n                {}\n            ).addTo(map_24f760c196536e501a0e0b9b9c53f5b4);\n        \n    \n            var icon_afe92bd75ad48d296932ea912ac0e382 = L.AwesomeMarkers.icon(\n                {&quot;extraClasses&quot;: &quot;fa-rotate-0&quot;, &quot;icon&quot;: &quot;info-sign&quot;, &quot;iconColor&quot;: &quot;white&quot;, &quot;markerColor&quot;: &quot;red&quot;, &quot;prefix&quot;: &quot;glyphicon&quot;}\n            );\n            marker_c918868d2f0ef3268fd7f519a5004188.setIcon(icon_afe92bd75ad48d296932ea912ac0e382);\n        \n&lt;/script&gt;\n&lt;/html&gt;\" style=\"position:absolute;width:100%;height:100%;left:0;top:0;border:none !important;\" allowfullscreen webkitallowfullscreen mozallowfullscreen></iframe></div></div>"
     },
     "execution_count": 49,
     "metadata": {},
     "output_type": "execute_result"
    }
   ],
   "source": [
    "import folium\n",
    "\n",
    "def display_map_folium(df):\n",
    "    # Création de la carte centrée sur l'Australie\n",
    "    map = folium.Map(location=[-25, 135], zoom_start=4)\n",
    "\n",
    "    # Parcourir chaque ligne du DataFrame\n",
    "    for index, row in df.iterrows():\n",
    "        # Obtenir les coordonnées de la localisation\n",
    "        latitude = row['latitude']\n",
    "        longitude = row['longitude']\n",
    "\n",
    "        # Obtenir la valeur de raintomorrow\n",
    "        raintomorrow = row['raintomorrow']\n",
    "\n",
    "        # Déterminer la couleur du marqueur en fonction de la valeur de raintomorrow\n",
    "        color = 'blue' if raintomorrow == 1 else 'red'\n",
    "\n",
    "        # Créer le marqueur et l'ajouter à la carte\n",
    "        folium.Marker(location=[latitude, longitude], icon=folium.Icon(color=color)).add_to(map)\n",
    "\n",
    "    # Afficher la carte\n",
    "    return map\n",
    "\n",
    "# Utilisation de la fonction pour afficher la carte\n",
    "map = display_map_folium(df_prepared)\n",
    "map\n"
   ],
   "metadata": {
    "collapsed": false
   }
  },
  {
   "cell_type": "code",
   "execution_count": null,
   "outputs": [],
   "source": [],
   "metadata": {
    "collapsed": false
   }
  },
  {
   "cell_type": "code",
   "execution_count": 5,
   "outputs": [],
   "source": [
    "df_city = current_path / \"data\" / \"data_features_city.csv\"\n",
    "df_city = Dataload(df_city).load_df()\n"
   ],
   "metadata": {
    "collapsed": false
   }
  },
  {
   "cell_type": "code",
   "execution_count": 6,
   "outputs": [
    {
     "data": {
      "text/plain": "  location  evaporation  sunshine  windgustspeed  windspeed9am  windspeed3pm  \\\n0   Albury          7.6      10.9           44.0          20.0          24.0   \n1   Albury         12.0      12.9           44.0           4.0          22.0   \n2   Albury          8.0       8.0           46.0          19.0          26.0   \n3   Albury         10.0       2.2           24.0          11.0           9.0   \n4   Albury          4.8       6.7           41.0           7.0          20.0   \n\n   humidity9am  humidity3pm  pressure3pm  cloud9am  ...  climat  geography  \\\n0         71.0         22.0       1007.1       8.0  ...       0          0   \n1         44.0         25.0       1007.8       1.0  ...       0          0   \n2         38.0         30.0       1008.7       7.0  ...       0          0   \n3         45.0         16.0       1012.8       8.0  ...       0          0   \n4         82.0         33.0       1006.0       7.0  ...       0          0   \n\n   position  temp_amplitude  winddir9am_sin  winddir9am_cos  winddir3pm_sin  \\\n0         0             9.5    1.224647e-16       -1.000000        0.382683   \n1         0            17.7    9.238795e-01       -0.382683       -0.382683   \n2         0            12.8    1.224647e-16       -1.000000       -0.382683   \n3         0            18.8   -7.071068e-01        0.707107        0.000000   \n4         0            14.8    3.826834e-01        0.923880        0.707107   \n\n   winddir3pm_cos  windgustdir_sin  windgustdir_cos  \n0       -0.923880     1.224647e-16        -1.000000  \n1       -0.923880     3.826834e-01        -0.923880  \n2       -0.923880    -3.826834e-01        -0.923880  \n3        1.000000     7.071068e-01         0.707107  \n4       -0.707107     1.224647e-16        -1.000000  \n\n[5 rows x 28 columns]",
      "text/html": "<div>\n<style scoped>\n    .dataframe tbody tr th:only-of-type {\n        vertical-align: middle;\n    }\n\n    .dataframe tbody tr th {\n        vertical-align: top;\n    }\n\n    .dataframe thead th {\n        text-align: right;\n    }\n</style>\n<table border=\"1\" class=\"dataframe\">\n  <thead>\n    <tr style=\"text-align: right;\">\n      <th></th>\n      <th>location</th>\n      <th>evaporation</th>\n      <th>sunshine</th>\n      <th>windgustspeed</th>\n      <th>windspeed9am</th>\n      <th>windspeed3pm</th>\n      <th>humidity9am</th>\n      <th>humidity3pm</th>\n      <th>pressure3pm</th>\n      <th>cloud9am</th>\n      <th>...</th>\n      <th>climat</th>\n      <th>geography</th>\n      <th>position</th>\n      <th>temp_amplitude</th>\n      <th>winddir9am_sin</th>\n      <th>winddir9am_cos</th>\n      <th>winddir3pm_sin</th>\n      <th>winddir3pm_cos</th>\n      <th>windgustdir_sin</th>\n      <th>windgustdir_cos</th>\n    </tr>\n  </thead>\n  <tbody>\n    <tr>\n      <th>0</th>\n      <td>Albury</td>\n      <td>7.6</td>\n      <td>10.9</td>\n      <td>44.0</td>\n      <td>20.0</td>\n      <td>24.0</td>\n      <td>71.0</td>\n      <td>22.0</td>\n      <td>1007.1</td>\n      <td>8.0</td>\n      <td>...</td>\n      <td>0</td>\n      <td>0</td>\n      <td>0</td>\n      <td>9.5</td>\n      <td>1.224647e-16</td>\n      <td>-1.000000</td>\n      <td>0.382683</td>\n      <td>-0.923880</td>\n      <td>1.224647e-16</td>\n      <td>-1.000000</td>\n    </tr>\n    <tr>\n      <th>1</th>\n      <td>Albury</td>\n      <td>12.0</td>\n      <td>12.9</td>\n      <td>44.0</td>\n      <td>4.0</td>\n      <td>22.0</td>\n      <td>44.0</td>\n      <td>25.0</td>\n      <td>1007.8</td>\n      <td>1.0</td>\n      <td>...</td>\n      <td>0</td>\n      <td>0</td>\n      <td>0</td>\n      <td>17.7</td>\n      <td>9.238795e-01</td>\n      <td>-0.382683</td>\n      <td>-0.382683</td>\n      <td>-0.923880</td>\n      <td>3.826834e-01</td>\n      <td>-0.923880</td>\n    </tr>\n    <tr>\n      <th>2</th>\n      <td>Albury</td>\n      <td>8.0</td>\n      <td>8.0</td>\n      <td>46.0</td>\n      <td>19.0</td>\n      <td>26.0</td>\n      <td>38.0</td>\n      <td>30.0</td>\n      <td>1008.7</td>\n      <td>7.0</td>\n      <td>...</td>\n      <td>0</td>\n      <td>0</td>\n      <td>0</td>\n      <td>12.8</td>\n      <td>1.224647e-16</td>\n      <td>-1.000000</td>\n      <td>-0.382683</td>\n      <td>-0.923880</td>\n      <td>-3.826834e-01</td>\n      <td>-0.923880</td>\n    </tr>\n    <tr>\n      <th>3</th>\n      <td>Albury</td>\n      <td>10.0</td>\n      <td>2.2</td>\n      <td>24.0</td>\n      <td>11.0</td>\n      <td>9.0</td>\n      <td>45.0</td>\n      <td>16.0</td>\n      <td>1012.8</td>\n      <td>8.0</td>\n      <td>...</td>\n      <td>0</td>\n      <td>0</td>\n      <td>0</td>\n      <td>18.8</td>\n      <td>-7.071068e-01</td>\n      <td>0.707107</td>\n      <td>0.000000</td>\n      <td>1.000000</td>\n      <td>7.071068e-01</td>\n      <td>0.707107</td>\n    </tr>\n    <tr>\n      <th>4</th>\n      <td>Albury</td>\n      <td>4.8</td>\n      <td>6.7</td>\n      <td>41.0</td>\n      <td>7.0</td>\n      <td>20.0</td>\n      <td>82.0</td>\n      <td>33.0</td>\n      <td>1006.0</td>\n      <td>7.0</td>\n      <td>...</td>\n      <td>0</td>\n      <td>0</td>\n      <td>0</td>\n      <td>14.8</td>\n      <td>3.826834e-01</td>\n      <td>0.923880</td>\n      <td>0.707107</td>\n      <td>-0.707107</td>\n      <td>1.224647e-16</td>\n      <td>-1.000000</td>\n    </tr>\n  </tbody>\n</table>\n<p>5 rows × 28 columns</p>\n</div>"
     },
     "execution_count": 6,
     "metadata": {},
     "output_type": "execute_result"
    }
   ],
   "source": [
    "df_city.head()"
   ],
   "metadata": {
    "collapsed": false
   }
  },
  {
   "cell_type": "code",
   "execution_count": 7,
   "outputs": [],
   "source": [
    "from utils.load_and_apply_model import *\n",
    "from utils.load_data import filter_by_date"
   ],
   "metadata": {
    "collapsed": false
   }
  },
  {
   "cell_type": "code",
   "execution_count": 19,
   "outputs": [],
   "source": [
    "df2 = filter_by_date(df_city,\"01/12/2008\", return_index=True)"
   ],
   "metadata": {
    "collapsed": false
   }
  },
  {
   "cell_type": "code",
   "execution_count": 20,
   "outputs": [
    {
     "data": {
      "text/plain": "Int64Index([0, 49023, 58142, 67353, 84160, 87200, 90240, 120791, 129991,\n            139264],\n           dtype='int64')"
     },
     "execution_count": 20,
     "metadata": {},
     "output_type": "execute_result"
    }
   ],
   "source": [
    "df2"
   ],
   "metadata": {
    "collapsed": false
   }
  },
  {
   "cell_type": "code",
   "execution_count": 31,
   "outputs": [],
   "source": [],
   "metadata": {
    "collapsed": false
   }
  },
  {
   "cell_type": "code",
   "execution_count": 9,
   "outputs": [
    {
     "name": "stdout",
     "output_type": "stream",
     "text": [
      "Model loaded\n"
     ]
    }
   ],
   "source": [
    "model_random_forest = load_model(path_model / \"randomforestclassifier_model.joblib\")"
   ],
   "metadata": {
    "collapsed": false
   }
  },
  {
   "cell_type": "code",
   "execution_count": 21,
   "outputs": [
    {
     "data": {
      "text/plain": "[0, 49023, 58142, 67353, 84160, 87200, 90240, 120791, 129991, 139264]"
     },
     "execution_count": 21,
     "metadata": {},
     "output_type": "execute_result"
    }
   ],
   "source": [
    "list(df2)"
   ],
   "metadata": {
    "collapsed": false
   }
  },
  {
   "cell_type": "code",
   "execution_count": 12,
   "outputs": [],
   "source": [
    "df_data_features = current_path / \"data\" / \"data_features.csv\"\n",
    "df_data_features = Dataload(df_data_features).load_df()"
   ],
   "metadata": {
    "collapsed": false
   }
  },
  {
   "cell_type": "code",
   "execution_count": 13,
   "outputs": [
    {
     "data": {
      "text/plain": "       sunshine  windgustspeed  humidity3pm  pressure3pm  year  windspeed3pm  \\\n0          10.9           44.0         22.0       1007.1  2008          24.0   \n1          12.9           44.0         25.0       1007.8  2008          22.0   \n2           8.0           46.0         30.0       1008.7  2008          26.0   \n3           2.2           24.0         16.0       1012.8  2008           9.0   \n4           6.7           41.0         33.0       1006.0  2008          20.0   \n...         ...            ...          ...          ...   ...           ...   \n72702      10.9           31.0         12.0       1010.3  2016          11.0   \n72703       9.9           31.0         24.0       1013.8  2016          19.0   \n72704      11.0           31.0         21.0       1017.9  2016          19.0   \n72705      11.0           30.0         13.0       1017.1  2016           9.0   \n72706      11.0           33.0         12.0       1013.1  2016          24.0   \n\n       temp_amplitude  cloud3pm  rainfall  climat  ...  cloud9am  \\\n0                 9.5       7.0       0.6       0  ...       8.0   \n1                17.7       1.0       0.0       0  ...       1.0   \n2                12.8       2.0       0.0       0  ...       7.0   \n3                18.8       6.0       0.0       0  ...       8.0   \n4                14.8       8.0       1.0       0  ...       7.0   \n...               ...       ...       ...     ...  ...       ...   \n72702            21.7       4.0       0.0       1  ...       3.0   \n72703            12.9       1.0       0.0       1  ...       8.0   \n72704            15.2       0.0       0.0       1  ...       0.0   \n72705            19.2       0.0       0.0       1  ...       0.0   \n72706            21.5       1.0       0.0       1  ...       0.0   \n\n       winddir9am_sin   latitude  month  geography  raintoday  evaporation  \\\n0        1.224647e-16 -36.065766     12          0          0          7.6   \n1        9.238795e-01 -36.065766     12          0          0         12.0   \n2        1.224647e-16 -36.065766     12          0          0          8.0   \n3       -7.071068e-01 -36.065766     12          0          0         10.0   \n4        3.826834e-01 -36.065766     12          0          0          4.8   \n...               ...        ...    ...        ...        ...          ...   \n72702    0.000000e+00 -24.997901      4          2          0          9.6   \n72703   -1.000000e+00 -24.997901      4          2          0          8.0   \n72704    3.826834e-01 -24.997901      4          2          0          8.2   \n72705    0.000000e+00 -24.997901      4          2          0          7.8   \n72706    0.000000e+00 -24.997901      4          2          0          8.0   \n\n       windspeed9am  windgustdir_cos  raintomorrow  \n0              20.0    -1.000000e+00             0  \n1               4.0    -9.238795e-01             0  \n2              19.0    -9.238795e-01             0  \n3              11.0     7.071068e-01             0  \n4               7.0    -1.000000e+00             0  \n...             ...              ...           ...  \n72702           9.0    -9.238795e-01             0  \n72703          17.0    -3.826834e-01             0  \n72704          22.0     1.000000e+00             0  \n72705          13.0     1.000000e+00             0  \n72706          11.0     6.123234e-17             0  \n\n[72707 rows x 24 columns]",
      "text/html": "<div>\n<style scoped>\n    .dataframe tbody tr th:only-of-type {\n        vertical-align: middle;\n    }\n\n    .dataframe tbody tr th {\n        vertical-align: top;\n    }\n\n    .dataframe thead th {\n        text-align: right;\n    }\n</style>\n<table border=\"1\" class=\"dataframe\">\n  <thead>\n    <tr style=\"text-align: right;\">\n      <th></th>\n      <th>sunshine</th>\n      <th>windgustspeed</th>\n      <th>humidity3pm</th>\n      <th>pressure3pm</th>\n      <th>year</th>\n      <th>windspeed3pm</th>\n      <th>temp_amplitude</th>\n      <th>cloud3pm</th>\n      <th>rainfall</th>\n      <th>climat</th>\n      <th>...</th>\n      <th>cloud9am</th>\n      <th>winddir9am_sin</th>\n      <th>latitude</th>\n      <th>month</th>\n      <th>geography</th>\n      <th>raintoday</th>\n      <th>evaporation</th>\n      <th>windspeed9am</th>\n      <th>windgustdir_cos</th>\n      <th>raintomorrow</th>\n    </tr>\n  </thead>\n  <tbody>\n    <tr>\n      <th>0</th>\n      <td>10.9</td>\n      <td>44.0</td>\n      <td>22.0</td>\n      <td>1007.1</td>\n      <td>2008</td>\n      <td>24.0</td>\n      <td>9.5</td>\n      <td>7.0</td>\n      <td>0.6</td>\n      <td>0</td>\n      <td>...</td>\n      <td>8.0</td>\n      <td>1.224647e-16</td>\n      <td>-36.065766</td>\n      <td>12</td>\n      <td>0</td>\n      <td>0</td>\n      <td>7.6</td>\n      <td>20.0</td>\n      <td>-1.000000e+00</td>\n      <td>0</td>\n    </tr>\n    <tr>\n      <th>1</th>\n      <td>12.9</td>\n      <td>44.0</td>\n      <td>25.0</td>\n      <td>1007.8</td>\n      <td>2008</td>\n      <td>22.0</td>\n      <td>17.7</td>\n      <td>1.0</td>\n      <td>0.0</td>\n      <td>0</td>\n      <td>...</td>\n      <td>1.0</td>\n      <td>9.238795e-01</td>\n      <td>-36.065766</td>\n      <td>12</td>\n      <td>0</td>\n      <td>0</td>\n      <td>12.0</td>\n      <td>4.0</td>\n      <td>-9.238795e-01</td>\n      <td>0</td>\n    </tr>\n    <tr>\n      <th>2</th>\n      <td>8.0</td>\n      <td>46.0</td>\n      <td>30.0</td>\n      <td>1008.7</td>\n      <td>2008</td>\n      <td>26.0</td>\n      <td>12.8</td>\n      <td>2.0</td>\n      <td>0.0</td>\n      <td>0</td>\n      <td>...</td>\n      <td>7.0</td>\n      <td>1.224647e-16</td>\n      <td>-36.065766</td>\n      <td>12</td>\n      <td>0</td>\n      <td>0</td>\n      <td>8.0</td>\n      <td>19.0</td>\n      <td>-9.238795e-01</td>\n      <td>0</td>\n    </tr>\n    <tr>\n      <th>3</th>\n      <td>2.2</td>\n      <td>24.0</td>\n      <td>16.0</td>\n      <td>1012.8</td>\n      <td>2008</td>\n      <td>9.0</td>\n      <td>18.8</td>\n      <td>6.0</td>\n      <td>0.0</td>\n      <td>0</td>\n      <td>...</td>\n      <td>8.0</td>\n      <td>-7.071068e-01</td>\n      <td>-36.065766</td>\n      <td>12</td>\n      <td>0</td>\n      <td>0</td>\n      <td>10.0</td>\n      <td>11.0</td>\n      <td>7.071068e-01</td>\n      <td>0</td>\n    </tr>\n    <tr>\n      <th>4</th>\n      <td>6.7</td>\n      <td>41.0</td>\n      <td>33.0</td>\n      <td>1006.0</td>\n      <td>2008</td>\n      <td>20.0</td>\n      <td>14.8</td>\n      <td>8.0</td>\n      <td>1.0</td>\n      <td>0</td>\n      <td>...</td>\n      <td>7.0</td>\n      <td>3.826834e-01</td>\n      <td>-36.065766</td>\n      <td>12</td>\n      <td>0</td>\n      <td>0</td>\n      <td>4.8</td>\n      <td>7.0</td>\n      <td>-1.000000e+00</td>\n      <td>0</td>\n    </tr>\n    <tr>\n      <th>...</th>\n      <td>...</td>\n      <td>...</td>\n      <td>...</td>\n      <td>...</td>\n      <td>...</td>\n      <td>...</td>\n      <td>...</td>\n      <td>...</td>\n      <td>...</td>\n      <td>...</td>\n      <td>...</td>\n      <td>...</td>\n      <td>...</td>\n      <td>...</td>\n      <td>...</td>\n      <td>...</td>\n      <td>...</td>\n      <td>...</td>\n      <td>...</td>\n      <td>...</td>\n      <td>...</td>\n    </tr>\n    <tr>\n      <th>72702</th>\n      <td>10.9</td>\n      <td>31.0</td>\n      <td>12.0</td>\n      <td>1010.3</td>\n      <td>2016</td>\n      <td>11.0</td>\n      <td>21.7</td>\n      <td>4.0</td>\n      <td>0.0</td>\n      <td>1</td>\n      <td>...</td>\n      <td>3.0</td>\n      <td>0.000000e+00</td>\n      <td>-24.997901</td>\n      <td>4</td>\n      <td>2</td>\n      <td>0</td>\n      <td>9.6</td>\n      <td>9.0</td>\n      <td>-9.238795e-01</td>\n      <td>0</td>\n    </tr>\n    <tr>\n      <th>72703</th>\n      <td>9.9</td>\n      <td>31.0</td>\n      <td>24.0</td>\n      <td>1013.8</td>\n      <td>2016</td>\n      <td>19.0</td>\n      <td>12.9</td>\n      <td>1.0</td>\n      <td>0.0</td>\n      <td>1</td>\n      <td>...</td>\n      <td>8.0</td>\n      <td>-1.000000e+00</td>\n      <td>-24.997901</td>\n      <td>4</td>\n      <td>2</td>\n      <td>0</td>\n      <td>8.0</td>\n      <td>17.0</td>\n      <td>-3.826834e-01</td>\n      <td>0</td>\n    </tr>\n    <tr>\n      <th>72704</th>\n      <td>11.0</td>\n      <td>31.0</td>\n      <td>21.0</td>\n      <td>1017.9</td>\n      <td>2016</td>\n      <td>19.0</td>\n      <td>15.2</td>\n      <td>0.0</td>\n      <td>0.0</td>\n      <td>1</td>\n      <td>...</td>\n      <td>0.0</td>\n      <td>3.826834e-01</td>\n      <td>-24.997901</td>\n      <td>4</td>\n      <td>2</td>\n      <td>0</td>\n      <td>8.2</td>\n      <td>22.0</td>\n      <td>1.000000e+00</td>\n      <td>0</td>\n    </tr>\n    <tr>\n      <th>72705</th>\n      <td>11.0</td>\n      <td>30.0</td>\n      <td>13.0</td>\n      <td>1017.1</td>\n      <td>2016</td>\n      <td>9.0</td>\n      <td>19.2</td>\n      <td>0.0</td>\n      <td>0.0</td>\n      <td>1</td>\n      <td>...</td>\n      <td>0.0</td>\n      <td>0.000000e+00</td>\n      <td>-24.997901</td>\n      <td>4</td>\n      <td>2</td>\n      <td>0</td>\n      <td>7.8</td>\n      <td>13.0</td>\n      <td>1.000000e+00</td>\n      <td>0</td>\n    </tr>\n    <tr>\n      <th>72706</th>\n      <td>11.0</td>\n      <td>33.0</td>\n      <td>12.0</td>\n      <td>1013.1</td>\n      <td>2016</td>\n      <td>24.0</td>\n      <td>21.5</td>\n      <td>1.0</td>\n      <td>0.0</td>\n      <td>1</td>\n      <td>...</td>\n      <td>0.0</td>\n      <td>0.000000e+00</td>\n      <td>-24.997901</td>\n      <td>4</td>\n      <td>2</td>\n      <td>0</td>\n      <td>8.0</td>\n      <td>11.0</td>\n      <td>6.123234e-17</td>\n      <td>0</td>\n    </tr>\n  </tbody>\n</table>\n<p>72707 rows × 24 columns</p>\n</div>"
     },
     "execution_count": 13,
     "metadata": {},
     "output_type": "execute_result"
    }
   ],
   "source": [
    "df_data_features"
   ],
   "metadata": {
    "collapsed": false
   }
  },
  {
   "cell_type": "code",
   "execution_count": 22,
   "outputs": [
    {
     "ename": "KeyError",
     "evalue": "'[84160, 87200, 90240, 120791, 129991, 139264] not in index'",
     "output_type": "error",
     "traceback": [
      "\u001B[1;31m---------------------------------------------------------------------------\u001B[0m",
      "\u001B[1;31mKeyError\u001B[0m                                  Traceback (most recent call last)",
      "Cell \u001B[1;32mIn[22], line 1\u001B[0m\n\u001B[1;32m----> 1\u001B[0m \u001B[43mdf_data_features\u001B[49m\u001B[38;5;241;43m.\u001B[39;49m\u001B[43mloc\u001B[49m\u001B[43m[\u001B[49m\u001B[43mdf2\u001B[49m\u001B[43m]\u001B[49m\n",
      "File \u001B[1;32m~\\Documents\\virtualenv\\venv_weatherforecast\\lib\\site-packages\\pandas\\core\\indexing.py:1073\u001B[0m, in \u001B[0;36m_LocationIndexer.__getitem__\u001B[1;34m(self, key)\u001B[0m\n\u001B[0;32m   1070\u001B[0m axis \u001B[38;5;241m=\u001B[39m \u001B[38;5;28mself\u001B[39m\u001B[38;5;241m.\u001B[39maxis \u001B[38;5;129;01mor\u001B[39;00m \u001B[38;5;241m0\u001B[39m\n\u001B[0;32m   1072\u001B[0m maybe_callable \u001B[38;5;241m=\u001B[39m com\u001B[38;5;241m.\u001B[39mapply_if_callable(key, \u001B[38;5;28mself\u001B[39m\u001B[38;5;241m.\u001B[39mobj)\n\u001B[1;32m-> 1073\u001B[0m \u001B[38;5;28;01mreturn\u001B[39;00m \u001B[38;5;28;43mself\u001B[39;49m\u001B[38;5;241;43m.\u001B[39;49m\u001B[43m_getitem_axis\u001B[49m\u001B[43m(\u001B[49m\u001B[43mmaybe_callable\u001B[49m\u001B[43m,\u001B[49m\u001B[43m \u001B[49m\u001B[43maxis\u001B[49m\u001B[38;5;241;43m=\u001B[39;49m\u001B[43maxis\u001B[49m\u001B[43m)\u001B[49m\n",
      "File \u001B[1;32m~\\Documents\\virtualenv\\venv_weatherforecast\\lib\\site-packages\\pandas\\core\\indexing.py:1301\u001B[0m, in \u001B[0;36m_LocIndexer._getitem_axis\u001B[1;34m(self, key, axis)\u001B[0m\n\u001B[0;32m   1298\u001B[0m     \u001B[38;5;28;01mif\u001B[39;00m \u001B[38;5;28mhasattr\u001B[39m(key, \u001B[38;5;124m\"\u001B[39m\u001B[38;5;124mndim\u001B[39m\u001B[38;5;124m\"\u001B[39m) \u001B[38;5;129;01mand\u001B[39;00m key\u001B[38;5;241m.\u001B[39mndim \u001B[38;5;241m>\u001B[39m \u001B[38;5;241m1\u001B[39m:\n\u001B[0;32m   1299\u001B[0m         \u001B[38;5;28;01mraise\u001B[39;00m \u001B[38;5;167;01mValueError\u001B[39;00m(\u001B[38;5;124m\"\u001B[39m\u001B[38;5;124mCannot index with multidimensional key\u001B[39m\u001B[38;5;124m\"\u001B[39m)\n\u001B[1;32m-> 1301\u001B[0m     \u001B[38;5;28;01mreturn\u001B[39;00m \u001B[38;5;28;43mself\u001B[39;49m\u001B[38;5;241;43m.\u001B[39;49m\u001B[43m_getitem_iterable\u001B[49m\u001B[43m(\u001B[49m\u001B[43mkey\u001B[49m\u001B[43m,\u001B[49m\u001B[43m \u001B[49m\u001B[43maxis\u001B[49m\u001B[38;5;241;43m=\u001B[39;49m\u001B[43maxis\u001B[49m\u001B[43m)\u001B[49m\n\u001B[0;32m   1303\u001B[0m \u001B[38;5;66;03m# nested tuple slicing\u001B[39;00m\n\u001B[0;32m   1304\u001B[0m \u001B[38;5;28;01mif\u001B[39;00m is_nested_tuple(key, labels):\n",
      "File \u001B[1;32m~\\Documents\\virtualenv\\venv_weatherforecast\\lib\\site-packages\\pandas\\core\\indexing.py:1239\u001B[0m, in \u001B[0;36m_LocIndexer._getitem_iterable\u001B[1;34m(self, key, axis)\u001B[0m\n\u001B[0;32m   1236\u001B[0m \u001B[38;5;28mself\u001B[39m\u001B[38;5;241m.\u001B[39m_validate_key(key, axis)\n\u001B[0;32m   1238\u001B[0m \u001B[38;5;66;03m# A collection of keys\u001B[39;00m\n\u001B[1;32m-> 1239\u001B[0m keyarr, indexer \u001B[38;5;241m=\u001B[39m \u001B[38;5;28;43mself\u001B[39;49m\u001B[38;5;241;43m.\u001B[39;49m\u001B[43m_get_listlike_indexer\u001B[49m\u001B[43m(\u001B[49m\u001B[43mkey\u001B[49m\u001B[43m,\u001B[49m\u001B[43m \u001B[49m\u001B[43maxis\u001B[49m\u001B[43m)\u001B[49m\n\u001B[0;32m   1240\u001B[0m \u001B[38;5;28;01mreturn\u001B[39;00m \u001B[38;5;28mself\u001B[39m\u001B[38;5;241m.\u001B[39mobj\u001B[38;5;241m.\u001B[39m_reindex_with_indexers(\n\u001B[0;32m   1241\u001B[0m     {axis: [keyarr, indexer]}, copy\u001B[38;5;241m=\u001B[39m\u001B[38;5;28;01mTrue\u001B[39;00m, allow_dups\u001B[38;5;241m=\u001B[39m\u001B[38;5;28;01mTrue\u001B[39;00m\n\u001B[0;32m   1242\u001B[0m )\n",
      "File \u001B[1;32m~\\Documents\\virtualenv\\venv_weatherforecast\\lib\\site-packages\\pandas\\core\\indexing.py:1432\u001B[0m, in \u001B[0;36m_LocIndexer._get_listlike_indexer\u001B[1;34m(self, key, axis)\u001B[0m\n\u001B[0;32m   1429\u001B[0m ax \u001B[38;5;241m=\u001B[39m \u001B[38;5;28mself\u001B[39m\u001B[38;5;241m.\u001B[39mobj\u001B[38;5;241m.\u001B[39m_get_axis(axis)\n\u001B[0;32m   1430\u001B[0m axis_name \u001B[38;5;241m=\u001B[39m \u001B[38;5;28mself\u001B[39m\u001B[38;5;241m.\u001B[39mobj\u001B[38;5;241m.\u001B[39m_get_axis_name(axis)\n\u001B[1;32m-> 1432\u001B[0m keyarr, indexer \u001B[38;5;241m=\u001B[39m \u001B[43max\u001B[49m\u001B[38;5;241;43m.\u001B[39;49m\u001B[43m_get_indexer_strict\u001B[49m\u001B[43m(\u001B[49m\u001B[43mkey\u001B[49m\u001B[43m,\u001B[49m\u001B[43m \u001B[49m\u001B[43maxis_name\u001B[49m\u001B[43m)\u001B[49m\n\u001B[0;32m   1434\u001B[0m \u001B[38;5;28;01mreturn\u001B[39;00m keyarr, indexer\n",
      "File \u001B[1;32m~\\Documents\\virtualenv\\venv_weatherforecast\\lib\\site-packages\\pandas\\core\\indexes\\base.py:6113\u001B[0m, in \u001B[0;36mIndex._get_indexer_strict\u001B[1;34m(self, key, axis_name)\u001B[0m\n\u001B[0;32m   6110\u001B[0m \u001B[38;5;28;01melse\u001B[39;00m:\n\u001B[0;32m   6111\u001B[0m     keyarr, indexer, new_indexer \u001B[38;5;241m=\u001B[39m \u001B[38;5;28mself\u001B[39m\u001B[38;5;241m.\u001B[39m_reindex_non_unique(keyarr)\n\u001B[1;32m-> 6113\u001B[0m \u001B[38;5;28;43mself\u001B[39;49m\u001B[38;5;241;43m.\u001B[39;49m\u001B[43m_raise_if_missing\u001B[49m\u001B[43m(\u001B[49m\u001B[43mkeyarr\u001B[49m\u001B[43m,\u001B[49m\u001B[43m \u001B[49m\u001B[43mindexer\u001B[49m\u001B[43m,\u001B[49m\u001B[43m \u001B[49m\u001B[43maxis_name\u001B[49m\u001B[43m)\u001B[49m\n\u001B[0;32m   6115\u001B[0m keyarr \u001B[38;5;241m=\u001B[39m \u001B[38;5;28mself\u001B[39m\u001B[38;5;241m.\u001B[39mtake(indexer)\n\u001B[0;32m   6116\u001B[0m \u001B[38;5;28;01mif\u001B[39;00m \u001B[38;5;28misinstance\u001B[39m(key, Index):\n\u001B[0;32m   6117\u001B[0m     \u001B[38;5;66;03m# GH 42790 - Preserve name from an Index\u001B[39;00m\n",
      "File \u001B[1;32m~\\Documents\\virtualenv\\venv_weatherforecast\\lib\\site-packages\\pandas\\core\\indexes\\base.py:6176\u001B[0m, in \u001B[0;36mIndex._raise_if_missing\u001B[1;34m(self, key, indexer, axis_name)\u001B[0m\n\u001B[0;32m   6173\u001B[0m     \u001B[38;5;28;01mraise\u001B[39;00m \u001B[38;5;167;01mKeyError\u001B[39;00m(\u001B[38;5;124mf\u001B[39m\u001B[38;5;124m\"\u001B[39m\u001B[38;5;124mNone of [\u001B[39m\u001B[38;5;132;01m{\u001B[39;00mkey\u001B[38;5;132;01m}\u001B[39;00m\u001B[38;5;124m] are in the [\u001B[39m\u001B[38;5;132;01m{\u001B[39;00maxis_name\u001B[38;5;132;01m}\u001B[39;00m\u001B[38;5;124m]\u001B[39m\u001B[38;5;124m\"\u001B[39m)\n\u001B[0;32m   6175\u001B[0m not_found \u001B[38;5;241m=\u001B[39m \u001B[38;5;28mlist\u001B[39m(ensure_index(key)[missing_mask\u001B[38;5;241m.\u001B[39mnonzero()[\u001B[38;5;241m0\u001B[39m]]\u001B[38;5;241m.\u001B[39munique())\n\u001B[1;32m-> 6176\u001B[0m \u001B[38;5;28;01mraise\u001B[39;00m \u001B[38;5;167;01mKeyError\u001B[39;00m(\u001B[38;5;124mf\u001B[39m\u001B[38;5;124m\"\u001B[39m\u001B[38;5;132;01m{\u001B[39;00mnot_found\u001B[38;5;132;01m}\u001B[39;00m\u001B[38;5;124m not in index\u001B[39m\u001B[38;5;124m\"\u001B[39m)\n",
      "\u001B[1;31mKeyError\u001B[0m: '[84160, 87200, 90240, 120791, 129991, 139264] not in index'"
     ]
    }
   ],
   "source": [
    "df_data_features.loc[df2]"
   ],
   "metadata": {
    "collapsed": false
   }
  },
  {
   "cell_type": "code",
   "execution_count": 24,
   "outputs": [
    {
     "data": {
      "text/plain": "(72707, 24)"
     },
     "execution_count": 24,
     "metadata": {},
     "output_type": "execute_result"
    }
   ],
   "source": [
    "df_data_features.shape"
   ],
   "metadata": {
    "collapsed": false
   }
  },
  {
   "cell_type": "code",
   "execution_count": 34,
   "outputs": [
    {
     "data": {
      "text/plain": "       year  month\n0      2008     12\n1      2008     12\n2      2008     12\n3      2008     12\n4      2008     12\n...     ...    ...\n72702  2016      4\n72703  2016      4\n72704  2016      4\n72705  2016      4\n72706  2016      4\n\n[72707 rows x 2 columns]",
      "text/html": "<div>\n<style scoped>\n    .dataframe tbody tr th:only-of-type {\n        vertical-align: middle;\n    }\n\n    .dataframe tbody tr th {\n        vertical-align: top;\n    }\n\n    .dataframe thead th {\n        text-align: right;\n    }\n</style>\n<table border=\"1\" class=\"dataframe\">\n  <thead>\n    <tr style=\"text-align: right;\">\n      <th></th>\n      <th>year</th>\n      <th>month</th>\n    </tr>\n  </thead>\n  <tbody>\n    <tr>\n      <th>0</th>\n      <td>2008</td>\n      <td>12</td>\n    </tr>\n    <tr>\n      <th>1</th>\n      <td>2008</td>\n      <td>12</td>\n    </tr>\n    <tr>\n      <th>2</th>\n      <td>2008</td>\n      <td>12</td>\n    </tr>\n    <tr>\n      <th>3</th>\n      <td>2008</td>\n      <td>12</td>\n    </tr>\n    <tr>\n      <th>4</th>\n      <td>2008</td>\n      <td>12</td>\n    </tr>\n    <tr>\n      <th>...</th>\n      <td>...</td>\n      <td>...</td>\n    </tr>\n    <tr>\n      <th>72702</th>\n      <td>2016</td>\n      <td>4</td>\n    </tr>\n    <tr>\n      <th>72703</th>\n      <td>2016</td>\n      <td>4</td>\n    </tr>\n    <tr>\n      <th>72704</th>\n      <td>2016</td>\n      <td>4</td>\n    </tr>\n    <tr>\n      <th>72705</th>\n      <td>2016</td>\n      <td>4</td>\n    </tr>\n    <tr>\n      <th>72706</th>\n      <td>2016</td>\n      <td>4</td>\n    </tr>\n  </tbody>\n</table>\n<p>72707 rows × 2 columns</p>\n</div>"
     },
     "execution_count": 34,
     "metadata": {},
     "output_type": "execute_result"
    }
   ],
   "source": [
    "df_data_features[['year', 'month']]"
   ],
   "metadata": {
    "collapsed": false
   }
  },
  {
   "cell_type": "code",
   "execution_count": 46,
   "outputs": [
    {
     "name": "stdout",
     "output_type": "stream",
     "text": [
      "<class 'pandas.core.series.Series'>\n",
      "Int64Index: 72707 entries, 0 to 145034\n",
      "Series name: day\n",
      "Non-Null Count  Dtype\n",
      "--------------  -----\n",
      "72707 non-null  int32\n",
      "dtypes: int32(1)\n",
      "memory usage: 2.8 MB\n"
     ]
    }
   ],
   "source": [
    "df_city['day'].info()"
   ],
   "metadata": {
    "collapsed": false
   }
  },
  {
   "cell_type": "code",
   "execution_count": 47,
   "outputs": [],
   "source": [
    "df_data_features['day'] =  df_city['day'].values"
   ],
   "metadata": {
    "collapsed": false
   }
  },
  {
   "cell_type": "code",
   "execution_count": 48,
   "outputs": [],
   "source": [
    "df_data_features_webapp = df_data_features[['sunshine', 'windgustspeed', 'humidity3pm', 'pressure3pm', 'year','day' , 'month',\n",
    "       'windspeed3pm', 'temp_amplitude', 'cloud3pm', 'rainfall', 'climat',\n",
    "       'humidity9am', 'winddir3pm_sin', 'longitude', 'winddir9am_cos',\n",
    "       'cloud9am', 'winddir9am_sin', 'latitude',  'geography',\n",
    "       'raintoday', 'evaporation', 'windspeed9am', 'windgustdir_cos',\n",
    "       'raintomorrow']]"
   ],
   "metadata": {
    "collapsed": false
   }
  },
  {
   "cell_type": "code",
   "execution_count": 50,
   "outputs": [],
   "source": [
    "df_data_features_webapp.to_csv(current_path / \"data\" / \"data_features_webapp.csv\")"
   ],
   "metadata": {
    "collapsed": false
   }
  },
  {
   "cell_type": "code",
   "execution_count": 53,
   "outputs": [
    {
     "data": {
      "text/plain": "Index(['sunshine', 'windgustspeed', 'humidity3pm', 'pressure3pm', 'year',\n       'day', 'month', 'windspeed3pm', 'temp_amplitude', 'cloud3pm',\n       'rainfall', 'climat', 'humidity9am', 'winddir3pm_sin', 'longitude',\n       'winddir9am_cos', 'cloud9am', 'winddir9am_sin', 'latitude', 'geography',\n       'raintoday', 'evaporation', 'windspeed9am', 'windgustdir_cos',\n       'raintomorrow'],\n      dtype='object')"
     },
     "execution_count": 53,
     "metadata": {},
     "output_type": "execute_result"
    }
   ],
   "source": [
    "df_data_features_webapp.columns"
   ],
   "metadata": {
    "collapsed": false
   }
  },
  {
   "cell_type": "code",
   "execution_count": null,
   "outputs": [],
   "source": [],
   "metadata": {
    "collapsed": false
   }
  },
  {
   "cell_type": "code",
   "execution_count": null,
   "outputs": [],
   "source": [],
   "metadata": {
    "collapsed": false
   }
  },
  {
   "cell_type": "code",
   "execution_count": 54,
   "outputs": [
    {
     "data": {
      "text/plain": "       sunshine  windgustspeed  humidity3pm  pressure3pm  year  day  month  \\\n0          10.9           44.0         22.0       1007.1  2008    1     12   \n1          12.9           44.0         25.0       1007.8  2008    2     12   \n2           8.0           46.0         30.0       1008.7  2008    3     12   \n3           2.2           24.0         16.0       1012.8  2008    4     12   \n4           6.7           41.0         33.0       1006.0  2008    5     12   \n...         ...            ...          ...          ...   ...  ...    ...   \n72702      10.9           31.0         12.0       1010.3  2016   19      4   \n72703       9.9           31.0         24.0       1013.8  2016   20      4   \n72704      11.0           31.0         21.0       1017.9  2016   24      4   \n72705      11.0           30.0         13.0       1017.1  2016   25      4   \n72706      11.0           33.0         12.0       1013.1  2016   26      4   \n\n       windspeed3pm  temp_amplitude  cloud3pm  ...  winddir9am_cos  cloud9am  \\\n0              24.0             9.5       7.0  ...   -1.000000e+00       8.0   \n1              22.0            17.7       1.0  ...   -3.826834e-01       1.0   \n2              26.0            12.8       2.0  ...   -1.000000e+00       7.0   \n3               9.0            18.8       6.0  ...    7.071068e-01       8.0   \n4              20.0            14.8       8.0  ...    9.238795e-01       7.0   \n...             ...             ...       ...  ...             ...       ...   \n72702          11.0            21.7       4.0  ...    1.000000e+00       3.0   \n72703          19.0            12.9       1.0  ...   -1.836970e-16       8.0   \n72704          19.0            15.2       0.0  ...    9.238795e-01       0.0   \n72705           9.0            19.2       0.0  ...    1.000000e+00       0.0   \n72706          24.0            21.5       1.0  ...    1.000000e+00       0.0   \n\n       winddir9am_sin   latitude  geography  raintoday  evaporation  \\\n0        1.224647e-16 -36.065766          0          0          7.6   \n1        9.238795e-01 -36.065766          0          0         12.0   \n2        1.224647e-16 -36.065766          0          0          8.0   \n3       -7.071068e-01 -36.065766          0          0         10.0   \n4        3.826834e-01 -36.065766          0          0          4.8   \n...               ...        ...        ...        ...          ...   \n72702    0.000000e+00 -24.997901          2          0          9.6   \n72703   -1.000000e+00 -24.997901          2          0          8.0   \n72704    3.826834e-01 -24.997901          2          0          8.2   \n72705    0.000000e+00 -24.997901          2          0          7.8   \n72706    0.000000e+00 -24.997901          2          0          8.0   \n\n       windspeed9am  windgustdir_cos  raintomorrow  \n0              20.0    -1.000000e+00             0  \n1               4.0    -9.238795e-01             0  \n2              19.0    -9.238795e-01             0  \n3              11.0     7.071068e-01             0  \n4               7.0    -1.000000e+00             0  \n...             ...              ...           ...  \n72702           9.0    -9.238795e-01             0  \n72703          17.0    -3.826834e-01             0  \n72704          22.0     1.000000e+00             0  \n72705          13.0     1.000000e+00             0  \n72706          11.0     6.123234e-17             0  \n\n[72707 rows x 25 columns]",
      "text/html": "<div>\n<style scoped>\n    .dataframe tbody tr th:only-of-type {\n        vertical-align: middle;\n    }\n\n    .dataframe tbody tr th {\n        vertical-align: top;\n    }\n\n    .dataframe thead th {\n        text-align: right;\n    }\n</style>\n<table border=\"1\" class=\"dataframe\">\n  <thead>\n    <tr style=\"text-align: right;\">\n      <th></th>\n      <th>sunshine</th>\n      <th>windgustspeed</th>\n      <th>humidity3pm</th>\n      <th>pressure3pm</th>\n      <th>year</th>\n      <th>day</th>\n      <th>month</th>\n      <th>windspeed3pm</th>\n      <th>temp_amplitude</th>\n      <th>cloud3pm</th>\n      <th>...</th>\n      <th>winddir9am_cos</th>\n      <th>cloud9am</th>\n      <th>winddir9am_sin</th>\n      <th>latitude</th>\n      <th>geography</th>\n      <th>raintoday</th>\n      <th>evaporation</th>\n      <th>windspeed9am</th>\n      <th>windgustdir_cos</th>\n      <th>raintomorrow</th>\n    </tr>\n  </thead>\n  <tbody>\n    <tr>\n      <th>0</th>\n      <td>10.9</td>\n      <td>44.0</td>\n      <td>22.0</td>\n      <td>1007.1</td>\n      <td>2008</td>\n      <td>1</td>\n      <td>12</td>\n      <td>24.0</td>\n      <td>9.5</td>\n      <td>7.0</td>\n      <td>...</td>\n      <td>-1.000000e+00</td>\n      <td>8.0</td>\n      <td>1.224647e-16</td>\n      <td>-36.065766</td>\n      <td>0</td>\n      <td>0</td>\n      <td>7.6</td>\n      <td>20.0</td>\n      <td>-1.000000e+00</td>\n      <td>0</td>\n    </tr>\n    <tr>\n      <th>1</th>\n      <td>12.9</td>\n      <td>44.0</td>\n      <td>25.0</td>\n      <td>1007.8</td>\n      <td>2008</td>\n      <td>2</td>\n      <td>12</td>\n      <td>22.0</td>\n      <td>17.7</td>\n      <td>1.0</td>\n      <td>...</td>\n      <td>-3.826834e-01</td>\n      <td>1.0</td>\n      <td>9.238795e-01</td>\n      <td>-36.065766</td>\n      <td>0</td>\n      <td>0</td>\n      <td>12.0</td>\n      <td>4.0</td>\n      <td>-9.238795e-01</td>\n      <td>0</td>\n    </tr>\n    <tr>\n      <th>2</th>\n      <td>8.0</td>\n      <td>46.0</td>\n      <td>30.0</td>\n      <td>1008.7</td>\n      <td>2008</td>\n      <td>3</td>\n      <td>12</td>\n      <td>26.0</td>\n      <td>12.8</td>\n      <td>2.0</td>\n      <td>...</td>\n      <td>-1.000000e+00</td>\n      <td>7.0</td>\n      <td>1.224647e-16</td>\n      <td>-36.065766</td>\n      <td>0</td>\n      <td>0</td>\n      <td>8.0</td>\n      <td>19.0</td>\n      <td>-9.238795e-01</td>\n      <td>0</td>\n    </tr>\n    <tr>\n      <th>3</th>\n      <td>2.2</td>\n      <td>24.0</td>\n      <td>16.0</td>\n      <td>1012.8</td>\n      <td>2008</td>\n      <td>4</td>\n      <td>12</td>\n      <td>9.0</td>\n      <td>18.8</td>\n      <td>6.0</td>\n      <td>...</td>\n      <td>7.071068e-01</td>\n      <td>8.0</td>\n      <td>-7.071068e-01</td>\n      <td>-36.065766</td>\n      <td>0</td>\n      <td>0</td>\n      <td>10.0</td>\n      <td>11.0</td>\n      <td>7.071068e-01</td>\n      <td>0</td>\n    </tr>\n    <tr>\n      <th>4</th>\n      <td>6.7</td>\n      <td>41.0</td>\n      <td>33.0</td>\n      <td>1006.0</td>\n      <td>2008</td>\n      <td>5</td>\n      <td>12</td>\n      <td>20.0</td>\n      <td>14.8</td>\n      <td>8.0</td>\n      <td>...</td>\n      <td>9.238795e-01</td>\n      <td>7.0</td>\n      <td>3.826834e-01</td>\n      <td>-36.065766</td>\n      <td>0</td>\n      <td>0</td>\n      <td>4.8</td>\n      <td>7.0</td>\n      <td>-1.000000e+00</td>\n      <td>0</td>\n    </tr>\n    <tr>\n      <th>...</th>\n      <td>...</td>\n      <td>...</td>\n      <td>...</td>\n      <td>...</td>\n      <td>...</td>\n      <td>...</td>\n      <td>...</td>\n      <td>...</td>\n      <td>...</td>\n      <td>...</td>\n      <td>...</td>\n      <td>...</td>\n      <td>...</td>\n      <td>...</td>\n      <td>...</td>\n      <td>...</td>\n      <td>...</td>\n      <td>...</td>\n      <td>...</td>\n      <td>...</td>\n      <td>...</td>\n    </tr>\n    <tr>\n      <th>72702</th>\n      <td>10.9</td>\n      <td>31.0</td>\n      <td>12.0</td>\n      <td>1010.3</td>\n      <td>2016</td>\n      <td>19</td>\n      <td>4</td>\n      <td>11.0</td>\n      <td>21.7</td>\n      <td>4.0</td>\n      <td>...</td>\n      <td>1.000000e+00</td>\n      <td>3.0</td>\n      <td>0.000000e+00</td>\n      <td>-24.997901</td>\n      <td>2</td>\n      <td>0</td>\n      <td>9.6</td>\n      <td>9.0</td>\n      <td>-9.238795e-01</td>\n      <td>0</td>\n    </tr>\n    <tr>\n      <th>72703</th>\n      <td>9.9</td>\n      <td>31.0</td>\n      <td>24.0</td>\n      <td>1013.8</td>\n      <td>2016</td>\n      <td>20</td>\n      <td>4</td>\n      <td>19.0</td>\n      <td>12.9</td>\n      <td>1.0</td>\n      <td>...</td>\n      <td>-1.836970e-16</td>\n      <td>8.0</td>\n      <td>-1.000000e+00</td>\n      <td>-24.997901</td>\n      <td>2</td>\n      <td>0</td>\n      <td>8.0</td>\n      <td>17.0</td>\n      <td>-3.826834e-01</td>\n      <td>0</td>\n    </tr>\n    <tr>\n      <th>72704</th>\n      <td>11.0</td>\n      <td>31.0</td>\n      <td>21.0</td>\n      <td>1017.9</td>\n      <td>2016</td>\n      <td>24</td>\n      <td>4</td>\n      <td>19.0</td>\n      <td>15.2</td>\n      <td>0.0</td>\n      <td>...</td>\n      <td>9.238795e-01</td>\n      <td>0.0</td>\n      <td>3.826834e-01</td>\n      <td>-24.997901</td>\n      <td>2</td>\n      <td>0</td>\n      <td>8.2</td>\n      <td>22.0</td>\n      <td>1.000000e+00</td>\n      <td>0</td>\n    </tr>\n    <tr>\n      <th>72705</th>\n      <td>11.0</td>\n      <td>30.0</td>\n      <td>13.0</td>\n      <td>1017.1</td>\n      <td>2016</td>\n      <td>25</td>\n      <td>4</td>\n      <td>9.0</td>\n      <td>19.2</td>\n      <td>0.0</td>\n      <td>...</td>\n      <td>1.000000e+00</td>\n      <td>0.0</td>\n      <td>0.000000e+00</td>\n      <td>-24.997901</td>\n      <td>2</td>\n      <td>0</td>\n      <td>7.8</td>\n      <td>13.0</td>\n      <td>1.000000e+00</td>\n      <td>0</td>\n    </tr>\n    <tr>\n      <th>72706</th>\n      <td>11.0</td>\n      <td>33.0</td>\n      <td>12.0</td>\n      <td>1013.1</td>\n      <td>2016</td>\n      <td>26</td>\n      <td>4</td>\n      <td>24.0</td>\n      <td>21.5</td>\n      <td>1.0</td>\n      <td>...</td>\n      <td>1.000000e+00</td>\n      <td>0.0</td>\n      <td>0.000000e+00</td>\n      <td>-24.997901</td>\n      <td>2</td>\n      <td>0</td>\n      <td>8.0</td>\n      <td>11.0</td>\n      <td>6.123234e-17</td>\n      <td>0</td>\n    </tr>\n  </tbody>\n</table>\n<p>72707 rows × 25 columns</p>\n</div>"
     },
     "execution_count": 54,
     "metadata": {},
     "output_type": "execute_result"
    }
   ],
   "source": [
    "df_data_features_webapp"
   ],
   "metadata": {
    "collapsed": false
   }
  }
 ],
 "metadata": {
  "kernelspec": {
   "display_name": "Python 3",
   "language": "python",
   "name": "python3"
  },
  "language_info": {
   "codemirror_mode": {
    "name": "ipython",
    "version": 2
   },
   "file_extension": ".py",
   "mimetype": "text/x-python",
   "name": "python",
   "nbconvert_exporter": "python",
   "pygments_lexer": "ipython2",
   "version": "2.7.6"
  }
 },
 "nbformat": 4,
 "nbformat_minor": 0
}
