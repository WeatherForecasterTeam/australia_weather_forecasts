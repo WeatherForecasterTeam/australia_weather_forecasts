{
 "cells": [
  {
   "cell_type": "code",
   "execution_count": 1,
   "metadata": {
    "collapsed": true
   },
   "outputs": [],
   "source": [
    "import pandas as pd"
   ]
  },
  {
   "cell_type": "code",
   "execution_count": 12,
   "outputs": [],
   "source": [
    "df = pd.read_csv('data_features.csv', index_col=0)"
   ],
   "metadata": {
    "collapsed": false
   }
  },
  {
   "cell_type": "code",
   "execution_count": 13,
   "outputs": [],
   "source": [
    "data_features_with_location = pd.read_csv('data_features_with_location.csv', index_col=0)"
   ],
   "metadata": {
    "collapsed": false
   }
  },
  {
   "cell_type": "code",
   "execution_count": 14,
   "outputs": [
    {
     "data": {
      "text/plain": "   sunshine  windgustspeed  humidity3pm  pressure3pm  year  windspeed3pm  \\\n0      10.9           44.0         22.0       1007.1  2008          24.0   \n1      12.9           44.0         25.0       1007.8  2008          22.0   \n2       8.0           46.0         30.0       1008.7  2008          26.0   \n3       2.2           24.0         16.0       1012.8  2008           9.0   \n4       6.7           41.0         33.0       1006.0  2008          20.0   \n\n   temp_amplitude  cloud3pm  rainfall  climat  ...  cloud9am  winddir9am_sin  \\\n0             9.5       7.0       0.6       0  ...       8.0    1.224647e-16   \n1            17.7       1.0       0.0       0  ...       1.0    9.238795e-01   \n2            12.8       2.0       0.0       0  ...       7.0    1.224647e-16   \n3            18.8       6.0       0.0       0  ...       8.0   -7.071068e-01   \n4            14.8       8.0       1.0       0  ...       7.0    3.826834e-01   \n\n    latitude  month  geography  raintoday  evaporation  windspeed9am  \\\n0 -36.065766     12          0          0          7.6          20.0   \n1 -36.065766     12          0          0         12.0           4.0   \n2 -36.065766     12          0          0          8.0          19.0   \n3 -36.065766     12          0          0         10.0          11.0   \n4 -36.065766     12          0          0          4.8           7.0   \n\n   windgustdir_cos  raintomorrow  \n0        -1.000000             0  \n1        -0.923880             0  \n2        -0.923880             0  \n3         0.707107             0  \n4        -1.000000             0  \n\n[5 rows x 24 columns]",
      "text/html": "<div>\n<style scoped>\n    .dataframe tbody tr th:only-of-type {\n        vertical-align: middle;\n    }\n\n    .dataframe tbody tr th {\n        vertical-align: top;\n    }\n\n    .dataframe thead th {\n        text-align: right;\n    }\n</style>\n<table border=\"1\" class=\"dataframe\">\n  <thead>\n    <tr style=\"text-align: right;\">\n      <th></th>\n      <th>sunshine</th>\n      <th>windgustspeed</th>\n      <th>humidity3pm</th>\n      <th>pressure3pm</th>\n      <th>year</th>\n      <th>windspeed3pm</th>\n      <th>temp_amplitude</th>\n      <th>cloud3pm</th>\n      <th>rainfall</th>\n      <th>climat</th>\n      <th>...</th>\n      <th>cloud9am</th>\n      <th>winddir9am_sin</th>\n      <th>latitude</th>\n      <th>month</th>\n      <th>geography</th>\n      <th>raintoday</th>\n      <th>evaporation</th>\n      <th>windspeed9am</th>\n      <th>windgustdir_cos</th>\n      <th>raintomorrow</th>\n    </tr>\n  </thead>\n  <tbody>\n    <tr>\n      <th>0</th>\n      <td>10.9</td>\n      <td>44.0</td>\n      <td>22.0</td>\n      <td>1007.1</td>\n      <td>2008</td>\n      <td>24.0</td>\n      <td>9.5</td>\n      <td>7.0</td>\n      <td>0.6</td>\n      <td>0</td>\n      <td>...</td>\n      <td>8.0</td>\n      <td>1.224647e-16</td>\n      <td>-36.065766</td>\n      <td>12</td>\n      <td>0</td>\n      <td>0</td>\n      <td>7.6</td>\n      <td>20.0</td>\n      <td>-1.000000</td>\n      <td>0</td>\n    </tr>\n    <tr>\n      <th>1</th>\n      <td>12.9</td>\n      <td>44.0</td>\n      <td>25.0</td>\n      <td>1007.8</td>\n      <td>2008</td>\n      <td>22.0</td>\n      <td>17.7</td>\n      <td>1.0</td>\n      <td>0.0</td>\n      <td>0</td>\n      <td>...</td>\n      <td>1.0</td>\n      <td>9.238795e-01</td>\n      <td>-36.065766</td>\n      <td>12</td>\n      <td>0</td>\n      <td>0</td>\n      <td>12.0</td>\n      <td>4.0</td>\n      <td>-0.923880</td>\n      <td>0</td>\n    </tr>\n    <tr>\n      <th>2</th>\n      <td>8.0</td>\n      <td>46.0</td>\n      <td>30.0</td>\n      <td>1008.7</td>\n      <td>2008</td>\n      <td>26.0</td>\n      <td>12.8</td>\n      <td>2.0</td>\n      <td>0.0</td>\n      <td>0</td>\n      <td>...</td>\n      <td>7.0</td>\n      <td>1.224647e-16</td>\n      <td>-36.065766</td>\n      <td>12</td>\n      <td>0</td>\n      <td>0</td>\n      <td>8.0</td>\n      <td>19.0</td>\n      <td>-0.923880</td>\n      <td>0</td>\n    </tr>\n    <tr>\n      <th>3</th>\n      <td>2.2</td>\n      <td>24.0</td>\n      <td>16.0</td>\n      <td>1012.8</td>\n      <td>2008</td>\n      <td>9.0</td>\n      <td>18.8</td>\n      <td>6.0</td>\n      <td>0.0</td>\n      <td>0</td>\n      <td>...</td>\n      <td>8.0</td>\n      <td>-7.071068e-01</td>\n      <td>-36.065766</td>\n      <td>12</td>\n      <td>0</td>\n      <td>0</td>\n      <td>10.0</td>\n      <td>11.0</td>\n      <td>0.707107</td>\n      <td>0</td>\n    </tr>\n    <tr>\n      <th>4</th>\n      <td>6.7</td>\n      <td>41.0</td>\n      <td>33.0</td>\n      <td>1006.0</td>\n      <td>2008</td>\n      <td>20.0</td>\n      <td>14.8</td>\n      <td>8.0</td>\n      <td>1.0</td>\n      <td>0</td>\n      <td>...</td>\n      <td>7.0</td>\n      <td>3.826834e-01</td>\n      <td>-36.065766</td>\n      <td>12</td>\n      <td>0</td>\n      <td>0</td>\n      <td>4.8</td>\n      <td>7.0</td>\n      <td>-1.000000</td>\n      <td>0</td>\n    </tr>\n  </tbody>\n</table>\n<p>5 rows × 24 columns</p>\n</div>"
     },
     "execution_count": 14,
     "metadata": {},
     "output_type": "execute_result"
    }
   ],
   "source": [
    "df.head()"
   ],
   "metadata": {
    "collapsed": false
   }
  },
  {
   "cell_type": "code",
   "execution_count": 16,
   "outputs": [
    {
     "data": {
      "text/plain": "(72707, 29)"
     },
     "execution_count": 16,
     "metadata": {},
     "output_type": "execute_result"
    }
   ],
   "source": [
    "data_features_with_location.shape"
   ],
   "metadata": {
    "collapsed": false
   }
  },
  {
   "cell_type": "code",
   "execution_count": 15,
   "outputs": [],
   "source": [
    "data_features_with_location_prepared = pd.read_csv('data_features_with_location_prepared.csv', index_col=0)"
   ],
   "metadata": {
    "collapsed": false
   }
  },
  {
   "cell_type": "code",
   "execution_count": 17,
   "outputs": [
    {
     "data": {
      "text/plain": "  location  evaporation  sunshine  windgustspeed  windspeed9am  windspeed3pm  \\\n0   Albury          7.6      10.9           44.0          20.0          24.0   \n1   Albury         12.0      12.9           44.0           4.0          22.0   \n2   Albury          8.0       8.0           46.0          19.0          26.0   \n3   Albury         10.0       2.2           24.0          11.0           9.0   \n4   Albury          4.8       6.7           41.0           7.0          20.0   \n\n   humidity9am  humidity3pm  pressure3pm  cloud9am  ...  climat  geography  \\\n0         71.0         22.0       1007.1       8.0  ...       0          0   \n1         44.0         25.0       1007.8       1.0  ...       0          0   \n2         38.0         30.0       1008.7       7.0  ...       0          0   \n3         45.0         16.0       1012.8       8.0  ...       0          0   \n4         82.0         33.0       1006.0       7.0  ...       0          0   \n\n   position  temp_amplitude  winddir9am_sin  winddir9am_cos  winddir3pm_sin  \\\n0         0             9.5    1.224647e-16       -1.000000        0.382683   \n1         0            17.7    9.238795e-01       -0.382683       -0.382683   \n2         0            12.8    1.224647e-16       -1.000000       -0.382683   \n3         0            18.8   -7.071068e-01        0.707107        0.000000   \n4         0            14.8    3.826834e-01        0.923880        0.707107   \n\n   winddir3pm_cos  windgustdir_sin  windgustdir_cos  \n0       -0.923880     1.224647e-16        -1.000000  \n1       -0.923880     3.826834e-01        -0.923880  \n2       -0.923880    -3.826834e-01        -0.923880  \n3        1.000000     7.071068e-01         0.707107  \n4       -0.707107     1.224647e-16        -1.000000  \n\n[5 rows x 28 columns]",
      "text/html": "<div>\n<style scoped>\n    .dataframe tbody tr th:only-of-type {\n        vertical-align: middle;\n    }\n\n    .dataframe tbody tr th {\n        vertical-align: top;\n    }\n\n    .dataframe thead th {\n        text-align: right;\n    }\n</style>\n<table border=\"1\" class=\"dataframe\">\n  <thead>\n    <tr style=\"text-align: right;\">\n      <th></th>\n      <th>location</th>\n      <th>evaporation</th>\n      <th>sunshine</th>\n      <th>windgustspeed</th>\n      <th>windspeed9am</th>\n      <th>windspeed3pm</th>\n      <th>humidity9am</th>\n      <th>humidity3pm</th>\n      <th>pressure3pm</th>\n      <th>cloud9am</th>\n      <th>...</th>\n      <th>climat</th>\n      <th>geography</th>\n      <th>position</th>\n      <th>temp_amplitude</th>\n      <th>winddir9am_sin</th>\n      <th>winddir9am_cos</th>\n      <th>winddir3pm_sin</th>\n      <th>winddir3pm_cos</th>\n      <th>windgustdir_sin</th>\n      <th>windgustdir_cos</th>\n    </tr>\n  </thead>\n  <tbody>\n    <tr>\n      <th>0</th>\n      <td>Albury</td>\n      <td>7.6</td>\n      <td>10.9</td>\n      <td>44.0</td>\n      <td>20.0</td>\n      <td>24.0</td>\n      <td>71.0</td>\n      <td>22.0</td>\n      <td>1007.1</td>\n      <td>8.0</td>\n      <td>...</td>\n      <td>0</td>\n      <td>0</td>\n      <td>0</td>\n      <td>9.5</td>\n      <td>1.224647e-16</td>\n      <td>-1.000000</td>\n      <td>0.382683</td>\n      <td>-0.923880</td>\n      <td>1.224647e-16</td>\n      <td>-1.000000</td>\n    </tr>\n    <tr>\n      <th>1</th>\n      <td>Albury</td>\n      <td>12.0</td>\n      <td>12.9</td>\n      <td>44.0</td>\n      <td>4.0</td>\n      <td>22.0</td>\n      <td>44.0</td>\n      <td>25.0</td>\n      <td>1007.8</td>\n      <td>1.0</td>\n      <td>...</td>\n      <td>0</td>\n      <td>0</td>\n      <td>0</td>\n      <td>17.7</td>\n      <td>9.238795e-01</td>\n      <td>-0.382683</td>\n      <td>-0.382683</td>\n      <td>-0.923880</td>\n      <td>3.826834e-01</td>\n      <td>-0.923880</td>\n    </tr>\n    <tr>\n      <th>2</th>\n      <td>Albury</td>\n      <td>8.0</td>\n      <td>8.0</td>\n      <td>46.0</td>\n      <td>19.0</td>\n      <td>26.0</td>\n      <td>38.0</td>\n      <td>30.0</td>\n      <td>1008.7</td>\n      <td>7.0</td>\n      <td>...</td>\n      <td>0</td>\n      <td>0</td>\n      <td>0</td>\n      <td>12.8</td>\n      <td>1.224647e-16</td>\n      <td>-1.000000</td>\n      <td>-0.382683</td>\n      <td>-0.923880</td>\n      <td>-3.826834e-01</td>\n      <td>-0.923880</td>\n    </tr>\n    <tr>\n      <th>3</th>\n      <td>Albury</td>\n      <td>10.0</td>\n      <td>2.2</td>\n      <td>24.0</td>\n      <td>11.0</td>\n      <td>9.0</td>\n      <td>45.0</td>\n      <td>16.0</td>\n      <td>1012.8</td>\n      <td>8.0</td>\n      <td>...</td>\n      <td>0</td>\n      <td>0</td>\n      <td>0</td>\n      <td>18.8</td>\n      <td>-7.071068e-01</td>\n      <td>0.707107</td>\n      <td>0.000000</td>\n      <td>1.000000</td>\n      <td>7.071068e-01</td>\n      <td>0.707107</td>\n    </tr>\n    <tr>\n      <th>4</th>\n      <td>Albury</td>\n      <td>4.8</td>\n      <td>6.7</td>\n      <td>41.0</td>\n      <td>7.0</td>\n      <td>20.0</td>\n      <td>82.0</td>\n      <td>33.0</td>\n      <td>1006.0</td>\n      <td>7.0</td>\n      <td>...</td>\n      <td>0</td>\n      <td>0</td>\n      <td>0</td>\n      <td>14.8</td>\n      <td>3.826834e-01</td>\n      <td>0.923880</td>\n      <td>0.707107</td>\n      <td>-0.707107</td>\n      <td>1.224647e-16</td>\n      <td>-1.000000</td>\n    </tr>\n  </tbody>\n</table>\n<p>5 rows × 28 columns</p>\n</div>"
     },
     "execution_count": 17,
     "metadata": {},
     "output_type": "execute_result"
    }
   ],
   "source": [
    "data_features_with_location_prepared.head()"
   ],
   "metadata": {
    "collapsed": false
   }
  }
 ],
 "metadata": {
  "kernelspec": {
   "display_name": "Python 3",
   "language": "python",
   "name": "python3"
  },
  "language_info": {
   "codemirror_mode": {
    "name": "ipython",
    "version": 2
   },
   "file_extension": ".py",
   "mimetype": "text/x-python",
   "name": "python",
   "nbconvert_exporter": "python",
   "pygments_lexer": "ipython2",
   "version": "2.7.6"
  }
 },
 "nbformat": 4,
 "nbformat_minor": 0
}
