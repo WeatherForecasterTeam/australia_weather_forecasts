{
 "cells": [
  {
   "cell_type": "code",
   "execution_count": 1,
   "id": "298a052b-9ede-47c7-8920-538e6d941fea",
   "metadata": {},
   "outputs": [],
   "source": [
    "import numpy as np # linear algebra\n",
    "import pandas as pd # data processing, CSV file I/O (e.g. pd.read_csv)\n",
    "\n",
    "import matplotlib.pyplot as plt\n",
    "import seaborn as sns\n",
    "\n",
    "import geopandas as gpd\n",
    "from shapely.geometry import Point\n",
    "\n",
    "from mpl_toolkits.axes_grid1 import make_axes_locatable\n",
    "# Input data files are available in the read-only \"../input/\" directory\n",
    "# For example, running this (by clicking run or pressing Shift+Enter) will list all files under the input directory\n",
    "\n",
    "from sklearn.neighbors import DistanceMetric\n",
    "from math import radians\n",
    "\n",
    "from sklearn.preprocessing import LabelEncoder\n",
    "from sklearn.preprocessing import MinMaxScaler\n",
    "from sklearn.preprocessing import StandardScaler\n",
    "\n",
    "\n",
    "from sklearn import svm\n",
    "from sklearn import metrics\n",
    "\n",
    "\n",
    "from sklearn.datasets import make_moons, make_blobs\n",
    "from sklearn.ensemble import IsolationForest\n",
    "from sklearn.ensemble import AdaBoostClassifier\n",
    "from sklearn.model_selection import train_test_split, GridSearchCV, StratifiedKFold\n",
    "from sklearn.metrics import make_scorer, classification_report, make_scorer, recall_score, f1_score\n",
    "from sklearn.metrics import roc_curve,auc\n",
    "from sklearn.metrics import confusion_matrix\n",
    "from sklearn.metrics import ConfusionMatrixDisplay\n",
    "from sklearn.tree import DecisionTreeClassifier"
   ]
  },
  {
   "cell_type": "code",
   "execution_count": 2,
   "id": "69a01839-05ac-4040-a882-014be2bb7bf1",
   "metadata": {},
   "outputs": [
    {
     "data": {
      "text/html": [
       "<div>\n",
       "<style scoped>\n",
       "    .dataframe tbody tr th:only-of-type {\n",
       "        vertical-align: middle;\n",
       "    }\n",
       "\n",
       "    .dataframe tbody tr th {\n",
       "        vertical-align: top;\n",
       "    }\n",
       "\n",
       "    .dataframe thead th {\n",
       "        text-align: right;\n",
       "    }\n",
       "</style>\n",
       "<table border=\"1\" class=\"dataframe\">\n",
       "  <thead>\n",
       "    <tr style=\"text-align: right;\">\n",
       "      <th></th>\n",
       "      <th>sunshine</th>\n",
       "      <th>windgustspeed</th>\n",
       "      <th>humidity3pm</th>\n",
       "      <th>pressure3pm</th>\n",
       "      <th>year</th>\n",
       "      <th>windspeed3pm</th>\n",
       "      <th>temp_amplitude</th>\n",
       "      <th>cloud3pm</th>\n",
       "      <th>rainfall</th>\n",
       "      <th>climat</th>\n",
       "      <th>...</th>\n",
       "      <th>cloud9am</th>\n",
       "      <th>winddir9am_sin</th>\n",
       "      <th>latitude</th>\n",
       "      <th>month</th>\n",
       "      <th>geography</th>\n",
       "      <th>raintoday</th>\n",
       "      <th>evaporation</th>\n",
       "      <th>windspeed9am</th>\n",
       "      <th>windgustdir_cos</th>\n",
       "      <th>raintomorrow</th>\n",
       "    </tr>\n",
       "  </thead>\n",
       "  <tbody>\n",
       "    <tr>\n",
       "      <th>0</th>\n",
       "      <td>10.9</td>\n",
       "      <td>44.0</td>\n",
       "      <td>22.0</td>\n",
       "      <td>1007.1</td>\n",
       "      <td>2008</td>\n",
       "      <td>24.0</td>\n",
       "      <td>9.5</td>\n",
       "      <td>7.0</td>\n",
       "      <td>0.6</td>\n",
       "      <td>0</td>\n",
       "      <td>...</td>\n",
       "      <td>8.0</td>\n",
       "      <td>1.224647e-16</td>\n",
       "      <td>-36.065766</td>\n",
       "      <td>12</td>\n",
       "      <td>0</td>\n",
       "      <td>0</td>\n",
       "      <td>7.6</td>\n",
       "      <td>20.0</td>\n",
       "      <td>-1.000000</td>\n",
       "      <td>0</td>\n",
       "    </tr>\n",
       "    <tr>\n",
       "      <th>1</th>\n",
       "      <td>12.9</td>\n",
       "      <td>44.0</td>\n",
       "      <td>25.0</td>\n",
       "      <td>1007.8</td>\n",
       "      <td>2008</td>\n",
       "      <td>22.0</td>\n",
       "      <td>17.7</td>\n",
       "      <td>1.0</td>\n",
       "      <td>0.0</td>\n",
       "      <td>0</td>\n",
       "      <td>...</td>\n",
       "      <td>1.0</td>\n",
       "      <td>9.238795e-01</td>\n",
       "      <td>-36.065766</td>\n",
       "      <td>12</td>\n",
       "      <td>0</td>\n",
       "      <td>0</td>\n",
       "      <td>12.0</td>\n",
       "      <td>4.0</td>\n",
       "      <td>-0.923880</td>\n",
       "      <td>0</td>\n",
       "    </tr>\n",
       "    <tr>\n",
       "      <th>2</th>\n",
       "      <td>8.0</td>\n",
       "      <td>46.0</td>\n",
       "      <td>30.0</td>\n",
       "      <td>1008.7</td>\n",
       "      <td>2008</td>\n",
       "      <td>26.0</td>\n",
       "      <td>12.8</td>\n",
       "      <td>2.0</td>\n",
       "      <td>0.0</td>\n",
       "      <td>0</td>\n",
       "      <td>...</td>\n",
       "      <td>7.0</td>\n",
       "      <td>1.224647e-16</td>\n",
       "      <td>-36.065766</td>\n",
       "      <td>12</td>\n",
       "      <td>0</td>\n",
       "      <td>0</td>\n",
       "      <td>8.0</td>\n",
       "      <td>19.0</td>\n",
       "      <td>-0.923880</td>\n",
       "      <td>0</td>\n",
       "    </tr>\n",
       "    <tr>\n",
       "      <th>3</th>\n",
       "      <td>2.2</td>\n",
       "      <td>24.0</td>\n",
       "      <td>16.0</td>\n",
       "      <td>1012.8</td>\n",
       "      <td>2008</td>\n",
       "      <td>9.0</td>\n",
       "      <td>18.8</td>\n",
       "      <td>6.0</td>\n",
       "      <td>0.0</td>\n",
       "      <td>0</td>\n",
       "      <td>...</td>\n",
       "      <td>8.0</td>\n",
       "      <td>-7.071068e-01</td>\n",
       "      <td>-36.065766</td>\n",
       "      <td>12</td>\n",
       "      <td>0</td>\n",
       "      <td>0</td>\n",
       "      <td>10.0</td>\n",
       "      <td>11.0</td>\n",
       "      <td>0.707107</td>\n",
       "      <td>0</td>\n",
       "    </tr>\n",
       "    <tr>\n",
       "      <th>4</th>\n",
       "      <td>6.7</td>\n",
       "      <td>41.0</td>\n",
       "      <td>33.0</td>\n",
       "      <td>1006.0</td>\n",
       "      <td>2008</td>\n",
       "      <td>20.0</td>\n",
       "      <td>14.8</td>\n",
       "      <td>8.0</td>\n",
       "      <td>1.0</td>\n",
       "      <td>0</td>\n",
       "      <td>...</td>\n",
       "      <td>7.0</td>\n",
       "      <td>3.826834e-01</td>\n",
       "      <td>-36.065766</td>\n",
       "      <td>12</td>\n",
       "      <td>0</td>\n",
       "      <td>0</td>\n",
       "      <td>4.8</td>\n",
       "      <td>7.0</td>\n",
       "      <td>-1.000000</td>\n",
       "      <td>0</td>\n",
       "    </tr>\n",
       "  </tbody>\n",
       "</table>\n",
       "<p>5 rows × 24 columns</p>\n",
       "</div>"
      ],
      "text/plain": [
       "   sunshine  windgustspeed  humidity3pm  pressure3pm  year  windspeed3pm  \\\n",
       "0      10.9           44.0         22.0       1007.1  2008          24.0   \n",
       "1      12.9           44.0         25.0       1007.8  2008          22.0   \n",
       "2       8.0           46.0         30.0       1008.7  2008          26.0   \n",
       "3       2.2           24.0         16.0       1012.8  2008           9.0   \n",
       "4       6.7           41.0         33.0       1006.0  2008          20.0   \n",
       "\n",
       "   temp_amplitude  cloud3pm  rainfall  climat  ...  cloud9am  winddir9am_sin  \\\n",
       "0             9.5       7.0       0.6       0  ...       8.0    1.224647e-16   \n",
       "1            17.7       1.0       0.0       0  ...       1.0    9.238795e-01   \n",
       "2            12.8       2.0       0.0       0  ...       7.0    1.224647e-16   \n",
       "3            18.8       6.0       0.0       0  ...       8.0   -7.071068e-01   \n",
       "4            14.8       8.0       1.0       0  ...       7.0    3.826834e-01   \n",
       "\n",
       "    latitude  month  geography  raintoday  evaporation  windspeed9am  \\\n",
       "0 -36.065766     12          0          0          7.6          20.0   \n",
       "1 -36.065766     12          0          0         12.0           4.0   \n",
       "2 -36.065766     12          0          0          8.0          19.0   \n",
       "3 -36.065766     12          0          0         10.0          11.0   \n",
       "4 -36.065766     12          0          0          4.8           7.0   \n",
       "\n",
       "   windgustdir_cos  raintomorrow  \n",
       "0        -1.000000             0  \n",
       "1        -0.923880             0  \n",
       "2        -0.923880             0  \n",
       "3         0.707107             0  \n",
       "4        -1.000000             0  \n",
       "\n",
       "[5 rows x 24 columns]"
      ]
     },
     "execution_count": 2,
     "metadata": {},
     "output_type": "execute_result"
    }
   ],
   "source": [
    "# Utilisation du DF data_features qui contient toute les données nettoyées et le climat koppen intégré\n",
    "\n",
    "df = pd.read_csv('data_features.csv', sep=',', index_col=0) \n",
    "df.head()"
   ]
  },
  {
   "cell_type": "code",
   "execution_count": 3,
   "id": "e3f322d1-8017-4cc7-8070-06db5acc5a18",
   "metadata": {},
   "outputs": [],
   "source": [
    "features = [\"sunshine\",\"humidity3pm\",\"pressure3pm\",\"windspeed3pm\",\"temp_amplitude\",\n",
    "            \"cloud3pm\",\"rainfall\",\"climat\",\"winddir3pm_sin\",\"cloud9am\", \"latitude\", \n",
    "            \"geography\", \"raintoday\", \"evaporation\", \"windgustdir_cos\", \"windgustspeed\", \"humidity9am\", \"winddir3pm_sin\",\n",
    "           \"longitude\", \"winddir9am_cos\", \"winddir9am_sin\", \"windspeed9am\"]"
   ]
  },
  {
   "cell_type": "code",
   "execution_count": null,
   "id": "7d2ac5ea-1be9-46d9-85ae-7dc9f5296c49",
   "metadata": {},
   "outputs": [],
   "source": []
  },
  {
   "cell_type": "code",
   "execution_count": 5,
   "id": "ea19d566-fcbb-407d-86ef-12835d9aaf4a",
   "metadata": {},
   "outputs": [],
   "source": [
    "#On supprime toutes les observations avec des NA\n",
    "df1 = df.dropna()\n",
    "\n",
    "target = df1[\"raintomorrow\"]\n",
    "data = df1[features]"
   ]
  },
  {
   "cell_type": "code",
   "execution_count": 6,
   "id": "10020099-d983-4d82-b9bc-3a7137be05e8",
   "metadata": {},
   "outputs": [],
   "source": [
    "X_train, X_test, y_train, y_test = train_test_split(data, target, test_size=0.1, random_state=123)"
   ]
  },
  {
   "cell_type": "code",
   "execution_count": 11,
   "id": "7405bcb0-826e-4e79-a6c7-46c641bd9f2e",
   "metadata": {},
   "outputs": [
    {
     "name": "stdout",
     "output_type": "stream",
     "text": [
      "Epoch 1/30\n",
      "1818/1818 [==============================] - 10s 4ms/step - loss: 0.5704 - accuracy: 0.8251 - val_loss: 0.2997 - val_accuracy: 0.8846\n",
      "Epoch 2/30\n",
      "1818/1818 [==============================] - 7s 4ms/step - loss: 0.4925 - accuracy: 0.8326 - val_loss: 0.2963 - val_accuracy: 0.8834\n",
      "Epoch 3/30\n",
      "1818/1818 [==============================] - 7s 4ms/step - loss: 0.4626 - accuracy: 0.8371 - val_loss: 0.2871 - val_accuracy: 0.8820\n",
      "Epoch 4/30\n",
      "1818/1818 [==============================] - 7s 4ms/step - loss: 0.4358 - accuracy: 0.8393 - val_loss: 0.3226 - val_accuracy: 0.8788\n",
      "Epoch 5/30\n",
      "1818/1818 [==============================] - 7s 4ms/step - loss: 0.3959 - accuracy: 0.8491 - val_loss: 0.3100 - val_accuracy: 0.8810\n",
      "Epoch 6/30\n",
      "1818/1818 [==============================] - 7s 4ms/step - loss: 0.3723 - accuracy: 0.8530 - val_loss: 0.3111 - val_accuracy: 0.8777\n",
      "Epoch 7/30\n",
      "1818/1818 [==============================] - 7s 4ms/step - loss: 0.3557 - accuracy: 0.8572 - val_loss: 0.2831 - val_accuracy: 0.8825\n",
      "Epoch 8/30\n",
      "1818/1818 [==============================] - 7s 4ms/step - loss: 0.3540 - accuracy: 0.8559 - val_loss: 0.2881 - val_accuracy: 0.8833\n",
      "Epoch 9/30\n",
      "1818/1818 [==============================] - 7s 4ms/step - loss: 0.3407 - accuracy: 0.8603 - val_loss: 0.2985 - val_accuracy: 0.8782\n",
      "Epoch 10/30\n",
      "1818/1818 [==============================] - 7s 4ms/step - loss: 0.3331 - accuracy: 0.8644 - val_loss: 0.2809 - val_accuracy: 0.8845\n",
      "Epoch 11/30\n",
      "1818/1818 [==============================] - 7s 4ms/step - loss: 0.3310 - accuracy: 0.8646 - val_loss: 0.3021 - val_accuracy: 0.8762\n",
      "Epoch 12/30\n",
      "1818/1818 [==============================] - 7s 4ms/step - loss: 0.3266 - accuracy: 0.8666 - val_loss: 0.2825 - val_accuracy: 0.8872\n",
      "Epoch 13/30\n",
      "1818/1818 [==============================] - 7s 4ms/step - loss: 0.3259 - accuracy: 0.8680 - val_loss: 0.2782 - val_accuracy: 0.8856\n",
      "Epoch 14/30\n",
      "1818/1818 [==============================] - 7s 4ms/step - loss: 0.3215 - accuracy: 0.8685 - val_loss: 0.2872 - val_accuracy: 0.8855\n",
      "Epoch 15/30\n",
      "1818/1818 [==============================] - 7s 4ms/step - loss: 0.3200 - accuracy: 0.8696 - val_loss: 0.2731 - val_accuracy: 0.8883\n",
      "Epoch 16/30\n",
      "1818/1818 [==============================] - 7s 4ms/step - loss: 0.3201 - accuracy: 0.8690 - val_loss: 0.2758 - val_accuracy: 0.8856\n",
      "Epoch 17/30\n",
      "1818/1818 [==============================] - 7s 4ms/step - loss: 0.3191 - accuracy: 0.8697 - val_loss: 0.2764 - val_accuracy: 0.8876\n",
      "Epoch 18/30\n",
      "1818/1818 [==============================] - 7s 4ms/step - loss: 0.3189 - accuracy: 0.8695 - val_loss: 0.2921 - val_accuracy: 0.8816\n",
      "Epoch 19/30\n",
      "1818/1818 [==============================] - 7s 4ms/step - loss: 0.3187 - accuracy: 0.8694 - val_loss: 0.2789 - val_accuracy: 0.8855\n",
      "Epoch 20/30\n",
      "1818/1818 [==============================] - 7s 4ms/step - loss: 0.3174 - accuracy: 0.8705 - val_loss: 0.2904 - val_accuracy: 0.8812\n",
      "Epoch 21/30\n",
      "1818/1818 [==============================] - 7s 4ms/step - loss: 0.3168 - accuracy: 0.8697 - val_loss: 0.2758 - val_accuracy: 0.8870\n",
      "Epoch 22/30\n",
      "1818/1818 [==============================] - 7s 4ms/step - loss: 0.3169 - accuracy: 0.8701 - val_loss: 0.2789 - val_accuracy: 0.8860\n",
      "Epoch 23/30\n",
      "1818/1818 [==============================] - 7s 4ms/step - loss: 0.3168 - accuracy: 0.8701 - val_loss: 0.2895 - val_accuracy: 0.8845\n",
      "Epoch 24/30\n",
      "1818/1818 [==============================] - 6s 3ms/step - loss: 0.3166 - accuracy: 0.8706 - val_loss: 0.2755 - val_accuracy: 0.8867\n",
      "Epoch 25/30\n",
      "1818/1818 [==============================] - 7s 4ms/step - loss: 0.3165 - accuracy: 0.8709 - val_loss: 0.2780 - val_accuracy: 0.8844\n",
      "Epoch 26/30\n",
      "1818/1818 [==============================] - 7s 4ms/step - loss: 0.3159 - accuracy: 0.8704 - val_loss: 0.2827 - val_accuracy: 0.8856\n",
      "Epoch 27/30\n",
      "1818/1818 [==============================] - 7s 4ms/step - loss: 0.3156 - accuracy: 0.8704 - val_loss: 0.2731 - val_accuracy: 0.8880\n",
      "Epoch 28/30\n",
      "1818/1818 [==============================] - 7s 4ms/step - loss: 0.3164 - accuracy: 0.8703 - val_loss: 0.2818 - val_accuracy: 0.8876\n",
      "Epoch 29/30\n",
      "1818/1818 [==============================] - 7s 4ms/step - loss: 0.3158 - accuracy: 0.8709 - val_loss: 0.2770 - val_accuracy: 0.8860\n",
      "Epoch 30/30\n",
      "1818/1818 [==============================] - 7s 4ms/step - loss: 0.3153 - accuracy: 0.8702 - val_loss: 0.2749 - val_accuracy: 0.8876\n"
     ]
    },
    {
     "data": {
      "text/plain": [
       "<keras.callbacks.History at 0x18f5633e2b0>"
      ]
     },
     "execution_count": 11,
     "metadata": {},
     "output_type": "execute_result"
    }
   ],
   "source": [
    "from keras.models import Sequential\n",
    "from keras.layers import Dense\n",
    "\n",
    "# création d'un modèle séquentiel\n",
    "model = Sequential()\n",
    "\n",
    "# ajout des couches\n",
    "model.add(Dense(64, input_dim=len(features), activation='relu'))\n",
    "model.add(Dense(32, activation='relu'))\n",
    "model.add(Dense(1, activation='sigmoid'))\n",
    "\n",
    "# compilation du modèle\n",
    "model.compile(loss='binary_crossentropy', optimizer='adam', metrics=['accuracy'])\n",
    "\n",
    "# entraînement du modèle\n",
    "history_1 = model.fit(data, target, epochs=30, batch_size=32, validation_split=0.2)\n",
    "history_1"
   ]
  },
  {
   "cell_type": "code",
   "execution_count": 12,
   "id": "5e6f656e-8868-4f4e-84eb-3f3482bbc6aa",
   "metadata": {},
   "outputs": [
    {
     "data": {
      "image/png": "[encoded data removed]",
      "text/plain": [
       "<Figure size 432x288 with 1 Axes>"
      ]
     },
     "metadata": {
      "needs_background": "light"
     },
     "output_type": "display_data"
    }
   ],
   "source": [
    "history_df = pd.DataFrame(history_1.history)\n",
    "\n",
    "plt.plot(history_df.loc[:, ['loss']], \"#BDE2E2\", label='Training loss')\n",
    "plt.plot(history_df.loc[:, ['val_loss']],\"#C2C4E2\", label='Validation loss')\n",
    "plt.title('Training and Validation loss')\n",
    "plt.xlabel('Epochs')\n",
    "plt.ylabel('Loss')\n",
    "plt.legend(loc=\"best\")\n",
    "\n",
    "plt.show()"
   ]
  },
  {
   "cell_type": "code",
   "execution_count": 13,
   "id": "0511efec-87c0-47ea-a270-f94818503500",
   "metadata": {},
   "outputs": [
    {
     "data": {
      "image/png": "[encoded data removed]",
      "text/plain": [
       "<Figure size 432x288 with 1 Axes>"
      ]
     },
     "metadata": {
      "needs_background": "light"
     },
     "output_type": "display_data"
    }
   ],
   "source": [
    "history_df = pd.DataFrame(history_1.history)\n",
    "\n",
    "plt.plot(history_df.loc[:, ['accuracy']], \"#BDE2E2\", label='Training accuracy')\n",
    "plt.plot(history_df.loc[:, ['val_accuracy']], \"#C2C4E2\", label='Validation accuracy')\n",
    "\n",
    "plt.title('Training and Validation accuracy')\n",
    "plt.xlabel('Epochs')\n",
    "plt.ylabel('Accuracy')\n",
    "plt.legend()\n",
    "plt.show()"
   ]
  },
  {
   "cell_type": "code",
   "execution_count": 14,
   "id": "a5b74efc-b982-4f84-8f99-711abe53147c",
   "metadata": {},
   "outputs": [
    {
     "name": "stdout",
     "output_type": "stream",
     "text": [
      "Epoch 1/40\n",
      "1137/1137 [==============================] - 7s 5ms/step - loss: 5.5735 - accuracy: 0.7433 - val_loss: 0.4365 - val_accuracy: 0.8134\n",
      "Epoch 2/40\n",
      "1137/1137 [==============================] - 5s 4ms/step - loss: 1.6561 - accuracy: 0.7759 - val_loss: 0.5199 - val_accuracy: 0.8604\n",
      "Epoch 3/40\n",
      "1137/1137 [==============================] - 5s 4ms/step - loss: 0.9122 - accuracy: 0.8000 - val_loss: 0.5343 - val_accuracy: 0.8516\n",
      "Epoch 4/40\n",
      "1137/1137 [==============================] - 5s 4ms/step - loss: 0.5838 - accuracy: 0.8243 - val_loss: 0.3427 - val_accuracy: 0.8622\n",
      "Epoch 5/40\n",
      "1137/1137 [==============================] - 5s 4ms/step - loss: 0.4284 - accuracy: 0.8476 - val_loss: 0.3480 - val_accuracy: 0.8578\n",
      "Epoch 6/40\n",
      "1137/1137 [==============================] - 5s 4ms/step - loss: 0.3870 - accuracy: 0.8552 - val_loss: 0.3312 - val_accuracy: 0.8676\n",
      "Epoch 7/40\n",
      "1137/1137 [==============================] - 5s 4ms/step - loss: 0.3725 - accuracy: 0.8581 - val_loss: 0.3295 - val_accuracy: 0.8680\n",
      "Epoch 8/40\n",
      "1137/1137 [==============================] - 5s 4ms/step - loss: 0.3538 - accuracy: 0.8618 - val_loss: 0.3247 - val_accuracy: 0.8692\n",
      "Epoch 9/40\n",
      "1137/1137 [==============================] - 5s 5ms/step - loss: 0.3456 - accuracy: 0.8642 - val_loss: 0.3277 - val_accuracy: 0.8687\n",
      "Epoch 10/40\n",
      "1137/1137 [==============================] - 5s 5ms/step - loss: 0.3411 - accuracy: 0.8641 - val_loss: 0.3852 - val_accuracy: 0.8284\n",
      "Epoch 11/40\n",
      "1137/1137 [==============================] - 5s 4ms/step - loss: 0.3384 - accuracy: 0.8650 - val_loss: 0.3208 - val_accuracy: 0.8704\n",
      "Epoch 12/40\n",
      "1137/1137 [==============================] - 5s 4ms/step - loss: 0.3313 - accuracy: 0.8675 - val_loss: 0.3319 - val_accuracy: 0.8667\n",
      "Epoch 13/40\n",
      "1137/1137 [==============================] - 5s 4ms/step - loss: 0.3310 - accuracy: 0.8670 - val_loss: 0.3259 - val_accuracy: 0.8676\n",
      "Epoch 14/40\n",
      "1137/1137 [==============================] - 5s 4ms/step - loss: 0.3276 - accuracy: 0.8684 - val_loss: 0.3180 - val_accuracy: 0.8709\n",
      "Epoch 15/40\n",
      "1137/1137 [==============================] - 5s 4ms/step - loss: 0.3250 - accuracy: 0.8690 - val_loss: 0.3198 - val_accuracy: 0.8700\n",
      "Epoch 16/40\n",
      "1137/1137 [==============================] - 5s 5ms/step - loss: 0.3231 - accuracy: 0.8695 - val_loss: 0.3169 - val_accuracy: 0.8724\n",
      "Epoch 17/40\n",
      "1137/1137 [==============================] - 5s 4ms/step - loss: 0.3219 - accuracy: 0.8712 - val_loss: 0.3199 - val_accuracy: 0.8687\n",
      "Epoch 18/40\n",
      "1137/1137 [==============================] - 5s 4ms/step - loss: 0.3214 - accuracy: 0.8704 - val_loss: 0.3148 - val_accuracy: 0.8720\n",
      "Epoch 19/40\n",
      "1137/1137 [==============================] - 5s 4ms/step - loss: 0.3184 - accuracy: 0.8712 - val_loss: 0.3202 - val_accuracy: 0.8720\n",
      "Epoch 20/40\n",
      "1137/1137 [==============================] - 5s 4ms/step - loss: 0.3189 - accuracy: 0.8713 - val_loss: 0.3153 - val_accuracy: 0.8720\n",
      "Epoch 21/40\n",
      "1137/1137 [==============================] - 5s 4ms/step - loss: 0.3185 - accuracy: 0.8706 - val_loss: 0.3176 - val_accuracy: 0.8722\n",
      "Epoch 22/40\n",
      "1137/1137 [==============================] - 5s 4ms/step - loss: 0.3177 - accuracy: 0.8713 - val_loss: 0.3138 - val_accuracy: 0.8722\n",
      "Epoch 23/40\n",
      "1137/1137 [==============================] - 5s 4ms/step - loss: 0.3169 - accuracy: 0.8716 - val_loss: 0.3138 - val_accuracy: 0.8718\n",
      "Epoch 24/40\n",
      "1137/1137 [==============================] - 5s 4ms/step - loss: 0.3170 - accuracy: 0.8723 - val_loss: 0.3136 - val_accuracy: 0.8722\n",
      "Epoch 25/40\n",
      "1137/1137 [==============================] - 5s 4ms/step - loss: 0.3150 - accuracy: 0.8726 - val_loss: 0.3126 - val_accuracy: 0.8740\n",
      "Epoch 26/40\n",
      "1137/1137 [==============================] - 5s 4ms/step - loss: 0.3156 - accuracy: 0.8721 - val_loss: 0.3128 - val_accuracy: 0.8713\n",
      "Epoch 27/40\n",
      "1137/1137 [==============================] - 5s 4ms/step - loss: 0.3147 - accuracy: 0.8730 - val_loss: 0.3117 - val_accuracy: 0.8728\n",
      "Epoch 28/40\n",
      "1137/1137 [==============================] - 5s 4ms/step - loss: 0.3139 - accuracy: 0.8724 - val_loss: 0.3118 - val_accuracy: 0.8740\n",
      "Epoch 29/40\n",
      "1137/1137 [==============================] - 5s 5ms/step - loss: 0.3141 - accuracy: 0.8732 - val_loss: 0.3124 - val_accuracy: 0.8725\n",
      "Epoch 30/40\n",
      "1137/1137 [==============================] - 4s 4ms/step - loss: 0.3134 - accuracy: 0.8733 - val_loss: 0.3122 - val_accuracy: 0.8729\n",
      "Epoch 31/40\n",
      "1137/1137 [==============================] - 5s 4ms/step - loss: 0.3135 - accuracy: 0.8731 - val_loss: 0.3106 - val_accuracy: 0.8736\n",
      "Epoch 32/40\n",
      "1137/1137 [==============================] - 5s 5ms/step - loss: 0.3126 - accuracy: 0.8737 - val_loss: 0.3099 - val_accuracy: 0.8737\n",
      "Epoch 33/40\n",
      "1137/1137 [==============================] - 5s 5ms/step - loss: 0.3126 - accuracy: 0.8729 - val_loss: 0.3107 - val_accuracy: 0.8733\n",
      "Epoch 34/40\n",
      "1137/1137 [==============================] - 5s 5ms/step - loss: 0.3119 - accuracy: 0.8739 - val_loss: 0.3095 - val_accuracy: 0.8736\n",
      "Epoch 35/40\n",
      "1137/1137 [==============================] - 5s 5ms/step - loss: 0.3116 - accuracy: 0.8734 - val_loss: 0.3116 - val_accuracy: 0.8726\n",
      "Epoch 36/40\n",
      "1137/1137 [==============================] - 5s 4ms/step - loss: 0.3109 - accuracy: 0.8741 - val_loss: 0.3104 - val_accuracy: 0.8742\n",
      "Epoch 37/40\n",
      "1137/1137 [==============================] - 5s 4ms/step - loss: 0.3106 - accuracy: 0.8743 - val_loss: 0.3085 - val_accuracy: 0.8740\n",
      "Epoch 38/40\n",
      "1137/1137 [==============================] - 5s 4ms/step - loss: 0.3108 - accuracy: 0.8741 - val_loss: 0.3092 - val_accuracy: 0.8725\n",
      "Epoch 39/40\n",
      "1137/1137 [==============================] - 5s 4ms/step - loss: 0.3105 - accuracy: 0.8742 - val_loss: 0.3090 - val_accuracy: 0.8713\n",
      "Epoch 40/40\n",
      "1137/1137 [==============================] - 5s 4ms/step - loss: 0.3098 - accuracy: 0.8741 - val_loss: 0.3092 - val_accuracy: 0.8721\n"
     ]
    },
    {
     "data": {
      "text/plain": [
       "<keras.callbacks.History at 0x18f5693d0d0>"
      ]
     },
     "execution_count": 14,
     "metadata": {},
     "output_type": "execute_result"
    }
   ],
   "source": [
    "from keras.models import Sequential\n",
    "from keras.layers import Dense, Dropout\n",
    "from keras.optimizers import Adam\n",
    "from tensorflow.keras.callbacks import EarlyStopping\n",
    "\n",
    "# création d'un modèle séquentiel\n",
    "model = Sequential()\n",
    "\n",
    "# ajout des couches\n",
    "model.add(Dense(64, input_dim=len(features), activation='relu'))\n",
    "model.add(Dropout(0.2)) # couche de Dropout\n",
    "model.add(Dense(32, activation='relu'))\n",
    "model.add(Dense(1, activation='sigmoid'))\n",
    "\n",
    "# compilation du modèle avec un taux d'apprentissage adaptatif\n",
    "earlystopping=EarlyStopping(monitor='val_loss',min_delta=0.001,patience=50,restore_best_weights=True)\n",
    "opt = Adam(learning_rate=0.0001)\n",
    "model.compile(loss='binary_crossentropy', optimizer=opt, metrics=['accuracy'])\n",
    "\n",
    "# entraînement du modèle avec un nombre d'epochs augmenté\n",
    "history_2 = model.fit(data, target, epochs=40, callbacks=[earlystopping], batch_size=64, validation_data=(X_test,y_test))\n",
    "history_2"
   ]
  },
  {
   "cell_type": "code",
   "execution_count": 15,
   "id": "a8b7b069-7d4b-4704-9505-edeaabe08351",
   "metadata": {},
   "outputs": [
    {
     "data": {
      "image/png": "[encoded data removed]",
      "text/plain": [
       "<Figure size 432x288 with 1 Axes>"
      ]
     },
     "metadata": {
      "needs_background": "light"
     },
     "output_type": "display_data"
    }
   ],
   "source": [
    "history_df = pd.DataFrame(history_2.history)\n",
    "\n",
    "plt.plot(history_df.loc[:, ['loss']], \"#BDE2E2\", label='Training loss')\n",
    "plt.plot(history_df.loc[:, ['val_loss']],\"#C2C4E2\", label='Validation loss')\n",
    "plt.title('Training and Validation loss')\n",
    "plt.xlabel('Epochs')\n",
    "plt.ylabel('Loss')\n",
    "plt.legend(loc=\"best\")\n",
    "\n",
    "plt.show()"
   ]
  },
  {
   "cell_type": "code",
   "execution_count": 16,
   "id": "e4c98b5c-2f1d-4004-9abb-356f8cc45f7d",
   "metadata": {},
   "outputs": [
    {
     "data": {
      "image/png": "[encoded data removed]",
      "text/plain": [
       "<Figure size 432x288 with 1 Axes>"
      ]
     },
     "metadata": {
      "needs_background": "light"
     },
     "output_type": "display_data"
    }
   ],
   "source": [
    "history_df = pd.DataFrame(history_2.history)\n",
    "\n",
    "plt.plot(history_df.loc[:, ['accuracy']], \"#BDE2E2\", label='Training accuracy')\n",
    "plt.plot(history_df.loc[:, ['val_accuracy']], \"#C2C4E2\", label='Validation accuracy')\n",
    "\n",
    "plt.title('Training and Validation accuracy')\n",
    "plt.xlabel('Epochs')\n",
    "plt.ylabel('Accuracy')\n",
    "plt.legend()\n",
    "plt.show()"
   ]
  },
  {
   "cell_type": "code",
   "execution_count": 18,
   "id": "a1a15789-109a-4ce5-a901-77c737622de1",
   "metadata": {},
   "outputs": [
    {
     "name": "stdout",
     "output_type": "stream",
     "text": [
      "228/228 [==============================] - 1s 3ms/step\n",
      "Accuracy on test set: 87.21%\n"
     ]
    }
   ],
   "source": [
    "# prédiction sur les données de test\n",
    "predictions = model.predict(X_test)\n",
    "\n",
    "# convertir les probabilités en 0 ou 1\n",
    "predictions = (predictions > 0.5).astype(int)\n",
    "\n",
    "# évaluation de la performance sur les données de test\n",
    "from sklearn.metrics import accuracy_score\n",
    "accuracy = accuracy_score(y_test, predictions)\n",
    "print(\"Accuracy on test set: {:.2f}%\".format(accuracy * 100))"
   ]
  },
  {
   "cell_type": "code",
   "execution_count": null,
   "id": "fcc8da36-a044-49d2-8222-205ed6c1fa0c",
   "metadata": {},
   "outputs": [],
   "source": []
  },
  {
   "cell_type": "code",
   "execution_count": null,
   "id": "2dfc4b5c-f309-4045-8ebc-36d77c82a534",
   "metadata": {},
   "outputs": [],
   "source": []
  }
 ],
 "metadata": {
  "kernelspec": {
   "display_name": "Python 3 (ipykernel)",
   "language": "python",
   "name": "python3"
  },
  "language_info": {
   "codemirror_mode": {
    "name": "ipython",
    "version": 3
   },
   "file_extension": ".py",
   "mimetype": "text/x-python",
   "name": "python",
   "nbconvert_exporter": "python",
   "pygments_lexer": "ipython3",
   "version": "3.9.12"
  }
 },
 "nbformat": 4,
 "nbformat_minor": 5
}
