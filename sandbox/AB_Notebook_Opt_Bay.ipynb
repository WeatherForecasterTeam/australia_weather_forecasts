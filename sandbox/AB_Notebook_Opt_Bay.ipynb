{
 "cells": [
  {
   "cell_type": "code",
   "execution_count": 2,
   "id": "d27fdb0d-8196-4f63-9ac3-e34ebe00de84",
   "metadata": {},
   "outputs": [],
   "source": [
    "import numpy as np # linear algebra\n",
    "import pandas as pd # data processing, CSV file I/O (e.g. pd.read_csv)\n",
    "\n",
    "import matplotlib.pyplot as plt\n",
    "import seaborn as sns\n",
    "\n",
    "import geopandas as gpd\n",
    "from shapely.geometry import Point\n",
    "\n",
    "from mpl_toolkits.axes_grid1 import make_axes_locatable\n",
    "# Input data files are available in the read-only \"../input/\" directory\n",
    "# For example, running this (by clicking run or pressing Shift+Enter) will list all files under the input directory\n",
    "\n",
    "from sklearn.neighbors import DistanceMetric\n",
    "from math import radians\n",
    "\n",
    "from sklearn.preprocessing import LabelEncoder\n",
    "from sklearn.preprocessing import MinMaxScaler\n",
    "from sklearn.preprocessing import StandardScaler\n",
    "\n",
    "\n",
    "from sklearn import svm\n",
    "from sklearn import metrics\n",
    "\n",
    "\n",
    "from sklearn.datasets import make_moons, make_blobs\n",
    "from sklearn.ensemble import IsolationForest\n",
    "from sklearn.ensemble import AdaBoostClassifier\n",
    "from sklearn.model_selection import train_test_split, GridSearchCV, StratifiedKFold\n",
    "from sklearn.metrics import make_scorer, classification_report, make_scorer, recall_score, f1_score\n",
    "from sklearn.metrics import roc_curve,auc\n",
    "from sklearn.metrics import confusion_matrix\n",
    "from sklearn.metrics import ConfusionMatrixDisplay\n",
    "from sklearn.tree import DecisionTreeClassifier"
   ]
  },
  {
   "cell_type": "code",
   "execution_count": 3,
   "id": "c8e7c80e-4d17-4027-a564-44c106cfc4e7",
   "metadata": {},
   "outputs": [
    {
     "data": {
      "text/html": [
       "<div>\n",
       "<style scoped>\n",
       "    .dataframe tbody tr th:only-of-type {\n",
       "        vertical-align: middle;\n",
       "    }\n",
       "\n",
       "    .dataframe tbody tr th {\n",
       "        vertical-align: top;\n",
       "    }\n",
       "\n",
       "    .dataframe thead th {\n",
       "        text-align: right;\n",
       "    }\n",
       "</style>\n",
       "<table border=\"1\" class=\"dataframe\">\n",
       "  <thead>\n",
       "    <tr style=\"text-align: right;\">\n",
       "      <th></th>\n",
       "      <th>sunshine</th>\n",
       "      <th>windgustspeed</th>\n",
       "      <th>humidity3pm</th>\n",
       "      <th>pressure3pm</th>\n",
       "      <th>year</th>\n",
       "      <th>windspeed3pm</th>\n",
       "      <th>temp_amplitude</th>\n",
       "      <th>cloud3pm</th>\n",
       "      <th>rainfall</th>\n",
       "      <th>climat</th>\n",
       "      <th>...</th>\n",
       "      <th>cloud9am</th>\n",
       "      <th>winddir9am_sin</th>\n",
       "      <th>latitude</th>\n",
       "      <th>month</th>\n",
       "      <th>geography</th>\n",
       "      <th>raintoday</th>\n",
       "      <th>evaporation</th>\n",
       "      <th>windspeed9am</th>\n",
       "      <th>windgustdir_cos</th>\n",
       "      <th>raintomorrow</th>\n",
       "    </tr>\n",
       "  </thead>\n",
       "  <tbody>\n",
       "    <tr>\n",
       "      <th>0</th>\n",
       "      <td>10.9</td>\n",
       "      <td>44.0</td>\n",
       "      <td>22.0</td>\n",
       "      <td>1007.1</td>\n",
       "      <td>2008</td>\n",
       "      <td>24.0</td>\n",
       "      <td>9.5</td>\n",
       "      <td>7.0</td>\n",
       "      <td>0.6</td>\n",
       "      <td>0</td>\n",
       "      <td>...</td>\n",
       "      <td>8.0</td>\n",
       "      <td>1.224647e-16</td>\n",
       "      <td>-36.065766</td>\n",
       "      <td>12</td>\n",
       "      <td>0</td>\n",
       "      <td>0</td>\n",
       "      <td>7.6</td>\n",
       "      <td>20.0</td>\n",
       "      <td>-1.000000</td>\n",
       "      <td>0</td>\n",
       "    </tr>\n",
       "    <tr>\n",
       "      <th>1</th>\n",
       "      <td>12.9</td>\n",
       "      <td>44.0</td>\n",
       "      <td>25.0</td>\n",
       "      <td>1007.8</td>\n",
       "      <td>2008</td>\n",
       "      <td>22.0</td>\n",
       "      <td>17.7</td>\n",
       "      <td>1.0</td>\n",
       "      <td>0.0</td>\n",
       "      <td>0</td>\n",
       "      <td>...</td>\n",
       "      <td>1.0</td>\n",
       "      <td>9.238795e-01</td>\n",
       "      <td>-36.065766</td>\n",
       "      <td>12</td>\n",
       "      <td>0</td>\n",
       "      <td>0</td>\n",
       "      <td>12.0</td>\n",
       "      <td>4.0</td>\n",
       "      <td>-0.923880</td>\n",
       "      <td>0</td>\n",
       "    </tr>\n",
       "    <tr>\n",
       "      <th>2</th>\n",
       "      <td>8.0</td>\n",
       "      <td>46.0</td>\n",
       "      <td>30.0</td>\n",
       "      <td>1008.7</td>\n",
       "      <td>2008</td>\n",
       "      <td>26.0</td>\n",
       "      <td>12.8</td>\n",
       "      <td>2.0</td>\n",
       "      <td>0.0</td>\n",
       "      <td>0</td>\n",
       "      <td>...</td>\n",
       "      <td>7.0</td>\n",
       "      <td>1.224647e-16</td>\n",
       "      <td>-36.065766</td>\n",
       "      <td>12</td>\n",
       "      <td>0</td>\n",
       "      <td>0</td>\n",
       "      <td>8.0</td>\n",
       "      <td>19.0</td>\n",
       "      <td>-0.923880</td>\n",
       "      <td>0</td>\n",
       "    </tr>\n",
       "    <tr>\n",
       "      <th>3</th>\n",
       "      <td>2.2</td>\n",
       "      <td>24.0</td>\n",
       "      <td>16.0</td>\n",
       "      <td>1012.8</td>\n",
       "      <td>2008</td>\n",
       "      <td>9.0</td>\n",
       "      <td>18.8</td>\n",
       "      <td>6.0</td>\n",
       "      <td>0.0</td>\n",
       "      <td>0</td>\n",
       "      <td>...</td>\n",
       "      <td>8.0</td>\n",
       "      <td>-7.071068e-01</td>\n",
       "      <td>-36.065766</td>\n",
       "      <td>12</td>\n",
       "      <td>0</td>\n",
       "      <td>0</td>\n",
       "      <td>10.0</td>\n",
       "      <td>11.0</td>\n",
       "      <td>0.707107</td>\n",
       "      <td>0</td>\n",
       "    </tr>\n",
       "    <tr>\n",
       "      <th>4</th>\n",
       "      <td>6.7</td>\n",
       "      <td>41.0</td>\n",
       "      <td>33.0</td>\n",
       "      <td>1006.0</td>\n",
       "      <td>2008</td>\n",
       "      <td>20.0</td>\n",
       "      <td>14.8</td>\n",
       "      <td>8.0</td>\n",
       "      <td>1.0</td>\n",
       "      <td>0</td>\n",
       "      <td>...</td>\n",
       "      <td>7.0</td>\n",
       "      <td>3.826834e-01</td>\n",
       "      <td>-36.065766</td>\n",
       "      <td>12</td>\n",
       "      <td>0</td>\n",
       "      <td>0</td>\n",
       "      <td>4.8</td>\n",
       "      <td>7.0</td>\n",
       "      <td>-1.000000</td>\n",
       "      <td>0</td>\n",
       "    </tr>\n",
       "  </tbody>\n",
       "</table>\n",
       "<p>5 rows × 24 columns</p>\n",
       "</div>"
      ],
      "text/plain": [
       "   sunshine  windgustspeed  humidity3pm  pressure3pm  year  windspeed3pm  \\\n",
       "0      10.9           44.0         22.0       1007.1  2008          24.0   \n",
       "1      12.9           44.0         25.0       1007.8  2008          22.0   \n",
       "2       8.0           46.0         30.0       1008.7  2008          26.0   \n",
       "3       2.2           24.0         16.0       1012.8  2008           9.0   \n",
       "4       6.7           41.0         33.0       1006.0  2008          20.0   \n",
       "\n",
       "   temp_amplitude  cloud3pm  rainfall  climat  ...  cloud9am  winddir9am_sin  \\\n",
       "0             9.5       7.0       0.6       0  ...       8.0    1.224647e-16   \n",
       "1            17.7       1.0       0.0       0  ...       1.0    9.238795e-01   \n",
       "2            12.8       2.0       0.0       0  ...       7.0    1.224647e-16   \n",
       "3            18.8       6.0       0.0       0  ...       8.0   -7.071068e-01   \n",
       "4            14.8       8.0       1.0       0  ...       7.0    3.826834e-01   \n",
       "\n",
       "    latitude  month  geography  raintoday  evaporation  windspeed9am  \\\n",
       "0 -36.065766     12          0          0          7.6          20.0   \n",
       "1 -36.065766     12          0          0         12.0           4.0   \n",
       "2 -36.065766     12          0          0          8.0          19.0   \n",
       "3 -36.065766     12          0          0         10.0          11.0   \n",
       "4 -36.065766     12          0          0          4.8           7.0   \n",
       "\n",
       "   windgustdir_cos  raintomorrow  \n",
       "0        -1.000000             0  \n",
       "1        -0.923880             0  \n",
       "2        -0.923880             0  \n",
       "3         0.707107             0  \n",
       "4        -1.000000             0  \n",
       "\n",
       "[5 rows x 24 columns]"
      ]
     },
     "execution_count": 3,
     "metadata": {},
     "output_type": "execute_result"
    }
   ],
   "source": [
    "# Utilisation du DF data_features qui contient toute les données nettoyées et le climat koppen intégré\n",
    "\n",
    "df = pd.read_csv('data_features.csv', sep=',', index_col=0) \n",
    "df.head()"
   ]
  },
  {
   "cell_type": "code",
   "execution_count": 4,
   "id": "6517c679-cd5c-4d54-be5f-c81b7f5de61b",
   "metadata": {},
   "outputs": [],
   "source": [
    "features = [\"sunshine\",\"humidity3pm\",\"pressure3pm\",\"windspeed3pm\",\"temp_amplitude\",\n",
    "            \"cloud3pm\",\"rainfall\",\"climat\",\"winddir3pm_sin\",\"cloud9am\", \"latitude\", \"geography\", \"raintoday\", \"evaporation\", \"windgustdir_cos\"]"
   ]
  },
  {
   "cell_type": "code",
   "execution_count": 5,
   "id": "1d31aa25-a287-41a4-bcc8-e5d6b28fa655",
   "metadata": {},
   "outputs": [],
   "source": [
    "#On supprime toutes les observations avec des NA\n",
    "df1 = df.dropna()\n",
    "\n",
    "target = df1[\"raintomorrow\"]\n",
    "data = df1[features]"
   ]
  },
  {
   "cell_type": "code",
   "execution_count": 6,
   "id": "08113247-43e4-43e3-9f94-27e832a2ea69",
   "metadata": {},
   "outputs": [
    {
     "name": "stdout",
     "output_type": "stream",
     "text": [
      "<class 'pandas.core.frame.DataFrame'>\n",
      "Int64Index: 72707 entries, 0 to 72706\n",
      "Data columns (total 24 columns):\n",
      " #   Column           Non-Null Count  Dtype  \n",
      "---  ------           --------------  -----  \n",
      " 0   sunshine         72707 non-null  float64\n",
      " 1   windgustspeed    72707 non-null  float64\n",
      " 2   humidity3pm      72707 non-null  float64\n",
      " 3   pressure3pm      72707 non-null  float64\n",
      " 4   year             72707 non-null  int64  \n",
      " 5   windspeed3pm     72707 non-null  float64\n",
      " 6   temp_amplitude   72707 non-null  float64\n",
      " 7   cloud3pm         72707 non-null  float64\n",
      " 8   rainfall         72707 non-null  float64\n",
      " 9   climat           72707 non-null  int64  \n",
      " 10  humidity9am      72707 non-null  float64\n",
      " 11  winddir3pm_sin   72707 non-null  float64\n",
      " 12  longitude        72707 non-null  float64\n",
      " 13  winddir9am_cos   72707 non-null  float64\n",
      " 14  cloud9am         72707 non-null  float64\n",
      " 15  winddir9am_sin   72707 non-null  float64\n",
      " 16  latitude         72707 non-null  float64\n",
      " 17  month            72707 non-null  int64  \n",
      " 18  geography        72707 non-null  int64  \n",
      " 19  raintoday        72707 non-null  int64  \n",
      " 20  evaporation      72707 non-null  float64\n",
      " 21  windspeed9am     72707 non-null  float64\n",
      " 22  windgustdir_cos  72707 non-null  float64\n",
      " 23  raintomorrow     72707 non-null  int64  \n",
      "dtypes: float64(18), int64(6)\n",
      "memory usage: 13.9 MB\n"
     ]
    }
   ],
   "source": [
    "df1.info()"
   ]
  },
  {
   "cell_type": "code",
   "execution_count": 7,
   "id": "2505e715-ac8e-47d5-aadd-f89f2c8d4cc1",
   "metadata": {},
   "outputs": [],
   "source": [
    "X_train, X_test, y_train, y_test = train_test_split(data, target, test_size=0.1, random_state=123)"
   ]
  },
  {
   "cell_type": "code",
   "execution_count": 8,
   "id": "feca6d73-1341-4cb1-acdb-f6007194d15f",
   "metadata": {},
   "outputs": [],
   "source": [
    "\n",
    "from skopt import BayesSearchCV\n",
    "from skopt.space import Real, Integer\n",
    "from sklearn.ensemble import RandomForestClassifier\n",
    "from sklearn.model_selection import train_test_split\n",
    "\n",
    "# Séparation des données en ensemble d'entraînement et de test\n",
    "X_train, X_test, y_train, y_test = train_test_split(data, target, test_size=0.2)\n",
    "\n",
    "# Définition de l'espace de recherche pour l'optimisation bayésienne\n",
    "space = {\n",
    "    'n_estimators': Integer(100, 1000),\n",
    "    'max_depth': Integer(3, 15),\n",
    "    'min_samples_split': Integer(2, 10),\n",
    "    'min_samples_leaf': Integer(1, 5),\n",
    "    'max_features': Real(0.1, 1.0, prior='uniform')\n",
    "}\n",
    "\n",
    "\n"
   ]
  },
  {
   "cell_type": "code",
   "execution_count": 9,
   "id": "d4372e13-66b5-4004-8f99-3689e67704a4",
   "metadata": {},
   "outputs": [],
   "source": [
    "# Définition du modèle à optimiser (Random Forest)\n",
    "model = RandomForestClassifier()\n",
    "\n",
    "\n"
   ]
  },
  {
   "cell_type": "code",
   "execution_count": 10,
   "id": "0e162075-1147-4a45-9636-68a4abc7ecd5",
   "metadata": {},
   "outputs": [
    {
     "data": {
      "text/html": [
       "<style>#sk-container-id-1 {color: black;background-color: white;}#sk-container-id-1 pre{padding: 0;}#sk-container-id-1 div.sk-toggleable {background-color: white;}#sk-container-id-1 label.sk-toggleable__label {cursor: pointer;display: block;width: 100%;margin-bottom: 0;padding: 0.3em;box-sizing: border-box;text-align: center;}#sk-container-id-1 label.sk-toggleable__label-arrow:before {content: \"▸\";float: left;margin-right: 0.25em;color: #696969;}#sk-container-id-1 label.sk-toggleable__label-arrow:hover:before {color: black;}#sk-container-id-1 div.sk-estimator:hover label.sk-toggleable__label-arrow:before {color: black;}#sk-container-id-1 div.sk-toggleable__content {max-height: 0;max-width: 0;overflow: hidden;text-align: left;background-color: #f0f8ff;}#sk-container-id-1 div.sk-toggleable__content pre {margin: 0.2em;color: black;border-radius: 0.25em;background-color: #f0f8ff;}#sk-container-id-1 input.sk-toggleable__control:checked~div.sk-toggleable__content {max-height: 200px;max-width: 100%;overflow: auto;}#sk-container-id-1 input.sk-toggleable__control:checked~label.sk-toggleable__label-arrow:before {content: \"▾\";}#sk-container-id-1 div.sk-estimator input.sk-toggleable__control:checked~label.sk-toggleable__label {background-color: #d4ebff;}#sk-container-id-1 div.sk-label input.sk-toggleable__control:checked~label.sk-toggleable__label {background-color: #d4ebff;}#sk-container-id-1 input.sk-hidden--visually {border: 0;clip: rect(1px 1px 1px 1px);clip: rect(1px, 1px, 1px, 1px);height: 1px;margin: -1px;overflow: hidden;padding: 0;position: absolute;width: 1px;}#sk-container-id-1 div.sk-estimator {font-family: monospace;background-color: #f0f8ff;border: 1px dotted black;border-radius: 0.25em;box-sizing: border-box;margin-bottom: 0.5em;}#sk-container-id-1 div.sk-estimator:hover {background-color: #d4ebff;}#sk-container-id-1 div.sk-parallel-item::after {content: \"\";width: 100%;border-bottom: 1px solid gray;flex-grow: 1;}#sk-container-id-1 div.sk-label:hover label.sk-toggleable__label {background-color: #d4ebff;}#sk-container-id-1 div.sk-serial::before {content: \"\";position: absolute;border-left: 1px solid gray;box-sizing: border-box;top: 0;bottom: 0;left: 50%;z-index: 0;}#sk-container-id-1 div.sk-serial {display: flex;flex-direction: column;align-items: center;background-color: white;padding-right: 0.2em;padding-left: 0.2em;position: relative;}#sk-container-id-1 div.sk-item {position: relative;z-index: 1;}#sk-container-id-1 div.sk-parallel {display: flex;align-items: stretch;justify-content: center;background-color: white;position: relative;}#sk-container-id-1 div.sk-item::before, #sk-container-id-1 div.sk-parallel-item::before {content: \"\";position: absolute;border-left: 1px solid gray;box-sizing: border-box;top: 0;bottom: 0;left: 50%;z-index: -1;}#sk-container-id-1 div.sk-parallel-item {display: flex;flex-direction: column;z-index: 1;position: relative;background-color: white;}#sk-container-id-1 div.sk-parallel-item:first-child::after {align-self: flex-end;width: 50%;}#sk-container-id-1 div.sk-parallel-item:last-child::after {align-self: flex-start;width: 50%;}#sk-container-id-1 div.sk-parallel-item:only-child::after {width: 0;}#sk-container-id-1 div.sk-dashed-wrapped {border: 1px dashed gray;margin: 0 0.4em 0.5em 0.4em;box-sizing: border-box;padding-bottom: 0.4em;background-color: white;}#sk-container-id-1 div.sk-label label {font-family: monospace;font-weight: bold;display: inline-block;line-height: 1.2em;}#sk-container-id-1 div.sk-label-container {text-align: center;}#sk-container-id-1 div.sk-container {/* jupyter's `normalize.less` sets `[hidden] { display: none; }` but bootstrap.min.css set `[hidden] { display: none !important; }` so we also need the `!important` here to be able to override the default hidden behavior on the sphinx rendered scikit-learn.org. See: https://github.com/scikit-learn/scikit-learn/issues/21755 */display: inline-block !important;position: relative;}#sk-container-id-1 div.sk-text-repr-fallback {display: none;}</style><div id=\"sk-container-id-1\" class=\"sk-top-container\"><div class=\"sk-text-repr-fallback\"><pre>BayesSearchCV(cv=5, estimator=RandomForestClassifier(), n_iter=20, n_jobs=-1,\n",
       "              scoring=&#x27;accuracy&#x27;,\n",
       "              search_spaces={&#x27;max_depth&#x27;: Integer(low=3, high=15, prior=&#x27;uniform&#x27;, transform=&#x27;normalize&#x27;),\n",
       "                             &#x27;max_features&#x27;: Real(low=0.1, high=1.0, prior=&#x27;uniform&#x27;, transform=&#x27;normalize&#x27;),\n",
       "                             &#x27;min_samples_leaf&#x27;: Integer(low=1, high=5, prior=&#x27;uniform&#x27;, transform=&#x27;normalize&#x27;),\n",
       "                             &#x27;min_samples_split&#x27;: Integer(low=2, high=10, prior=&#x27;uniform&#x27;, transform=&#x27;normalize&#x27;),\n",
       "                             &#x27;n_estimators&#x27;: Integer(low=100, high=1000, prior=&#x27;uniform&#x27;, transform=&#x27;normalize&#x27;)})</pre><b>In a Jupyter environment, please rerun this cell to show the HTML representation or trust the notebook. <br />On GitHub, the HTML representation is unable to render, please try loading this page with nbviewer.org.</b></div><div class=\"sk-container\" hidden><div class=\"sk-item sk-dashed-wrapped\"><div class=\"sk-label-container\"><div class=\"sk-label sk-toggleable\"><input class=\"sk-toggleable__control sk-hidden--visually\" id=\"sk-estimator-id-1\" type=\"checkbox\" ><label for=\"sk-estimator-id-1\" class=\"sk-toggleable__label sk-toggleable__label-arrow\">BayesSearchCV</label><div class=\"sk-toggleable__content\"><pre>BayesSearchCV(cv=5, estimator=RandomForestClassifier(), n_iter=20, n_jobs=-1,\n",
       "              scoring=&#x27;accuracy&#x27;,\n",
       "              search_spaces={&#x27;max_depth&#x27;: Integer(low=3, high=15, prior=&#x27;uniform&#x27;, transform=&#x27;normalize&#x27;),\n",
       "                             &#x27;max_features&#x27;: Real(low=0.1, high=1.0, prior=&#x27;uniform&#x27;, transform=&#x27;normalize&#x27;),\n",
       "                             &#x27;min_samples_leaf&#x27;: Integer(low=1, high=5, prior=&#x27;uniform&#x27;, transform=&#x27;normalize&#x27;),\n",
       "                             &#x27;min_samples_split&#x27;: Integer(low=2, high=10, prior=&#x27;uniform&#x27;, transform=&#x27;normalize&#x27;),\n",
       "                             &#x27;n_estimators&#x27;: Integer(low=100, high=1000, prior=&#x27;uniform&#x27;, transform=&#x27;normalize&#x27;)})</pre></div></div></div><div class=\"sk-parallel\"><div class=\"sk-parallel-item\"><div class=\"sk-item\"><div class=\"sk-label-container\"><div class=\"sk-label sk-toggleable\"><input class=\"sk-toggleable__control sk-hidden--visually\" id=\"sk-estimator-id-2\" type=\"checkbox\" ><label for=\"sk-estimator-id-2\" class=\"sk-toggleable__label sk-toggleable__label-arrow\">estimator: RandomForestClassifier</label><div class=\"sk-toggleable__content\"><pre>RandomForestClassifier()</pre></div></div></div><div class=\"sk-serial\"><div class=\"sk-item\"><div class=\"sk-estimator sk-toggleable\"><input class=\"sk-toggleable__control sk-hidden--visually\" id=\"sk-estimator-id-3\" type=\"checkbox\" ><label for=\"sk-estimator-id-3\" class=\"sk-toggleable__label sk-toggleable__label-arrow\">RandomForestClassifier</label><div class=\"sk-toggleable__content\"><pre>RandomForestClassifier()</pre></div></div></div></div></div></div></div></div></div></div>"
      ],
      "text/plain": [
       "BayesSearchCV(cv=5, estimator=RandomForestClassifier(), n_iter=20, n_jobs=-1,\n",
       "              scoring='accuracy',\n",
       "              search_spaces={'max_depth': Integer(low=3, high=15, prior='uniform', transform='normalize'),\n",
       "                             'max_features': Real(low=0.1, high=1.0, prior='uniform', transform='normalize'),\n",
       "                             'min_samples_leaf': Integer(low=1, high=5, prior='uniform', transform='normalize'),\n",
       "                             'min_samples_split': Integer(low=2, high=10, prior='uniform', transform='normalize'),\n",
       "                             'n_estimators': Integer(low=100, high=1000, prior='uniform', transform='normalize')})"
      ]
     },
     "execution_count": 10,
     "metadata": {},
     "output_type": "execute_result"
    }
   ],
   "source": [
    "# Définition de l'optimiseur bayésien avec 20 itérations\n",
    "opt = BayesSearchCV(\n",
    "    model,\n",
    "    space,\n",
    "    n_iter=20,\n",
    "    scoring='accuracy',\n",
    "    n_jobs=-1,\n",
    "    cv=5\n",
    ")\n",
    "\n",
    "# Lancement de l'optimisation\n",
    "opt.fit(X_train, y_train)\n",
    "\n"
   ]
  },
  {
   "cell_type": "code",
   "execution_count": 19,
   "id": "935f4f76-0426-4874-8b62-73704cc297b7",
   "metadata": {
    "tags": []
   },
   "outputs": [
    {
     "name": "stdout",
     "output_type": "stream",
     "text": [
      "Meilleurs hyperparamètres : OrderedDict([('max_depth', 14), ('max_features', 0.554638842021933), ('min_samples_leaf', 2), ('min_samples_split', 6), ('n_estimators', 596)])\n",
      "Score de l'optimisation bayésienne : 0.93\n"
     ]
    }
   ],
   "source": [
    "# Affichage des meilleurs hyperparamètres trouvés\n",
    "print('Meilleurs hyperparamètres :', opt.best_params_)\n",
    "\n",
    "# Évaluation du modèle avec les hyperparamètres trouvés\n",
    "score = opt.score(X_test, y_test)\n",
    "print('Score de l\\'optimisation bayésienne : {:.2f}'.format(score))"
   ]
  },
  {
   "cell_type": "code",
   "execution_count": 21,
   "id": "a5288848-e34a-483a-ba57-2defa3794068",
   "metadata": {},
   "outputs": [
    {
     "name": "stdout",
     "output_type": "stream",
     "text": [
      "Score du modèle : 0.88\n"
     ]
    }
   ],
   "source": [
    "# Instanciation du modèle avec les meilleurs hyperparamètres\n",
    "best_model = RandomForestClassifier(\n",
    "    max_depth=14,\n",
    "    max_features=0.554638842021933,\n",
    "    min_samples_leaf=2,\n",
    "    min_samples_split=6,\n",
    "    n_estimators=596\n",
    ")\n",
    "\n",
    "# Séparation des données en ensemble d'entraînement et de test\n",
    "X_train, X_test, y_train, y_test = train_test_split(data, target, test_size=0.2)\n",
    "\n",
    "# Entraînement du modèle sur l'ensemble des données d'entraînement\n",
    "best_model.fit(X_train, y_train)\n",
    "\n",
    "# Évaluation du modèle sur l'ensemble des données de test\n",
    "score = best_model.score(X_test, y_test)\n",
    "print('Score du modèle : {:.2f}'.format(score))"
   ]
  },
  {
   "cell_type": "code",
   "execution_count": null,
   "id": "a782ce90-45fd-43e3-9b31-6983bba16550",
   "metadata": {},
   "outputs": [],
   "source": []
  },
  {
   "cell_type": "code",
   "execution_count": 13,
   "id": "956a47f0-801b-4eaf-9dcd-40c2fbfc3e5c",
   "metadata": {},
   "outputs": [
    {
     "name": "stdout",
     "output_type": "stream",
     "text": [
      "F1 score weighted du modèle : 0.8542153409127251\n"
     ]
    }
   ],
   "source": [
    "from sklearn.ensemble import RandomForestClassifier\n",
    "from sklearn.model_selection import train_test_split\n",
    "from sklearn.metrics import f1_score\n",
    "\n",
    "# Instanciation du modèle avec les meilleurs hyperparamètres\n",
    "best_model = RandomForestClassifier(\n",
    "    max_depth=14,\n",
    "    max_features=0.554638842021933,\n",
    "    min_samples_leaf=2,\n",
    "    min_samples_split=6,\n",
    "    n_estimators=596\n",
    ")\n",
    "\n",
    "# Séparation des données en ensemble d'entraînement et de test\n",
    "X_train, X_test, y_train, y_test = train_test_split(data, target, test_size=0.2)\n",
    "\n",
    "# Entraînement du modèle sur l'ensemble des données d'entraînement\n",
    "best_model.fit(X_train, y_train)\n",
    "\n",
    "# Prédiction sur l'ensemble de test\n",
    "y_pred = best_model.predict(X_test)\n",
    "\n",
    "# Calcul du score F1 weighted\n",
    "score = f1_score(y_test, y_pred, average='weighted')\n",
    "print('F1 score weighted du modèle :', score)\n"
   ]
  },
  {
   "cell_type": "code",
   "execution_count": 14,
   "id": "115844a2-73f7-42db-a233-cab704a13d40",
   "metadata": {},
   "outputs": [
    {
     "name": "stdout",
     "output_type": "stream",
     "text": [
      "Accuracy du modèle : 0.8786274240132032\n"
     ]
    }
   ],
   "source": [
    "from sklearn.ensemble import RandomForestClassifier\n",
    "from sklearn.model_selection import train_test_split\n",
    "from sklearn.metrics import accuracy_score\n",
    "\n",
    "# Instanciation du modèle avec les meilleurs hyperparamètres\n",
    "best_model = RandomForestClassifier(\n",
    "    max_depth=14,\n",
    "    max_features=0.554638842021933,\n",
    "    min_samples_leaf=2,\n",
    "    min_samples_split=6,\n",
    "    n_estimators=596\n",
    ")\n",
    "\n",
    "# Séparation des données en ensemble d'entraînement et de test\n",
    "X_train, X_test, y_train, y_test = train_test_split(data, target, test_size=0.2)\n",
    "\n",
    "# Entraînement du modèle sur l'ensemble des données d'entraînement\n",
    "best_model.fit(X_train, y_train)\n",
    "\n",
    "# Prédiction sur l'ensemble de test\n",
    "y_pred = best_model.predict(X_test)\n",
    "\n",
    "# Calcul de l'accuracy\n",
    "score = accuracy_score(y_test, y_pred)\n",
    "print('Accuracy du modèle :', score)\n"
   ]
  },
  {
   "cell_type": "code",
   "execution_count": 15,
   "id": "3cb3e65d-fe86-499b-b52f-37d8d9a408eb",
   "metadata": {},
   "outputs": [
    {
     "name": "stdout",
     "output_type": "stream",
     "text": [
      "              precision    recall  f1-score   support\n",
      "\n",
      "           0       0.89      0.97      0.93     12269\n",
      "           1       0.71      0.38      0.50      2273\n",
      "\n",
      "    accuracy                           0.88     14542\n",
      "   macro avg       0.80      0.68      0.71     14542\n",
      "weighted avg       0.87      0.88      0.86     14542\n",
      "\n"
     ]
    }
   ],
   "source": [
    "from sklearn.metrics import classification_report\n",
    "\n",
    "# Prédiction sur l'ensemble de test\n",
    "y_pred = best_model.predict(X_test)\n",
    "\n",
    "# Affichage du rapport de classification\n",
    "print(classification_report(y_test, y_pred))\n"
   ]
  },
  {
   "cell_type": "code",
   "execution_count": 16,
   "id": "ce8af745-2352-4478-82f8-0b9f2c9d250f",
   "metadata": {},
   "outputs": [
    {
     "name": "stdout",
     "output_type": "stream",
     "text": [
      "F1 score du modèle : 0.49700769449985754\n"
     ]
    }
   ],
   "source": [
    "from sklearn.metrics import f1_score\n",
    "\n",
    "# Calcul du F1 score\n",
    "f1 = f1_score(y_test, y_pred)\n",
    "print('F1 score du modèle :', f1)\n"
   ]
  },
  {
   "cell_type": "code",
   "execution_count": null,
   "id": "44dd3f5e-769f-41eb-b8f6-9dca2280bb36",
   "metadata": {},
   "outputs": [],
   "source": []
  },
  {
   "cell_type": "code",
   "execution_count": 22,
   "id": "34a8bc48-667b-457f-8aa2-1e4c35ac0b15",
   "metadata": {},
   "outputs": [
    {
     "data": {
      "text/html": [
       "<style>#sk-container-id-2 {color: black;background-color: white;}#sk-container-id-2 pre{padding: 0;}#sk-container-id-2 div.sk-toggleable {background-color: white;}#sk-container-id-2 label.sk-toggleable__label {cursor: pointer;display: block;width: 100%;margin-bottom: 0;padding: 0.3em;box-sizing: border-box;text-align: center;}#sk-container-id-2 label.sk-toggleable__label-arrow:before {content: \"▸\";float: left;margin-right: 0.25em;color: #696969;}#sk-container-id-2 label.sk-toggleable__label-arrow:hover:before {color: black;}#sk-container-id-2 div.sk-estimator:hover label.sk-toggleable__label-arrow:before {color: black;}#sk-container-id-2 div.sk-toggleable__content {max-height: 0;max-width: 0;overflow: hidden;text-align: left;background-color: #f0f8ff;}#sk-container-id-2 div.sk-toggleable__content pre {margin: 0.2em;color: black;border-radius: 0.25em;background-color: #f0f8ff;}#sk-container-id-2 input.sk-toggleable__control:checked~div.sk-toggleable__content {max-height: 200px;max-width: 100%;overflow: auto;}#sk-container-id-2 input.sk-toggleable__control:checked~label.sk-toggleable__label-arrow:before {content: \"▾\";}#sk-container-id-2 div.sk-estimator input.sk-toggleable__control:checked~label.sk-toggleable__label {background-color: #d4ebff;}#sk-container-id-2 div.sk-label input.sk-toggleable__control:checked~label.sk-toggleable__label {background-color: #d4ebff;}#sk-container-id-2 input.sk-hidden--visually {border: 0;clip: rect(1px 1px 1px 1px);clip: rect(1px, 1px, 1px, 1px);height: 1px;margin: -1px;overflow: hidden;padding: 0;position: absolute;width: 1px;}#sk-container-id-2 div.sk-estimator {font-family: monospace;background-color: #f0f8ff;border: 1px dotted black;border-radius: 0.25em;box-sizing: border-box;margin-bottom: 0.5em;}#sk-container-id-2 div.sk-estimator:hover {background-color: #d4ebff;}#sk-container-id-2 div.sk-parallel-item::after {content: \"\";width: 100%;border-bottom: 1px solid gray;flex-grow: 1;}#sk-container-id-2 div.sk-label:hover label.sk-toggleable__label {background-color: #d4ebff;}#sk-container-id-2 div.sk-serial::before {content: \"\";position: absolute;border-left: 1px solid gray;box-sizing: border-box;top: 0;bottom: 0;left: 50%;z-index: 0;}#sk-container-id-2 div.sk-serial {display: flex;flex-direction: column;align-items: center;background-color: white;padding-right: 0.2em;padding-left: 0.2em;position: relative;}#sk-container-id-2 div.sk-item {position: relative;z-index: 1;}#sk-container-id-2 div.sk-parallel {display: flex;align-items: stretch;justify-content: center;background-color: white;position: relative;}#sk-container-id-2 div.sk-item::before, #sk-container-id-2 div.sk-parallel-item::before {content: \"\";position: absolute;border-left: 1px solid gray;box-sizing: border-box;top: 0;bottom: 0;left: 50%;z-index: -1;}#sk-container-id-2 div.sk-parallel-item {display: flex;flex-direction: column;z-index: 1;position: relative;background-color: white;}#sk-container-id-2 div.sk-parallel-item:first-child::after {align-self: flex-end;width: 50%;}#sk-container-id-2 div.sk-parallel-item:last-child::after {align-self: flex-start;width: 50%;}#sk-container-id-2 div.sk-parallel-item:only-child::after {width: 0;}#sk-container-id-2 div.sk-dashed-wrapped {border: 1px dashed gray;margin: 0 0.4em 0.5em 0.4em;box-sizing: border-box;padding-bottom: 0.4em;background-color: white;}#sk-container-id-2 div.sk-label label {font-family: monospace;font-weight: bold;display: inline-block;line-height: 1.2em;}#sk-container-id-2 div.sk-label-container {text-align: center;}#sk-container-id-2 div.sk-container {/* jupyter's `normalize.less` sets `[hidden] { display: none; }` but bootstrap.min.css set `[hidden] { display: none !important; }` so we also need the `!important` here to be able to override the default hidden behavior on the sphinx rendered scikit-learn.org. See: https://github.com/scikit-learn/scikit-learn/issues/21755 */display: inline-block !important;position: relative;}#sk-container-id-2 div.sk-text-repr-fallback {display: none;}</style><div id=\"sk-container-id-2\" class=\"sk-top-container\"><div class=\"sk-text-repr-fallback\"><pre>BayesSearchCV(cv=5, estimator=LGBMClassifier(), n_iter=20, n_jobs=-1,\n",
       "              scoring=&#x27;accuracy&#x27;,\n",
       "              search_spaces={&#x27;colsample_bytree&#x27;: Real(low=0.1, high=1.0, prior=&#x27;uniform&#x27;, transform=&#x27;normalize&#x27;),\n",
       "                             &#x27;learning_rate&#x27;: Real(low=0.01, high=1.0, prior=&#x27;log-uniform&#x27;, transform=&#x27;normalize&#x27;),\n",
       "                             &#x27;max_depth&#x27;: Integer(low=3, high=15, prior=&#x27;uniform&#x27;, transform=&#x27;normalize&#x27;),\n",
       "                             &#x27;min_child_samples&#x27;: Integer(low=5, high=50, prior=&#x27;uniform&#x27;, transform=&#x27;normalize&#x27;),\n",
       "                             &#x27;n_estimators&#x27;: Integer(low=100, high=1000, prior=&#x27;uniform&#x27;, transform=&#x27;normalize&#x27;),\n",
       "                             &#x27;num_leaves&#x27;: Integer(low=20, high=200, prior=&#x27;uniform&#x27;, transform=&#x27;normalize&#x27;),\n",
       "                             &#x27;subsample&#x27;: Real(low=0.1, high=1.0, prior=&#x27;uniform&#x27;, transform=&#x27;normalize&#x27;)})</pre><b>In a Jupyter environment, please rerun this cell to show the HTML representation or trust the notebook. <br />On GitHub, the HTML representation is unable to render, please try loading this page with nbviewer.org.</b></div><div class=\"sk-container\" hidden><div class=\"sk-item sk-dashed-wrapped\"><div class=\"sk-label-container\"><div class=\"sk-label sk-toggleable\"><input class=\"sk-toggleable__control sk-hidden--visually\" id=\"sk-estimator-id-4\" type=\"checkbox\" ><label for=\"sk-estimator-id-4\" class=\"sk-toggleable__label sk-toggleable__label-arrow\">BayesSearchCV</label><div class=\"sk-toggleable__content\"><pre>BayesSearchCV(cv=5, estimator=LGBMClassifier(), n_iter=20, n_jobs=-1,\n",
       "              scoring=&#x27;accuracy&#x27;,\n",
       "              search_spaces={&#x27;colsample_bytree&#x27;: Real(low=0.1, high=1.0, prior=&#x27;uniform&#x27;, transform=&#x27;normalize&#x27;),\n",
       "                             &#x27;learning_rate&#x27;: Real(low=0.01, high=1.0, prior=&#x27;log-uniform&#x27;, transform=&#x27;normalize&#x27;),\n",
       "                             &#x27;max_depth&#x27;: Integer(low=3, high=15, prior=&#x27;uniform&#x27;, transform=&#x27;normalize&#x27;),\n",
       "                             &#x27;min_child_samples&#x27;: Integer(low=5, high=50, prior=&#x27;uniform&#x27;, transform=&#x27;normalize&#x27;),\n",
       "                             &#x27;n_estimators&#x27;: Integer(low=100, high=1000, prior=&#x27;uniform&#x27;, transform=&#x27;normalize&#x27;),\n",
       "                             &#x27;num_leaves&#x27;: Integer(low=20, high=200, prior=&#x27;uniform&#x27;, transform=&#x27;normalize&#x27;),\n",
       "                             &#x27;subsample&#x27;: Real(low=0.1, high=1.0, prior=&#x27;uniform&#x27;, transform=&#x27;normalize&#x27;)})</pre></div></div></div><div class=\"sk-parallel\"><div class=\"sk-parallel-item\"><div class=\"sk-item\"><div class=\"sk-label-container\"><div class=\"sk-label sk-toggleable\"><input class=\"sk-toggleable__control sk-hidden--visually\" id=\"sk-estimator-id-5\" type=\"checkbox\" ><label for=\"sk-estimator-id-5\" class=\"sk-toggleable__label sk-toggleable__label-arrow\">estimator: LGBMClassifier</label><div class=\"sk-toggleable__content\"><pre>LGBMClassifier()</pre></div></div></div><div class=\"sk-serial\"><div class=\"sk-item\"><div class=\"sk-estimator sk-toggleable\"><input class=\"sk-toggleable__control sk-hidden--visually\" id=\"sk-estimator-id-6\" type=\"checkbox\" ><label for=\"sk-estimator-id-6\" class=\"sk-toggleable__label sk-toggleable__label-arrow\">LGBMClassifier</label><div class=\"sk-toggleable__content\"><pre>LGBMClassifier()</pre></div></div></div></div></div></div></div></div></div></div>"
      ],
      "text/plain": [
       "BayesSearchCV(cv=5, estimator=LGBMClassifier(), n_iter=20, n_jobs=-1,\n",
       "              scoring='accuracy',\n",
       "              search_spaces={'colsample_bytree': Real(low=0.1, high=1.0, prior='uniform', transform='normalize'),\n",
       "                             'learning_rate': Real(low=0.01, high=1.0, prior='log-uniform', transform='normalize'),\n",
       "                             'max_depth': Integer(low=3, high=15, prior='uniform', transform='normalize'),\n",
       "                             'min_child_samples': Integer(low=5, high=50, prior='uniform', transform='normalize'),\n",
       "                             'n_estimators': Integer(low=100, high=1000, prior='uniform', transform='normalize'),\n",
       "                             'num_leaves': Integer(low=20, high=200, prior='uniform', transform='normalize'),\n",
       "                             'subsample': Real(low=0.1, high=1.0, prior='uniform', transform='normalize')})"
      ]
     },
     "execution_count": 22,
     "metadata": {},
     "output_type": "execute_result"
    }
   ],
   "source": [
    "from skopt import BayesSearchCV\n",
    "from skopt.space import Real, Integer\n",
    "from lightgbm import LGBMClassifier\n",
    "from sklearn.model_selection import train_test_split\n",
    "\n",
    "# Séparation des données en ensemble d'entraînement et de test\n",
    "X_train, X_test, y_train, y_test = train_test_split(data, target, test_size=0.2)\n",
    "\n",
    "# Définition de l'espace de recherche pour l'optimisation bayésienne\n",
    "space = {\n",
    "    'n_estimators': Integer(100, 1000),\n",
    "    'max_depth': Integer(3, 15),\n",
    "    'learning_rate': Real(0.01, 1.0, prior='log-uniform'),\n",
    "    'num_leaves': Integer(20, 200),\n",
    "    'min_child_samples': Integer(5, 50),\n",
    "    'subsample': Real(0.1, 1.0, prior='uniform'),\n",
    "    'colsample_bytree': Real(0.1, 1.0, prior='uniform')\n",
    "}\n",
    "\n",
    "# Définition du modèle à optimiser (LGBMClassifier)\n",
    "model = LGBMClassifier()\n",
    "\n",
    "# Définition de l'optimiseur bayésien avec 20 itérations\n",
    "opt = BayesSearchCV(\n",
    "    model,\n",
    "    space,\n",
    "    n_iter=20,\n",
    "    scoring='accuracy',\n",
    "    n_jobs=-1,\n",
    "    cv=5\n",
    ")\n",
    "\n",
    "# Lancement de l'optimisation\n",
    "opt.fit(X_train, y_train)\n"
   ]
  },
  {
   "cell_type": "code",
   "execution_count": 23,
   "id": "581f0a0c-99c5-4c0d-92a6-9efcf181f040",
   "metadata": {},
   "outputs": [
    {
     "name": "stdout",
     "output_type": "stream",
     "text": [
      "Meilleurs hyperparamètres : OrderedDict([('colsample_bytree', 0.636109111276708), ('learning_rate', 0.011237223602724626), ('max_depth', 10), ('min_child_samples', 5), ('n_estimators', 673), ('num_leaves', 139), ('subsample', 0.4463998077167358)])\n",
      "Score de l'optimisation bayésienne : 0.88\n"
     ]
    }
   ],
   "source": [
    "# Affichage des meilleurs hyperparamètres trouvés\n",
    "print('Meilleurs hyperparamètres :', opt.best_params_)\n",
    "\n",
    "# Évaluation du modèle avec les hyperparamètres trouvés\n",
    "score_1 = opt.score(X_test, y_test)\n",
    "print('Score de l\\'optimisation bayésienne : {:.2f}'.format(score_1))"
   ]
  },
  {
   "cell_type": "code",
   "execution_count": 24,
   "id": "d41d96ce-92ad-448c-ab08-ca2d587745ce",
   "metadata": {},
   "outputs": [
    {
     "name": "stdout",
     "output_type": "stream",
     "text": [
      "Score du modèle avec les meilleurs hyperparamètres : 0.88\n"
     ]
    }
   ],
   "source": [
    "# Application des hyperparametres\n",
    "\n",
    "from lightgbm import LGBMClassifier\n",
    "\n",
    "# Définition du modèle avec les meilleurs hyperparamètres\n",
    "model = LGBMClassifier(colsample_bytree=0.636109111276708,\n",
    "                       learning_rate=0.011237223602724626,\n",
    "                       max_depth=10,\n",
    "                       min_child_samples=5,\n",
    "                       n_estimators=673,\n",
    "                       num_leaves=139,\n",
    "                       subsample=0.4463998077167358)\n",
    "\n",
    "# Entraînement du modèle avec l'ensemble d'entraînement\n",
    "model.fit(X_train, y_train)\n",
    "\n",
    "# Évaluation du modèle avec l'ensemble de test\n",
    "score = model.score(X_test, y_test)\n",
    "print('Score du modèle avec les meilleurs hyperparamètres : {:.2f}'.format(score))"
   ]
  },
  {
   "cell_type": "code",
   "execution_count": 25,
   "id": "77a8e5bf-579c-4f6b-b4b8-8d6cbdb4ce03",
   "metadata": {},
   "outputs": [
    {
     "data": {
      "text/html": [
       "<style>#sk-container-id-3 {color: black;background-color: white;}#sk-container-id-3 pre{padding: 0;}#sk-container-id-3 div.sk-toggleable {background-color: white;}#sk-container-id-3 label.sk-toggleable__label {cursor: pointer;display: block;width: 100%;margin-bottom: 0;padding: 0.3em;box-sizing: border-box;text-align: center;}#sk-container-id-3 label.sk-toggleable__label-arrow:before {content: \"▸\";float: left;margin-right: 0.25em;color: #696969;}#sk-container-id-3 label.sk-toggleable__label-arrow:hover:before {color: black;}#sk-container-id-3 div.sk-estimator:hover label.sk-toggleable__label-arrow:before {color: black;}#sk-container-id-3 div.sk-toggleable__content {max-height: 0;max-width: 0;overflow: hidden;text-align: left;background-color: #f0f8ff;}#sk-container-id-3 div.sk-toggleable__content pre {margin: 0.2em;color: black;border-radius: 0.25em;background-color: #f0f8ff;}#sk-container-id-3 input.sk-toggleable__control:checked~div.sk-toggleable__content {max-height: 200px;max-width: 100%;overflow: auto;}#sk-container-id-3 input.sk-toggleable__control:checked~label.sk-toggleable__label-arrow:before {content: \"▾\";}#sk-container-id-3 div.sk-estimator input.sk-toggleable__control:checked~label.sk-toggleable__label {background-color: #d4ebff;}#sk-container-id-3 div.sk-label input.sk-toggleable__control:checked~label.sk-toggleable__label {background-color: #d4ebff;}#sk-container-id-3 input.sk-hidden--visually {border: 0;clip: rect(1px 1px 1px 1px);clip: rect(1px, 1px, 1px, 1px);height: 1px;margin: -1px;overflow: hidden;padding: 0;position: absolute;width: 1px;}#sk-container-id-3 div.sk-estimator {font-family: monospace;background-color: #f0f8ff;border: 1px dotted black;border-radius: 0.25em;box-sizing: border-box;margin-bottom: 0.5em;}#sk-container-id-3 div.sk-estimator:hover {background-color: #d4ebff;}#sk-container-id-3 div.sk-parallel-item::after {content: \"\";width: 100%;border-bottom: 1px solid gray;flex-grow: 1;}#sk-container-id-3 div.sk-label:hover label.sk-toggleable__label {background-color: #d4ebff;}#sk-container-id-3 div.sk-serial::before {content: \"\";position: absolute;border-left: 1px solid gray;box-sizing: border-box;top: 0;bottom: 0;left: 50%;z-index: 0;}#sk-container-id-3 div.sk-serial {display: flex;flex-direction: column;align-items: center;background-color: white;padding-right: 0.2em;padding-left: 0.2em;position: relative;}#sk-container-id-3 div.sk-item {position: relative;z-index: 1;}#sk-container-id-3 div.sk-parallel {display: flex;align-items: stretch;justify-content: center;background-color: white;position: relative;}#sk-container-id-3 div.sk-item::before, #sk-container-id-3 div.sk-parallel-item::before {content: \"\";position: absolute;border-left: 1px solid gray;box-sizing: border-box;top: 0;bottom: 0;left: 50%;z-index: -1;}#sk-container-id-3 div.sk-parallel-item {display: flex;flex-direction: column;z-index: 1;position: relative;background-color: white;}#sk-container-id-3 div.sk-parallel-item:first-child::after {align-self: flex-end;width: 50%;}#sk-container-id-3 div.sk-parallel-item:last-child::after {align-self: flex-start;width: 50%;}#sk-container-id-3 div.sk-parallel-item:only-child::after {width: 0;}#sk-container-id-3 div.sk-dashed-wrapped {border: 1px dashed gray;margin: 0 0.4em 0.5em 0.4em;box-sizing: border-box;padding-bottom: 0.4em;background-color: white;}#sk-container-id-3 div.sk-label label {font-family: monospace;font-weight: bold;display: inline-block;line-height: 1.2em;}#sk-container-id-3 div.sk-label-container {text-align: center;}#sk-container-id-3 div.sk-container {/* jupyter's `normalize.less` sets `[hidden] { display: none; }` but bootstrap.min.css set `[hidden] { display: none !important; }` so we also need the `!important` here to be able to override the default hidden behavior on the sphinx rendered scikit-learn.org. See: https://github.com/scikit-learn/scikit-learn/issues/21755 */display: inline-block !important;position: relative;}#sk-container-id-3 div.sk-text-repr-fallback {display: none;}</style><div id=\"sk-container-id-3\" class=\"sk-top-container\"><div class=\"sk-text-repr-fallback\"><pre>BayesSearchCV(cv=5, estimator=ExtraTreesClassifier(), n_iter=20, n_jobs=-1,\n",
       "              scoring=&#x27;accuracy&#x27;,\n",
       "              search_spaces={&#x27;max_depth&#x27;: Integer(low=3, high=15, prior=&#x27;uniform&#x27;, transform=&#x27;normalize&#x27;),\n",
       "                             &#x27;max_features&#x27;: Real(low=0.1, high=1.0, prior=&#x27;uniform&#x27;, transform=&#x27;normalize&#x27;),\n",
       "                             &#x27;min_samples_leaf&#x27;: Integer(low=1, high=5, prior=&#x27;uniform&#x27;, transform=&#x27;normalize&#x27;),\n",
       "                             &#x27;min_samples_split&#x27;: Integer(low=2, high=10, prior=&#x27;uniform&#x27;, transform=&#x27;normalize&#x27;),\n",
       "                             &#x27;n_estimators&#x27;: Integer(low=100, high=1000, prior=&#x27;uniform&#x27;, transform=&#x27;normalize&#x27;)})</pre><b>In a Jupyter environment, please rerun this cell to show the HTML representation or trust the notebook. <br />On GitHub, the HTML representation is unable to render, please try loading this page with nbviewer.org.</b></div><div class=\"sk-container\" hidden><div class=\"sk-item sk-dashed-wrapped\"><div class=\"sk-label-container\"><div class=\"sk-label sk-toggleable\"><input class=\"sk-toggleable__control sk-hidden--visually\" id=\"sk-estimator-id-7\" type=\"checkbox\" ><label for=\"sk-estimator-id-7\" class=\"sk-toggleable__label sk-toggleable__label-arrow\">BayesSearchCV</label><div class=\"sk-toggleable__content\"><pre>BayesSearchCV(cv=5, estimator=ExtraTreesClassifier(), n_iter=20, n_jobs=-1,\n",
       "              scoring=&#x27;accuracy&#x27;,\n",
       "              search_spaces={&#x27;max_depth&#x27;: Integer(low=3, high=15, prior=&#x27;uniform&#x27;, transform=&#x27;normalize&#x27;),\n",
       "                             &#x27;max_features&#x27;: Real(low=0.1, high=1.0, prior=&#x27;uniform&#x27;, transform=&#x27;normalize&#x27;),\n",
       "                             &#x27;min_samples_leaf&#x27;: Integer(low=1, high=5, prior=&#x27;uniform&#x27;, transform=&#x27;normalize&#x27;),\n",
       "                             &#x27;min_samples_split&#x27;: Integer(low=2, high=10, prior=&#x27;uniform&#x27;, transform=&#x27;normalize&#x27;),\n",
       "                             &#x27;n_estimators&#x27;: Integer(low=100, high=1000, prior=&#x27;uniform&#x27;, transform=&#x27;normalize&#x27;)})</pre></div></div></div><div class=\"sk-parallel\"><div class=\"sk-parallel-item\"><div class=\"sk-item\"><div class=\"sk-label-container\"><div class=\"sk-label sk-toggleable\"><input class=\"sk-toggleable__control sk-hidden--visually\" id=\"sk-estimator-id-8\" type=\"checkbox\" ><label for=\"sk-estimator-id-8\" class=\"sk-toggleable__label sk-toggleable__label-arrow\">estimator: ExtraTreesClassifier</label><div class=\"sk-toggleable__content\"><pre>ExtraTreesClassifier()</pre></div></div></div><div class=\"sk-serial\"><div class=\"sk-item\"><div class=\"sk-estimator sk-toggleable\"><input class=\"sk-toggleable__control sk-hidden--visually\" id=\"sk-estimator-id-9\" type=\"checkbox\" ><label for=\"sk-estimator-id-9\" class=\"sk-toggleable__label sk-toggleable__label-arrow\">ExtraTreesClassifier</label><div class=\"sk-toggleable__content\"><pre>ExtraTreesClassifier()</pre></div></div></div></div></div></div></div></div></div></div>"
      ],
      "text/plain": [
       "BayesSearchCV(cv=5, estimator=ExtraTreesClassifier(), n_iter=20, n_jobs=-1,\n",
       "              scoring='accuracy',\n",
       "              search_spaces={'max_depth': Integer(low=3, high=15, prior='uniform', transform='normalize'),\n",
       "                             'max_features': Real(low=0.1, high=1.0, prior='uniform', transform='normalize'),\n",
       "                             'min_samples_leaf': Integer(low=1, high=5, prior='uniform', transform='normalize'),\n",
       "                             'min_samples_split': Integer(low=2, high=10, prior='uniform', transform='normalize'),\n",
       "                             'n_estimators': Integer(low=100, high=1000, prior='uniform', transform='normalize')})"
      ]
     },
     "execution_count": 25,
     "metadata": {},
     "output_type": "execute_result"
    }
   ],
   "source": [
    "from sklearn.ensemble import ExtraTreesClassifier\n",
    "\n",
    "\n",
    "# Définition de l'espace de recherche pour l'optimisation bayésienne\n",
    "space = {\n",
    "    'n_estimators': Integer(100, 1000),\n",
    "    'max_depth': Integer(3, 15),\n",
    "    'min_samples_split': Integer(2, 10),\n",
    "    'min_samples_leaf': Integer(1, 5),\n",
    "    'max_features': Real(0.1, 1.0, prior='uniform')\n",
    "}\n",
    "\n",
    "# Définition du modèle à optimiser (ExtraTreesClassifier)\n",
    "model = ExtraTreesClassifier()\n",
    "\n",
    "# Définition de l'optimiseur bayésien avec 20 itérations\n",
    "opt = BayesSearchCV(\n",
    "    model,\n",
    "    space,\n",
    "    n_iter=20,\n",
    "    scoring='accuracy',\n",
    "    n_jobs=-1,\n",
    "    cv=5\n",
    ")\n",
    "\n",
    "# Lancement de l'optimisation\n",
    "opt.fit(X_train, y_train)"
   ]
  },
  {
   "cell_type": "code",
   "execution_count": 26,
   "id": "766a9945-6a67-4881-ab58-057d212277e3",
   "metadata": {},
   "outputs": [
    {
     "name": "stdout",
     "output_type": "stream",
     "text": [
      "Meilleurs hyperparamètres : OrderedDict([('max_depth', 15), ('max_features', 1.0), ('min_samples_leaf', 3), ('min_samples_split', 2), ('n_estimators', 1000)])\n",
      "Score de l'optimisation bayésienne : 0.88\n"
     ]
    }
   ],
   "source": [
    "# Affichage des meilleurs hyperparamètres trouvés\n",
    "print('Meilleurs hyperparamètres :', opt.best_params_)\n",
    "\n",
    "# Évaluation du modèle avec les hyperparamètres trouvés\n",
    "score_2 = opt.score(X_test, y_test)\n",
    "print('Score de l\\'optimisation bayésienne : {:.2f}'.format(score_2))"
   ]
  },
  {
   "cell_type": "code",
   "execution_count": 30,
   "id": "874adc8c-3c92-4b47-9470-49675c0f6e4e",
   "metadata": {},
   "outputs": [
    {
     "name": "stdout",
     "output_type": "stream",
     "text": [
      "Score avec les meilleurs hyperparamètres : 0.88\n"
     ]
    }
   ],
   "source": [
    "# Appliquer les meilleurs hyperparametres\n",
    "\n",
    "# Définition du modèle à optimiser (ExtraTreesClassifier)\n",
    "model = ExtraTreesClassifier(max_depth=15, max_features=1.0, min_samples_leaf=3, min_samples_split=2, n_estimators=1000)\n",
    "\n",
    "# Entraînement du modèle avec les meilleurs hyperparamètres trouvés\n",
    "model.fit(X_train, y_train)\n",
    "\n",
    "# Évaluation du modèle avec les hyperparamètres trouvés\n",
    "score_2 = model.score(X_test, y_test)\n",
    "print('Score avec les meilleurs hyperparamètres : {:.2f}'.format(score_2))"
   ]
  },
  {
   "cell_type": "code",
   "execution_count": null,
   "id": "12d49a85-1cb2-4cfd-8566-27e59932e77d",
   "metadata": {},
   "outputs": [],
   "source": []
  },
  {
   "cell_type": "code",
   "execution_count": 31,
   "id": "01883c16-a3a8-4bf1-9b51-e276477f03f4",
   "metadata": {},
   "outputs": [],
   "source": [
    "from skopt import BayesSearchCV\n",
    "from skopt.space import Real, Integer\n",
    "from sklearn.ensemble import RandomForestClassifier\n",
    "from sklearn.model_selection import train_test_split\n",
    "\n",
    "# Séparation des données en ensemble d'entraînement et de test\n",
    "X_train, X_test, y_train, y_test = train_test_split(data, target, test_size=0.2)\n",
    "\n",
    "# Définition de l'espace de recherche pour l'optimisation bayésienne\n",
    "space = {\n",
    "    'n_estimators': Integer(100, 1000),\n",
    "    'max_depth': Integer(3, 15),\n",
    "    'min_samples_split': Integer(2, 10),\n",
    "    'min_samples_leaf': Integer(1, 5),\n",
    "    'max_features': Real(0.1, 1.0, prior='uniform')\n",
    "}"
   ]
  },
  {
   "cell_type": "code",
   "execution_count": 32,
   "id": "532acc0d-dc0f-4f39-8fc4-ebbb4fdc9407",
   "metadata": {},
   "outputs": [
    {
     "data": {
      "text/html": [
       "<style>#sk-container-id-4 {color: black;background-color: white;}#sk-container-id-4 pre{padding: 0;}#sk-container-id-4 div.sk-toggleable {background-color: white;}#sk-container-id-4 label.sk-toggleable__label {cursor: pointer;display: block;width: 100%;margin-bottom: 0;padding: 0.3em;box-sizing: border-box;text-align: center;}#sk-container-id-4 label.sk-toggleable__label-arrow:before {content: \"▸\";float: left;margin-right: 0.25em;color: #696969;}#sk-container-id-4 label.sk-toggleable__label-arrow:hover:before {color: black;}#sk-container-id-4 div.sk-estimator:hover label.sk-toggleable__label-arrow:before {color: black;}#sk-container-id-4 div.sk-toggleable__content {max-height: 0;max-width: 0;overflow: hidden;text-align: left;background-color: #f0f8ff;}#sk-container-id-4 div.sk-toggleable__content pre {margin: 0.2em;color: black;border-radius: 0.25em;background-color: #f0f8ff;}#sk-container-id-4 input.sk-toggleable__control:checked~div.sk-toggleable__content {max-height: 200px;max-width: 100%;overflow: auto;}#sk-container-id-4 input.sk-toggleable__control:checked~label.sk-toggleable__label-arrow:before {content: \"▾\";}#sk-container-id-4 div.sk-estimator input.sk-toggleable__control:checked~label.sk-toggleable__label {background-color: #d4ebff;}#sk-container-id-4 div.sk-label input.sk-toggleable__control:checked~label.sk-toggleable__label {background-color: #d4ebff;}#sk-container-id-4 input.sk-hidden--visually {border: 0;clip: rect(1px 1px 1px 1px);clip: rect(1px, 1px, 1px, 1px);height: 1px;margin: -1px;overflow: hidden;padding: 0;position: absolute;width: 1px;}#sk-container-id-4 div.sk-estimator {font-family: monospace;background-color: #f0f8ff;border: 1px dotted black;border-radius: 0.25em;box-sizing: border-box;margin-bottom: 0.5em;}#sk-container-id-4 div.sk-estimator:hover {background-color: #d4ebff;}#sk-container-id-4 div.sk-parallel-item::after {content: \"\";width: 100%;border-bottom: 1px solid gray;flex-grow: 1;}#sk-container-id-4 div.sk-label:hover label.sk-toggleable__label {background-color: #d4ebff;}#sk-container-id-4 div.sk-serial::before {content: \"\";position: absolute;border-left: 1px solid gray;box-sizing: border-box;top: 0;bottom: 0;left: 50%;z-index: 0;}#sk-container-id-4 div.sk-serial {display: flex;flex-direction: column;align-items: center;background-color: white;padding-right: 0.2em;padding-left: 0.2em;position: relative;}#sk-container-id-4 div.sk-item {position: relative;z-index: 1;}#sk-container-id-4 div.sk-parallel {display: flex;align-items: stretch;justify-content: center;background-color: white;position: relative;}#sk-container-id-4 div.sk-item::before, #sk-container-id-4 div.sk-parallel-item::before {content: \"\";position: absolute;border-left: 1px solid gray;box-sizing: border-box;top: 0;bottom: 0;left: 50%;z-index: -1;}#sk-container-id-4 div.sk-parallel-item {display: flex;flex-direction: column;z-index: 1;position: relative;background-color: white;}#sk-container-id-4 div.sk-parallel-item:first-child::after {align-self: flex-end;width: 50%;}#sk-container-id-4 div.sk-parallel-item:last-child::after {align-self: flex-start;width: 50%;}#sk-container-id-4 div.sk-parallel-item:only-child::after {width: 0;}#sk-container-id-4 div.sk-dashed-wrapped {border: 1px dashed gray;margin: 0 0.4em 0.5em 0.4em;box-sizing: border-box;padding-bottom: 0.4em;background-color: white;}#sk-container-id-4 div.sk-label label {font-family: monospace;font-weight: bold;display: inline-block;line-height: 1.2em;}#sk-container-id-4 div.sk-label-container {text-align: center;}#sk-container-id-4 div.sk-container {/* jupyter's `normalize.less` sets `[hidden] { display: none; }` but bootstrap.min.css set `[hidden] { display: none !important; }` so we also need the `!important` here to be able to override the default hidden behavior on the sphinx rendered scikit-learn.org. See: https://github.com/scikit-learn/scikit-learn/issues/21755 */display: inline-block !important;position: relative;}#sk-container-id-4 div.sk-text-repr-fallback {display: none;}</style><div id=\"sk-container-id-4\" class=\"sk-top-container\"><div class=\"sk-text-repr-fallback\"><pre>BayesSearchCV(cv=5, estimator=RandomForestClassifier(), n_iter=20, n_jobs=-1,\n",
       "              scoring=&#x27;accuracy&#x27;,\n",
       "              search_spaces={&#x27;max_depth&#x27;: Integer(low=3, high=15, prior=&#x27;uniform&#x27;, transform=&#x27;normalize&#x27;),\n",
       "                             &#x27;max_features&#x27;: Real(low=0.1, high=1.0, prior=&#x27;uniform&#x27;, transform=&#x27;normalize&#x27;),\n",
       "                             &#x27;min_samples_leaf&#x27;: Integer(low=1, high=5, prior=&#x27;uniform&#x27;, transform=&#x27;normalize&#x27;),\n",
       "                             &#x27;min_samples_split&#x27;: Integer(low=2, high=10, prior=&#x27;uniform&#x27;, transform=&#x27;normalize&#x27;),\n",
       "                             &#x27;n_estimators&#x27;: Integer(low=100, high=1000, prior=&#x27;uniform&#x27;, transform=&#x27;normalize&#x27;)})</pre><b>In a Jupyter environment, please rerun this cell to show the HTML representation or trust the notebook. <br />On GitHub, the HTML representation is unable to render, please try loading this page with nbviewer.org.</b></div><div class=\"sk-container\" hidden><div class=\"sk-item sk-dashed-wrapped\"><div class=\"sk-label-container\"><div class=\"sk-label sk-toggleable\"><input class=\"sk-toggleable__control sk-hidden--visually\" id=\"sk-estimator-id-10\" type=\"checkbox\" ><label for=\"sk-estimator-id-10\" class=\"sk-toggleable__label sk-toggleable__label-arrow\">BayesSearchCV</label><div class=\"sk-toggleable__content\"><pre>BayesSearchCV(cv=5, estimator=RandomForestClassifier(), n_iter=20, n_jobs=-1,\n",
       "              scoring=&#x27;accuracy&#x27;,\n",
       "              search_spaces={&#x27;max_depth&#x27;: Integer(low=3, high=15, prior=&#x27;uniform&#x27;, transform=&#x27;normalize&#x27;),\n",
       "                             &#x27;max_features&#x27;: Real(low=0.1, high=1.0, prior=&#x27;uniform&#x27;, transform=&#x27;normalize&#x27;),\n",
       "                             &#x27;min_samples_leaf&#x27;: Integer(low=1, high=5, prior=&#x27;uniform&#x27;, transform=&#x27;normalize&#x27;),\n",
       "                             &#x27;min_samples_split&#x27;: Integer(low=2, high=10, prior=&#x27;uniform&#x27;, transform=&#x27;normalize&#x27;),\n",
       "                             &#x27;n_estimators&#x27;: Integer(low=100, high=1000, prior=&#x27;uniform&#x27;, transform=&#x27;normalize&#x27;)})</pre></div></div></div><div class=\"sk-parallel\"><div class=\"sk-parallel-item\"><div class=\"sk-item\"><div class=\"sk-label-container\"><div class=\"sk-label sk-toggleable\"><input class=\"sk-toggleable__control sk-hidden--visually\" id=\"sk-estimator-id-11\" type=\"checkbox\" ><label for=\"sk-estimator-id-11\" class=\"sk-toggleable__label sk-toggleable__label-arrow\">estimator: RandomForestClassifier</label><div class=\"sk-toggleable__content\"><pre>RandomForestClassifier()</pre></div></div></div><div class=\"sk-serial\"><div class=\"sk-item\"><div class=\"sk-estimator sk-toggleable\"><input class=\"sk-toggleable__control sk-hidden--visually\" id=\"sk-estimator-id-12\" type=\"checkbox\" ><label for=\"sk-estimator-id-12\" class=\"sk-toggleable__label sk-toggleable__label-arrow\">RandomForestClassifier</label><div class=\"sk-toggleable__content\"><pre>RandomForestClassifier()</pre></div></div></div></div></div></div></div></div></div></div>"
      ],
      "text/plain": [
       "BayesSearchCV(cv=5, estimator=RandomForestClassifier(), n_iter=20, n_jobs=-1,\n",
       "              scoring='accuracy',\n",
       "              search_spaces={'max_depth': Integer(low=3, high=15, prior='uniform', transform='normalize'),\n",
       "                             'max_features': Real(low=0.1, high=1.0, prior='uniform', transform='normalize'),\n",
       "                             'min_samples_leaf': Integer(low=1, high=5, prior='uniform', transform='normalize'),\n",
       "                             'min_samples_split': Integer(low=2, high=10, prior='uniform', transform='normalize'),\n",
       "                             'n_estimators': Integer(low=100, high=1000, prior='uniform', transform='normalize')})"
      ]
     },
     "execution_count": 32,
     "metadata": {},
     "output_type": "execute_result"
    }
   ],
   "source": [
    "# Définition du modèle à optimiser (Random Forest)\n",
    "model = RandomForestClassifier()\n",
    "\n",
    "# Définition de l'optimiseur bayésien avec 20 itérations\n",
    "opt = BayesSearchCV(\n",
    "    model,\n",
    "    space,\n",
    "    n_iter=20,\n",
    "    scoring='accuracy',\n",
    "    n_jobs=-1,\n",
    "    cv=5\n",
    ")\n",
    "\n",
    "# Lancement de l'optimisation\n",
    "opt.fit(X_train, y_train)"
   ]
  },
  {
   "cell_type": "code",
   "execution_count": 33,
   "id": "8f0aa3f4-a8a9-4de7-8124-75f31f3fd24f",
   "metadata": {},
   "outputs": [
    {
     "name": "stdout",
     "output_type": "stream",
     "text": [
      "Meilleurs hyperparamètres : OrderedDict([('max_depth', 15), ('max_features', 0.7497463720669447), ('min_samples_leaf', 1), ('min_samples_split', 2), ('n_estimators', 100)])\n",
      "Score de l'optimisation bayésienne : 0.88\n"
     ]
    }
   ],
   "source": [
    "# Affichage des meilleurs hyperparamètres trouvés\n",
    "print('Meilleurs hyperparamètres :', opt.best_params_)\n",
    "\n",
    "# Évaluation du modèle avec les hyperparamètres trouvés\n",
    "score_3 = opt.score(X_test, y_test)\n",
    "print('Score de l\\'optimisation bayésienne : {:.2f}'.format(score_3))"
   ]
  },
  {
   "cell_type": "code",
   "execution_count": null,
   "id": "f177cabf-c145-4225-bbce-b8a5b61898e5",
   "metadata": {},
   "outputs": [],
   "source": []
  },
  {
   "cell_type": "code",
   "execution_count": null,
   "id": "e1cdebba-9071-497f-8b98-204ecdbd3e72",
   "metadata": {},
   "outputs": [],
   "source": []
  },
  {
   "cell_type": "code",
   "execution_count": null,
   "id": "40945520-60c2-45dd-a08c-cde17fc314d4",
   "metadata": {},
   "outputs": [],
   "source": [
    "# Application des meilleurs hyperparametres\n",
    "\n"
   ]
  }
 ],
 "metadata": {
  "kernelspec": {
   "display_name": "Python 3 (ipykernel)",
   "language": "python",
   "name": "python3"
  },
  "language_info": {
   "codemirror_mode": {
    "name": "ipython",
    "version": 3
   },
   "file_extension": ".py",
   "mimetype": "text/x-python",
   "name": "python",
   "nbconvert_exporter": "python",
   "pygments_lexer": "ipython3",
   "version": "3.9.12"
  }
 },
 "nbformat": 4,
 "nbformat_minor": 5
}
