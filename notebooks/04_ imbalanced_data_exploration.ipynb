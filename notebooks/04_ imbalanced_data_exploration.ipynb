{
 "cells": [
  {
   "cell_type": "markdown",
   "id": "3bdcdf99-0d73-463f-a6f7-9adae1276d5c",
   "metadata": {
    "tags": []
   },
   "source": [
    "## <b>Weather forecast project "
   ]
  },
  {
   "cell_type": "markdown",
   "id": "ffbbda97-5d8a-493c-b002-4b0c61aebeec",
   "metadata": {
    "jp-MarkdownHeadingCollapsed": true,
    "tags": []
   },
   "source": [
    "# <b>04 - IMBALANCED DATA EXPLORATION"
   ]
  },
  {
   "cell_type": "markdown",
   "id": "fa0c8781-cbaf-4ae7-bf9f-4ec9a6c18a28",
   "metadata": {},
   "source": [
    "# Rain in Australia\n",
    "---\n",
    "#### Dataset source:\n",
    "\n",
    "Le dataset issu de l'étape de feature engineering est utilisé dans ce notebook : \n",
    "    \n",
    "    - data_features.csv contenant les données nettoyées et préparées sur la base du dataset initiale"
   ]
  },
  {
   "cell_type": "markdown",
   "id": "e2f283e4-6c2f-4d5c-8651-b8618be0ed85",
   "metadata": {
    "tags": []
   },
   "source": [
    "#### Context:\n",
    "Brève description de ce notebook :\n",
    "\n",
    "> <div class= \"alert alert-block alert-info\"> Cette partie de l'analyse se concentre sur les techniques utilisées pour <b>traiter les jeux de données déséquilibrés</b>, comme cela a été identifié dans la partie précédente consacrée à l'exploration des données. Afin de résoudre ce problème, nous avons appliqué des techniques de sur-échantillonnage et de sous-échantillonnage aléatoires sur un modèle SVM simple ainsi que sur un classificateur balancé.\n",
    "\n",
    "    Le but de ces techniques est d'équilibrer la distribution de classe dans le jeu de données afin de garantir des prévisions précises pour toutes les classes et éviter que le modèle ne se concentre sur la classe majoritaire. Les performances de chaque modèle ont été évaluées en utilisant plusieurs mesures de classification telles que la précision, le rappel et le F1-score.\n",
    "    \n",
    "</div>"
   ]
  },
  {
   "cell_type": "markdown",
   "id": "31b36bbe-5692-4e51-8f6f-d37a394599ba",
   "metadata": {
    "tags": []
   },
   "source": [
    "# [Table of contents](#0)<a name=\"0\"></a> \n",
    "\n",
    "1. [Préparation des données](#1)\n",
    "\n",
    "    1.1 [Séparation des données en variables explicatives et variable cible](#1.1)\n",
    "    \n",
    "    1.2 [Fractionnement des données en ensemble d'entraînement et de test](#1.2)\n",
    "    \n",
    "    1.3 [Oversampling](#1.3)\n",
    "    \n",
    "    1.4 [Undersampling](#1.4)\n",
    "    \n",
    "2. [Application d'un modèle SVM](#2)\n",
    "\n",
    "    2.1 [Classification SVM avec un sur-échantillon aléatoire ](#2.1)\n",
    "    \n",
    "    2.2 [Classification SVM avec un sous-échantillon aléatoire](#2.2)\n",
    "    \n",
    "    2.3 [Optimisation de la classification SVM avec seuil de prédiction pour améliorer la performance du modèle](#2.3)\n",
    "    \n",
    "3. [Application d'un modèle Balanced Random Forest Classifier](#3)\n",
    "\n",
    "4. [Conclusion](#4)"
   ]
  },
  {
   "cell_type": "markdown",
   "id": "85c5ec93-321a-49dc-af90-714a6a977b4f",
   "metadata": {},
   "source": [
    "#### Packages nécessaires au notebook:"
   ]
  },
  {
   "cell_type": "code",
   "execution_count": 29,
   "id": "942af876-6e11-4441-b86f-dd76f211bc3a",
   "metadata": {},
   "outputs": [],
   "source": [
    "import pandas as pd\n",
    "import hvplot.pandas\n",
    "import numpy as np\n",
    "import seaborn as sns\n",
    "import matplotlib.pyplot as plt\n",
    "\n",
    "from sklearn.model_selection import train_test_split\n",
    "\n",
    "from imblearn.over_sampling import RandomOverSampler\n",
    "from imblearn.under_sampling import RandomUnderSampler\n",
    "from imblearn.ensemble import BalancedRandomForestClassifier\n",
    "\n",
    "from imblearn.metrics import classification_report_imbalanced\n",
    "from sklearn.metrics import f1_score\n",
    "\n",
    "from sklearn.svm import SVC"
   ]
  },
  {
   "cell_type": "code",
   "execution_count": 2,
   "id": "4d3edd89-53b4-4b78-ada3-a3861ecd37b8",
   "metadata": {},
   "outputs": [],
   "source": [
    "df = pd.read_csv(\"../data/data_features.csv\", index_col=0)"
   ]
  },
  {
   "cell_type": "code",
   "execution_count": 3,
   "id": "5302b811-2878-4f5e-94eb-e88807af766e",
   "metadata": {},
   "outputs": [
    {
     "data": {
      "text/html": [
       "<div>\n",
       "<style scoped>\n",
       "    .dataframe tbody tr th:only-of-type {\n",
       "        vertical-align: middle;\n",
       "    }\n",
       "\n",
       "    .dataframe tbody tr th {\n",
       "        vertical-align: top;\n",
       "    }\n",
       "\n",
       "    .dataframe thead th {\n",
       "        text-align: right;\n",
       "    }\n",
       "</style>\n",
       "<table border=\"1\" class=\"dataframe\">\n",
       "  <thead>\n",
       "    <tr style=\"text-align: right;\">\n",
       "      <th></th>\n",
       "      <th>sunshine</th>\n",
       "      <th>windgustspeed</th>\n",
       "      <th>humidity3pm</th>\n",
       "      <th>pressure3pm</th>\n",
       "      <th>year</th>\n",
       "      <th>windspeed3pm</th>\n",
       "      <th>temp_amplitude</th>\n",
       "      <th>cloud3pm</th>\n",
       "      <th>rainfall</th>\n",
       "      <th>climat</th>\n",
       "      <th>...</th>\n",
       "      <th>cloud9am</th>\n",
       "      <th>winddir9am_sin</th>\n",
       "      <th>latitude</th>\n",
       "      <th>month</th>\n",
       "      <th>geography</th>\n",
       "      <th>raintoday</th>\n",
       "      <th>evaporation</th>\n",
       "      <th>windspeed9am</th>\n",
       "      <th>windgustdir_cos</th>\n",
       "      <th>raintomorrow</th>\n",
       "    </tr>\n",
       "  </thead>\n",
       "  <tbody>\n",
       "    <tr>\n",
       "      <th>0</th>\n",
       "      <td>10.9</td>\n",
       "      <td>44.0</td>\n",
       "      <td>22.0</td>\n",
       "      <td>1007.1</td>\n",
       "      <td>2008</td>\n",
       "      <td>24.0</td>\n",
       "      <td>9.5</td>\n",
       "      <td>7.0</td>\n",
       "      <td>0.6</td>\n",
       "      <td>0</td>\n",
       "      <td>...</td>\n",
       "      <td>8.0</td>\n",
       "      <td>1.224647e-16</td>\n",
       "      <td>-36.065766</td>\n",
       "      <td>12</td>\n",
       "      <td>0</td>\n",
       "      <td>0</td>\n",
       "      <td>7.6</td>\n",
       "      <td>20.0</td>\n",
       "      <td>-1.000000</td>\n",
       "      <td>0</td>\n",
       "    </tr>\n",
       "    <tr>\n",
       "      <th>1</th>\n",
       "      <td>12.9</td>\n",
       "      <td>44.0</td>\n",
       "      <td>25.0</td>\n",
       "      <td>1007.8</td>\n",
       "      <td>2008</td>\n",
       "      <td>22.0</td>\n",
       "      <td>17.7</td>\n",
       "      <td>1.0</td>\n",
       "      <td>0.0</td>\n",
       "      <td>0</td>\n",
       "      <td>...</td>\n",
       "      <td>1.0</td>\n",
       "      <td>9.238795e-01</td>\n",
       "      <td>-36.065766</td>\n",
       "      <td>12</td>\n",
       "      <td>0</td>\n",
       "      <td>0</td>\n",
       "      <td>12.0</td>\n",
       "      <td>4.0</td>\n",
       "      <td>-0.923880</td>\n",
       "      <td>0</td>\n",
       "    </tr>\n",
       "    <tr>\n",
       "      <th>2</th>\n",
       "      <td>8.0</td>\n",
       "      <td>46.0</td>\n",
       "      <td>30.0</td>\n",
       "      <td>1008.7</td>\n",
       "      <td>2008</td>\n",
       "      <td>26.0</td>\n",
       "      <td>12.8</td>\n",
       "      <td>2.0</td>\n",
       "      <td>0.0</td>\n",
       "      <td>0</td>\n",
       "      <td>...</td>\n",
       "      <td>7.0</td>\n",
       "      <td>1.224647e-16</td>\n",
       "      <td>-36.065766</td>\n",
       "      <td>12</td>\n",
       "      <td>0</td>\n",
       "      <td>0</td>\n",
       "      <td>8.0</td>\n",
       "      <td>19.0</td>\n",
       "      <td>-0.923880</td>\n",
       "      <td>0</td>\n",
       "    </tr>\n",
       "    <tr>\n",
       "      <th>3</th>\n",
       "      <td>2.2</td>\n",
       "      <td>24.0</td>\n",
       "      <td>16.0</td>\n",
       "      <td>1012.8</td>\n",
       "      <td>2008</td>\n",
       "      <td>9.0</td>\n",
       "      <td>18.8</td>\n",
       "      <td>6.0</td>\n",
       "      <td>0.0</td>\n",
       "      <td>0</td>\n",
       "      <td>...</td>\n",
       "      <td>8.0</td>\n",
       "      <td>-7.071068e-01</td>\n",
       "      <td>-36.065766</td>\n",
       "      <td>12</td>\n",
       "      <td>0</td>\n",
       "      <td>0</td>\n",
       "      <td>10.0</td>\n",
       "      <td>11.0</td>\n",
       "      <td>0.707107</td>\n",
       "      <td>0</td>\n",
       "    </tr>\n",
       "    <tr>\n",
       "      <th>4</th>\n",
       "      <td>6.7</td>\n",
       "      <td>41.0</td>\n",
       "      <td>33.0</td>\n",
       "      <td>1006.0</td>\n",
       "      <td>2008</td>\n",
       "      <td>20.0</td>\n",
       "      <td>14.8</td>\n",
       "      <td>8.0</td>\n",
       "      <td>1.0</td>\n",
       "      <td>0</td>\n",
       "      <td>...</td>\n",
       "      <td>7.0</td>\n",
       "      <td>3.826834e-01</td>\n",
       "      <td>-36.065766</td>\n",
       "      <td>12</td>\n",
       "      <td>0</td>\n",
       "      <td>0</td>\n",
       "      <td>4.8</td>\n",
       "      <td>7.0</td>\n",
       "      <td>-1.000000</td>\n",
       "      <td>0</td>\n",
       "    </tr>\n",
       "  </tbody>\n",
       "</table>\n",
       "<p>5 rows × 24 columns</p>\n",
       "</div>"
      ],
      "text/plain": [
       "   sunshine  windgustspeed  humidity3pm  pressure3pm  year  windspeed3pm  \\\n",
       "0      10.9           44.0         22.0       1007.1  2008          24.0   \n",
       "1      12.9           44.0         25.0       1007.8  2008          22.0   \n",
       "2       8.0           46.0         30.0       1008.7  2008          26.0   \n",
       "3       2.2           24.0         16.0       1012.8  2008           9.0   \n",
       "4       6.7           41.0         33.0       1006.0  2008          20.0   \n",
       "\n",
       "   temp_amplitude  cloud3pm  rainfall  climat  ...  cloud9am  winddir9am_sin  \\\n",
       "0             9.5       7.0       0.6       0  ...       8.0    1.224647e-16   \n",
       "1            17.7       1.0       0.0       0  ...       1.0    9.238795e-01   \n",
       "2            12.8       2.0       0.0       0  ...       7.0    1.224647e-16   \n",
       "3            18.8       6.0       0.0       0  ...       8.0   -7.071068e-01   \n",
       "4            14.8       8.0       1.0       0  ...       7.0    3.826834e-01   \n",
       "\n",
       "    latitude  month  geography  raintoday  evaporation  windspeed9am  \\\n",
       "0 -36.065766     12          0          0          7.6          20.0   \n",
       "1 -36.065766     12          0          0         12.0           4.0   \n",
       "2 -36.065766     12          0          0          8.0          19.0   \n",
       "3 -36.065766     12          0          0         10.0          11.0   \n",
       "4 -36.065766     12          0          0          4.8           7.0   \n",
       "\n",
       "   windgustdir_cos  raintomorrow  \n",
       "0        -1.000000             0  \n",
       "1        -0.923880             0  \n",
       "2        -0.923880             0  \n",
       "3         0.707107             0  \n",
       "4        -1.000000             0  \n",
       "\n",
       "[5 rows x 24 columns]"
      ]
     },
     "execution_count": 3,
     "metadata": {},
     "output_type": "execute_result"
    }
   ],
   "source": [
    "df.head()"
   ]
  },
  {
   "cell_type": "markdown",
   "id": "23bc7f3d-f9cd-4862-a2ab-5377a1e57e21",
   "metadata": {},
   "source": [
    "# 1.Préparation des données<a name=1></a>\n",
    "[return to the plan](#0)  "
   ]
  },
  {
   "cell_type": "markdown",
   "id": "311560c2-08de-44ff-8991-23e3b4236368",
   "metadata": {},
   "source": [
    "## 1.1 Séparation des données en variables explicatives et variable cible <a name=\"1.1\"></a>\n",
    "[return to the plan](#0)  "
   ]
  },
  {
   "cell_type": "code",
   "execution_count": 4,
   "id": "19063974-4e48-46c1-8ed1-45f583e07db1",
   "metadata": {},
   "outputs": [],
   "source": [
    "X = df.drop(['raintomorrow'],axis=1)\n",
    "y = df['raintomorrow']"
   ]
  },
  {
   "cell_type": "code",
   "execution_count": 5,
   "id": "d508214b-539f-4686-a95d-388c91148a07",
   "metadata": {},
   "outputs": [
    {
     "data": {
      "text/plain": [
       "0    0.840098\n",
       "1    0.159902\n",
       "Name: raintomorrow, dtype: float64"
      ]
     },
     "execution_count": 5,
     "metadata": {},
     "output_type": "execute_result"
    }
   ],
   "source": [
    "y.value_counts(normalize=True)"
   ]
  },
  {
   "cell_type": "markdown",
   "id": "a53d6b5e-a008-4f4b-a680-d9687e884717",
   "metadata": {},
   "source": [
    "> Dans ce dataset, 16% des données correspondent à une prédiction de pluie le lendemain, ce qui signifie qu'un modèle naïf qui prédit qu'il ne pleut pas systématiquement, obtiendrait déjà un score de 84 % d'accuracy."
   ]
  },
  {
   "cell_type": "markdown",
   "id": "0209d115-6366-4df4-988a-3a4cfc4eec2b",
   "metadata": {},
   "source": [
    "## 1.2 Fractionnement des données en ensemble d'entraînement et de test <a name=\"1.2\"></a>\n",
    "[return to the plan](#0)  "
   ]
  },
  {
   "cell_type": "code",
   "execution_count": 6,
   "id": "5ebeabaa-f593-46a1-ab3b-c00fc8e5d914",
   "metadata": {},
   "outputs": [],
   "source": [
    "X_train, X_test, y_train, y_test = train_test_split(X,y, test_size = 0.2, random_state = 10)"
   ]
  },
  {
   "cell_type": "markdown",
   "id": "a4b517c6-a586-4af9-b43e-dfa82e2e975f",
   "metadata": {},
   "source": [
    "## 1.3 Oversampling <a name=\"1.3\"></a>\n",
    "#### Sur-échantillonnage aléatoire des données d'entraînement X_train et y_train \n",
    "[return to the plan](#0)  "
   ]
  },
  {
   "cell_type": "markdown",
   "id": "dbecacc1-7d83-4f12-9281-0eee2c521de2",
   "metadata": {},
   "source": [
    "La méthode RandomOverSampler() génère de nouvelles instances aléatoires de la classe minoritaire \"raintomorrow\" pour créer un ensemble de données équilibré en termes de distribution de classe."
   ]
  },
  {
   "cell_type": "code",
   "execution_count": 7,
   "id": "5a3a9ce3-6fff-4acf-94f7-69aa0d200f11",
   "metadata": {},
   "outputs": [
    {
     "name": "stdout",
     "output_type": "stream",
     "text": [
      "Classes échantillon oversampled : {1: 48841, 0: 48841}\n"
     ]
    }
   ],
   "source": [
    "rOs = RandomOverSampler()\n",
    "X_ro, y_ro = rOs.fit_resample(X_train, y_train)\n",
    "print('Classes échantillon oversampled :', dict(pd.Series(y_ro).value_counts()))"
   ]
  },
  {
   "cell_type": "code",
   "execution_count": 8,
   "id": "9de7d8d3-a4a0-4b87-9035-64049c75f86b",
   "metadata": {},
   "outputs": [
    {
     "data": {},
     "metadata": {},
     "output_type": "display_data"
    },
    {
     "data": {
      "application/vnd.holoviews_exec.v0+json": "",
      "text/html": [
       "<div id='1002'>\n",
       "  <div class=\"bk-root\" id=\"87c7cfad-82f2-4efb-b7e8-2208161b58f6\" data-root-id=\"1002\"></div>\n",
       "</div>\n",
       "<script type=\"application/javascript\">(function(root) {\n",
       "  function embed_document(root) {\n",
       "    var docs_json = {\"e1c6a5fb-3aaa-4521-ae36-cdeaa4012fe5\":{\"defs\":[{\"extends\":null,\"module\":null,\"name\":\"ReactiveHTML1\",\"overrides\":[],\"properties\":[]},{\"extends\":null,\"module\":null,\"name\":\"FlexBox1\",\"overrides\":[],\"properties\":[{\"default\":\"flex-start\",\"kind\":null,\"name\":\"align_content\"},{\"default\":\"flex-start\",\"kind\":null,\"name\":\"align_items\"},{\"default\":\"row\",\"kind\":null,\"name\":\"flex_direction\"},{\"default\":\"wrap\",\"kind\":null,\"name\":\"flex_wrap\"},{\"default\":\"flex-start\",\"kind\":null,\"name\":\"justify_content\"}]},{\"extends\":null,\"module\":null,\"name\":\"GridStack1\",\"overrides\":[],\"properties\":[{\"default\":\"warn\",\"kind\":null,\"name\":\"mode\"},{\"default\":null,\"kind\":null,\"name\":\"ncols\"},{\"default\":null,\"kind\":null,\"name\":\"nrows\"},{\"default\":true,\"kind\":null,\"name\":\"allow_resize\"},{\"default\":true,\"kind\":null,\"name\":\"allow_drag\"},{\"default\":[],\"kind\":null,\"name\":\"state\"}]},{\"extends\":null,\"module\":null,\"name\":\"click1\",\"overrides\":[],\"properties\":[{\"default\":\"\",\"kind\":null,\"name\":\"terminal_output\"},{\"default\":\"\",\"kind\":null,\"name\":\"debug_name\"},{\"default\":0,\"kind\":null,\"name\":\"clears\"}]},{\"extends\":null,\"module\":null,\"name\":\"NotificationAreaBase1\",\"overrides\":[],\"properties\":[{\"default\":\"bottom-right\",\"kind\":null,\"name\":\"position\"},{\"default\":0,\"kind\":null,\"name\":\"_clear\"}]},{\"extends\":null,\"module\":null,\"name\":\"NotificationArea1\",\"overrides\":[],\"properties\":[{\"default\":[],\"kind\":null,\"name\":\"notifications\"},{\"default\":\"bottom-right\",\"kind\":null,\"name\":\"position\"},{\"default\":0,\"kind\":null,\"name\":\"_clear\"},{\"default\":[{\"background\":\"#ffc107\",\"icon\":{\"className\":\"fas fa-exclamation-triangle\",\"color\":\"white\",\"tagName\":\"i\"},\"type\":\"warning\"},{\"background\":\"#007bff\",\"icon\":{\"className\":\"fas fa-info-circle\",\"color\":\"white\",\"tagName\":\"i\"},\"type\":\"info\"}],\"kind\":null,\"name\":\"types\"}]},{\"extends\":null,\"module\":null,\"name\":\"Notification\",\"overrides\":[],\"properties\":[{\"default\":null,\"kind\":null,\"name\":\"background\"},{\"default\":3000,\"kind\":null,\"name\":\"duration\"},{\"default\":null,\"kind\":null,\"name\":\"icon\"},{\"default\":\"\",\"kind\":null,\"name\":\"message\"},{\"default\":null,\"kind\":null,\"name\":\"notification_type\"},{\"default\":false,\"kind\":null,\"name\":\"_destroyed\"}]},{\"extends\":null,\"module\":null,\"name\":\"TemplateActions1\",\"overrides\":[],\"properties\":[{\"default\":0,\"kind\":null,\"name\":\"open_modal\"},{\"default\":0,\"kind\":null,\"name\":\"close_modal\"}]},{\"extends\":null,\"module\":null,\"name\":\"MaterialTemplateActions1\",\"overrides\":[],\"properties\":[{\"default\":0,\"kind\":null,\"name\":\"open_modal\"},{\"default\":0,\"kind\":null,\"name\":\"close_modal\"}]}],\"roots\":{\"references\":[{\"attributes\":{\"coordinates\":null,\"group\":null,\"text\":\"Sur\\u00e9chantillonnage al\\u00e9atoire avec RandomOverSampler\",\"text_color\":\"black\",\"text_font_size\":\"12pt\"},\"id\":\"1007\",\"type\":\"Title\"},{\"attributes\":{\"bottom\":{\"field\":\"bottom\"},\"fill_alpha\":{\"value\":0.1},\"fill_color\":{\"field\":\"Classe\",\"transform\":{\"id\":\"1035\"}},\"hatch_alpha\":{\"value\":0.1},\"hatch_color\":{\"field\":\"Classe\",\"transform\":{\"id\":\"1035\"}},\"line_alpha\":{\"value\":0.1},\"top\":{\"field\":\"top\"},\"width\":{\"value\":0.8},\"x\":{\"field\":\"Type\"}},\"id\":\"1040\",\"type\":\"VBar\"},{\"attributes\":{\"callback\":null,\"renderers\":[{\"id\":\"1042\"}],\"tags\":[\"hv_created\"],\"tooltips\":[[\"Type\",\"@{Type}\"],[\"Classe\",\"@{Classe}\"],[\"Nombre d'\\u00e9chantillons\",\"@{Nombre_d_apostrophe_\\u00e9chantillons}\"]]},\"id\":\"1005\",\"type\":\"HoverTool\"},{\"attributes\":{},\"id\":\"1037\",\"type\":\"Selection\"},{\"attributes\":{},\"id\":\"1051\",\"type\":\"UnionRenderers\"},{\"attributes\":{\"bottom_units\":\"screen\",\"coordinates\":null,\"fill_alpha\":0.5,\"fill_color\":\"lightgrey\",\"group\":null,\"left_units\":\"screen\",\"level\":\"overlay\",\"line_alpha\":1.0,\"line_color\":\"black\",\"line_dash\":[4,4],\"line_width\":2,\"right_units\":\"screen\",\"syncable\":false,\"top_units\":\"screen\"},\"id\":\"1027\",\"type\":\"BoxAnnotation\"},{\"attributes\":{},\"id\":\"1026\",\"type\":\"ResetTool\"},{\"attributes\":{\"axis\":{\"id\":\"1018\"},\"coordinates\":null,\"dimension\":1,\"grid_line_color\":null,\"group\":null,\"ticker\":null},\"id\":\"1021\",\"type\":\"Grid\"},{\"attributes\":{},\"id\":\"1023\",\"type\":\"PanTool\"},{\"attributes\":{\"source\":{\"id\":\"1036\"}},\"id\":\"1043\",\"type\":\"CDSView\"},{\"attributes\":{\"above\":[{\"id\":\"1054\"}],\"below\":[{\"id\":\"1015\"}],\"center\":[{\"id\":\"1017\"},{\"id\":\"1021\"},{\"id\":\"1054\"}],\"height\":300,\"left\":[{\"id\":\"1018\"}],\"margin\":[5,5,5,5],\"min_border_bottom\":10,\"min_border_left\":10,\"min_border_right\":10,\"min_border_top\":10,\"renderers\":[{\"id\":\"1042\"}],\"sizing_mode\":\"fixed\",\"title\":{\"id\":\"1007\"},\"toolbar\":{\"id\":\"1028\"},\"width\":700,\"x_range\":{\"id\":\"1003\"},\"x_scale\":{\"id\":\"1011\"},\"y_range\":{\"id\":\"1004\"},\"y_scale\":{\"id\":\"1013\"}},\"id\":\"1006\",\"subtype\":\"Figure\",\"type\":\"Plot\"},{\"attributes\":{\"axis_label\":\"Postraitements\",\"coordinates\":null,\"formatter\":{\"id\":\"1049\"},\"group\":null,\"major_label_policy\":{\"id\":\"1050\"},\"ticker\":{\"id\":\"1016\"}},\"id\":\"1015\",\"type\":\"CategoricalAxis\"},{\"attributes\":{\"factors\":[\"Raintomorrow = 0\",\"Raintomorrow = 1\"],\"palette\":[\"#30a2da\",\"#fc4f30\"]},\"id\":\"1035\",\"type\":\"CategoricalColorMapper\"},{\"attributes\":{},\"id\":\"1047\",\"type\":\"AllLabels\"},{\"attributes\":{\"label\":{\"field\":\"Classe\"},\"renderers\":[{\"id\":\"1042\"}]},\"id\":\"1055\",\"type\":\"LegendItem\"},{\"attributes\":{},\"id\":\"1049\",\"type\":\"CategoricalTickFormatter\"},{\"attributes\":{\"bottom\":{\"field\":\"bottom\"},\"fill_alpha\":{\"value\":1.0},\"fill_color\":{\"field\":\"Classe\",\"transform\":{\"id\":\"1035\"}},\"hatch_alpha\":{\"value\":1.0},\"hatch_color\":{\"field\":\"Classe\",\"transform\":{\"id\":\"1035\"}},\"hatch_scale\":{\"value\":12.0},\"hatch_weight\":{\"value\":1.0},\"line_alpha\":{\"value\":1.0},\"line_cap\":{\"value\":\"butt\"},\"line_color\":{\"value\":\"black\"},\"line_dash\":{\"value\":[]},\"line_dash_offset\":{\"value\":0},\"line_join\":{\"value\":\"bevel\"},\"line_width\":{\"value\":1},\"top\":{\"field\":\"top\"},\"width\":{\"value\":0.8},\"x\":{\"field\":\"Type\"}},\"id\":\"1056\",\"type\":\"VBar\"},{\"attributes\":{\"data\":{\"Classe\":[\"Raintomorrow = 0\",\"Raintomorrow = 0\",\"Raintomorrow = 1\",\"Raintomorrow = 1\"],\"Nombre_d_apostrophe_\\u00e9chantillons\":[48841,48841,9324,48841],\"Type\":[\"Avant\",\"Apr\\u00e8s\",\"Avant\",\"Apr\\u00e8s\"],\"bottom\":{\"__ndarray__\":\"AAAAAAAAAAAAAAAAAAAAAAAAAAAg2edAAAAAACDZ50A=\",\"dtype\":\"float64\",\"order\":\"little\",\"shape\":[4]},\"top\":{\"__ndarray__\":\"AAAAACDZ50AAAAAAINnnQAAAAACgZuxAAAAAACDZ90A=\",\"dtype\":\"float64\",\"order\":\"little\",\"shape\":[4]}},\"selected\":{\"id\":\"1037\"},\"selection_policy\":{\"id\":\"1051\"}},\"id\":\"1036\",\"type\":\"ColumnDataSource\"},{\"attributes\":{},\"id\":\"1011\",\"type\":\"CategoricalScale\"},{\"attributes\":{\"active_drag\":{\"id\":\"1023\"},\"active_scroll\":{\"id\":\"1024\"},\"tools\":[{\"id\":\"1005\"},{\"id\":\"1022\"},{\"id\":\"1023\"},{\"id\":\"1024\"},{\"id\":\"1025\"},{\"id\":\"1026\"}]},\"id\":\"1028\",\"type\":\"Toolbar\"},{\"attributes\":{\"coordinates\":null,\"group\":null,\"items\":[{\"id\":\"1055\"}],\"location\":[0,0],\"orientation\":\"horizontal\"},\"id\":\"1054\",\"type\":\"Legend\"},{\"attributes\":{\"bottom\":{\"field\":\"bottom\"},\"fill_alpha\":{\"value\":0.2},\"fill_color\":{\"field\":\"Classe\",\"transform\":{\"id\":\"1035\"}},\"hatch_alpha\":{\"value\":0.2},\"hatch_color\":{\"field\":\"Classe\",\"transform\":{\"id\":\"1035\"}},\"line_alpha\":{\"value\":0.2},\"top\":{\"field\":\"top\"},\"width\":{\"value\":0.8},\"x\":{\"field\":\"Type\"}},\"id\":\"1041\",\"type\":\"VBar\"},{\"attributes\":{},\"id\":\"1046\",\"type\":\"BasicTickFormatter\"},{\"attributes\":{},\"id\":\"1050\",\"type\":\"AllLabels\"},{\"attributes\":{\"overlay\":{\"id\":\"1027\"}},\"id\":\"1025\",\"type\":\"BoxZoomTool\"},{\"attributes\":{\"coordinates\":null,\"data_source\":{\"id\":\"1036\"},\"glyph\":{\"id\":\"1039\"},\"group\":null,\"hover_glyph\":null,\"muted_glyph\":{\"id\":\"1041\"},\"nonselection_glyph\":{\"id\":\"1040\"},\"selection_glyph\":{\"id\":\"1056\"},\"view\":{\"id\":\"1043\"}},\"id\":\"1042\",\"type\":\"GlyphRenderer\"},{\"attributes\":{\"factors\":[\"Avant\",\"Apr\\u00e8s\"],\"tags\":[[[\"Type\",\"Type\",null]]]},\"id\":\"1003\",\"type\":\"FactorRange\"},{\"attributes\":{\"children\":[{\"id\":\"1006\"}],\"height\":300,\"margin\":[0,0,0,0],\"name\":\"Row00862\",\"sizing_mode\":\"fixed\",\"tags\":[\"embedded\"],\"width\":700},\"id\":\"1002\",\"type\":\"Row\"},{\"attributes\":{},\"id\":\"1019\",\"type\":\"BasicTicker\"},{\"attributes\":{\"end\":101633.7,\"reset_end\":101633.7,\"reset_start\":0.0,\"tags\":[[[\"Nombre d'\\u00e9chantillons\",\"Nombre d'\\u00e9chantillons\",null]]]},\"id\":\"1004\",\"type\":\"Range1d\"},{\"attributes\":{},\"id\":\"1022\",\"type\":\"SaveTool\"},{\"attributes\":{},\"id\":\"1013\",\"type\":\"LinearScale\"},{\"attributes\":{\"bottom\":{\"field\":\"bottom\"},\"fill_color\":{\"field\":\"Classe\",\"transform\":{\"id\":\"1035\"}},\"hatch_color\":{\"field\":\"Classe\",\"transform\":{\"id\":\"1035\"}},\"top\":{\"field\":\"top\"},\"width\":{\"value\":0.8},\"x\":{\"field\":\"Type\"}},\"id\":\"1039\",\"type\":\"VBar\"},{\"attributes\":{\"axis\":{\"id\":\"1015\"},\"coordinates\":null,\"grid_line_color\":null,\"group\":null,\"ticker\":null},\"id\":\"1017\",\"type\":\"Grid\"},{\"attributes\":{},\"id\":\"1016\",\"type\":\"CategoricalTicker\"},{\"attributes\":{},\"id\":\"1024\",\"type\":\"WheelZoomTool\"},{\"attributes\":{\"axis_label\":\"Nombre d'\\u00e9chantillons\",\"coordinates\":null,\"formatter\":{\"id\":\"1046\"},\"group\":null,\"major_label_policy\":{\"id\":\"1047\"},\"ticker\":{\"id\":\"1019\"}},\"id\":\"1018\",\"type\":\"LinearAxis\"}],\"root_ids\":[\"1002\"]},\"title\":\"Bokeh Application\",\"version\":\"2.4.3\"}};\n",
       "    var render_items = [{\"docid\":\"e1c6a5fb-3aaa-4521-ae36-cdeaa4012fe5\",\"root_ids\":[\"1002\"],\"roots\":{\"1002\":\"87c7cfad-82f2-4efb-b7e8-2208161b58f6\"}}];\n",
       "    root.Bokeh.embed.embed_items_notebook(docs_json, render_items);\n",
       "    for (const render_item of render_items) {\n",
       "      for (const root_id of render_item.root_ids) {\n",
       "\tconst id_el = document.getElementById(root_id)\n",
       "\tif (id_el.children.length && (id_el.children[0].className === 'bk-root')) {\n",
       "\t  const root_el = id_el.children[0]\n",
       "\t  root_el.id = root_el.id + '-rendered'\n",
       "\t}\n",
       "      }\n",
       "    }\n",
       "  }\n",
       "  if (root.Bokeh !== undefined && root.Bokeh.Panel !== undefined) {\n",
       "    embed_document(root);\n",
       "  } else {\n",
       "    var attempts = 0;\n",
       "    var timer = setInterval(function(root) {\n",
       "      if (root.Bokeh !== undefined && root.Bokeh.Panel !== undefined) {\n",
       "        clearInterval(timer);\n",
       "        embed_document(root);\n",
       "      } else if (document.readyState == \"complete\") {\n",
       "        attempts++;\n",
       "        if (attempts > 200) {\n",
       "          clearInterval(timer);\n",
       "          console.log(\"Bokeh: ERROR: Unable to run BokehJS code because BokehJS library is missing\");\n",
       "        }\n",
       "      }\n",
       "    }, 25, root)\n",
       "  }\n",
       "})(window);</script>"
      ],
      "text/plain": [
       ":Bars   [Type,Classe]   (Nombre d'échantillons)"
      ]
     },
     "execution_count": 8,
     "metadata": {
      "application/vnd.holoviews_exec.v0+json": {
       "id": "1002"
      }
     },
     "output_type": "execute_result"
    }
   ],
   "source": [
    "# Nombre d'échantillons par classe avant le suréchantillonnage\n",
    "counts_before = dict(pd.Series(y_train).value_counts())\n",
    "\n",
    "# Nombre d'échantillons par classe après le suréchantillonnage\n",
    "counts_after = dict(pd.Series(y_ro).value_counts())\n",
    "\n",
    "# Graphe\n",
    "df_rOs = pd.DataFrame({'Nombre d\\'échantillons': list(counts_before.values()) + list(counts_after.values()), 'Type': ['Avant'] * len(counts_before) + ['Après'] * len(counts_after), 'Classe': ['Raintomorrow = 0', 'Raintomorrow = 1'] * 2})\n",
    "df_rOs.hvplot.bar(x='Type', y='Nombre d\\'échantillons', by='Classe', stacked=True, title='Suréchantillonnage aléatoire avec RandomOverSampler', xlabel='Postraitements', ylabel='Nombre d\\'échantillons', legend='top')"
   ]
  },
  {
   "cell_type": "markdown",
   "id": "b06961b7-96a0-4090-9fe2-4cc4e675fc51",
   "metadata": {},
   "source": [
    "## 1.4 Undersampling <a name=\"1.4\"></a>\n",
    "#### Sous-échantillonnage aléatoire des données d'entraînement X_train et y_train \n",
    "[return to the plan](#0)  "
   ]
  },
  {
   "cell_type": "code",
   "execution_count": 9,
   "id": "b0536b3d-3af7-4886-8074-b2595c685493",
   "metadata": {},
   "outputs": [
    {
     "name": "stdout",
     "output_type": "stream",
     "text": [
      "Classes échantillon undersampled : {0: 9324, 1: 9324}\n"
     ]
    }
   ],
   "source": [
    "rUs = RandomUnderSampler()\n",
    "X_ru, y_ru = rUs.fit_resample(X_train, y_train)\n",
    "print('Classes échantillon undersampled :', dict(pd.Series(y_ru).value_counts()))"
   ]
  },
  {
   "cell_type": "code",
   "execution_count": 10,
   "id": "f4519fd2-525e-495f-aca2-fe4ccf599dc4",
   "metadata": {},
   "outputs": [
    {
     "data": {},
     "metadata": {},
     "output_type": "display_data"
    },
    {
     "data": {
      "application/vnd.holoviews_exec.v0+json": "",
      "text/html": [
       "<div id='1128'>\n",
       "  <div class=\"bk-root\" id=\"3bbc4da2-bda8-4d2a-b731-bd70e2e000fa\" data-root-id=\"1128\"></div>\n",
       "</div>\n",
       "<script type=\"application/javascript\">(function(root) {\n",
       "  function embed_document(root) {\n",
       "    var docs_json = {\"303c5987-3264-43da-bc5a-6d91cf928083\":{\"defs\":[{\"extends\":null,\"module\":null,\"name\":\"ReactiveHTML1\",\"overrides\":[],\"properties\":[]},{\"extends\":null,\"module\":null,\"name\":\"FlexBox1\",\"overrides\":[],\"properties\":[{\"default\":\"flex-start\",\"kind\":null,\"name\":\"align_content\"},{\"default\":\"flex-start\",\"kind\":null,\"name\":\"align_items\"},{\"default\":\"row\",\"kind\":null,\"name\":\"flex_direction\"},{\"default\":\"wrap\",\"kind\":null,\"name\":\"flex_wrap\"},{\"default\":\"flex-start\",\"kind\":null,\"name\":\"justify_content\"}]},{\"extends\":null,\"module\":null,\"name\":\"GridStack1\",\"overrides\":[],\"properties\":[{\"default\":\"warn\",\"kind\":null,\"name\":\"mode\"},{\"default\":null,\"kind\":null,\"name\":\"ncols\"},{\"default\":null,\"kind\":null,\"name\":\"nrows\"},{\"default\":true,\"kind\":null,\"name\":\"allow_resize\"},{\"default\":true,\"kind\":null,\"name\":\"allow_drag\"},{\"default\":[],\"kind\":null,\"name\":\"state\"}]},{\"extends\":null,\"module\":null,\"name\":\"click1\",\"overrides\":[],\"properties\":[{\"default\":\"\",\"kind\":null,\"name\":\"terminal_output\"},{\"default\":\"\",\"kind\":null,\"name\":\"debug_name\"},{\"default\":0,\"kind\":null,\"name\":\"clears\"}]},{\"extends\":null,\"module\":null,\"name\":\"NotificationAreaBase1\",\"overrides\":[],\"properties\":[{\"default\":\"bottom-right\",\"kind\":null,\"name\":\"position\"},{\"default\":0,\"kind\":null,\"name\":\"_clear\"}]},{\"extends\":null,\"module\":null,\"name\":\"NotificationArea1\",\"overrides\":[],\"properties\":[{\"default\":[],\"kind\":null,\"name\":\"notifications\"},{\"default\":\"bottom-right\",\"kind\":null,\"name\":\"position\"},{\"default\":0,\"kind\":null,\"name\":\"_clear\"},{\"default\":[{\"background\":\"#ffc107\",\"icon\":{\"className\":\"fas fa-exclamation-triangle\",\"color\":\"white\",\"tagName\":\"i\"},\"type\":\"warning\"},{\"background\":\"#007bff\",\"icon\":{\"className\":\"fas fa-info-circle\",\"color\":\"white\",\"tagName\":\"i\"},\"type\":\"info\"}],\"kind\":null,\"name\":\"types\"}]},{\"extends\":null,\"module\":null,\"name\":\"Notification\",\"overrides\":[],\"properties\":[{\"default\":null,\"kind\":null,\"name\":\"background\"},{\"default\":3000,\"kind\":null,\"name\":\"duration\"},{\"default\":null,\"kind\":null,\"name\":\"icon\"},{\"default\":\"\",\"kind\":null,\"name\":\"message\"},{\"default\":null,\"kind\":null,\"name\":\"notification_type\"},{\"default\":false,\"kind\":null,\"name\":\"_destroyed\"}]},{\"extends\":null,\"module\":null,\"name\":\"TemplateActions1\",\"overrides\":[],\"properties\":[{\"default\":0,\"kind\":null,\"name\":\"open_modal\"},{\"default\":0,\"kind\":null,\"name\":\"close_modal\"}]},{\"extends\":null,\"module\":null,\"name\":\"MaterialTemplateActions1\",\"overrides\":[],\"properties\":[{\"default\":0,\"kind\":null,\"name\":\"open_modal\"},{\"default\":0,\"kind\":null,\"name\":\"close_modal\"}]}],\"roots\":{\"references\":[{\"attributes\":{},\"id\":\"1139\",\"type\":\"LinearScale\"},{\"attributes\":{},\"id\":\"1150\",\"type\":\"WheelZoomTool\"},{\"attributes\":{\"axis\":{\"id\":\"1144\"},\"coordinates\":null,\"dimension\":1,\"grid_line_color\":null,\"group\":null,\"ticker\":null},\"id\":\"1147\",\"type\":\"Grid\"},{\"attributes\":{},\"id\":\"1142\",\"type\":\"CategoricalTicker\"},{\"attributes\":{},\"id\":\"1149\",\"type\":\"PanTool\"},{\"attributes\":{\"label\":{\"field\":\"Classe\"},\"renderers\":[{\"id\":\"1168\"}]},\"id\":\"1181\",\"type\":\"LegendItem\"},{\"attributes\":{},\"id\":\"1145\",\"type\":\"BasicTicker\"},{\"attributes\":{\"source\":{\"id\":\"1162\"}},\"id\":\"1169\",\"type\":\"CDSView\"},{\"attributes\":{},\"id\":\"1137\",\"type\":\"CategoricalScale\"},{\"attributes\":{},\"id\":\"1163\",\"type\":\"Selection\"},{\"attributes\":{},\"id\":\"1148\",\"type\":\"SaveTool\"},{\"attributes\":{\"bottom\":{\"field\":\"bottom\"},\"fill_alpha\":{\"value\":0.1},\"fill_color\":{\"field\":\"Classe\",\"transform\":{\"id\":\"1161\"}},\"hatch_alpha\":{\"value\":0.1},\"hatch_color\":{\"field\":\"Classe\",\"transform\":{\"id\":\"1161\"}},\"line_alpha\":{\"value\":0.1},\"top\":{\"field\":\"top\"},\"width\":{\"value\":0.8},\"x\":{\"field\":\"Type\"}},\"id\":\"1166\",\"type\":\"VBar\"},{\"attributes\":{\"factors\":[\"Avant\",\"Apr\\u00e8s\"],\"tags\":[[[\"Type\",\"Type\",null]]]},\"id\":\"1129\",\"type\":\"FactorRange\"},{\"attributes\":{\"end\":62116.7,\"reset_end\":62116.7,\"reset_start\":0.0,\"tags\":[[[\"Nombre d'\\u00e9chantillons\",\"Nombre d'\\u00e9chantillons\",null]]]},\"id\":\"1130\",\"type\":\"Range1d\"},{\"attributes\":{},\"id\":\"1152\",\"type\":\"ResetTool\"},{\"attributes\":{\"coordinates\":null,\"data_source\":{\"id\":\"1162\"},\"glyph\":{\"id\":\"1165\"},\"group\":null,\"hover_glyph\":null,\"muted_glyph\":{\"id\":\"1167\"},\"nonselection_glyph\":{\"id\":\"1166\"},\"selection_glyph\":{\"id\":\"1182\"},\"view\":{\"id\":\"1169\"}},\"id\":\"1168\",\"type\":\"GlyphRenderer\"},{\"attributes\":{\"axis_label\":\"Nombre d'\\u00e9chantillons\",\"coordinates\":null,\"formatter\":{\"id\":\"1172\"},\"group\":null,\"major_label_policy\":{\"id\":\"1173\"},\"ticker\":{\"id\":\"1145\"}},\"id\":\"1144\",\"type\":\"LinearAxis\"},{\"attributes\":{\"children\":[{\"id\":\"1132\"}],\"height\":300,\"margin\":[0,0,0,0],\"name\":\"Row01076\",\"sizing_mode\":\"fixed\",\"tags\":[\"embedded\"],\"width\":700},\"id\":\"1128\",\"type\":\"Row\"},{\"attributes\":{},\"id\":\"1177\",\"type\":\"UnionRenderers\"},{\"attributes\":{},\"id\":\"1176\",\"type\":\"AllLabels\"},{\"attributes\":{\"bottom_units\":\"screen\",\"coordinates\":null,\"fill_alpha\":0.5,\"fill_color\":\"lightgrey\",\"group\":null,\"left_units\":\"screen\",\"level\":\"overlay\",\"line_alpha\":1.0,\"line_color\":\"black\",\"line_dash\":[4,4],\"line_width\":2,\"right_units\":\"screen\",\"syncable\":false,\"top_units\":\"screen\"},\"id\":\"1153\",\"type\":\"BoxAnnotation\"},{\"attributes\":{\"overlay\":{\"id\":\"1153\"}},\"id\":\"1151\",\"type\":\"BoxZoomTool\"},{\"attributes\":{},\"id\":\"1175\",\"type\":\"CategoricalTickFormatter\"},{\"attributes\":{\"axis_label\":\"Postraitements\",\"coordinates\":null,\"formatter\":{\"id\":\"1175\"},\"group\":null,\"major_label_policy\":{\"id\":\"1176\"},\"ticker\":{\"id\":\"1142\"}},\"id\":\"1141\",\"type\":\"CategoricalAxis\"},{\"attributes\":{\"factors\":[\"Raintomorrow = 0\",\"Raintomorrow = 1\"],\"palette\":[\"#30a2da\",\"#fc4f30\"]},\"id\":\"1161\",\"type\":\"CategoricalColorMapper\"},{\"attributes\":{\"coordinates\":null,\"group\":null,\"text\":\"Sous-\\u00e9chantillonnage al\\u00e9atoire avec Undersampled\",\"text_color\":\"black\",\"text_font_size\":\"12pt\"},\"id\":\"1133\",\"type\":\"Title\"},{\"attributes\":{\"bottom\":{\"field\":\"bottom\"},\"fill_alpha\":{\"value\":0.2},\"fill_color\":{\"field\":\"Classe\",\"transform\":{\"id\":\"1161\"}},\"hatch_alpha\":{\"value\":0.2},\"hatch_color\":{\"field\":\"Classe\",\"transform\":{\"id\":\"1161\"}},\"line_alpha\":{\"value\":0.2},\"top\":{\"field\":\"top\"},\"width\":{\"value\":0.8},\"x\":{\"field\":\"Type\"}},\"id\":\"1167\",\"type\":\"VBar\"},{\"attributes\":{\"bottom\":{\"field\":\"bottom\"},\"fill_color\":{\"field\":\"Classe\",\"transform\":{\"id\":\"1161\"}},\"hatch_color\":{\"field\":\"Classe\",\"transform\":{\"id\":\"1161\"}},\"top\":{\"field\":\"top\"},\"width\":{\"value\":0.8},\"x\":{\"field\":\"Type\"}},\"id\":\"1165\",\"type\":\"VBar\"},{\"attributes\":{\"bottom\":{\"field\":\"bottom\"},\"fill_alpha\":{\"value\":1.0},\"fill_color\":{\"field\":\"Classe\",\"transform\":{\"id\":\"1161\"}},\"hatch_alpha\":{\"value\":1.0},\"hatch_color\":{\"field\":\"Classe\",\"transform\":{\"id\":\"1161\"}},\"hatch_scale\":{\"value\":12.0},\"hatch_weight\":{\"value\":1.0},\"line_alpha\":{\"value\":1.0},\"line_cap\":{\"value\":\"butt\"},\"line_color\":{\"value\":\"black\"},\"line_dash\":{\"value\":[]},\"line_dash_offset\":{\"value\":0},\"line_join\":{\"value\":\"bevel\"},\"line_width\":{\"value\":1},\"top\":{\"field\":\"top\"},\"width\":{\"value\":0.8},\"x\":{\"field\":\"Type\"}},\"id\":\"1182\",\"type\":\"VBar\"},{\"attributes\":{\"data\":{\"Classe\":[\"Raintomorrow = 0\",\"Raintomorrow = 0\",\"Raintomorrow = 1\",\"Raintomorrow = 1\"],\"Nombre_d_apostrophe_\\u00e9chantillons\":[48841,9324,9324,9324],\"Type\":[\"Avant\",\"Apr\\u00e8s\",\"Avant\",\"Apr\\u00e8s\"],\"bottom\":{\"__ndarray__\":\"AAAAAAAAAAAAAAAAAAAAAAAAAAAg2edAAAAAAAA2wkA=\",\"dtype\":\"float64\",\"order\":\"little\",\"shape\":[4]},\"top\":{\"__ndarray__\":\"AAAAACDZ50AAAAAAADbCQAAAAACgZuxAAAAAAAA20kA=\",\"dtype\":\"float64\",\"order\":\"little\",\"shape\":[4]}},\"selected\":{\"id\":\"1163\"},\"selection_policy\":{\"id\":\"1177\"}},\"id\":\"1162\",\"type\":\"ColumnDataSource\"},{\"attributes\":{\"coordinates\":null,\"group\":null,\"items\":[{\"id\":\"1181\"}],\"location\":[0,0],\"orientation\":\"horizontal\"},\"id\":\"1180\",\"type\":\"Legend\"},{\"attributes\":{\"axis\":{\"id\":\"1141\"},\"coordinates\":null,\"grid_line_color\":null,\"group\":null,\"ticker\":null},\"id\":\"1143\",\"type\":\"Grid\"},{\"attributes\":{},\"id\":\"1173\",\"type\":\"AllLabels\"},{\"attributes\":{\"active_drag\":{\"id\":\"1149\"},\"active_scroll\":{\"id\":\"1150\"},\"tools\":[{\"id\":\"1131\"},{\"id\":\"1148\"},{\"id\":\"1149\"},{\"id\":\"1150\"},{\"id\":\"1151\"},{\"id\":\"1152\"}]},\"id\":\"1154\",\"type\":\"Toolbar\"},{\"attributes\":{\"above\":[{\"id\":\"1180\"}],\"below\":[{\"id\":\"1141\"}],\"center\":[{\"id\":\"1143\"},{\"id\":\"1147\"},{\"id\":\"1180\"}],\"height\":300,\"left\":[{\"id\":\"1144\"}],\"margin\":[5,5,5,5],\"min_border_bottom\":10,\"min_border_left\":10,\"min_border_right\":10,\"min_border_top\":10,\"renderers\":[{\"id\":\"1168\"}],\"sizing_mode\":\"fixed\",\"title\":{\"id\":\"1133\"},\"toolbar\":{\"id\":\"1154\"},\"width\":700,\"x_range\":{\"id\":\"1129\"},\"x_scale\":{\"id\":\"1137\"},\"y_range\":{\"id\":\"1130\"},\"y_scale\":{\"id\":\"1139\"}},\"id\":\"1132\",\"subtype\":\"Figure\",\"type\":\"Plot\"},{\"attributes\":{\"callback\":null,\"renderers\":[{\"id\":\"1168\"}],\"tags\":[\"hv_created\"],\"tooltips\":[[\"Type\",\"@{Type}\"],[\"Classe\",\"@{Classe}\"],[\"Nombre d'\\u00e9chantillons\",\"@{Nombre_d_apostrophe_\\u00e9chantillons}\"]]},\"id\":\"1131\",\"type\":\"HoverTool\"},{\"attributes\":{},\"id\":\"1172\",\"type\":\"BasicTickFormatter\"}],\"root_ids\":[\"1128\"]},\"title\":\"Bokeh Application\",\"version\":\"2.4.3\"}};\n",
       "    var render_items = [{\"docid\":\"303c5987-3264-43da-bc5a-6d91cf928083\",\"root_ids\":[\"1128\"],\"roots\":{\"1128\":\"3bbc4da2-bda8-4d2a-b731-bd70e2e000fa\"}}];\n",
       "    root.Bokeh.embed.embed_items_notebook(docs_json, render_items);\n",
       "    for (const render_item of render_items) {\n",
       "      for (const root_id of render_item.root_ids) {\n",
       "\tconst id_el = document.getElementById(root_id)\n",
       "\tif (id_el.children.length && (id_el.children[0].className === 'bk-root')) {\n",
       "\t  const root_el = id_el.children[0]\n",
       "\t  root_el.id = root_el.id + '-rendered'\n",
       "\t}\n",
       "      }\n",
       "    }\n",
       "  }\n",
       "  if (root.Bokeh !== undefined && root.Bokeh.Panel !== undefined) {\n",
       "    embed_document(root);\n",
       "  } else {\n",
       "    var attempts = 0;\n",
       "    var timer = setInterval(function(root) {\n",
       "      if (root.Bokeh !== undefined && root.Bokeh.Panel !== undefined) {\n",
       "        clearInterval(timer);\n",
       "        embed_document(root);\n",
       "      } else if (document.readyState == \"complete\") {\n",
       "        attempts++;\n",
       "        if (attempts > 200) {\n",
       "          clearInterval(timer);\n",
       "          console.log(\"Bokeh: ERROR: Unable to run BokehJS code because BokehJS library is missing\");\n",
       "        }\n",
       "      }\n",
       "    }, 25, root)\n",
       "  }\n",
       "})(window);</script>"
      ],
      "text/plain": [
       ":Bars   [Type,Classe]   (Nombre d'échantillons)"
      ]
     },
     "execution_count": 10,
     "metadata": {
      "application/vnd.holoviews_exec.v0+json": {
       "id": "1128"
      }
     },
     "output_type": "execute_result"
    }
   ],
   "source": [
    "# Nombre d'échantillons par classe avant le suréchantillonnage\n",
    "counts_before = dict(pd.Series(y_train).value_counts())\n",
    "\n",
    "# Nombre d'échantillons par classe après le suréchantillonnage\n",
    "counts_after = dict(pd.Series(y_ru).value_counts())\n",
    "\n",
    "# Graphe\n",
    "df_rUs = pd.DataFrame({'Nombre d\\'échantillons': list(counts_before.values()) + list(counts_after.values()), 'Type': ['Avant'] * len(counts_before) + ['Après'] * len(counts_after), 'Classe': ['Raintomorrow = 0', 'Raintomorrow = 1'] * 2})\n",
    "df_rUs.hvplot.bar(x='Type', y='Nombre d\\'échantillons', by='Classe', stacked=True, title='Sous-échantillonnage aléatoire avec Undersampled', xlabel='Postraitements', ylabel='Nombre d\\'échantillons', legend='top')"
   ]
  },
  {
   "cell_type": "markdown",
   "id": "d7cad7ef-41b6-49a9-85f1-fa30e9e3513d",
   "metadata": {},
   "source": [
    "# 2.Application d'un modèle SVM<a name=\"2\"></a>\n",
    "[return to the plan](#0)  "
   ]
  },
  {
   "cell_type": "code",
   "execution_count": 11,
   "id": "6a51799a-3807-4d43-99ef-32e17cfb68dc",
   "metadata": {},
   "outputs": [],
   "source": [
    "# Instanciation d'un objet SVM avec une fonction de noyau RBF et gamma='scale'\n",
    "svm = SVC(gamma='scale')"
   ]
  },
  {
   "cell_type": "markdown",
   "id": "0c350fcb-6cee-4f7d-8c43-2525db0fc98d",
   "metadata": {
    "tags": []
   },
   "source": [
    "## 2.1. Classification SVM avec un sur-échantillon aléatoire <a name=\"2.1\"></a>\n",
    "[return to the plan](#0) "
   ]
  },
  {
   "cell_type": "code",
   "execution_count": 12,
   "id": "dc095684-61ba-4d78-b4ff-a6aceab9372c",
   "metadata": {},
   "outputs": [
    {
     "data": {
      "text/html": [
       "<style>#sk-container-id-1 {color: black;background-color: white;}#sk-container-id-1 pre{padding: 0;}#sk-container-id-1 div.sk-toggleable {background-color: white;}#sk-container-id-1 label.sk-toggleable__label {cursor: pointer;display: block;width: 100%;margin-bottom: 0;padding: 0.3em;box-sizing: border-box;text-align: center;}#sk-container-id-1 label.sk-toggleable__label-arrow:before {content: \"▸\";float: left;margin-right: 0.25em;color: #696969;}#sk-container-id-1 label.sk-toggleable__label-arrow:hover:before {color: black;}#sk-container-id-1 div.sk-estimator:hover label.sk-toggleable__label-arrow:before {color: black;}#sk-container-id-1 div.sk-toggleable__content {max-height: 0;max-width: 0;overflow: hidden;text-align: left;background-color: #f0f8ff;}#sk-container-id-1 div.sk-toggleable__content pre {margin: 0.2em;color: black;border-radius: 0.25em;background-color: #f0f8ff;}#sk-container-id-1 input.sk-toggleable__control:checked~div.sk-toggleable__content {max-height: 200px;max-width: 100%;overflow: auto;}#sk-container-id-1 input.sk-toggleable__control:checked~label.sk-toggleable__label-arrow:before {content: \"▾\";}#sk-container-id-1 div.sk-estimator input.sk-toggleable__control:checked~label.sk-toggleable__label {background-color: #d4ebff;}#sk-container-id-1 div.sk-label input.sk-toggleable__control:checked~label.sk-toggleable__label {background-color: #d4ebff;}#sk-container-id-1 input.sk-hidden--visually {border: 0;clip: rect(1px 1px 1px 1px);clip: rect(1px, 1px, 1px, 1px);height: 1px;margin: -1px;overflow: hidden;padding: 0;position: absolute;width: 1px;}#sk-container-id-1 div.sk-estimator {font-family: monospace;background-color: #f0f8ff;border: 1px dotted black;border-radius: 0.25em;box-sizing: border-box;margin-bottom: 0.5em;}#sk-container-id-1 div.sk-estimator:hover {background-color: #d4ebff;}#sk-container-id-1 div.sk-parallel-item::after {content: \"\";width: 100%;border-bottom: 1px solid gray;flex-grow: 1;}#sk-container-id-1 div.sk-label:hover label.sk-toggleable__label {background-color: #d4ebff;}#sk-container-id-1 div.sk-serial::before {content: \"\";position: absolute;border-left: 1px solid gray;box-sizing: border-box;top: 0;bottom: 0;left: 50%;z-index: 0;}#sk-container-id-1 div.sk-serial {display: flex;flex-direction: column;align-items: center;background-color: white;padding-right: 0.2em;padding-left: 0.2em;position: relative;}#sk-container-id-1 div.sk-item {position: relative;z-index: 1;}#sk-container-id-1 div.sk-parallel {display: flex;align-items: stretch;justify-content: center;background-color: white;position: relative;}#sk-container-id-1 div.sk-item::before, #sk-container-id-1 div.sk-parallel-item::before {content: \"\";position: absolute;border-left: 1px solid gray;box-sizing: border-box;top: 0;bottom: 0;left: 50%;z-index: -1;}#sk-container-id-1 div.sk-parallel-item {display: flex;flex-direction: column;z-index: 1;position: relative;background-color: white;}#sk-container-id-1 div.sk-parallel-item:first-child::after {align-self: flex-end;width: 50%;}#sk-container-id-1 div.sk-parallel-item:last-child::after {align-self: flex-start;width: 50%;}#sk-container-id-1 div.sk-parallel-item:only-child::after {width: 0;}#sk-container-id-1 div.sk-dashed-wrapped {border: 1px dashed gray;margin: 0 0.4em 0.5em 0.4em;box-sizing: border-box;padding-bottom: 0.4em;background-color: white;}#sk-container-id-1 div.sk-label label {font-family: monospace;font-weight: bold;display: inline-block;line-height: 1.2em;}#sk-container-id-1 div.sk-label-container {text-align: center;}#sk-container-id-1 div.sk-container {/* jupyter's `normalize.less` sets `[hidden] { display: none; }` but bootstrap.min.css set `[hidden] { display: none !important; }` so we also need the `!important` here to be able to override the default hidden behavior on the sphinx rendered scikit-learn.org. See: https://github.com/scikit-learn/scikit-learn/issues/21755 */display: inline-block !important;position: relative;}#sk-container-id-1 div.sk-text-repr-fallback {display: none;}</style><div id=\"sk-container-id-1\" class=\"sk-top-container\"><div class=\"sk-text-repr-fallback\"><pre>SVC()</pre><b>In a Jupyter environment, please rerun this cell to show the HTML representation or trust the notebook. <br />On GitHub, the HTML representation is unable to render, please try loading this page with nbviewer.org.</b></div><div class=\"sk-container\" hidden><div class=\"sk-item\"><div class=\"sk-estimator sk-toggleable\"><input class=\"sk-toggleable__control sk-hidden--visually\" id=\"sk-estimator-id-1\" type=\"checkbox\" checked><label for=\"sk-estimator-id-1\" class=\"sk-toggleable__label sk-toggleable__label-arrow\">SVC</label><div class=\"sk-toggleable__content\"><pre>SVC()</pre></div></div></div></div></div>"
      ],
      "text/plain": [
       "SVC()"
      ]
     },
     "execution_count": 12,
     "metadata": {},
     "output_type": "execute_result"
    }
   ],
   "source": [
    "# Entrainement d'un modèle SVM sur les données d'entraînement X_ro et y_ro.\n",
    "svm.fit(X_ro, y_ro)"
   ]
  },
  {
   "cell_type": "code",
   "execution_count": 13,
   "id": "9c78255b-6d83-4b6d-b78f-25c948c1d2c2",
   "metadata": {},
   "outputs": [],
   "source": [
    "# Prédiction des étiquettes de classe pour les données de test X_test\n",
    "y_pred = svm.predict(X_test)"
   ]
  },
  {
   "cell_type": "code",
   "execution_count": 14,
   "id": "020be852-5c9d-4b48-b9fa-6724bf370ca1",
   "metadata": {},
   "outputs": [
    {
     "data": {
      "text/html": [
       "<div>\n",
       "<style scoped>\n",
       "    .dataframe tbody tr th:only-of-type {\n",
       "        vertical-align: middle;\n",
       "    }\n",
       "\n",
       "    .dataframe tbody tr th {\n",
       "        vertical-align: top;\n",
       "    }\n",
       "\n",
       "    .dataframe thead th {\n",
       "        text-align: right;\n",
       "    }\n",
       "</style>\n",
       "<table border=\"1\" class=\"dataframe\">\n",
       "  <thead>\n",
       "    <tr style=\"text-align: right;\">\n",
       "      <th>Prédiction</th>\n",
       "      <th>0</th>\n",
       "      <th>1</th>\n",
       "    </tr>\n",
       "    <tr>\n",
       "      <th>Classe réelle</th>\n",
       "      <th></th>\n",
       "      <th></th>\n",
       "    </tr>\n",
       "  </thead>\n",
       "  <tbody>\n",
       "    <tr>\n",
       "      <th>0</th>\n",
       "      <td>9582</td>\n",
       "      <td>2658</td>\n",
       "    </tr>\n",
       "    <tr>\n",
       "      <th>1</th>\n",
       "      <td>630</td>\n",
       "      <td>1672</td>\n",
       "    </tr>\n",
       "  </tbody>\n",
       "</table>\n",
       "</div>"
      ],
      "text/plain": [
       "Prédiction        0     1\n",
       "Classe réelle            \n",
       "0              9582  2658\n",
       "1               630  1672"
      ]
     },
     "metadata": {},
     "output_type": "display_data"
    },
    {
     "name": "stdout",
     "output_type": "stream",
     "text": [
      "\n",
      "\n",
      "Rapport de classification: métriques de performance pour chaque classe\n",
      "\n",
      "\n",
      "                   pre       rec       spe        f1       geo       iba       sup\n",
      "\n",
      "          0       0.94      0.78      0.73      0.85      0.75      0.57     12240\n",
      "          1       0.39      0.73      0.78      0.50      0.75      0.57      2302\n",
      "\n",
      "avg / total       0.85      0.77      0.74      0.80      0.75      0.57     14542\n",
      "\n"
     ]
    }
   ],
   "source": [
    "# Création d'une table de contingence (matrice de confusion) montrant le nombre de prédictions correctes et incorrectes pour chaque classe\n",
    "contingency_table = pd.crosstab(y_test, y_pred, rownames=['Classe réelle'], colnames=['Prédiction'])\n",
    "\n",
    "display(contingency_table)\n",
    "print(\"\\n\")\n",
    "\n",
    "print(\"Rapport de classification: métriques de performance pour chaque classe\")\n",
    "print(\"\\n\")\n",
    "report = classification_report_imbalanced(y_test, y_pred)\n",
    "print(report)"
   ]
  },
  {
   "cell_type": "markdown",
   "id": "3e2b34f6-006a-48c2-bcec-84d3b2504089",
   "metadata": {},
   "source": [
    "#### <b> Analyse :\n",
    "> * En analysant le rapport de classification, nous pouvons conclure que le modèle SVM entraîné sur les données d'entraînement déséquilibrées a une performance moyenne sur les données de test déséquilibrées.\n",
    "> * La métrique de rappel (recall) est relativement élevée pour la classe minoritaire (classe 1), ce qui indique que le modèle est relativement bon à identifier les vrais positifs. \n",
    "> * Cependant, la précision (precision) est relativement faible pour la même classe, ce qui signifie que le modèle peut également produire un grand nombre de faux positifs. \n",
    "> * La métrique F1-score est une mesure harmonique entre la précision et le rappel et est donc une mesure plus équilibrée de la performance globale du modèle. \n",
    "> * <b> Le score F1 est d'environ 0,5 pour la classe 1 minoritaire, cela indique que le modèle peut être amélioré pour mieux l'identifier"
   ]
  },
  {
   "cell_type": "markdown",
   "id": "b7f64d2e-1189-47da-8d66-3deb807b1f68",
   "metadata": {},
   "source": [
    "## 2.2.Classification SVM avec un sous-échantillon aléatoire<a name=\"2.2\"></a>\n",
    "[return to the plan](#0) "
   ]
  },
  {
   "cell_type": "code",
   "execution_count": 15,
   "id": "da709993-1c88-43dd-b6e2-35894bca59d4",
   "metadata": {},
   "outputs": [
    {
     "data": {
      "text/html": [
       "<style>#sk-container-id-2 {color: black;background-color: white;}#sk-container-id-2 pre{padding: 0;}#sk-container-id-2 div.sk-toggleable {background-color: white;}#sk-container-id-2 label.sk-toggleable__label {cursor: pointer;display: block;width: 100%;margin-bottom: 0;padding: 0.3em;box-sizing: border-box;text-align: center;}#sk-container-id-2 label.sk-toggleable__label-arrow:before {content: \"▸\";float: left;margin-right: 0.25em;color: #696969;}#sk-container-id-2 label.sk-toggleable__label-arrow:hover:before {color: black;}#sk-container-id-2 div.sk-estimator:hover label.sk-toggleable__label-arrow:before {color: black;}#sk-container-id-2 div.sk-toggleable__content {max-height: 0;max-width: 0;overflow: hidden;text-align: left;background-color: #f0f8ff;}#sk-container-id-2 div.sk-toggleable__content pre {margin: 0.2em;color: black;border-radius: 0.25em;background-color: #f0f8ff;}#sk-container-id-2 input.sk-toggleable__control:checked~div.sk-toggleable__content {max-height: 200px;max-width: 100%;overflow: auto;}#sk-container-id-2 input.sk-toggleable__control:checked~label.sk-toggleable__label-arrow:before {content: \"▾\";}#sk-container-id-2 div.sk-estimator input.sk-toggleable__control:checked~label.sk-toggleable__label {background-color: #d4ebff;}#sk-container-id-2 div.sk-label input.sk-toggleable__control:checked~label.sk-toggleable__label {background-color: #d4ebff;}#sk-container-id-2 input.sk-hidden--visually {border: 0;clip: rect(1px 1px 1px 1px);clip: rect(1px, 1px, 1px, 1px);height: 1px;margin: -1px;overflow: hidden;padding: 0;position: absolute;width: 1px;}#sk-container-id-2 div.sk-estimator {font-family: monospace;background-color: #f0f8ff;border: 1px dotted black;border-radius: 0.25em;box-sizing: border-box;margin-bottom: 0.5em;}#sk-container-id-2 div.sk-estimator:hover {background-color: #d4ebff;}#sk-container-id-2 div.sk-parallel-item::after {content: \"\";width: 100%;border-bottom: 1px solid gray;flex-grow: 1;}#sk-container-id-2 div.sk-label:hover label.sk-toggleable__label {background-color: #d4ebff;}#sk-container-id-2 div.sk-serial::before {content: \"\";position: absolute;border-left: 1px solid gray;box-sizing: border-box;top: 0;bottom: 0;left: 50%;z-index: 0;}#sk-container-id-2 div.sk-serial {display: flex;flex-direction: column;align-items: center;background-color: white;padding-right: 0.2em;padding-left: 0.2em;position: relative;}#sk-container-id-2 div.sk-item {position: relative;z-index: 1;}#sk-container-id-2 div.sk-parallel {display: flex;align-items: stretch;justify-content: center;background-color: white;position: relative;}#sk-container-id-2 div.sk-item::before, #sk-container-id-2 div.sk-parallel-item::before {content: \"\";position: absolute;border-left: 1px solid gray;box-sizing: border-box;top: 0;bottom: 0;left: 50%;z-index: -1;}#sk-container-id-2 div.sk-parallel-item {display: flex;flex-direction: column;z-index: 1;position: relative;background-color: white;}#sk-container-id-2 div.sk-parallel-item:first-child::after {align-self: flex-end;width: 50%;}#sk-container-id-2 div.sk-parallel-item:last-child::after {align-self: flex-start;width: 50%;}#sk-container-id-2 div.sk-parallel-item:only-child::after {width: 0;}#sk-container-id-2 div.sk-dashed-wrapped {border: 1px dashed gray;margin: 0 0.4em 0.5em 0.4em;box-sizing: border-box;padding-bottom: 0.4em;background-color: white;}#sk-container-id-2 div.sk-label label {font-family: monospace;font-weight: bold;display: inline-block;line-height: 1.2em;}#sk-container-id-2 div.sk-label-container {text-align: center;}#sk-container-id-2 div.sk-container {/* jupyter's `normalize.less` sets `[hidden] { display: none; }` but bootstrap.min.css set `[hidden] { display: none !important; }` so we also need the `!important` here to be able to override the default hidden behavior on the sphinx rendered scikit-learn.org. See: https://github.com/scikit-learn/scikit-learn/issues/21755 */display: inline-block !important;position: relative;}#sk-container-id-2 div.sk-text-repr-fallback {display: none;}</style><div id=\"sk-container-id-2\" class=\"sk-top-container\"><div class=\"sk-text-repr-fallback\"><pre>SVC()</pre><b>In a Jupyter environment, please rerun this cell to show the HTML representation or trust the notebook. <br />On GitHub, the HTML representation is unable to render, please try loading this page with nbviewer.org.</b></div><div class=\"sk-container\" hidden><div class=\"sk-item\"><div class=\"sk-estimator sk-toggleable\"><input class=\"sk-toggleable__control sk-hidden--visually\" id=\"sk-estimator-id-2\" type=\"checkbox\" checked><label for=\"sk-estimator-id-2\" class=\"sk-toggleable__label sk-toggleable__label-arrow\">SVC</label><div class=\"sk-toggleable__content\"><pre>SVC()</pre></div></div></div></div></div>"
      ],
      "text/plain": [
       "SVC()"
      ]
     },
     "execution_count": 15,
     "metadata": {},
     "output_type": "execute_result"
    }
   ],
   "source": [
    "# Entrainement d'un modèle SVM sur les données d'entraînement X_ru, y_ru.\n",
    "svm.fit(X_ru, y_ru)"
   ]
  },
  {
   "cell_type": "code",
   "execution_count": 16,
   "id": "5c1ee9e8-a276-40fd-9301-f07150485a8f",
   "metadata": {},
   "outputs": [],
   "source": [
    "# Prédiction des étiquettes de classe pour les données de test X_test\n",
    "y_pred = svm.predict(X_test)"
   ]
  },
  {
   "cell_type": "code",
   "execution_count": 17,
   "id": "9711929b-8391-4c61-b576-983a9f470380",
   "metadata": {},
   "outputs": [
    {
     "data": {
      "text/html": [
       "<div>\n",
       "<style scoped>\n",
       "    .dataframe tbody tr th:only-of-type {\n",
       "        vertical-align: middle;\n",
       "    }\n",
       "\n",
       "    .dataframe tbody tr th {\n",
       "        vertical-align: top;\n",
       "    }\n",
       "\n",
       "    .dataframe thead th {\n",
       "        text-align: right;\n",
       "    }\n",
       "</style>\n",
       "<table border=\"1\" class=\"dataframe\">\n",
       "  <thead>\n",
       "    <tr style=\"text-align: right;\">\n",
       "      <th>Prédiction</th>\n",
       "      <th>0</th>\n",
       "      <th>1</th>\n",
       "    </tr>\n",
       "    <tr>\n",
       "      <th>Classe réelle</th>\n",
       "      <th></th>\n",
       "      <th></th>\n",
       "    </tr>\n",
       "  </thead>\n",
       "  <tbody>\n",
       "    <tr>\n",
       "      <th>0</th>\n",
       "      <td>9230</td>\n",
       "      <td>3010</td>\n",
       "    </tr>\n",
       "    <tr>\n",
       "      <th>1</th>\n",
       "      <td>655</td>\n",
       "      <td>1647</td>\n",
       "    </tr>\n",
       "  </tbody>\n",
       "</table>\n",
       "</div>"
      ],
      "text/plain": [
       "Prédiction        0     1\n",
       "Classe réelle            \n",
       "0              9230  3010\n",
       "1               655  1647"
      ]
     },
     "metadata": {},
     "output_type": "display_data"
    },
    {
     "name": "stdout",
     "output_type": "stream",
     "text": [
      "\n",
      "\n",
      "Rapport de classification: métriques de performance pour chaque classe\n",
      "\n",
      "\n",
      "                   pre       rec       spe        f1       geo       iba       sup\n",
      "\n",
      "          0       0.93      0.75      0.72      0.83      0.73      0.54     12240\n",
      "          1       0.35      0.72      0.75      0.47      0.73      0.54      2302\n",
      "\n",
      "avg / total       0.84      0.75      0.72      0.78      0.73      0.54     14542\n",
      "\n"
     ]
    }
   ],
   "source": [
    "# Création d'une table de contingence (matrice de confusion) montrant le nombre de prédictions correctes et incorrectes pour chaque classe\n",
    "contingency_table = pd.crosstab(y_test, y_pred, rownames=['Classe réelle'], colnames=['Prédiction'])\n",
    "\n",
    "display(contingency_table)\n",
    "print(\"\\n\")\n",
    "\n",
    "print(\"Rapport de classification: métriques de performance pour chaque classe\")\n",
    "print(\"\\n\")\n",
    "report = classification_report_imbalanced(y_test, y_pred)\n",
    "print(report)"
   ]
  },
  {
   "cell_type": "markdown",
   "id": "e428a538-344e-4675-a4d4-ed362a139943",
   "metadata": {
    "tags": []
   },
   "source": [
    "#### <b> Analyse :\n",
    "> * Le modèle SVM a des performances relativement bonnes pour prédire la classe \"0\" (pas de pluie demain), mais des performances plus faibles pour prédire la classe \"1\" (pluie demain).\n",
    "> * Le modèle a correctement prédit la classe \"0\" pour la grande majorité des échantillons (9230 sur 12240, soit une précision de 0.93), mais il a eu plus de difficulté à prédire la classe \"1\" (seulement 1647 prédictions correctes sur 2302, soit une précision de 0.35).\n",
    "> * <b> Le score F1 est d'environ 0,77 pour la classe 1 minoritaire, cela indique que le modèle est plus performant avec un sous-échantillonage des données\n",
    "    \n",
    "<b> Le risque principal du sous-échantillonnage est de perdre de l'information qui peut être importante pour la prédiction, ce qui nous a conduit à explorer d'autres méthodes d'optimisation, notamment la modification du seuil de classification pour prédire les classes finales à partir des probabilités prédites."
   ]
  },
  {
   "cell_type": "markdown",
   "id": "8f214ca6-5bc0-4267-863a-47aa5b5cf543",
   "metadata": {},
   "source": [
    "## 2.3. Optimisation de la classification SVM avec seuil de prédiction pour améliorer la performance du modèle<a name=\"2.3\"></a>\n",
    "[return to the plan](#0) "
   ]
  },
  {
   "cell_type": "code",
   "execution_count": 18,
   "id": "fcfed193-6d48-45af-b79b-5b5555c1a597",
   "metadata": {},
   "outputs": [],
   "source": [
    "# Instanciation d'un objet SVM avec une fonction de noyau RBF et gamma='scale' et probability= True' pour retourner les probabilité\n",
    "svm = SVC(probability=True, gamma='scale')"
   ]
  },
  {
   "cell_type": "code",
   "execution_count": 19,
   "id": "a0cb6341-1298-4abe-88f4-6ffad553353d",
   "metadata": {},
   "outputs": [
    {
     "data": {
      "text/html": [
       "<style>#sk-container-id-3 {color: black;background-color: white;}#sk-container-id-3 pre{padding: 0;}#sk-container-id-3 div.sk-toggleable {background-color: white;}#sk-container-id-3 label.sk-toggleable__label {cursor: pointer;display: block;width: 100%;margin-bottom: 0;padding: 0.3em;box-sizing: border-box;text-align: center;}#sk-container-id-3 label.sk-toggleable__label-arrow:before {content: \"▸\";float: left;margin-right: 0.25em;color: #696969;}#sk-container-id-3 label.sk-toggleable__label-arrow:hover:before {color: black;}#sk-container-id-3 div.sk-estimator:hover label.sk-toggleable__label-arrow:before {color: black;}#sk-container-id-3 div.sk-toggleable__content {max-height: 0;max-width: 0;overflow: hidden;text-align: left;background-color: #f0f8ff;}#sk-container-id-3 div.sk-toggleable__content pre {margin: 0.2em;color: black;border-radius: 0.25em;background-color: #f0f8ff;}#sk-container-id-3 input.sk-toggleable__control:checked~div.sk-toggleable__content {max-height: 200px;max-width: 100%;overflow: auto;}#sk-container-id-3 input.sk-toggleable__control:checked~label.sk-toggleable__label-arrow:before {content: \"▾\";}#sk-container-id-3 div.sk-estimator input.sk-toggleable__control:checked~label.sk-toggleable__label {background-color: #d4ebff;}#sk-container-id-3 div.sk-label input.sk-toggleable__control:checked~label.sk-toggleable__label {background-color: #d4ebff;}#sk-container-id-3 input.sk-hidden--visually {border: 0;clip: rect(1px 1px 1px 1px);clip: rect(1px, 1px, 1px, 1px);height: 1px;margin: -1px;overflow: hidden;padding: 0;position: absolute;width: 1px;}#sk-container-id-3 div.sk-estimator {font-family: monospace;background-color: #f0f8ff;border: 1px dotted black;border-radius: 0.25em;box-sizing: border-box;margin-bottom: 0.5em;}#sk-container-id-3 div.sk-estimator:hover {background-color: #d4ebff;}#sk-container-id-3 div.sk-parallel-item::after {content: \"\";width: 100%;border-bottom: 1px solid gray;flex-grow: 1;}#sk-container-id-3 div.sk-label:hover label.sk-toggleable__label {background-color: #d4ebff;}#sk-container-id-3 div.sk-serial::before {content: \"\";position: absolute;border-left: 1px solid gray;box-sizing: border-box;top: 0;bottom: 0;left: 50%;z-index: 0;}#sk-container-id-3 div.sk-serial {display: flex;flex-direction: column;align-items: center;background-color: white;padding-right: 0.2em;padding-left: 0.2em;position: relative;}#sk-container-id-3 div.sk-item {position: relative;z-index: 1;}#sk-container-id-3 div.sk-parallel {display: flex;align-items: stretch;justify-content: center;background-color: white;position: relative;}#sk-container-id-3 div.sk-item::before, #sk-container-id-3 div.sk-parallel-item::before {content: \"\";position: absolute;border-left: 1px solid gray;box-sizing: border-box;top: 0;bottom: 0;left: 50%;z-index: -1;}#sk-container-id-3 div.sk-parallel-item {display: flex;flex-direction: column;z-index: 1;position: relative;background-color: white;}#sk-container-id-3 div.sk-parallel-item:first-child::after {align-self: flex-end;width: 50%;}#sk-container-id-3 div.sk-parallel-item:last-child::after {align-self: flex-start;width: 50%;}#sk-container-id-3 div.sk-parallel-item:only-child::after {width: 0;}#sk-container-id-3 div.sk-dashed-wrapped {border: 1px dashed gray;margin: 0 0.4em 0.5em 0.4em;box-sizing: border-box;padding-bottom: 0.4em;background-color: white;}#sk-container-id-3 div.sk-label label {font-family: monospace;font-weight: bold;display: inline-block;line-height: 1.2em;}#sk-container-id-3 div.sk-label-container {text-align: center;}#sk-container-id-3 div.sk-container {/* jupyter's `normalize.less` sets `[hidden] { display: none; }` but bootstrap.min.css set `[hidden] { display: none !important; }` so we also need the `!important` here to be able to override the default hidden behavior on the sphinx rendered scikit-learn.org. See: https://github.com/scikit-learn/scikit-learn/issues/21755 */display: inline-block !important;position: relative;}#sk-container-id-3 div.sk-text-repr-fallback {display: none;}</style><div id=\"sk-container-id-3\" class=\"sk-top-container\"><div class=\"sk-text-repr-fallback\"><pre>SVC(probability=True)</pre><b>In a Jupyter environment, please rerun this cell to show the HTML representation or trust the notebook. <br />On GitHub, the HTML representation is unable to render, please try loading this page with nbviewer.org.</b></div><div class=\"sk-container\" hidden><div class=\"sk-item\"><div class=\"sk-estimator sk-toggleable\"><input class=\"sk-toggleable__control sk-hidden--visually\" id=\"sk-estimator-id-3\" type=\"checkbox\" checked><label for=\"sk-estimator-id-3\" class=\"sk-toggleable__label sk-toggleable__label-arrow\">SVC</label><div class=\"sk-toggleable__content\"><pre>SVC(probability=True)</pre></div></div></div></div></div>"
      ],
      "text/plain": [
       "SVC(probability=True)"
      ]
     },
     "execution_count": 19,
     "metadata": {},
     "output_type": "execute_result"
    }
   ],
   "source": [
    "# Entrainement d'un modèle SVM sur les données d'entraînement X_train, y_train\n",
    "svm.fit(X_train, y_train)        "
   ]
  },
  {
   "cell_type": "markdown",
   "id": "46ce8bdf-13b2-4972-9d69-436e66c579f6",
   "metadata": {},
   "source": [
    "#### 2.3.1 Application d'un seuil de classification à 0.4\n",
    "##### Si raintomorow est prédite avec une probabilité supérieure ou égale à 40 %, la classe finale sera prédite comme 1, sinon elle sera prédite comme 0."
   ]
  },
  {
   "cell_type": "code",
   "execution_count": 20,
   "id": "8fc83348-b575-4b57-aa08-4ac294e0dac3",
   "metadata": {},
   "outputs": [],
   "source": [
    "threshold = 0.4 "
   ]
  },
  {
   "cell_type": "code",
   "execution_count": 21,
   "id": "c9c7751c-2104-41e4-9d24-c1e4229f8ebc",
   "metadata": {},
   "outputs": [],
   "source": [
    "probs = svm.predict_proba(X_test)"
   ]
  },
  {
   "cell_type": "code",
   "execution_count": 22,
   "id": "e16489e7-a639-476d-8e66-51d86438536c",
   "metadata": {},
   "outputs": [],
   "source": [
    "pred_class = (probs[:,1]>=threshold).astype('int')"
   ]
  },
  {
   "cell_type": "code",
   "execution_count": 23,
   "id": "20271580-ef35-42ef-9847-722684a71082",
   "metadata": {},
   "outputs": [
    {
     "data": {
      "text/html": [
       "<div>\n",
       "<style scoped>\n",
       "    .dataframe tbody tr th:only-of-type {\n",
       "        vertical-align: middle;\n",
       "    }\n",
       "\n",
       "    .dataframe tbody tr th {\n",
       "        vertical-align: top;\n",
       "    }\n",
       "\n",
       "    .dataframe thead th {\n",
       "        text-align: right;\n",
       "    }\n",
       "</style>\n",
       "<table border=\"1\" class=\"dataframe\">\n",
       "  <thead>\n",
       "    <tr style=\"text-align: right;\">\n",
       "      <th>Prédiction</th>\n",
       "      <th>0</th>\n",
       "      <th>1</th>\n",
       "    </tr>\n",
       "    <tr>\n",
       "      <th>Classe réelle</th>\n",
       "      <th></th>\n",
       "      <th></th>\n",
       "    </tr>\n",
       "  </thead>\n",
       "  <tbody>\n",
       "    <tr>\n",
       "      <th>0</th>\n",
       "      <td>11433</td>\n",
       "      <td>807</td>\n",
       "    </tr>\n",
       "    <tr>\n",
       "      <th>1</th>\n",
       "      <td>1158</td>\n",
       "      <td>1144</td>\n",
       "    </tr>\n",
       "  </tbody>\n",
       "</table>\n",
       "</div>"
      ],
      "text/plain": [
       "Prédiction         0     1\n",
       "Classe réelle             \n",
       "0              11433   807\n",
       "1               1158  1144"
      ]
     },
     "metadata": {},
     "output_type": "display_data"
    },
    {
     "name": "stdout",
     "output_type": "stream",
     "text": [
      "\n",
      "\n",
      "Rapport de classification: métriques de performance pour chaque classe\n",
      "\n",
      "\n",
      "                   pre       rec       spe        f1       geo       iba       sup\n",
      "\n",
      "          0       0.91      0.93      0.50      0.92      0.68      0.48     12240\n",
      "          1       0.59      0.50      0.93      0.54      0.68      0.44      2302\n",
      "\n",
      "avg / total       0.86      0.86      0.57      0.86      0.68      0.48     14542\n",
      "\n"
     ]
    }
   ],
   "source": [
    "# Création d'une table de contingence (matrice de confusion) montrant le nombre de prédictions correctes et incorrectes pour chaque classe\n",
    "contingency_table = pd.crosstab(y_test, pred_class, rownames=['Classe réelle'], colnames=['Prédiction'])\n",
    "\n",
    "display(contingency_table)\n",
    "print(\"\\n\")\n",
    "\n",
    "print(\"Rapport de classification: métriques de performance pour chaque classe\")\n",
    "print(\"\\n\")\n",
    "report = classification_report_imbalanced(y_test, pred_class)\n",
    "print(report)\n"
   ]
  },
  {
   "cell_type": "markdown",
   "id": "f49261b9-7f87-48e2-bb0b-b192edea976d",
   "metadata": {},
   "source": [
    "#### <b> Analyse :\n",
    "> * Le rapport de classification montre que le modèle a une précision élevée pour la classe 0 (pas de pluie demain), mais une précision beaucoup plus faible pour la classe 1 (pluie demain). \n",
    "> * Le rappel est similaire pour les deux classes, mais la spécificité est légèrement plus élevée pour la classe 1. \n",
    "> * Le score F1 est plus élevé pour la classe 0 que pour la classe 1. \n",
    "> * La moyenne géométrique et l'exactitude équilibrée sont similaires pour les deux classes et indiquent une performance globale moyenne du modèle. <b> Cela suggère que le modèle a plus de difficulté à prédire les jours avec pluie que les jours sans pluie.\n"
   ]
  },
  {
   "cell_type": "markdown",
   "id": "fd24f49c-f763-4de5-931f-1f40e66b3c28",
   "metadata": {},
   "source": [
    "Le nouveau résultat montre une amélioration légère pour la classe 1 (pluie demain) en termes de rappel et de spécificité, mais la précision est toujours faible. \n",
    "Le seuil de classification pourrait être ajusté pour tenter d'améliorer la précision de la classe 1 au détriment de la précision de la classe 0. "
   ]
  },
  {
   "cell_type": "markdown",
   "id": "acf31771-7d64-40e6-964c-78c0d0b2c182",
   "metadata": {},
   "source": [
    "#### 2.3.2 Impact de l'ajustement du seuil de classification sur la performance du modèle"
   ]
  },
  {
   "cell_type": "code",
   "execution_count": 24,
   "id": "143dcce1-08a5-448b-a76e-af7d591ae041",
   "metadata": {},
   "outputs": [
    {
     "name": "stdout",
     "output_type": "stream",
     "text": [
      " Seuil  Précision (classe 0)  Rappel (classe 0)  F1-score (classe 0)  Précision (classe 1)  Rappel (classe 1)  F1-score (classe 1)\n",
      "   0.1              0.956675           0.689134             0.801159              0.335371           0.834057             0.478385\n",
      "   0.2              0.934465           0.831781             0.880138              0.435426           0.689835             0.533871\n",
      "   0.3              0.918957           0.895833             0.907248              0.511494           0.579930             0.543567\n",
      "   0.4              0.908030           0.934069             0.920865              0.586366           0.496959             0.537973\n",
      "   0.5              0.899423           0.955637             0.926679              0.646714           0.431798             0.517843\n",
      "   0.6              0.889563           0.970670             0.928348              0.697302           0.359253             0.474197\n",
      "   0.7              0.880366           0.981781             0.928312              0.750000           0.290617             0.418910\n",
      "   0.8              0.870405           0.990441             0.926552              0.809446           0.215899             0.340878\n",
      "   0.9              0.858027           0.996895             0.922263              0.881620           0.122937             0.215783\n"
     ]
    }
   ],
   "source": [
    "# Liste des seuils de classification \n",
    "thresholds = np.arange(0.1, 1.0, 0.1) \n",
    "\n",
    "# Initialisation des listes pour stocker les scores\n",
    "f1_scores_0 = []\n",
    "f1_scores_1 = []\n",
    "precisions_0 = []\n",
    "precisions_1 = []\n",
    "recalls_0 = []\n",
    "recalls_1 = []\n",
    "\n",
    "# Initialisation du DataFrame\n",
    "columns = ['Seuil', 'Précision (classe 0)', 'Rappel (classe 0)', 'F1-score (classe 0)', 'Précision (classe 1)', 'Rappel (classe 1)', 'F1-score (classe 1)']\n",
    "df_report_thresholds = pd.DataFrame(columns=columns)\n",
    "\n",
    "for threshold in thresholds:\n",
    "    # Prédiction des classes avec le seuil donné\n",
    "    probs = svm.predict_proba(X_test)\n",
    "    pred_class = (probs[:,1]>=threshold).astype('int')\n",
    "    \n",
    "    # Rapport de classification pour les deux classes\n",
    "    report_dict = classification_report_imbalanced(y_test, pred_class, output_dict=True)\n",
    "    row = {\n",
    "        'Seuil': threshold,\n",
    "        'Précision (classe 0)': report_dict[0]['pre'],\n",
    "        'Rappel (classe 0)': report_dict[0]['rec'],\n",
    "        'F1-score (classe 0)': report_dict[0]['f1'],\n",
    "        'Précision (classe 1)': report_dict[1]['pre'],\n",
    "        'Rappel (classe 1)': report_dict[1]['rec'],\n",
    "        'F1-score (classe 1)': report_dict[1]['f1']\n",
    "    }\n",
    "    df_report_thresholds = pd.concat([df_report_thresholds, pd.DataFrame(row, index=[0])], ignore_index=True)\n",
    "\n",
    "# Affichage du DataFrame sous forme de tableau\n",
    "print(df_report_thresholds.to_string(index=False))"
   ]
  },
  {
   "cell_type": "code",
   "execution_count": 25,
   "id": "1cd9294e-eb52-46d9-8b2a-21544e0e03c5",
   "metadata": {},
   "outputs": [
    {
     "data": {
      "image/png": "[encoded data removed]",
      "text/plain": [
       "<Figure size 1700x600 with 2 Axes>"
      ]
     },
     "metadata": {},
     "output_type": "display_data"
    }
   ],
   "source": [
    "fig, (ax1, ax2) = plt.subplots(1, 2, figsize=(17, 6))\n",
    "\n",
    "sns.lineplot(x='Seuil', y='Précision (classe 0)', data=df_report_thresholds, label='Precision', ax=ax1)\n",
    "sns.lineplot(x='Seuil', y='Rappel (classe 0)', data=df_report_thresholds, label='Recall', ax=ax1)\n",
    "sns.lineplot(x='Seuil', y='F1-score (classe 0)', data=df_report_thresholds, label='F1-score', ax=ax1)\n",
    "ax1.set_xlabel('Threshold')\n",
    "ax1.set_ylabel('Score')\n",
    "ax1.set_title(\"No Rain tomorrow (classe 0)\")\n",
    "ax1.legend()\n",
    "\n",
    "sns.lineplot(x='Seuil', y='Précision (classe 1)', data=df_report_thresholds, label='Precision', ax=ax2)\n",
    "sns.lineplot(x='Seuil', y='Rappel (classe 1)', data=df_report_thresholds, label='Recall', ax=ax2)\n",
    "sns.lineplot(x='Seuil', y='F1-score (classe 1)', data=df_report_thresholds, label='F1-score', ax=ax2)\n",
    "ax2.set_xlabel('Threshold')\n",
    "ax2.set_ylabel('Score')\n",
    "ax2.set_title(\"Rain tomorrow (classe 1)\")\n",
    "ax2.legend()\n",
    "\n",
    "fig.tight_layout()\n",
    "plt.show()"
   ]
  },
  {
   "cell_type": "markdown",
   "id": "3be6ea01-2cc8-4745-ba2f-a957bdae3947",
   "metadata": {
    "tags": []
   },
   "source": [
    "#### <b> Analyse :\n",
    "\n",
    "<b> En ce qui concerne les performances maximales atteintes pour la classe 1, la précision maximale est de 0,81, le rappel maximal est de 0,50 et le F1-score maximal est de 0,62. Ces valeurs montrent que le modèle a des difficultés à prédire la pluie le lendemain (raintomorrow).\n",
    "> En analysant les résultats pour la classe 1, on peut noter que la précision, le rappel et le F1-score augmentent tous avec la valeur du seuil jusqu'à un certain point, après quoi ils commencent à diminuer. Cela suggère qu'il existe un seuil optimal pour la classe 1 au-delà duquel le modèle commence à perdre en performances.\n",
    "> \n",
    "> Le rappel pour la classe 1 est assez faible, ce qui signifie que le modèle manque de nombreuses prédictions positives (raintomorrow = 1).  \n"
   ]
  },
  {
   "cell_type": "markdown",
   "id": "ef6f736a-f20f-4f3b-bdcd-d2c1a22979a6",
   "metadata": {},
   "source": [
    "<b> Ce qui nous conduit à rechercher et à tester un autre modèle tel que BalancedRandomForestClassifier"
   ]
  },
  {
   "cell_type": "markdown",
   "id": "0b418f19-144a-4efd-b82d-c197a07153ce",
   "metadata": {},
   "source": [
    "# 3. Application d'un modèle Balanced Random Forest Classifier<a name=\"3\"></a>\n",
    "[return to the plan](#0)  "
   ]
  },
  {
   "cell_type": "code",
   "execution_count": 26,
   "id": "8d3846da-1e0b-44bf-9247-e5b8a3d62ee2",
   "metadata": {},
   "outputs": [],
   "source": [
    "# Création d'une instance de la classe BalancedRandomForestClassifier\n",
    "bclf = BalancedRandomForestClassifier()\n",
    "\n",
    "# Entraînement du modèle sur les données d'entraînement\n",
    "bclf.fit(X_train, y_train)\n",
    "\n",
    "# Prédiction des étiquettes de classe pour les données de test en utilisant le modèle entraîné\n",
    "y_pred = bclf.predict(X_test)"
   ]
  },
  {
   "cell_type": "code",
   "execution_count": 27,
   "id": "8135cc0c-0967-4cf6-98bc-2acb026a67e3",
   "metadata": {},
   "outputs": [
    {
     "data": {
      "text/html": [
       "<div>\n",
       "<style scoped>\n",
       "    .dataframe tbody tr th:only-of-type {\n",
       "        vertical-align: middle;\n",
       "    }\n",
       "\n",
       "    .dataframe tbody tr th {\n",
       "        vertical-align: top;\n",
       "    }\n",
       "\n",
       "    .dataframe thead th {\n",
       "        text-align: right;\n",
       "    }\n",
       "</style>\n",
       "<table border=\"1\" class=\"dataframe\">\n",
       "  <thead>\n",
       "    <tr style=\"text-align: right;\">\n",
       "      <th>Prédiction</th>\n",
       "      <th>0</th>\n",
       "      <th>1</th>\n",
       "    </tr>\n",
       "    <tr>\n",
       "      <th>Classe réelle</th>\n",
       "      <th></th>\n",
       "      <th></th>\n",
       "    </tr>\n",
       "  </thead>\n",
       "  <tbody>\n",
       "    <tr>\n",
       "      <th>0</th>\n",
       "      <td>9715</td>\n",
       "      <td>2525</td>\n",
       "    </tr>\n",
       "    <tr>\n",
       "      <th>1</th>\n",
       "      <td>424</td>\n",
       "      <td>1878</td>\n",
       "    </tr>\n",
       "  </tbody>\n",
       "</table>\n",
       "</div>"
      ],
      "text/plain": [
       "Prédiction        0     1\n",
       "Classe réelle            \n",
       "0              9715  2525\n",
       "1               424  1878"
      ]
     },
     "metadata": {},
     "output_type": "display_data"
    },
    {
     "name": "stdout",
     "output_type": "stream",
     "text": [
      "\n",
      "\n",
      "Rapport de classification: métriques de performance pour chaque classe\n",
      "\n",
      "\n",
      "                   pre       rec       spe        f1       geo       iba       sup\n",
      "\n",
      "          0       0.96      0.79      0.82      0.87      0.80      0.65     12240\n",
      "          1       0.43      0.82      0.79      0.56      0.80      0.65      2302\n",
      "\n",
      "avg / total       0.87      0.80      0.81      0.82      0.80      0.65     14542\n",
      "\n"
     ]
    }
   ],
   "source": [
    "# Création d'une table de contingence (matrice de confusion) montrant le nombre de prédictions correctes et incorrectes pour chaque classe\n",
    "contingency_table = pd.crosstab(y_test, y_pred, rownames=['Classe réelle'], colnames=['Prédiction'])\n",
    "\n",
    "display(contingency_table)\n",
    "print(\"\\n\")\n",
    "\n",
    "print(\"Rapport de classification: métriques de performance pour chaque classe\")\n",
    "print(\"\\n\")\n",
    "report = classification_report_imbalanced(y_test, y_pred)\n",
    "print(report)"
   ]
  },
  {
   "cell_type": "markdown",
   "id": "b5530816-15eb-4f21-9225-c5ce31f3b05d",
   "metadata": {},
   "source": [
    "#### <b> Analyse :\n",
    "> En ce qui concerne les performances maximales atteintes pour la classe 1, la précision maximale est de 0,81, le rappel maximal est de 0,50 et le F1-score maximal est de 0,62. Ces valeurs montrent que le modèle a des difficultés à prédire la pluie le lendemain (raintomorrow).\n",
    "> D'après la matrice de confusion, le modèle a prédit correctement 9735 observations de la classe 0 (pas de pluie demain) et 1845 observations de la classe 1 (pluie demain), tandis que 2505 observations de la classe 1 ont été mal classées en classe 0 et 457 observations de la classe 0 ont été mal classées en classe 1.\n",
    ">\n",
    ">Le rapport de classification déséquilibré montre que le modèle a une précision élevée pour la classe 0 (96%) et une précision faible pour la classe 1 (42%). Cela signifie que le modèle est très précis pour prédire les observations de la classe 0, mais qu'il a tendance à faire plus d'erreurs pour prédire les observations de la classe 1. Le rappel est élevé pour la classe 1 (80%), ce qui indique que le modèle a identifié la plupart des observations de la classe 1, mais le rappel est faible pour la classe 0 (80%), ce qui indique que le modèle a manqué certaines observations de la classe 0. Le score F1 est de 0,55 pour la classe 1, ce qui signifie que le modèle a un compromis entre la précision et le rappel pour cette classe.\n",
    ">\n",
    "\n",
    "<b> En fin de compte, le modèle BalancedRandomForestClassifier semble mieux performant que le modèle SVM dans la prédiction de la classe déséquilibrée. Cependant, le modèle a encore besoin d'être amélioré pour être plus performant pour la classe 1."
   ]
  },
  {
   "cell_type": "markdown",
   "id": "b59ae850-98a4-4f9b-9b74-6996472c92d1",
   "metadata": {},
   "source": [
    "# 4.Conclusion <a name=\"4\"></a>\n",
    "[return to the plan](#0)  "
   ]
  },
  {
   "cell_type": "markdown",
   "id": "c640de7c-a17b-4cc2-bf8d-b399daef2852",
   "metadata": {
    "tags": []
   },
   "source": [
    "> <b> En analysant les différentes approches, nous pouvons conclure que :\n",
    "> * En utilisant un jeu de données déséquilibré avec un modèle SVM, nous avons obtenu des performances moyennes sur les données de test déséquilibrées. Bien que le rappel pour la classe minoritaire était relativement élevé, la précision était relativement faible, indiquant que le modèle pouvait produire un grand nombre de faux positifs. Cela montre l'importance d'utiliser des techniques de sur-échantillonnage et de sous-échantillonnage pour équilibrer les classes du jeu de données.\n",
    "> \n",
    "> * En utilisant la méthode de sur-échantillonnage aléatoire avec RandomOverSampler(), nous avons équilibré les classes et entraîné un modèle SVM avec des performances un peu améliorées. Le modèle a réussi à prédire la classe minoritaire avec une précision et un rappel plus raisonnables, avec un score F1 amélioré.\n",
    "> \n",
    "> * Cependant, en utilisant la méthode de sous-échantillonnage aléatoire avec RandomUnderSampler(), le modèle SVM a montré des performances relativement similaires à celles du modèle déséquilibré. Bien que le rappel pour la classe minoritaire ait été relativement élevé, la précision était relativement faible, indiquant que le modèle pouvait produire un grand nombre de faux positifs.\n",
    "> \n",
    "> On rappelle, comme indiqué au dessus, que le modèle BalancedRandomForestClassifier semble mieux performant que le modèle SVM dans la prédiction de la classe déséquilibrée. \n",
    "\n",
    "    \n",
    "<b> Il existe donc plusieurs méthodes pour améliorer la performance de prédiction de la classe minoritaire tout en sacrifiant potentiellement la performance globale du modèle. Cette approche peut être appliquée à divers cas d'utilisation prévision météo, cela pourrait être utile pour planifier des activités en plein air ou pour prendre des décisions liées aux opérations agricoles ou industrielles, par exemple.\n",
    "\n",
    "<b> Cependant, le modèle a encore besoin d'être amélioré pour être plus performant pour la classe 1. C'est ce que nous proposons dans les notebooks suivants."
   ]
  }
 ],
 "metadata": {
  "kernelspec": {
   "display_name": "venv_weatherforecast",
   "language": "python",
   "name": "venv_weatherforecast"
  },
  "language_info": {
   "codemirror_mode": {
    "name": "ipython",
    "version": 3
   },
   "file_extension": ".py",
   "mimetype": "text/x-python",
   "name": "python",
   "nbconvert_exporter": "python",
   "pygments_lexer": "ipython3",
   "version": "3.10.9"
  }
 },
 "nbformat": 4,
 "nbformat_minor": 5
}
