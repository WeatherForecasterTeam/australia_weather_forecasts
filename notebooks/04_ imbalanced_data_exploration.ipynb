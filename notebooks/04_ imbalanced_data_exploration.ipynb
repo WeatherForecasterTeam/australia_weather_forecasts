{
 "cells": [
  {
   "cell_type": "markdown",
   "id": "3bdcdf99-0d73-463f-a6f7-9adae1276d5c",
   "metadata": {
    "tags": []
   },
   "source": [
    "## <b>Weather forecast project "
   ]
  },
  {
   "cell_type": "markdown",
   "id": "ffbbda97-5d8a-493c-b002-4b0c61aebeec",
   "metadata": {
    "jp-MarkdownHeadingCollapsed": true,
    "tags": []
   },
   "source": [
    "# <b>04 - IMBALANCED DATA EXPLORATION"
   ]
  },
  {
   "cell_type": "markdown",
   "id": "fa0c8781-cbaf-4ae7-bf9f-4ec9a6c18a28",
   "metadata": {},
   "source": [
    "# Rain in Australia\n",
    "---\n",
    "#### Dataset source:\n",
    "\n",
    "Le dataset issu de l'étape de feature engineering est utilisé dans ce notebook : \n",
    "    \n",
    "    - data_features.csv contenant les données nettoyées et préparées sur la base du dataset initiale"
   ]
  },
  {
   "cell_type": "markdown",
   "id": "e2f283e4-6c2f-4d5c-8651-b8618be0ed85",
   "metadata": {
    "tags": []
   },
   "source": [
    "#### Context:\n",
    "Brève description du notebook 04 :\n",
    "\n",
    "> <div class= \"alert alert-block alert-info\"> Cette partie de l'analyse se concentre sur les techniques utilisées pour <b>traiter les jeux de données déséquilibrés</b>, comme cela a été identifié dans la partie précédente consacrée à l'exploration des données. Afin de résoudre ce problème, nous avons appliqué des techniques de sur-échantillonnage et de sous-échantillonnage aléatoires sur un modèle SVM simple ainsi que sur un classificateur balancé.\n",
    "\n",
    "    Le but de ces techniques est d'équilibrer la distribution de classe dans le jeu de données afin de garantir des prévisions précises pour toutes les classes et éviter que le modèle ne se concentre sur la classe majoritaire. Les performances de chaque modèle ont été évaluées en utilisant plusieurs mesures de classification telles que la précision, le rappel et le F1-score.\n",
    "    \n",
    "</div>"
   ]
  },
  {
   "cell_type": "markdown",
   "id": "31b36bbe-5692-4e51-8f6f-d37a394599ba",
   "metadata": {
    "tags": []
   },
   "source": [
    "# [Table of contents](#0)<a name=\"0\"></a> \n",
    "\n",
    "1. [Préparation des données](#1)\n",
    "\n",
    "    1.1 [Séparation des données en variables explicatives et variable cible](#1.1)\n",
    "    \n",
    "    1.2 [Fractionnement des données en ensemble d'entraînement et de test](#1.2)\n",
    "    \n",
    "    1.3 [Oversampling](#1.3)\n",
    "    \n",
    "    1.4 [Undersampling](#1.4)\n",
    "    \n",
    "2. [Application d'un modèle SVM](#2)\n",
    "\n",
    "    2.1 [Classification SVM avec un sur-échantillon aléatoire ](#2.1)\n",
    "    \n",
    "    2.2 [Classification SVM avec un sous-échantillon aléatoire](#2.2)\n",
    "    \n",
    "    2.3 [Optimisation de la classification SVM avec seuil de prédiction pour améliorer la performance du modèle](#2.3)\n",
    "    \n",
    "3. [Application d'un modèle Balanced Random Forest Classifier](#3)\n",
    "\n",
    "4. [Conclusion](#4)"
   ]
  },
  {
   "cell_type": "markdown",
   "id": "85c5ec93-321a-49dc-af90-714a6a977b4f",
   "metadata": {},
   "source": [
    "#### Packages nécessaires au notebook :"
   ]
  },
  {
   "cell_type": "code",
   "execution_count": 228,
   "id": "942af876-6e11-4441-b86f-dd76f211bc3a",
   "metadata": {},
   "outputs": [],
   "source": [
    "import pandas as pd\n",
    "import hvplot.pandas\n",
    "import numpy as np\n",
    "import seaborn as sns\n",
    "import matplotlib.pyplot as plt\n",
    "\n",
    "from sklearn.model_selection import train_test_split\n",
    "from sklearn.preprocessing import StandardScaler\n",
    "from sklearn.preprocessing import LabelEncoder\n",
    "from imblearn.over_sampling import RandomOverSampler, SMOTE\n",
    "from imblearn.under_sampling import RandomUnderSampler,  ClusterCentroids\n",
    "from imblearn.ensemble import BalancedRandomForestClassifier\n",
    "from imblearn.metrics import classification_report_imbalanced, geometric_mean_score\n",
    "from sklearn.metrics import f1_score\n",
    "from sklearn.svm import SVC"
   ]
  },
  {
   "cell_type": "code",
   "execution_count": 165,
   "id": "4d3edd89-53b4-4b78-ada3-a3861ecd37b8",
   "metadata": {},
   "outputs": [],
   "source": [
    "df = pd.read_csv(\"../data/data_features.csv\").iloc[:,2:] #iloc en attendant de corriger le notebook de preprocessing"
   ]
  },
  {
   "cell_type": "markdown",
   "id": "23bc7f3d-f9cd-4862-a2ab-5377a1e57e21",
   "metadata": {},
   "source": [
    "# 1.Préparation des données<a name=1></a>\n",
    "[return to the plan](#0)  "
   ]
  },
  {
   "cell_type": "markdown",
   "id": "3310a801-fc9a-46ff-8e23-6627dd979375",
   "metadata": {},
   "source": [
    "Lorem ipsum dolor sit amet, consectetur adipiscing elit. Sed auctor, elit sit amet convallis commodo, sapien ex tincidunt odio, nec auctor arcu odio in enim. Nulla et lacus nibh. \n",
    "\n",
    "Suspendisse vitae dui luctus, molestie felis vel, hendrerit diam. Nullam eget dui vitae eros consectetur laoreet. Aliquam sagittis orci vel augue ullamcorper, non tempor urna malesuada :\n",
    "* Pellentesque hendrerit libero at odio sagittis, id blandit nulla eleifend\n",
    "* Sed vel sapien a velit vestibulum blandit. Sed lobortis lobortis neque"
   ]
  },
  {
   "cell_type": "markdown",
   "id": "311560c2-08de-44ff-8991-23e3b4236368",
   "metadata": {},
   "source": [
    "## 1.1 Séparation des données en variables explicatives et variable cible <a name=\"1.1\"></a>\n",
    "[return to the plan](#0)  "
   ]
  },
  {
   "cell_type": "code",
   "execution_count": 166,
   "id": "19063974-4e48-46c1-8ed1-45f583e07db1",
   "metadata": {},
   "outputs": [],
   "source": [
    "X = df.drop(['raintomorrow'],axis=1)\n",
    "y = df['raintomorrow']"
   ]
  },
  {
   "cell_type": "code",
   "execution_count": 167,
   "id": "d508214b-539f-4686-a95d-388c91148a07",
   "metadata": {},
   "outputs": [
    {
     "data": {
      "text/plain": [
       "0    0.840098\n",
       "1    0.159902\n",
       "Name: raintomorrow, dtype: float64"
      ]
     },
     "execution_count": 167,
     "metadata": {},
     "output_type": "execute_result"
    }
   ],
   "source": [
    "y.value_counts(normalize=True)"
   ]
  },
  {
   "cell_type": "markdown",
   "id": "a53d6b5e-a008-4f4b-a680-d9687e884717",
   "metadata": {},
   "source": [
    "> Dans ce dataset, 16% des données correspondent à une prédiction de pluie le lendemain, ce qui signifie qu'un modèle naïf qui prédit qu'il ne pleut pas systématiquement, obtiendrait déjà un score de 84 % d'accuracy."
   ]
  },
  {
   "cell_type": "markdown",
   "id": "0209d115-6366-4df4-988a-3a4cfc4eec2b",
   "metadata": {},
   "source": [
    "## 1.2 Fractionnement des données en ensemble d'entraînement et de test <a name=\"1.2\"></a>\n",
    "[return to the plan](#0)  "
   ]
  },
  {
   "cell_type": "code",
   "execution_count": 168,
   "id": "5ebeabaa-f593-46a1-ab3b-c00fc8e5d914",
   "metadata": {},
   "outputs": [],
   "source": [
    "X_train, X_test, y_train, y_test = train_test_split(X,y, test_size = 0.2, random_state = 10)"
   ]
  },
  {
   "cell_type": "markdown",
   "id": "a4b517c6-a586-4af9-b43e-dfa82e2e975f",
   "metadata": {},
   "source": [
    "## 1.3 Oversampling <a name=\"1.3\"></a>\n",
    "#### Sur-échantillonnage aléatoire des données d'entraînement X_train et y_train \n",
    "[return to the plan](#0)  "
   ]
  },
  {
   "cell_type": "markdown",
   "id": "dbecacc1-7d83-4f12-9281-0eee2c521de2",
   "metadata": {},
   "source": [
    "La méthode RandomOverSampler() génère de nouvelles instances aléatoires de la classe minoritaire \"raintomorrow\" pour créer un ensemble de données équilibré en termes de distribution de classe."
   ]
  },
  {
   "cell_type": "code",
   "execution_count": 50,
   "id": "5a3a9ce3-6fff-4acf-94f7-69aa0d200f11",
   "metadata": {},
   "outputs": [
    {
     "name": "stdout",
     "output_type": "stream",
     "text": [
      "Classes échantillon oversampled : {1: 48841, 0: 48841}\n"
     ]
    }
   ],
   "source": [
    "rOs = RandomOverSampler()\n",
    "X_ro, y_ro = rOs.fit_resample(X_train, y_train)\n",
    "print('Classes échantillon oversampled :', dict(pd.Series(y_ro).value_counts()))"
   ]
  },
  {
   "cell_type": "code",
   "execution_count": 234,
   "id": "9de7d8d3-a4a0-4b87-9035-64049c75f86b",
   "metadata": {},
   "outputs": [
    {
     "data": {},
     "metadata": {},
     "output_type": "display_data"
    },
    {
     "data": {
      "application/vnd.holoviews_exec.v0+json": "",
      "text/html": [
       "<div id='5118'>\n",
       "  <div class=\"bk-root\" id=\"9375558e-e334-4660-a8bb-ad2730451155\" data-root-id=\"5118\"></div>\n",
       "</div>\n",
       "<script type=\"application/javascript\">(function(root) {\n",
       "  function embed_document(root) {\n",
       "    var docs_json = {\"d2c2cc77-b631-4d6a-9a68-f99d892652ed\":{\"defs\":[{\"extends\":null,\"module\":null,\"name\":\"ReactiveHTML1\",\"overrides\":[],\"properties\":[]},{\"extends\":null,\"module\":null,\"name\":\"FlexBox1\",\"overrides\":[],\"properties\":[{\"default\":\"flex-start\",\"kind\":null,\"name\":\"align_content\"},{\"default\":\"flex-start\",\"kind\":null,\"name\":\"align_items\"},{\"default\":\"row\",\"kind\":null,\"name\":\"flex_direction\"},{\"default\":\"wrap\",\"kind\":null,\"name\":\"flex_wrap\"},{\"default\":\"flex-start\",\"kind\":null,\"name\":\"justify_content\"}]},{\"extends\":null,\"module\":null,\"name\":\"GridStack1\",\"overrides\":[],\"properties\":[{\"default\":\"warn\",\"kind\":null,\"name\":\"mode\"},{\"default\":null,\"kind\":null,\"name\":\"ncols\"},{\"default\":null,\"kind\":null,\"name\":\"nrows\"},{\"default\":true,\"kind\":null,\"name\":\"allow_resize\"},{\"default\":true,\"kind\":null,\"name\":\"allow_drag\"},{\"default\":[],\"kind\":null,\"name\":\"state\"}]},{\"extends\":null,\"module\":null,\"name\":\"click1\",\"overrides\":[],\"properties\":[{\"default\":\"\",\"kind\":null,\"name\":\"terminal_output\"},{\"default\":\"\",\"kind\":null,\"name\":\"debug_name\"},{\"default\":0,\"kind\":null,\"name\":\"clears\"}]},{\"extends\":null,\"module\":null,\"name\":\"NotificationAreaBase1\",\"overrides\":[],\"properties\":[{\"default\":\"bottom-right\",\"kind\":null,\"name\":\"position\"},{\"default\":0,\"kind\":null,\"name\":\"_clear\"}]},{\"extends\":null,\"module\":null,\"name\":\"NotificationArea1\",\"overrides\":[],\"properties\":[{\"default\":[],\"kind\":null,\"name\":\"notifications\"},{\"default\":\"bottom-right\",\"kind\":null,\"name\":\"position\"},{\"default\":0,\"kind\":null,\"name\":\"_clear\"},{\"default\":[{\"background\":\"#ffc107\",\"icon\":{\"className\":\"fas fa-exclamation-triangle\",\"color\":\"white\",\"tagName\":\"i\"},\"type\":\"warning\"},{\"background\":\"#007bff\",\"icon\":{\"className\":\"fas fa-info-circle\",\"color\":\"white\",\"tagName\":\"i\"},\"type\":\"info\"}],\"kind\":null,\"name\":\"types\"}]},{\"extends\":null,\"module\":null,\"name\":\"Notification\",\"overrides\":[],\"properties\":[{\"default\":null,\"kind\":null,\"name\":\"background\"},{\"default\":3000,\"kind\":null,\"name\":\"duration\"},{\"default\":null,\"kind\":null,\"name\":\"icon\"},{\"default\":\"\",\"kind\":null,\"name\":\"message\"},{\"default\":null,\"kind\":null,\"name\":\"notification_type\"},{\"default\":false,\"kind\":null,\"name\":\"_destroyed\"}]},{\"extends\":null,\"module\":null,\"name\":\"TemplateActions1\",\"overrides\":[],\"properties\":[{\"default\":0,\"kind\":null,\"name\":\"open_modal\"},{\"default\":0,\"kind\":null,\"name\":\"close_modal\"}]},{\"extends\":null,\"module\":null,\"name\":\"MaterialTemplateActions1\",\"overrides\":[],\"properties\":[{\"default\":0,\"kind\":null,\"name\":\"open_modal\"},{\"default\":0,\"kind\":null,\"name\":\"close_modal\"}]}],\"roots\":{\"references\":[{\"attributes\":{\"overlay\":{\"id\":\"5143\"}},\"id\":\"5141\",\"type\":\"BoxZoomTool\"},{\"attributes\":{\"axis_label\":\"Postraitements\",\"coordinates\":null,\"formatter\":{\"id\":\"5165\"},\"group\":null,\"major_label_policy\":{\"id\":\"5166\"},\"ticker\":{\"id\":\"5132\"}},\"id\":\"5131\",\"type\":\"CategoricalAxis\"},{\"attributes\":{},\"id\":\"5140\",\"type\":\"WheelZoomTool\"},{\"attributes\":{\"factors\":[\"Raintomorrow = 0\",\"Raintomorrow = 1\"],\"palette\":[\"#30a2da\",\"#fc4f30\"]},\"id\":\"5151\",\"type\":\"CategoricalColorMapper\"},{\"attributes\":{},\"id\":\"5163\",\"type\":\"AllLabels\"},{\"attributes\":{\"bottom\":{\"field\":\"bottom\"},\"fill_color\":{\"field\":\"Classe\",\"transform\":{\"id\":\"5151\"}},\"hatch_color\":{\"field\":\"Classe\",\"transform\":{\"id\":\"5151\"}},\"top\":{\"field\":\"top\"},\"width\":{\"value\":0.8},\"x\":{\"field\":\"Type\"}},\"id\":\"5155\",\"type\":\"VBar\"},{\"attributes\":{\"above\":[{\"id\":\"5170\"}],\"below\":[{\"id\":\"5131\"}],\"center\":[{\"id\":\"5133\"},{\"id\":\"5137\"},{\"id\":\"5170\"}],\"height\":300,\"left\":[{\"id\":\"5134\"}],\"margin\":[5,5,5,5],\"min_border_bottom\":10,\"min_border_left\":10,\"min_border_right\":10,\"min_border_top\":10,\"renderers\":[{\"id\":\"5158\"}],\"sizing_mode\":\"fixed\",\"title\":{\"id\":\"5123\"},\"toolbar\":{\"id\":\"5144\"},\"width\":700,\"x_range\":{\"id\":\"5119\"},\"x_scale\":{\"id\":\"5127\"},\"y_range\":{\"id\":\"5120\"},\"y_scale\":{\"id\":\"5129\"}},\"id\":\"5122\",\"subtype\":\"Figure\",\"type\":\"Plot\"},{\"attributes\":{\"callback\":null,\"renderers\":[{\"id\":\"5158\"}],\"tags\":[\"hv_created\"],\"tooltips\":[[\"Type\",\"@{Type}\"],[\"Classe\",\"@{Classe}\"],[\"Nombre d'\\u00e9chantillons\",\"@{Nombre_d_apostrophe_\\u00e9chantillons}\"]]},\"id\":\"5121\",\"type\":\"HoverTool\"},{\"attributes\":{\"source\":{\"id\":\"5152\"}},\"id\":\"5159\",\"type\":\"CDSView\"},{\"attributes\":{},\"id\":\"5167\",\"type\":\"UnionRenderers\"},{\"attributes\":{\"children\":[{\"id\":\"5122\"}],\"height\":300,\"margin\":[0,0,0,0],\"name\":\"Row06949\",\"sizing_mode\":\"fixed\",\"tags\":[\"embedded\"],\"width\":700},\"id\":\"5118\",\"type\":\"Row\"},{\"attributes\":{\"bottom\":{\"field\":\"bottom\"},\"fill_alpha\":{\"value\":0.1},\"fill_color\":{\"field\":\"Classe\",\"transform\":{\"id\":\"5151\"}},\"hatch_alpha\":{\"value\":0.1},\"hatch_color\":{\"field\":\"Classe\",\"transform\":{\"id\":\"5151\"}},\"line_alpha\":{\"value\":0.1},\"top\":{\"field\":\"top\"},\"width\":{\"value\":0.8},\"x\":{\"field\":\"Type\"}},\"id\":\"5156\",\"type\":\"VBar\"},{\"attributes\":{},\"id\":\"5127\",\"type\":\"CategoricalScale\"},{\"attributes\":{\"axis\":{\"id\":\"5131\"},\"coordinates\":null,\"grid_line_color\":null,\"group\":null,\"ticker\":null},\"id\":\"5133\",\"type\":\"Grid\"},{\"attributes\":{},\"id\":\"5162\",\"type\":\"BasicTickFormatter\"},{\"attributes\":{},\"id\":\"5132\",\"type\":\"CategoricalTicker\"},{\"attributes\":{\"axis\":{\"id\":\"5134\"},\"coordinates\":null,\"dimension\":1,\"grid_line_color\":null,\"group\":null,\"ticker\":null},\"id\":\"5137\",\"type\":\"Grid\"},{\"attributes\":{\"bottom\":{\"field\":\"bottom\"},\"fill_alpha\":{\"value\":0.2},\"fill_color\":{\"field\":\"Classe\",\"transform\":{\"id\":\"5151\"}},\"hatch_alpha\":{\"value\":0.2},\"hatch_color\":{\"field\":\"Classe\",\"transform\":{\"id\":\"5151\"}},\"line_alpha\":{\"value\":0.2},\"top\":{\"field\":\"top\"},\"width\":{\"value\":0.8},\"x\":{\"field\":\"Type\"}},\"id\":\"5157\",\"type\":\"VBar\"},{\"attributes\":{},\"id\":\"5142\",\"type\":\"ResetTool\"},{\"attributes\":{\"factors\":[\"Avant\",\"Apr\\u00e8s\"],\"tags\":[[[\"Type\",\"Type\",null]]]},\"id\":\"5119\",\"type\":\"FactorRange\"},{\"attributes\":{},\"id\":\"5166\",\"type\":\"AllLabels\"},{\"attributes\":{},\"id\":\"5153\",\"type\":\"Selection\"},{\"attributes\":{},\"id\":\"5138\",\"type\":\"SaveTool\"},{\"attributes\":{\"bottom_units\":\"screen\",\"coordinates\":null,\"fill_alpha\":0.5,\"fill_color\":\"lightgrey\",\"group\":null,\"left_units\":\"screen\",\"level\":\"overlay\",\"line_alpha\":1.0,\"line_color\":\"black\",\"line_dash\":[4,4],\"line_width\":2,\"right_units\":\"screen\",\"syncable\":false,\"top_units\":\"screen\"},\"id\":\"5143\",\"type\":\"BoxAnnotation\"},{\"attributes\":{},\"id\":\"5139\",\"type\":\"PanTool\"},{\"attributes\":{\"coordinates\":null,\"data_source\":{\"id\":\"5152\"},\"glyph\":{\"id\":\"5155\"},\"group\":null,\"hover_glyph\":null,\"muted_glyph\":{\"id\":\"5157\"},\"nonselection_glyph\":{\"id\":\"5156\"},\"selection_glyph\":{\"id\":\"5172\"},\"view\":{\"id\":\"5159\"}},\"id\":\"5158\",\"type\":\"GlyphRenderer\"},{\"attributes\":{\"end\":101633.7,\"reset_end\":101633.7,\"reset_start\":0.0,\"tags\":[[[\"Nombre d'\\u00e9chantillons\",\"Nombre d'\\u00e9chantillons\",null]]]},\"id\":\"5120\",\"type\":\"Range1d\"},{\"attributes\":{},\"id\":\"5165\",\"type\":\"CategoricalTickFormatter\"},{\"attributes\":{\"coordinates\":null,\"group\":null,\"items\":[{\"id\":\"5171\"}],\"location\":[0,0],\"orientation\":\"horizontal\"},\"id\":\"5170\",\"type\":\"Legend\"},{\"attributes\":{\"active_drag\":{\"id\":\"5139\"},\"active_scroll\":{\"id\":\"5140\"},\"tools\":[{\"id\":\"5121\"},{\"id\":\"5138\"},{\"id\":\"5139\"},{\"id\":\"5140\"},{\"id\":\"5141\"},{\"id\":\"5142\"}]},\"id\":\"5144\",\"type\":\"Toolbar\"},{\"attributes\":{\"bottom\":{\"field\":\"bottom\"},\"fill_alpha\":{\"value\":1.0},\"fill_color\":{\"field\":\"Classe\",\"transform\":{\"id\":\"5151\"}},\"hatch_alpha\":{\"value\":1.0},\"hatch_color\":{\"field\":\"Classe\",\"transform\":{\"id\":\"5151\"}},\"hatch_scale\":{\"value\":12.0},\"hatch_weight\":{\"value\":1.0},\"line_alpha\":{\"value\":1.0},\"line_cap\":{\"value\":\"butt\"},\"line_color\":{\"value\":\"black\"},\"line_dash\":{\"value\":[]},\"line_dash_offset\":{\"value\":0},\"line_join\":{\"value\":\"bevel\"},\"line_width\":{\"value\":1},\"top\":{\"field\":\"top\"},\"width\":{\"value\":0.8},\"x\":{\"field\":\"Type\"}},\"id\":\"5172\",\"type\":\"VBar\"},{\"attributes\":{},\"id\":\"5135\",\"type\":\"BasicTicker\"},{\"attributes\":{\"label\":{\"field\":\"Classe\"},\"renderers\":[{\"id\":\"5158\"}]},\"id\":\"5171\",\"type\":\"LegendItem\"},{\"attributes\":{\"axis_label\":\"Nombre d'\\u00e9chantillons\",\"coordinates\":null,\"formatter\":{\"id\":\"5162\"},\"group\":null,\"major_label_policy\":{\"id\":\"5163\"},\"ticker\":{\"id\":\"5135\"}},\"id\":\"5134\",\"type\":\"LinearAxis\"},{\"attributes\":{\"data\":{\"Classe\":[\"Raintomorrow = 0\",\"Raintomorrow = 0\",\"Raintomorrow = 1\",\"Raintomorrow = 1\"],\"Nombre_d_apostrophe_\\u00e9chantillons\":[48841,48841,9324,48841],\"Type\":[\"Avant\",\"Apr\\u00e8s\",\"Avant\",\"Apr\\u00e8s\"],\"bottom\":{\"__ndarray__\":\"AAAAAAAAAAAAAAAAAAAAAAAAAAAg2edAAAAAACDZ50A=\",\"dtype\":\"float64\",\"order\":\"little\",\"shape\":[4]},\"top\":{\"__ndarray__\":\"AAAAACDZ50AAAAAAINnnQAAAAACgZuxAAAAAACDZ90A=\",\"dtype\":\"float64\",\"order\":\"little\",\"shape\":[4]}},\"selected\":{\"id\":\"5153\"},\"selection_policy\":{\"id\":\"5167\"}},\"id\":\"5152\",\"type\":\"ColumnDataSource\"},{\"attributes\":{\"coordinates\":null,\"group\":null,\"text\":\"Sur\\u00e9chantillonnage al\\u00e9atoire avec RandomOverSampler\",\"text_color\":\"black\",\"text_font_size\":\"12pt\"},\"id\":\"5123\",\"type\":\"Title\"},{\"attributes\":{},\"id\":\"5129\",\"type\":\"LinearScale\"}],\"root_ids\":[\"5118\"]},\"title\":\"Bokeh Application\",\"version\":\"2.4.3\"}};\n",
       "    var render_items = [{\"docid\":\"d2c2cc77-b631-4d6a-9a68-f99d892652ed\",\"root_ids\":[\"5118\"],\"roots\":{\"5118\":\"9375558e-e334-4660-a8bb-ad2730451155\"}}];\n",
       "    root.Bokeh.embed.embed_items_notebook(docs_json, render_items);\n",
       "    for (const render_item of render_items) {\n",
       "      for (const root_id of render_item.root_ids) {\n",
       "\tconst id_el = document.getElementById(root_id)\n",
       "\tif (id_el.children.length && (id_el.children[0].className === 'bk-root')) {\n",
       "\t  const root_el = id_el.children[0]\n",
       "\t  root_el.id = root_el.id + '-rendered'\n",
       "\t}\n",
       "      }\n",
       "    }\n",
       "  }\n",
       "  if (root.Bokeh !== undefined && root.Bokeh.Panel !== undefined) {\n",
       "    embed_document(root);\n",
       "  } else {\n",
       "    var attempts = 0;\n",
       "    var timer = setInterval(function(root) {\n",
       "      if (root.Bokeh !== undefined && root.Bokeh.Panel !== undefined) {\n",
       "        clearInterval(timer);\n",
       "        embed_document(root);\n",
       "      } else if (document.readyState == \"complete\") {\n",
       "        attempts++;\n",
       "        if (attempts > 200) {\n",
       "          clearInterval(timer);\n",
       "          console.log(\"Bokeh: ERROR: Unable to run BokehJS code because BokehJS library is missing\");\n",
       "        }\n",
       "      }\n",
       "    }, 25, root)\n",
       "  }\n",
       "})(window);</script>"
      ],
      "text/plain": [
       ":Bars   [Type,Classe]   (Nombre d'échantillons)"
      ]
     },
     "execution_count": 234,
     "metadata": {
      "application/vnd.holoviews_exec.v0+json": {
       "id": "5118"
      }
     },
     "output_type": "execute_result"
    }
   ],
   "source": [
    "# Nombre d'échantillons par classe avant le suréchantillonnage\n",
    "counts_before = dict(pd.Series(y_train).value_counts())\n",
    "\n",
    "# Nombre d'échantillons par classe après le suréchantillonnage\n",
    "counts_after = dict(pd.Series(y_ro).value_counts())\n",
    "\n",
    "# Graphe\n",
    "df_rOs = pd.DataFrame({'Nombre d\\'échantillons': list(counts_before.values()) + list(counts_after.values()), 'Type': ['Avant'] * len(counts_before) + ['Après'] * len(counts_after), 'Classe': ['Raintomorrow = 0', 'Raintomorrow = 1'] * 2})\n",
    "df_rOs.hvplot.bar(x='Type', y='Nombre d\\'échantillons', by='Classe', stacked=True, title='Suréchantillonnage aléatoire avec RandomOverSampler', xlabel='Postraitements', ylabel='Nombre d\\'échantillons', legend='top')"
   ]
  },
  {
   "cell_type": "markdown",
   "id": "b06961b7-96a0-4090-9fe2-4cc4e675fc51",
   "metadata": {},
   "source": [
    "## 1.4 Undersampling <a name=\"1.4\"></a>\n",
    "#### Sous-échantillonnage aléatoire des données d'entraînement X_train et y_train \n",
    "[return to the plan](#0)  "
   ]
  },
  {
   "cell_type": "code",
   "execution_count": 55,
   "id": "b0536b3d-3af7-4886-8074-b2595c685493",
   "metadata": {},
   "outputs": [
    {
     "name": "stdout",
     "output_type": "stream",
     "text": [
      "Classes échantillon undersampled : {0: 9324, 1: 9324}\n"
     ]
    }
   ],
   "source": [
    "rUs = RandomUnderSampler()\n",
    "X_ru, y_ru = rUs.fit_resample(X_train, y_train)\n",
    "print('Classes échantillon undersampled :', dict(pd.Series(y_ru).value_counts()))"
   ]
  },
  {
   "cell_type": "code",
   "execution_count": 235,
   "id": "f4519fd2-525e-495f-aca2-fe4ccf599dc4",
   "metadata": {},
   "outputs": [
    {
     "data": {},
     "metadata": {},
     "output_type": "display_data"
    },
    {
     "data": {
      "application/vnd.holoviews_exec.v0+json": "",
      "text/html": [
       "<div id='5244'>\n",
       "  <div class=\"bk-root\" id=\"066c2d79-bb3a-4c76-9451-f7df87cc6675\" data-root-id=\"5244\"></div>\n",
       "</div>\n",
       "<script type=\"application/javascript\">(function(root) {\n",
       "  function embed_document(root) {\n",
       "    var docs_json = {\"b1afb36f-b97a-4e5f-a3c3-e53ebfd58772\":{\"defs\":[{\"extends\":null,\"module\":null,\"name\":\"ReactiveHTML1\",\"overrides\":[],\"properties\":[]},{\"extends\":null,\"module\":null,\"name\":\"FlexBox1\",\"overrides\":[],\"properties\":[{\"default\":\"flex-start\",\"kind\":null,\"name\":\"align_content\"},{\"default\":\"flex-start\",\"kind\":null,\"name\":\"align_items\"},{\"default\":\"row\",\"kind\":null,\"name\":\"flex_direction\"},{\"default\":\"wrap\",\"kind\":null,\"name\":\"flex_wrap\"},{\"default\":\"flex-start\",\"kind\":null,\"name\":\"justify_content\"}]},{\"extends\":null,\"module\":null,\"name\":\"GridStack1\",\"overrides\":[],\"properties\":[{\"default\":\"warn\",\"kind\":null,\"name\":\"mode\"},{\"default\":null,\"kind\":null,\"name\":\"ncols\"},{\"default\":null,\"kind\":null,\"name\":\"nrows\"},{\"default\":true,\"kind\":null,\"name\":\"allow_resize\"},{\"default\":true,\"kind\":null,\"name\":\"allow_drag\"},{\"default\":[],\"kind\":null,\"name\":\"state\"}]},{\"extends\":null,\"module\":null,\"name\":\"click1\",\"overrides\":[],\"properties\":[{\"default\":\"\",\"kind\":null,\"name\":\"terminal_output\"},{\"default\":\"\",\"kind\":null,\"name\":\"debug_name\"},{\"default\":0,\"kind\":null,\"name\":\"clears\"}]},{\"extends\":null,\"module\":null,\"name\":\"NotificationAreaBase1\",\"overrides\":[],\"properties\":[{\"default\":\"bottom-right\",\"kind\":null,\"name\":\"position\"},{\"default\":0,\"kind\":null,\"name\":\"_clear\"}]},{\"extends\":null,\"module\":null,\"name\":\"NotificationArea1\",\"overrides\":[],\"properties\":[{\"default\":[],\"kind\":null,\"name\":\"notifications\"},{\"default\":\"bottom-right\",\"kind\":null,\"name\":\"position\"},{\"default\":0,\"kind\":null,\"name\":\"_clear\"},{\"default\":[{\"background\":\"#ffc107\",\"icon\":{\"className\":\"fas fa-exclamation-triangle\",\"color\":\"white\",\"tagName\":\"i\"},\"type\":\"warning\"},{\"background\":\"#007bff\",\"icon\":{\"className\":\"fas fa-info-circle\",\"color\":\"white\",\"tagName\":\"i\"},\"type\":\"info\"}],\"kind\":null,\"name\":\"types\"}]},{\"extends\":null,\"module\":null,\"name\":\"Notification\",\"overrides\":[],\"properties\":[{\"default\":null,\"kind\":null,\"name\":\"background\"},{\"default\":3000,\"kind\":null,\"name\":\"duration\"},{\"default\":null,\"kind\":null,\"name\":\"icon\"},{\"default\":\"\",\"kind\":null,\"name\":\"message\"},{\"default\":null,\"kind\":null,\"name\":\"notification_type\"},{\"default\":false,\"kind\":null,\"name\":\"_destroyed\"}]},{\"extends\":null,\"module\":null,\"name\":\"TemplateActions1\",\"overrides\":[],\"properties\":[{\"default\":0,\"kind\":null,\"name\":\"open_modal\"},{\"default\":0,\"kind\":null,\"name\":\"close_modal\"}]},{\"extends\":null,\"module\":null,\"name\":\"MaterialTemplateActions1\",\"overrides\":[],\"properties\":[{\"default\":0,\"kind\":null,\"name\":\"open_modal\"},{\"default\":0,\"kind\":null,\"name\":\"close_modal\"}]}],\"roots\":{\"references\":[{\"attributes\":{\"bottom\":{\"field\":\"bottom\"},\"fill_alpha\":{\"value\":1.0},\"fill_color\":{\"field\":\"Classe\",\"transform\":{\"id\":\"5277\"}},\"hatch_alpha\":{\"value\":1.0},\"hatch_color\":{\"field\":\"Classe\",\"transform\":{\"id\":\"5277\"}},\"hatch_scale\":{\"value\":12.0},\"hatch_weight\":{\"value\":1.0},\"line_alpha\":{\"value\":1.0},\"line_cap\":{\"value\":\"butt\"},\"line_color\":{\"value\":\"black\"},\"line_dash\":{\"value\":[]},\"line_dash_offset\":{\"value\":0},\"line_join\":{\"value\":\"bevel\"},\"line_width\":{\"value\":1},\"top\":{\"field\":\"top\"},\"width\":{\"value\":0.8},\"x\":{\"field\":\"Type\"}},\"id\":\"5298\",\"type\":\"VBar\"},{\"attributes\":{},\"id\":\"5255\",\"type\":\"LinearScale\"},{\"attributes\":{\"callback\":null,\"renderers\":[{\"id\":\"5284\"}],\"tags\":[\"hv_created\"],\"tooltips\":[[\"Type\",\"@{Type}\"],[\"Classe\",\"@{Classe}\"],[\"Nombre d'\\u00e9chantillons\",\"@{Nombre_d_apostrophe_\\u00e9chantillons}\"]]},\"id\":\"5247\",\"type\":\"HoverTool\"},{\"attributes\":{\"bottom\":{\"field\":\"bottom\"},\"fill_color\":{\"field\":\"Classe\",\"transform\":{\"id\":\"5277\"}},\"hatch_color\":{\"field\":\"Classe\",\"transform\":{\"id\":\"5277\"}},\"top\":{\"field\":\"top\"},\"width\":{\"value\":0.8},\"x\":{\"field\":\"Type\"}},\"id\":\"5281\",\"type\":\"VBar\"},{\"attributes\":{\"coordinates\":null,\"group\":null,\"items\":[{\"id\":\"5297\"}],\"location\":[0,0],\"orientation\":\"horizontal\"},\"id\":\"5296\",\"type\":\"Legend\"},{\"attributes\":{},\"id\":\"5289\",\"type\":\"AllLabels\"},{\"attributes\":{\"axis\":{\"id\":\"5260\"},\"coordinates\":null,\"dimension\":1,\"grid_line_color\":null,\"group\":null,\"ticker\":null},\"id\":\"5263\",\"type\":\"Grid\"},{\"attributes\":{\"bottom\":{\"field\":\"bottom\"},\"fill_alpha\":{\"value\":0.2},\"fill_color\":{\"field\":\"Classe\",\"transform\":{\"id\":\"5277\"}},\"hatch_alpha\":{\"value\":0.2},\"hatch_color\":{\"field\":\"Classe\",\"transform\":{\"id\":\"5277\"}},\"line_alpha\":{\"value\":0.2},\"top\":{\"field\":\"top\"},\"width\":{\"value\":0.8},\"x\":{\"field\":\"Type\"}},\"id\":\"5283\",\"type\":\"VBar\"},{\"attributes\":{},\"id\":\"5258\",\"type\":\"CategoricalTicker\"},{\"attributes\":{\"label\":{\"field\":\"Classe\"},\"renderers\":[{\"id\":\"5284\"}]},\"id\":\"5297\",\"type\":\"LegendItem\"},{\"attributes\":{},\"id\":\"5291\",\"type\":\"CategoricalTickFormatter\"},{\"attributes\":{\"overlay\":{\"id\":\"5269\"}},\"id\":\"5267\",\"type\":\"BoxZoomTool\"},{\"attributes\":{\"axis_label\":\"Postraitements\",\"coordinates\":null,\"formatter\":{\"id\":\"5291\"},\"group\":null,\"major_label_policy\":{\"id\":\"5292\"},\"ticker\":{\"id\":\"5258\"}},\"id\":\"5257\",\"type\":\"CategoricalAxis\"},{\"attributes\":{},\"id\":\"5293\",\"type\":\"UnionRenderers\"},{\"attributes\":{\"active_drag\":{\"id\":\"5265\"},\"active_scroll\":{\"id\":\"5266\"},\"tools\":[{\"id\":\"5247\"},{\"id\":\"5264\"},{\"id\":\"5265\"},{\"id\":\"5266\"},{\"id\":\"5267\"},{\"id\":\"5268\"}]},\"id\":\"5270\",\"type\":\"Toolbar\"},{\"attributes\":{},\"id\":\"5266\",\"type\":\"WheelZoomTool\"},{\"attributes\":{\"axis\":{\"id\":\"5257\"},\"coordinates\":null,\"grid_line_color\":null,\"group\":null,\"ticker\":null},\"id\":\"5259\",\"type\":\"Grid\"},{\"attributes\":{},\"id\":\"5264\",\"type\":\"SaveTool\"},{\"attributes\":{},\"id\":\"5265\",\"type\":\"PanTool\"},{\"attributes\":{},\"id\":\"5253\",\"type\":\"CategoricalScale\"},{\"attributes\":{\"end\":62116.7,\"reset_end\":62116.7,\"reset_start\":0.0,\"tags\":[[[\"Nombre d'\\u00e9chantillons\",\"Nombre d'\\u00e9chantillons\",null]]]},\"id\":\"5246\",\"type\":\"Range1d\"},{\"attributes\":{\"axis_label\":\"Nombre d'\\u00e9chantillons\",\"coordinates\":null,\"formatter\":{\"id\":\"5288\"},\"group\":null,\"major_label_policy\":{\"id\":\"5289\"},\"ticker\":{\"id\":\"5261\"}},\"id\":\"5260\",\"type\":\"LinearAxis\"},{\"attributes\":{},\"id\":\"5288\",\"type\":\"BasicTickFormatter\"},{\"attributes\":{\"bottom\":{\"field\":\"bottom\"},\"fill_alpha\":{\"value\":0.1},\"fill_color\":{\"field\":\"Classe\",\"transform\":{\"id\":\"5277\"}},\"hatch_alpha\":{\"value\":0.1},\"hatch_color\":{\"field\":\"Classe\",\"transform\":{\"id\":\"5277\"}},\"line_alpha\":{\"value\":0.1},\"top\":{\"field\":\"top\"},\"width\":{\"value\":0.8},\"x\":{\"field\":\"Type\"}},\"id\":\"5282\",\"type\":\"VBar\"},{\"attributes\":{},\"id\":\"5292\",\"type\":\"AllLabels\"},{\"attributes\":{\"factors\":[\"Avant\",\"Apr\\u00e8s\"],\"tags\":[[[\"Type\",\"Type\",null]]]},\"id\":\"5245\",\"type\":\"FactorRange\"},{\"attributes\":{},\"id\":\"5279\",\"type\":\"Selection\"},{\"attributes\":{\"above\":[{\"id\":\"5296\"}],\"below\":[{\"id\":\"5257\"}],\"center\":[{\"id\":\"5259\"},{\"id\":\"5263\"},{\"id\":\"5296\"}],\"height\":300,\"left\":[{\"id\":\"5260\"}],\"margin\":[5,5,5,5],\"min_border_bottom\":10,\"min_border_left\":10,\"min_border_right\":10,\"min_border_top\":10,\"renderers\":[{\"id\":\"5284\"}],\"sizing_mode\":\"fixed\",\"title\":{\"id\":\"5249\"},\"toolbar\":{\"id\":\"5270\"},\"width\":700,\"x_range\":{\"id\":\"5245\"},\"x_scale\":{\"id\":\"5253\"},\"y_range\":{\"id\":\"5246\"},\"y_scale\":{\"id\":\"5255\"}},\"id\":\"5248\",\"subtype\":\"Figure\",\"type\":\"Plot\"},{\"attributes\":{\"data\":{\"Classe\":[\"Raintomorrow = 0\",\"Raintomorrow = 0\",\"Raintomorrow = 1\",\"Raintomorrow = 1\"],\"Nombre_d_apostrophe_\\u00e9chantillons\":[48841,9324,9324,9324],\"Type\":[\"Avant\",\"Apr\\u00e8s\",\"Avant\",\"Apr\\u00e8s\"],\"bottom\":{\"__ndarray__\":\"AAAAAAAAAAAAAAAAAAAAAAAAAAAg2edAAAAAAAA2wkA=\",\"dtype\":\"float64\",\"order\":\"little\",\"shape\":[4]},\"top\":{\"__ndarray__\":\"AAAAACDZ50AAAAAAADbCQAAAAACgZuxAAAAAAAA20kA=\",\"dtype\":\"float64\",\"order\":\"little\",\"shape\":[4]}},\"selected\":{\"id\":\"5279\"},\"selection_policy\":{\"id\":\"5293\"}},\"id\":\"5278\",\"type\":\"ColumnDataSource\"},{\"attributes\":{\"bottom_units\":\"screen\",\"coordinates\":null,\"fill_alpha\":0.5,\"fill_color\":\"lightgrey\",\"group\":null,\"left_units\":\"screen\",\"level\":\"overlay\",\"line_alpha\":1.0,\"line_color\":\"black\",\"line_dash\":[4,4],\"line_width\":2,\"right_units\":\"screen\",\"syncable\":false,\"top_units\":\"screen\"},\"id\":\"5269\",\"type\":\"BoxAnnotation\"},{\"attributes\":{\"coordinates\":null,\"group\":null,\"text\":\"Sous-\\u00e9chantillonnage al\\u00e9atoire avec Undersampled\",\"text_color\":\"black\",\"text_font_size\":\"12pt\"},\"id\":\"5249\",\"type\":\"Title\"},{\"attributes\":{\"coordinates\":null,\"data_source\":{\"id\":\"5278\"},\"glyph\":{\"id\":\"5281\"},\"group\":null,\"hover_glyph\":null,\"muted_glyph\":{\"id\":\"5283\"},\"nonselection_glyph\":{\"id\":\"5282\"},\"selection_glyph\":{\"id\":\"5298\"},\"view\":{\"id\":\"5285\"}},\"id\":\"5284\",\"type\":\"GlyphRenderer\"},{\"attributes\":{},\"id\":\"5261\",\"type\":\"BasicTicker\"},{\"attributes\":{\"factors\":[\"Raintomorrow = 0\",\"Raintomorrow = 1\"],\"palette\":[\"#30a2da\",\"#fc4f30\"]},\"id\":\"5277\",\"type\":\"CategoricalColorMapper\"},{\"attributes\":{\"children\":[{\"id\":\"5248\"}],\"height\":300,\"margin\":[0,0,0,0],\"name\":\"Row07163\",\"sizing_mode\":\"fixed\",\"tags\":[\"embedded\"],\"width\":700},\"id\":\"5244\",\"type\":\"Row\"},{\"attributes\":{},\"id\":\"5268\",\"type\":\"ResetTool\"},{\"attributes\":{\"source\":{\"id\":\"5278\"}},\"id\":\"5285\",\"type\":\"CDSView\"}],\"root_ids\":[\"5244\"]},\"title\":\"Bokeh Application\",\"version\":\"2.4.3\"}};\n",
       "    var render_items = [{\"docid\":\"b1afb36f-b97a-4e5f-a3c3-e53ebfd58772\",\"root_ids\":[\"5244\"],\"roots\":{\"5244\":\"066c2d79-bb3a-4c76-9451-f7df87cc6675\"}}];\n",
       "    root.Bokeh.embed.embed_items_notebook(docs_json, render_items);\n",
       "    for (const render_item of render_items) {\n",
       "      for (const root_id of render_item.root_ids) {\n",
       "\tconst id_el = document.getElementById(root_id)\n",
       "\tif (id_el.children.length && (id_el.children[0].className === 'bk-root')) {\n",
       "\t  const root_el = id_el.children[0]\n",
       "\t  root_el.id = root_el.id + '-rendered'\n",
       "\t}\n",
       "      }\n",
       "    }\n",
       "  }\n",
       "  if (root.Bokeh !== undefined && root.Bokeh.Panel !== undefined) {\n",
       "    embed_document(root);\n",
       "  } else {\n",
       "    var attempts = 0;\n",
       "    var timer = setInterval(function(root) {\n",
       "      if (root.Bokeh !== undefined && root.Bokeh.Panel !== undefined) {\n",
       "        clearInterval(timer);\n",
       "        embed_document(root);\n",
       "      } else if (document.readyState == \"complete\") {\n",
       "        attempts++;\n",
       "        if (attempts > 200) {\n",
       "          clearInterval(timer);\n",
       "          console.log(\"Bokeh: ERROR: Unable to run BokehJS code because BokehJS library is missing\");\n",
       "        }\n",
       "      }\n",
       "    }, 25, root)\n",
       "  }\n",
       "})(window);</script>"
      ],
      "text/plain": [
       ":Bars   [Type,Classe]   (Nombre d'échantillons)"
      ]
     },
     "execution_count": 235,
     "metadata": {
      "application/vnd.holoviews_exec.v0+json": {
       "id": "5244"
      }
     },
     "output_type": "execute_result"
    }
   ],
   "source": [
    "# Nombre d'échantillons par classe avant le suréchantillonnage\n",
    "counts_before = dict(pd.Series(y_train).value_counts())\n",
    "\n",
    "# Nombre d'échantillons par classe après le suréchantillonnage\n",
    "counts_after = dict(pd.Series(y_ru).value_counts())\n",
    "\n",
    "# Graphe\n",
    "df_rUs = pd.DataFrame({'Nombre d\\'échantillons': list(counts_before.values()) + list(counts_after.values()), 'Type': ['Avant'] * len(counts_before) + ['Après'] * len(counts_after), 'Classe': ['Raintomorrow = 0', 'Raintomorrow = 1'] * 2})\n",
    "df_rUs.hvplot.bar(x='Type', y='Nombre d\\'échantillons', by='Classe', stacked=True, title='Sous-échantillonnage aléatoire avec Undersampled', xlabel='Postraitements', ylabel='Nombre d\\'échantillons', legend='top')"
   ]
  },
  {
   "cell_type": "markdown",
   "id": "d7cad7ef-41b6-49a9-85f1-fa30e9e3513d",
   "metadata": {},
   "source": [
    "# 2.Application d'un modèle SVM<a name=\"2\"></a>\n",
    "[return to the plan](#0)  "
   ]
  },
  {
   "cell_type": "markdown",
   "id": "fbc8808d-6caf-40ae-b24a-83dd408adb4d",
   "metadata": {},
   "source": [
    "Lorem ipsum dolor sit amet, consectetur adipiscing elit. Sed auctor, elit sit amet convallis commodo, sapien ex tincidunt odio, nec auctor arcu odio in enim. Nulla et lacus nibh. \n",
    "\n",
    "Suspendisse vitae dui luctus, molestie felis vel, hendrerit diam. Nullam eget dui vitae eros consectetur laoreet. Aliquam sagittis orci vel augue ullamcorper, non tempor urna malesuada :\n",
    "* Pellentesque hendrerit libero at odio sagittis, id blandit nulla eleifend\n",
    "* Sed vel sapien a velit vestibulum blandit. Sed lobortis lobortis neque"
   ]
  },
  {
   "cell_type": "code",
   "execution_count": 83,
   "id": "6a51799a-3807-4d43-99ef-32e17cfb68dc",
   "metadata": {},
   "outputs": [],
   "source": [
    "# Instanciation d'un objet SVM avec une fonction de noyau RBF et gamma='scale'\n",
    "svm = SVC(gamma='scale')"
   ]
  },
  {
   "cell_type": "markdown",
   "id": "0c350fcb-6cee-4f7d-8c43-2525db0fc98d",
   "metadata": {
    "tags": []
   },
   "source": [
    "## 2.1. Classification SVM avec un sur-échantillon aléatoire <a name=\"2.1\"></a>\n",
    "[return to the plan](#0) "
   ]
  },
  {
   "cell_type": "code",
   "execution_count": 85,
   "id": "dc095684-61ba-4d78-b4ff-a6aceab9372c",
   "metadata": {},
   "outputs": [
    {
     "data": {
      "text/html": [
       "<style>#sk-container-id-1 {color: black;background-color: white;}#sk-container-id-1 pre{padding: 0;}#sk-container-id-1 div.sk-toggleable {background-color: white;}#sk-container-id-1 label.sk-toggleable__label {cursor: pointer;display: block;width: 100%;margin-bottom: 0;padding: 0.3em;box-sizing: border-box;text-align: center;}#sk-container-id-1 label.sk-toggleable__label-arrow:before {content: \"▸\";float: left;margin-right: 0.25em;color: #696969;}#sk-container-id-1 label.sk-toggleable__label-arrow:hover:before {color: black;}#sk-container-id-1 div.sk-estimator:hover label.sk-toggleable__label-arrow:before {color: black;}#sk-container-id-1 div.sk-toggleable__content {max-height: 0;max-width: 0;overflow: hidden;text-align: left;background-color: #f0f8ff;}#sk-container-id-1 div.sk-toggleable__content pre {margin: 0.2em;color: black;border-radius: 0.25em;background-color: #f0f8ff;}#sk-container-id-1 input.sk-toggleable__control:checked~div.sk-toggleable__content {max-height: 200px;max-width: 100%;overflow: auto;}#sk-container-id-1 input.sk-toggleable__control:checked~label.sk-toggleable__label-arrow:before {content: \"▾\";}#sk-container-id-1 div.sk-estimator input.sk-toggleable__control:checked~label.sk-toggleable__label {background-color: #d4ebff;}#sk-container-id-1 div.sk-label input.sk-toggleable__control:checked~label.sk-toggleable__label {background-color: #d4ebff;}#sk-container-id-1 input.sk-hidden--visually {border: 0;clip: rect(1px 1px 1px 1px);clip: rect(1px, 1px, 1px, 1px);height: 1px;margin: -1px;overflow: hidden;padding: 0;position: absolute;width: 1px;}#sk-container-id-1 div.sk-estimator {font-family: monospace;background-color: #f0f8ff;border: 1px dotted black;border-radius: 0.25em;box-sizing: border-box;margin-bottom: 0.5em;}#sk-container-id-1 div.sk-estimator:hover {background-color: #d4ebff;}#sk-container-id-1 div.sk-parallel-item::after {content: \"\";width: 100%;border-bottom: 1px solid gray;flex-grow: 1;}#sk-container-id-1 div.sk-label:hover label.sk-toggleable__label {background-color: #d4ebff;}#sk-container-id-1 div.sk-serial::before {content: \"\";position: absolute;border-left: 1px solid gray;box-sizing: border-box;top: 0;bottom: 0;left: 50%;z-index: 0;}#sk-container-id-1 div.sk-serial {display: flex;flex-direction: column;align-items: center;background-color: white;padding-right: 0.2em;padding-left: 0.2em;position: relative;}#sk-container-id-1 div.sk-item {position: relative;z-index: 1;}#sk-container-id-1 div.sk-parallel {display: flex;align-items: stretch;justify-content: center;background-color: white;position: relative;}#sk-container-id-1 div.sk-item::before, #sk-container-id-1 div.sk-parallel-item::before {content: \"\";position: absolute;border-left: 1px solid gray;box-sizing: border-box;top: 0;bottom: 0;left: 50%;z-index: -1;}#sk-container-id-1 div.sk-parallel-item {display: flex;flex-direction: column;z-index: 1;position: relative;background-color: white;}#sk-container-id-1 div.sk-parallel-item:first-child::after {align-self: flex-end;width: 50%;}#sk-container-id-1 div.sk-parallel-item:last-child::after {align-self: flex-start;width: 50%;}#sk-container-id-1 div.sk-parallel-item:only-child::after {width: 0;}#sk-container-id-1 div.sk-dashed-wrapped {border: 1px dashed gray;margin: 0 0.4em 0.5em 0.4em;box-sizing: border-box;padding-bottom: 0.4em;background-color: white;}#sk-container-id-1 div.sk-label label {font-family: monospace;font-weight: bold;display: inline-block;line-height: 1.2em;}#sk-container-id-1 div.sk-label-container {text-align: center;}#sk-container-id-1 div.sk-container {/* jupyter's `normalize.less` sets `[hidden] { display: none; }` but bootstrap.min.css set `[hidden] { display: none !important; }` so we also need the `!important` here to be able to override the default hidden behavior on the sphinx rendered scikit-learn.org. See: https://github.com/scikit-learn/scikit-learn/issues/21755 */display: inline-block !important;position: relative;}#sk-container-id-1 div.sk-text-repr-fallback {display: none;}</style><div id=\"sk-container-id-1\" class=\"sk-top-container\"><div class=\"sk-text-repr-fallback\"><pre>SVC()</pre><b>In a Jupyter environment, please rerun this cell to show the HTML representation or trust the notebook. <br />On GitHub, the HTML representation is unable to render, please try loading this page with nbviewer.org.</b></div><div class=\"sk-container\" hidden><div class=\"sk-item\"><div class=\"sk-estimator sk-toggleable\"><input class=\"sk-toggleable__control sk-hidden--visually\" id=\"sk-estimator-id-1\" type=\"checkbox\" checked><label for=\"sk-estimator-id-1\" class=\"sk-toggleable__label sk-toggleable__label-arrow\">SVC</label><div class=\"sk-toggleable__content\"><pre>SVC()</pre></div></div></div></div></div>"
      ],
      "text/plain": [
       "SVC()"
      ]
     },
     "execution_count": 85,
     "metadata": {},
     "output_type": "execute_result"
    }
   ],
   "source": [
    "# Entrainement d'un modèle SVM sur les données d'entraînement X_ro et y_ro.\n",
    "svm.fit(X_ro, y_ro)"
   ]
  },
  {
   "cell_type": "code",
   "execution_count": 86,
   "id": "9c78255b-6d83-4b6d-b78f-25c948c1d2c2",
   "metadata": {},
   "outputs": [],
   "source": [
    "# Prédiction des étiquettes de classe pour les données de test X_test\n",
    "y_pred = svm.predict(X_test)"
   ]
  },
  {
   "cell_type": "code",
   "execution_count": 87,
   "id": "020be852-5c9d-4b48-b9fa-6724bf370ca1",
   "metadata": {},
   "outputs": [
    {
     "data": {
      "text/html": [
       "<div>\n",
       "<style scoped>\n",
       "    .dataframe tbody tr th:only-of-type {\n",
       "        vertical-align: middle;\n",
       "    }\n",
       "\n",
       "    .dataframe tbody tr th {\n",
       "        vertical-align: top;\n",
       "    }\n",
       "\n",
       "    .dataframe thead th {\n",
       "        text-align: right;\n",
       "    }\n",
       "</style>\n",
       "<table border=\"1\" class=\"dataframe\">\n",
       "  <thead>\n",
       "    <tr style=\"text-align: right;\">\n",
       "      <th>Prédiction</th>\n",
       "      <th>0</th>\n",
       "      <th>1</th>\n",
       "    </tr>\n",
       "    <tr>\n",
       "      <th>Classe réelle</th>\n",
       "      <th></th>\n",
       "      <th></th>\n",
       "    </tr>\n",
       "  </thead>\n",
       "  <tbody>\n",
       "    <tr>\n",
       "      <th>0</th>\n",
       "      <td>9450</td>\n",
       "      <td>2790</td>\n",
       "    </tr>\n",
       "    <tr>\n",
       "      <th>1</th>\n",
       "      <td>638</td>\n",
       "      <td>1664</td>\n",
       "    </tr>\n",
       "  </tbody>\n",
       "</table>\n",
       "</div>"
      ],
      "text/plain": [
       "Prédiction        0     1\n",
       "Classe réelle            \n",
       "0              9450  2790\n",
       "1               638  1664"
      ]
     },
     "metadata": {},
     "output_type": "display_data"
    },
    {
     "name": "stdout",
     "output_type": "stream",
     "text": [
      "\n",
      "\n",
      "Rapport de classification: métriques de performance pour chaque classe\n",
      "\n",
      "\n",
      "                   pre       rec       spe        f1       geo       iba       sup\n",
      "\n",
      "          0       0.94      0.77      0.72      0.85      0.75      0.56     12240\n",
      "          1       0.37      0.72      0.77      0.49      0.75      0.56      2302\n",
      "\n",
      "avg / total       0.85      0.76      0.73      0.79      0.75      0.56     14542\n",
      "\n"
     ]
    }
   ],
   "source": [
    "# Création d'une table de contingence (matrice de confusion) montrant le nombre de prédictions correctes et incorrectes pour chaque classe\n",
    "contingency_table = pd.crosstab(y_test, y_pred, rownames=['Classe réelle'], colnames=['Prédiction'])\n",
    "\n",
    "display(contingency_table)\n",
    "print(\"\\n\")\n",
    "\n",
    "print(\"Rapport de classification: métriques de performance pour chaque classe\")\n",
    "print(\"\\n\")\n",
    "report = classification_report_imbalanced(y_test, y_pred)\n",
    "print(report)"
   ]
  },
  {
   "cell_type": "markdown",
   "id": "3e2b34f6-006a-48c2-bcec-84d3b2504089",
   "metadata": {},
   "source": [
    "#### <b> Analyse :\n",
    "> * En analysant le rapport de classification, nous pouvons conclure que le modèle SVM entraîné sur les données d'entraînement déséquilibrées a une performance moyenne sur les données de test déséquilibrées.\n",
    "> * La métrique de rappel (recall) est relativement élevée pour la classe minoritaire (classe 1), ce qui indique que le modèle est relativement bon à identifier les vrais positifs. \n",
    "> * Cependant, la précision (precision) est relativement faible pour la même classe, ce qui signifie que le modèle peut également produire un grand nombre de faux positifs. \n",
    "> * La métrique F1-score est une mesure harmonique entre la précision et le rappel et est donc une mesure plus équilibrée de la performance globale du modèle. \n",
    "> * <b> Le score F1 est d'environ 0,5 pour la classe 1 minoritaire, cela indique que le modèle peut être amélioré pour mieux l'identifier"
   ]
  },
  {
   "cell_type": "markdown",
   "id": "b7f64d2e-1189-47da-8d66-3deb807b1f68",
   "metadata": {},
   "source": [
    "## 2.2.Classification SVM avec un sous-échantillon aléatoire<a name=\"2.2\"></a>\n",
    "[return to the plan](#0) "
   ]
  },
  {
   "cell_type": "code",
   "execution_count": 88,
   "id": "da709993-1c88-43dd-b6e2-35894bca59d4",
   "metadata": {},
   "outputs": [
    {
     "data": {
      "text/html": [
       "<style>#sk-container-id-2 {color: black;background-color: white;}#sk-container-id-2 pre{padding: 0;}#sk-container-id-2 div.sk-toggleable {background-color: white;}#sk-container-id-2 label.sk-toggleable__label {cursor: pointer;display: block;width: 100%;margin-bottom: 0;padding: 0.3em;box-sizing: border-box;text-align: center;}#sk-container-id-2 label.sk-toggleable__label-arrow:before {content: \"▸\";float: left;margin-right: 0.25em;color: #696969;}#sk-container-id-2 label.sk-toggleable__label-arrow:hover:before {color: black;}#sk-container-id-2 div.sk-estimator:hover label.sk-toggleable__label-arrow:before {color: black;}#sk-container-id-2 div.sk-toggleable__content {max-height: 0;max-width: 0;overflow: hidden;text-align: left;background-color: #f0f8ff;}#sk-container-id-2 div.sk-toggleable__content pre {margin: 0.2em;color: black;border-radius: 0.25em;background-color: #f0f8ff;}#sk-container-id-2 input.sk-toggleable__control:checked~div.sk-toggleable__content {max-height: 200px;max-width: 100%;overflow: auto;}#sk-container-id-2 input.sk-toggleable__control:checked~label.sk-toggleable__label-arrow:before {content: \"▾\";}#sk-container-id-2 div.sk-estimator input.sk-toggleable__control:checked~label.sk-toggleable__label {background-color: #d4ebff;}#sk-container-id-2 div.sk-label input.sk-toggleable__control:checked~label.sk-toggleable__label {background-color: #d4ebff;}#sk-container-id-2 input.sk-hidden--visually {border: 0;clip: rect(1px 1px 1px 1px);clip: rect(1px, 1px, 1px, 1px);height: 1px;margin: -1px;overflow: hidden;padding: 0;position: absolute;width: 1px;}#sk-container-id-2 div.sk-estimator {font-family: monospace;background-color: #f0f8ff;border: 1px dotted black;border-radius: 0.25em;box-sizing: border-box;margin-bottom: 0.5em;}#sk-container-id-2 div.sk-estimator:hover {background-color: #d4ebff;}#sk-container-id-2 div.sk-parallel-item::after {content: \"\";width: 100%;border-bottom: 1px solid gray;flex-grow: 1;}#sk-container-id-2 div.sk-label:hover label.sk-toggleable__label {background-color: #d4ebff;}#sk-container-id-2 div.sk-serial::before {content: \"\";position: absolute;border-left: 1px solid gray;box-sizing: border-box;top: 0;bottom: 0;left: 50%;z-index: 0;}#sk-container-id-2 div.sk-serial {display: flex;flex-direction: column;align-items: center;background-color: white;padding-right: 0.2em;padding-left: 0.2em;position: relative;}#sk-container-id-2 div.sk-item {position: relative;z-index: 1;}#sk-container-id-2 div.sk-parallel {display: flex;align-items: stretch;justify-content: center;background-color: white;position: relative;}#sk-container-id-2 div.sk-item::before, #sk-container-id-2 div.sk-parallel-item::before {content: \"\";position: absolute;border-left: 1px solid gray;box-sizing: border-box;top: 0;bottom: 0;left: 50%;z-index: -1;}#sk-container-id-2 div.sk-parallel-item {display: flex;flex-direction: column;z-index: 1;position: relative;background-color: white;}#sk-container-id-2 div.sk-parallel-item:first-child::after {align-self: flex-end;width: 50%;}#sk-container-id-2 div.sk-parallel-item:last-child::after {align-self: flex-start;width: 50%;}#sk-container-id-2 div.sk-parallel-item:only-child::after {width: 0;}#sk-container-id-2 div.sk-dashed-wrapped {border: 1px dashed gray;margin: 0 0.4em 0.5em 0.4em;box-sizing: border-box;padding-bottom: 0.4em;background-color: white;}#sk-container-id-2 div.sk-label label {font-family: monospace;font-weight: bold;display: inline-block;line-height: 1.2em;}#sk-container-id-2 div.sk-label-container {text-align: center;}#sk-container-id-2 div.sk-container {/* jupyter's `normalize.less` sets `[hidden] { display: none; }` but bootstrap.min.css set `[hidden] { display: none !important; }` so we also need the `!important` here to be able to override the default hidden behavior on the sphinx rendered scikit-learn.org. See: https://github.com/scikit-learn/scikit-learn/issues/21755 */display: inline-block !important;position: relative;}#sk-container-id-2 div.sk-text-repr-fallback {display: none;}</style><div id=\"sk-container-id-2\" class=\"sk-top-container\"><div class=\"sk-text-repr-fallback\"><pre>SVC()</pre><b>In a Jupyter environment, please rerun this cell to show the HTML representation or trust the notebook. <br />On GitHub, the HTML representation is unable to render, please try loading this page with nbviewer.org.</b></div><div class=\"sk-container\" hidden><div class=\"sk-item\"><div class=\"sk-estimator sk-toggleable\"><input class=\"sk-toggleable__control sk-hidden--visually\" id=\"sk-estimator-id-2\" type=\"checkbox\" checked><label for=\"sk-estimator-id-2\" class=\"sk-toggleable__label sk-toggleable__label-arrow\">SVC</label><div class=\"sk-toggleable__content\"><pre>SVC()</pre></div></div></div></div></div>"
      ],
      "text/plain": [
       "SVC()"
      ]
     },
     "execution_count": 88,
     "metadata": {},
     "output_type": "execute_result"
    }
   ],
   "source": [
    "# Entrainement d'un modèle SVM sur les données d'entraînement X_ru, y_ru.\n",
    "svm.fit(X_ru, y_ru)"
   ]
  },
  {
   "cell_type": "code",
   "execution_count": 89,
   "id": "5c1ee9e8-a276-40fd-9301-f07150485a8f",
   "metadata": {},
   "outputs": [],
   "source": [
    "# Prédiction des étiquettes de classe pour les données de test X_test\n",
    "y_pred = svm.predict(X_test)"
   ]
  },
  {
   "cell_type": "code",
   "execution_count": 218,
   "id": "9711929b-8391-4c61-b576-983a9f470380",
   "metadata": {},
   "outputs": [
    {
     "data": {
      "text/html": [
       "<div>\n",
       "<style scoped>\n",
       "    .dataframe tbody tr th:only-of-type {\n",
       "        vertical-align: middle;\n",
       "    }\n",
       "\n",
       "    .dataframe tbody tr th {\n",
       "        vertical-align: top;\n",
       "    }\n",
       "\n",
       "    .dataframe thead th {\n",
       "        text-align: right;\n",
       "    }\n",
       "</style>\n",
       "<table border=\"1\" class=\"dataframe\">\n",
       "  <thead>\n",
       "    <tr style=\"text-align: right;\">\n",
       "      <th>Prédiction</th>\n",
       "      <th>0</th>\n",
       "      <th>1</th>\n",
       "    </tr>\n",
       "    <tr>\n",
       "      <th>Classe réelle</th>\n",
       "      <th></th>\n",
       "      <th></th>\n",
       "    </tr>\n",
       "  </thead>\n",
       "  <tbody>\n",
       "    <tr>\n",
       "      <th>0</th>\n",
       "      <td>9090</td>\n",
       "      <td>3150</td>\n",
       "    </tr>\n",
       "    <tr>\n",
       "      <th>1</th>\n",
       "      <td>643</td>\n",
       "      <td>1659</td>\n",
       "    </tr>\n",
       "  </tbody>\n",
       "</table>\n",
       "</div>"
      ],
      "text/plain": [
       "Prédiction        0     1\n",
       "Classe réelle            \n",
       "0              9090  3150\n",
       "1               643  1659"
      ]
     },
     "metadata": {},
     "output_type": "display_data"
    },
    {
     "name": "stdout",
     "output_type": "stream",
     "text": [
      "\n",
      "\n",
      "Rapport de classification: métriques de performance pour chaque classe\n",
      "\n",
      "\n",
      "                   pre       rec       spe        f1       geo       iba       sup\n",
      "\n",
      "          0       0.93      0.74      0.72      0.83      0.73      0.54     12240\n",
      "          1       0.34      0.72      0.74      0.47      0.73      0.53      2302\n",
      "\n",
      "avg / total       0.84      0.74      0.72      0.77      0.73      0.54     14542\n",
      "\n"
     ]
    }
   ],
   "source": [
    "# Création d'une table de contingence (matrice de confusion) montrant le nombre de prédictions correctes et incorrectes pour chaque classe\n",
    "contingency_table = pd.crosstab(y_test, y_pred, rownames=['Classe réelle'], colnames=['Prédiction'])\n",
    "\n",
    "display(contingency_table)\n",
    "print(\"\\n\")\n",
    "\n",
    "print(\"Rapport de classification: métriques de performance pour chaque classe\")\n",
    "print(\"\\n\")\n",
    "report = classification_report_imbalanced(y_test, y_pred)\n",
    "print(report)"
   ]
  },
  {
   "cell_type": "markdown",
   "id": "e428a538-344e-4675-a4d4-ed362a139943",
   "metadata": {
    "tags": []
   },
   "source": [
    "#### <b> Analyse :\n",
    "> * Le modèle SVM a des performances relativement bonnes pour prédire la classe \"0\" (pas de pluie demain), mais des performances plus faibles pour prédire la classe \"1\" (pluie demain).\n",
    "> * Le modèle a correctement prédit la classe \"0\" pour la grande majorité des échantillons (9130 sur 12240, soit une précision de 0.94), mais il a eu plus de difficulté à prédire la classe \"1\" (seulement 1669 prédictions correctes sur 2302, soit une précision de 0.35).\n",
    "> * <b> Le score F1 est d'environ 0,77 pour la classe 1 minoritaire, cela indique que le modèle est plus performant avec un sous-échantillonage des données\n",
    "    \n",
    "<b> Le risque principal du sous-échantillonnage est de perdre de l'information qui peut être importante pour la prédiction, ce qui nous a conduit à explorer d'autres méthodes d'optimisation, notamment la modification du seuil de classification pour prédire les classes finales à partir des probabilités prédites."
   ]
  },
  {
   "cell_type": "markdown",
   "id": "8f214ca6-5bc0-4267-863a-47aa5b5cf543",
   "metadata": {},
   "source": [
    "## 2.3. Optimisation de la classification SVM avec seuil de prédiction pour améliorer la performance du modèle<a name=\"2.3\"></a>\n",
    "[return to the plan](#0) "
   ]
  },
  {
   "cell_type": "code",
   "execution_count": 169,
   "id": "fcfed193-6d48-45af-b79b-5b5555c1a597",
   "metadata": {},
   "outputs": [],
   "source": [
    "# Instanciation d'un objet SVM avec une fonction de noyau RBF et gamma='scale' et probability= True' pour retourner les probabilité\n",
    "svm = SVC(probability=True, gamma='scale')"
   ]
  },
  {
   "cell_type": "code",
   "execution_count": 170,
   "id": "a0cb6341-1298-4abe-88f4-6ffad553353d",
   "metadata": {},
   "outputs": [
    {
     "data": {
      "text/html": [
       "<style>#sk-container-id-5 {color: black;background-color: white;}#sk-container-id-5 pre{padding: 0;}#sk-container-id-5 div.sk-toggleable {background-color: white;}#sk-container-id-5 label.sk-toggleable__label {cursor: pointer;display: block;width: 100%;margin-bottom: 0;padding: 0.3em;box-sizing: border-box;text-align: center;}#sk-container-id-5 label.sk-toggleable__label-arrow:before {content: \"▸\";float: left;margin-right: 0.25em;color: #696969;}#sk-container-id-5 label.sk-toggleable__label-arrow:hover:before {color: black;}#sk-container-id-5 div.sk-estimator:hover label.sk-toggleable__label-arrow:before {color: black;}#sk-container-id-5 div.sk-toggleable__content {max-height: 0;max-width: 0;overflow: hidden;text-align: left;background-color: #f0f8ff;}#sk-container-id-5 div.sk-toggleable__content pre {margin: 0.2em;color: black;border-radius: 0.25em;background-color: #f0f8ff;}#sk-container-id-5 input.sk-toggleable__control:checked~div.sk-toggleable__content {max-height: 200px;max-width: 100%;overflow: auto;}#sk-container-id-5 input.sk-toggleable__control:checked~label.sk-toggleable__label-arrow:before {content: \"▾\";}#sk-container-id-5 div.sk-estimator input.sk-toggleable__control:checked~label.sk-toggleable__label {background-color: #d4ebff;}#sk-container-id-5 div.sk-label input.sk-toggleable__control:checked~label.sk-toggleable__label {background-color: #d4ebff;}#sk-container-id-5 input.sk-hidden--visually {border: 0;clip: rect(1px 1px 1px 1px);clip: rect(1px, 1px, 1px, 1px);height: 1px;margin: -1px;overflow: hidden;padding: 0;position: absolute;width: 1px;}#sk-container-id-5 div.sk-estimator {font-family: monospace;background-color: #f0f8ff;border: 1px dotted black;border-radius: 0.25em;box-sizing: border-box;margin-bottom: 0.5em;}#sk-container-id-5 div.sk-estimator:hover {background-color: #d4ebff;}#sk-container-id-5 div.sk-parallel-item::after {content: \"\";width: 100%;border-bottom: 1px solid gray;flex-grow: 1;}#sk-container-id-5 div.sk-label:hover label.sk-toggleable__label {background-color: #d4ebff;}#sk-container-id-5 div.sk-serial::before {content: \"\";position: absolute;border-left: 1px solid gray;box-sizing: border-box;top: 0;bottom: 0;left: 50%;z-index: 0;}#sk-container-id-5 div.sk-serial {display: flex;flex-direction: column;align-items: center;background-color: white;padding-right: 0.2em;padding-left: 0.2em;position: relative;}#sk-container-id-5 div.sk-item {position: relative;z-index: 1;}#sk-container-id-5 div.sk-parallel {display: flex;align-items: stretch;justify-content: center;background-color: white;position: relative;}#sk-container-id-5 div.sk-item::before, #sk-container-id-5 div.sk-parallel-item::before {content: \"\";position: absolute;border-left: 1px solid gray;box-sizing: border-box;top: 0;bottom: 0;left: 50%;z-index: -1;}#sk-container-id-5 div.sk-parallel-item {display: flex;flex-direction: column;z-index: 1;position: relative;background-color: white;}#sk-container-id-5 div.sk-parallel-item:first-child::after {align-self: flex-end;width: 50%;}#sk-container-id-5 div.sk-parallel-item:last-child::after {align-self: flex-start;width: 50%;}#sk-container-id-5 div.sk-parallel-item:only-child::after {width: 0;}#sk-container-id-5 div.sk-dashed-wrapped {border: 1px dashed gray;margin: 0 0.4em 0.5em 0.4em;box-sizing: border-box;padding-bottom: 0.4em;background-color: white;}#sk-container-id-5 div.sk-label label {font-family: monospace;font-weight: bold;display: inline-block;line-height: 1.2em;}#sk-container-id-5 div.sk-label-container {text-align: center;}#sk-container-id-5 div.sk-container {/* jupyter's `normalize.less` sets `[hidden] { display: none; }` but bootstrap.min.css set `[hidden] { display: none !important; }` so we also need the `!important` here to be able to override the default hidden behavior on the sphinx rendered scikit-learn.org. See: https://github.com/scikit-learn/scikit-learn/issues/21755 */display: inline-block !important;position: relative;}#sk-container-id-5 div.sk-text-repr-fallback {display: none;}</style><div id=\"sk-container-id-5\" class=\"sk-top-container\"><div class=\"sk-text-repr-fallback\"><pre>SVC(probability=True)</pre><b>In a Jupyter environment, please rerun this cell to show the HTML representation or trust the notebook. <br />On GitHub, the HTML representation is unable to render, please try loading this page with nbviewer.org.</b></div><div class=\"sk-container\" hidden><div class=\"sk-item\"><div class=\"sk-estimator sk-toggleable\"><input class=\"sk-toggleable__control sk-hidden--visually\" id=\"sk-estimator-id-5\" type=\"checkbox\" checked><label for=\"sk-estimator-id-5\" class=\"sk-toggleable__label sk-toggleable__label-arrow\">SVC</label><div class=\"sk-toggleable__content\"><pre>SVC(probability=True)</pre></div></div></div></div></div>"
      ],
      "text/plain": [
       "SVC(probability=True)"
      ]
     },
     "execution_count": 170,
     "metadata": {},
     "output_type": "execute_result"
    }
   ],
   "source": [
    "# Entrainement d'un modèle SVM sur les données d'entraînement X_train, y_train\n",
    "svm.fit(X_train, y_train)        "
   ]
  },
  {
   "cell_type": "markdown",
   "id": "46ce8bdf-13b2-4972-9d69-436e66c579f6",
   "metadata": {},
   "source": [
    "#### 2.3.1 Application d'un seuil de classification à 0.4\n",
    "##### Si raintomorow est prédite avec une probabilité supérieure ou égale à 40 %, la classe finale sera prédite comme 1, sinon elle sera prédite comme 0."
   ]
  },
  {
   "cell_type": "code",
   "execution_count": 171,
   "id": "8fc83348-b575-4b57-aa08-4ac294e0dac3",
   "metadata": {},
   "outputs": [],
   "source": [
    "threshold = 0.4 "
   ]
  },
  {
   "cell_type": "code",
   "execution_count": 172,
   "id": "c9c7751c-2104-41e4-9d24-c1e4229f8ebc",
   "metadata": {},
   "outputs": [],
   "source": [
    "probs = svm.predict_proba(X_test)"
   ]
  },
  {
   "cell_type": "code",
   "execution_count": 173,
   "id": "e16489e7-a639-476d-8e66-51d86438536c",
   "metadata": {},
   "outputs": [],
   "source": [
    "pred_class = (probs[:,1]>=threshold).astype('int')"
   ]
  },
  {
   "cell_type": "code",
   "execution_count": 221,
   "id": "20271580-ef35-42ef-9847-722684a71082",
   "metadata": {},
   "outputs": [
    {
     "data": {
      "text/html": [
       "<div>\n",
       "<style scoped>\n",
       "    .dataframe tbody tr th:only-of-type {\n",
       "        vertical-align: middle;\n",
       "    }\n",
       "\n",
       "    .dataframe tbody tr th {\n",
       "        vertical-align: top;\n",
       "    }\n",
       "\n",
       "    .dataframe thead th {\n",
       "        text-align: right;\n",
       "    }\n",
       "</style>\n",
       "<table border=\"1\" class=\"dataframe\">\n",
       "  <thead>\n",
       "    <tr style=\"text-align: right;\">\n",
       "      <th>Prédiction</th>\n",
       "      <th>0</th>\n",
       "      <th>1</th>\n",
       "    </tr>\n",
       "    <tr>\n",
       "      <th>Classe réelle</th>\n",
       "      <th></th>\n",
       "      <th></th>\n",
       "    </tr>\n",
       "  </thead>\n",
       "  <tbody>\n",
       "    <tr>\n",
       "      <th>0</th>\n",
       "      <td>12204</td>\n",
       "      <td>36</td>\n",
       "    </tr>\n",
       "    <tr>\n",
       "      <th>1</th>\n",
       "      <td>2052</td>\n",
       "      <td>250</td>\n",
       "    </tr>\n",
       "  </tbody>\n",
       "</table>\n",
       "</div>"
      ],
      "text/plain": [
       "Prédiction         0    1\n",
       "Classe réelle            \n",
       "0              12204   36\n",
       "1               2052  250"
      ]
     },
     "metadata": {},
     "output_type": "display_data"
    },
    {
     "name": "stdout",
     "output_type": "stream",
     "text": [
      "\n",
      "\n",
      "Rapport de classification: métriques de performance pour chaque classe\n",
      "\n",
      "\n",
      "                   pre       rec       spe        f1       geo       iba       sup\n",
      "\n",
      "          0       0.86      1.00      0.11      0.92      0.33      0.12     12240\n",
      "          1       0.87      0.11      1.00      0.19      0.33      0.10      2302\n",
      "\n",
      "avg / total       0.86      0.86      0.25      0.81      0.33      0.11     14542\n",
      "\n"
     ]
    }
   ],
   "source": [
    "# Création d'une table de contingence (matrice de confusion) montrant le nombre de prédictions correctes et incorrectes pour chaque classe\n",
    "contingency_table = pd.crosstab(y_test, pred_class, rownames=['Classe réelle'], colnames=['Prédiction'])\n",
    "\n",
    "display(contingency_table)\n",
    "print(\"\\n\")\n",
    "\n",
    "print(\"Rapport de classification: métriques de performance pour chaque classe\")\n",
    "print(\"\\n\")\n",
    "report = classification_report_imbalanced(y_test, pred_class)\n",
    "print(report)\n"
   ]
  },
  {
   "cell_type": "markdown",
   "id": "f49261b9-7f87-48e2-bb0b-b192edea976d",
   "metadata": {},
   "source": [
    "#### <b> Analyse :\n",
    "> * Le rapport de classification montre que le modèle a une précision élevée pour la classe 0 (pas de pluie demain), mais une précision beaucoup plus faible pour la classe 1 (pluie demain). \n",
    "> * Le rappel est similaire pour les deux classes, mais la spécificité est légèrement plus élevée pour la classe 1. \n",
    "> * Le score F1 est plus élevé pour la classe 0 que pour la classe 1. \n",
    "> * La moyenne géométrique et l'exactitude équilibrée sont similaires pour les deux classes et indiquent une performance globale moyenne du modèle. <b> Cela suggère que le modèle a plus de difficulté à prédire les jours avec pluie que les jours sans pluie.\n"
   ]
  },
  {
   "cell_type": "markdown",
   "id": "fd24f49c-f763-4de5-931f-1f40e66b3c28",
   "metadata": {},
   "source": [
    "Le nouveau résultat montre une amélioration légère pour la classe 1 (pluie demain) en termes de rappel et de spécificité, mais la précision est toujours faible. \n",
    "Le seuil de classification pourrait être ajusté pour tenter d'améliorer la précision de la classe 1 au détriment de la précision de la classe 0. "
   ]
  },
  {
   "cell_type": "markdown",
   "id": "acf31771-7d64-40e6-964c-78c0d0b2c182",
   "metadata": {},
   "source": [
    "#### 2.3.2 Impact de l'ajustement du seuil de classification sur la performance du modèle"
   ]
  },
  {
   "cell_type": "code",
   "execution_count": 184,
   "id": "143dcce1-08a5-448b-a76e-af7d591ae041",
   "metadata": {},
   "outputs": [
    {
     "name": "stdout",
     "output_type": "stream",
     "text": [
      " Seuil  Précision (classe 0)  Rappel (classe 0)  F1-score (classe 0)  Précision (classe 1)  Rappel (classe 1)  F1-score (classe 1)\n",
      "   0.1              0.953542           0.680801             0.794413              0.326728           0.823632             0.467859\n",
      "   0.2              0.931762           0.829984             0.877933              0.428140           0.676803             0.524491\n",
      "   0.3              0.916778           0.897304             0.906936              0.509368           0.566898             0.536595\n",
      "   0.4              0.905867           0.934804             0.920108              0.582418           0.483493             0.528365\n",
      "   0.5              0.896757           0.958007             0.926371              0.649386           0.413553             0.505308\n",
      "   0.6              0.888226           0.972549             0.928477              0.705263           0.349262             0.467170\n",
      "   0.7              0.877014           0.982843             0.926918              0.745455           0.267159             0.393348\n",
      "   0.8              0.867678           0.991095             0.925289              0.805704           0.196351             0.315753\n",
      "   0.9              0.856061           0.997059             0.921196              0.874126           0.108601             0.193199\n"
     ]
    }
   ],
   "source": [
    "# Liste des seuils de classification \n",
    "thresholds = np.arange(0.1, 1.0, 0.1) \n",
    "\n",
    "# Initialisation des listes pour stocker les scores\n",
    "f1_scores_0 = []\n",
    "f1_scores_1 = []\n",
    "precisions_0 = []\n",
    "precisions_1 = []\n",
    "recalls_0 = []\n",
    "recalls_1 = []\n",
    "\n",
    "# Initialisation du DataFrame\n",
    "columns = ['Seuil', 'Précision (classe 0)', 'Rappel (classe 0)', 'F1-score (classe 0)', 'Précision (classe 1)', 'Rappel (classe 1)', 'F1-score (classe 1)']\n",
    "df_report_thresholds = pd.DataFrame(columns=columns)\n",
    "\n",
    "for threshold in thresholds:\n",
    "    # Prédiction des classes avec le seuil donné\n",
    "    probs = svm.predict_proba(X_test)\n",
    "    pred_class = (probs[:,1]>=threshold).astype('int')\n",
    "    \n",
    "    # Rapport de classification pour les deux classes\n",
    "    report_dict = classification_report_imbalanced(y_test, pred_class, output_dict=True)\n",
    "    row = {\n",
    "        'Seuil': threshold,\n",
    "        'Précision (classe 0)': report_dict[0]['pre'],\n",
    "        'Rappel (classe 0)': report_dict[0]['rec'],\n",
    "        'F1-score (classe 0)': report_dict[0]['f1'],\n",
    "        'Précision (classe 1)': report_dict[1]['pre'],\n",
    "        'Rappel (classe 1)': report_dict[1]['rec'],\n",
    "        'F1-score (classe 1)': report_dict[1]['f1']\n",
    "    }\n",
    "    df_report_thresholds = pd.concat([df_report_thresholds, pd.DataFrame(row, index=[0])], ignore_index=True)\n",
    "\n",
    "# Affichage du DataFrame sous forme de tableau\n",
    "print(df_report_thresholds.to_string(index=False))"
   ]
  },
  {
   "cell_type": "code",
   "execution_count": 237,
   "id": "1cd9294e-eb52-46d9-8b2a-21544e0e03c5",
   "metadata": {},
   "outputs": [
    {
     "data": {
      "image/png": "[encoded data removed]",
      "text/plain": [
       "<Figure size 1700x600 with 2 Axes>"
      ]
     },
     "metadata": {},
     "output_type": "display_data"
    }
   ],
   "source": [
    "fig, (ax1, ax2) = plt.subplots(1, 2, figsize=(17, 6))\n",
    "\n",
    "sns.lineplot(x='Seuil', y='Précision (classe 0)', data=df_report_thresholds, label='Precision', ax=ax1)\n",
    "sns.lineplot(x='Seuil', y='Rappel (classe 0)', data=df_report_thresholds, label='Recall', ax=ax1)\n",
    "sns.lineplot(x='Seuil', y='F1-score (classe 0)', data=df_report_thresholds, label='F1-score', ax=ax1)\n",
    "ax1.set_xlabel('Threshold')\n",
    "ax1.set_ylabel('Score')\n",
    "ax1.set_title(\"No Rain tomorrow (classe 0)\")\n",
    "ax1.legend()\n",
    "\n",
    "sns.lineplot(x='Seuil', y='Précision (classe 1)', data=df_report_thresholds, label='Precision', ax=ax2)\n",
    "sns.lineplot(x='Seuil', y='Rappel (classe 1)', data=df_report_thresholds, label='Recall', ax=ax2)\n",
    "sns.lineplot(x='Seuil', y='F1-score (classe 1)', data=df_report_thresholds, label='F1-score', ax=ax2)\n",
    "ax2.set_xlabel('Threshold')\n",
    "ax2.set_ylabel('Score')\n",
    "ax2.set_title(\"Rain tomorrow (classe 1)\")\n",
    "ax2.legend()\n",
    "\n",
    "fig.tight_layout()\n",
    "plt.show()"
   ]
  },
  {
   "cell_type": "markdown",
   "id": "3be6ea01-2cc8-4745-ba2f-a957bdae3947",
   "metadata": {
    "tags": []
   },
   "source": [
    "#### <b> Analyse :\n",
    "\n",
    "<b> En ce qui concerne les performances maximales atteintes pour la classe 1, la précision maximale est de 0,81, le rappel maximal est de 0,50 et le F1-score maximal est de 0,62. Ces valeurs montrent que le modèle a des difficultés à prédire la pluie le lendemain (raintomorrow).\n",
    "> En analysant les résultats pour la classe 1, on peut noter que la précision, le rappel et le F1-score augmentent tous avec la valeur du seuil jusqu'à un certain point, après quoi ils commencent à diminuer. Cela suggère qu'il existe un seuil optimal pour la classe 1 au-delà duquel le modèle commence à perdre en performances.\n",
    "> \n",
    "> Le rappel pour la classe 1 est assez faible, ce qui signifie que le modèle manque de nombreuses prédictions positives (raintomorrow = 1).  \n"
   ]
  },
  {
   "cell_type": "markdown",
   "id": "ef6f736a-f20f-4f3b-bdcd-d2c1a22979a6",
   "metadata": {},
   "source": [
    "<b> Ce qui nous conduit à rechercher et à tester un autre modèle tel que BalancedRandomForestClassifier"
   ]
  },
  {
   "cell_type": "markdown",
   "id": "0b418f19-144a-4efd-b82d-c197a07153ce",
   "metadata": {},
   "source": [
    "# 3. Application d'un modèle Balanced Random Forest Classifier<a name=\"3\"></a>\n",
    "[return to the plan](#0)  "
   ]
  },
  {
   "cell_type": "code",
   "execution_count": 227,
   "id": "8d3846da-1e0b-44bf-9247-e5b8a3d62ee2",
   "metadata": {},
   "outputs": [],
   "source": [
    "# Création d'une instance de la classe BalancedRandomForestClassifier\n",
    "bclf = BalancedRandomForestClassifier()\n",
    "\n",
    "# Entraînement du modèle sur les données d'entraînement\n",
    "bclf.fit(X_train, y_train)\n",
    "\n",
    "# Prédiction des étiquettes de classe pour les données de test en utilisant le modèle entraîné\n",
    "y_pred = bclf.predict(X_test)"
   ]
  },
  {
   "cell_type": "code",
   "execution_count": 233,
   "id": "8135cc0c-0967-4cf6-98bc-2acb026a67e3",
   "metadata": {},
   "outputs": [
    {
     "data": {
      "text/html": [
       "<div>\n",
       "<style scoped>\n",
       "    .dataframe tbody tr th:only-of-type {\n",
       "        vertical-align: middle;\n",
       "    }\n",
       "\n",
       "    .dataframe tbody tr th {\n",
       "        vertical-align: top;\n",
       "    }\n",
       "\n",
       "    .dataframe thead th {\n",
       "        text-align: right;\n",
       "    }\n",
       "</style>\n",
       "<table border=\"1\" class=\"dataframe\">\n",
       "  <thead>\n",
       "    <tr style=\"text-align: right;\">\n",
       "      <th>Prédiction</th>\n",
       "      <th>0</th>\n",
       "      <th>1</th>\n",
       "    </tr>\n",
       "    <tr>\n",
       "      <th>Classe réelle</th>\n",
       "      <th></th>\n",
       "      <th></th>\n",
       "    </tr>\n",
       "  </thead>\n",
       "  <tbody>\n",
       "    <tr>\n",
       "      <th>0</th>\n",
       "      <td>9735</td>\n",
       "      <td>2505</td>\n",
       "    </tr>\n",
       "    <tr>\n",
       "      <th>1</th>\n",
       "      <td>457</td>\n",
       "      <td>1845</td>\n",
       "    </tr>\n",
       "  </tbody>\n",
       "</table>\n",
       "</div>"
      ],
      "text/plain": [
       "Prédiction        0     1\n",
       "Classe réelle            \n",
       "0              9735  2505\n",
       "1               457  1845"
      ]
     },
     "metadata": {},
     "output_type": "display_data"
    },
    {
     "name": "stdout",
     "output_type": "stream",
     "text": [
      "\n",
      "\n",
      "Rapport de classification: métriques de performance pour chaque classe\n",
      "\n",
      "\n",
      "                   pre       rec       spe        f1       geo       iba       sup\n",
      "\n",
      "          0       0.96      0.80      0.80      0.87      0.80      0.64     12240\n",
      "          1       0.42      0.80      0.80      0.55      0.80      0.64      2302\n",
      "\n",
      "avg / total       0.87      0.80      0.80      0.82      0.80      0.64     14542\n",
      "\n"
     ]
    }
   ],
   "source": [
    "# Création d'une table de contingence (matrice de confusion) montrant le nombre de prédictions correctes et incorrectes pour chaque classe\n",
    "contingency_table = pd.crosstab(y_test, y_pred, rownames=['Classe réelle'], colnames=['Prédiction'])\n",
    "\n",
    "display(contingency_table)\n",
    "print(\"\\n\")\n",
    "\n",
    "print(\"Rapport de classification: métriques de performance pour chaque classe\")\n",
    "print(\"\\n\")\n",
    "report = classification_report_imbalanced(y_test, y_pred)\n",
    "print(report)"
   ]
  },
  {
   "cell_type": "markdown",
   "id": "b5530816-15eb-4f21-9225-c5ce31f3b05d",
   "metadata": {},
   "source": [
    "#### <b> Analyse :\n",
    "> En ce qui concerne les performances maximales atteintes pour la classe 1, la précision maximale est de 0,81, le rappel maximal est de 0,50 et le F1-score maximal est de 0,62. Ces valeurs montrent que le modèle a des difficultés à prédire la pluie le lendemain (raintomorrow).\n",
    "> D'après la matrice de confusion, le modèle a prédit correctement 9735 observations de la classe 0 (pas de pluie demain) et 1845 observations de la classe 1 (pluie demain), tandis que 2505 observations de la classe 1 ont été mal classées en classe 0 et 457 observations de la classe 0 ont été mal classées en classe 1.\n",
    ">\n",
    ">Le rapport de classification déséquilibré montre que le modèle a une précision élevée pour la classe 0 (96%) et une précision faible pour la classe 1 (42%). Cela signifie que le modèle est très précis pour prédire les observations de la classe 0, mais qu'il a tendance à faire plus d'erreurs pour prédire les observations de la classe 1. Le rappel est élevé pour la classe 1 (80%), ce qui indique que le modèle a identifié la plupart des observations de la classe 1, mais le rappel est faible pour la classe 0 (80%), ce qui indique que le modèle a manqué certaines observations de la classe 0. Le score F1 est de 0,55 pour la classe 1, ce qui signifie que le modèle a un compromis entre la précision et le rappel pour cette classe.\n",
    ">\n",
    "\n",
    "<b> En fin de compte, le modèle BalancedRandomForestClassifier semble mieux performant que le modèle SVM dans la prédiction de la classe déséquilibrée. Cependant, le modèle a encore besoin d'être amélioré pour être plus performant pour la classe 1."
   ]
  },
  {
   "cell_type": "markdown",
   "id": "b59ae850-98a4-4f9b-9b74-6996472c92d1",
   "metadata": {},
   "source": [
    "# 4.Conclusion <a name=\"4\"></a>\n",
    "[return to the plan](#0)  "
   ]
  },
  {
   "cell_type": "markdown",
   "id": "c640de7c-a17b-4cc2-bf8d-b399daef2852",
   "metadata": {
    "tags": []
   },
   "source": [
    "> <b> En analysant les différentes approches, nous pouvons conclure que :\n",
    "> * En utilisant un jeu de données déséquilibré avec un modèle SVM, nous avons obtenu des performances moyennes sur les données de test déséquilibrées. Bien que le rappel pour la classe minoritaire était relativement élevé, la précision était relativement faible, indiquant que le modèle pouvait produire un grand nombre de faux positifs. Cela montre l'importance d'utiliser des techniques de sur-échantillonnage et de sous-échantillonnage pour équilibrer les classes du jeu de données.\n",
    "> \n",
    "> * En utilisant la méthode de sur-échantillonnage aléatoire avec RandomOverSampler(), nous avons équilibré les classes et entraîné un modèle SVM avec des performances un peu améliorées. Le modèle a réussi à prédire la classe minoritaire avec une précision et un rappel plus raisonnables, avec un score F1 amélioré.\n",
    "> \n",
    "> * Cependant, en utilisant la méthode de sous-échantillonnage aléatoire avec RandomUnderSampler(), le modèle SVM a montré des performances relativement similaires à celles du modèle déséquilibré. Bien que le rappel pour la classe minoritaire ait été relativement élevé, la précision était relativement faible, indiquant que le modèle pouvait produire un grand nombre de faux positifs.\n",
    "> \n",
    "> On rappelle, comme indiqué au dessus, que le modèle BalancedRandomForestClassifier semble mieux performant que le modèle SVM dans la prédiction de la classe déséquilibrée. Cependant, le modèle a encore besoin d'être amélioré pour être plus performant pour la classe 1. C'est ce que nous proposons dans les notebooks suivants."
   ]
  }
 ],
 "metadata": {
  "kernelspec": {
   "display_name": "venv_weatherforecast",
   "language": "python",
   "name": "venv_weatherforecast"
  },
  "language_info": {
   "codemirror_mode": {
    "name": "ipython",
    "version": 3
   },
   "file_extension": ".py",
   "mimetype": "text/x-python",
   "name": "python",
   "nbconvert_exporter": "python",
   "pygments_lexer": "ipython3",
   "version": "3.10.9"
  }
 },
 "nbformat": 4,
 "nbformat_minor": 5
}
