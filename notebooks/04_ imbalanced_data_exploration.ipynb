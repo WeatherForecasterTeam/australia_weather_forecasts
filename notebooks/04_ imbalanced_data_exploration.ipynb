{
 "cells": [
  {
   "cell_type": "markdown",
   "id": "deda7a95",
   "metadata": {
    "id": "3bdcdf99-0d73-463f-a6f7-9adae1276d5c"
   },
   "source": [
    "## <b>Weather forecast project "
   ]
  },
  {
   "cell_type": "markdown",
   "id": "85f46bc0",
   "metadata": {
    "id": "ffbbda97-5d8a-493c-b002-4b0c61aebeec"
   },
   "source": [
    "# <b>04 - IMBALANCED DATA EXPLORATION"
   ]
  },
  {
   "cell_type": "markdown",
   "id": "6e7d117f",
   "metadata": {
    "id": "fa0c8781-cbaf-4ae7-bf9f-4ec9a6c18a28"
   },
   "source": [
    "# Rain in Australia\n",
    "---\n",
    "#### Dataset source:\n",
    "\n",
    "Le dataset issu de l'étape de feature engineering est utilisé dans ce notebook : \n",
    "    \n",
    "    - data_features.csv contenant les données nettoyées et préparées sur la base du dataset initiale"
   ]
  },
  {
   "cell_type": "markdown",
   "id": "373176a7",
   "metadata": {
    "id": "e2f283e4-6c2f-4d5c-8651-b8618be0ed85"
   },
   "source": [
    "#### Context:\n",
    "Brève description de ce notebook :\n",
    "\n",
    "> <div class= \"alert alert-block alert-info\"> Cette partie de l'analyse se concentre sur les techniques utilisées pour <b>traiter les jeux de données déséquilibrés</b>, comme cela a été identifié dans la partie précédente consacrée à l'exploration des données. Afin de résoudre ce problème, nous avons appliqué des techniques de sur-échantillonnage et de sous-échantillonnage aléatoires sur un modèle SVM simple ainsi que sur un classificateur balancé.\n",
    "\n",
    "    Le but de ces techniques est d'équilibrer la distribution de classe dans le jeu de données afin de garantir des prévisions précises pour toutes les classes et éviter que le modèle ne se concentre sur la classe majoritaire. Les performances de chaque modèle ont été évaluées en utilisant plusieurs mesures de classification telles que la précision, le rappel et le F1-score.\n",
    "    \n",
    "</div>"
   ]
  },
  {
   "cell_type": "markdown",
   "id": "f13f3d52",
   "metadata": {
    "id": "31b36bbe-5692-4e51-8f6f-d37a394599ba"
   },
   "source": [
    "# [Table of contents](#0)<a name=0></a> \n",
    "\n",
    "1. [Préparation des données](#1)\n",
    "\n",
    "    1.1 [Séparation des données en variables explicatives et variable cible](#1.1)\n",
    "    \n",
    "    1.2 [Fractionnement des données en ensemble d'entraînement et de test](#1.2)\n",
    "    \n",
    "    1.3 [Oversampling](#1.3)\n",
    "    \n",
    "    1.4 [Undersampling](#1.4)\n",
    "    \n",
    "2. [Application d'un modèle SVM](#2)\n",
    "\n",
    "    2.1 [Classification SVM avec un sur-échantillon aléatoire ](#2.1)\n",
    "    \n",
    "    2.2 [Classification SVM avec un sous-échantillon aléatoire](#2.2)\n",
    "    \n",
    "    2.3 [Optimisation de la classification SVM avec seuil de prédiction pour améliorer la performance du modèle](#2.3)\n",
    "    \n",
    "3. [Application d'un modèle Balanced Random Forest Classifier](#3)\n",
    "\n",
    "4. [Conclusion](#4)"
   ]
  },
  {
   "cell_type": "markdown",
   "id": "48afcfca",
   "metadata": {
    "id": "85c5ec93-321a-49dc-af90-714a6a977b4f"
   },
   "source": [
    "#### Packages nécessaires au notebook:"
   ]
  },
  {
   "cell_type": "code",
   "execution_count": 23,
   "id": "fc84fbdc",
   "metadata": {
    "executionInfo": {
     "elapsed": 941,
     "status": "ok",
     "timestamp": 1683468893915,
     "user": {
      "displayName": "Ben-Mekki AYADI (Ben)",
      "userId": "10473218066512117106"
     },
     "user_tz": -120
    },
    "id": "942af876-6e11-4441-b86f-dd76f211bc3a"
   },
   "outputs": [],
   "source": [
    "import pandas as pd\n",
    "import numpy as np\n",
    "import seaborn as sns\n",
    "import matplotlib.pyplot as plt\n",
    "\n",
    "from sklearn.model_selection import train_test_split\n",
    "\n",
    "from imblearn.over_sampling import RandomOverSampler\n",
    "from imblearn.under_sampling import RandomUnderSampler\n",
    "from imblearn.ensemble import BalancedRandomForestClassifier\n",
    "\n",
    "from imblearn.metrics import classification_report_imbalanced\n",
    "from sklearn.metrics import f1_score\n",
    "\n",
    "from sklearn.ensemble import RandomForestClassifier\n",
    "from sklearn.metrics import balanced_accuracy_score\n",
    "\n",
    "from sklearn.metrics import confusion_matrix\n",
    "\n",
    "from sklearn.svm import SVC\n",
    "\n",
    "# from explainerdashboard import ClassifierExplainer\n",
    "import warnings\n",
    "warnings.filterwarnings(\"ignore\", category=DeprecationWarning)"
   ]
  },
  {
   "cell_type": "code",
   "execution_count": 3,
   "id": "bba206b7",
   "metadata": {
    "executionInfo": {
     "elapsed": 204,
     "status": "ok",
     "timestamp": 1683468894783,
     "user": {
      "displayName": "Ben-Mekki AYADI (Ben)",
      "userId": "10473218066512117106"
     },
     "user_tz": -120
    },
    "id": "4d3edd89-53b4-4b78-ada3-a3861ecd37b8"
   },
   "outputs": [],
   "source": [
    "df = pd.read_csv(\"../data/data_features.csv\", index_col=0)"
   ]
  },
  {
   "cell_type": "code",
   "execution_count": 4,
   "id": "80143cf7",
   "metadata": {
    "colab": {
     "base_uri": "https://localhost:8080/",
     "height": 300
    },
    "executionInfo": {
     "elapsed": 204,
     "status": "ok",
     "timestamp": 1683468894787,
     "user": {
      "displayName": "Ben-Mekki AYADI (Ben)",
      "userId": "10473218066512117106"
     },
     "user_tz": -120
    },
    "id": "5302b811-2878-4f5e-94eb-e88807af766e",
    "outputId": "cac43b8e-167c-47f6-98df-b2260c35bd86"
   },
   "outputs": [
    {
     "data": {
      "text/html": [
       "<div>\n",
       "<style scoped>\n",
       "    .dataframe tbody tr th:only-of-type {\n",
       "        vertical-align: middle;\n",
       "    }\n",
       "\n",
       "    .dataframe tbody tr th {\n",
       "        vertical-align: top;\n",
       "    }\n",
       "\n",
       "    .dataframe thead th {\n",
       "        text-align: right;\n",
       "    }\n",
       "</style>\n",
       "<table border=\"1\" class=\"dataframe\">\n",
       "  <thead>\n",
       "    <tr style=\"text-align: right;\">\n",
       "      <th></th>\n",
       "      <th>sunshine</th>\n",
       "      <th>windgustspeed</th>\n",
       "      <th>humidity3pm</th>\n",
       "      <th>pressure3pm</th>\n",
       "      <th>year</th>\n",
       "      <th>windspeed3pm</th>\n",
       "      <th>temp_amplitude</th>\n",
       "      <th>cloud3pm</th>\n",
       "      <th>rainfall</th>\n",
       "      <th>climat</th>\n",
       "      <th>...</th>\n",
       "      <th>cloud9am</th>\n",
       "      <th>winddir9am_sin</th>\n",
       "      <th>latitude</th>\n",
       "      <th>month</th>\n",
       "      <th>geography</th>\n",
       "      <th>raintoday</th>\n",
       "      <th>evaporation</th>\n",
       "      <th>windspeed9am</th>\n",
       "      <th>windgustdir_cos</th>\n",
       "      <th>raintomorrow</th>\n",
       "    </tr>\n",
       "  </thead>\n",
       "  <tbody>\n",
       "    <tr>\n",
       "      <th>0</th>\n",
       "      <td>10.9</td>\n",
       "      <td>44.0</td>\n",
       "      <td>22.0</td>\n",
       "      <td>1007.1</td>\n",
       "      <td>2008</td>\n",
       "      <td>24.0</td>\n",
       "      <td>9.5</td>\n",
       "      <td>7.0</td>\n",
       "      <td>0.6</td>\n",
       "      <td>0</td>\n",
       "      <td>...</td>\n",
       "      <td>8.0</td>\n",
       "      <td>1.224647e-16</td>\n",
       "      <td>-36.065766</td>\n",
       "      <td>12</td>\n",
       "      <td>0</td>\n",
       "      <td>0</td>\n",
       "      <td>7.6</td>\n",
       "      <td>20.0</td>\n",
       "      <td>-1.000000</td>\n",
       "      <td>0</td>\n",
       "    </tr>\n",
       "    <tr>\n",
       "      <th>1</th>\n",
       "      <td>12.9</td>\n",
       "      <td>44.0</td>\n",
       "      <td>25.0</td>\n",
       "      <td>1007.8</td>\n",
       "      <td>2008</td>\n",
       "      <td>22.0</td>\n",
       "      <td>17.7</td>\n",
       "      <td>1.0</td>\n",
       "      <td>0.0</td>\n",
       "      <td>0</td>\n",
       "      <td>...</td>\n",
       "      <td>1.0</td>\n",
       "      <td>9.238795e-01</td>\n",
       "      <td>-36.065766</td>\n",
       "      <td>12</td>\n",
       "      <td>0</td>\n",
       "      <td>0</td>\n",
       "      <td>12.0</td>\n",
       "      <td>4.0</td>\n",
       "      <td>-0.923880</td>\n",
       "      <td>0</td>\n",
       "    </tr>\n",
       "    <tr>\n",
       "      <th>2</th>\n",
       "      <td>8.0</td>\n",
       "      <td>46.0</td>\n",
       "      <td>30.0</td>\n",
       "      <td>1008.7</td>\n",
       "      <td>2008</td>\n",
       "      <td>26.0</td>\n",
       "      <td>12.8</td>\n",
       "      <td>2.0</td>\n",
       "      <td>0.0</td>\n",
       "      <td>0</td>\n",
       "      <td>...</td>\n",
       "      <td>7.0</td>\n",
       "      <td>1.224647e-16</td>\n",
       "      <td>-36.065766</td>\n",
       "      <td>12</td>\n",
       "      <td>0</td>\n",
       "      <td>0</td>\n",
       "      <td>8.0</td>\n",
       "      <td>19.0</td>\n",
       "      <td>-0.923880</td>\n",
       "      <td>0</td>\n",
       "    </tr>\n",
       "    <tr>\n",
       "      <th>3</th>\n",
       "      <td>2.2</td>\n",
       "      <td>24.0</td>\n",
       "      <td>16.0</td>\n",
       "      <td>1012.8</td>\n",
       "      <td>2008</td>\n",
       "      <td>9.0</td>\n",
       "      <td>18.8</td>\n",
       "      <td>6.0</td>\n",
       "      <td>0.0</td>\n",
       "      <td>0</td>\n",
       "      <td>...</td>\n",
       "      <td>8.0</td>\n",
       "      <td>-7.071068e-01</td>\n",
       "      <td>-36.065766</td>\n",
       "      <td>12</td>\n",
       "      <td>0</td>\n",
       "      <td>0</td>\n",
       "      <td>10.0</td>\n",
       "      <td>11.0</td>\n",
       "      <td>0.707107</td>\n",
       "      <td>0</td>\n",
       "    </tr>\n",
       "    <tr>\n",
       "      <th>4</th>\n",
       "      <td>6.7</td>\n",
       "      <td>41.0</td>\n",
       "      <td>33.0</td>\n",
       "      <td>1006.0</td>\n",
       "      <td>2008</td>\n",
       "      <td>20.0</td>\n",
       "      <td>14.8</td>\n",
       "      <td>8.0</td>\n",
       "      <td>1.0</td>\n",
       "      <td>0</td>\n",
       "      <td>...</td>\n",
       "      <td>7.0</td>\n",
       "      <td>3.826834e-01</td>\n",
       "      <td>-36.065766</td>\n",
       "      <td>12</td>\n",
       "      <td>0</td>\n",
       "      <td>0</td>\n",
       "      <td>4.8</td>\n",
       "      <td>7.0</td>\n",
       "      <td>-1.000000</td>\n",
       "      <td>0</td>\n",
       "    </tr>\n",
       "  </tbody>\n",
       "</table>\n",
       "<p>5 rows × 24 columns</p>\n",
       "</div>"
      ],
      "text/plain": [
       "   sunshine  windgustspeed  humidity3pm  pressure3pm  year  windspeed3pm  \\\n",
       "0      10.9           44.0         22.0       1007.1  2008          24.0   \n",
       "1      12.9           44.0         25.0       1007.8  2008          22.0   \n",
       "2       8.0           46.0         30.0       1008.7  2008          26.0   \n",
       "3       2.2           24.0         16.0       1012.8  2008           9.0   \n",
       "4       6.7           41.0         33.0       1006.0  2008          20.0   \n",
       "\n",
       "   temp_amplitude  cloud3pm  rainfall  climat  ...  cloud9am  winddir9am_sin  \\\n",
       "0             9.5       7.0       0.6       0  ...       8.0    1.224647e-16   \n",
       "1            17.7       1.0       0.0       0  ...       1.0    9.238795e-01   \n",
       "2            12.8       2.0       0.0       0  ...       7.0    1.224647e-16   \n",
       "3            18.8       6.0       0.0       0  ...       8.0   -7.071068e-01   \n",
       "4            14.8       8.0       1.0       0  ...       7.0    3.826834e-01   \n",
       "\n",
       "    latitude  month  geography  raintoday  evaporation  windspeed9am  \\\n",
       "0 -36.065766     12          0          0          7.6          20.0   \n",
       "1 -36.065766     12          0          0         12.0           4.0   \n",
       "2 -36.065766     12          0          0          8.0          19.0   \n",
       "3 -36.065766     12          0          0         10.0          11.0   \n",
       "4 -36.065766     12          0          0          4.8           7.0   \n",
       "\n",
       "   windgustdir_cos  raintomorrow  \n",
       "0        -1.000000             0  \n",
       "1        -0.923880             0  \n",
       "2        -0.923880             0  \n",
       "3         0.707107             0  \n",
       "4        -1.000000             0  \n",
       "\n",
       "[5 rows x 24 columns]"
      ]
     },
     "execution_count": 4,
     "metadata": {},
     "output_type": "execute_result"
    }
   ],
   "source": [
    "df.head()"
   ]
  },
  {
   "cell_type": "markdown",
   "id": "d34c3289",
   "metadata": {
    "id": "23bc7f3d-f9cd-4862-a2ab-5377a1e57e21"
   },
   "source": [
    "# 1.Préparation des données<a name=1></a>\n",
    "[return to the plan](#1)  "
   ]
  },
  {
   "cell_type": "markdown",
   "id": "5408a634",
   "metadata": {
    "id": "311560c2-08de-44ff-8991-23e3b4236368"
   },
   "source": [
    "## 1.1 Séparation des données en variables explicatives et variable cible <a name=\"1.1\"></a>\n",
    "[return to the plan](#0)  "
   ]
  },
  {
   "cell_type": "code",
   "execution_count": 9,
   "id": "f05c4deb",
   "metadata": {
    "executionInfo": {
     "elapsed": 194,
     "status": "ok",
     "timestamp": 1683468894792,
     "user": {
      "displayName": "Ben-Mekki AYADI (Ben)",
      "userId": "10473218066512117106"
     },
     "user_tz": -120
    },
    "id": "19063974-4e48-46c1-8ed1-45f583e07db1"
   },
   "outputs": [],
   "source": [
    "X = df.drop(['raintomorrow'],axis=1)\n",
    "y = df['raintomorrow']"
   ]
  },
  {
   "cell_type": "code",
   "execution_count": 10,
   "id": "8ab65f23",
   "metadata": {
    "colab": {
     "base_uri": "https://localhost:8080/"
    },
    "executionInfo": {
     "elapsed": 194,
     "status": "ok",
     "timestamp": 1683468894796,
     "user": {
      "displayName": "Ben-Mekki AYADI (Ben)",
      "userId": "10473218066512117106"
     },
     "user_tz": -120
    },
    "id": "d508214b-539f-4686-a95d-388c91148a07",
    "outputId": "e0f33b88-7006-4abc-cc86-3cd9011125af"
   },
   "outputs": [
    {
     "data": {
      "text/plain": [
       "0    0.840098\n",
       "1    0.159902\n",
       "Name: raintomorrow, dtype: float64"
      ]
     },
     "execution_count": 10,
     "metadata": {},
     "output_type": "execute_result"
    }
   ],
   "source": [
    "y.value_counts(normalize=True)"
   ]
  },
  {
   "cell_type": "markdown",
   "id": "0bb5ea5c",
   "metadata": {
    "id": "a53d6b5e-a008-4f4b-a680-d9687e884717"
   },
   "source": [
    "> Dans ce dataset, 16% des données correspondent à une prédiction de pluie le lendemain, ce qui signifie qu'un modèle naïf qui prédit qu'il ne pleut pas systématiquement, obtiendrait déjà un score de 84 % d'accuracy."
   ]
  },
  {
   "cell_type": "markdown",
   "id": "33079f07",
   "metadata": {
    "id": "0209d115-6366-4df4-988a-3a4cfc4eec2b"
   },
   "source": [
    "## 1.2 Fractionnement des données en ensemble d'entraînement et de test <a name=\"1.2\"></a>\n",
    "[return to the plan](#0)  "
   ]
  },
  {
   "cell_type": "code",
   "execution_count": 11,
   "id": "f0989f27",
   "metadata": {
    "executionInfo": {
     "elapsed": 182,
     "status": "ok",
     "timestamp": 1683468894801,
     "user": {
      "displayName": "Ben-Mekki AYADI (Ben)",
      "userId": "10473218066512117106"
     },
     "user_tz": -120
    },
    "id": "5ebeabaa-f593-46a1-ab3b-c00fc8e5d914"
   },
   "outputs": [],
   "source": [
    "X_train, X_test, y_train, y_test = train_test_split(X,y, test_size = 0.2, random_state = 10)"
   ]
  },
  {
   "cell_type": "markdown",
   "id": "33b99b73",
   "metadata": {
    "id": "a4b517c6-a586-4af9-b43e-dfa82e2e975f"
   },
   "source": [
    "## 1.3 Oversampling <a name=\"1.3\"></a>\n",
    "#### Sur-échantillonnage aléatoire des données d'entraînement X_train et y_train \n",
    "[return to the plan](#0)  "
   ]
  },
  {
   "cell_type": "markdown",
   "id": "fdf0a50f",
   "metadata": {
    "id": "dbecacc1-7d83-4f12-9281-0eee2c521de2"
   },
   "source": [
    "La méthode RandomOverSampler() génère de nouvelles instances aléatoires de la classe minoritaire \"raintomorrow\" pour créer un ensemble de données équilibré en termes de distribution de classe."
   ]
  },
  {
   "cell_type": "code",
   "execution_count": 8,
   "id": "64c87dd8",
   "metadata": {
    "colab": {
     "base_uri": "https://localhost:8080/"
    },
    "executionInfo": {
     "elapsed": 183,
     "status": "ok",
     "timestamp": 1683468894805,
     "user": {
      "displayName": "Ben-Mekki AYADI (Ben)",
      "userId": "10473218066512117106"
     },
     "user_tz": -120
    },
    "id": "5a3a9ce3-6fff-4acf-94f7-69aa0d200f11",
    "outputId": "4af3c9b6-b07e-47be-a909-b59b7569d13a"
   },
   "outputs": [
    {
     "name": "stdout",
     "output_type": "stream",
     "text": [
      "Classes échantillon oversampled : {1: 48841, 0: 48841}\n"
     ]
    }
   ],
   "source": [
    "rOs = RandomOverSampler()\n",
    "X_ro, y_ro = rOs.fit_resample(X_train, y_train)\n",
    "print('Classes échantillon oversampled :', dict(pd.Series(y_ro).value_counts()))"
   ]
  },
  {
   "cell_type": "code",
   "execution_count": 9,
   "id": "3c366242",
   "metadata": {
    "colab": {
     "base_uri": "https://localhost:8080/",
     "height": 411
    },
    "executionInfo": {
     "elapsed": 174,
     "status": "ok",
     "timestamp": 1683468894811,
     "user": {
      "displayName": "Ben-Mekki AYADI (Ben)",
      "userId": "10473218066512117106"
     },
     "user_tz": -120
    },
    "id": "9de7d8d3-a4a0-4b87-9035-64049c75f86b",
    "outputId": "6ea04843-b317-4066-d873-636c1274f08e"
   },
   "outputs": [
    {
     "data": {
      "image/png": "[encoded data removed]",
      "text/plain": [
       "<Figure size 1000x400 with 1 Axes>"
      ]
     },
     "metadata": {},
     "output_type": "display_data"
    }
   ],
   "source": [
    "import seaborn as sns\n",
    "import matplotlib.pyplot as plt\n",
    "\n",
    "counts_before = dict(pd.Series(y_train).value_counts())\n",
    "counts_after = dict(pd.Series(y_ro).value_counts())\n",
    "\n",
    "df_rOs = pd.DataFrame({'Nombre d\\'échantillons': list(counts_before.values()) + list(counts_after.values()), 'Type': ['Avant'] * len(counts_before) + ['Après'] * len(counts_after), 'Classe': ['Raintomorrow = 0', 'Raintomorrow = 1'] * 2})\n",
    "\n",
    "fig, ax = plt.subplots(figsize=(10, 4))\n",
    "sns.barplot(data=df_rOs, x='Type', y='Nombre d\\'échantillons', hue='Classe')\n",
    "ax.set_title('Suréchantillonnage aléatoire avec RandomOverSampler')\n",
    "ax.set_xlabel('Postraitements')\n",
    "ax.set_ylabel('Nombre d\\'échantillons')\n",
    "ax.legend(loc='upper right')\n",
    "plt.show()"
   ]
  },
  {
   "cell_type": "markdown",
   "id": "ffbc3ff8",
   "metadata": {
    "id": "b06961b7-96a0-4090-9fe2-4cc4e675fc51"
   },
   "source": [
    "## 1.4 Undersampling <a name=1.4></a>\n",
    "#### Sous-échantillonnage aléatoire des données d'entraînement X_train et y_train \n",
    "[return to the plan](#0)  "
   ]
  },
  {
   "cell_type": "code",
   "execution_count": 10,
   "id": "1bdd9019",
   "metadata": {
    "colab": {
     "base_uri": "https://localhost:8080/"
    },
    "executionInfo": {
     "elapsed": 1131,
     "status": "ok",
     "timestamp": 1683468895778,
     "user": {
      "displayName": "Ben-Mekki AYADI (Ben)",
      "userId": "10473218066512117106"
     },
     "user_tz": -120
    },
    "id": "b0536b3d-3af7-4886-8074-b2595c685493",
    "outputId": "789591b2-21bc-4751-cdd3-4cf3ec76409b"
   },
   "outputs": [
    {
     "name": "stdout",
     "output_type": "stream",
     "text": [
      "Classes échantillon undersampled : {0: 9324, 1: 9324}\n"
     ]
    }
   ],
   "source": [
    "rUs = RandomUnderSampler()\n",
    "X_ru, y_ru = rUs.fit_resample(X_train, y_train)\n",
    "print('Classes échantillon undersampled :', dict(pd.Series(y_ru).value_counts()))"
   ]
  },
  {
   "cell_type": "code",
   "execution_count": 11,
   "id": "436ba5bb",
   "metadata": {
    "colab": {
     "base_uri": "https://localhost:8080/",
     "height": 411
    },
    "executionInfo": {
     "elapsed": 151,
     "status": "ok",
     "timestamp": 1683468895782,
     "user": {
      "displayName": "Ben-Mekki AYADI (Ben)",
      "userId": "10473218066512117106"
     },
     "user_tz": -120
    },
    "id": "f4519fd2-525e-495f-aca2-fe4ccf599dc4",
    "outputId": "4592ab9c-6550-4de5-e362-aaa145e87ab6"
   },
   "outputs": [
    {
     "data": {
      "image/png": "[encoded data removed]",
      "text/plain": [
       "<Figure size 1000x400 with 1 Axes>"
      ]
     },
     "metadata": {},
     "output_type": "display_data"
    }
   ],
   "source": [
    "counts_before = dict(pd.Series(y_train).value_counts())\n",
    "counts_after = dict(pd.Series(y_ru).value_counts())\n",
    "\n",
    "df_rUs = pd.DataFrame({'Nombre d\\'échantillons': list(counts_before.values()) + list(counts_after.values()), 'Type': ['Avant'] * len(counts_before) + ['Après'] * len(counts_after), 'Classe': ['Raintomorrow = 0', 'Raintomorrow = 1'] * 2})\n",
    "\n",
    "fig, ax = plt.subplots(figsize=(10, 4))\n",
    "sns.barplot(data=df_rUs, x='Type', y='Nombre d\\'échantillons', hue='Classe')\n",
    "ax.set_title('Sous-échantillonnage aléatoire avec Undersampled')\n",
    "ax.set_xlabel('Postraitements')\n",
    "ax.set_ylabel('Nombre d\\'échantillons')\n",
    "ax.legend(loc='upper right')\n",
    "plt.show()"
   ]
  },
  {
   "cell_type": "markdown",
   "id": "95703b20",
   "metadata": {
    "id": "d7cad7ef-41b6-49a9-85f1-fa30e9e3513d"
   },
   "source": [
    "# 2.Application d'un modèle SVM<a name=\"2\"></a>\n",
    "[return to the plan](#0)  "
   ]
  },
  {
   "cell_type": "code",
   "execution_count": 12,
   "id": "f0138882",
   "metadata": {
    "executionInfo": {
     "elapsed": 147,
     "status": "ok",
     "timestamp": 1683468895784,
     "user": {
      "displayName": "Ben-Mekki AYADI (Ben)",
      "userId": "10473218066512117106"
     },
     "user_tz": -120
    },
    "id": "6a51799a-3807-4d43-99ef-32e17cfb68dc"
   },
   "outputs": [],
   "source": [
    "# Instanciation d'un objet SVM avec une fonction de noyau RBF et gamma='scale'\n",
    "svm = SVC(gamma='scale')"
   ]
  },
  {
   "cell_type": "markdown",
   "id": "1f8f9e47",
   "metadata": {
    "id": "0c350fcb-6cee-4f7d-8c43-2525db0fc98d"
   },
   "source": [
    "## 2.1. Classification SVM avec un sur-échantillon aléatoire <a name=\"2.1\"></a>\n",
    "[return to the plan](#0) "
   ]
  },
  {
   "cell_type": "code",
   "execution_count": 13,
   "id": "116903d3",
   "metadata": {
    "colab": {
     "background_save": true,
     "base_uri": "https://localhost:8080/",
     "height": 75
    },
    "executionInfo": {
     "elapsed": 486988,
     "status": "ok",
     "timestamp": 1683469382627,
     "user": {
      "displayName": "Ben-Mekki AYADI (Ben)",
      "userId": "10473218066512117106"
     },
     "user_tz": -120
    },
    "id": "dc095684-61ba-4d78-b4ff-a6aceab9372c",
    "pycharm": {
     "is_executing": true
    }
   },
   "outputs": [
    {
     "data": {
      "text/html": [
       "<style>#sk-container-id-1 {color: black;background-color: white;}#sk-container-id-1 pre{padding: 0;}#sk-container-id-1 div.sk-toggleable {background-color: white;}#sk-container-id-1 label.sk-toggleable__label {cursor: pointer;display: block;width: 100%;margin-bottom: 0;padding: 0.3em;box-sizing: border-box;text-align: center;}#sk-container-id-1 label.sk-toggleable__label-arrow:before {content: \"▸\";float: left;margin-right: 0.25em;color: #696969;}#sk-container-id-1 label.sk-toggleable__label-arrow:hover:before {color: black;}#sk-container-id-1 div.sk-estimator:hover label.sk-toggleable__label-arrow:before {color: black;}#sk-container-id-1 div.sk-toggleable__content {max-height: 0;max-width: 0;overflow: hidden;text-align: left;background-color: #f0f8ff;}#sk-container-id-1 div.sk-toggleable__content pre {margin: 0.2em;color: black;border-radius: 0.25em;background-color: #f0f8ff;}#sk-container-id-1 input.sk-toggleable__control:checked~div.sk-toggleable__content {max-height: 200px;max-width: 100%;overflow: auto;}#sk-container-id-1 input.sk-toggleable__control:checked~label.sk-toggleable__label-arrow:before {content: \"▾\";}#sk-container-id-1 div.sk-estimator input.sk-toggleable__control:checked~label.sk-toggleable__label {background-color: #d4ebff;}#sk-container-id-1 div.sk-label input.sk-toggleable__control:checked~label.sk-toggleable__label {background-color: #d4ebff;}#sk-container-id-1 input.sk-hidden--visually {border: 0;clip: rect(1px 1px 1px 1px);clip: rect(1px, 1px, 1px, 1px);height: 1px;margin: -1px;overflow: hidden;padding: 0;position: absolute;width: 1px;}#sk-container-id-1 div.sk-estimator {font-family: monospace;background-color: #f0f8ff;border: 1px dotted black;border-radius: 0.25em;box-sizing: border-box;margin-bottom: 0.5em;}#sk-container-id-1 div.sk-estimator:hover {background-color: #d4ebff;}#sk-container-id-1 div.sk-parallel-item::after {content: \"\";width: 100%;border-bottom: 1px solid gray;flex-grow: 1;}#sk-container-id-1 div.sk-label:hover label.sk-toggleable__label {background-color: #d4ebff;}#sk-container-id-1 div.sk-serial::before {content: \"\";position: absolute;border-left: 1px solid gray;box-sizing: border-box;top: 0;bottom: 0;left: 50%;z-index: 0;}#sk-container-id-1 div.sk-serial {display: flex;flex-direction: column;align-items: center;background-color: white;padding-right: 0.2em;padding-left: 0.2em;position: relative;}#sk-container-id-1 div.sk-item {position: relative;z-index: 1;}#sk-container-id-1 div.sk-parallel {display: flex;align-items: stretch;justify-content: center;background-color: white;position: relative;}#sk-container-id-1 div.sk-item::before, #sk-container-id-1 div.sk-parallel-item::before {content: \"\";position: absolute;border-left: 1px solid gray;box-sizing: border-box;top: 0;bottom: 0;left: 50%;z-index: -1;}#sk-container-id-1 div.sk-parallel-item {display: flex;flex-direction: column;z-index: 1;position: relative;background-color: white;}#sk-container-id-1 div.sk-parallel-item:first-child::after {align-self: flex-end;width: 50%;}#sk-container-id-1 div.sk-parallel-item:last-child::after {align-self: flex-start;width: 50%;}#sk-container-id-1 div.sk-parallel-item:only-child::after {width: 0;}#sk-container-id-1 div.sk-dashed-wrapped {border: 1px dashed gray;margin: 0 0.4em 0.5em 0.4em;box-sizing: border-box;padding-bottom: 0.4em;background-color: white;}#sk-container-id-1 div.sk-label label {font-family: monospace;font-weight: bold;display: inline-block;line-height: 1.2em;}#sk-container-id-1 div.sk-label-container {text-align: center;}#sk-container-id-1 div.sk-container {/* jupyter's `normalize.less` sets `[hidden] { display: none; }` but bootstrap.min.css set `[hidden] { display: none !important; }` so we also need the `!important` here to be able to override the default hidden behavior on the sphinx rendered scikit-learn.org. See: https://github.com/scikit-learn/scikit-learn/issues/21755 */display: inline-block !important;position: relative;}#sk-container-id-1 div.sk-text-repr-fallback {display: none;}</style><div id=\"sk-container-id-1\" class=\"sk-top-container\"><div class=\"sk-text-repr-fallback\"><pre>SVC()</pre><b>In a Jupyter environment, please rerun this cell to show the HTML representation or trust the notebook. <br />On GitHub, the HTML representation is unable to render, please try loading this page with nbviewer.org.</b></div><div class=\"sk-container\" hidden><div class=\"sk-item\"><div class=\"sk-estimator sk-toggleable\"><input class=\"sk-toggleable__control sk-hidden--visually\" id=\"sk-estimator-id-1\" type=\"checkbox\" checked><label for=\"sk-estimator-id-1\" class=\"sk-toggleable__label sk-toggleable__label-arrow\">SVC</label><div class=\"sk-toggleable__content\"><pre>SVC()</pre></div></div></div></div></div>"
      ],
      "text/plain": [
       "SVC()"
      ]
     },
     "execution_count": 13,
     "metadata": {},
     "output_type": "execute_result"
    }
   ],
   "source": [
    "# Entrainement d'un modèle SVM sur les données d'entraînement X_ro et y_ro.\n",
    "svm.fit(X_ro, y_ro)"
   ]
  },
  {
   "cell_type": "code",
   "execution_count": 14,
   "id": "73300538",
   "metadata": {
    "executionInfo": {
     "elapsed": 57237,
     "status": "ok",
     "timestamp": 1683469442759,
     "user": {
      "displayName": "Ben-Mekki AYADI (Ben)",
      "userId": "10473218066512117106"
     },
     "user_tz": -120
    },
    "id": "9c78255b-6d83-4b6d-b78f-25c948c1d2c2"
   },
   "outputs": [],
   "source": [
    "# Prédiction des étiquettes de classe pour les données de test X_test\n",
    "y_pred = svm.predict(X_test)"
   ]
  },
  {
   "cell_type": "code",
   "execution_count": 18,
   "id": "691d048b",
   "metadata": {
    "colab": {
     "base_uri": "https://localhost:8080/",
     "height": 352
    },
    "executionInfo": {
     "elapsed": 176,
     "status": "ok",
     "timestamp": 1683469442865,
     "user": {
      "displayName": "Ben-Mekki AYADI (Ben)",
      "userId": "10473218066512117106"
     },
     "user_tz": -120
    },
    "id": "020be852-5c9d-4b48-b9fa-6724bf370ca1",
    "outputId": "44250a12-e0c1-4a4d-d1cf-32ed527382be"
   },
   "outputs": [
    {
     "data": {
      "text/html": [
       "\n",
       "  <div id=\"df-3b8bb24f-5aa8-4b52-9759-041254594369\">\n",
       "    <div class=\"colab-df-container\">\n",
       "      <div>\n",
       "<style scoped>\n",
       "    .dataframe tbody tr th:only-of-type {\n",
       "        vertical-align: middle;\n",
       "    }\n",
       "\n",
       "    .dataframe tbody tr th {\n",
       "        vertical-align: top;\n",
       "    }\n",
       "\n",
       "    .dataframe thead th {\n",
       "        text-align: right;\n",
       "    }\n",
       "</style>\n",
       "<table border=\"1\" class=\"dataframe\">\n",
       "  <thead>\n",
       "    <tr style=\"text-align: right;\">\n",
       "      <th>Prédiction</th>\n",
       "      <th>0</th>\n",
       "      <th>1</th>\n",
       "    </tr>\n",
       "    <tr>\n",
       "      <th>Classe réelle</th>\n",
       "      <th></th>\n",
       "      <th></th>\n",
       "    </tr>\n",
       "  </thead>\n",
       "  <tbody>\n",
       "    <tr>\n",
       "      <th>0</th>\n",
       "      <td>9563</td>\n",
       "      <td>2677</td>\n",
       "    </tr>\n",
       "    <tr>\n",
       "      <th>1</th>\n",
       "      <td>629</td>\n",
       "      <td>1673</td>\n",
       "    </tr>\n",
       "  </tbody>\n",
       "</table>\n",
       "</div>\n",
       "      <button class=\"colab-df-convert\" onclick=\"convertToInteractive('df-3b8bb24f-5aa8-4b52-9759-041254594369')\"\n",
       "              title=\"Convert this dataframe to an interactive table.\"\n",
       "              style=\"display:none;\">\n",
       "        \n",
       "  <svg xmlns=\"http://www.w3.org/2000/svg\" height=\"24px\"viewBox=\"0 0 24 24\"\n",
       "       width=\"24px\">\n",
       "    <path d=\"M0 0h24v24H0V0z\" fill=\"none\"/>\n",
       "    <path d=\"M18.56 5.44l.94 2.06.94-2.06 2.06-.94-2.06-.94-.94-2.06-.94 2.06-2.06.94zm-11 1L8.5 8.5l.94-2.06 2.06-.94-2.06-.94L8.5 2.5l-.94 2.06-2.06.94zm10 10l.94 2.06.94-2.06 2.06-.94-2.06-.94-.94-2.06-.94 2.06-2.06.94z\"/><path d=\"M17.41 7.96l-1.37-1.37c-.4-.4-.92-.59-1.43-.59-.52 0-1.04.2-1.43.59L10.3 9.45l-7.72 7.72c-.78.78-.78 2.05 0 2.83L4 21.41c.39.39.9.59 1.41.59.51 0 1.02-.2 1.41-.59l7.78-7.78 2.81-2.81c.8-.78.8-2.07 0-2.86zM5.41 20L4 18.59l7.72-7.72 1.47 1.35L5.41 20z\"/>\n",
       "  </svg>\n",
       "      </button>\n",
       "      \n",
       "  <style>\n",
       "    .colab-df-container {\n",
       "      display:flex;\n",
       "      flex-wrap:wrap;\n",
       "      gap: 12px;\n",
       "    }\n",
       "\n",
       "    .colab-df-convert {\n",
       "      background-color: #E8F0FE;\n",
       "      border: none;\n",
       "      border-radius: 50%;\n",
       "      cursor: pointer;\n",
       "      display: none;\n",
       "      fill: #1967D2;\n",
       "      height: 32px;\n",
       "      padding: 0 0 0 0;\n",
       "      width: 32px;\n",
       "    }\n",
       "\n",
       "    .colab-df-convert:hover {\n",
       "      background-color: #E2EBFA;\n",
       "      box-shadow: 0px 1px 2px rgba(60, 64, 67, 0.3), 0px 1px 3px 1px rgba(60, 64, 67, 0.15);\n",
       "      fill: #174EA6;\n",
       "    }\n",
       "\n",
       "    [theme=dark] .colab-df-convert {\n",
       "      background-color: #3B4455;\n",
       "      fill: #D2E3FC;\n",
       "    }\n",
       "\n",
       "    [theme=dark] .colab-df-convert:hover {\n",
       "      background-color: #434B5C;\n",
       "      box-shadow: 0px 1px 3px 1px rgba(0, 0, 0, 0.15);\n",
       "      filter: drop-shadow(0px 1px 2px rgba(0, 0, 0, 0.3));\n",
       "      fill: #FFFFFF;\n",
       "    }\n",
       "  </style>\n",
       "\n",
       "      <script>\n",
       "        const buttonEl =\n",
       "          document.querySelector('#df-3b8bb24f-5aa8-4b52-9759-041254594369 button.colab-df-convert');\n",
       "        buttonEl.style.display =\n",
       "          google.colab.kernel.accessAllowed ? 'block' : 'none';\n",
       "\n",
       "        async function convertToInteractive(key) {\n",
       "          const element = document.querySelector('#df-3b8bb24f-5aa8-4b52-9759-041254594369');\n",
       "          const dataTable =\n",
       "            await google.colab.kernel.invokeFunction('convertToInteractive',\n",
       "                                                     [key], {});\n",
       "          if (!dataTable) return;\n",
       "\n",
       "          const docLinkHtml = 'Like what you see? Visit the ' +\n",
       "            '<a target=\"_blank\" href=https://colab.research.google.com/notebooks/data_table.ipynb>data table notebook</a>'\n",
       "            + ' to learn more about interactive tables.';\n",
       "          element.innerHTML = '';\n",
       "          dataTable['output_type'] = 'display_data';\n",
       "          await google.colab.output.renderOutput(dataTable, element);\n",
       "          const docLink = document.createElement('div');\n",
       "          docLink.innerHTML = docLinkHtml;\n",
       "          element.appendChild(docLink);\n",
       "        }\n",
       "      </script>\n",
       "    </div>\n",
       "  </div>\n",
       "  "
      ],
      "text/plain": [
       "Prédiction        0     1\n",
       "Classe réelle            \n",
       "0              9563  2677\n",
       "1               629  1673"
      ]
     },
     "metadata": {},
     "output_type": "display_data"
    },
    {
     "name": "stdout",
     "output_type": "stream",
     "text": [
      "\n",
      "\n",
      "Rapport de classification: métriques de performance pour chaque classe\n",
      "\n",
      "\n",
      "                   pre       rec       spe        f1       geo       iba       sup\n",
      "\n",
      "          0       0.94      0.78      0.73      0.85      0.75      0.57     12240\n",
      "          1       0.38      0.73      0.78      0.50      0.75      0.56      2302\n",
      "\n",
      "avg / total       0.85      0.77      0.74      0.80      0.75      0.57     14542\n",
      "\n"
     ]
    }
   ],
   "source": [
    "# Création d'une table de contingence (matrice de confusion) montrant le nombre de prédictions correctes et incorrectes pour chaque classe\n",
    "contingency_table = pd.crosstab(y_test, y_pred, rownames=['Classe réelle'], colnames=['Prédiction'])\n",
    "\n",
    "display(contingency_table)\n",
    "print(\"\\n\")\n",
    "\n",
    "print(\"Rapport de classification: métriques de performance pour chaque classe\")\n",
    "print(\"\\n\")\n",
    "report = classification_report_imbalanced(y_test, y_pred)\n",
    "print(report)"
   ]
  },
  {
   "cell_type": "code",
   "execution_count": 22,
   "id": "7c79dc87-64e2-4fc4-a288-7efbc55ab671",
   "metadata": {},
   "outputs": [
    {
     "data": {
      "text/html": [
       "<style>#sk-container-id-2 {color: black;background-color: white;}#sk-container-id-2 pre{padding: 0;}#sk-container-id-2 div.sk-toggleable {background-color: white;}#sk-container-id-2 label.sk-toggleable__label {cursor: pointer;display: block;width: 100%;margin-bottom: 0;padding: 0.3em;box-sizing: border-box;text-align: center;}#sk-container-id-2 label.sk-toggleable__label-arrow:before {content: \"▸\";float: left;margin-right: 0.25em;color: #696969;}#sk-container-id-2 label.sk-toggleable__label-arrow:hover:before {color: black;}#sk-container-id-2 div.sk-estimator:hover label.sk-toggleable__label-arrow:before {color: black;}#sk-container-id-2 div.sk-toggleable__content {max-height: 0;max-width: 0;overflow: hidden;text-align: left;background-color: #f0f8ff;}#sk-container-id-2 div.sk-toggleable__content pre {margin: 0.2em;color: black;border-radius: 0.25em;background-color: #f0f8ff;}#sk-container-id-2 input.sk-toggleable__control:checked~div.sk-toggleable__content {max-height: 200px;max-width: 100%;overflow: auto;}#sk-container-id-2 input.sk-toggleable__control:checked~label.sk-toggleable__label-arrow:before {content: \"▾\";}#sk-container-id-2 div.sk-estimator input.sk-toggleable__control:checked~label.sk-toggleable__label {background-color: #d4ebff;}#sk-container-id-2 div.sk-label input.sk-toggleable__control:checked~label.sk-toggleable__label {background-color: #d4ebff;}#sk-container-id-2 input.sk-hidden--visually {border: 0;clip: rect(1px 1px 1px 1px);clip: rect(1px, 1px, 1px, 1px);height: 1px;margin: -1px;overflow: hidden;padding: 0;position: absolute;width: 1px;}#sk-container-id-2 div.sk-estimator {font-family: monospace;background-color: #f0f8ff;border: 1px dotted black;border-radius: 0.25em;box-sizing: border-box;margin-bottom: 0.5em;}#sk-container-id-2 div.sk-estimator:hover {background-color: #d4ebff;}#sk-container-id-2 div.sk-parallel-item::after {content: \"\";width: 100%;border-bottom: 1px solid gray;flex-grow: 1;}#sk-container-id-2 div.sk-label:hover label.sk-toggleable__label {background-color: #d4ebff;}#sk-container-id-2 div.sk-serial::before {content: \"\";position: absolute;border-left: 1px solid gray;box-sizing: border-box;top: 0;bottom: 0;left: 50%;z-index: 0;}#sk-container-id-2 div.sk-serial {display: flex;flex-direction: column;align-items: center;background-color: white;padding-right: 0.2em;padding-left: 0.2em;position: relative;}#sk-container-id-2 div.sk-item {position: relative;z-index: 1;}#sk-container-id-2 div.sk-parallel {display: flex;align-items: stretch;justify-content: center;background-color: white;position: relative;}#sk-container-id-2 div.sk-item::before, #sk-container-id-2 div.sk-parallel-item::before {content: \"\";position: absolute;border-left: 1px solid gray;box-sizing: border-box;top: 0;bottom: 0;left: 50%;z-index: -1;}#sk-container-id-2 div.sk-parallel-item {display: flex;flex-direction: column;z-index: 1;position: relative;background-color: white;}#sk-container-id-2 div.sk-parallel-item:first-child::after {align-self: flex-end;width: 50%;}#sk-container-id-2 div.sk-parallel-item:last-child::after {align-self: flex-start;width: 50%;}#sk-container-id-2 div.sk-parallel-item:only-child::after {width: 0;}#sk-container-id-2 div.sk-dashed-wrapped {border: 1px dashed gray;margin: 0 0.4em 0.5em 0.4em;box-sizing: border-box;padding-bottom: 0.4em;background-color: white;}#sk-container-id-2 div.sk-label label {font-family: monospace;font-weight: bold;display: inline-block;line-height: 1.2em;}#sk-container-id-2 div.sk-label-container {text-align: center;}#sk-container-id-2 div.sk-container {/* jupyter's `normalize.less` sets `[hidden] { display: none; }` but bootstrap.min.css set `[hidden] { display: none !important; }` so we also need the `!important` here to be able to override the default hidden behavior on the sphinx rendered scikit-learn.org. See: https://github.com/scikit-learn/scikit-learn/issues/21755 */display: inline-block !important;position: relative;}#sk-container-id-2 div.sk-text-repr-fallback {display: none;}</style><div id=\"sk-container-id-2\" class=\"sk-top-container\"><div class=\"sk-text-repr-fallback\"><pre>SVC(probability=True)</pre><b>In a Jupyter environment, please rerun this cell to show the HTML representation or trust the notebook. <br />On GitHub, the HTML representation is unable to render, please try loading this page with nbviewer.org.</b></div><div class=\"sk-container\" hidden><div class=\"sk-item\"><div class=\"sk-estimator sk-toggleable\"><input class=\"sk-toggleable__control sk-hidden--visually\" id=\"sk-estimator-id-2\" type=\"checkbox\" checked><label for=\"sk-estimator-id-2\" class=\"sk-toggleable__label sk-toggleable__label-arrow\">SVC</label><div class=\"sk-toggleable__content\"><pre>SVC(probability=True)</pre></div></div></div></div></div>"
      ],
      "text/plain": [
       "SVC(probability=True)"
      ]
     },
     "execution_count": 22,
     "metadata": {},
     "output_type": "execute_result"
    }
   ],
   "source": [
    "# Instanciation d'un objet SVC avec une fonction de noyau RBF et gamma='scale'\n",
    "svm = SVC(gamma='scale', probability=True)\n",
    "\n",
    "# Entrainement d'un modèle SVC sur les données d'entraînement X_ro et y_ro.\n",
    "svm.fit(X_ro, y_ro)"
   ]
  },
  {
   "cell_type": "markdown",
   "id": "23c1e878",
   "metadata": {
    "id": "3e2b34f6-006a-48c2-bcec-84d3b2504089"
   },
   "source": [
    "#### <b> Analyse :\n",
    "> * En analysant le rapport de classification, nous pouvons conclure que le modèle SVM entraîné sur les données d'entraînement déséquilibrées a une performance moyenne sur les données de test déséquilibrées.\n",
    "> * La métrique de rappel (recall) est relativement élevée pour la classe minoritaire (classe 1), ce qui indique que le modèle est relativement bon à identifier les vrais positifs. \n",
    "> * Cependant, la précision (precision) est relativement faible pour la même classe, ce qui signifie que le modèle peut également produire un grand nombre de faux positifs. \n",
    "> * La métrique F1-score est une mesure harmonique entre la précision et le rappel et est donc une mesure plus équilibrée de la performance globale du modèle. \n",
    "> * <b> Le score F1 est d'environ 0,5 pour la classe 1 minoritaire, cela indique que le modèle peut être amélioré pour mieux l'identifier"
   ]
  },
  {
   "cell_type": "markdown",
   "id": "ebd6fb76",
   "metadata": {
    "id": "b7f64d2e-1189-47da-8d66-3deb807b1f68"
   },
   "source": [
    "## 2.2.Classification SVM avec un sous-échantillon aléatoire<a name=\"2.2\"></a>\n",
    "[return to the plan](#0) "
   ]
  },
  {
   "cell_type": "code",
   "execution_count": 19,
   "id": "2070982e",
   "metadata": {
    "colab": {
     "base_uri": "https://localhost:8080/",
     "height": 75
    },
    "executionInfo": {
     "elapsed": 15018,
     "status": "ok",
     "timestamp": 1683469457720,
     "user": {
      "displayName": "Ben-Mekki AYADI (Ben)",
      "userId": "10473218066512117106"
     },
     "user_tz": -120
    },
    "id": "da709993-1c88-43dd-b6e2-35894bca59d4",
    "outputId": "32dab5bd-71bb-4bb8-81db-4e549d71a3ea"
   },
   "outputs": [
    {
     "data": {
      "text/html": [
       "<style>#sk-container-id-2 {color: black;background-color: white;}#sk-container-id-2 pre{padding: 0;}#sk-container-id-2 div.sk-toggleable {background-color: white;}#sk-container-id-2 label.sk-toggleable__label {cursor: pointer;display: block;width: 100%;margin-bottom: 0;padding: 0.3em;box-sizing: border-box;text-align: center;}#sk-container-id-2 label.sk-toggleable__label-arrow:before {content: \"▸\";float: left;margin-right: 0.25em;color: #696969;}#sk-container-id-2 label.sk-toggleable__label-arrow:hover:before {color: black;}#sk-container-id-2 div.sk-estimator:hover label.sk-toggleable__label-arrow:before {color: black;}#sk-container-id-2 div.sk-toggleable__content {max-height: 0;max-width: 0;overflow: hidden;text-align: left;background-color: #f0f8ff;}#sk-container-id-2 div.sk-toggleable__content pre {margin: 0.2em;color: black;border-radius: 0.25em;background-color: #f0f8ff;}#sk-container-id-2 input.sk-toggleable__control:checked~div.sk-toggleable__content {max-height: 200px;max-width: 100%;overflow: auto;}#sk-container-id-2 input.sk-toggleable__control:checked~label.sk-toggleable__label-arrow:before {content: \"▾\";}#sk-container-id-2 div.sk-estimator input.sk-toggleable__control:checked~label.sk-toggleable__label {background-color: #d4ebff;}#sk-container-id-2 div.sk-label input.sk-toggleable__control:checked~label.sk-toggleable__label {background-color: #d4ebff;}#sk-container-id-2 input.sk-hidden--visually {border: 0;clip: rect(1px 1px 1px 1px);clip: rect(1px, 1px, 1px, 1px);height: 1px;margin: -1px;overflow: hidden;padding: 0;position: absolute;width: 1px;}#sk-container-id-2 div.sk-estimator {font-family: monospace;background-color: #f0f8ff;border: 1px dotted black;border-radius: 0.25em;box-sizing: border-box;margin-bottom: 0.5em;}#sk-container-id-2 div.sk-estimator:hover {background-color: #d4ebff;}#sk-container-id-2 div.sk-parallel-item::after {content: \"\";width: 100%;border-bottom: 1px solid gray;flex-grow: 1;}#sk-container-id-2 div.sk-label:hover label.sk-toggleable__label {background-color: #d4ebff;}#sk-container-id-2 div.sk-serial::before {content: \"\";position: absolute;border-left: 1px solid gray;box-sizing: border-box;top: 0;bottom: 0;left: 50%;z-index: 0;}#sk-container-id-2 div.sk-serial {display: flex;flex-direction: column;align-items: center;background-color: white;padding-right: 0.2em;padding-left: 0.2em;position: relative;}#sk-container-id-2 div.sk-item {position: relative;z-index: 1;}#sk-container-id-2 div.sk-parallel {display: flex;align-items: stretch;justify-content: center;background-color: white;position: relative;}#sk-container-id-2 div.sk-item::before, #sk-container-id-2 div.sk-parallel-item::before {content: \"\";position: absolute;border-left: 1px solid gray;box-sizing: border-box;top: 0;bottom: 0;left: 50%;z-index: -1;}#sk-container-id-2 div.sk-parallel-item {display: flex;flex-direction: column;z-index: 1;position: relative;background-color: white;}#sk-container-id-2 div.sk-parallel-item:first-child::after {align-self: flex-end;width: 50%;}#sk-container-id-2 div.sk-parallel-item:last-child::after {align-self: flex-start;width: 50%;}#sk-container-id-2 div.sk-parallel-item:only-child::after {width: 0;}#sk-container-id-2 div.sk-dashed-wrapped {border: 1px dashed gray;margin: 0 0.4em 0.5em 0.4em;box-sizing: border-box;padding-bottom: 0.4em;background-color: white;}#sk-container-id-2 div.sk-label label {font-family: monospace;font-weight: bold;display: inline-block;line-height: 1.2em;}#sk-container-id-2 div.sk-label-container {text-align: center;}#sk-container-id-2 div.sk-container {/* jupyter's `normalize.less` sets `[hidden] { display: none; }` but bootstrap.min.css set `[hidden] { display: none !important; }` so we also need the `!important` here to be able to override the default hidden behavior on the sphinx rendered scikit-learn.org. See: https://github.com/scikit-learn/scikit-learn/issues/21755 */display: inline-block !important;position: relative;}#sk-container-id-2 div.sk-text-repr-fallback {display: none;}</style><div id=\"sk-container-id-2\" class=\"sk-top-container\"><div class=\"sk-text-repr-fallback\"><pre>SVC()</pre><b>In a Jupyter environment, please rerun this cell to show the HTML representation or trust the notebook. <br />On GitHub, the HTML representation is unable to render, please try loading this page with nbviewer.org.</b></div><div class=\"sk-container\" hidden><div class=\"sk-item\"><div class=\"sk-estimator sk-toggleable\"><input class=\"sk-toggleable__control sk-hidden--visually\" id=\"sk-estimator-id-2\" type=\"checkbox\" checked><label for=\"sk-estimator-id-2\" class=\"sk-toggleable__label sk-toggleable__label-arrow\">SVC</label><div class=\"sk-toggleable__content\"><pre>SVC()</pre></div></div></div></div></div>"
      ],
      "text/plain": [
       "SVC()"
      ]
     },
     "execution_count": 19,
     "metadata": {},
     "output_type": "execute_result"
    }
   ],
   "source": [
    "# Entrainement d'un modèle SVM sur les données d'entraînement X_ru, y_ru.\n",
    "svm.fit(X_ru, y_ru)"
   ]
  },
  {
   "cell_type": "code",
   "execution_count": 20,
   "id": "a31a1798",
   "metadata": {
    "executionInfo": {
     "elapsed": 13181,
     "status": "ok",
     "timestamp": 1683469470658,
     "user": {
      "displayName": "Ben-Mekki AYADI (Ben)",
      "userId": "10473218066512117106"
     },
     "user_tz": -120
    },
    "id": "5c1ee9e8-a276-40fd-9301-f07150485a8f"
   },
   "outputs": [],
   "source": [
    "# Prédiction des étiquettes de classe pour les données de test X_test\n",
    "y_pred = svm.predict(X_test)"
   ]
  },
  {
   "cell_type": "code",
   "execution_count": 21,
   "id": "4218a9ea",
   "metadata": {
    "colab": {
     "base_uri": "https://localhost:8080/",
     "height": 352
    },
    "executionInfo": {
     "elapsed": 298,
     "status": "ok",
     "timestamp": 1683469470662,
     "user": {
      "displayName": "Ben-Mekki AYADI (Ben)",
      "userId": "10473218066512117106"
     },
     "user_tz": -120
    },
    "id": "9711929b-8391-4c61-b576-983a9f470380",
    "outputId": "1f2144e7-3bcb-4403-df10-31fd8d777562"
   },
   "outputs": [
    {
     "data": {
      "text/html": [
       "\n",
       "  <div id=\"df-c906f43c-254b-4a13-949c-dcdee1368aca\">\n",
       "    <div class=\"colab-df-container\">\n",
       "      <div>\n",
       "<style scoped>\n",
       "    .dataframe tbody tr th:only-of-type {\n",
       "        vertical-align: middle;\n",
       "    }\n",
       "\n",
       "    .dataframe tbody tr th {\n",
       "        vertical-align: top;\n",
       "    }\n",
       "\n",
       "    .dataframe thead th {\n",
       "        text-align: right;\n",
       "    }\n",
       "</style>\n",
       "<table border=\"1\" class=\"dataframe\">\n",
       "  <thead>\n",
       "    <tr style=\"text-align: right;\">\n",
       "      <th>Prédiction</th>\n",
       "      <th>0</th>\n",
       "      <th>1</th>\n",
       "    </tr>\n",
       "    <tr>\n",
       "      <th>Classe réelle</th>\n",
       "      <th></th>\n",
       "      <th></th>\n",
       "    </tr>\n",
       "  </thead>\n",
       "  <tbody>\n",
       "    <tr>\n",
       "      <th>0</th>\n",
       "      <td>9155</td>\n",
       "      <td>3085</td>\n",
       "    </tr>\n",
       "    <tr>\n",
       "      <th>1</th>\n",
       "      <td>637</td>\n",
       "      <td>1665</td>\n",
       "    </tr>\n",
       "  </tbody>\n",
       "</table>\n",
       "</div>\n",
       "      <button class=\"colab-df-convert\" onclick=\"convertToInteractive('df-c906f43c-254b-4a13-949c-dcdee1368aca')\"\n",
       "              title=\"Convert this dataframe to an interactive table.\"\n",
       "              style=\"display:none;\">\n",
       "        \n",
       "  <svg xmlns=\"http://www.w3.org/2000/svg\" height=\"24px\"viewBox=\"0 0 24 24\"\n",
       "       width=\"24px\">\n",
       "    <path d=\"M0 0h24v24H0V0z\" fill=\"none\"/>\n",
       "    <path d=\"M18.56 5.44l.94 2.06.94-2.06 2.06-.94-2.06-.94-.94-2.06-.94 2.06-2.06.94zm-11 1L8.5 8.5l.94-2.06 2.06-.94-2.06-.94L8.5 2.5l-.94 2.06-2.06.94zm10 10l.94 2.06.94-2.06 2.06-.94-2.06-.94-.94-2.06-.94 2.06-2.06.94z\"/><path d=\"M17.41 7.96l-1.37-1.37c-.4-.4-.92-.59-1.43-.59-.52 0-1.04.2-1.43.59L10.3 9.45l-7.72 7.72c-.78.78-.78 2.05 0 2.83L4 21.41c.39.39.9.59 1.41.59.51 0 1.02-.2 1.41-.59l7.78-7.78 2.81-2.81c.8-.78.8-2.07 0-2.86zM5.41 20L4 18.59l7.72-7.72 1.47 1.35L5.41 20z\"/>\n",
       "  </svg>\n",
       "      </button>\n",
       "      \n",
       "  <style>\n",
       "    .colab-df-container {\n",
       "      display:flex;\n",
       "      flex-wrap:wrap;\n",
       "      gap: 12px;\n",
       "    }\n",
       "\n",
       "    .colab-df-convert {\n",
       "      background-color: #E8F0FE;\n",
       "      border: none;\n",
       "      border-radius: 50%;\n",
       "      cursor: pointer;\n",
       "      display: none;\n",
       "      fill: #1967D2;\n",
       "      height: 32px;\n",
       "      padding: 0 0 0 0;\n",
       "      width: 32px;\n",
       "    }\n",
       "\n",
       "    .colab-df-convert:hover {\n",
       "      background-color: #E2EBFA;\n",
       "      box-shadow: 0px 1px 2px rgba(60, 64, 67, 0.3), 0px 1px 3px 1px rgba(60, 64, 67, 0.15);\n",
       "      fill: #174EA6;\n",
       "    }\n",
       "\n",
       "    [theme=dark] .colab-df-convert {\n",
       "      background-color: #3B4455;\n",
       "      fill: #D2E3FC;\n",
       "    }\n",
       "\n",
       "    [theme=dark] .colab-df-convert:hover {\n",
       "      background-color: #434B5C;\n",
       "      box-shadow: 0px 1px 3px 1px rgba(0, 0, 0, 0.15);\n",
       "      filter: drop-shadow(0px 1px 2px rgba(0, 0, 0, 0.3));\n",
       "      fill: #FFFFFF;\n",
       "    }\n",
       "  </style>\n",
       "\n",
       "      <script>\n",
       "        const buttonEl =\n",
       "          document.querySelector('#df-c906f43c-254b-4a13-949c-dcdee1368aca button.colab-df-convert');\n",
       "        buttonEl.style.display =\n",
       "          google.colab.kernel.accessAllowed ? 'block' : 'none';\n",
       "\n",
       "        async function convertToInteractive(key) {\n",
       "          const element = document.querySelector('#df-c906f43c-254b-4a13-949c-dcdee1368aca');\n",
       "          const dataTable =\n",
       "            await google.colab.kernel.invokeFunction('convertToInteractive',\n",
       "                                                     [key], {});\n",
       "          if (!dataTable) return;\n",
       "\n",
       "          const docLinkHtml = 'Like what you see? Visit the ' +\n",
       "            '<a target=\"_blank\" href=https://colab.research.google.com/notebooks/data_table.ipynb>data table notebook</a>'\n",
       "            + ' to learn more about interactive tables.';\n",
       "          element.innerHTML = '';\n",
       "          dataTable['output_type'] = 'display_data';\n",
       "          await google.colab.output.renderOutput(dataTable, element);\n",
       "          const docLink = document.createElement('div');\n",
       "          docLink.innerHTML = docLinkHtml;\n",
       "          element.appendChild(docLink);\n",
       "        }\n",
       "      </script>\n",
       "    </div>\n",
       "  </div>\n",
       "  "
      ],
      "text/plain": [
       "Prédiction        0     1\n",
       "Classe réelle            \n",
       "0              9155  3085\n",
       "1               637  1665"
      ]
     },
     "metadata": {},
     "output_type": "display_data"
    },
    {
     "name": "stdout",
     "output_type": "stream",
     "text": [
      "\n",
      "\n",
      "Rapport de classification: métriques de performance pour chaque classe\n",
      "\n",
      "\n",
      "                   pre       rec       spe        f1       geo       iba       sup\n",
      "\n",
      "          0       0.93      0.75      0.72      0.83      0.74      0.54     12240\n",
      "          1       0.35      0.72      0.75      0.47      0.74      0.54      2302\n",
      "\n",
      "avg / total       0.84      0.74      0.73      0.77      0.74      0.54     14542\n",
      "\n"
     ]
    }
   ],
   "source": [
    "# Création d'une table de contingence (matrice de confusion) montrant le nombre de prédictions correctes et incorrectes pour chaque classe\n",
    "contingency_table = pd.crosstab(y_test, y_pred, rownames=['Classe réelle'], colnames=['Prédiction'])\n",
    "\n",
    "display(contingency_table)\n",
    "print(\"\\n\")\n",
    "\n",
    "print(\"Rapport de classification: métriques de performance pour chaque classe\")\n",
    "print(\"\\n\")\n",
    "report = classification_report_imbalanced(y_test, y_pred)\n",
    "print(report)"
   ]
  },
  {
   "cell_type": "markdown",
   "id": "7879e713",
   "metadata": {
    "id": "e428a538-344e-4675-a4d4-ed362a139943"
   },
   "source": [
    "#### <b> Analyse :\n",
    "> * Le modèle SVM a des performances relativement bonnes pour prédire la classe \"0\" (pas de pluie demain), mais des performances plus faibles pour prédire la classe \"1\" (pluie demain).\n",
    "> * Le modèle a correctement prédit la classe \"0\" pour la grande majorité des échantillons (9230 sur 12240, soit une précision de 0.93), mais il a eu plus de difficulté à prédire la classe \"1\" (seulement 1647 prédictions correctes sur 2302, soit une précision de 0.35).\n",
    "> * <b> Le score F1 est d'environ 0,77 pour la classe 1 minoritaire, cela indique que le modèle est plus performant avec un sous-échantillonage des données\n",
    "    \n",
    "<b> Le risque principal du sous-échantillonnage est de perdre de l'information qui peut être importante pour la prédiction, ce qui nous a conduit à explorer d'autres méthodes d'optimisation, notamment la modification du seuil de classification pour prédire les classes finales à partir des probabilités prédites."
   ]
  },
  {
   "cell_type": "markdown",
   "id": "4bda0bf9",
   "metadata": {
    "id": "8f214ca6-5bc0-4267-863a-47aa5b5cf543"
   },
   "source": [
    "## 2.3. Optimisation de la classification SVM avec seuil de prédiction pour améliorer la performance du modèle<a name=\"2.3\"></a>\n",
    "[return to the plan](#0) "
   ]
  },
  {
   "cell_type": "code",
   "execution_count": 22,
   "id": "0adc4f27",
   "metadata": {
    "executionInfo": {
     "elapsed": 290,
     "status": "ok",
     "timestamp": 1683469470666,
     "user": {
      "displayName": "Ben-Mekki AYADI (Ben)",
      "userId": "10473218066512117106"
     },
     "user_tz": -120
    },
    "id": "fcfed193-6d48-45af-b79b-5b5555c1a597"
   },
   "outputs": [],
   "source": [
    "# Instanciation d'un objet SVM avec une fonction de noyau RBF et gamma='scale' et probability= True' pour retourner les probabilité\n",
    "svm = SVC(probability=True, gamma='scale')"
   ]
  },
  {
   "cell_type": "code",
   "execution_count": 23,
   "id": "dc29c3e2",
   "metadata": {
    "colab": {
     "base_uri": "https://localhost:8080/",
     "height": 75
    },
    "executionInfo": {
     "elapsed": 401406,
     "status": "ok",
     "timestamp": 1683469871785,
     "user": {
      "displayName": "Ben-Mekki AYADI (Ben)",
      "userId": "10473218066512117106"
     },
     "user_tz": -120
    },
    "id": "a0cb6341-1298-4abe-88f4-6ffad553353d",
    "outputId": "864eb5b9-40bf-42fc-9951-6d3c137ba0bd"
   },
   "outputs": [
    {
     "data": {
      "text/html": [
       "<style>#sk-container-id-3 {color: black;background-color: white;}#sk-container-id-3 pre{padding: 0;}#sk-container-id-3 div.sk-toggleable {background-color: white;}#sk-container-id-3 label.sk-toggleable__label {cursor: pointer;display: block;width: 100%;margin-bottom: 0;padding: 0.3em;box-sizing: border-box;text-align: center;}#sk-container-id-3 label.sk-toggleable__label-arrow:before {content: \"▸\";float: left;margin-right: 0.25em;color: #696969;}#sk-container-id-3 label.sk-toggleable__label-arrow:hover:before {color: black;}#sk-container-id-3 div.sk-estimator:hover label.sk-toggleable__label-arrow:before {color: black;}#sk-container-id-3 div.sk-toggleable__content {max-height: 0;max-width: 0;overflow: hidden;text-align: left;background-color: #f0f8ff;}#sk-container-id-3 div.sk-toggleable__content pre {margin: 0.2em;color: black;border-radius: 0.25em;background-color: #f0f8ff;}#sk-container-id-3 input.sk-toggleable__control:checked~div.sk-toggleable__content {max-height: 200px;max-width: 100%;overflow: auto;}#sk-container-id-3 input.sk-toggleable__control:checked~label.sk-toggleable__label-arrow:before {content: \"▾\";}#sk-container-id-3 div.sk-estimator input.sk-toggleable__control:checked~label.sk-toggleable__label {background-color: #d4ebff;}#sk-container-id-3 div.sk-label input.sk-toggleable__control:checked~label.sk-toggleable__label {background-color: #d4ebff;}#sk-container-id-3 input.sk-hidden--visually {border: 0;clip: rect(1px 1px 1px 1px);clip: rect(1px, 1px, 1px, 1px);height: 1px;margin: -1px;overflow: hidden;padding: 0;position: absolute;width: 1px;}#sk-container-id-3 div.sk-estimator {font-family: monospace;background-color: #f0f8ff;border: 1px dotted black;border-radius: 0.25em;box-sizing: border-box;margin-bottom: 0.5em;}#sk-container-id-3 div.sk-estimator:hover {background-color: #d4ebff;}#sk-container-id-3 div.sk-parallel-item::after {content: \"\";width: 100%;border-bottom: 1px solid gray;flex-grow: 1;}#sk-container-id-3 div.sk-label:hover label.sk-toggleable__label {background-color: #d4ebff;}#sk-container-id-3 div.sk-serial::before {content: \"\";position: absolute;border-left: 1px solid gray;box-sizing: border-box;top: 0;bottom: 0;left: 50%;z-index: 0;}#sk-container-id-3 div.sk-serial {display: flex;flex-direction: column;align-items: center;background-color: white;padding-right: 0.2em;padding-left: 0.2em;position: relative;}#sk-container-id-3 div.sk-item {position: relative;z-index: 1;}#sk-container-id-3 div.sk-parallel {display: flex;align-items: stretch;justify-content: center;background-color: white;position: relative;}#sk-container-id-3 div.sk-item::before, #sk-container-id-3 div.sk-parallel-item::before {content: \"\";position: absolute;border-left: 1px solid gray;box-sizing: border-box;top: 0;bottom: 0;left: 50%;z-index: -1;}#sk-container-id-3 div.sk-parallel-item {display: flex;flex-direction: column;z-index: 1;position: relative;background-color: white;}#sk-container-id-3 div.sk-parallel-item:first-child::after {align-self: flex-end;width: 50%;}#sk-container-id-3 div.sk-parallel-item:last-child::after {align-self: flex-start;width: 50%;}#sk-container-id-3 div.sk-parallel-item:only-child::after {width: 0;}#sk-container-id-3 div.sk-dashed-wrapped {border: 1px dashed gray;margin: 0 0.4em 0.5em 0.4em;box-sizing: border-box;padding-bottom: 0.4em;background-color: white;}#sk-container-id-3 div.sk-label label {font-family: monospace;font-weight: bold;display: inline-block;line-height: 1.2em;}#sk-container-id-3 div.sk-label-container {text-align: center;}#sk-container-id-3 div.sk-container {/* jupyter's `normalize.less` sets `[hidden] { display: none; }` but bootstrap.min.css set `[hidden] { display: none !important; }` so we also need the `!important` here to be able to override the default hidden behavior on the sphinx rendered scikit-learn.org. See: https://github.com/scikit-learn/scikit-learn/issues/21755 */display: inline-block !important;position: relative;}#sk-container-id-3 div.sk-text-repr-fallback {display: none;}</style><div id=\"sk-container-id-3\" class=\"sk-top-container\"><div class=\"sk-text-repr-fallback\"><pre>SVC(probability=True)</pre><b>In a Jupyter environment, please rerun this cell to show the HTML representation or trust the notebook. <br />On GitHub, the HTML representation is unable to render, please try loading this page with nbviewer.org.</b></div><div class=\"sk-container\" hidden><div class=\"sk-item\"><div class=\"sk-estimator sk-toggleable\"><input class=\"sk-toggleable__control sk-hidden--visually\" id=\"sk-estimator-id-3\" type=\"checkbox\" checked><label for=\"sk-estimator-id-3\" class=\"sk-toggleable__label sk-toggleable__label-arrow\">SVC</label><div class=\"sk-toggleable__content\"><pre>SVC(probability=True)</pre></div></div></div></div></div>"
      ],
      "text/plain": [
       "SVC(probability=True)"
      ]
     },
     "execution_count": 23,
     "metadata": {},
     "output_type": "execute_result"
    }
   ],
   "source": [
    "# Entrainement d'un modèle SVM sur les données d'entraînement X_train, y_train\n",
    "svm.fit(X_train, y_train)        "
   ]
  },
  {
   "cell_type": "markdown",
   "id": "19518c22",
   "metadata": {
    "id": "46ce8bdf-13b2-4972-9d69-436e66c579f6"
   },
   "source": [
    "#### 2.3.1 Application d'un seuil de classification à 0.4\n",
    "##### Si raintomorow est prédite avec une probabilité supérieure ou égale à 40 %, la classe finale sera prédite comme 1, sinon elle sera prédite comme 0."
   ]
  },
  {
   "cell_type": "code",
   "execution_count": 24,
   "id": "013d8023",
   "metadata": {
    "executionInfo": {
     "elapsed": 28,
     "status": "ok",
     "timestamp": 1683469871789,
     "user": {
      "displayName": "Ben-Mekki AYADI (Ben)",
      "userId": "10473218066512117106"
     },
     "user_tz": -120
    },
    "id": "8fc83348-b575-4b57-aa08-4ac294e0dac3"
   },
   "outputs": [],
   "source": [
    "threshold = 0.4 "
   ]
  },
  {
   "cell_type": "code",
   "execution_count": 25,
   "id": "4076042a",
   "metadata": {
    "executionInfo": {
     "elapsed": 16236,
     "status": "ok",
     "timestamp": 1683469888004,
     "user": {
      "displayName": "Ben-Mekki AYADI (Ben)",
      "userId": "10473218066512117106"
     },
     "user_tz": -120
    },
    "id": "c9c7751c-2104-41e4-9d24-c1e4229f8ebc"
   },
   "outputs": [],
   "source": [
    "probs = svm.predict_proba(X_test)"
   ]
  },
  {
   "cell_type": "code",
   "execution_count": 26,
   "id": "89d0ccd9",
   "metadata": {
    "executionInfo": {
     "elapsed": 303,
     "status": "ok",
     "timestamp": 1683469888007,
     "user": {
      "displayName": "Ben-Mekki AYADI (Ben)",
      "userId": "10473218066512117106"
     },
     "user_tz": -120
    },
    "id": "e16489e7-a639-476d-8e66-51d86438536c"
   },
   "outputs": [],
   "source": [
    "pred_class = (probs[:,1]>=threshold).astype('int')"
   ]
  },
  {
   "cell_type": "code",
   "execution_count": 27,
   "id": "105ea564",
   "metadata": {
    "colab": {
     "base_uri": "https://localhost:8080/",
     "height": 352
    },
    "executionInfo": {
     "elapsed": 302,
     "status": "ok",
     "timestamp": 1683469888011,
     "user": {
      "displayName": "Ben-Mekki AYADI (Ben)",
      "userId": "10473218066512117106"
     },
     "user_tz": -120
    },
    "id": "20271580-ef35-42ef-9847-722684a71082",
    "outputId": "d63a143d-7f2a-49e7-e666-85e1b72ea219"
   },
   "outputs": [
    {
     "data": {
      "text/html": [
       "\n",
       "  <div id=\"df-6077e431-0133-473e-ba21-679f558eaaf3\">\n",
       "    <div class=\"colab-df-container\">\n",
       "      <div>\n",
       "<style scoped>\n",
       "    .dataframe tbody tr th:only-of-type {\n",
       "        vertical-align: middle;\n",
       "    }\n",
       "\n",
       "    .dataframe tbody tr th {\n",
       "        vertical-align: top;\n",
       "    }\n",
       "\n",
       "    .dataframe thead th {\n",
       "        text-align: right;\n",
       "    }\n",
       "</style>\n",
       "<table border=\"1\" class=\"dataframe\">\n",
       "  <thead>\n",
       "    <tr style=\"text-align: right;\">\n",
       "      <th>Prédiction</th>\n",
       "      <th>0</th>\n",
       "      <th>1</th>\n",
       "    </tr>\n",
       "    <tr>\n",
       "      <th>Classe réelle</th>\n",
       "      <th></th>\n",
       "      <th></th>\n",
       "    </tr>\n",
       "  </thead>\n",
       "  <tbody>\n",
       "    <tr>\n",
       "      <th>0</th>\n",
       "      <td>11433</td>\n",
       "      <td>807</td>\n",
       "    </tr>\n",
       "    <tr>\n",
       "      <th>1</th>\n",
       "      <td>1158</td>\n",
       "      <td>1144</td>\n",
       "    </tr>\n",
       "  </tbody>\n",
       "</table>\n",
       "</div>\n",
       "      <button class=\"colab-df-convert\" onclick=\"convertToInteractive('df-6077e431-0133-473e-ba21-679f558eaaf3')\"\n",
       "              title=\"Convert this dataframe to an interactive table.\"\n",
       "              style=\"display:none;\">\n",
       "        \n",
       "  <svg xmlns=\"http://www.w3.org/2000/svg\" height=\"24px\"viewBox=\"0 0 24 24\"\n",
       "       width=\"24px\">\n",
       "    <path d=\"M0 0h24v24H0V0z\" fill=\"none\"/>\n",
       "    <path d=\"M18.56 5.44l.94 2.06.94-2.06 2.06-.94-2.06-.94-.94-2.06-.94 2.06-2.06.94zm-11 1L8.5 8.5l.94-2.06 2.06-.94-2.06-.94L8.5 2.5l-.94 2.06-2.06.94zm10 10l.94 2.06.94-2.06 2.06-.94-2.06-.94-.94-2.06-.94 2.06-2.06.94z\"/><path d=\"M17.41 7.96l-1.37-1.37c-.4-.4-.92-.59-1.43-.59-.52 0-1.04.2-1.43.59L10.3 9.45l-7.72 7.72c-.78.78-.78 2.05 0 2.83L4 21.41c.39.39.9.59 1.41.59.51 0 1.02-.2 1.41-.59l7.78-7.78 2.81-2.81c.8-.78.8-2.07 0-2.86zM5.41 20L4 18.59l7.72-7.72 1.47 1.35L5.41 20z\"/>\n",
       "  </svg>\n",
       "      </button>\n",
       "      \n",
       "  <style>\n",
       "    .colab-df-container {\n",
       "      display:flex;\n",
       "      flex-wrap:wrap;\n",
       "      gap: 12px;\n",
       "    }\n",
       "\n",
       "    .colab-df-convert {\n",
       "      background-color: #E8F0FE;\n",
       "      border: none;\n",
       "      border-radius: 50%;\n",
       "      cursor: pointer;\n",
       "      display: none;\n",
       "      fill: #1967D2;\n",
       "      height: 32px;\n",
       "      padding: 0 0 0 0;\n",
       "      width: 32px;\n",
       "    }\n",
       "\n",
       "    .colab-df-convert:hover {\n",
       "      background-color: #E2EBFA;\n",
       "      box-shadow: 0px 1px 2px rgba(60, 64, 67, 0.3), 0px 1px 3px 1px rgba(60, 64, 67, 0.15);\n",
       "      fill: #174EA6;\n",
       "    }\n",
       "\n",
       "    [theme=dark] .colab-df-convert {\n",
       "      background-color: #3B4455;\n",
       "      fill: #D2E3FC;\n",
       "    }\n",
       "\n",
       "    [theme=dark] .colab-df-convert:hover {\n",
       "      background-color: #434B5C;\n",
       "      box-shadow: 0px 1px 3px 1px rgba(0, 0, 0, 0.15);\n",
       "      filter: drop-shadow(0px 1px 2px rgba(0, 0, 0, 0.3));\n",
       "      fill: #FFFFFF;\n",
       "    }\n",
       "  </style>\n",
       "\n",
       "      <script>\n",
       "        const buttonEl =\n",
       "          document.querySelector('#df-6077e431-0133-473e-ba21-679f558eaaf3 button.colab-df-convert');\n",
       "        buttonEl.style.display =\n",
       "          google.colab.kernel.accessAllowed ? 'block' : 'none';\n",
       "\n",
       "        async function convertToInteractive(key) {\n",
       "          const element = document.querySelector('#df-6077e431-0133-473e-ba21-679f558eaaf3');\n",
       "          const dataTable =\n",
       "            await google.colab.kernel.invokeFunction('convertToInteractive',\n",
       "                                                     [key], {});\n",
       "          if (!dataTable) return;\n",
       "\n",
       "          const docLinkHtml = 'Like what you see? Visit the ' +\n",
       "            '<a target=\"_blank\" href=https://colab.research.google.com/notebooks/data_table.ipynb>data table notebook</a>'\n",
       "            + ' to learn more about interactive tables.';\n",
       "          element.innerHTML = '';\n",
       "          dataTable['output_type'] = 'display_data';\n",
       "          await google.colab.output.renderOutput(dataTable, element);\n",
       "          const docLink = document.createElement('div');\n",
       "          docLink.innerHTML = docLinkHtml;\n",
       "          element.appendChild(docLink);\n",
       "        }\n",
       "      </script>\n",
       "    </div>\n",
       "  </div>\n",
       "  "
      ],
      "text/plain": [
       "Prédiction         0     1\n",
       "Classe réelle             \n",
       "0              11433   807\n",
       "1               1158  1144"
      ]
     },
     "metadata": {},
     "output_type": "display_data"
    },
    {
     "name": "stdout",
     "output_type": "stream",
     "text": [
      "\n",
      "\n",
      "Rapport de classification: métriques de performance pour chaque classe\n",
      "\n",
      "\n",
      "                   pre       rec       spe        f1       geo       iba       sup\n",
      "\n",
      "          0       0.91      0.93      0.50      0.92      0.68      0.48     12240\n",
      "          1       0.59      0.50      0.93      0.54      0.68      0.44      2302\n",
      "\n",
      "avg / total       0.86      0.86      0.57      0.86      0.68      0.48     14542\n",
      "\n"
     ]
    }
   ],
   "source": [
    "# Création d'une table de contingence (matrice de confusion) montrant le nombre de prédictions correctes et incorrectes pour chaque classe\n",
    "contingency_table = pd.crosstab(y_test, pred_class, rownames=['Classe réelle'], colnames=['Prédiction'])\n",
    "\n",
    "display(contingency_table)\n",
    "print(\"\\n\")\n",
    "\n",
    "print(\"Rapport de classification: métriques de performance pour chaque classe\")\n",
    "print(\"\\n\")\n",
    "report = classification_report_imbalanced(y_test, pred_class)\n",
    "print(report)\n"
   ]
  },
  {
   "cell_type": "markdown",
   "id": "da6086d9",
   "metadata": {
    "id": "f49261b9-7f87-48e2-bb0b-b192edea976d"
   },
   "source": [
    "#### <b> Analyse :\n",
    "> * Le rapport de classification montre que le modèle a une précision élevée pour la classe 0 (pas de pluie demain), mais une précision beaucoup plus faible pour la classe 1 (pluie demain). \n",
    "> * Le rappel est similaire pour les deux classes, mais la spécificité est légèrement plus élevée pour la classe 1. \n",
    "> * Le score F1 est plus élevé pour la classe 0 que pour la classe 1. \n",
    "> * La moyenne géométrique et l'exactitude équilibrée sont similaires pour les deux classes et indiquent une performance globale moyenne du modèle. <b> Cela suggère que le modèle a plus de difficulté à prédire les jours avec pluie que les jours sans pluie.\n"
   ]
  },
  {
   "cell_type": "markdown",
   "id": "35e8b311",
   "metadata": {
    "id": "fd24f49c-f763-4de5-931f-1f40e66b3c28"
   },
   "source": [
    "Le nouveau résultat montre une amélioration légère pour la classe 1 (pluie demain) en termes de rappel et de spécificité, mais la précision est toujours faible. \n",
    "Le seuil de classification pourrait être ajusté pour tenter d'améliorer la précision de la classe 1 au détriment de la précision de la classe 0. "
   ]
  },
  {
   "cell_type": "markdown",
   "id": "6a67b9d4",
   "metadata": {
    "id": "acf31771-7d64-40e6-964c-78c0d0b2c182"
   },
   "source": [
    "#### 2.3.2 Impact de l'ajustement du seuil de classification sur la performance du modèle"
   ]
  },
  {
   "cell_type": "code",
   "execution_count": 28,
   "id": "499f303f",
   "metadata": {
    "colab": {
     "base_uri": "https://localhost:8080/"
    },
    "executionInfo": {
     "elapsed": 143395,
     "status": "ok",
     "timestamp": 1683470031198,
     "user": {
      "displayName": "Ben-Mekki AYADI (Ben)",
      "userId": "10473218066512117106"
     },
     "user_tz": -120
    },
    "id": "143dcce1-08a5-448b-a76e-af7d591ae041",
    "outputId": "eb1c34a8-281d-4287-9209-9c45e09f59d4"
   },
   "outputs": [
    {
     "name": "stdout",
     "output_type": "stream",
     "text": [
      " Seuil  Précision (classe 0)  Rappel (classe 0)  F1-score (classe 0)  Précision (classe 1)  Rappel (classe 1)  F1-score (classe 1)\n",
      "   0.1              0.956512           0.690033             0.801709              0.335784           0.833189             0.478662\n",
      "   0.2              0.934306           0.831944             0.880159              0.435355           0.688966             0.533558\n",
      "   0.3              0.918964           0.895915             0.907293              0.511690           0.579930             0.543677\n",
      "   0.4              0.908030           0.934069             0.920865              0.586366           0.496959             0.537973\n",
      "   0.5              0.899423           0.955637             0.926679              0.646714           0.431798             0.517843\n",
      "   0.6              0.889563           0.970670             0.928348              0.697302           0.359253             0.474197\n",
      "   0.7              0.880366           0.981781             0.928312              0.750000           0.290617             0.418910\n",
      "   0.8              0.870396           0.990359             0.926510              0.808130           0.215899             0.340761\n",
      "   0.9              0.858087           0.996895             0.922298              0.881988           0.123371             0.216463\n"
     ]
    }
   ],
   "source": [
    "# Liste des seuils de classification \n",
    "thresholds = np.arange(0.1, 1.0, 0.1) \n",
    "\n",
    "# Initialisation des listes pour stocker les scores\n",
    "f1_scores_0 = []\n",
    "f1_scores_1 = []\n",
    "precisions_0 = []\n",
    "precisions_1 = []\n",
    "recalls_0 = []\n",
    "recalls_1 = []\n",
    "\n",
    "# Initialisation du DataFrame\n",
    "columns = ['Seuil', 'Précision (classe 0)', 'Rappel (classe 0)', 'F1-score (classe 0)', 'Précision (classe 1)', 'Rappel (classe 1)', 'F1-score (classe 1)']\n",
    "df_report_thresholds = pd.DataFrame(columns=columns)\n",
    "\n",
    "for threshold in thresholds:\n",
    "    # Prédiction des classes avec le seuil donné\n",
    "    probs = svm.predict_proba(X_test)\n",
    "    pred_class = (probs[:,1]>=threshold).astype('int')\n",
    "    \n",
    "    # Rapport de classification pour les deux classes\n",
    "    report_dict = classification_report_imbalanced(y_test, pred_class, output_dict=True)\n",
    "    row = {\n",
    "        'Seuil': threshold,\n",
    "        'Précision (classe 0)': report_dict[0]['pre'],\n",
    "        'Rappel (classe 0)': report_dict[0]['rec'],\n",
    "        'F1-score (classe 0)': report_dict[0]['f1'],\n",
    "        'Précision (classe 1)': report_dict[1]['pre'],\n",
    "        'Rappel (classe 1)': report_dict[1]['rec'],\n",
    "        'F1-score (classe 1)': report_dict[1]['f1']\n",
    "    }\n",
    "    df_report_thresholds = pd.concat([df_report_thresholds, pd.DataFrame(row, index=[0])], ignore_index=True)\n",
    "\n",
    "# Affichage du DataFrame sous forme de tableau\n",
    "print(df_report_thresholds.to_string(index=False))"
   ]
  },
  {
   "cell_type": "code",
   "execution_count": 29,
   "id": "d453a18a",
   "metadata": {
    "colab": {
     "base_uri": "https://localhost:8080/",
     "height": 321
    },
    "executionInfo": {
     "elapsed": 1088,
     "status": "ok",
     "timestamp": 1683470032269,
     "user": {
      "displayName": "Ben-Mekki AYADI (Ben)",
      "userId": "10473218066512117106"
     },
     "user_tz": -120
    },
    "id": "1cd9294e-eb52-46d9-8b2a-21544e0e03c5",
    "outputId": "4af03773-8b2c-4df4-eb9a-698756bb35e8"
   },
   "outputs": [
    {
     "data": {
      "image/png": "[encoded data removed]",
      "text/plain": [
       "<Figure size 1700x600 with 2 Axes>"
      ]
     },
     "metadata": {},
     "output_type": "display_data"
    }
   ],
   "source": [
    "fig, (ax1, ax2) = plt.subplots(1, 2, figsize=(17, 6))\n",
    "\n",
    "sns.lineplot(x='Seuil', y='Précision (classe 0)', data=df_report_thresholds, label='Precision', ax=ax1)\n",
    "sns.lineplot(x='Seuil', y='Rappel (classe 0)', data=df_report_thresholds, label='Recall', ax=ax1)\n",
    "sns.lineplot(x='Seuil', y='F1-score (classe 0)', data=df_report_thresholds, label='F1-score', ax=ax1)\n",
    "ax1.set_xlabel('Threshold')\n",
    "ax1.set_ylabel('Score')\n",
    "ax1.set_title(\"No Rain tomorrow (classe 0)\")\n",
    "ax1.legend()\n",
    "\n",
    "sns.lineplot(x='Seuil', y='Précision (classe 1)', data=df_report_thresholds, label='Precision', ax=ax2)\n",
    "sns.lineplot(x='Seuil', y='Rappel (classe 1)', data=df_report_thresholds, label='Recall', ax=ax2)\n",
    "sns.lineplot(x='Seuil', y='F1-score (classe 1)', data=df_report_thresholds, label='F1-score', ax=ax2)\n",
    "ax2.set_xlabel('Threshold')\n",
    "ax2.set_ylabel('Score')\n",
    "ax2.set_title(\"Rain tomorrow (classe 1)\")\n",
    "ax2.legend()\n",
    "\n",
    "fig.tight_layout()\n",
    "plt.show()"
   ]
  },
  {
   "cell_type": "markdown",
   "id": "ddfdba69",
   "metadata": {
    "id": "3be6ea01-2cc8-4745-ba2f-a957bdae3947"
   },
   "source": [
    "#### <b> Analyse :\n",
    "\n",
    "<b> En ce qui concerne les performances maximales atteintes pour la classe 1, la précision maximale est de 0,81, le rappel maximal est de 0,50 et le F1-score maximal est de 0,62. Ces valeurs montrent que le modèle a des difficultés à prédire la pluie le lendemain (raintomorrow).\n",
    "> En analysant les résultats pour la classe 1, on peut noter que la précision, le rappel et le F1-score augmentent tous avec la valeur du seuil jusqu'à un certain point, après quoi ils commencent à diminuer. Cela suggère qu'il existe un seuil optimal pour la classe 1 au-delà duquel le modèle commence à perdre en performances.\n",
    "> \n",
    "> Le rappel pour la classe 1 est assez faible, ce qui signifie que le modèle manque de nombreuses prédictions positives (raintomorrow = 1).  \n"
   ]
  },
  {
   "cell_type": "markdown",
   "id": "08483b1d",
   "metadata": {
    "id": "ef6f736a-f20f-4f3b-bdcd-d2c1a22979a6"
   },
   "source": [
    "<b> Ce qui nous conduit à rechercher et à tester un autre modèle tel que BalancedRandomForestClassifier (niveau de performance ++)"
   ]
  },
  {
   "cell_type": "markdown",
   "id": "c1bd3587",
   "metadata": {
    "id": "0b418f19-144a-4efd-b82d-c197a07153ce"
   },
   "source": [
    "# 3. Application d'un modèle Balanced Random Forest Classifier<a name=\"3\"></a>\n",
    "[return to the plan](#0)  "
   ]
  },
  {
   "cell_type": "code",
   "execution_count": null,
   "id": "4b402dd5",
   "metadata": {
    "id": "8d3846da-1e0b-44bf-9247-e5b8a3d62ee2"
   },
   "outputs": [],
   "source": [
    "# Création d'une instance de la classe BalancedRandomForestClassifier\n",
    "bclf = BalancedRandomForestClassifier()\n",
    "\n",
    "# Entraînement du modèle sur les données d'entraînement\n",
    "bclf.fit(X_train, y_train)\n",
    "\n",
    "# Prédiction des étiquettes de classe pour les données de test en utilisant le modèle entraîné\n",
    "y_pred = bclf.predict(X_test)"
   ]
  },
  {
   "cell_type": "code",
   "execution_count": 31,
   "id": "19d8ebd0",
   "metadata": {
    "colab": {
     "base_uri": "https://localhost:8080/",
     "height": 352
    },
    "executionInfo": {
     "elapsed": 230,
     "status": "ok",
     "timestamp": 1683470037038,
     "user": {
      "displayName": "Ben-Mekki AYADI (Ben)",
      "userId": "10473218066512117106"
     },
     "user_tz": -120
    },
    "id": "8135cc0c-0967-4cf6-98bc-2acb026a67e3",
    "outputId": "894fcc0f-9098-42d0-d6ab-c2086d0d732d"
   },
   "outputs": [
    {
     "data": {
      "text/html": [
       "\n",
       "  <div id=\"df-5c226f82-670d-42c5-a21a-4e374e586c7a\">\n",
       "    <div class=\"colab-df-container\">\n",
       "      <div>\n",
       "<style scoped>\n",
       "    .dataframe tbody tr th:only-of-type {\n",
       "        vertical-align: middle;\n",
       "    }\n",
       "\n",
       "    .dataframe tbody tr th {\n",
       "        vertical-align: top;\n",
       "    }\n",
       "\n",
       "    .dataframe thead th {\n",
       "        text-align: right;\n",
       "    }\n",
       "</style>\n",
       "<table border=\"1\" class=\"dataframe\">\n",
       "  <thead>\n",
       "    <tr style=\"text-align: right;\">\n",
       "      <th>Prédiction</th>\n",
       "      <th>0</th>\n",
       "      <th>1</th>\n",
       "    </tr>\n",
       "    <tr>\n",
       "      <th>Classe réelle</th>\n",
       "      <th></th>\n",
       "      <th></th>\n",
       "    </tr>\n",
       "  </thead>\n",
       "  <tbody>\n",
       "    <tr>\n",
       "      <th>0</th>\n",
       "      <td>9710</td>\n",
       "      <td>2530</td>\n",
       "    </tr>\n",
       "    <tr>\n",
       "      <th>1</th>\n",
       "      <td>411</td>\n",
       "      <td>1891</td>\n",
       "    </tr>\n",
       "  </tbody>\n",
       "</table>\n",
       "</div>\n",
       "      <button class=\"colab-df-convert\" onclick=\"convertToInteractive('df-5c226f82-670d-42c5-a21a-4e374e586c7a')\"\n",
       "              title=\"Convert this dataframe to an interactive table.\"\n",
       "              style=\"display:none;\">\n",
       "        \n",
       "  <svg xmlns=\"http://www.w3.org/2000/svg\" height=\"24px\"viewBox=\"0 0 24 24\"\n",
       "       width=\"24px\">\n",
       "    <path d=\"M0 0h24v24H0V0z\" fill=\"none\"/>\n",
       "    <path d=\"M18.56 5.44l.94 2.06.94-2.06 2.06-.94-2.06-.94-.94-2.06-.94 2.06-2.06.94zm-11 1L8.5 8.5l.94-2.06 2.06-.94-2.06-.94L8.5 2.5l-.94 2.06-2.06.94zm10 10l.94 2.06.94-2.06 2.06-.94-2.06-.94-.94-2.06-.94 2.06-2.06.94z\"/><path d=\"M17.41 7.96l-1.37-1.37c-.4-.4-.92-.59-1.43-.59-.52 0-1.04.2-1.43.59L10.3 9.45l-7.72 7.72c-.78.78-.78 2.05 0 2.83L4 21.41c.39.39.9.59 1.41.59.51 0 1.02-.2 1.41-.59l7.78-7.78 2.81-2.81c.8-.78.8-2.07 0-2.86zM5.41 20L4 18.59l7.72-7.72 1.47 1.35L5.41 20z\"/>\n",
       "  </svg>\n",
       "      </button>\n",
       "      \n",
       "  <style>\n",
       "    .colab-df-container {\n",
       "      display:flex;\n",
       "      flex-wrap:wrap;\n",
       "      gap: 12px;\n",
       "    }\n",
       "\n",
       "    .colab-df-convert {\n",
       "      background-color: #E8F0FE;\n",
       "      border: none;\n",
       "      border-radius: 50%;\n",
       "      cursor: pointer;\n",
       "      display: none;\n",
       "      fill: #1967D2;\n",
       "      height: 32px;\n",
       "      padding: 0 0 0 0;\n",
       "      width: 32px;\n",
       "    }\n",
       "\n",
       "    .colab-df-convert:hover {\n",
       "      background-color: #E2EBFA;\n",
       "      box-shadow: 0px 1px 2px rgba(60, 64, 67, 0.3), 0px 1px 3px 1px rgba(60, 64, 67, 0.15);\n",
       "      fill: #174EA6;\n",
       "    }\n",
       "\n",
       "    [theme=dark] .colab-df-convert {\n",
       "      background-color: #3B4455;\n",
       "      fill: #D2E3FC;\n",
       "    }\n",
       "\n",
       "    [theme=dark] .colab-df-convert:hover {\n",
       "      background-color: #434B5C;\n",
       "      box-shadow: 0px 1px 3px 1px rgba(0, 0, 0, 0.15);\n",
       "      filter: drop-shadow(0px 1px 2px rgba(0, 0, 0, 0.3));\n",
       "      fill: #FFFFFF;\n",
       "    }\n",
       "  </style>\n",
       "\n",
       "      <script>\n",
       "        const buttonEl =\n",
       "          document.querySelector('#df-5c226f82-670d-42c5-a21a-4e374e586c7a button.colab-df-convert');\n",
       "        buttonEl.style.display =\n",
       "          google.colab.kernel.accessAllowed ? 'block' : 'none';\n",
       "\n",
       "        async function convertToInteractive(key) {\n",
       "          const element = document.querySelector('#df-5c226f82-670d-42c5-a21a-4e374e586c7a');\n",
       "          const dataTable =\n",
       "            await google.colab.kernel.invokeFunction('convertToInteractive',\n",
       "                                                     [key], {});\n",
       "          if (!dataTable) return;\n",
       "\n",
       "          const docLinkHtml = 'Like what you see? Visit the ' +\n",
       "            '<a target=\"_blank\" href=https://colab.research.google.com/notebooks/data_table.ipynb>data table notebook</a>'\n",
       "            + ' to learn more about interactive tables.';\n",
       "          element.innerHTML = '';\n",
       "          dataTable['output_type'] = 'display_data';\n",
       "          await google.colab.output.renderOutput(dataTable, element);\n",
       "          const docLink = document.createElement('div');\n",
       "          docLink.innerHTML = docLinkHtml;\n",
       "          element.appendChild(docLink);\n",
       "        }\n",
       "      </script>\n",
       "    </div>\n",
       "  </div>\n",
       "  "
      ],
      "text/plain": [
       "Prédiction        0     1\n",
       "Classe réelle            \n",
       "0              9710  2530\n",
       "1               411  1891"
      ]
     },
     "metadata": {},
     "output_type": "display_data"
    },
    {
     "name": "stdout",
     "output_type": "stream",
     "text": [
      "\n",
      "\n",
      "Rapport de classification: métriques de performance pour chaque classe\n",
      "\n",
      "\n",
      "                   pre       rec       spe        f1       geo       iba       sup\n",
      "\n",
      "          0       0.96      0.79      0.82      0.87      0.81      0.65     12240\n",
      "          1       0.43      0.82      0.79      0.56      0.81      0.65      2302\n",
      "\n",
      "avg / total       0.88      0.80      0.82      0.82      0.81      0.65     14542\n",
      "\n"
     ]
    }
   ],
   "source": [
    "# Création d'une table de contingence (matrice de confusion) montrant le nombre de prédictions correctes et incorrectes pour chaque classe\n",
    "contingency_table = pd.crosstab(y_test, y_pred, rownames=['Classe réelle'], colnames=['Prédiction'])\n",
    "\n",
    "display(contingency_table)\n",
    "print(\"\\n\")\n",
    "\n",
    "print(\"Rapport de classification: métriques de performance pour chaque classe\")\n",
    "print(\"\\n\")\n",
    "report = classification_report_imbalanced(y_test, y_pred)\n",
    "print(report)"
   ]
  },
  {
   "cell_type": "markdown",
   "id": "75363688-64c0-4df8-b697-0e8b66df616e",
   "metadata": {},
   "source": [
    "#### <b> Analyse </b>:\n",
    "> En comparant les deux modèles, on peut voir que le Balanced Random Forest Classifier présente une performance globalement meilleure pour la classe 1, avec un rappel (recall) plus élevé, une précision plus équilibrée et un score F1 plus élevé. Cela indique que le modèle équilibré parvient à mieux détecter la classe minoritaire.\n",
    "\n",
    "Cependant, le Balanced Random Forest Classifier a une précision plus faible pour la classe 1 par rapport au Random Forest Classifier. Cela signifie que le modèle équilibré peut générer plus de faux positifs pour la classe minoritaire.\n",
    "\n",
    "\n",
    "Il est donc plus pertinent d'utiliser le modèle Balanced Random Forest Classifier. Ce modèle est conçu pour traiter les problèmes de déséquilibre de classe et est plus performant dans la détection de la classe minoritaire. \n",
    "\n",
    "Le Balanced Random Forest Classifier présente un rappel plus élevé, ce qui signifie qu'il est capable de détecter plus efficacement les cas positifs de pluie. Cela peut aider à minimiser les faux négatifs, c'est-à-dire prédire à tort qu'il ne pleuvra pas alors qu'en réalité il pleuvra.\n",
    "\n",
    "Même si le Balanced Random Forest Classifier peut générer plus de faux positifs, c'est-à-dire prédire à tort qu'il pleuvra alors qu'en réalité il ne pleuvra pas, dans ce contexte de prédire la pluie du lendemain, il est souvent préférable d'errer du côté de la prudence en prédisant plus de pluie que nécessaire."
   ]
  },
  {
   "cell_type": "markdown",
   "id": "ab9d2f33-83de-458f-bb57-9d2498a4d675",
   "metadata": {},
   "source": [
    "# 4.Random Forest avec Balanced Accuracy sur le jeu de données d'origine<a name=\"4\"></a>\n",
    "[return to the plan](#0) "
   ]
  },
  {
   "cell_type": "code",
   "execution_count": 15,
   "id": "ce503b19-19fe-466b-955c-f162b53d4137",
   "metadata": {},
   "outputs": [],
   "source": [
    "# Instanciation d'un classifieur Random Forest\n",
    "rf_classifier = RandomForestClassifier()"
   ]
  },
  {
   "cell_type": "code",
   "execution_count": 17,
   "id": "86f57676-9ab3-4c0e-bdbb-3273dbc7f043",
   "metadata": {},
   "outputs": [
    {
     "data": {
      "text/html": [
       "<style>#sk-container-id-2 {color: black;background-color: white;}#sk-container-id-2 pre{padding: 0;}#sk-container-id-2 div.sk-toggleable {background-color: white;}#sk-container-id-2 label.sk-toggleable__label {cursor: pointer;display: block;width: 100%;margin-bottom: 0;padding: 0.3em;box-sizing: border-box;text-align: center;}#sk-container-id-2 label.sk-toggleable__label-arrow:before {content: \"▸\";float: left;margin-right: 0.25em;color: #696969;}#sk-container-id-2 label.sk-toggleable__label-arrow:hover:before {color: black;}#sk-container-id-2 div.sk-estimator:hover label.sk-toggleable__label-arrow:before {color: black;}#sk-container-id-2 div.sk-toggleable__content {max-height: 0;max-width: 0;overflow: hidden;text-align: left;background-color: #f0f8ff;}#sk-container-id-2 div.sk-toggleable__content pre {margin: 0.2em;color: black;border-radius: 0.25em;background-color: #f0f8ff;}#sk-container-id-2 input.sk-toggleable__control:checked~div.sk-toggleable__content {max-height: 200px;max-width: 100%;overflow: auto;}#sk-container-id-2 input.sk-toggleable__control:checked~label.sk-toggleable__label-arrow:before {content: \"▾\";}#sk-container-id-2 div.sk-estimator input.sk-toggleable__control:checked~label.sk-toggleable__label {background-color: #d4ebff;}#sk-container-id-2 div.sk-label input.sk-toggleable__control:checked~label.sk-toggleable__label {background-color: #d4ebff;}#sk-container-id-2 input.sk-hidden--visually {border: 0;clip: rect(1px 1px 1px 1px);clip: rect(1px, 1px, 1px, 1px);height: 1px;margin: -1px;overflow: hidden;padding: 0;position: absolute;width: 1px;}#sk-container-id-2 div.sk-estimator {font-family: monospace;background-color: #f0f8ff;border: 1px dotted black;border-radius: 0.25em;box-sizing: border-box;margin-bottom: 0.5em;}#sk-container-id-2 div.sk-estimator:hover {background-color: #d4ebff;}#sk-container-id-2 div.sk-parallel-item::after {content: \"\";width: 100%;border-bottom: 1px solid gray;flex-grow: 1;}#sk-container-id-2 div.sk-label:hover label.sk-toggleable__label {background-color: #d4ebff;}#sk-container-id-2 div.sk-serial::before {content: \"\";position: absolute;border-left: 1px solid gray;box-sizing: border-box;top: 0;bottom: 0;left: 50%;z-index: 0;}#sk-container-id-2 div.sk-serial {display: flex;flex-direction: column;align-items: center;background-color: white;padding-right: 0.2em;padding-left: 0.2em;position: relative;}#sk-container-id-2 div.sk-item {position: relative;z-index: 1;}#sk-container-id-2 div.sk-parallel {display: flex;align-items: stretch;justify-content: center;background-color: white;position: relative;}#sk-container-id-2 div.sk-item::before, #sk-container-id-2 div.sk-parallel-item::before {content: \"\";position: absolute;border-left: 1px solid gray;box-sizing: border-box;top: 0;bottom: 0;left: 50%;z-index: -1;}#sk-container-id-2 div.sk-parallel-item {display: flex;flex-direction: column;z-index: 1;position: relative;background-color: white;}#sk-container-id-2 div.sk-parallel-item:first-child::after {align-self: flex-end;width: 50%;}#sk-container-id-2 div.sk-parallel-item:last-child::after {align-self: flex-start;width: 50%;}#sk-container-id-2 div.sk-parallel-item:only-child::after {width: 0;}#sk-container-id-2 div.sk-dashed-wrapped {border: 1px dashed gray;margin: 0 0.4em 0.5em 0.4em;box-sizing: border-box;padding-bottom: 0.4em;background-color: white;}#sk-container-id-2 div.sk-label label {font-family: monospace;font-weight: bold;display: inline-block;line-height: 1.2em;}#sk-container-id-2 div.sk-label-container {text-align: center;}#sk-container-id-2 div.sk-container {/* jupyter's `normalize.less` sets `[hidden] { display: none; }` but bootstrap.min.css set `[hidden] { display: none !important; }` so we also need the `!important` here to be able to override the default hidden behavior on the sphinx rendered scikit-learn.org. See: https://github.com/scikit-learn/scikit-learn/issues/21755 */display: inline-block !important;position: relative;}#sk-container-id-2 div.sk-text-repr-fallback {display: none;}</style><div id=\"sk-container-id-2\" class=\"sk-top-container\"><div class=\"sk-text-repr-fallback\"><pre>RandomForestClassifier()</pre><b>In a Jupyter environment, please rerun this cell to show the HTML representation or trust the notebook. <br />On GitHub, the HTML representation is unable to render, please try loading this page with nbviewer.org.</b></div><div class=\"sk-container\" hidden><div class=\"sk-item\"><div class=\"sk-estimator sk-toggleable\"><input class=\"sk-toggleable__control sk-hidden--visually\" id=\"sk-estimator-id-2\" type=\"checkbox\" checked><label for=\"sk-estimator-id-2\" class=\"sk-toggleable__label sk-toggleable__label-arrow\">RandomForestClassifier</label><div class=\"sk-toggleable__content\"><pre>RandomForestClassifier()</pre></div></div></div></div></div>"
      ],
      "text/plain": [
       "RandomForestClassifier()"
      ]
     },
     "execution_count": 17,
     "metadata": {},
     "output_type": "execute_result"
    }
   ],
   "source": [
    "# Entraînement du modèle sur l'ensemble d'entraînement\n",
    "rf_classifier.fit(X_train, y_train)"
   ]
  },
  {
   "cell_type": "code",
   "execution_count": 18,
   "id": "9a2296ce-ba36-4705-a58d-3506d7f96d59",
   "metadata": {},
   "outputs": [],
   "source": [
    "# Prédiction des étiquettes pour l'ensemble de test\n",
    "y_pred = rf_classifier.predict(X_test)"
   ]
  },
  {
   "cell_type": "code",
   "execution_count": 19,
   "id": "a472e7f5-79fd-495b-9830-7d59de295676",
   "metadata": {},
   "outputs": [],
   "source": [
    "# Calcul de la Balanced Accuracy\n",
    "balanced_acc = balanced_accuracy_score(y_test, y_pred)"
   ]
  },
  {
   "cell_type": "code",
   "execution_count": 20,
   "id": "ab4a8029-d125-4d0d-a9b0-47cf8ef630cd",
   "metadata": {},
   "outputs": [
    {
     "name": "stdout",
     "output_type": "stream",
     "text": [
      "Balanced Accuracy: 0.6820765049431299\n"
     ]
    }
   ],
   "source": [
    "# Afficher la Balanced Accuracy\n",
    "print(\"Balanced Accuracy:\", balanced_acc)"
   ]
  },
  {
   "cell_type": "code",
   "execution_count": 21,
   "id": "17f09ba7-d3ca-486b-a566-83e189882b6f",
   "metadata": {
    "tags": []
   },
   "outputs": [
    {
     "data": {
      "text/html": [
       "<div>\n",
       "<style scoped>\n",
       "    .dataframe tbody tr th:only-of-type {\n",
       "        vertical-align: middle;\n",
       "    }\n",
       "\n",
       "    .dataframe tbody tr th {\n",
       "        vertical-align: top;\n",
       "    }\n",
       "\n",
       "    .dataframe thead th {\n",
       "        text-align: right;\n",
       "    }\n",
       "</style>\n",
       "<table border=\"1\" class=\"dataframe\">\n",
       "  <thead>\n",
       "    <tr style=\"text-align: right;\">\n",
       "      <th>Prédiction</th>\n",
       "      <th>0</th>\n",
       "      <th>1</th>\n",
       "    </tr>\n",
       "    <tr>\n",
       "      <th>Classe réelle</th>\n",
       "      <th></th>\n",
       "      <th></th>\n",
       "    </tr>\n",
       "  </thead>\n",
       "  <tbody>\n",
       "    <tr>\n",
       "      <th>0</th>\n",
       "      <td>11965</td>\n",
       "      <td>275</td>\n",
       "    </tr>\n",
       "    <tr>\n",
       "      <th>1</th>\n",
       "      <td>1412</td>\n",
       "      <td>890</td>\n",
       "    </tr>\n",
       "  </tbody>\n",
       "</table>\n",
       "</div>"
      ],
      "text/plain": [
       "Prédiction         0    1\n",
       "Classe réelle            \n",
       "0              11965  275\n",
       "1               1412  890"
      ]
     },
     "metadata": {},
     "output_type": "display_data"
    },
    {
     "name": "stdout",
     "output_type": "stream",
     "text": [
      "\n",
      "\n",
      "Rapport de classification: métriques de performance pour chaque classe\n",
      "\n",
      "\n",
      "                   pre       rec       spe        f1       geo       iba       sup\n",
      "\n",
      "          0       0.89      0.98      0.39      0.93      0.61      0.40     12240\n",
      "          1       0.76      0.39      0.98      0.51      0.61      0.36      2302\n",
      "\n",
      "avg / total       0.87      0.88      0.48      0.87      0.61      0.39     14542\n",
      "\n"
     ]
    }
   ],
   "source": [
    "# Création d'une table de contingence (matrice de confusion) montrant le nombre de prédictions correctes et incorrectes pour chaque classe\n",
    "contingency_table = pd.crosstab(y_test, y_pred, rownames=['Classe réelle'], colnames=['Prédiction'])\n",
    "\n",
    "display(contingency_table)\n",
    "print(\"\\n\")\n",
    "\n",
    "print(\"Rapport de classification: métriques de performance pour chaque classe\")\n",
    "print(\"\\n\")\n",
    "report = # Création d'une table de contingence (matrice de confusion) montrant le nombre de prédictions correctes et incorrectes pour chaque classe\n",
    "contingency_table = pd.crosstab(y_test, y_pred, rfownames=['Classe réelle'], colnames=['Prédiction'])\n",
    "\n",
    "display(contingency_table)\n",
    "print(\"\\n\")\n",
    "\n",
    "print(\"Rapport de classification: métriques de performance pour chaque classe\")\n",
    "print(\"\\n\")\n",
    "report = classification_report_imbalanced(y_test, y_pred)\n",
    "print(report)(y_test, y_pred)\n",
    "print(report)"
   ]
  },
  {
   "cell_type": "markdown",
   "id": "991580d3",
   "metadata": {
    "id": "b5530816-15eb-4f21-9225-c5ce31f3b05d"
   },
   "source": [
    "#### <b> Analyse </b>:\n",
    "> En ce qui concerne les performances maximales atteintes pour la classe 1, la précision maximale est de 0,81, le rappel maximal est de 0,50 et le F1-score maximal est de 0,62. Ces valeurs montrent que le modèle a des difficultés à prédire la pluie le lendemain (raintomorrow).\n",
    "> D'après la matrice de confusion, le modèle a prédit correctement 9735 observations de la classe 0 (pas de pluie demain) et 1845 observations de la classe 1 (pluie demain), tandis que 2505 observations de la classe 1 ont été mal classées en classe 0 et 457 observations de la classe 0 ont été mal classées en classe 1.\n",
    ">\n",
    ">Le rapport de classification déséquilibré montre que le modèle a une précision élevée pour la classe 0 (96%) et une précision faible pour la classe 1 (42%). Cela signifie que le modèle est très précis pour prédire les observations de la classe 0, mais qu'il a tendance à faire plus d'erreurs pour prédire les observations de la classe 1. Le rappel est élevé pour la classe 1 (80%), ce qui indique que le modèle a identifié la plupart des observations de la classe 1, mais le rappel est faible pour la classe 0 (80%), ce qui indique que le modèle a manqué certaines observations de la classe 0. Le score F1 est de 0,55 pour la classe 1, ce qui signifie que le modèle a un compromis entre la précision et le rappel pour cette classe.\n",
    ">\n",
    "\n",
    "<b> En fin de compte, le modèle BalancedRandomForestClassifier semble mieux performant que le modèle SVM dans la prédiction de la classe déséquilibrée. Cependant, le modèle a encore besoin d'être amélioré pour être plus performant pour la classe 1."
   ]
  },
  {
   "cell_type": "markdown",
   "id": "77c26908",
   "metadata": {
    "id": "b59ae850-98a4-4f9b-9b74-6996472c92d1"
   },
   "source": [
    "# 4.Conclusion <a name=\"4\"></a>\n",
    "[return to the plan](#0)  "
   ]
  },
  {
   "cell_type": "markdown",
   "id": "ad70fd0b",
   "metadata": {
    "id": "c640de7c-a17b-4cc2-bf8d-b399daef2852"
   },
   "source": [
    "> <b> En analysant les différentes approches, nous pouvons conclure que:\n",
    "> * En utilisant un jeu de données déséquilibré avec un modèle SVM, nous avons obtenu des performances moyennes sur les données de test déséquilibrées. Bien que le rappel pour la classe minoritaire était relativement élevé, la précision était relativement faible, indiquant que le modèle pouvait produire un grand nombre de faux positifs. Cela montre l'importance d'utiliser des techniques de sur-échantillonnage et de sous-échantillonnage pour équilibrer les classes du jeu de données.\n",
    "> \n",
    "> * En utilisant la méthode de sur-échantillonnage aléatoire avec RandomOverSampler(), nous avons équilibré les classes et entraîné un modèle SVM avec des performances un peu améliorées. Le modèle a réussi à prédire la classe minoritaire avec une précision et un rappel plus raisonnables, avec un score F1 amélioré.\n",
    "> \n",
    "> * Cependant, en utilisant la méthode de sous-échantillonnage aléatoire avec RandomUnderSampler(), le modèle SVM a montré des performances relativement similaires à celles du modèle déséquilibré. Bien que le rappel pour la classe minoritaire ait été relativement élevé, la précision était relativement faible, indiquant que le modèle pouvait produire un grand nombre de faux positifs.\n",
    "> \n",
    "> On rappelle, comme indiqué au dessus, que le modèle BalancedRandomForestClassifier semble mieux performant que le modèle SVM dans la prédiction de la classe déséquilibrée. \n",
    "\n",
    "    \n",
    "<b> Il existe donc plusieurs méthodes pour améliorer la performance de prédiction de la classe minoritaire tout en sacrifiant potentiellement la performance globale du modèle. Cette approche peut être appliquée à divers cas d'utilisation prévision météo, cela pourrait être utile pour planifier des activités en plein air ou pour prendre des décisions liées aux opérations agricoles ou industrielles, par exemple.\n",
    "\n",
    "<b> Cependant, le modèle a encore besoin d'être amélioré pour être plus performant pour la classe 1. C'est ce que nous proposons dans les notebooks suivants."
   ]
  }
 ],
 "metadata": {
  "accelerator": "GPU",
  "colab": {
   "name": "",
   "version": ""
  },
  "gpuClass": "standard",
  "kernelspec": {
   "display_name": "venv_weatherforecast",
   "language": "python",
   "name": "venv_weatherforecast"
  },
  "language_info": {
   "codemirror_mode": {
    "name": "ipython",
    "version": 3
   },
   "file_extension": ".py",
   "mimetype": "text/x-python",
   "name": "python",
   "nbconvert_exporter": "python",
   "pygments_lexer": "ipython3",
   "version": "3.10.9"
  }
 },
 "nbformat": 4,
 "nbformat_minor": 5
}
