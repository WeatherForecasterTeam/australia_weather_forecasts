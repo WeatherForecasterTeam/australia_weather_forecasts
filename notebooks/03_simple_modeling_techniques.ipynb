{
 "cells": [
  {
   "cell_type": "markdown",
   "metadata": {
    "tags": [],
    "pycharm": {
     "name": "#%% md\n"
    }
   },
   "source": [
    "## <b>Weather forecast project "
   ]
  },
  {
   "cell_type": "markdown",
   "metadata": {
    "jp-MarkdownHeadingCollapsed": true,
    "tags": [],
    "pycharm": {
     "name": "#%% md\n"
    }
   },
   "source": [
    "# <b>03 - SIMPLE MODELING TECHNIQUES"
   ]
  },
  {
   "cell_type": "markdown",
   "metadata": {
    "pycharm": {
     "name": "#%% md\n"
    }
   },
   "source": [
    "# Rain in Australia\n",
    "---\n",
    "#### Dataset source:\n",
    "\n",
    "Les deux datasets issus de l'étape de feature engineering seront utilisés dans ce notebook : \n",
    "    \n",
    "    - data_features.csv contenant les données nettoyées et préparées sur la base du dataset initiale\n",
    "    \n",
    "    - pca_data_features.csv issu de l'analyse PCA"
   ]
  },
  {
   "cell_type": "markdown",
   "metadata": {
    "tags": [],
    "pycharm": {
     "name": "#%% md\n"
    }
   },
   "source": [
    "#### Context:\n",
    "\n",
    "> <div class= \"alert alert-block alert-info\"> <b>Modélisations simples</b> \n",
    "Ce notebook regroupe les résultats obtenus avec des modèles simples de classification. On compare les résultats obtenus par une simples régression logistique avec les modèles SVC, DecisionTree, RandomForest et KnNeighbors.    \n",
    "Ces différents modèles font ensuite l'objet d'une otpimisation de leur hyperparamètres respectifs.\n",
    "</div>\n",
    "\n",
    "Dans cette partie, faute de connaissance métier, nous avons fait le choix de mesurer la performance des différents modèles sur la metric \"f1-weighted\" pour mieux tenir compte du déséquilibre de classe du dataset initial. Ce choix amène naturellement à mieux représenter la classe \"absence de pluie le lendemain\". Les travaux contenus dans le notebook \"model_for_imbalanced_data\" amèneront à discuter la modélisation pour mieux modélisation la classe \"présence de pluie le lendemain\".\n"
   ]
  },
  {
   "cell_type": "markdown",
   "metadata": {
    "tags": [],
    "pycharm": {
     "name": "#%% md\n"
    }
   },
   "source": [
    "# [Table of contents](#0)<a name=\"0\"></a> \n",
    "1. [Titre 1 ](#1)\n",
    "2. [Titre 2](#2)"
   ]
  },
  {
   "cell_type": "markdown",
   "metadata": {
    "pycharm": {
     "name": "#%% md\n"
    }
   },
   "source": [
    "#### Packages nécessaires au notebook :"
   ]
  },
  {
   "cell_type": "code",
   "execution_count": 77,
   "metadata": {
    "pycharm": {
     "name": "#%%\n"
    }
   },
   "outputs": [],
   "source": [
    "import numpy as np\n",
    "import numpy as pd\n",
    "import matplotlib.pyplot as plt\n",
    "import seaborn as sns\n",
    "\n",
    "import pickle\n",
    "import time\n",
    "import lazypredict\n",
    "from lazypredict.Supervised import LazyClassifier\n",
    "\n",
    "from sklearn.preprocessing import StandardScaler\n",
    "from sklearn.model_selection import train_test_split\n",
    "from sklearn.metrics import accuracy_score\n",
    "from sklearn.model_selection import cross_val_score\n",
    "from sklearn.ensemble import RandomForestClassifier\n",
    "from sklearn.tree import DecisionTreeClassifier\n",
    "#from sklearn.metrics import confusion_matrix, roc_auc_score, ConfusionMatrixDisplay, precision_score, recall_score, f1_score, classification_report, roc_curve, auc, precision_recall_curve, average_precision_score\n",
    "from sklearn.metrics import confusion_matrix, roc_auc_score, precision_score, recall_score, f1_score, classification_report, roc_curve, auc, precision_recall_curve, average_precision_score\n",
    "\n",
    "from sklearn.linear_model import LogisticRegression\n",
    "from sklearn.svm import SVC\n",
    "from sklearn.neighbors import KNeighborsClassifier\n",
    "from sklearn import metrics\n",
    "from sklearn.model_selection import GridSearchCV, validation_curve\n",
    "from sklearn.feature_selection import SelectKBest, f_regression, mutual_info_regression,f_classif,chi2\n",
    "\n",
    "from skopt import BayesSearchCV\n",
    "from skopt.space import Real, Integer\n",
    "\n",
    "import warnings\n",
    "warnings.filterwarnings(\"ignore\", category=UserWarning, module=\"matplotlib\")"
   ]
  },
  {
   "cell_type": "code",
   "execution_count": 78,
   "metadata": {
    "pycharm": {
     "name": "#%%\n"
    }
   },
   "outputs": [],
   "source": [
    "import pandas as pd\n",
    "\n",
    "url = \"https://raw.githubusercontent.com/WeatherForecasterTeam/australia_weather_forecasts/main/data/data_features.csv\"\n",
    "df = pd.read_csv(url, index_col=0)\n",
    "\n",
    "url_pca = \"https://raw.githubusercontent.com/WeatherForecasterTeam/australia_weather_forecasts/main/data/pca_data_features2.csv\"\n",
    "df_pca = pd.read_csv(url_pca, index_col=0)"
   ]
  },
  {
   "cell_type": "code",
   "execution_count": 80,
   "metadata": {
    "pycharm": {
     "name": "#%%\n"
    }
   },
   "outputs": [],
   "source": [
    "# df = pd.read_csv(\"../data/data_features.csv\", index_col=0)\n",
    "# df_pca = pd.read_csv(\"../data/pca_data_features2.csv\", index_col = 0) "
   ]
  },
  {
   "cell_type": "code",
   "execution_count": 11,
   "metadata": {
    "pycharm": {
     "name": "#%%\n"
    }
   },
   "outputs": [
    {
     "data": {
      "text/html": [
       "<div>\n",
       "<style scoped>\n",
       "    .dataframe tbody tr th:only-of-type {\n",
       "        vertical-align: middle;\n",
       "    }\n",
       "\n",
       "    .dataframe tbody tr th {\n",
       "        vertical-align: top;\n",
       "    }\n",
       "\n",
       "    .dataframe thead th {\n",
       "        text-align: right;\n",
       "    }\n",
       "</style>\n",
       "<table border=\"1\" class=\"dataframe\">\n",
       "  <thead>\n",
       "    <tr style=\"text-align: right;\">\n",
       "      <th></th>\n",
       "      <th>sunshine</th>\n",
       "      <th>windgustspeed</th>\n",
       "      <th>humidity3pm</th>\n",
       "      <th>pressure3pm</th>\n",
       "      <th>year</th>\n",
       "      <th>windspeed3pm</th>\n",
       "      <th>temp_amplitude</th>\n",
       "      <th>cloud3pm</th>\n",
       "      <th>rainfall</th>\n",
       "      <th>climat</th>\n",
       "      <th>...</th>\n",
       "      <th>cloud9am</th>\n",
       "      <th>winddir9am_sin</th>\n",
       "      <th>latitude</th>\n",
       "      <th>month</th>\n",
       "      <th>geography</th>\n",
       "      <th>raintoday</th>\n",
       "      <th>evaporation</th>\n",
       "      <th>windspeed9am</th>\n",
       "      <th>windgustdir_cos</th>\n",
       "      <th>raintomorrow</th>\n",
       "    </tr>\n",
       "  </thead>\n",
       "  <tbody>\n",
       "    <tr>\n",
       "      <th>0</th>\n",
       "      <td>10.90</td>\n",
       "      <td>44.00</td>\n",
       "      <td>22.00</td>\n",
       "      <td>1007.10</td>\n",
       "      <td>2008</td>\n",
       "      <td>24.00</td>\n",
       "      <td>9.50</td>\n",
       "      <td>7.00</td>\n",
       "      <td>0.60</td>\n",
       "      <td>0</td>\n",
       "      <td>...</td>\n",
       "      <td>8.00</td>\n",
       "      <td>0.00</td>\n",
       "      <td>-36.07</td>\n",
       "      <td>12</td>\n",
       "      <td>0</td>\n",
       "      <td>0</td>\n",
       "      <td>7.60</td>\n",
       "      <td>20.00</td>\n",
       "      <td>-1.00</td>\n",
       "      <td>0</td>\n",
       "    </tr>\n",
       "    <tr>\n",
       "      <th>1</th>\n",
       "      <td>12.90</td>\n",
       "      <td>44.00</td>\n",
       "      <td>25.00</td>\n",
       "      <td>1007.80</td>\n",
       "      <td>2008</td>\n",
       "      <td>22.00</td>\n",
       "      <td>17.70</td>\n",
       "      <td>1.00</td>\n",
       "      <td>0.00</td>\n",
       "      <td>0</td>\n",
       "      <td>...</td>\n",
       "      <td>1.00</td>\n",
       "      <td>0.92</td>\n",
       "      <td>-36.07</td>\n",
       "      <td>12</td>\n",
       "      <td>0</td>\n",
       "      <td>0</td>\n",
       "      <td>12.00</td>\n",
       "      <td>4.00</td>\n",
       "      <td>-0.92</td>\n",
       "      <td>0</td>\n",
       "    </tr>\n",
       "    <tr>\n",
       "      <th>2</th>\n",
       "      <td>8.00</td>\n",
       "      <td>46.00</td>\n",
       "      <td>30.00</td>\n",
       "      <td>1008.70</td>\n",
       "      <td>2008</td>\n",
       "      <td>26.00</td>\n",
       "      <td>12.80</td>\n",
       "      <td>2.00</td>\n",
       "      <td>0.00</td>\n",
       "      <td>0</td>\n",
       "      <td>...</td>\n",
       "      <td>7.00</td>\n",
       "      <td>0.00</td>\n",
       "      <td>-36.07</td>\n",
       "      <td>12</td>\n",
       "      <td>0</td>\n",
       "      <td>0</td>\n",
       "      <td>8.00</td>\n",
       "      <td>19.00</td>\n",
       "      <td>-0.92</td>\n",
       "      <td>0</td>\n",
       "    </tr>\n",
       "    <tr>\n",
       "      <th>3</th>\n",
       "      <td>2.20</td>\n",
       "      <td>24.00</td>\n",
       "      <td>16.00</td>\n",
       "      <td>1012.80</td>\n",
       "      <td>2008</td>\n",
       "      <td>9.00</td>\n",
       "      <td>18.80</td>\n",
       "      <td>6.00</td>\n",
       "      <td>0.00</td>\n",
       "      <td>0</td>\n",
       "      <td>...</td>\n",
       "      <td>8.00</td>\n",
       "      <td>-0.71</td>\n",
       "      <td>-36.07</td>\n",
       "      <td>12</td>\n",
       "      <td>0</td>\n",
       "      <td>0</td>\n",
       "      <td>10.00</td>\n",
       "      <td>11.00</td>\n",
       "      <td>0.71</td>\n",
       "      <td>0</td>\n",
       "    </tr>\n",
       "    <tr>\n",
       "      <th>4</th>\n",
       "      <td>6.70</td>\n",
       "      <td>41.00</td>\n",
       "      <td>33.00</td>\n",
       "      <td>1006.00</td>\n",
       "      <td>2008</td>\n",
       "      <td>20.00</td>\n",
       "      <td>14.80</td>\n",
       "      <td>8.00</td>\n",
       "      <td>1.00</td>\n",
       "      <td>0</td>\n",
       "      <td>...</td>\n",
       "      <td>7.00</td>\n",
       "      <td>0.38</td>\n",
       "      <td>-36.07</td>\n",
       "      <td>12</td>\n",
       "      <td>0</td>\n",
       "      <td>0</td>\n",
       "      <td>4.80</td>\n",
       "      <td>7.00</td>\n",
       "      <td>-1.00</td>\n",
       "      <td>0</td>\n",
       "    </tr>\n",
       "  </tbody>\n",
       "</table>\n",
       "<p>5 rows × 24 columns</p>\n",
       "</div>"
      ],
      "text/plain": [
       "   sunshine  windgustspeed  humidity3pm  pressure3pm  year  windspeed3pm  \\\n",
       "0     10.90          44.00        22.00      1007.10  2008         24.00   \n",
       "1     12.90          44.00        25.00      1007.80  2008         22.00   \n",
       "2      8.00          46.00        30.00      1008.70  2008         26.00   \n",
       "3      2.20          24.00        16.00      1012.80  2008          9.00   \n",
       "4      6.70          41.00        33.00      1006.00  2008         20.00   \n",
       "\n",
       "   temp_amplitude  cloud3pm  rainfall  climat  ...  cloud9am  winddir9am_sin  \\\n",
       "0            9.50      7.00      0.60       0  ...      8.00            0.00   \n",
       "1           17.70      1.00      0.00       0  ...      1.00            0.92   \n",
       "2           12.80      2.00      0.00       0  ...      7.00            0.00   \n",
       "3           18.80      6.00      0.00       0  ...      8.00           -0.71   \n",
       "4           14.80      8.00      1.00       0  ...      7.00            0.38   \n",
       "\n",
       "   latitude  month  geography  raintoday  evaporation  windspeed9am  \\\n",
       "0    -36.07     12          0          0         7.60         20.00   \n",
       "1    -36.07     12          0          0        12.00          4.00   \n",
       "2    -36.07     12          0          0         8.00         19.00   \n",
       "3    -36.07     12          0          0        10.00         11.00   \n",
       "4    -36.07     12          0          0         4.80          7.00   \n",
       "\n",
       "   windgustdir_cos  raintomorrow  \n",
       "0            -1.00             0  \n",
       "1            -0.92             0  \n",
       "2            -0.92             0  \n",
       "3             0.71             0  \n",
       "4            -1.00             0  \n",
       "\n",
       "[5 rows x 24 columns]"
      ]
     },
     "execution_count": 11,
     "metadata": {},
     "output_type": "execute_result"
    }
   ],
   "source": [
    "df.head()"
   ]
  },
  {
   "cell_type": "code",
   "execution_count": 12,
   "metadata": {
    "pycharm": {
     "name": "#%%\n"
    }
   },
   "outputs": [
    {
     "data": {
      "text/html": [
       "<div>\n",
       "<style scoped>\n",
       "    .dataframe tbody tr th:only-of-type {\n",
       "        vertical-align: middle;\n",
       "    }\n",
       "\n",
       "    .dataframe tbody tr th {\n",
       "        vertical-align: top;\n",
       "    }\n",
       "\n",
       "    .dataframe thead th {\n",
       "        text-align: right;\n",
       "    }\n",
       "</style>\n",
       "<table border=\"1\" class=\"dataframe\">\n",
       "  <thead>\n",
       "    <tr style=\"text-align: right;\">\n",
       "      <th></th>\n",
       "      <th>0</th>\n",
       "      <th>1</th>\n",
       "      <th>2</th>\n",
       "      <th>3</th>\n",
       "      <th>4</th>\n",
       "      <th>5</th>\n",
       "      <th>6</th>\n",
       "      <th>7</th>\n",
       "      <th>8</th>\n",
       "      <th>9</th>\n",
       "      <th>...</th>\n",
       "      <th>12</th>\n",
       "      <th>13</th>\n",
       "      <th>14</th>\n",
       "      <th>15</th>\n",
       "      <th>16</th>\n",
       "      <th>17</th>\n",
       "      <th>18</th>\n",
       "      <th>19</th>\n",
       "      <th>20</th>\n",
       "      <th>21</th>\n",
       "    </tr>\n",
       "  </thead>\n",
       "  <tbody>\n",
       "    <tr>\n",
       "      <th>0</th>\n",
       "      <td>0.52</td>\n",
       "      <td>2.19</td>\n",
       "      <td>0.40</td>\n",
       "      <td>-1.63</td>\n",
       "      <td>1.22</td>\n",
       "      <td>-0.90</td>\n",
       "      <td>-0.04</td>\n",
       "      <td>1.39</td>\n",
       "      <td>2.29</td>\n",
       "      <td>-0.55</td>\n",
       "      <td>...</td>\n",
       "      <td>0.10</td>\n",
       "      <td>0.05</td>\n",
       "      <td>-1.28</td>\n",
       "      <td>-0.24</td>\n",
       "      <td>0.18</td>\n",
       "      <td>-1.25</td>\n",
       "      <td>-0.49</td>\n",
       "      <td>0.45</td>\n",
       "      <td>-1.39</td>\n",
       "      <td>0.63</td>\n",
       "    </tr>\n",
       "    <tr>\n",
       "      <th>1</th>\n",
       "      <td>-3.01</td>\n",
       "      <td>0.56</td>\n",
       "      <td>0.71</td>\n",
       "      <td>-1.93</td>\n",
       "      <td>1.86</td>\n",
       "      <td>-1.07</td>\n",
       "      <td>0.18</td>\n",
       "      <td>1.22</td>\n",
       "      <td>2.18</td>\n",
       "      <td>-1.14</td>\n",
       "      <td>...</td>\n",
       "      <td>-0.97</td>\n",
       "      <td>0.48</td>\n",
       "      <td>0.92</td>\n",
       "      <td>-1.00</td>\n",
       "      <td>-0.42</td>\n",
       "      <td>0.25</td>\n",
       "      <td>0.58</td>\n",
       "      <td>0.02</td>\n",
       "      <td>-0.13</td>\n",
       "      <td>-0.01</td>\n",
       "    </tr>\n",
       "    <tr>\n",
       "      <th>2</th>\n",
       "      <td>-1.02</td>\n",
       "      <td>2.08</td>\n",
       "      <td>0.44</td>\n",
       "      <td>-1.36</td>\n",
       "      <td>0.75</td>\n",
       "      <td>-1.99</td>\n",
       "      <td>-0.19</td>\n",
       "      <td>1.50</td>\n",
       "      <td>2.22</td>\n",
       "      <td>-0.49</td>\n",
       "      <td>...</td>\n",
       "      <td>-0.27</td>\n",
       "      <td>0.41</td>\n",
       "      <td>-0.86</td>\n",
       "      <td>-0.97</td>\n",
       "      <td>0.52</td>\n",
       "      <td>0.59</td>\n",
       "      <td>-0.04</td>\n",
       "      <td>-0.43</td>\n",
       "      <td>0.15</td>\n",
       "      <td>-0.09</td>\n",
       "    </tr>\n",
       "    <tr>\n",
       "      <th>3</th>\n",
       "      <td>-0.92</td>\n",
       "      <td>-0.87</td>\n",
       "      <td>-0.78</td>\n",
       "      <td>-0.26</td>\n",
       "      <td>-0.88</td>\n",
       "      <td>0.84</td>\n",
       "      <td>-0.00</td>\n",
       "      <td>1.62</td>\n",
       "      <td>4.31</td>\n",
       "      <td>0.81</td>\n",
       "      <td>...</td>\n",
       "      <td>0.12</td>\n",
       "      <td>0.47</td>\n",
       "      <td>-0.78</td>\n",
       "      <td>-0.16</td>\n",
       "      <td>0.10</td>\n",
       "      <td>0.34</td>\n",
       "      <td>0.69</td>\n",
       "      <td>-1.17</td>\n",
       "      <td>-0.12</td>\n",
       "      <td>0.03</td>\n",
       "    </tr>\n",
       "    <tr>\n",
       "      <th>4</th>\n",
       "      <td>1.23</td>\n",
       "      <td>0.59</td>\n",
       "      <td>0.48</td>\n",
       "      <td>-1.83</td>\n",
       "      <td>1.16</td>\n",
       "      <td>1.49</td>\n",
       "      <td>-0.32</td>\n",
       "      <td>1.23</td>\n",
       "      <td>2.70</td>\n",
       "      <td>-0.44</td>\n",
       "      <td>...</td>\n",
       "      <td>1.38</td>\n",
       "      <td>-1.07</td>\n",
       "      <td>0.24</td>\n",
       "      <td>-0.55</td>\n",
       "      <td>-0.17</td>\n",
       "      <td>-0.40</td>\n",
       "      <td>-0.03</td>\n",
       "      <td>0.29</td>\n",
       "      <td>-0.96</td>\n",
       "      <td>1.46</td>\n",
       "    </tr>\n",
       "  </tbody>\n",
       "</table>\n",
       "<p>5 rows × 22 columns</p>\n",
       "</div>"
      ],
      "text/plain": [
       "      0     1     2     3     4     5     6    7    8     9  ...    12    13  \\\n",
       "0  0.52  2.19  0.40 -1.63  1.22 -0.90 -0.04 1.39 2.29 -0.55  ...  0.10  0.05   \n",
       "1 -3.01  0.56  0.71 -1.93  1.86 -1.07  0.18 1.22 2.18 -1.14  ... -0.97  0.48   \n",
       "2 -1.02  2.08  0.44 -1.36  0.75 -1.99 -0.19 1.50 2.22 -0.49  ... -0.27  0.41   \n",
       "3 -0.92 -0.87 -0.78 -0.26 -0.88  0.84 -0.00 1.62 4.31  0.81  ...  0.12  0.47   \n",
       "4  1.23  0.59  0.48 -1.83  1.16  1.49 -0.32 1.23 2.70 -0.44  ...  1.38 -1.07   \n",
       "\n",
       "     14    15    16    17    18    19    20    21  \n",
       "0 -1.28 -0.24  0.18 -1.25 -0.49  0.45 -1.39  0.63  \n",
       "1  0.92 -1.00 -0.42  0.25  0.58  0.02 -0.13 -0.01  \n",
       "2 -0.86 -0.97  0.52  0.59 -0.04 -0.43  0.15 -0.09  \n",
       "3 -0.78 -0.16  0.10  0.34  0.69 -1.17 -0.12  0.03  \n",
       "4  0.24 -0.55 -0.17 -0.40 -0.03  0.29 -0.96  1.46  \n",
       "\n",
       "[5 rows x 22 columns]"
      ]
     },
     "execution_count": 12,
     "metadata": {},
     "output_type": "execute_result"
    }
   ],
   "source": [
    "df_pca.head()"
   ]
  },
  {
   "cell_type": "code",
   "execution_count": 13,
   "metadata": {
    "pycharm": {
     "name": "#%%\n"
    }
   },
   "outputs": [
    {
     "data": {
      "text/plain": [
       "(72707, 24)"
      ]
     },
     "execution_count": 13,
     "metadata": {},
     "output_type": "execute_result"
    }
   ],
   "source": [
    "df.shape"
   ]
  },
  {
   "cell_type": "markdown",
   "metadata": {
    "pycharm": {
     "name": "#%% md\n"
    }
   },
   "source": [
    "# 1. Préparation des données <a name=\"1\"></a>\n",
    "[return to the plan](#0)  "
   ]
  },
  {
   "cell_type": "markdown",
   "metadata": {
    "pycharm": {
     "name": "#%% md\n"
    }
   },
   "source": [
    "Préparation des données en vue des modélisations \n",
    "* Séparation des données en variables explicatives et variables cibles\n",
    "* Fractionnement des données en ensemble d'entraînement et de test\n",
    "* Normalisation si nécessaire"
   ]
  },
  {
   "cell_type": "code",
   "execution_count": 79,
   "metadata": {
    "pycharm": {
     "name": "#%%\n"
    }
   },
   "outputs": [],
   "source": [
    "# Séparation des données\n",
    "# dataset optimisé\n",
    "X = df.drop(['raintomorrow'],axis=1)\n",
    "y = df['raintomorrow']\n",
    "\n",
    "# dataset optimisé en pca\n",
    "X_pca = df_pca\n",
    "y_pca = y # y_pca = y = raintomorow, variable cible\n",
    "\n",
    "# Fractionnement des données \n",
    "X_train, X_test, y_train, y_test = train_test_split(X,y, test_size = 0.2, random_state = 10)\n",
    "X_train_pca, X_test_pca, y_train_pca, y_test_pca = train_test_split(X_pca, y_pca, test_size = 0.2, random_state = 10)\n",
    "\n",
    "# Normalisation (Déjà faite dans le cas du PCA)\n",
    "scaler = StandardScaler()\n",
    "X_train = scaler.fit_transform(X_train)\n",
    "X_test = scaler.transform(X_test)\n"
   ]
  },
  {
   "cell_type": "code",
   "execution_count": 15,
   "metadata": {
    "pycharm": {
     "name": "#%%\n"
    }
   },
   "outputs": [
    {
     "name": "stdout",
     "output_type": "stream",
     "text": [
      "dataset optimisé :\n",
      "Length of Training Data: 58165\n",
      "Length of Testing Data: 14542\n",
      "\n",
      "\n",
      "dataset optimisé PCA :\n",
      "Length of Training PCA Data: 58165\n",
      "Length of Testing PCA Data: 14542\n"
     ]
    }
   ],
   "source": [
    "# Taille des données d'entraînement et de test :\n",
    "\n",
    "print(\"dataset optimisé :\")\n",
    "print(\"Length of Training Data: {}\".format(len(X_train)))\n",
    "print(\"Length of Testing Data: {}\".format(len(X_test)))\n",
    "print(\"\\n\")\n",
    "print(\"dataset optimisé PCA :\")\n",
    "print(\"Length of Training PCA Data: {}\".format(len(X_train_pca)))\n",
    "print(\"Length of Testing PCA Data: {}\".format(len(X_test_pca)))"
   ]
  },
  {
   "cell_type": "markdown",
   "metadata": {
    "pycharm": {
     "name": "#%% md\n"
    }
   },
   "source": [
    "# 2. Régression logistique<a name=\"2\"></a>\n",
    "[return to the plan](#0)  "
   ]
  },
  {
   "cell_type": "markdown",
   "metadata": {
    "pycharm": {
     "name": "#%% md\n"
    }
   },
   "source": [
    "Pour avoir une base de comparaison avec des modélisations plus complexes, nous commencons par utiliser un modèle de régression logistique simple sur df"
   ]
  },
  {
   "cell_type": "code",
   "execution_count": 16,
   "metadata": {
    "pycharm": {
     "name": "#%%\n"
    }
   },
   "outputs": [
    {
     "name": "stdout",
     "output_type": "stream",
     "text": [
      "              precision    recall  f1-score   support\n",
      "\n",
      "           0       0.89      0.97      0.93     12240\n",
      "           1       0.68      0.38      0.49      2302\n",
      "\n",
      "    accuracy                           0.87     14542\n",
      "   macro avg       0.79      0.67      0.71     14542\n",
      "weighted avg       0.86      0.87      0.86     14542\n",
      "\n"
     ]
    }
   ],
   "source": [
    "model = LogisticRegression()\n",
    "\n",
    "model.fit(X_train,y_train)\n",
    "y_pred=model.predict(X_test)\n",
    "f1_weighted=f1_score(y_test,y_pred, average='weighted')\n",
    "\n",
    "print(classification_report(y_test, y_pred))"
   ]
  },
  {
   "cell_type": "code",
   "execution_count": 17,
   "metadata": {
    "pycharm": {
     "name": "#%%\n"
    }
   },
   "outputs": [
    {
     "data": {
      "image/png": "[encoded data removed]",
      "text/plain": [
       "<Figure size 640x480 with 2 Axes>"
      ]
     },
     "metadata": {},
     "output_type": "display_data"
    }
   ],
   "source": [
    "cm = confusion_matrix(y_test,y_pred)\n",
    "\n",
    "group_names = ['Vrai Neg','Faux Pos','Faux Neg','Vrai Pos']\n",
    "group_counts = [\"{0:0.0f}\".format(value) for value in cm.flatten()]\n",
    "group_percentages = [\"{0:.2%}\".format(value) for value in cm.flatten()/np.sum(cm)]\n",
    "\n",
    "labels = [f'{v1}\\n{v2}\\n{v3}' for v1, v2, v3 in zip(group_names,group_counts,group_percentages)]\n",
    "labels = np.asarray(labels).reshape(2,2)\n",
    "\n",
    "categories = ['Non','Oui']\n",
    "\n",
    "sns.heatmap(cm, annot=labels, fmt='',xticklabels=categories,yticklabels=categories)\n",
    "plt.ylabel('Vrai label')\n",
    "plt.xlabel('Label prédit')\n",
    "plt.title('Matrice de confusion')\n",
    "plt.show()"
   ]
  },
  {
   "cell_type": "markdown",
   "metadata": {
    "pycharm": {
     "name": "#%% md\n"
    }
   },
   "source": [
    "Les résultats globaux sont satifaisants mais : \n",
    "* Il existe un gros déséquilibre de classe derrière ce score élevé\n",
    "* Le rappel de la classe 1 est très mauvais"
   ]
  },
  {
   "cell_type": "code",
   "execution_count": 29,
   "metadata": {
    "pycharm": {
     "name": "#%%\n"
    }
   },
   "outputs": [
    {
     "ename": "SyntaxError",
     "evalue": "invalid syntax (3836940341.py, line 1)",
     "output_type": "error",
     "traceback": [
      "\u001B[1;36m  File \u001B[1;32m\"C:\\Users\\Public\\Documents\\Wondershare\\CreatorTemp\\ipykernel_6352\\3836940341.py\"\u001B[1;36m, line \u001B[1;32m1\u001B[0m\n\u001B[1;33m    Une premiere tentavive interprétabilité du modèle ici ????? Voir masterclass\u001B[0m\n\u001B[1;37m        ^\u001B[0m\n\u001B[1;31mSyntaxError\u001B[0m\u001B[1;31m:\u001B[0m invalid syntax\n"
     ]
    }
   ],
   "source": [
    "Une premiere tentavive interprétabilité du modèle ici ????? Voir masterclass"
   ]
  },
  {
   "cell_type": "code",
   "execution_count": 0,
   "metadata": {
    "pycharm": {
     "name": "#%%\n"
    }
   },
   "outputs": [],
   "source": []
  },
  {
   "cell_type": "markdown",
   "metadata": {
    "pycharm": {
     "name": "#%% md\n"
    }
   },
   "source": [
    "# 3. Comparaison avec d'autres modèles de machine learning <a name=\"2\"></a>\n",
    "[return to the plan](#0)  "
   ]
  },
  {
   "cell_type": "code",
   "execution_count": 18,
   "metadata": {
    "pycharm": {
     "name": "#%%\n"
    }
   },
   "outputs": [],
   "source": [
    "#Fonction récurrente d'évaluation des modèles\n",
    "\n",
    "def evaluate(df_print,name,model,X_train,y_train,X_test,y_test):\n",
    "    model.fit(X_train,y_train)\n",
    "    accuracy=model.score(X_test,y_test)\n",
    "    y_pred=model.predict(X_test)\n",
    "    recall=recall_score(y_test,y_pred)\n",
    "    f1=f1_score(y_test,y_pred)\n",
    "    f1_weighted=f1_score(y_test,y_pred, average='weighted')\n",
    "    \n",
    "    #print(model)\n",
    "    #print(classification_report(y_test, y_pred))\n",
    "\n",
    "    df1 = pd.DataFrame({\n",
    "    \"données utilisées\": [name],\n",
    "    \"nom du modèle\": [model],\n",
    "    'accuracy':[accuracy],\n",
    "    'f1_weighted': [f1_weighted], \n",
    "    'recall':[recall],\n",
    "    'f1':[f1] \n",
    "    })\n",
    "        \n",
    "    return(df1)"
   ]
  },
  {
   "cell_type": "code",
   "execution_count": 19,
   "metadata": {
    "pycharm": {
     "name": "#%%\n"
    }
   },
   "outputs": [],
   "source": [
    "import warnings\n",
    "warnings.simplefilter(action='ignore', category=FutureWarning)"
   ]
  },
  {
   "cell_type": "code",
   "execution_count": 20,
   "metadata": {
    "pycharm": {
     "name": "#%%\n"
    }
   },
   "outputs": [],
   "source": [
    "df_print = pd.DataFrame(columns=['données utilisées', 'nom du modèle', 'f1_weighted', 'accuracy', 'recall', 'f1'])\n",
    "lr = LogisticRegression()\n",
    "svm = SVC()\n",
    "dt = DecisionTreeClassifier()\n",
    "rf = RandomForestClassifier()\n",
    "knn = KNeighborsClassifier()\n",
    "\n",
    "models = [lr, dt, knn, svm, rf]\n",
    "\n",
    "for model in models:\n",
    "    df_print = df_print.append(evaluate(df_print, \"Modèle sur df\", model, X_train, y_train, X_test, y_test))\n",
    "    df_print = df_print.append(evaluate(df_print, \"Modèle sur df_PCA\", model, X_train_pca, y_train_pca, X_test_pca, y_test_pca))\n",
    "\n",
    "df_print = pd.concat([df_print], sort=False)"
   ]
  },
  {
   "cell_type": "code",
   "execution_count": 21,
   "metadata": {
    "pycharm": {
     "name": "#%%\n"
    }
   },
   "outputs": [
    {
     "data": {
      "text/html": [
       "<div>\n",
       "<style scoped>\n",
       "    .dataframe tbody tr th:only-of-type {\n",
       "        vertical-align: middle;\n",
       "    }\n",
       "\n",
       "    .dataframe tbody tr th {\n",
       "        vertical-align: top;\n",
       "    }\n",
       "\n",
       "    .dataframe thead th {\n",
       "        text-align: right;\n",
       "    }\n",
       "</style>\n",
       "<table border=\"1\" class=\"dataframe\">\n",
       "  <thead>\n",
       "    <tr style=\"text-align: right;\">\n",
       "      <th></th>\n",
       "      <th>données utilisées</th>\n",
       "      <th>nom du modèle</th>\n",
       "      <th>f1_weighted</th>\n",
       "      <th>accuracy</th>\n",
       "      <th>recall</th>\n",
       "      <th>f1</th>\n",
       "      <th>nom_rac</th>\n",
       "    </tr>\n",
       "  </thead>\n",
       "  <tbody>\n",
       "    <tr>\n",
       "      <th>0</th>\n",
       "      <td>Modèle sur df</td>\n",
       "      <td>LogisticRegression()</td>\n",
       "      <td>0.86</td>\n",
       "      <td>0.87</td>\n",
       "      <td>0.38</td>\n",
       "      <td>0.49</td>\n",
       "      <td>Lr</td>\n",
       "    </tr>\n",
       "    <tr>\n",
       "      <th>0</th>\n",
       "      <td>Modèle sur df_PCA</td>\n",
       "      <td>LogisticRegression()</td>\n",
       "      <td>0.86</td>\n",
       "      <td>0.87</td>\n",
       "      <td>0.37</td>\n",
       "      <td>0.48</td>\n",
       "      <td>Lr</td>\n",
       "    </tr>\n",
       "    <tr>\n",
       "      <th>0</th>\n",
       "      <td>Modèle sur df</td>\n",
       "      <td>DecisionTreeClassifier()</td>\n",
       "      <td>0.82</td>\n",
       "      <td>0.82</td>\n",
       "      <td>0.48</td>\n",
       "      <td>0.46</td>\n",
       "      <td>Dtc</td>\n",
       "    </tr>\n",
       "    <tr>\n",
       "      <th>0</th>\n",
       "      <td>Modèle sur df_PCA</td>\n",
       "      <td>DecisionTreeClassifier()</td>\n",
       "      <td>0.81</td>\n",
       "      <td>0.81</td>\n",
       "      <td>0.43</td>\n",
       "      <td>0.42</td>\n",
       "      <td>Dtc</td>\n",
       "    </tr>\n",
       "    <tr>\n",
       "      <th>0</th>\n",
       "      <td>Modèle sur df</td>\n",
       "      <td>KNeighborsClassifier()</td>\n",
       "      <td>0.86</td>\n",
       "      <td>0.87</td>\n",
       "      <td>0.38</td>\n",
       "      <td>0.48</td>\n",
       "      <td>Knn</td>\n",
       "    </tr>\n",
       "    <tr>\n",
       "      <th>0</th>\n",
       "      <td>Modèle sur df_PCA</td>\n",
       "      <td>KNeighborsClassifier()</td>\n",
       "      <td>0.86</td>\n",
       "      <td>0.87</td>\n",
       "      <td>0.37</td>\n",
       "      <td>0.48</td>\n",
       "      <td>Knn</td>\n",
       "    </tr>\n",
       "    <tr>\n",
       "      <th>0</th>\n",
       "      <td>Modèle sur df</td>\n",
       "      <td>SVC()</td>\n",
       "      <td>0.86</td>\n",
       "      <td>0.88</td>\n",
       "      <td>0.36</td>\n",
       "      <td>0.49</td>\n",
       "      <td>Svm</td>\n",
       "    </tr>\n",
       "    <tr>\n",
       "      <th>0</th>\n",
       "      <td>Modèle sur df_PCA</td>\n",
       "      <td>SVC()</td>\n",
       "      <td>0.86</td>\n",
       "      <td>0.88</td>\n",
       "      <td>0.35</td>\n",
       "      <td>0.49</td>\n",
       "      <td>Svm</td>\n",
       "    </tr>\n",
       "    <tr>\n",
       "      <th>0</th>\n",
       "      <td>Modèle sur df</td>\n",
       "      <td>(DecisionTreeClassifier(max_features='sqrt', r...</td>\n",
       "      <td>0.86</td>\n",
       "      <td>0.88</td>\n",
       "      <td>0.37</td>\n",
       "      <td>0.50</td>\n",
       "      <td>Rf</td>\n",
       "    </tr>\n",
       "    <tr>\n",
       "      <th>0</th>\n",
       "      <td>Modèle sur df_PCA</td>\n",
       "      <td>(DecisionTreeClassifier(max_features='sqrt', r...</td>\n",
       "      <td>0.86</td>\n",
       "      <td>0.88</td>\n",
       "      <td>0.33</td>\n",
       "      <td>0.46</td>\n",
       "      <td>Rf</td>\n",
       "    </tr>\n",
       "  </tbody>\n",
       "</table>\n",
       "</div>"
      ],
      "text/plain": [
       "   données utilisées                                      nom du modèle  \\\n",
       "0      Modèle sur df                               LogisticRegression()   \n",
       "0  Modèle sur df_PCA                               LogisticRegression()   \n",
       "0      Modèle sur df                           DecisionTreeClassifier()   \n",
       "0  Modèle sur df_PCA                           DecisionTreeClassifier()   \n",
       "0      Modèle sur df                             KNeighborsClassifier()   \n",
       "0  Modèle sur df_PCA                             KNeighborsClassifier()   \n",
       "0      Modèle sur df                                              SVC()   \n",
       "0  Modèle sur df_PCA                                              SVC()   \n",
       "0      Modèle sur df  (DecisionTreeClassifier(max_features='sqrt', r...   \n",
       "0  Modèle sur df_PCA  (DecisionTreeClassifier(max_features='sqrt', r...   \n",
       "\n",
       "   f1_weighted  accuracy  recall   f1 nom_rac  \n",
       "0         0.86      0.87    0.38 0.49      Lr  \n",
       "0         0.86      0.87    0.37 0.48      Lr  \n",
       "0         0.82      0.82    0.48 0.46     Dtc  \n",
       "0         0.81      0.81    0.43 0.42     Dtc  \n",
       "0         0.86      0.87    0.38 0.48     Knn  \n",
       "0         0.86      0.87    0.37 0.48     Knn  \n",
       "0         0.86      0.88    0.36 0.49     Svm  \n",
       "0         0.86      0.88    0.35 0.49     Svm  \n",
       "0         0.86      0.88    0.37 0.50      Rf  \n",
       "0         0.86      0.88    0.33 0.46      Rf  "
      ]
     },
     "execution_count": 21,
     "metadata": {},
     "output_type": "execute_result"
    }
   ],
   "source": [
    "df_print[\"nom_rac\"]=[\"Lr\",\"Lr\",\"Dtc\",\"Dtc\",\"Knn\",\"Knn\",\"Svm\",\"Svm\",\"Rf\",'Rf']\n",
    "df_print.head(10)"
   ]
  },
  {
   "cell_type": "code",
   "execution_count": 22,
   "metadata": {
    "scrolled": true,
    "pycharm": {
     "name": "#%%\n"
    }
   },
   "outputs": [
    {
     "data": {
      "image/png": "[encoded data removed]",
      "text/plain": [
       "<Figure size 640x480 with 3 Axes>"
      ]
     },
     "metadata": {},
     "output_type": "display_data"
    }
   ],
   "source": [
    "import seaborn as sns\n",
    "import matplotlib.pyplot as plt\n",
    "\n",
    "fig, axes = plt.subplots(3, 1)\n",
    "\n",
    "sns.set(rc={\"figure.figsize\":(7, 10)})\n",
    "\n",
    "aa = sns.barplot(data=df_print, x=\"nom_rac\", y=\"f1_weighted\", hue=\"données utilisées\", ax=axes[0])\n",
    "aa.legend(loc='upper left', bbox_to_anchor=(1, 1))\n",
    "aa.set_xlabel(\"\", fontsize=10)\n",
    "aa.set_ylim([0.7, 0.9])\n",
    "\n",
    "ab = sns.barplot(data=df_print, x=\"nom_rac\", y=\"recall\", hue=\"données utilisées\", ax=axes[1])\n",
    "ab.legend(loc='upper left', bbox_to_anchor=(1, 1))\n",
    "ab.set_xlabel(\"\", fontsize=10)\n",
    "ab.set_ylim([0.2, 0.7])\n",
    "\n",
    "ac = sns.barplot(data=df_print, x=\"nom_rac\", y=\"f1\", hue=\"données utilisées\", ax=axes[2])\n",
    "ac.legend(loc='upper left', bbox_to_anchor=(1, 1))\n",
    "ac.set_xlabel(\"\", fontsize=10)\n",
    "ac.set_ylim([0.3, 0.8])\n",
    "\n",
    "plt.show()"
   ]
  },
  {
   "cell_type": "markdown",
   "metadata": {
    "pycharm": {
     "name": "#%% md\n"
    }
   },
   "source": [
    "Performances assez homogènes sur f1_weighted à part pour DecisionTree. Vainqueur : randomForest\n",
    "\n",
    "Peu d'intérêt au travail sur PCA avec ce jeu de données (à 90% ou même à 99%)\n"
   ]
  },
  {
   "cell_type": "markdown",
   "metadata": {
    "pycharm": {
     "name": "#%% md\n"
    }
   },
   "source": [
    "# 4. Optimisation des modèles <a name=\"2\"></a>\n",
    "[return to the plan](#0)  "
   ]
  },
  {
   "cell_type": "markdown",
   "metadata": {
    "pycharm": {
     "name": "#%% md\n"
    }
   },
   "source": [
    "## 4.1 Gridsearch <a name=\"4.1\"></a>\n",
    "[return to the plan](#1)  "
   ]
  },
  {
   "cell_type": "markdown",
   "metadata": {
    "pycharm": {
     "name": "#%% md\n"
    }
   },
   "source": [
    "Pour chacun des modèles suivants, on cherche à optimiser leurs hyperparamètres pour chaque jeu de données :\n",
    "* Logistic Regression\n",
    "* DecisionTree \n",
    "* Kn-Neighbors\n",
    "* SVM\n",
    "* Random Forest"
   ]
  },
  {
   "cell_type": "code",
   "execution_count": 23,
   "metadata": {
    "pycharm": {
     "name": "#%%\n"
    }
   },
   "outputs": [
    {
     "name": "stdout",
     "output_type": "stream",
     "text": [
      "df\n",
      "--\n",
      "f1_weighted sur Train =: 86.0%\n",
      "f1_weighted sur Test =: 85.78%\n",
      "--\n",
      "Best Parameters is {'C': 100, 'class_weight': None, 'penalty': 'l1', 'solver': 'liblinear'}\n",
      "--\n",
      "ROC Score is 0.6723532534936941\n",
      "--\n",
      "Recall Score is  0.3783666377063423\n",
      "--\n",
      "Confusion Matrix\n",
      "\n",
      " [[11828   412]\n",
      " [ 1431   871]]\n",
      "\n",
      "\n",
      "\n",
      "df_PCA\n",
      "--\n",
      "f1_weighted sur Train =: 85.91%\n",
      "f1_weighted sur Test =: 85.7%\n",
      "--\n",
      "Best Parameters is {'C': 100, 'class_weight': None, 'penalty': 'l1', 'solver': 'saga'}\n",
      "--\n",
      "ROC Score is 0.6698972689278434\n",
      "--\n",
      "Recall Score is  0.37271937445699393\n",
      "--\n",
      "Confusion Matrix\n",
      "\n",
      " [[11837   403]\n",
      " [ 1444   858]]\n",
      "\n",
      "\n",
      "\n"
     ]
    }
   ],
   "source": [
    "for name, X_tr, y_tr, X_te, y_te in zip(['df', 'df_PCA'], [X_train, X_train_pca], [y_train, y_train_pca], [X_test, X_test_pca], [y_test, y_test_pca]):\n",
    "    logistic_params = {\n",
    "        \"solver\": ['newton-cg', 'lbfgs', 'liblinear', 'sag', 'saga'],\n",
    "        \"penalty\": ['l1', 'l2', 'elasticnet'],\n",
    "        'C': [100, 10, 1.0, 0.1, 0.01],\n",
    "        \"class_weight\": ['balanced', None]\n",
    "    }\n",
    "\n",
    "    # apply gridsearch model\n",
    "    lr_grid = GridSearchCV(LogisticRegression(), logistic_params, scoring='f1_weighted', cv=4)\n",
    "\n",
    "    lr_grid.fit(X_tr, y_tr)\n",
    "    lr_grid.best_estimator_\n",
    "    y_pred = lr_grid.predict(X_te)\n",
    "\n",
    "    best_score = lr_grid.best_score_\n",
    "    best_params = lr_grid.best_params_\n",
    "    precision = precision_score(y_te, y_pred)\n",
    "    roc = roc_auc_score(y_te, y_pred)\n",
    "    recall = recall_score(y_te, y_pred)\n",
    "    cm = confusion_matrix(y_te, y_pred)\n",
    "\n",
    "    print(name)\n",
    "    print('--')\n",
    "    print(f'f1_weighted sur Train =: {round(lr_grid.score(X_tr, y_tr) * 100, 2)}%')\n",
    "    print(f'f1_weighted sur Test =: {round(lr_grid.score(X_te, y_te) * 100, 2)}%')\n",
    "    print('--')\n",
    "    print('Best Parameters is', best_params)\n",
    "    print('--')\n",
    "    print('ROC Score is', roc)\n",
    "    print('--')\n",
    "    print('Recall Score is ', recall)\n",
    "    print('--')\n",
    "    print('Confusion Matrix\\n\\n', cm)\n",
    "    print('\\n\\n')"
   ]
  },
  {
   "cell_type": "code",
   "execution_count": 24,
   "metadata": {
    "scrolled": true,
    "pycharm": {
     "name": "#%%\n"
    }
   },
   "outputs": [
    {
     "name": "stdout",
     "output_type": "stream",
     "text": [
      "df\n",
      "--\n",
      "f1_weighted sur Train =: 84.77%\n",
      "f1_weighted sur Test =: 84.48%\n",
      "--\n",
      "Best Parameters is {'class_weight': None, 'criterion': 'entropy', 'max_depth': 40, 'max_features': None, 'max_leaf_nodes': 10, 'random_state': 4, 'splitter': 'best'}\n",
      "--\n",
      "ROC Score is 0.6455128177827748\n",
      "--\n",
      "Recall Score is  0.3262380538662033\n",
      "--\n",
      "Confusion Matrix\n",
      "\n",
      " [[11809   431]\n",
      " [ 1551   751]]\n",
      "\n",
      "\n",
      "\n",
      "df_PCA\n",
      "--\n",
      "f1_weighted sur Train =: 82.93%\n",
      "f1_weighted sur Test =: 83.13%\n",
      "--\n",
      "Best Parameters is {'class_weight': None, 'criterion': 'gini', 'max_depth': 40, 'max_features': None, 'max_leaf_nodes': 10, 'random_state': 4, 'splitter': 'best'}\n",
      "--\n",
      "ROC Score is 0.6144179826578764\n",
      "--\n",
      "Recall Score is  0.2602085143353606\n",
      "--\n",
      "Confusion Matrix\n",
      "\n",
      " [[11856   384]\n",
      " [ 1703   599]]\n",
      "\n",
      "\n",
      "\n"
     ]
    }
   ],
   "source": [
    "#Decision Tree\n",
    "\n",
    "for name,X_tr,y_tr,X_te,y_te in zip(['df','df_PCA'],[X_train,X_train_pca],[y_train,y_train_pca],[X_test,X_test_pca],[y_test,y_test_pca]):\n",
    "\n",
    "    tree_params  = {\n",
    "    \"criterion\" : ['gini', 'entropy', 'log_loss'],\n",
    "    \"max_depth\" : [40,100, None],\n",
    "    'splitter' : ['best', 'random'],\n",
    "    'max_features' : [\"auto\",'sqrt', 'log2',None],\n",
    "    'random_state' : [4,5],\n",
    "    'max_leaf_nodes' : [5,10,None],\n",
    "    'class_weight': ['balanced',None]\n",
    "    }\n",
    "\n",
    "    # apply gridsearch model \n",
    "    tree_grid = GridSearchCV(DecisionTreeClassifier(), tree_params, scoring = 'f1_weighted',cv = 4)\n",
    "\n",
    "    tree_grid.fit(X_tr, y_tr)\n",
    "    tree_grid.best_estimator_\n",
    "    y_pred = tree_grid.predict(X_te)\n",
    "\n",
    "    best_score = tree_grid.best_score_\n",
    "    best_params = tree_grid.best_params_\n",
    "    precision = precision_score(y_te, y_pred)\n",
    "    roc = roc_auc_score(y_te, y_pred)\n",
    "    recall = recall_score(y_te, y_pred)\n",
    "    cm = confusion_matrix(y_te, y_pred)\n",
    "\n",
    "    print(name)\n",
    "    print ('--')\n",
    "    print(f'f1_weighted sur Train =: {round(tree_grid.score(X_tr, y_tr) * 100, 2)}%')\n",
    "    print(f'f1_weighted sur Test =: {round(tree_grid.score(X_te, y_te) * 100, 2)}%')\n",
    "    print ('--')\n",
    "    print ('Best Parameters is', best_params)\n",
    "    print ('--')\n",
    "    print ('ROC Score is', roc)\n",
    "    print ('--')\n",
    "    print ('Recall Score is ', recall)\n",
    "    print ('--')\n",
    "    print ('Confusion Matrix\\n\\n', cm)\n",
    "    print ('\\n\\n')"
   ]
  },
  {
   "cell_type": "code",
   "execution_count": 25,
   "metadata": {
    "pycharm": {
     "name": "#%%\n"
    }
   },
   "outputs": [
    {
     "name": "stdout",
     "output_type": "stream",
     "text": [
      "df\n",
      "--\n",
      "f1_weighted sur Train =: 100.0%\n",
      "f1_weighted sur Test =: 85.8%\n",
      "--\n",
      "Best Parameters is {'metric': 'euclidean', 'n_neighbors': 10, 'weights': 'distance'}\n",
      "--\n",
      "ROC Score is 0.6648985962760429\n",
      "--\n",
      "Recall Score is  0.3557775847089487\n",
      "--\n",
      "Confusion Matrix\n",
      "\n",
      " [[11922   318]\n",
      " [ 1483   819]]\n",
      "\n",
      "\n",
      "\n",
      "df_PCA\n",
      "--\n",
      "f1_weighted sur Train =: 100.0%\n",
      "f1_weighted sur Test =: 85.83%\n",
      "--\n",
      "Best Parameters is {'metric': 'euclidean', 'n_neighbors': 10, 'weights': 'distance'}\n",
      "--\n",
      "ROC Score is 0.6667567772837487\n",
      "--\n",
      "Recall Score is  0.36055603822762816\n",
      "--\n",
      "Confusion Matrix\n",
      "\n",
      " [[11909   331]\n",
      " [ 1472   830]]\n",
      "\n",
      "\n",
      "\n"
     ]
    }
   ],
   "source": [
    "#Kn Neighbors\n",
    "\n",
    "for name,X_tr,y_tr,X_te,y_te in zip(['df','df_PCA'],[X_train,X_train_pca],[y_train,y_train_pca],[X_test,X_test_pca],[y_test,y_test_pca]):\n",
    "\n",
    "    kneig_params  = {\n",
    "    \"n_neighbors\" : [5,10,15,20],\n",
    "    \"weights\" : ['uniform', 'distance'],\n",
    "    'metric' : ['euclidean', 'minkowski']\n",
    "    }\n",
    "\n",
    "    # apply gridsearch model \n",
    "    kn_grid = GridSearchCV(KNeighborsClassifier(), kneig_params, scoring = 'f1_weighted',cv = 4)\n",
    "\n",
    "    kn_grid.fit(X_tr, y_tr)\n",
    "    kn_grid.best_estimator_\n",
    "    y_pred = kn_grid.predict(X_te)\n",
    "\n",
    "    best_score = kn_grid.best_score_\n",
    "    best_params = kn_grid.best_params_\n",
    "    precision = precision_score(y_te, y_pred)\n",
    "    roc = roc_auc_score(y_te, y_pred)\n",
    "    recall = recall_score(y_te, y_pred)\n",
    "    cm = confusion_matrix(y_te, y_pred)\n",
    "\n",
    "    print(name)\n",
    "    print ('--')\n",
    "    print(f'f1_weighted sur Train =: {round(kn_grid.score(X_tr, y_tr) * 100, 2)}%')\n",
    "    print(f'f1_weighted sur Test =: {round(kn_grid.score(X_te, y_te) * 100, 2)}%')\n",
    "    print ('--')\n",
    "    print ('Best Parameters is', best_params)\n",
    "    print ('--')\n",
    "    print ('ROC Score is', roc)\n",
    "    print ('--')\n",
    "    print ('Recall Score is ', recall)\n",
    "    print ('--')\n",
    "    print ('Confusion Matrix\\n\\n', cm)\n",
    "    print ('\\n\\n')"
   ]
  },
  {
   "cell_type": "code",
   "execution_count": 26,
   "metadata": {
    "pycharm": {
     "name": "#%%\n"
    }
   },
   "outputs": [
    {
     "name": "stdout",
     "output_type": "stream",
     "text": [
      "df\n",
      "--\n",
      "f1_weighted sur Train =: 91.24%\n",
      "f1_weighted sur Test =: 86.99%\n",
      "--\n",
      "Best Parameters is {'C': 10.0, 'class_weight': None, 'degree': 3, 'kernel': 'rbf'}\n",
      "--\n",
      "ROC Score is 0.6955181768624045\n",
      "--\n",
      "Recall Score is  0.4209383145091225\n",
      "--\n",
      "Confusion Matrix\n",
      "\n",
      " [[11874   366]\n",
      " [ 1333   969]]\n",
      "\n",
      "\n",
      "\n",
      "df_PCA\n",
      "--\n",
      "f1_weighted sur Train =: 91.16%\n",
      "f1_weighted sur Test =: 86.85%\n",
      "--\n",
      "Best Parameters is {'C': 10.0, 'class_weight': None, 'degree': 3, 'kernel': 'rbf'}\n",
      "--\n",
      "ROC Score is 0.6929247017370517\n",
      "--\n",
      "Recall Score is  0.4161598609904431\n",
      "--\n",
      "Confusion Matrix\n",
      "\n",
      " [[11869   371]\n",
      " [ 1344   958]]\n",
      "\n",
      "\n",
      "\n"
     ]
    }
   ],
   "source": [
    "#SVC\n",
    "\n",
    "for name,X_tr,y_tr,X_te,y_te in zip(['df','df_PCA'],[X_train,X_train_pca],[y_train,y_train_pca],[X_test,X_test_pca],[y_test,y_test_pca]):\n",
    "\n",
    "    SVM_params  = {\n",
    "    \"kernel\" : ['rbf', 'poly', 'sigmoid'],\n",
    "    \"degree\" : [3,5],\n",
    "    \"C\": [10.0, 1.0, 0.1],\n",
    "    'class_weight': ['balanced',None]\n",
    "    }\n",
    "\n",
    "    # apply gridsearch model \n",
    "    svm_grid = GridSearchCV(SVC(), SVM_params, scoring = 'f1_weighted',cv = 4)\n",
    "\n",
    "    svm_grid.fit(X_tr, y_tr)\n",
    "    svm_grid.best_estimator_\n",
    "    y_pred = svm_grid.predict(X_te)\n",
    "\n",
    "    best_score = svm_grid.best_score_\n",
    "    best_params = svm_grid.best_params_\n",
    "    precision = precision_score(y_te, y_pred)\n",
    "    roc = roc_auc_score(y_te, y_pred)\n",
    "    recall = recall_score(y_te, y_pred)\n",
    "    cm = confusion_matrix(y_te, y_pred)\n",
    "\n",
    "    print(name)\n",
    "    print ('--')\n",
    "    print(f'f1_weighted sur Train =: {round(svm_grid.score(X_tr, y_tr) * 100, 2)}%')\n",
    "    print(f'f1_weighted sur Test =: {round(svm_grid.score(X_te, y_te) * 100, 2)}%')\n",
    "    print ('--')\n",
    "    print ('Best Parameters is', best_params)\n",
    "    print ('--')\n",
    "    print ('ROC Score is', roc)\n",
    "    print ('--')\n",
    "    print ('Recall Score is ', recall)\n",
    "    print ('--')\n",
    "    print ('Confusion Matrix\\n\\n', cm)\n",
    "    print ('\\n\\n')"
   ]
  },
  {
   "cell_type": "code",
   "execution_count": 29,
   "metadata": {
    "pycharm": {
     "name": "#%%\n"
    }
   },
   "outputs": [
    {
     "name": "stdout",
     "output_type": "stream",
     "text": [
      "CPU times: user 13 µs, sys: 0 ns, total: 13 µs\n",
      "Wall time: 26.2 µs\n",
      "df\n",
      "--\n",
      "f1_weighted sur Train =: 100.0%\n",
      "f1_weighted sur Test =: 86.66%\n",
      "--\n",
      "Best Parameters is {'class_weight': None, 'criterion': 'entropy', 'max_features': 'auto', 'n_estimators': 2000, 'random_state': 42}\n",
      "--\n",
      "ROC Score is 0.6784269007342293\n",
      "--\n",
      "Recall Score is  0.3779322328410078\n",
      "--\n",
      "Confusion Matrix\n",
      "\n",
      " [[11982   258]\n",
      " [ 1432   870]]\n",
      "\n",
      "\n",
      "\n",
      "df_PCA\n",
      "--\n",
      "f1_weighted sur Train =: 100.0%\n",
      "f1_weighted sur Test =: 85.85%\n",
      "--\n",
      "Best Parameters is {'class_weight': None, 'criterion': 'gini', 'max_features': 'auto', 'n_estimators': 2000, 'random_state': 42}\n",
      "--\n",
      "ROC Score is 0.6594784728255624\n",
      "--\n",
      "Recall Score is  0.3384013900955691\n",
      "--\n",
      "Confusion Matrix\n",
      "\n",
      " [[12002   238]\n",
      " [ 1523   779]]\n",
      "\n",
      "\n",
      "\n"
     ]
    }
   ],
   "source": [
    "%time\n",
    "#Random Forest\n",
    "\n",
    "for name,X_tr,y_tr,X_te,y_te in zip(['df','df_PCA'],[X_train,X_train_pca],[y_train,y_train_pca],[X_test,X_test_pca],[y_test,y_test_pca]):\n",
    "\n",
    "    rfc_params  = {\n",
    "    'n_estimators': [2000],\n",
    "    'criterion' : ['gini', 'entropy'],\n",
    "    \"class_weight\": ['balanced', 'balanced_subsample',None],\n",
    "    'max_features': [\"auto\"],\n",
    "    'random_state': [42]\n",
    "    }\n",
    "\n",
    "    # apply gridsearch model \n",
    "    rfc_grid = GridSearchCV(RandomForestClassifier(), rfc_params, scoring = 'f1_weighted',cv = 4)\n",
    "\n",
    "    rfc_grid.fit(X_tr, y_tr)\n",
    "    rfc_grid.best_estimator_\n",
    "    y_pred = rfc_grid.predict(X_te)\n",
    "\n",
    "    best_score = rfc_grid.best_score_\n",
    "    best_params = rfc_grid.best_params_\n",
    "    precision = precision_score(y_te, y_pred)\n",
    "    roc = roc_auc_score(y_te, y_pred)\n",
    "    recall = recall_score(y_te, y_pred)\n",
    "    cm = confusion_matrix(y_te, y_pred)\n",
    "\n",
    "    print(name)\n",
    "    print ('--')\n",
    "    print(f'f1_weighted sur Train =: {round(rfc_grid.score(X_tr, y_tr) * 100, 2)}%')\n",
    "    print(f'f1_weighted sur Test =: {round(rfc_grid.score(X_te, y_te) * 100, 2)}%')\n",
    "    print ('--')\n",
    "    print ('Best Parameters is', best_params)\n",
    "    print ('--')\n",
    "    print ('ROC Score is', roc)\n",
    "    print ('--')\n",
    "    print ('Recall Score is ', recall)\n",
    "    print ('--')\n",
    "    print ('Confusion Matrix\\n\\n', cm)\n",
    "    print ('\\n\\n')"
   ]
  },
  {
   "cell_type": "code",
   "execution_count": 36,
   "metadata": {
    "pycharm": {
     "name": "#%%\n"
    }
   },
   "outputs": [
    {
     "name": "stdout",
     "output_type": "stream",
     "text": [
      "26min 24s ± 2.89 s per loop (mean ± std. dev. of 7 runs, 1 loop each)\n"
     ]
    }
   ],
   "source": [
    "%%timeit\n",
    "\n",
    "#### Mis à jour avec les paramètres déterminés au dessus \n",
    "\n",
    "df_print=pd.DataFrame(columns=['données utilisées', 'nom du modèle', 'f1_weighted', 'accuracy','recall','f1'])\n",
    "\n",
    "# Modèles par défaut et optimisés sur df\n",
    "\n",
    "lr=LogisticRegression()\n",
    "lr2=LogisticRegression(C=100, class_weight=None, penalty='l1', solver='liblinear')\n",
    "svm=SVC()\n",
    "svm2=SVC(C=10.0, class_weight=None, degree=3, kernel='rbf')\n",
    "dt=DecisionTreeClassifier()\n",
    "dt2=DecisionTreeClassifier(class_weight=None, criterion='entropy', max_depth=40, max_features=None, max_leaf_nodes=10, random_state=4, splitter='best')\n",
    "rf=RandomForestClassifier()\n",
    "rf2=RandomForestClassifier(class_weight=None, criterion='entropy', max_features='auto', n_estimators=2000, random_state=42)\n",
    "knn=KNeighborsClassifier()\n",
    "knn2=KNeighborsClassifier(n_neighbors=10, weights='distance', metric='euclidean')\n",
    "\n",
    "models=[lr, lr2, svm, svm2, dt, dt2, rf, rf2, knn, knn2]\n",
    "\n",
    "for model in models:\n",
    "    df_print = df_print.append(evaluate(df_print, \"Modèle sur df\", model, X_train, y_train, X_test, y_test))\n",
    "\n",
    "# Modèles par défaut et optimisés sur df_PCA\n",
    "\n",
    "lr2=LogisticRegression(C=100, class_weight=None, penalty='l1', solver='liblinear')\n",
    "svm2=SVC(C=10, class_weight=None)\n",
    "dt2=DecisionTreeClassifier(class_weight=None, criterion='gini', max_depth=40, max_features=None, max_leaf_nodes=10, random_state=4, splitter='best')\n",
    "rf2=RandomForestClassifier(class_weight=None, criterion='gini', max_features='auto', n_estimators=2000, random_state=42)\n",
    "knn2=KNeighborsClassifier(metric='euclidean', n_neighbors=10, weights='distance')\n",
    "\n",
    "models=[lr, lr2, svm, svm2, dt, dt2, rf, rf2, knn, knn2]\n",
    "\n",
    "for model in models:\n",
    "    df_print = df_print.append(evaluate(df_print, \"Modèle sur df_PCA\", model, X_train_pca, y_train_pca, X_test_pca, y_test_pca))\n",
    "\n",
    "df_print.head(20)\n"
   ]
  },
  {
   "cell_type": "code",
   "execution_count": 38,
   "metadata": {
    "pycharm": {
     "name": "#%%\n"
    }
   },
   "outputs": [
    {
     "data": {
      "text/html": [
       "<div>\n",
       "<style scoped>\n",
       "    .dataframe tbody tr th:only-of-type {\n",
       "        vertical-align: middle;\n",
       "    }\n",
       "\n",
       "    .dataframe tbody tr th {\n",
       "        vertical-align: top;\n",
       "    }\n",
       "\n",
       "    .dataframe thead th {\n",
       "        text-align: right;\n",
       "    }\n",
       "</style>\n",
       "<table border=\"1\" class=\"dataframe\">\n",
       "  <thead>\n",
       "    <tr style=\"text-align: right;\">\n",
       "      <th></th>\n",
       "      <th>données utilisées</th>\n",
       "      <th>nom du modèle</th>\n",
       "      <th>f1_weighted</th>\n",
       "      <th>accuracy</th>\n",
       "      <th>recall</th>\n",
       "      <th>f1</th>\n",
       "      <th>nom_rac</th>\n",
       "    </tr>\n",
       "  </thead>\n",
       "  <tbody>\n",
       "    <tr>\n",
       "      <th>0</th>\n",
       "      <td>Modèle sur df</td>\n",
       "      <td>LogisticRegression()</td>\n",
       "      <td>0.86</td>\n",
       "      <td>0.87</td>\n",
       "      <td>0.38</td>\n",
       "      <td>0.49</td>\n",
       "      <td>Lr</td>\n",
       "    </tr>\n",
       "    <tr>\n",
       "      <th>0</th>\n",
       "      <td>Modèle sur df_PCA</td>\n",
       "      <td>LogisticRegression()</td>\n",
       "      <td>0.86</td>\n",
       "      <td>0.87</td>\n",
       "      <td>0.37</td>\n",
       "      <td>0.48</td>\n",
       "      <td>LrOpti</td>\n",
       "    </tr>\n",
       "    <tr>\n",
       "      <th>0</th>\n",
       "      <td>Modèle sur df</td>\n",
       "      <td>DecisionTreeClassifier()</td>\n",
       "      <td>0.82</td>\n",
       "      <td>0.82</td>\n",
       "      <td>0.48</td>\n",
       "      <td>0.46</td>\n",
       "      <td>SVC</td>\n",
       "    </tr>\n",
       "    <tr>\n",
       "      <th>0</th>\n",
       "      <td>Modèle sur df_PCA</td>\n",
       "      <td>DecisionTreeClassifier()</td>\n",
       "      <td>0.81</td>\n",
       "      <td>0.81</td>\n",
       "      <td>0.43</td>\n",
       "      <td>0.42</td>\n",
       "      <td>SVCOpti</td>\n",
       "    </tr>\n",
       "    <tr>\n",
       "      <th>0</th>\n",
       "      <td>Modèle sur df</td>\n",
       "      <td>KNeighborsClassifier()</td>\n",
       "      <td>0.86</td>\n",
       "      <td>0.87</td>\n",
       "      <td>0.38</td>\n",
       "      <td>0.48</td>\n",
       "      <td>Dtc</td>\n",
       "    </tr>\n",
       "    <tr>\n",
       "      <th>0</th>\n",
       "      <td>Modèle sur df_PCA</td>\n",
       "      <td>KNeighborsClassifier()</td>\n",
       "      <td>0.86</td>\n",
       "      <td>0.87</td>\n",
       "      <td>0.37</td>\n",
       "      <td>0.48</td>\n",
       "      <td>DtcOpti</td>\n",
       "    </tr>\n",
       "    <tr>\n",
       "      <th>0</th>\n",
       "      <td>Modèle sur df</td>\n",
       "      <td>SVC()</td>\n",
       "      <td>0.86</td>\n",
       "      <td>0.88</td>\n",
       "      <td>0.36</td>\n",
       "      <td>0.49</td>\n",
       "      <td>Rfc</td>\n",
       "    </tr>\n",
       "    <tr>\n",
       "      <th>0</th>\n",
       "      <td>Modèle sur df_PCA</td>\n",
       "      <td>SVC()</td>\n",
       "      <td>0.86</td>\n",
       "      <td>0.88</td>\n",
       "      <td>0.35</td>\n",
       "      <td>0.49</td>\n",
       "      <td>RfcOpti</td>\n",
       "    </tr>\n",
       "    <tr>\n",
       "      <th>0</th>\n",
       "      <td>Modèle sur df</td>\n",
       "      <td>(DecisionTreeClassifier(max_features='sqrt', r...</td>\n",
       "      <td>0.86</td>\n",
       "      <td>0.88</td>\n",
       "      <td>0.37</td>\n",
       "      <td>0.50</td>\n",
       "      <td>Knn</td>\n",
       "    </tr>\n",
       "    <tr>\n",
       "      <th>0</th>\n",
       "      <td>Modèle sur df_PCA</td>\n",
       "      <td>(DecisionTreeClassifier(max_features='sqrt', r...</td>\n",
       "      <td>0.86</td>\n",
       "      <td>0.88</td>\n",
       "      <td>0.33</td>\n",
       "      <td>0.46</td>\n",
       "      <td>KnnOpti</td>\n",
       "    </tr>\n",
       "  </tbody>\n",
       "</table>\n",
       "</div>"
      ],
      "text/plain": [
       "   données utilisées                                      nom du modèle  \\\n",
       "0      Modèle sur df                               LogisticRegression()   \n",
       "0  Modèle sur df_PCA                               LogisticRegression()   \n",
       "0      Modèle sur df                           DecisionTreeClassifier()   \n",
       "0  Modèle sur df_PCA                           DecisionTreeClassifier()   \n",
       "0      Modèle sur df                             KNeighborsClassifier()   \n",
       "0  Modèle sur df_PCA                             KNeighborsClassifier()   \n",
       "0      Modèle sur df                                              SVC()   \n",
       "0  Modèle sur df_PCA                                              SVC()   \n",
       "0      Modèle sur df  (DecisionTreeClassifier(max_features='sqrt', r...   \n",
       "0  Modèle sur df_PCA  (DecisionTreeClassifier(max_features='sqrt', r...   \n",
       "\n",
       "   f1_weighted  accuracy  recall   f1  nom_rac  \n",
       "0         0.86      0.87    0.38 0.49       Lr  \n",
       "0         0.86      0.87    0.37 0.48   LrOpti  \n",
       "0         0.82      0.82    0.48 0.46      SVC  \n",
       "0         0.81      0.81    0.43 0.42  SVCOpti  \n",
       "0         0.86      0.87    0.38 0.48      Dtc  \n",
       "0         0.86      0.87    0.37 0.48  DtcOpti  \n",
       "0         0.86      0.88    0.36 0.49      Rfc  \n",
       "0         0.86      0.88    0.35 0.49  RfcOpti  \n",
       "0         0.86      0.88    0.37 0.50      Knn  \n",
       "0         0.86      0.88    0.33 0.46  KnnOpti  "
      ]
     },
     "execution_count": 38,
     "metadata": {},
     "output_type": "execute_result"
    }
   ],
   "source": [
    "df_print[\"nom_rac\"] = [\"Lr\",\"LrOpti\",\"SVC\",\"SVCOpti\",\"Dtc\",\"DtcOpti\",\"Rfc\",\"RfcOpti\",\"Knn\",\"KnnOpti\",\n",
    "                      \"Lr\",\"LrOpti\",\"SVC\",\"SVCOpti\",\"Dtc\",\"DtcOpti\",\"Rfc\",\"RfcOpti\",\"Knn\",\"KnnOpti\"][:len(df_print)]\n",
    "\n",
    "df_print.head(20)\n"
   ]
  },
  {
   "cell_type": "code",
   "execution_count": 61,
   "metadata": {
    "pycharm": {
     "name": "#%%\n"
    }
   },
   "outputs": [
    {
     "data": {
      "image/png": "[encoded data removed]",
      "text/plain": [
       "<Figure size 700x1000 with 3 Axes>"
      ]
     },
     "metadata": {},
     "output_type": "display_data"
    }
   ],
   "source": [
    "fig, axes = plt.subplots(3, 1)\n",
    "sns.set(rc={\"figure.figsize\":(7, 10)})\n",
    "\n",
    "aa = sns.barplot(data=df_print, x=\"nom_rac\", y=\"f1_weighted\", hue=\"données utilisées\", dodge=False, ax=axes[0])\n",
    "aa.legend(loc='upper left', bbox_to_anchor=(1, 1))\n",
    "aa.set_xlabel(\"\", fontsize=10)\n",
    "aa.set_ylim([0.7, 0.9])\n",
    "\n",
    "for p in aa.patches:\n",
    "    aa.annotate(format(p.get_height(), '.2f'), (p.get_x() + p.get_width() / 2., p.get_height()), ha = 'center', va = 'center', xytext = (0, 10), textcoords = 'offset points')\n",
    "\n",
    "ab = sns.barplot(data=df_print, x=\"nom_rac\", y=\"recall\", hue=\"données utilisées\", dodge=False, ax=axes[1])\n",
    "ab.legend(loc='upper left', bbox_to_anchor=(1, 1))\n",
    "ab.set_xlabel(\"\", fontsize=10)\n",
    "ab.set_ylim([0.2, 0.7])\n",
    "\n",
    "for p in ab.patches:\n",
    "    ab.annotate(format(p.get_height(), '.2f'), (p.get_x() + p.get_width() / 2., p.get_height()), ha = 'center', va = 'center', xytext = (0, 10), textcoords = 'offset points')\n",
    "\n",
    "ac = sns.barplot(data=df_print, x=\"nom_rac\", y=\"f1\", hue=\"données utilisées\", dodge=False, ax=axes[2])\n",
    "ac.legend(loc='upper left', bbox_to_anchor=(1, 1))\n",
    "ac.set_xlabel(\"\", fontsize=10)\n",
    "ac.set_ylim([0.3, 0.8])\n",
    "\n",
    "for p in ac.patches:\n",
    "    ac.annotate(format(p.get_height(), '.2f'), (p.get_x() + p.get_width() / 2., p.get_height()), ha = 'center', va = 'center', xytext = (0, 10), textcoords = 'offset points')\n",
    "\n",
    "plt.show()\n"
   ]
  },
  {
   "cell_type": "markdown",
   "metadata": {
    "pycharm": {
     "name": "#%% md\n"
    }
   },
   "source": [
    "## 4.2 Optimisation bayesienne <a name=\"4.2\"></a>\n",
    "[return to the plan](#1)  "
   ]
  },
  {
   "cell_type": "code",
   "execution_count": 74,
   "metadata": {
    "pycharm": {
     "name": "#%%\n"
    }
   },
   "outputs": [
    {
     "data": {
      "text/html": [
       "<style>#sk-container-id-1 {color: black;background-color: white;}#sk-container-id-1 pre{padding: 0;}#sk-container-id-1 div.sk-toggleable {background-color: white;}#sk-container-id-1 label.sk-toggleable__label {cursor: pointer;display: block;width: 100%;margin-bottom: 0;padding: 0.3em;box-sizing: border-box;text-align: center;}#sk-container-id-1 label.sk-toggleable__label-arrow:before {content: \"▸\";float: left;margin-right: 0.25em;color: #696969;}#sk-container-id-1 label.sk-toggleable__label-arrow:hover:before {color: black;}#sk-container-id-1 div.sk-estimator:hover label.sk-toggleable__label-arrow:before {color: black;}#sk-container-id-1 div.sk-toggleable__content {max-height: 0;max-width: 0;overflow: hidden;text-align: left;background-color: #f0f8ff;}#sk-container-id-1 div.sk-toggleable__content pre {margin: 0.2em;color: black;border-radius: 0.25em;background-color: #f0f8ff;}#sk-container-id-1 input.sk-toggleable__control:checked~div.sk-toggleable__content {max-height: 200px;max-width: 100%;overflow: auto;}#sk-container-id-1 input.sk-toggleable__control:checked~label.sk-toggleable__label-arrow:before {content: \"▾\";}#sk-container-id-1 div.sk-estimator input.sk-toggleable__control:checked~label.sk-toggleable__label {background-color: #d4ebff;}#sk-container-id-1 div.sk-label input.sk-toggleable__control:checked~label.sk-toggleable__label {background-color: #d4ebff;}#sk-container-id-1 input.sk-hidden--visually {border: 0;clip: rect(1px 1px 1px 1px);clip: rect(1px, 1px, 1px, 1px);height: 1px;margin: -1px;overflow: hidden;padding: 0;position: absolute;width: 1px;}#sk-container-id-1 div.sk-estimator {font-family: monospace;background-color: #f0f8ff;border: 1px dotted black;border-radius: 0.25em;box-sizing: border-box;margin-bottom: 0.5em;}#sk-container-id-1 div.sk-estimator:hover {background-color: #d4ebff;}#sk-container-id-1 div.sk-parallel-item::after {content: \"\";width: 100%;border-bottom: 1px solid gray;flex-grow: 1;}#sk-container-id-1 div.sk-label:hover label.sk-toggleable__label {background-color: #d4ebff;}#sk-container-id-1 div.sk-serial::before {content: \"\";position: absolute;border-left: 1px solid gray;box-sizing: border-box;top: 0;bottom: 0;left: 50%;z-index: 0;}#sk-container-id-1 div.sk-serial {display: flex;flex-direction: column;align-items: center;background-color: white;padding-right: 0.2em;padding-left: 0.2em;position: relative;}#sk-container-id-1 div.sk-item {position: relative;z-index: 1;}#sk-container-id-1 div.sk-parallel {display: flex;align-items: stretch;justify-content: center;background-color: white;position: relative;}#sk-container-id-1 div.sk-item::before, #sk-container-id-1 div.sk-parallel-item::before {content: \"\";position: absolute;border-left: 1px solid gray;box-sizing: border-box;top: 0;bottom: 0;left: 50%;z-index: -1;}#sk-container-id-1 div.sk-parallel-item {display: flex;flex-direction: column;z-index: 1;position: relative;background-color: white;}#sk-container-id-1 div.sk-parallel-item:first-child::after {align-self: flex-end;width: 50%;}#sk-container-id-1 div.sk-parallel-item:last-child::after {align-self: flex-start;width: 50%;}#sk-container-id-1 div.sk-parallel-item:only-child::after {width: 0;}#sk-container-id-1 div.sk-dashed-wrapped {border: 1px dashed gray;margin: 0 0.4em 0.5em 0.4em;box-sizing: border-box;padding-bottom: 0.4em;background-color: white;}#sk-container-id-1 div.sk-label label {font-family: monospace;font-weight: bold;display: inline-block;line-height: 1.2em;}#sk-container-id-1 div.sk-label-container {text-align: center;}#sk-container-id-1 div.sk-container {/* jupyter's `normalize.less` sets `[hidden] { display: none; }` but bootstrap.min.css set `[hidden] { display: none !important; }` so we also need the `!important` here to be able to override the default hidden behavior on the sphinx rendered scikit-learn.org. See: https://github.com/scikit-learn/scikit-learn/issues/21755 */display: inline-block !important;position: relative;}#sk-container-id-1 div.sk-text-repr-fallback {display: none;}</style><div id=\"sk-container-id-1\" class=\"sk-top-container\"><div class=\"sk-text-repr-fallback\"><pre>BayesSearchCV(cv=5, estimator=RandomForestClassifier(), n_iter=20, n_jobs=-1,\n",
       "              scoring=&#x27;f1_weighted&#x27;,\n",
       "              search_spaces={&#x27;max_depth&#x27;: Integer(low=3, high=15, prior=&#x27;uniform&#x27;, transform=&#x27;normalize&#x27;),\n",
       "                             &#x27;max_features&#x27;: Real(low=0.1, high=1.0, prior=&#x27;uniform&#x27;, transform=&#x27;normalize&#x27;),\n",
       "                             &#x27;min_samples_leaf&#x27;: Integer(low=1, high=5, prior=&#x27;uniform&#x27;, transform=&#x27;normalize&#x27;),\n",
       "                             &#x27;min_samples_split&#x27;: Integer(low=2, high=10, prior=&#x27;uniform&#x27;, transform=&#x27;normalize&#x27;),\n",
       "                             &#x27;n_estimators&#x27;: Integer(low=100, high=1000, prior=&#x27;uniform&#x27;, transform=&#x27;normalize&#x27;)})</pre><b>In a Jupyter environment, please rerun this cell to show the HTML representation or trust the notebook. <br />On GitHub, the HTML representation is unable to render, please try loading this page with nbviewer.org.</b></div><div class=\"sk-container\" hidden><div class=\"sk-item sk-dashed-wrapped\"><div class=\"sk-label-container\"><div class=\"sk-label sk-toggleable\"><input class=\"sk-toggleable__control sk-hidden--visually\" id=\"sk-estimator-id-1\" type=\"checkbox\" ><label for=\"sk-estimator-id-1\" class=\"sk-toggleable__label sk-toggleable__label-arrow\">BayesSearchCV</label><div class=\"sk-toggleable__content\"><pre>BayesSearchCV(cv=5, estimator=RandomForestClassifier(), n_iter=20, n_jobs=-1,\n",
       "              scoring=&#x27;f1_weighted&#x27;,\n",
       "              search_spaces={&#x27;max_depth&#x27;: Integer(low=3, high=15, prior=&#x27;uniform&#x27;, transform=&#x27;normalize&#x27;),\n",
       "                             &#x27;max_features&#x27;: Real(low=0.1, high=1.0, prior=&#x27;uniform&#x27;, transform=&#x27;normalize&#x27;),\n",
       "                             &#x27;min_samples_leaf&#x27;: Integer(low=1, high=5, prior=&#x27;uniform&#x27;, transform=&#x27;normalize&#x27;),\n",
       "                             &#x27;min_samples_split&#x27;: Integer(low=2, high=10, prior=&#x27;uniform&#x27;, transform=&#x27;normalize&#x27;),\n",
       "                             &#x27;n_estimators&#x27;: Integer(low=100, high=1000, prior=&#x27;uniform&#x27;, transform=&#x27;normalize&#x27;)})</pre></div></div></div><div class=\"sk-parallel\"><div class=\"sk-parallel-item\"><div class=\"sk-item\"><div class=\"sk-label-container\"><div class=\"sk-label sk-toggleable\"><input class=\"sk-toggleable__control sk-hidden--visually\" id=\"sk-estimator-id-2\" type=\"checkbox\" ><label for=\"sk-estimator-id-2\" class=\"sk-toggleable__label sk-toggleable__label-arrow\">estimator: RandomForestClassifier</label><div class=\"sk-toggleable__content\"><pre>RandomForestClassifier()</pre></div></div></div><div class=\"sk-serial\"><div class=\"sk-item\"><div class=\"sk-estimator sk-toggleable\"><input class=\"sk-toggleable__control sk-hidden--visually\" id=\"sk-estimator-id-3\" type=\"checkbox\" ><label for=\"sk-estimator-id-3\" class=\"sk-toggleable__label sk-toggleable__label-arrow\">RandomForestClassifier</label><div class=\"sk-toggleable__content\"><pre>RandomForestClassifier()</pre></div></div></div></div></div></div></div></div></div></div>"
      ],
      "text/plain": [
       "BayesSearchCV(cv=5, estimator=RandomForestClassifier(), n_iter=20, n_jobs=-1,\n",
       "              scoring='f1_weighted',\n",
       "              search_spaces={'max_depth': Integer(low=3, high=15, prior='uniform', transform='normalize'),\n",
       "                             'max_features': Real(low=0.1, high=1.0, prior='uniform', transform='normalize'),\n",
       "                             'min_samples_leaf': Integer(low=1, high=5, prior='uniform', transform='normalize'),\n",
       "                             'min_samples_split': Integer(low=2, high=10, prior='uniform', transform='normalize'),\n",
       "                             'n_estimators': Integer(low=100, high=1000, prior='uniform', transform='normalize')})"
      ]
     },
     "execution_count": 74,
     "metadata": {},
     "output_type": "execute_result"
    }
   ],
   "source": [
    "# Définition de l'espace de recherche pour l'optimisation bayésienne\n",
    "space = {\n",
    "    'n_estimators': Integer(100, 1000),\n",
    "    'max_depth': Integer(3, 15),\n",
    "    'min_samples_split': Integer(2, 10),\n",
    "    'min_samples_leaf': Integer(1, 5),\n",
    "    'max_features': Real(0.1, 1.0, prior='uniform')\n",
    "}\n",
    "\n",
    "# Définition du modèle à optimiser (Random Forest)\n",
    "model = RandomForestClassifier()\n",
    "\n",
    "# Définition de l'optimiseur bayésien avec 20 itérations\n",
    "opt = BayesSearchCV(\n",
    "    model,\n",
    "    space,\n",
    "    n_iter=20,\n",
    "    scoring='f1_weighted',\n",
    "    n_jobs=-1,\n",
    "    cv=5\n",
    ")\n",
    "\n",
    "# Lancement de l'optimisation\n",
    "opt.fit(X_train, y_train)\n",
    "\n"
   ]
  },
  {
   "cell_type": "code",
   "execution_count": 75,
   "metadata": {
    "pycharm": {
     "name": "#%%\n"
    }
   },
   "outputs": [
    {
     "name": "stdout",
     "output_type": "stream",
     "text": [
      "Meilleurs hyperparamètres : OrderedDict([('max_depth', 15), ('max_features', 0.798245942836627), ('min_samples_leaf', 1), ('min_samples_split', 4), ('n_estimators', 774)])\n",
      "Score de l'optimisation bayésienne : 0.87\n"
     ]
    }
   ],
   "source": [
    "# Affichage des meilleurs hyperparamètres trouvés\n",
    "print('Meilleurs hyperparamètres :', opt.best_params_)\n",
    "\n",
    "# Évaluation du modèle avec les hyperparamètres trouvés\n",
    "score = opt.score(X_test, y_test)\n",
    "print('Score de l\\'optimisation bayésienne : {:.2f}'.format(score))"
   ]
  },
  {
   "cell_type": "code",
   "execution_count": 80,
   "metadata": {
    "pycharm": {
     "name": "#%%\n"
    }
   },
   "outputs": [
    {
     "name": "stdout",
     "output_type": "stream",
     "text": [
      "Score du modèle : 0.88\n"
     ]
    }
   ],
   "source": [
    "# Instanciation du modèle avec les meilleurs hyperparamètres\n",
    "best_model = RandomForestClassifier(\n",
    "    max_depth=15,\n",
    "    max_features=0.798245942836627,\n",
    "    min_samples_leaf=1,\n",
    "    min_samples_split=4,\n",
    "    n_estimators=774\n",
    ")\n",
    "\n",
    "# Entraînement du modèle sur l'ensemble des données d'entraînement\n",
    "best_model.fit(X_train, y_train)\n",
    "\n",
    "# Évaluation du modèle sur l'ensemble des données de test\n",
    "score = best_model.score(X_test, y_test)\n",
    "print('Score du modèle : {:.2f}'.format(score))"
   ]
  },
  {
   "cell_type": "markdown",
   "metadata": {
    "pycharm": {
     "name": "#%% md\n"
    }
   },
   "source": [
    "# Conclusion <a name=\"1\"></a>\n",
    "[return to the plan](#0)  "
   ]
  },
  {
   "cell_type": "markdown",
   "metadata": {
    "pycharm": {
     "name": "#%% md\n"
    }
   },
   "source": [
    "> <b>El ipsum vitae lacinia. Sed euismod nibh dolor</b> :\n",
    "> \n",
    "> * Suspendisse vitae dui luctus, molestie felis vel, hendrerit diam. Nullam eget dui vitae eros consectetur laoreet. Aliquam sagittis orci vel augue ullamcorper, non tempor urna malesuada. Suspendisse sodales vel ipsum vitae lacinia. Sed euismod nibh dolor, eu eleifend nibh fermentum eu. Nulla facilisi. Fusce ac fringilla urna. Sed sit amet sagittis quam. Sed condimentum euismod sapien, a auctor orci maximus eget. Donec nec consequat magna. Suspendisse potenti. In sagittis varius leo, at rhoncus erat imperdiet ac. Sed nec fringilla enim, sit amet efficitur lectus.\n",
    "> \n",
    "> * Pellentesque hendrerit libero at odio sagittis, id blandit nulla eleifend. Sed vel sapien a velit vestibulum blandit. Sed lobortis lobortis neque, sit amet dapibus eros accumsan eu. Sed eget erat rhoncus, pretium nibh in, bibendum nisl. Sed ac elit ut elit elementum ullamcorper. Nulla facilisi. Aliquam consectetur urna vel posuere tincidunt. Sed vel tincidunt lorem. Nam ultricies bibendum enim, vel lacinia nisl vehicula eget. Donec ut neque non mi tincidunt venenatis at nec risus. Sed sodales consectetur enim. Curabitur eget eros sem. Sed efficitur, magna at bibendum suscipit, elit purus imperdiet ex, at ultrices nulla velit eu justo. Ut placerat tincidunt est, sit amet fringilla diam finibus eu. Ut ornare tellus vel tincidunt dapibus.\n",
    "> \n",
    "> * Nullam vel enim nisi. Curabitur eget aliquet nunc. Etiam euismod ornare erat, eu tempor arcu pretium id. Nunc euismod, nibh a lacinia aliquet, elit elit consectetur velit, at maximus nulla odio sed ante. Aliquam scelerisque convallis lectus vel malesuada. Vestibulum euismod urna non dolor efficitur, sit amet lobortis quam eleifend. In molestie libero in dolor iaculis, quis dapibus lectus bibendum. Sed consequat velit et ipsum auctor, eu auctor arcu vehicula. Sed vel est ipsum. Vestibulum bibendum justo non nulla euismod pretium. Proin nec nunc nec felis posuere cursus. Suspendisse pharetra diam id diam varius, vitae pellentesque odio imperdiet. Nulla quis massa eu mi molestie varius in quis est. Sed pulvinar libero et sapien semper dapibus. Sed eu"
   ]
  },
  {
   "cell_type": "code",
   "execution_count": 0,
   "metadata": {
    "pycharm": {
     "name": "#%%\n"
    }
   },
   "outputs": [],
   "source": [
    "Modèle le plus efficace ? RandomForest\n",
    "Influence du travail sur Df de base ou celui du PCA ? Gain très faible\n",
    "Recherche bayesienne >> Gridsearch : A l’aveugle et sans présager des hyperparamètres importants mais temps de calcul très long.\n",
    "f1-weighted globale élevée mais faible niveau de précision sur la classe 1  Préjudiciable suivant le cas d’usage\n"
   ]
  },
  {
   "cell_type": "markdown",
   "metadata": {
    "pycharm": {
     "name": "#%% md\n"
    }
   },
   "source": [
    "# Annexe : LazyClassifier <a name=\"1\"></a>\n",
    "[return to the plan](#0)  "
   ]
  },
  {
   "cell_type": "markdown",
   "metadata": {
    "pycharm": {
     "name": "#%% md\n"
    }
   },
   "source": [
    "On exploite la librairie LazyClassifier pour avoir une vue d'ensemble rapide de résultats des différents modèles en termes de :\n",
    "* Résultats sur différents metrics\n",
    "* Temps de calcul"
   ]
  },
  {
   "cell_type": "code",
   "execution_count": 34,
   "metadata": {
    "pycharm": {
     "name": "#%%\n"
    }
   },
   "outputs": [
    {
     "name": "stderr",
     "output_type": "stream",
     "text": [
      "100%|██████████████████████████████████████████| 29/29 [04:25<00:00,  9.17s/it]\n"
     ]
    }
   ],
   "source": [
    "clf = LazyClassifier(ignore_warnings=True, custom_metric=None)\n",
    "models, predictions = clf.fit(X_train, X_test, y_train, y_test)"
   ]
  },
  {
   "cell_type": "code",
   "execution_count": 35,
   "metadata": {
    "pycharm": {
     "name": "#%%\n"
    }
   },
   "outputs": [
    {
     "name": "stdout",
     "output_type": "stream",
     "text": [
      "                               Accuracy  Balanced Accuracy  ROC AUC  F1 Score  \\\n",
      "Model                                                                           \n",
      "NearestCentroid                    0.75               0.75     0.75      0.78   \n",
      "GaussianNB                         0.81               0.72     0.72      0.82   \n",
      "BernoulliNB                        0.79               0.71     0.71      0.81   \n",
      "XGBClassifier                      0.88               0.71     0.71      0.87   \n",
      "QuadraticDiscriminantAnalysis      0.83               0.71     0.71      0.84   \n",
      "Perceptron                         0.81               0.70     0.70      0.82   \n",
      "LGBMClassifier                     0.88               0.70     0.70      0.87   \n",
      "LinearDiscriminantAnalysis         0.87               0.69     0.69      0.86   \n",
      "SGDClassifier                      0.87               0.68     0.68      0.86   \n",
      "DecisionTreeClassifier             0.82               0.68     0.68      0.82   \n",
      "RandomForestClassifier             0.88               0.68     0.68      0.87   \n",
      "AdaBoostClassifier                 0.87               0.67     0.67      0.86   \n",
      "LogisticRegression                 0.87               0.67     0.67      0.86   \n",
      "ExtraTreesClassifier               0.88               0.67     0.67      0.86   \n",
      "KNeighborsClassifier               0.87               0.67     0.67      0.86   \n",
      "CalibratedClassifierCV             0.87               0.67     0.67      0.86   \n",
      "BaggingClassifier                  0.87               0.67     0.67      0.86   \n",
      "SVC                                0.88               0.67     0.67      0.86   \n",
      "LinearSVC                          0.87               0.66     0.66      0.85   \n",
      "ExtraTreeClassifier                0.81               0.66     0.66      0.82   \n",
      "PassiveAggressiveClassifier        0.81               0.64     0.64      0.81   \n",
      "RidgeClassifierCV                  0.87               0.63     0.63      0.85   \n",
      "RidgeClassifier                    0.87               0.63     0.63      0.85   \n",
      "DummyClassifier                    0.84               0.50     0.50      0.77   \n",
      "\n",
      "                               Time Taken  \n",
      "Model                                      \n",
      "NearestCentroid                      0.10  \n",
      "GaussianNB                           0.13  \n",
      "BernoulliNB                          0.12  \n",
      "XGBClassifier                        2.27  \n",
      "QuadraticDiscriminantAnalysis        0.15  \n",
      "Perceptron                           0.17  \n",
      "LGBMClassifier                       0.42  \n",
      "LinearDiscriminantAnalysis           0.26  \n",
      "SGDClassifier                        0.39  \n",
      "DecisionTreeClassifier               0.61  \n",
      "RandomForestClassifier               7.58  \n",
      "AdaBoostClassifier                   2.73  \n",
      "LogisticRegression                   0.19  \n",
      "ExtraTreesClassifier                 5.99  \n",
      "KNeighborsClassifier                18.88  \n",
      "CalibratedClassifierCV              32.23  \n",
      "BaggingClassifier                    3.66  \n",
      "SVC                                180.23  \n",
      "LinearSVC                            8.62  \n",
      "ExtraTreeClassifier                  0.15  \n",
      "PassiveAggressiveClassifier          0.17  \n",
      "RidgeClassifierCV                    0.22  \n",
      "RidgeClassifier                      0.13  \n",
      "DummyClassifier                      0.08  \n"
     ]
    }
   ],
   "source": [
    "print(models)"
   ]
  },
  {
   "cell_type": "code",
   "execution_count": 37,
   "metadata": {
    "pycharm": {
     "name": "#%%\n"
    }
   },
   "outputs": [
    {
     "data": {
      "image/png": "[encoded data removed]",
      "text/plain": [
       "<Figure size 1000x600 with 1 Axes>"
      ]
     },
     "metadata": {},
     "output_type": "display_data"
    }
   ],
   "source": [
    "# Convertir les scores de performance en listes\n",
    "models_list = list(models.index)\n",
    "accuracy_list = list(models['Accuracy'])\n",
    "f1_score_list = list(models['F1 Score'])\n",
    "\n",
    "# Trier les listes par ordre décroissant de score F1\n",
    "sorted_indices = np.argsort(f1_score_list)[::-1]\n",
    "models_list = [models_list[i] for i in sorted_indices]\n",
    "accuracy_list = [accuracy_list[i] for i in sorted_indices]\n",
    "f1_score_list = [f1_score_list[i] for i in sorted_indices]\n",
    "\n",
    "# Tracer la courbe de performance\n",
    "plt.figure(figsize=(10, 6))\n",
    "plt.plot(models_list, f1_score_list, '-o', color='blue', label='Score F1')\n",
    "plt.plot(models_list, accuracy_list, '-o', color='green', label='Accuracy')\n",
    "plt.xlabel('Modèles')\n",
    "plt.ylabel('Score')\n",
    "plt.title('Comparaison des scores de performance')\n",
    "plt.xticks(rotation=90)\n",
    "plt.legend()\n",
    "plt.show()"
   ]
  },
  {
   "cell_type": "markdown",
   "metadata": {
    "pycharm": {
     "name": "#%% md\n"
    }
   },
   "source": [
    "On retrouve globalement les résultat obtenus manuellement au niveau des metrics avant optimisation. Cette visualisation permet cependant d'aisément voir les différences de temps de calcul (~x1000 entre la régression et le modèle SVC pour 1 centième de performance supplémentaire sur l'accuracy) \n",
    "Suivant les cas d'usage métier, il pourrait être intéressant de choisir un modèle à execution rapide.\n"
   ]
  },
  {
   "cell_type": "code",
   "execution_count": 0,
   "metadata": {
    "pycharm": {
     "name": "#%%\n"
    }
   },
   "outputs": [],
   "source": []
  }
 ],
 "metadata": {
  "createdOn": 1685261663158,
  "creator": "ayadi-ben",
  "customFields": {},
  "hide_input": false,
  "kernelspec": {
   "display_name": "Python (env venv_39_wther)",
   "language": "python",
   "name": "py-dku-venv-venv_39_wther"
  },
  "language_info": {
   "codemirror_mode": {
    "name": "ipython",
    "version": 3
   },
   "file_extension": ".py",
   "mimetype": "text/x-python",
   "name": "python",
   "nbconvert_exporter": "python",
   "pygments_lexer": "ipython3",
   "version": "3.9.13"
  },
  "modifiedBy": "ayadi-ben",
  "tags": []
 },
 "nbformat": 4,
 "nbformat_minor": 5
}