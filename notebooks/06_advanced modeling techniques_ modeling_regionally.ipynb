{
 "cells": [
  {
   "cell_type": "markdown",
   "id": "3bdcdf99-0d73-463f-a6f7-9adae1276d5c",
   "metadata": {
    "tags": []
   },
   "source": [
    "## <b>Weather forecast project "
   ]
  },
  {
   "cell_type": "markdown",
   "id": "ffbbda97-5d8a-493c-b002-4b0c61aebeec",
   "metadata": {
    "jp-MarkdownHeadingCollapsed": true,
    "tags": []
   },
   "source": [
    "# <b>06 - ADVANCED MODELING TECHNIQUES : MODELING REGIONALLY"
   ]
  },
  {
   "cell_type": "markdown",
   "id": "fa0c8781-cbaf-4ae7-bf9f-4ec9a6c18a28",
   "metadata": {},
   "source": [
    "# Rain in Australia\n",
    "---\n",
    "#### Dataset source:\n",
    "dataset utilisé dans ce notebook"
   ]
  },
  {
   "cell_type": "markdown",
   "id": "e2f283e4-6c2f-4d5c-8651-b8618be0ed85",
   "metadata": {
    "tags": []
   },
   "source": [
    "#### Context:\n",
    "brève description du notebook :\n",
    "\n",
    "> <div class= \"alert alert-block alert-info\"> <b>Nullam vel enim nisi. Curabitur eget aliquet nunc. Etiam euismod ornare erat, eu tempor arcu pretium id</b>,Nunc euismod, nibh a lacinia aliquet, elit elit consectetur velit, at maximus nulla odio sed ante. Aliquam scelerisque convallis lectus vel malesuada. Vestibulum euismod urna non dolor efficitur, sit amet lobortis quam eleifend\n",
    "</div>"
   ]
  },
  {
   "cell_type": "markdown",
   "id": "31b36bbe-5692-4e51-8f6f-d37a394599ba",
   "metadata": {
    "tags": []
   },
   "source": [
    "# [Table of contents](#0)<a name=\"0\"></a> \n",
    "1. [Titre 1 ](#1)\n",
    "2. [Titre 2](#2)"
   ]
  },
  {
   "cell_type": "markdown",
   "id": "85c5ec93-321a-49dc-af90-714a6a977b4f",
   "metadata": {},
   "source": [
    "#### Packages nécessaires au notebook :"
   ]
  },
  {
   "cell_type": "code",
   "execution_count": 1,
   "id": "942af876-6e11-4441-b86f-dd76f211bc3a",
   "metadata": {},
   "outputs": [],
   "source": [
    "import ...\n"
   ]
  },
  {
   "cell_type": "markdown",
   "id": "23bc7f3d-f9cd-4862-a2ab-5377a1e57e21",
   "metadata": {},
   "source": [
    "# 1.Titre 1<a name=\"1\"></a>\n",
    "[return to the plan](#0)  "
   ]
  },
  {
   "cell_type": "markdown",
   "id": "3310a801-fc9a-46ff-8e23-6627dd979375",
   "metadata": {},
   "source": [
    "Lorem ipsum dolor sit amet, consectetur adipiscing elit. Sed auctor, elit sit amet convallis commodo, sapien ex tincidunt odio, nec auctor arcu odio in enim. Nulla et lacus nibh. \n",
    "\n",
    "Suspendisse vitae dui luctus, molestie felis vel, hendrerit diam. Nullam eget dui vitae eros consectetur laoreet. Aliquam sagittis orci vel augue ullamcorper, non tempor urna malesuada :\n",
    "* Pellentesque hendrerit libero at odio sagittis, id blandit nulla eleifend\n",
    "* Sed vel sapien a velit vestibulum blandit. Sed lobortis lobortis neque"
   ]
  },
  {
   "cell_type": "markdown",
   "id": "19672161-8814-41d5-b727-839aa71c5161",
   "metadata": {},
   "source": [
    "> 1.1 [Sous titre 1](#1.1)  \n",
    "> 1.2 [Sous titre 2](#1.2)    "
   ]
  },
  {
   "cell_type": "markdown",
   "id": "311560c2-08de-44ff-8991-23e3b4236368",
   "metadata": {},
   "source": [
    "## 1.1 Sous titre 1 <a name=\"1.1\"></a>\n",
    "[return to the plan](#1)  "
   ]
  },
  {
   "cell_type": "markdown",
   "id": "59339d72-2f85-4f4d-a0a7-6337f1211546",
   "metadata": {},
   "source": [
    "Lorem ipsum dolor sit amet, consectetur adipiscing elit. Sed auctor, elit sit amet convallis commodo, sapien ex tincidunt odio, nec auctor arcu odio in enim. Nulla et lacus nibh. \n",
    "\n",
    "Suspendisse vitae dui luctus, molestie felis vel, hendrerit diam. Nullam eget dui vitae eros consectetur laoreet. Aliquam sagittis orci vel augue ullamcorper, non tempor urna malesuada :\n",
    "* Pellentesque hendrerit libero at odio sagittis, id blandit nulla eleifend\n",
    "* Sed vel sapien a velit vestibulum blandit. Sed lobortis lobortis neque"
   ]
  },
  {
   "cell_type": "code",
   "execution_count": null,
   "id": "19063974-4e48-46c1-8ed1-45f583e07db1",
   "metadata": {},
   "outputs": [],
   "source": []
  },
  {
   "cell_type": "markdown",
   "id": "0209d115-6366-4df4-988a-3a4cfc4eec2b",
   "metadata": {},
   "source": [
    "## 1.2 Sous titre 2 <a name=\"1.2\"></a>\n",
    "[return to the plan](#1)  "
   ]
  },
  {
   "cell_type": "markdown",
   "id": "aade6645-5436-4a3b-aea0-95d921bf0c03",
   "metadata": {},
   "source": [
    "Lorem ipsum dolor sit amet, consectetur adipiscing elit. Sed auctor, elit sit amet convallis commodo, sapien ex tincidunt odio, nec auctor arcu odio in enim. Nulla et lacus nibh. \n",
    "\n",
    "Suspendisse vitae dui luctus, molestie felis vel, hendrerit diam. Nullam eget dui vitae eros consectetur laoreet. Aliquam sagittis orci vel augue ullamcorper, non tempor urna malesuada :\n",
    "* Pellentesque hendrerit libero at odio sagittis, id blandit nulla eleifend\n",
    "* Sed vel sapien a velit vestibulum blandit. Sed lobortis lobortis neque"
   ]
  },
  {
   "cell_type": "code",
   "execution_count": null,
   "id": "5ebeabaa-f593-46a1-ab3b-c00fc8e5d914",
   "metadata": {},
   "outputs": [],
   "source": []
  },
  {
   "cell_type": "markdown",
   "id": "d7cad7ef-41b6-49a9-85f1-fa30e9e3513d",
   "metadata": {},
   "source": [
    "# 2.Titre 2<a name=\"2\"></a>\n",
    "[return to the plan](#0)  "
   ]
  },
  {
   "cell_type": "markdown",
   "id": "fbc8808d-6caf-40ae-b24a-83dd408adb4d",
   "metadata": {},
   "source": [
    "Lorem ipsum dolor sit amet, consectetur adipiscing elit. Sed auctor, elit sit amet convallis commodo, sapien ex tincidunt odio, nec auctor arcu odio in enim. Nulla et lacus nibh. \n",
    "\n",
    "Suspendisse vitae dui luctus, molestie felis vel, hendrerit diam. Nullam eget dui vitae eros consectetur laoreet. Aliquam sagittis orci vel augue ullamcorper, non tempor urna malesuada :\n",
    "* Pellentesque hendrerit libero at odio sagittis, id blandit nulla eleifend\n",
    "* Sed vel sapien a velit vestibulum blandit. Sed lobortis lobortis neque"
   ]
  },
  {
   "cell_type": "markdown",
   "id": "809043e6-8cfe-4f75-9dae-da5a5f08a50a",
   "metadata": {},
   "source": [
    "> 2.1 [Sous titre 1](#2.1)  \n",
    "> 2.2 [Sous titre 2](#2.2)    "
   ]
  },
  {
   "cell_type": "markdown",
   "id": "0c350fcb-6cee-4f7d-8c43-2525db0fc98d",
   "metadata": {
    "tags": []
   },
   "source": [
    "## 2.1. Sous titre 1 <a name=\"2.1\"></a>\n",
    "[return to the plan](#2) "
   ]
  },
  {
   "cell_type": "markdown",
   "id": "93c492d2-fbed-4e71-95c6-3a0d6c07551b",
   "metadata": {},
   "source": [
    "Lorem ipsum dolor sit amet, consectetur adipiscing elit. <b>Sed auctor, elit sit amet convallis commodo</b>, sapien ex tincidunt odio, nec auctor arcu odio in enim. Nulla et lacus nibh. \n",
    "\n",
    "Suspendisse vitae dui luctus, molestie felis vel, hendrerit diam. Nullam eget dui vitae eros consectetur laoreet. Aliquam sagittis orci vel augue ullamcorper, non tempor urna malesuada :\n",
    "* Pellentesque hendrerit libero at odio sagittis, id blandit nulla eleifend\n",
    "* Sed vel sapien a velit vestibulum blandit. Sed lobortis lobortis neque"
   ]
  },
  {
   "cell_type": "code",
   "execution_count": null,
   "id": "dc095684-61ba-4d78-b4ff-a6aceab9372c",
   "metadata": {},
   "outputs": [],
   "source": []
  },
  {
   "cell_type": "markdown",
   "id": "b7f64d2e-1189-47da-8d66-3deb807b1f68",
   "metadata": {},
   "source": [
    "## 2.2. Sous titre 2 <a name=\"2.2\"></a>\n",
    "[return to the plan](#2) "
   ]
  },
  {
   "cell_type": "markdown",
   "id": "3ee88202-b00b-4df6-88e7-4f3a2b6adb62",
   "metadata": {},
   "source": [
    "Lorem ipsum dolor sit amet, consectetur adipiscing elit. <b>Sed auctor, elit sit amet convallis commodo</b>, sapien ex tincidunt odio, nec auctor arcu odio in enim. Nulla et lacus nibh. \n",
    "\n",
    "Suspendisse vitae dui luctus, molestie felis vel, hendrerit diam. Nullam eget dui vitae eros consectetur laoreet. Aliquam sagittis orci vel augue ullamcorper, non tempor urna malesuada :\n",
    "* Pellentesque hendrerit libero at odio sagittis, id blandit nulla eleifend\n",
    "* Sed vel sapien a velit vestibulum blandit. Sed lobortis lobortis neque"
   ]
  },
  {
   "cell_type": "code",
   "execution_count": null,
   "id": "19321e36-f152-4f32-8ad5-fde802e4d9ae",
   "metadata": {},
   "outputs": [],
   "source": []
  },
  {
   "cell_type": "markdown",
   "id": "b59ae850-98a4-4f9b-9b74-6996472c92d1",
   "metadata": {},
   "source": [
    "# Conclusion <a name=\"1\"></a>\n",
    "[return to the plan](#0)  "
   ]
  },
  {
   "cell_type": "markdown",
   "id": "c640de7c-a17b-4cc2-bf8d-b399daef2852",
   "metadata": {},
   "source": [
    "> <b>El ipsum vitae lacinia. Sed euismod nibh dolor</b> :\n",
    "> \n",
    "> * Suspendisse vitae dui luctus, molestie felis vel, hendrerit diam. Nullam eget dui vitae eros consectetur laoreet. Aliquam sagittis orci vel augue ullamcorper, non tempor urna malesuada. Suspendisse sodales vel ipsum vitae lacinia. Sed euismod nibh dolor, eu eleifend nibh fermentum eu. Nulla facilisi. Fusce ac fringilla urna. Sed sit amet sagittis quam. Sed condimentum euismod sapien, a auctor orci maximus eget. Donec nec consequat magna. Suspendisse potenti. In sagittis varius leo, at rhoncus erat imperdiet ac. Sed nec fringilla enim, sit amet efficitur lectus.\n",
    "> \n",
    "> * Pellentesque hendrerit libero at odio sagittis, id blandit nulla eleifend. Sed vel sapien a velit vestibulum blandit. Sed lobortis lobortis neque, sit amet dapibus eros accumsan eu. Sed eget erat rhoncus, pretium nibh in, bibendum nisl. Sed ac elit ut elit elementum ullamcorper. Nulla facilisi. Aliquam consectetur urna vel posuere tincidunt. Sed vel tincidunt lorem. Nam ultricies bibendum enim, vel lacinia nisl vehicula eget. Donec ut neque non mi tincidunt venenatis at nec risus. Sed sodales consectetur enim. Curabitur eget eros sem. Sed efficitur, magna at bibendum suscipit, elit purus imperdiet ex, at ultrices nulla velit eu justo. Ut placerat tincidunt est, sit amet fringilla diam finibus eu. Ut ornare tellus vel tincidunt dapibus.\n",
    "> \n",
    "> * Nullam vel enim nisi. Curabitur eget aliquet nunc. Etiam euismod ornare erat, eu tempor arcu pretium id. Nunc euismod, nibh a lacinia aliquet, elit elit consectetur velit, at maximus nulla odio sed ante. Aliquam scelerisque convallis lectus vel malesuada. Vestibulum euismod urna non dolor efficitur, sit amet lobortis quam eleifend. In molestie libero in dolor iaculis, quis dapibus lectus bibendum. Sed consequat velit et ipsum auctor, eu auctor arcu vehicula. Sed vel est ipsum. Vestibulum bibendum justo non nulla euismod pretium. Proin nec nunc nec felis posuere cursus. Suspendisse pharetra diam id diam varius, vitae pellentesque odio imperdiet. Nulla quis massa eu mi molestie varius in quis est. Sed pulvinar libero et sapien semper dapibus. Sed eu"
   ]
  }
 ],
 "metadata": {
  "kernelspec": {
   "display_name": "venv_weatherforecast",
   "language": "python",
   "name": "venv_weatherforecast"
  },
  "language_info": {
   "codemirror_mode": {
    "name": "ipython",
    "version": 3
   },
   "file_extension": ".py",
   "mimetype": "text/x-python",
   "name": "python",
   "nbconvert_exporter": "python",
   "pygments_lexer": "ipython3",
   "version": "3.10.9"
  }
 },
 "nbformat": 4,
 "nbformat_minor": 5
}
