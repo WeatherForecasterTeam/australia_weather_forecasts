{
 "cells": [
  {
   "cell_type": "markdown",
   "id": "3bdcdf99-0d73-463f-a6f7-9adae1276d5c",
   "metadata": {
    "id": "3bdcdf99-0d73-463f-a6f7-9adae1276d5c",
    "tags": []
   },
   "source": [
    "## <b>Weather forecast project "
   ]
  },
  {
   "cell_type": "markdown",
   "id": "ffbbda97-5d8a-493c-b002-4b0c61aebeec",
   "metadata": {
    "id": "ffbbda97-5d8a-493c-b002-4b0c61aebeec",
    "jp-MarkdownHeadingCollapsed": true,
    "tags": []
   },
   "source": [
    "# <b>06 - ADVANCED MODELING TECHNIQUES : MODELING REGIONALLY"
   ]
  },
  {
   "cell_type": "markdown",
   "id": "fa0c8781-cbaf-4ae7-bf9f-4ec9a6c18a28",
   "metadata": {
    "id": "fa0c8781-cbaf-4ae7-bf9f-4ec9a6c18a28"
   },
   "source": [
    "# Rain in Australia\n",
    "---\n",
    "#### Dataset source:\n",
    "Le dataset issu de l'étape de feature engineering est utilisé dans ce notebook :\n",
    "\n",
    "- data_features.csv contenant les données nettoyées et préparées sur la base du dataset initiale"
   ]
  },
  {
   "cell_type": "markdown",
   "id": "e2f283e4-6c2f-4d5c-8651-b8618be0ed85",
   "metadata": {
    "id": "e2f283e4-6c2f-4d5c-8651-b8618be0ed85",
    "tags": []
   },
   "source": [
    "#### Context:\n",
    "brève description du notebook :\n",
    "\n",
    "> <div class= \"alert alert-block alert-info\"> <b>\n",
    "Dans ce notebook, nous proposons de segmenter les données météorologiques par zones plus homogènes climatiques ou locales pour améliorer les performances du modèle de prédiction de la pluie en Australie </b>. Nous chargeons deux ensembles de données préparés, l'un basé sur la typologie climatique et l'autre sur la géographie locale, et comparons leur taille en utilisant des histogrammes. Ensuite, nous appliquons un modèle de classification Random Forest pour prédire s'il va pleuvoir le lendemain en utilisant les données météorologiques et géographiques préparées et segmentées précédemment. Nous évaluons le modèle en utilisant la métrique f1_weighted pour mesurer sa performance globale. \n",
    "\n",
    "> <div class= \"alert alert-block alert-info\"> <b>\n",
    "Nous vérifions le surapprentissage du modèle </b> et utilisons également la technique de validation croisée pour évaluer la performance du modèle de manière plus robuste en effectuant plusieurs séparations entre l'ensemble d'entraînement et l'ensemble de test. Nous affichons les résultats de la validation croisée pour chaque pli afin de visualiser les performances du modèle sur différents ensembles de données.\n",
    "Ces méthodes permettent de vérifier si le modèle est surajusté.\n",
    "</div>\n",
    "\n",
    "\n"
   ]
  },
  {
   "cell_type": "markdown",
   "id": "31b36bbe-5692-4e51-8f6f-d37a394599ba",
   "metadata": {
    "id": "31b36bbe-5692-4e51-8f6f-d37a394599ba",
    "tags": []
   },
   "source": [
    "# [Table of contents](#0)<a name=0></a>\n",
    "\n",
    "1. [Préparation des données en modèles régionales](#1)\n",
    "    \n",
    "    1.1 [Découpage du dataset selon les principaux climats australiens](#1.1)\n",
    "    \n",
    "     > * Climat chaud et humide \n",
    "     > * Climat tempéré et froid \n",
    "     > * Climat méditerranéen\n",
    "     > * Climat sec\n",
    "\n",
    "    1.2 [Découpage du dataset en fonction d'une zone locale : Norfolk Island](#1.3)\n",
    "\n",
    "    1.3 [Comparaison de la taille des datasets climatiques et local](#1.4)     \n",
    "    \n",
    "2. [Application d'un modèle de classification : Random Forest Classifier](#2)\n",
    "\n",
    "3. [Optimisation bayésienne des performances des modèles](#2)\n",
    "\n",
    "4. [Conclusion](#3)"
   ]
  },
  {
   "cell_type": "markdown",
   "id": "85c5ec93-321a-49dc-af90-714a6a977b4f",
   "metadata": {
    "id": "85c5ec93-321a-49dc-af90-714a6a977b4f"
   },
   "source": [
    "#### Packages nécessaires au notebook :"
   ]
  },
  {
   "cell_type": "code",
   "execution_count": 5,
   "id": "942af876-6e11-4441-b86f-dd76f211bc3a",
   "metadata": {
    "executionInfo": {
     "elapsed": 11,
     "status": "ok",
     "timestamp": 1683471806473,
     "user": {
      "displayName": "Ben-Mekki AYADI (Ben)",
      "userId": "10473218066512117106"
     },
     "user_tz": -120
    },
    "id": "942af876-6e11-4441-b86f-dd76f211bc3a"
   },
   "outputs": [],
   "source": [
    "import numpy as np\n",
    "import pandas as pd\n",
    "import matplotlib.pyplot as plt\n",
    "import seaborn as sns\n",
    "\n",
    "import pickle\n",
    "import time\n",
    "import lazypredict\n",
    "from lazypredict.Supervised import LazyClassifier\n",
    "\n",
    "from sklearn.preprocessing import StandardScaler\n",
    "from sklearn.model_selection import train_test_split\n",
    "from sklearn.metrics import accuracy_score\n",
    "from sklearn.model_selection import cross_val_score\n",
    "from sklearn.ensemble import RandomForestClassifier\n",
    "from sklearn.tree import DecisionTreeClassifier\n",
    "from sklearn.metrics import confusion_matrix, roc_auc_score, ConfusionMatrixDisplay, precision_score, recall_score, f1_score, classification_report, roc_curve, auc, precision_recall_curve, average_precision_score\n",
    "from sklearn.linear_model import LogisticRegression\n",
    "from sklearn.svm import SVC\n",
    "from sklearn.neighbors import KNeighborsClassifier\n",
    "from sklearn import metrics\n",
    "from sklearn.model_selection import GridSearchCV, validation_curve\n",
    "from sklearn.feature_selection import SelectKBest, f_regression, mutual_info_regression,f_classif,chi2\n",
    "from sklearn.metrics import recall_score, f1_score\n",
    "\n",
    "from skopt import BayesSearchCV\n",
    "from skopt.space import Real, Integer\n",
    "\n",
    "import warnings\n",
    "warnings.filterwarnings(\"ignore\", category=UserWarning, module=\"matplotlib\")\n",
    "\n",
    "from sklearn.ensemble import RandomForestClassifier\n",
    "from sklearn.metrics import classification_report, recall_score, f1_score"
   ]
  },
  {
   "cell_type": "code",
   "execution_count": 6,
   "id": "8559a64d-8ea8-422b-afd1-0e2f4b832499",
   "metadata": {
    "executionInfo": {
     "elapsed": 450,
     "status": "ok",
     "timestamp": 1683471897999,
     "user": {
      "displayName": "Ben-Mekki AYADI (Ben)",
      "userId": "10473218066512117106"
     },
     "user_tz": -120
    },
    "id": "8559a64d-8ea8-422b-afd1-0e2f4b832499"
   },
   "outputs": [],
   "source": [
    "df = pd.read_csv(\"../data/data_features.csv\", index_col=0)"
   ]
  },
  {
   "cell_type": "code",
   "execution_count": 7,
   "id": "104021c0-b55e-47ca-b061-b3d20d6319c5",
   "metadata": {
    "colab": {
     "base_uri": "https://localhost:8080/"
    },
    "executionInfo": {
     "elapsed": 456,
     "status": "ok",
     "timestamp": 1683471905641,
     "user": {
      "displayName": "Ben-Mekki AYADI (Ben)",
      "userId": "10473218066512117106"
     },
     "user_tz": -120
    },
    "id": "104021c0-b55e-47ca-b061-b3d20d6319c5",
    "outputId": "ea01d640-939e-4572-aa85-592dfe0c2d5f"
   },
   "outputs": [
    {
     "data": {
      "text/plain": [
       "0    30281\n",
       "2    19185\n",
       "3    15188\n",
       "1     8053\n",
       "Name: climat, dtype: int64"
      ]
     },
     "execution_count": 7,
     "metadata": {},
     "output_type": "execute_result"
    }
   ],
   "source": [
    "df.climat.value_counts()"
   ]
  },
  {
   "cell_type": "code",
   "execution_count": 8,
   "id": "88e1ed44-a6b3-43ef-84e2-e184db69c4f0",
   "metadata": {
    "executionInfo": {
     "elapsed": 882,
     "status": "ok",
     "timestamp": 1683471909393,
     "user": {
      "displayName": "Ben-Mekki AYADI (Ben)",
      "userId": "10473218066512117106"
     },
     "user_tz": -120
    },
    "id": "88e1ed44-a6b3-43ef-84e2-e184db69c4f0"
   },
   "outputs": [],
   "source": [
    "# Issu du notebook dataprocessing\n",
    "    # 0 : Chaud humide \n",
    "    # 2 : Tempéré froid \n",
    "    # 3 : Méditerranéen \n",
    "    # 1 : Sec "
   ]
  },
  {
   "cell_type": "markdown",
   "id": "23bc7f3d-f9cd-4862-a2ab-5377a1e57e21",
   "metadata": {
    "id": "23bc7f3d-f9cd-4862-a2ab-5377a1e57e21",
    "tags": []
   },
   "source": [
    "# 1.Préparation des données en modèles régionales <a name=1></a>\n",
    "[return to the plan](#0)  "
   ]
  },
  {
   "cell_type": "markdown",
   "id": "3310a801-fc9a-46ff-8e23-6627dd979375",
   "metadata": {
    "id": "3310a801-fc9a-46ff-8e23-6627dd979375"
   },
   "source": [
    "L'objectif de cette préparation est de découper les données en fonction des climats et une zone localisée\n",
    "* dataset climatique\n",
    "* dataset local"
   ]
  },
  {
   "cell_type": "markdown",
   "id": "19672161-8814-41d5-b727-839aa71c5161",
   "metadata": {
    "id": "19672161-8814-41d5-b727-839aa71c5161"
   },
   "source": [
    "## 1.1.Découpage du dataset selon les principaux climats australiens <a name=1.1></a>\n",
    "[return to the plan](#0)  "
   ]
  },
  {
   "cell_type": "markdown",
   "id": "38b69d97-e077-4acd-b299-e10009e150d0",
   "metadata": {
    "id": "38b69d97-e077-4acd-b299-e10009e150d0"
   },
   "source": [
    "### 1.1.1 Climat chaud et humide <a name=1.1.1></a> "
   ]
  },
  {
   "cell_type": "code",
   "execution_count": 9,
   "id": "d1da4cff-832a-4cb9-be08-cf95591a351f",
   "metadata": {
    "colab": {
     "base_uri": "https://localhost:8080/",
     "height": 300
    },
    "executionInfo": {
     "elapsed": 66,
     "status": "ok",
     "timestamp": 1683471913366,
     "user": {
      "displayName": "Ben-Mekki AYADI (Ben)",
      "userId": "10473218066512117106"
     },
     "user_tz": -120
    },
    "id": "d1da4cff-832a-4cb9-be08-cf95591a351f",
    "outputId": "f09942e6-365c-4418-ecd7-1bbe33cc1511",
    "tags": []
   },
   "outputs": [
    {
     "data": {
      "text/html": [
       "<div>\n",
       "<style scoped>\n",
       "    .dataframe tbody tr th:only-of-type {\n",
       "        vertical-align: middle;\n",
       "    }\n",
       "\n",
       "    .dataframe tbody tr th {\n",
       "        vertical-align: top;\n",
       "    }\n",
       "\n",
       "    .dataframe thead th {\n",
       "        text-align: right;\n",
       "    }\n",
       "</style>\n",
       "<table border=\"1\" class=\"dataframe\">\n",
       "  <thead>\n",
       "    <tr style=\"text-align: right;\">\n",
       "      <th></th>\n",
       "      <th>sunshine</th>\n",
       "      <th>windgustspeed</th>\n",
       "      <th>humidity3pm</th>\n",
       "      <th>pressure3pm</th>\n",
       "      <th>year</th>\n",
       "      <th>windspeed3pm</th>\n",
       "      <th>temp_amplitude</th>\n",
       "      <th>cloud3pm</th>\n",
       "      <th>rainfall</th>\n",
       "      <th>climat</th>\n",
       "      <th>...</th>\n",
       "      <th>cloud9am</th>\n",
       "      <th>winddir9am_sin</th>\n",
       "      <th>latitude</th>\n",
       "      <th>month</th>\n",
       "      <th>geography</th>\n",
       "      <th>raintoday</th>\n",
       "      <th>evaporation</th>\n",
       "      <th>windspeed9am</th>\n",
       "      <th>windgustdir_cos</th>\n",
       "      <th>raintomorrow</th>\n",
       "    </tr>\n",
       "  </thead>\n",
       "  <tbody>\n",
       "    <tr>\n",
       "      <th>0</th>\n",
       "      <td>10.90</td>\n",
       "      <td>44.00</td>\n",
       "      <td>22.00</td>\n",
       "      <td>1007.10</td>\n",
       "      <td>2008</td>\n",
       "      <td>24.00</td>\n",
       "      <td>9.50</td>\n",
       "      <td>7.00</td>\n",
       "      <td>0.60</td>\n",
       "      <td>0</td>\n",
       "      <td>...</td>\n",
       "      <td>8.00</td>\n",
       "      <td>0.00</td>\n",
       "      <td>-36.07</td>\n",
       "      <td>12</td>\n",
       "      <td>0</td>\n",
       "      <td>0</td>\n",
       "      <td>7.60</td>\n",
       "      <td>20.00</td>\n",
       "      <td>-1.00</td>\n",
       "      <td>0</td>\n",
       "    </tr>\n",
       "    <tr>\n",
       "      <th>1</th>\n",
       "      <td>12.90</td>\n",
       "      <td>44.00</td>\n",
       "      <td>25.00</td>\n",
       "      <td>1007.80</td>\n",
       "      <td>2008</td>\n",
       "      <td>22.00</td>\n",
       "      <td>17.70</td>\n",
       "      <td>1.00</td>\n",
       "      <td>0.00</td>\n",
       "      <td>0</td>\n",
       "      <td>...</td>\n",
       "      <td>1.00</td>\n",
       "      <td>0.92</td>\n",
       "      <td>-36.07</td>\n",
       "      <td>12</td>\n",
       "      <td>0</td>\n",
       "      <td>0</td>\n",
       "      <td>12.00</td>\n",
       "      <td>4.00</td>\n",
       "      <td>-0.92</td>\n",
       "      <td>0</td>\n",
       "    </tr>\n",
       "    <tr>\n",
       "      <th>2</th>\n",
       "      <td>8.00</td>\n",
       "      <td>46.00</td>\n",
       "      <td>30.00</td>\n",
       "      <td>1008.70</td>\n",
       "      <td>2008</td>\n",
       "      <td>26.00</td>\n",
       "      <td>12.80</td>\n",
       "      <td>2.00</td>\n",
       "      <td>0.00</td>\n",
       "      <td>0</td>\n",
       "      <td>...</td>\n",
       "      <td>7.00</td>\n",
       "      <td>0.00</td>\n",
       "      <td>-36.07</td>\n",
       "      <td>12</td>\n",
       "      <td>0</td>\n",
       "      <td>0</td>\n",
       "      <td>8.00</td>\n",
       "      <td>19.00</td>\n",
       "      <td>-0.92</td>\n",
       "      <td>0</td>\n",
       "    </tr>\n",
       "    <tr>\n",
       "      <th>3</th>\n",
       "      <td>2.20</td>\n",
       "      <td>24.00</td>\n",
       "      <td>16.00</td>\n",
       "      <td>1012.80</td>\n",
       "      <td>2008</td>\n",
       "      <td>9.00</td>\n",
       "      <td>18.80</td>\n",
       "      <td>6.00</td>\n",
       "      <td>0.00</td>\n",
       "      <td>0</td>\n",
       "      <td>...</td>\n",
       "      <td>8.00</td>\n",
       "      <td>-0.71</td>\n",
       "      <td>-36.07</td>\n",
       "      <td>12</td>\n",
       "      <td>0</td>\n",
       "      <td>0</td>\n",
       "      <td>10.00</td>\n",
       "      <td>11.00</td>\n",
       "      <td>0.71</td>\n",
       "      <td>0</td>\n",
       "    </tr>\n",
       "    <tr>\n",
       "      <th>4</th>\n",
       "      <td>6.70</td>\n",
       "      <td>41.00</td>\n",
       "      <td>33.00</td>\n",
       "      <td>1006.00</td>\n",
       "      <td>2008</td>\n",
       "      <td>20.00</td>\n",
       "      <td>14.80</td>\n",
       "      <td>8.00</td>\n",
       "      <td>1.00</td>\n",
       "      <td>0</td>\n",
       "      <td>...</td>\n",
       "      <td>7.00</td>\n",
       "      <td>0.38</td>\n",
       "      <td>-36.07</td>\n",
       "      <td>12</td>\n",
       "      <td>0</td>\n",
       "      <td>0</td>\n",
       "      <td>4.80</td>\n",
       "      <td>7.00</td>\n",
       "      <td>-1.00</td>\n",
       "      <td>0</td>\n",
       "    </tr>\n",
       "  </tbody>\n",
       "</table>\n",
       "<p>5 rows × 24 columns</p>\n",
       "</div>"
      ],
      "text/plain": [
       "   sunshine  windgustspeed  humidity3pm  pressure3pm  year  windspeed3pm  \\\n",
       "0     10.90          44.00        22.00      1007.10  2008         24.00   \n",
       "1     12.90          44.00        25.00      1007.80  2008         22.00   \n",
       "2      8.00          46.00        30.00      1008.70  2008         26.00   \n",
       "3      2.20          24.00        16.00      1012.80  2008          9.00   \n",
       "4      6.70          41.00        33.00      1006.00  2008         20.00   \n",
       "\n",
       "   temp_amplitude  cloud3pm  rainfall  climat  ...  cloud9am  winddir9am_sin  \\\n",
       "0            9.50      7.00      0.60       0  ...      8.00            0.00   \n",
       "1           17.70      1.00      0.00       0  ...      1.00            0.92   \n",
       "2           12.80      2.00      0.00       0  ...      7.00            0.00   \n",
       "3           18.80      6.00      0.00       0  ...      8.00           -0.71   \n",
       "4           14.80      8.00      1.00       0  ...      7.00            0.38   \n",
       "\n",
       "   latitude  month  geography  raintoday  evaporation  windspeed9am  \\\n",
       "0    -36.07     12          0          0         7.60         20.00   \n",
       "1    -36.07     12          0          0        12.00          4.00   \n",
       "2    -36.07     12          0          0         8.00         19.00   \n",
       "3    -36.07     12          0          0        10.00         11.00   \n",
       "4    -36.07     12          0          0         4.80          7.00   \n",
       "\n",
       "   windgustdir_cos  raintomorrow  \n",
       "0            -1.00             0  \n",
       "1            -0.92             0  \n",
       "2            -0.92             0  \n",
       "3             0.71             0  \n",
       "4            -1.00             0  \n",
       "\n",
       "[5 rows x 24 columns]"
      ]
     },
     "execution_count": 9,
     "metadata": {},
     "output_type": "execute_result"
    }
   ],
   "source": [
    "df_chaud_humide = df[df.climat == 0]\n",
    "df_chaud_humide.head()"
   ]
  },
  {
   "cell_type": "markdown",
   "id": "01a59b11-55a9-4040-87f5-0ee48c21509a",
   "metadata": {
    "id": "01a59b11-55a9-4040-87f5-0ee48c21509a"
   },
   "source": [
    "### 1.1.2 Climat tempéré et froid <a name=1.1.2></a>"
   ]
  },
  {
   "cell_type": "code",
   "execution_count": 10,
   "id": "de0c0c2a-4fd6-45d4-9f51-934bd32f6a2e",
   "metadata": {
    "colab": {
     "base_uri": "https://localhost:8080/",
     "height": 300
    },
    "executionInfo": {
     "elapsed": 57,
     "status": "ok",
     "timestamp": 1683471917990,
     "user": {
      "displayName": "Ben-Mekki AYADI (Ben)",
      "userId": "10473218066512117106"
     },
     "user_tz": -120
    },
    "id": "de0c0c2a-4fd6-45d4-9f51-934bd32f6a2e",
    "outputId": "bd912eaf-9ed7-472d-e7b6-be29ab6c52f9"
   },
   "outputs": [
    {
     "data": {
      "text/html": [
       "<div>\n",
       "<style scoped>\n",
       "    .dataframe tbody tr th:only-of-type {\n",
       "        vertical-align: middle;\n",
       "    }\n",
       "\n",
       "    .dataframe tbody tr th {\n",
       "        vertical-align: top;\n",
       "    }\n",
       "\n",
       "    .dataframe thead th {\n",
       "        text-align: right;\n",
       "    }\n",
       "</style>\n",
       "<table border=\"1\" class=\"dataframe\">\n",
       "  <thead>\n",
       "    <tr style=\"text-align: right;\">\n",
       "      <th></th>\n",
       "      <th>sunshine</th>\n",
       "      <th>windgustspeed</th>\n",
       "      <th>humidity3pm</th>\n",
       "      <th>pressure3pm</th>\n",
       "      <th>year</th>\n",
       "      <th>windspeed3pm</th>\n",
       "      <th>temp_amplitude</th>\n",
       "      <th>cloud3pm</th>\n",
       "      <th>rainfall</th>\n",
       "      <th>climat</th>\n",
       "      <th>...</th>\n",
       "      <th>cloud9am</th>\n",
       "      <th>winddir9am_sin</th>\n",
       "      <th>latitude</th>\n",
       "      <th>month</th>\n",
       "      <th>geography</th>\n",
       "      <th>raintoday</th>\n",
       "      <th>evaporation</th>\n",
       "      <th>windspeed9am</th>\n",
       "      <th>windgustdir_cos</th>\n",
       "      <th>raintomorrow</th>\n",
       "    </tr>\n",
       "  </thead>\n",
       "  <tbody>\n",
       "    <tr>\n",
       "      <th>19451</th>\n",
       "      <td>10.80</td>\n",
       "      <td>39.00</td>\n",
       "      <td>65.00</td>\n",
       "      <td>1018.90</td>\n",
       "      <td>2008</td>\n",
       "      <td>22.00</td>\n",
       "      <td>5.80</td>\n",
       "      <td>7.00</td>\n",
       "      <td>0.40</td>\n",
       "      <td>2</td>\n",
       "      <td>...</td>\n",
       "      <td>8.00</td>\n",
       "      <td>0.00</td>\n",
       "      <td>-34.41</td>\n",
       "      <td>12</td>\n",
       "      <td>1</td>\n",
       "      <td>0</td>\n",
       "      <td>11.00</td>\n",
       "      <td>20.00</td>\n",
       "      <td>0.71</td>\n",
       "      <td>0</td>\n",
       "    </tr>\n",
       "    <tr>\n",
       "      <th>19452</th>\n",
       "      <td>8.10</td>\n",
       "      <td>41.00</td>\n",
       "      <td>75.00</td>\n",
       "      <td>1009.20</td>\n",
       "      <td>2008</td>\n",
       "      <td>19.00</td>\n",
       "      <td>9.70</td>\n",
       "      <td>5.00</td>\n",
       "      <td>0.00</td>\n",
       "      <td>2</td>\n",
       "      <td>...</td>\n",
       "      <td>8.00</td>\n",
       "      <td>0.92</td>\n",
       "      <td>-34.41</td>\n",
       "      <td>12</td>\n",
       "      <td>1</td>\n",
       "      <td>0</td>\n",
       "      <td>6.60</td>\n",
       "      <td>22.00</td>\n",
       "      <td>0.92</td>\n",
       "      <td>0</td>\n",
       "    </tr>\n",
       "    <tr>\n",
       "      <th>19453</th>\n",
       "      <td>9.40</td>\n",
       "      <td>44.00</td>\n",
       "      <td>81.00</td>\n",
       "      <td>1004.40</td>\n",
       "      <td>2008</td>\n",
       "      <td>22.00</td>\n",
       "      <td>13.90</td>\n",
       "      <td>4.00</td>\n",
       "      <td>0.20</td>\n",
       "      <td>2</td>\n",
       "      <td>...</td>\n",
       "      <td>6.00</td>\n",
       "      <td>-0.71</td>\n",
       "      <td>-34.41</td>\n",
       "      <td>12</td>\n",
       "      <td>1</td>\n",
       "      <td>0</td>\n",
       "      <td>6.40</td>\n",
       "      <td>6.00</td>\n",
       "      <td>0.38</td>\n",
       "      <td>0</td>\n",
       "    </tr>\n",
       "    <tr>\n",
       "      <th>19454</th>\n",
       "      <td>12.30</td>\n",
       "      <td>50.00</td>\n",
       "      <td>80.00</td>\n",
       "      <td>1008.90</td>\n",
       "      <td>2008</td>\n",
       "      <td>28.00</td>\n",
       "      <td>5.70</td>\n",
       "      <td>7.00</td>\n",
       "      <td>0.60</td>\n",
       "      <td>2</td>\n",
       "      <td>...</td>\n",
       "      <td>8.00</td>\n",
       "      <td>0.38</td>\n",
       "      <td>-34.41</td>\n",
       "      <td>12</td>\n",
       "      <td>1</td>\n",
       "      <td>0</td>\n",
       "      <td>12.40</td>\n",
       "      <td>28.00</td>\n",
       "      <td>0.38</td>\n",
       "      <td>1</td>\n",
       "    </tr>\n",
       "    <tr>\n",
       "      <th>19455</th>\n",
       "      <td>12.90</td>\n",
       "      <td>56.00</td>\n",
       "      <td>54.00</td>\n",
       "      <td>1007.60</td>\n",
       "      <td>2008</td>\n",
       "      <td>28.00</td>\n",
       "      <td>5.30</td>\n",
       "      <td>3.00</td>\n",
       "      <td>0.60</td>\n",
       "      <td>2</td>\n",
       "      <td>...</td>\n",
       "      <td>3.00</td>\n",
       "      <td>-0.92</td>\n",
       "      <td>-34.41</td>\n",
       "      <td>12</td>\n",
       "      <td>1</td>\n",
       "      <td>0</td>\n",
       "      <td>6.60</td>\n",
       "      <td>31.00</td>\n",
       "      <td>-0.38</td>\n",
       "      <td>0</td>\n",
       "    </tr>\n",
       "  </tbody>\n",
       "</table>\n",
       "<p>5 rows × 24 columns</p>\n",
       "</div>"
      ],
      "text/plain": [
       "       sunshine  windgustspeed  humidity3pm  pressure3pm  year  windspeed3pm  \\\n",
       "19451     10.80          39.00        65.00      1018.90  2008         22.00   \n",
       "19452      8.10          41.00        75.00      1009.20  2008         19.00   \n",
       "19453      9.40          44.00        81.00      1004.40  2008         22.00   \n",
       "19454     12.30          50.00        80.00      1008.90  2008         28.00   \n",
       "19455     12.90          56.00        54.00      1007.60  2008         28.00   \n",
       "\n",
       "       temp_amplitude  cloud3pm  rainfall  climat  ...  cloud9am  \\\n",
       "19451            5.80      7.00      0.40       2  ...      8.00   \n",
       "19452            9.70      5.00      0.00       2  ...      8.00   \n",
       "19453           13.90      4.00      0.20       2  ...      6.00   \n",
       "19454            5.70      7.00      0.60       2  ...      8.00   \n",
       "19455            5.30      3.00      0.60       2  ...      3.00   \n",
       "\n",
       "       winddir9am_sin  latitude  month  geography  raintoday  evaporation  \\\n",
       "19451            0.00    -34.41     12          1          0        11.00   \n",
       "19452            0.92    -34.41     12          1          0         6.60   \n",
       "19453           -0.71    -34.41     12          1          0         6.40   \n",
       "19454            0.38    -34.41     12          1          0        12.40   \n",
       "19455           -0.92    -34.41     12          1          0         6.60   \n",
       "\n",
       "       windspeed9am  windgustdir_cos  raintomorrow  \n",
       "19451         20.00             0.71             0  \n",
       "19452         22.00             0.92             0  \n",
       "19453          6.00             0.38             0  \n",
       "19454         28.00             0.38             1  \n",
       "19455         31.00            -0.38             0  \n",
       "\n",
       "[5 rows x 24 columns]"
      ]
     },
     "execution_count": 10,
     "metadata": {},
     "output_type": "execute_result"
    }
   ],
   "source": [
    "df_tempere_froid = df[df.climat == 2]\n",
    "df_tempere_froid.head()"
   ]
  },
  {
   "cell_type": "markdown",
   "id": "eac79876-9bda-4c2b-a2b9-bd260a09ca28",
   "metadata": {
    "id": "eac79876-9bda-4c2b-a2b9-bd260a09ca28"
   },
   "source": [
    "### 1.1.3 Climat méditerranéen <a name=1.1.3></a> "
   ]
  },
  {
   "cell_type": "code",
   "execution_count": 11,
   "id": "d0d3be26-ae84-4175-a794-d3386c79914c",
   "metadata": {
    "colab": {
     "base_uri": "https://localhost:8080/",
     "height": 300
    },
    "executionInfo": {
     "elapsed": 61,
     "status": "ok",
     "timestamp": 1683471922795,
     "user": {
      "displayName": "Ben-Mekki AYADI (Ben)",
      "userId": "10473218066512117106"
     },
     "user_tz": -120
    },
    "id": "d0d3be26-ae84-4175-a794-d3386c79914c",
    "outputId": "4fd672cb-240c-47b3-fc0f-f7e32db79214"
   },
   "outputs": [
    {
     "data": {
      "text/html": [
       "<div>\n",
       "<style scoped>\n",
       "    .dataframe tbody tr th:only-of-type {\n",
       "        vertical-align: middle;\n",
       "    }\n",
       "\n",
       "    .dataframe tbody tr th {\n",
       "        vertical-align: top;\n",
       "    }\n",
       "\n",
       "    .dataframe thead th {\n",
       "        text-align: right;\n",
       "    }\n",
       "</style>\n",
       "<table border=\"1\" class=\"dataframe\">\n",
       "  <thead>\n",
       "    <tr style=\"text-align: right;\">\n",
       "      <th></th>\n",
       "      <th>sunshine</th>\n",
       "      <th>windgustspeed</th>\n",
       "      <th>humidity3pm</th>\n",
       "      <th>pressure3pm</th>\n",
       "      <th>year</th>\n",
       "      <th>windspeed3pm</th>\n",
       "      <th>temp_amplitude</th>\n",
       "      <th>cloud3pm</th>\n",
       "      <th>rainfall</th>\n",
       "      <th>climat</th>\n",
       "      <th>...</th>\n",
       "      <th>cloud9am</th>\n",
       "      <th>winddir9am_sin</th>\n",
       "      <th>latitude</th>\n",
       "      <th>month</th>\n",
       "      <th>geography</th>\n",
       "      <th>raintoday</th>\n",
       "      <th>evaporation</th>\n",
       "      <th>windspeed9am</th>\n",
       "      <th>windgustdir_cos</th>\n",
       "      <th>raintomorrow</th>\n",
       "    </tr>\n",
       "  </thead>\n",
       "  <tbody>\n",
       "    <tr>\n",
       "      <th>36310</th>\n",
       "      <td>6.50</td>\n",
       "      <td>59.00</td>\n",
       "      <td>99.00</td>\n",
       "      <td>1010.50</td>\n",
       "      <td>2009</td>\n",
       "      <td>28.00</td>\n",
       "      <td>4.10</td>\n",
       "      <td>6.00</td>\n",
       "      <td>0.00</td>\n",
       "      <td>3</td>\n",
       "      <td>...</td>\n",
       "      <td>7.00</td>\n",
       "      <td>-0.71</td>\n",
       "      <td>-38.33</td>\n",
       "      <td>1</td>\n",
       "      <td>1</td>\n",
       "      <td>0</td>\n",
       "      <td>4.80</td>\n",
       "      <td>28.00</td>\n",
       "      <td>-0.71</td>\n",
       "      <td>1</td>\n",
       "    </tr>\n",
       "    <tr>\n",
       "      <th>36311</th>\n",
       "      <td>11.70</td>\n",
       "      <td>39.00</td>\n",
       "      <td>61.00</td>\n",
       "      <td>1021.30</td>\n",
       "      <td>2009</td>\n",
       "      <td>17.00</td>\n",
       "      <td>6.60</td>\n",
       "      <td>2.00</td>\n",
       "      <td>1.60</td>\n",
       "      <td>3</td>\n",
       "      <td>...</td>\n",
       "      <td>6.00</td>\n",
       "      <td>-0.71</td>\n",
       "      <td>-38.33</td>\n",
       "      <td>1</td>\n",
       "      <td>1</td>\n",
       "      <td>1</td>\n",
       "      <td>4.80</td>\n",
       "      <td>20.00</td>\n",
       "      <td>-0.38</td>\n",
       "      <td>0</td>\n",
       "    </tr>\n",
       "    <tr>\n",
       "      <th>36312</th>\n",
       "      <td>11.90</td>\n",
       "      <td>30.00</td>\n",
       "      <td>52.00</td>\n",
       "      <td>1018.30</td>\n",
       "      <td>2009</td>\n",
       "      <td>15.00</td>\n",
       "      <td>16.40</td>\n",
       "      <td>3.00</td>\n",
       "      <td>0.20</td>\n",
       "      <td>3</td>\n",
       "      <td>...</td>\n",
       "      <td>6.00</td>\n",
       "      <td>0.71</td>\n",
       "      <td>-38.33</td>\n",
       "      <td>1</td>\n",
       "      <td>1</td>\n",
       "      <td>0</td>\n",
       "      <td>4.60</td>\n",
       "      <td>9.00</td>\n",
       "      <td>-0.00</td>\n",
       "      <td>0</td>\n",
       "    </tr>\n",
       "    <tr>\n",
       "      <th>36313</th>\n",
       "      <td>13.80</td>\n",
       "      <td>28.00</td>\n",
       "      <td>63.00</td>\n",
       "      <td>1015.20</td>\n",
       "      <td>2009</td>\n",
       "      <td>17.00</td>\n",
       "      <td>15.30</td>\n",
       "      <td>1.00</td>\n",
       "      <td>0.00</td>\n",
       "      <td>3</td>\n",
       "      <td>...</td>\n",
       "      <td>1.00</td>\n",
       "      <td>0.00</td>\n",
       "      <td>-38.33</td>\n",
       "      <td>1</td>\n",
       "      <td>1</td>\n",
       "      <td>0</td>\n",
       "      <td>4.80</td>\n",
       "      <td>11.00</td>\n",
       "      <td>-0.00</td>\n",
       "      <td>0</td>\n",
       "    </tr>\n",
       "    <tr>\n",
       "      <th>36314</th>\n",
       "      <td>13.60</td>\n",
       "      <td>46.00</td>\n",
       "      <td>68.00</td>\n",
       "      <td>1013.40</td>\n",
       "      <td>2009</td>\n",
       "      <td>31.00</td>\n",
       "      <td>14.40</td>\n",
       "      <td>3.00</td>\n",
       "      <td>0.00</td>\n",
       "      <td>3</td>\n",
       "      <td>...</td>\n",
       "      <td>4.00</td>\n",
       "      <td>0.00</td>\n",
       "      <td>-38.33</td>\n",
       "      <td>1</td>\n",
       "      <td>1</td>\n",
       "      <td>0</td>\n",
       "      <td>5.60</td>\n",
       "      <td>20.00</td>\n",
       "      <td>-1.00</td>\n",
       "      <td>0</td>\n",
       "    </tr>\n",
       "  </tbody>\n",
       "</table>\n",
       "<p>5 rows × 24 columns</p>\n",
       "</div>"
      ],
      "text/plain": [
       "       sunshine  windgustspeed  humidity3pm  pressure3pm  year  windspeed3pm  \\\n",
       "36310      6.50          59.00        99.00      1010.50  2009         28.00   \n",
       "36311     11.70          39.00        61.00      1021.30  2009         17.00   \n",
       "36312     11.90          30.00        52.00      1018.30  2009         15.00   \n",
       "36313     13.80          28.00        63.00      1015.20  2009         17.00   \n",
       "36314     13.60          46.00        68.00      1013.40  2009         31.00   \n",
       "\n",
       "       temp_amplitude  cloud3pm  rainfall  climat  ...  cloud9am  \\\n",
       "36310            4.10      6.00      0.00       3  ...      7.00   \n",
       "36311            6.60      2.00      1.60       3  ...      6.00   \n",
       "36312           16.40      3.00      0.20       3  ...      6.00   \n",
       "36313           15.30      1.00      0.00       3  ...      1.00   \n",
       "36314           14.40      3.00      0.00       3  ...      4.00   \n",
       "\n",
       "       winddir9am_sin  latitude  month  geography  raintoday  evaporation  \\\n",
       "36310           -0.71    -38.33      1          1          0         4.80   \n",
       "36311           -0.71    -38.33      1          1          1         4.80   \n",
       "36312            0.71    -38.33      1          1          0         4.60   \n",
       "36313            0.00    -38.33      1          1          0         4.80   \n",
       "36314            0.00    -38.33      1          1          0         5.60   \n",
       "\n",
       "       windspeed9am  windgustdir_cos  raintomorrow  \n",
       "36310         28.00            -0.71             1  \n",
       "36311         20.00            -0.38             0  \n",
       "36312          9.00            -0.00             0  \n",
       "36313         11.00            -0.00             0  \n",
       "36314         20.00            -1.00             0  \n",
       "\n",
       "[5 rows x 24 columns]"
      ]
     },
     "execution_count": 11,
     "metadata": {},
     "output_type": "execute_result"
    }
   ],
   "source": [
    "df_mediterraneen = df[df.climat == 3]\n",
    "df_mediterraneen.head()"
   ]
  },
  {
   "cell_type": "markdown",
   "id": "7a5d2154-2ec2-47b2-a440-227c7ed45d25",
   "metadata": {
    "id": "7a5d2154-2ec2-47b2-a440-227c7ed45d25"
   },
   "source": [
    "### 1.1.4 Climat sec <a name=1.1.4></a>"
   ]
  },
  {
   "cell_type": "code",
   "execution_count": 12,
   "id": "41857713-2010-4778-bda6-fb7f2ba49abf",
   "metadata": {
    "colab": {
     "base_uri": "https://localhost:8080/",
     "height": 300
    },
    "executionInfo": {
     "elapsed": 63,
     "status": "ok",
     "timestamp": 1683471926370,
     "user": {
      "displayName": "Ben-Mekki AYADI (Ben)",
      "userId": "10473218066512117106"
     },
     "user_tz": -120
    },
    "id": "41857713-2010-4778-bda6-fb7f2ba49abf",
    "outputId": "a76bff0c-7f8e-4663-cdc0-2ee84d555868"
   },
   "outputs": [
    {
     "data": {
      "text/html": [
       "<div>\n",
       "<style scoped>\n",
       "    .dataframe tbody tr th:only-of-type {\n",
       "        vertical-align: middle;\n",
       "    }\n",
       "\n",
       "    .dataframe tbody tr th {\n",
       "        vertical-align: top;\n",
       "    }\n",
       "\n",
       "    .dataframe thead th {\n",
       "        text-align: right;\n",
       "    }\n",
       "</style>\n",
       "<table border=\"1\" class=\"dataframe\">\n",
       "  <thead>\n",
       "    <tr style=\"text-align: right;\">\n",
       "      <th></th>\n",
       "      <th>sunshine</th>\n",
       "      <th>windgustspeed</th>\n",
       "      <th>humidity3pm</th>\n",
       "      <th>pressure3pm</th>\n",
       "      <th>year</th>\n",
       "      <th>windspeed3pm</th>\n",
       "      <th>temp_amplitude</th>\n",
       "      <th>cloud3pm</th>\n",
       "      <th>rainfall</th>\n",
       "      <th>climat</th>\n",
       "      <th>...</th>\n",
       "      <th>cloud9am</th>\n",
       "      <th>winddir9am_sin</th>\n",
       "      <th>latitude</th>\n",
       "      <th>month</th>\n",
       "      <th>geography</th>\n",
       "      <th>raintoday</th>\n",
       "      <th>evaporation</th>\n",
       "      <th>windspeed9am</th>\n",
       "      <th>windgustdir_cos</th>\n",
       "      <th>raintomorrow</th>\n",
       "    </tr>\n",
       "  </thead>\n",
       "  <tbody>\n",
       "    <tr>\n",
       "      <th>3787</th>\n",
       "      <td>10.60</td>\n",
       "      <td>46.00</td>\n",
       "      <td>22.00</td>\n",
       "      <td>1009.20</td>\n",
       "      <td>2009</td>\n",
       "      <td>15.00</td>\n",
       "      <td>18.20</td>\n",
       "      <td>6.00</td>\n",
       "      <td>0.00</td>\n",
       "      <td>1</td>\n",
       "      <td>...</td>\n",
       "      <td>1.00</td>\n",
       "      <td>0.92</td>\n",
       "      <td>-31.07</td>\n",
       "      <td>1</td>\n",
       "      <td>2</td>\n",
       "      <td>0</td>\n",
       "      <td>10.80</td>\n",
       "      <td>30.00</td>\n",
       "      <td>0.38</td>\n",
       "      <td>0</td>\n",
       "    </tr>\n",
       "    <tr>\n",
       "      <th>3788</th>\n",
       "      <td>12.20</td>\n",
       "      <td>31.00</td>\n",
       "      <td>22.00</td>\n",
       "      <td>1009.10</td>\n",
       "      <td>2009</td>\n",
       "      <td>6.00</td>\n",
       "      <td>16.50</td>\n",
       "      <td>5.00</td>\n",
       "      <td>0.00</td>\n",
       "      <td>1</td>\n",
       "      <td>...</td>\n",
       "      <td>1.00</td>\n",
       "      <td>0.38</td>\n",
       "      <td>-31.07</td>\n",
       "      <td>1</td>\n",
       "      <td>2</td>\n",
       "      <td>0</td>\n",
       "      <td>11.40</td>\n",
       "      <td>6.00</td>\n",
       "      <td>-0.92</td>\n",
       "      <td>0</td>\n",
       "    </tr>\n",
       "    <tr>\n",
       "      <th>3789</th>\n",
       "      <td>0.00</td>\n",
       "      <td>43.00</td>\n",
       "      <td>19.00</td>\n",
       "      <td>1007.40</td>\n",
       "      <td>2009</td>\n",
       "      <td>20.00</td>\n",
       "      <td>9.00</td>\n",
       "      <td>8.00</td>\n",
       "      <td>0.00</td>\n",
       "      <td>1</td>\n",
       "      <td>...</td>\n",
       "      <td>8.00</td>\n",
       "      <td>1.00</td>\n",
       "      <td>-31.07</td>\n",
       "      <td>1</td>\n",
       "      <td>2</td>\n",
       "      <td>0</td>\n",
       "      <td>13.00</td>\n",
       "      <td>7.00</td>\n",
       "      <td>0.00</td>\n",
       "      <td>0</td>\n",
       "    </tr>\n",
       "    <tr>\n",
       "      <th>3790</th>\n",
       "      <td>12.60</td>\n",
       "      <td>41.00</td>\n",
       "      <td>15.00</td>\n",
       "      <td>1009.90</td>\n",
       "      <td>2009</td>\n",
       "      <td>19.00</td>\n",
       "      <td>10.70</td>\n",
       "      <td>1.00</td>\n",
       "      <td>0.00</td>\n",
       "      <td>1</td>\n",
       "      <td>...</td>\n",
       "      <td>3.00</td>\n",
       "      <td>-1.00</td>\n",
       "      <td>-31.07</td>\n",
       "      <td>1</td>\n",
       "      <td>2</td>\n",
       "      <td>0</td>\n",
       "      <td>9.80</td>\n",
       "      <td>17.00</td>\n",
       "      <td>-0.38</td>\n",
       "      <td>0</td>\n",
       "    </tr>\n",
       "    <tr>\n",
       "      <th>3791</th>\n",
       "      <td>12.30</td>\n",
       "      <td>48.00</td>\n",
       "      <td>28.00</td>\n",
       "      <td>1004.00</td>\n",
       "      <td>2009</td>\n",
       "      <td>9.00</td>\n",
       "      <td>16.50</td>\n",
       "      <td>5.00</td>\n",
       "      <td>0.00</td>\n",
       "      <td>1</td>\n",
       "      <td>...</td>\n",
       "      <td>1.00</td>\n",
       "      <td>0.38</td>\n",
       "      <td>-31.07</td>\n",
       "      <td>1</td>\n",
       "      <td>2</td>\n",
       "      <td>0</td>\n",
       "      <td>12.00</td>\n",
       "      <td>30.00</td>\n",
       "      <td>0.92</td>\n",
       "      <td>0</td>\n",
       "    </tr>\n",
       "  </tbody>\n",
       "</table>\n",
       "<p>5 rows × 24 columns</p>\n",
       "</div>"
      ],
      "text/plain": [
       "      sunshine  windgustspeed  humidity3pm  pressure3pm  year  windspeed3pm  \\\n",
       "3787     10.60          46.00        22.00      1009.20  2009         15.00   \n",
       "3788     12.20          31.00        22.00      1009.10  2009          6.00   \n",
       "3789      0.00          43.00        19.00      1007.40  2009         20.00   \n",
       "3790     12.60          41.00        15.00      1009.90  2009         19.00   \n",
       "3791     12.30          48.00        28.00      1004.00  2009          9.00   \n",
       "\n",
       "      temp_amplitude  cloud3pm  rainfall  climat  ...  cloud9am  \\\n",
       "3787           18.20      6.00      0.00       1  ...      1.00   \n",
       "3788           16.50      5.00      0.00       1  ...      1.00   \n",
       "3789            9.00      8.00      0.00       1  ...      8.00   \n",
       "3790           10.70      1.00      0.00       1  ...      3.00   \n",
       "3791           16.50      5.00      0.00       1  ...      1.00   \n",
       "\n",
       "      winddir9am_sin  latitude  month  geography  raintoday  evaporation  \\\n",
       "3787            0.92    -31.07      1          2          0        10.80   \n",
       "3788            0.38    -31.07      1          2          0        11.40   \n",
       "3789            1.00    -31.07      1          2          0        13.00   \n",
       "3790           -1.00    -31.07      1          2          0         9.80   \n",
       "3791            0.38    -31.07      1          2          0        12.00   \n",
       "\n",
       "      windspeed9am  windgustdir_cos  raintomorrow  \n",
       "3787         30.00             0.38             0  \n",
       "3788          6.00            -0.92             0  \n",
       "3789          7.00             0.00             0  \n",
       "3790         17.00            -0.38             0  \n",
       "3791         30.00             0.92             0  \n",
       "\n",
       "[5 rows x 24 columns]"
      ]
     },
     "execution_count": 12,
     "metadata": {},
     "output_type": "execute_result"
    }
   ],
   "source": [
    "df_sec = df[df.climat == 1]\n",
    "df_sec.head()"
   ]
  },
  {
   "cell_type": "markdown",
   "id": "e3ed3d1a-3204-4353-b924-b526e8a6e46e",
   "metadata": {
    "id": "e3ed3d1a-3204-4353-b924-b526e8a6e46e"
   },
   "source": [
    "## 1.2 Découpage du dataset en fonction d'une zone locale : Norfolk Island <a name=1.1></a>\n",
    "[return to the plan](#0) "
   ]
  },
  {
   "cell_type": "code",
   "execution_count": 13,
   "id": "cf96812a-e5c5-43a2-9998-23344df4a61d",
   "metadata": {
    "colab": {
     "base_uri": "https://localhost:8080/",
     "height": 300
    },
    "executionInfo": {
     "elapsed": 508,
     "status": "ok",
     "timestamp": 1683471930436,
     "user": {
      "displayName": "Ben-Mekki AYADI (Ben)",
      "userId": "10473218066512117106"
     },
     "user_tz": -120
    },
    "id": "cf96812a-e5c5-43a2-9998-23344df4a61d",
    "outputId": "578754ca-2982-43f9-e092-b756cb352e64"
   },
   "outputs": [
    {
     "data": {
      "text/html": [
       "<div>\n",
       "<style scoped>\n",
       "    .dataframe tbody tr th:only-of-type {\n",
       "        vertical-align: middle;\n",
       "    }\n",
       "\n",
       "    .dataframe tbody tr th {\n",
       "        vertical-align: top;\n",
       "    }\n",
       "\n",
       "    .dataframe thead th {\n",
       "        text-align: right;\n",
       "    }\n",
       "</style>\n",
       "<table border=\"1\" class=\"dataframe\">\n",
       "  <thead>\n",
       "    <tr style=\"text-align: right;\">\n",
       "      <th></th>\n",
       "      <th>sunshine</th>\n",
       "      <th>windgustspeed</th>\n",
       "      <th>humidity3pm</th>\n",
       "      <th>pressure3pm</th>\n",
       "      <th>year</th>\n",
       "      <th>windspeed3pm</th>\n",
       "      <th>temp_amplitude</th>\n",
       "      <th>cloud3pm</th>\n",
       "      <th>rainfall</th>\n",
       "      <th>climat</th>\n",
       "      <th>...</th>\n",
       "      <th>cloud9am</th>\n",
       "      <th>winddir9am_sin</th>\n",
       "      <th>latitude</th>\n",
       "      <th>month</th>\n",
       "      <th>geography</th>\n",
       "      <th>raintoday</th>\n",
       "      <th>evaporation</th>\n",
       "      <th>windspeed9am</th>\n",
       "      <th>windgustdir_cos</th>\n",
       "      <th>raintomorrow</th>\n",
       "    </tr>\n",
       "  </thead>\n",
       "  <tbody>\n",
       "    <tr>\n",
       "      <th>10082</th>\n",
       "      <td>12.40</td>\n",
       "      <td>31.00</td>\n",
       "      <td>71.00</td>\n",
       "      <td>1013.60</td>\n",
       "      <td>2009</td>\n",
       "      <td>19.00</td>\n",
       "      <td>5.40</td>\n",
       "      <td>1.00</td>\n",
       "      <td>0.00</td>\n",
       "      <td>0</td>\n",
       "      <td>...</td>\n",
       "      <td>3.00</td>\n",
       "      <td>0.92</td>\n",
       "      <td>-28.95</td>\n",
       "      <td>1</td>\n",
       "      <td>3</td>\n",
       "      <td>0</td>\n",
       "      <td>6.00</td>\n",
       "      <td>13.00</td>\n",
       "      <td>-0.38</td>\n",
       "      <td>0</td>\n",
       "    </tr>\n",
       "    <tr>\n",
       "      <th>10083</th>\n",
       "      <td>10.30</td>\n",
       "      <td>31.00</td>\n",
       "      <td>77.00</td>\n",
       "      <td>1015.50</td>\n",
       "      <td>2009</td>\n",
       "      <td>6.00</td>\n",
       "      <td>5.80</td>\n",
       "      <td>5.00</td>\n",
       "      <td>0.20</td>\n",
       "      <td>0</td>\n",
       "      <td>...</td>\n",
       "      <td>2.00</td>\n",
       "      <td>0.92</td>\n",
       "      <td>-28.95</td>\n",
       "      <td>1</td>\n",
       "      <td>3</td>\n",
       "      <td>0</td>\n",
       "      <td>8.00</td>\n",
       "      <td>15.00</td>\n",
       "      <td>0.00</td>\n",
       "      <td>0</td>\n",
       "    </tr>\n",
       "    <tr>\n",
       "      <th>10084</th>\n",
       "      <td>2.00</td>\n",
       "      <td>35.00</td>\n",
       "      <td>90.00</td>\n",
       "      <td>1014.30</td>\n",
       "      <td>2009</td>\n",
       "      <td>19.00</td>\n",
       "      <td>4.00</td>\n",
       "      <td>7.00</td>\n",
       "      <td>0.00</td>\n",
       "      <td>0</td>\n",
       "      <td>...</td>\n",
       "      <td>7.00</td>\n",
       "      <td>0.38</td>\n",
       "      <td>-28.95</td>\n",
       "      <td>1</td>\n",
       "      <td>3</td>\n",
       "      <td>0</td>\n",
       "      <td>3.20</td>\n",
       "      <td>6.00</td>\n",
       "      <td>1.00</td>\n",
       "      <td>1</td>\n",
       "    </tr>\n",
       "    <tr>\n",
       "      <th>10085</th>\n",
       "      <td>0.00</td>\n",
       "      <td>41.00</td>\n",
       "      <td>95.00</td>\n",
       "      <td>1015.30</td>\n",
       "      <td>2009</td>\n",
       "      <td>22.00</td>\n",
       "      <td>0.60</td>\n",
       "      <td>8.00</td>\n",
       "      <td>1.20</td>\n",
       "      <td>0</td>\n",
       "      <td>...</td>\n",
       "      <td>8.00</td>\n",
       "      <td>-0.38</td>\n",
       "      <td>-28.95</td>\n",
       "      <td>1</td>\n",
       "      <td>3</td>\n",
       "      <td>1</td>\n",
       "      <td>2.80</td>\n",
       "      <td>20.00</td>\n",
       "      <td>0.92</td>\n",
       "      <td>1</td>\n",
       "    </tr>\n",
       "    <tr>\n",
       "      <th>10086</th>\n",
       "      <td>8.70</td>\n",
       "      <td>48.00</td>\n",
       "      <td>79.00</td>\n",
       "      <td>1012.70</td>\n",
       "      <td>2009</td>\n",
       "      <td>24.00</td>\n",
       "      <td>4.00</td>\n",
       "      <td>3.00</td>\n",
       "      <td>0.00</td>\n",
       "      <td>0</td>\n",
       "      <td>...</td>\n",
       "      <td>5.00</td>\n",
       "      <td>-0.38</td>\n",
       "      <td>-28.95</td>\n",
       "      <td>1</td>\n",
       "      <td>3</td>\n",
       "      <td>0</td>\n",
       "      <td>3.00</td>\n",
       "      <td>30.00</td>\n",
       "      <td>1.00</td>\n",
       "      <td>0</td>\n",
       "    </tr>\n",
       "  </tbody>\n",
       "</table>\n",
       "<p>5 rows × 24 columns</p>\n",
       "</div>"
      ],
      "text/plain": [
       "       sunshine  windgustspeed  humidity3pm  pressure3pm  year  windspeed3pm  \\\n",
       "10082     12.40          31.00        71.00      1013.60  2009         19.00   \n",
       "10083     10.30          31.00        77.00      1015.50  2009          6.00   \n",
       "10084      2.00          35.00        90.00      1014.30  2009         19.00   \n",
       "10085      0.00          41.00        95.00      1015.30  2009         22.00   \n",
       "10086      8.70          48.00        79.00      1012.70  2009         24.00   \n",
       "\n",
       "       temp_amplitude  cloud3pm  rainfall  climat  ...  cloud9am  \\\n",
       "10082            5.40      1.00      0.00       0  ...      3.00   \n",
       "10083            5.80      5.00      0.20       0  ...      2.00   \n",
       "10084            4.00      7.00      0.00       0  ...      7.00   \n",
       "10085            0.60      8.00      1.20       0  ...      8.00   \n",
       "10086            4.00      3.00      0.00       0  ...      5.00   \n",
       "\n",
       "       winddir9am_sin  latitude  month  geography  raintoday  evaporation  \\\n",
       "10082            0.92    -28.95      1          3          0         6.00   \n",
       "10083            0.92    -28.95      1          3          0         8.00   \n",
       "10084            0.38    -28.95      1          3          0         3.20   \n",
       "10085           -0.38    -28.95      1          3          1         2.80   \n",
       "10086           -0.38    -28.95      1          3          0         3.00   \n",
       "\n",
       "       windspeed9am  windgustdir_cos  raintomorrow  \n",
       "10082         13.00            -0.38             0  \n",
       "10083         15.00             0.00             0  \n",
       "10084          6.00             1.00             1  \n",
       "10085         20.00             0.92             1  \n",
       "10086         30.00             1.00             0  \n",
       "\n",
       "[5 rows x 24 columns]"
      ]
     },
     "execution_count": 13,
     "metadata": {},
     "output_type": "execute_result"
    }
   ],
   "source": [
    "df_local = df[df.geography == 3]\n",
    "df_local.head()"
   ]
  },
  {
   "cell_type": "code",
   "execution_count": 14,
   "id": "bff04341-9ecd-4380-8841-65e0ea640b96",
   "metadata": {
    "colab": {
     "base_uri": "https://localhost:8080/",
     "height": 206
    },
    "executionInfo": {
     "elapsed": 1066,
     "status": "ok",
     "timestamp": 1683471935169,
     "user": {
      "displayName": "Ben-Mekki AYADI (Ben)",
      "userId": "10473218066512117106"
     },
     "user_tz": -120
    },
    "id": "bff04341-9ecd-4380-8841-65e0ea640b96",
    "outputId": "454fb866-6669-493d-8b23-bbd533022fde"
   },
   "outputs": [
    {
     "data": {
      "text/html": [
       "<div>\n",
       "<style scoped>\n",
       "    .dataframe tbody tr th:only-of-type {\n",
       "        vertical-align: middle;\n",
       "    }\n",
       "\n",
       "    .dataframe tbody tr th {\n",
       "        vertical-align: top;\n",
       "    }\n",
       "\n",
       "    .dataframe thead th {\n",
       "        text-align: right;\n",
       "    }\n",
       "</style>\n",
       "<table border=\"1\" class=\"dataframe\">\n",
       "  <thead>\n",
       "    <tr style=\"text-align: right;\">\n",
       "      <th></th>\n",
       "      <th>Dataframe</th>\n",
       "      <th>Rows</th>\n",
       "    </tr>\n",
       "  </thead>\n",
       "  <tbody>\n",
       "    <tr>\n",
       "      <th>0</th>\n",
       "      <td>df_chaud_humide</td>\n",
       "      <td>30281</td>\n",
       "    </tr>\n",
       "    <tr>\n",
       "      <th>1</th>\n",
       "      <td>df_tempere_froid</td>\n",
       "      <td>19185</td>\n",
       "    </tr>\n",
       "    <tr>\n",
       "      <th>2</th>\n",
       "      <td>df_mediterraneen</td>\n",
       "      <td>15188</td>\n",
       "    </tr>\n",
       "    <tr>\n",
       "      <th>3</th>\n",
       "      <td>df_sec</td>\n",
       "      <td>8053</td>\n",
       "    </tr>\n",
       "    <tr>\n",
       "      <th>4</th>\n",
       "      <td>df_local</td>\n",
       "      <td>1892</td>\n",
       "    </tr>\n",
       "  </tbody>\n",
       "</table>\n",
       "</div>"
      ],
      "text/plain": [
       "          Dataframe   Rows\n",
       "0   df_chaud_humide  30281\n",
       "1  df_tempere_froid  19185\n",
       "2  df_mediterraneen  15188\n",
       "3            df_sec   8053\n",
       "4          df_local   1892"
      ]
     },
     "execution_count": 14,
     "metadata": {},
     "output_type": "execute_result"
    }
   ],
   "source": [
    "# Stockage des dataframes dans une liste avec leur nom\n",
    "df_list = [(\"df_chaud_humide\", df_chaud_humide),\n",
    "           (\"df_tempere_froid\", df_tempere_froid),\n",
    "           (\"df_mediterraneen\", df_mediterraneen),\n",
    "           (\"df_sec\", df_sec),\n",
    "           (\"df_local\", df_local)]\n",
    "\n",
    "# Création d'un dataframe vide pour stocker les tailles de chaque dataframe\n",
    "df_shape = pd.DataFrame(columns=[\"Dataframe\", \"Rows\", \"Columns\"])\n",
    "\n",
    "# Remplissage du dataframe avec les tailles de chaque dataframe\n",
    "for df_name, df in df_list:\n",
    "    df_shape = df_shape.append({\"Dataframe\": df_name, \"Rows\": df.shape[0], \"Columns\": df.shape[1]}, ignore_index=True)\n",
    "\n",
    "df_shape[[\"Dataframe\",\"Rows\"]]"
   ]
  },
  {
   "cell_type": "markdown",
   "id": "243d427d-3746-4c4f-9986-188e600031db",
   "metadata": {
    "id": "243d427d-3746-4c4f-9986-188e600031db"
   },
   "source": [
    "## 1.3 Comparaison de la taille des datasets climatiques et local <a name=1.1></a>\n",
    "[return to the plan](#0) "
   ]
  },
  {
   "cell_type": "code",
   "execution_count": 15,
   "id": "ff9dd4b0-3b61-4bc4-828b-599b96058c5c",
   "metadata": {
    "colab": {
     "base_uri": "https://localhost:8080/",
     "height": 489
    },
    "executionInfo": {
     "elapsed": 471,
     "status": "ok",
     "timestamp": 1683471938915,
     "user": {
      "displayName": "Ben-Mekki AYADI (Ben)",
      "userId": "10473218066512117106"
     },
     "user_tz": -120
    },
    "id": "ff9dd4b0-3b61-4bc4-828b-599b96058c5c",
    "outputId": "572c66d6-0ba7-4412-b7ec-d2ff04e4ebe8"
   },
   "outputs": [
    {
     "data": {
      "text/plain": [
       "<Figure size 3000x15500 with 0 Axes>"
      ]
     },
     "metadata": {},
     "output_type": "display_data"
    },
    {
     "data": {
      "image/png": "[encoded data removed]",
      "text/plain": [
       "<Figure size 640x480 with 1 Axes>"
      ]
     },
     "metadata": {},
     "output_type": "display_data"
    }
   ],
   "source": [
    "import pandas as pd\n",
    "import matplotlib.pyplot as plt\n",
    "\n",
    "df_names = [\"df_chaud_humide\", \"df_tempere_froid\", \"df_mediterraneen\", \"df_sec\", \"df_local\"]\n",
    "\n",
    "colors_dict = {\"df_chaud_humide\": \"#ff7f0e\", \"df_tempere_froid\": \"#1f77b4\", \"df_mediterraneen\": \"#2ca02c\",\n",
    "               \"df_sec\": \"#d62728\", \"df_local\": \"#9467bd\"}\n",
    "\n",
    "# Création d'une liste de tuples contenant les noms des dataframes et les dataframes eux-mêmes\n",
    "df_list = [(name, globals()[name]) for name in df_names]\n",
    "\n",
    "# Création d'un dataframe contenant les tailles de chaque dataframe\n",
    "df_shape = pd.DataFrame({\"Dataframe\": [name for name, df in df_list],\n",
    "                         \"Rows\": [df.shape[0] for name, df in df_list],\n",
    "                         \"Columns\": [df.shape[1] for name, df in df_list]})\n",
    "\n",
    "# Couleurs pour chaque histogramme\n",
    "colors = [colors_dict[name] for name in df_names]\n",
    "\n",
    "# Création d'un graphe de comparaison des dataframes en termes de nombre de lignes\n",
    "plt.figure(figsize=(30, 155))\n",
    "df_shape.plot(kind=\"barh\", x=\"Dataframe\", y=\"Rows\", color=colors, legend=False)\n",
    "plt.title(\"Comparaison des dataframes par nombre d'observations disponibles\")\n",
    "plt.xlabel(\"Nombre de lignes\")\n",
    "plt.ylabel(\"\")\n",
    "plt.show();"
   ]
  },
  {
   "cell_type": "code",
   "execution_count": 16,
   "id": "62a679ef-5201-4f1c-946e-2a2264004097",
   "metadata": {
    "colab": {
     "base_uri": "https://localhost:8080/",
     "height": 337
    },
    "executionInfo": {
     "elapsed": 1349,
     "status": "ok",
     "timestamp": 1683471944316,
     "user": {
      "displayName": "Ben-Mekki AYADI (Ben)",
      "userId": "10473218066512117106"
     },
     "user_tz": -120
    },
    "id": "62a679ef-5201-4f1c-946e-2a2264004097",
    "outputId": "d880e8a1-84dc-491e-a588-ecb1bda11b8e"
   },
   "outputs": [
    {
     "data": {
      "image/png": "[encoded data removed]",
      "text/plain": [
       "<Figure size 1800x300 with 5 Axes>"
      ]
     },
     "metadata": {},
     "output_type": "display_data"
    }
   ],
   "source": [
    "fig, axs = plt.subplots(1, len(df_names), figsize=(18, 3))\n",
    "\n",
    "fig.suptitle(\"Répartition des classes 0 et 1 pour chaque dataframe\", fontsize=15, y=1.05)\n",
    "\n",
    "for i, (name, df) in enumerate(df_list):\n",
    "    class_counts = df[\"raintomorrow\"].value_counts()\n",
    "    axs[i].bar(class_counts.index, class_counts.values, color=colors_dict[name])\n",
    "    axs[i].set_title(f\"{name}\", fontsize=14)\n",
    "    axs[i].set_xlabel(\"Classe\")\n",
    "    axs[i].set_ylabel(\"Nombre de données\")\n",
    "    axs[i].set_xticks([0,1])\n",
    "\n",
    "plt.tight_layout()\n",
    "plt.show()"
   ]
  },
  {
   "cell_type": "markdown",
   "id": "25843faf-efc6-44c0-91c2-7f36b9c96962",
   "metadata": {
    "id": "25843faf-efc6-44c0-91c2-7f36b9c96962"
   },
   "source": [
    "# 2.Application d'un modèle de classification Random Forest Classifier<a name=1></a>\n",
    "[return to the plan](#0)  "
   ]
  },
  {
   "cell_type": "code",
   "execution_count": 17,
   "id": "c812d4b8-395f-47db-96db-c879055fae95",
   "metadata": {
    "executionInfo": {
     "elapsed": 463,
     "status": "ok",
     "timestamp": 1683471949037,
     "user": {
      "displayName": "Ben-Mekki AYADI (Ben)",
      "userId": "10473218066512117106"
     },
     "user_tz": -120
    },
    "id": "c812d4b8-395f-47db-96db-c879055fae95"
   },
   "outputs": [],
   "source": [
    "rfc =RandomForestClassifier()"
   ]
  },
  {
   "cell_type": "code",
   "execution_count": 18,
   "id": "32f4449a-18f1-4795-981c-59137a362866",
   "metadata": {
    "executionInfo": {
     "elapsed": 11,
     "status": "ok",
     "timestamp": 1683471952449,
     "user": {
      "displayName": "Ben-Mekki AYADI (Ben)",
      "userId": "10473218066512117106"
     },
     "user_tz": -120
    },
    "id": "32f4449a-18f1-4795-981c-59137a362866"
   },
   "outputs": [],
   "source": [
    "from sklearn.metrics import classification_report, recall_score, f1_score\n",
    "\n",
    "def evaluate(name, model, X_train, y_train, X_test, y_test):\n",
    "    model.fit(X_train, y_train)\n",
    "    y_pred = model.predict(X_test)\n",
    "    accuracy = model.score(X_test, y_test)\n",
    "    recall = recall_score(y_test, y_pred)\n",
    "    f1 = f1_score(y_test, y_pred)\n",
    "    f1_weighted = f1_score(y_test, y_pred, average='weighted')\n",
    "    \n",
    "    print(f\"Model: {name}\")\n",
    "    print(classification_report(y_test, y_pred))\n",
    "    print(f\"Accuracy: {accuracy:.2f}\")\n",
    "    print(f\"Recall: {recall:.2f}\")\n",
    "    print(f\"F1 score: {f1:.2f}\")\n",
    "    print(f\"Weighted F1 score: {f1_weighted:.2f}\")\n",
    "    \n",
    "    df1 = pd.DataFrame({\n",
    "        \"type_modele\": [name],\n",
    "        \"nom\": [model],\n",
    "        'accuracy':[accuracy],\n",
    "        'recall':[recall],\n",
    "        'f1_weighted':[f1_weighted]\n",
    "    })\n",
    "    \n",
    "    return df1"
   ]
  },
  {
   "cell_type": "code",
   "execution_count": 19,
   "id": "4a319614-5a67-4fe9-9ed8-5505ea4e704c",
   "metadata": {
    "colab": {
     "base_uri": "https://localhost:8080/",
     "height": 1000
    },
    "executionInfo": {
     "elapsed": 11582,
     "status": "ok",
     "timestamp": 1683480100024,
     "user": {
      "displayName": "Ben-Mekki AYADI (Ben)",
      "userId": "10473218066512117106"
     },
     "user_tz": -120
    },
    "id": "4a319614-5a67-4fe9-9ed8-5505ea4e704c",
    "outputId": "dd17452e-5351-49e6-ed37-2485ba183fb0"
   },
   "outputs": [
    {
     "name": "stdout",
     "output_type": "stream",
     "text": [
      "df_chaud_humide\n",
      "Model: df_chaud_humide\n",
      "              precision    recall  f1-score   support\n",
      "\n",
      "           0       0.89      0.98      0.93      5087\n",
      "           1       0.77      0.35      0.48       970\n",
      "\n",
      "    accuracy                           0.88      6057\n",
      "   macro avg       0.83      0.67      0.71      6057\n",
      "weighted avg       0.87      0.88      0.86      6057\n",
      "\n",
      "Accuracy: 0.88\n",
      "Recall: 0.35\n",
      "F1 score: 0.48\n",
      "Weighted F1 score: 0.86\n",
      "\n",
      "\n",
      "\n",
      "\n",
      "df_tempere_froid\n",
      "Model: df_tempere_froid\n",
      "              precision    recall  f1-score   support\n",
      "\n",
      "           0       0.88      0.98      0.93      3204\n",
      "           1       0.74      0.35      0.48       633\n",
      "\n",
      "    accuracy                           0.87      3837\n",
      "   macro avg       0.81      0.66      0.70      3837\n",
      "weighted avg       0.86      0.87      0.85      3837\n",
      "\n",
      "Accuracy: 0.87\n",
      "Recall: 0.35\n",
      "F1 score: 0.48\n",
      "Weighted F1 score: 0.85\n",
      "\n",
      "\n",
      "\n",
      "\n",
      "df_mediterraneen\n",
      "Model: df_mediterraneen\n",
      "              precision    recall  f1-score   support\n",
      "\n",
      "           0       0.90      0.97      0.94      2499\n",
      "           1       0.81      0.52      0.63       539\n",
      "\n",
      "    accuracy                           0.89      3038\n",
      "   macro avg       0.86      0.75      0.78      3038\n",
      "weighted avg       0.89      0.89      0.88      3038\n",
      "\n",
      "Accuracy: 0.89\n",
      "Recall: 0.52\n",
      "F1 score: 0.63\n",
      "Weighted F1 score: 0.88\n",
      "\n",
      "\n",
      "\n",
      "\n",
      "df_sec\n",
      "Model: df_sec\n",
      "              precision    recall  f1-score   support\n",
      "\n",
      "           0       0.94      0.99      0.96      1465\n",
      "           1       0.75      0.38      0.50       146\n",
      "\n",
      "    accuracy                           0.93      1611\n",
      "   macro avg       0.85      0.68      0.73      1611\n",
      "weighted avg       0.92      0.93      0.92      1611\n",
      "\n",
      "Accuracy: 0.93\n",
      "Recall: 0.38\n",
      "F1 score: 0.50\n",
      "Weighted F1 score: 0.92\n",
      "\n",
      "\n",
      "\n",
      "\n",
      "df_local\n",
      "Model: df_local\n",
      "              precision    recall  f1-score   support\n",
      "\n",
      "           0       0.82      0.94      0.88       279\n",
      "           1       0.73      0.44      0.55       100\n",
      "\n",
      "    accuracy                           0.81       379\n",
      "   macro avg       0.78      0.69      0.71       379\n",
      "weighted avg       0.80      0.81      0.79       379\n",
      "\n",
      "Accuracy: 0.81\n",
      "Recall: 0.44\n",
      "F1 score: 0.55\n",
      "Weighted F1 score: 0.79\n",
      "\n",
      "\n",
      "\n",
      "\n"
     ]
    },
    {
     "data": {
      "text/html": [
       "<div>\n",
       "<style scoped>\n",
       "    .dataframe tbody tr th:only-of-type {\n",
       "        vertical-align: middle;\n",
       "    }\n",
       "\n",
       "    .dataframe tbody tr th {\n",
       "        vertical-align: top;\n",
       "    }\n",
       "\n",
       "    .dataframe thead th {\n",
       "        text-align: right;\n",
       "    }\n",
       "</style>\n",
       "<table border=\"1\" class=\"dataframe\">\n",
       "  <thead>\n",
       "    <tr style=\"text-align: right;\">\n",
       "      <th></th>\n",
       "      <th>type_modele</th>\n",
       "      <th>nom</th>\n",
       "      <th>accuracy</th>\n",
       "      <th>recall</th>\n",
       "      <th>f1_weighted</th>\n",
       "    </tr>\n",
       "  </thead>\n",
       "  <tbody>\n",
       "    <tr>\n",
       "      <th>0</th>\n",
       "      <td>df_chaud_humide</td>\n",
       "      <td>(DecisionTreeClassifier(max_features='sqrt', r...</td>\n",
       "      <td>0.88</td>\n",
       "      <td>0.35</td>\n",
       "      <td>0.86</td>\n",
       "    </tr>\n",
       "    <tr>\n",
       "      <th>0</th>\n",
       "      <td>df_tempere_froid</td>\n",
       "      <td>(DecisionTreeClassifier(max_features='sqrt', r...</td>\n",
       "      <td>0.87</td>\n",
       "      <td>0.35</td>\n",
       "      <td>0.85</td>\n",
       "    </tr>\n",
       "    <tr>\n",
       "      <th>0</th>\n",
       "      <td>df_mediterraneen</td>\n",
       "      <td>(DecisionTreeClassifier(max_features='sqrt', r...</td>\n",
       "      <td>0.89</td>\n",
       "      <td>0.52</td>\n",
       "      <td>0.88</td>\n",
       "    </tr>\n",
       "    <tr>\n",
       "      <th>0</th>\n",
       "      <td>df_sec</td>\n",
       "      <td>(DecisionTreeClassifier(max_features='sqrt', r...</td>\n",
       "      <td>0.93</td>\n",
       "      <td>0.38</td>\n",
       "      <td>0.92</td>\n",
       "    </tr>\n",
       "    <tr>\n",
       "      <th>0</th>\n",
       "      <td>df_local</td>\n",
       "      <td>(DecisionTreeClassifier(max_features='sqrt', r...</td>\n",
       "      <td>0.81</td>\n",
       "      <td>0.44</td>\n",
       "      <td>0.79</td>\n",
       "    </tr>\n",
       "  </tbody>\n",
       "</table>\n",
       "</div>"
      ],
      "text/plain": [
       "        type_modele                                                nom  \\\n",
       "0   df_chaud_humide  (DecisionTreeClassifier(max_features='sqrt', r...   \n",
       "0  df_tempere_froid  (DecisionTreeClassifier(max_features='sqrt', r...   \n",
       "0  df_mediterraneen  (DecisionTreeClassifier(max_features='sqrt', r...   \n",
       "0            df_sec  (DecisionTreeClassifier(max_features='sqrt', r...   \n",
       "0          df_local  (DecisionTreeClassifier(max_features='sqrt', r...   \n",
       "\n",
       "   accuracy  recall  f1_weighted  \n",
       "0      0.88    0.35         0.86  \n",
       "0      0.87    0.35         0.85  \n",
       "0      0.89    0.52         0.88  \n",
       "0      0.93    0.38         0.92  \n",
       "0      0.81    0.44         0.79  "
      ]
     },
     "execution_count": 19,
     "metadata": {},
     "output_type": "execute_result"
    }
   ],
   "source": [
    "df_names = [\"df_chaud_humide\", \"df_tempere_froid\", \"df_mediterraneen\", \"df_sec\", \"df_local\"]\n",
    "df_list = [df_chaud_humide, df_tempere_froid, df_mediterraneen, df_sec, df_local]\n",
    "\n",
    "results = []\n",
    "for name, df in zip(df_names, df_list):\n",
    "    X = df.drop(\"raintomorrow\", axis=1)\n",
    "    y = df[\"raintomorrow\"]\n",
    "    \n",
    "    X_train, X_test, y_train, y_test = train_test_split(X, y, test_size=0.2, random_state=42)\n",
    "    \n",
    "    clf = RandomForestClassifier()\n",
    "    print(name)\n",
    "    result = evaluate(name, clf, X_train, y_train, X_test, y_test)\n",
    "    results.append(result)\n",
    "    print(\"\\n\")\n",
    "    print(\"\\n\")\n",
    "\n",
    "results_df = pd.concat(results)\n",
    "results_df"
   ]
  },
  {
   "cell_type": "markdown",
   "id": "3dfdc015-2eea-418c-829f-b9cc480c52fc",
   "metadata": {
    "id": "3dfdc015-2eea-418c-829f-b9cc480c52fc"
   },
   "source": [
    "<b> Analyse : \n",
    "* Le modèle df_chaud_humide présente une précision de 0.89 et un rappel de 0.98 pour la classe 0, tandis que la précision pour la classe 1 est de 0.76 et le rappel est de 0.36. Le F1-score pour la classe 1 est de 0.48 et le F1-score pondéré est de 0.86. Le modèle a une précision globale de 0.88.\n",
    "\n",
    "* Le modèle df_tempere_froid présente une précision de 0.89 et un rappel de 0.97 pour la classe 0, tandis que la précision pour la classe 1 est de 0.73 et le rappel est de 0.37. Le F1-score pour la classe 1 est de 0.49 et le F1-score pondéré est de 0.86. Le modèle a une précision globale de 0.87.\n",
    "\n",
    "* Le modèle df_mediterraneen présente une précision de 0.90 et un rappel de 0.97 pour la classe 0, tandis que la précision pour la classe 1 est de 0.79 et le rappel est de 0.52. Le F1-score pour la classe 1 est de 0.63 et le F1-score pondéré est de 0.88. Le modèle a une précision globale de 0.89.\n",
    "\n",
    "* Le modèle df_sec présente une précision de 0.95 et un rappel de 0.99 pour la classe 0, tandis que la précision pour la classe 1 est de 0.86 et le rappel est de 0.45. Le F1-score pour la classe 1 est de 0.59 et le F1-score pondéré est de 0.93. Le modèle a une précision globale de 0.94.\n",
    "\n",
    "* Le modèle df_local présente une précision de 0.81 et un rappel de 0.92 pour la classe 0, tandis que la précision pour la classe 1 est de 0.65 et le rappel est de 0.40. Le F1-score pour la classe 1 est de 0.49 et le F1-score pondéré est de 0.77. Le modèle a une précision globale de 0.78.\n",
    "\n",
    "<b> En résumé, les modèles ont des performances variables en fonction de l'ensemble de données et de la classe prédite. Le modèle df_chaud_humide et le modèle df_mediterraneen semblent avoir des performances supérieures par rapport aux autres modèles en termes de précision, rappel et F1-score pondéré."
   ]
  },
  {
   "cell_type": "code",
   "execution_count": 20,
   "id": "3033ceac-7f2d-4660-a317-1c9a2d8976a4",
   "metadata": {
    "colab": {
     "base_uri": "https://localhost:8080/",
     "height": 487
    },
    "executionInfo": {
     "elapsed": 264920,
     "status": "ok",
     "timestamp": 1683472240530,
     "user": {
      "displayName": "Ben-Mekki AYADI (Ben)",
      "userId": "10473218066512117106"
     },
     "user_tz": -120
    },
    "id": "3033ceac-7f2d-4660-a317-1c9a2d8976a4",
    "outputId": "20429445-e8c5-490f-96dd-f066e5594a0a"
   },
   "outputs": [
    {
     "data": {
      "image/png": "[encoded data removed]",
      "text/plain": [
       "<Figure size 2000x500 with 5 Axes>"
      ]
     },
     "metadata": {},
     "output_type": "display_data"
    }
   ],
   "source": [
    "from sklearn.model_selection import learning_curve\n",
    "import numpy as np\n",
    "import matplotlib.pyplot as plt\n",
    "\n",
    "df_names = [\"df_chaud_humide\", \"df_tempere_froid\", \"df_mediterraneen\", \"df_sec\", \"df_local\"]\n",
    "fig, axs = plt.subplots(ncols=len(df_names), figsize=(20,5))\n",
    "\n",
    "for i, (name, df) in enumerate(zip(df_names, df_list)):\n",
    "    X = df.drop(\"raintomorrow\", axis=1)\n",
    "    y = df[\"raintomorrow\"]\n",
    "\n",
    "    train_sizes, train_scores, test_scores = learning_curve(\n",
    "        RandomForestClassifier(),\n",
    "        X,\n",
    "        y,\n",
    "        cv=5,\n",
    "        train_sizes=np.linspace(0.1, 1.0, 10),\n",
    "        scoring='f1_weighted',\n",
    "        n_jobs=-1\n",
    "    )\n",
    "\n",
    "    train_scores_mean = np.mean(train_scores, axis=1)\n",
    "    train_scores_std = np.std(train_scores, axis=1)\n",
    "    test_scores_mean = np.mean(test_scores, axis=1)\n",
    "    test_scores_std = np.std(test_scores, axis=1)\n",
    "\n",
    "    axs[i].set_title(name)\n",
    "    axs[i].set_xlabel(\"Training Examples\")\n",
    "    axs[i].set_ylabel(\"F1 Score\")\n",
    "    axs[i].grid()\n",
    "    \n",
    "    axs[i].fill_between(train_sizes, train_scores_mean - train_scores_std,\n",
    "                     train_scores_mean + train_scores_std, alpha=0.1,\n",
    "                     color=\"r\")\n",
    "    axs[i].fill_between(train_sizes, test_scores_mean - test_scores_std,\n",
    "                     test_scores_mean + test_scores_std, alpha=0.1,\n",
    "                     color=\"g\")\n",
    "    axs[i].plot(train_sizes, train_scores_mean, 'o-', color=\"r\",\n",
    "             label=\"Training score\")\n",
    "    axs[i].plot(train_sizes, test_scores_mean, 'o-', color=\"g\",\n",
    "             label=\"Cross-validation score\")\n",
    "\n",
    "    axs[i].legend(loc=\"best\")\n",
    "\n",
    "plt.show()"
   ]
  },
  {
   "cell_type": "markdown",
   "id": "535cbb0b-91ff-4488-8a1f-a41128ecb5ad",
   "metadata": {
    "id": "535cbb0b-91ff-4488-8a1f-a41128ecb5ad"
   },
   "source": [
    "<b> Analyse : \n",
    "* Pour chaque ensemble de données, le code génère un graphique de courbes d'apprentissage avec le nombre d'exemples d'entraînement sur l'axe des x et le score F1 Weighted sur l'axe des y. Le graphique contient deux courbes, une pour le score d'entraînement et une pour le score de validation croisée. Les zones ombrées autour de chaque courbe représentent l'écart type des scores.\n",
    "\n",
    "* Le but des courbes d'apprentissage est d'évaluer les performances du classificateur sur l'ensemble d'entraînement et l'ensemble de validation à mesure que le nombre d'exemples d'entraînement augmente. Si le score d'entraînement est beaucoup plus élevé que le score de validation, cela indique un surapprentissage, ce qui signifie que le modèle est trop complexe et s'ajuste trop étroitement aux données d'entraînement, ce qui entraîne une mauvaise généralisation aux nouvelles données.\n",
    "\n",
    "* Le paramètre `train_sizes` spécifie les tailles des sous-ensembles d'entraînement, qui sont uniformément réparties entre 10% et 100% de la taille totale de l'ensemble d'entraînement. Le paramètre `cv` spécifie le nombre de plis dans la validation croisée. Le paramètre `n_jobs` spécifie le nombre de cœurs de CPU à utiliser pour le calcul parallèle.\n",
    "\n",
    "* Les courbes d'apprentissage montrent que les performances du classificateur de forêt aléatoire s'améliorent à mesure que le nombre d'exemples d'entraînement augmente (sauf pour le `modèle temps sec`). Les courbes des scores d'entraînement et de validation croisée sont proches les unes des autres, ce qui indique qu'il n'y a <b> pas de surapprentissage significatif</b>. Cependant, la largeur de la zone ombrée autour des courbes varie entre les ensembles de données, avec `df_mediterraneen` ayant la zone la plus large, ce qui indique une plus grande variabilité dans les scores de performances."
   ]
  },
  {
   "cell_type": "markdown",
   "id": "36aa83b8-7718-4ce2-b0d6-d0f4e9434d03",
   "metadata": {
    "id": "36aa83b8-7718-4ce2-b0d6-d0f4e9434d03"
   },
   "source": [
    "# 3. Optimisation Bayesienne des performances des modèles <a name=3></a>\n",
    "[return to the plan](#0)  "
   ]
  },
  {
   "cell_type": "markdown",
   "id": "agA09nZKRcnR",
   "metadata": {
    "id": "agA09nZKRcnR"
   },
   "source": [
    "## 3.1 Recherche des meilleurs paramètres par optimisation bayésienne"
   ]
  },
  {
   "cell_type": "code",
   "execution_count": null,
   "id": "lOBmI4urxNz0",
   "metadata": {
    "colab": {
     "base_uri": "https://localhost:8080/",
     "height": 215
    },
    "executionInfo": {
     "elapsed": 5549817,
     "status": "ok",
     "timestamp": 1683477911164,
     "user": {
      "displayName": "Ben-Mekki AYADI (Ben)",
      "userId": "10473218066512117106"
     },
     "user_tz": -120
    },
    "id": "lOBmI4urxNz0",
    "outputId": "bf353697-b448-4e4f-9ee4-9b2970609c22"
   },
   "outputs": [],
   "source": [
    "df_names = [\"df_chaud_humide\", \"df_tempere_froid\", \"df_mediterraneen\", \"df_sec\", \"df_local\"]\n",
    "df_list = [df_chaud_humide, df_tempere_froid, df_mediterraneen, df_sec, df_local]\n",
    "\n",
    "results = []\n",
    "for name, df in zip(df_names, df_list):\n",
    "    X = df.drop(\"raintomorrow\", axis=1)\n",
    "    y = df[\"raintomorrow\"]\n",
    "    \n",
    "    X_train, X_test, y_train, y_test = train_test_split(X, y, test_size=0.2, random_state=42)\n",
    "    \n",
    "    # Définition de l'espace de recherche pour l'optimisation bayésienne\n",
    "    space = {\n",
    "        'n_estimators': Integer(100, 1000),\n",
    "        'max_depth': Integer(3, 15),\n",
    "        'min_samples_split': Integer(2, 10),\n",
    "        'min_samples_leaf': Integer(1, 5),\n",
    "        'max_features': Real(0.1, 1.0, prior='uniform')\n",
    "    }\n",
    "\n",
    "    # Définition de l'optimiseur bayésien avec 20 itérations\n",
    "    bayessearch_cv = BayesSearchCV(RandomForestClassifier(), space, n_iter=20, scoring='accuracy', n_jobs=-1, cv=5)\n",
    "\n",
    "    # Lancement de l'optimisation\n",
    "    bayessearch_cv.fit(X_train, y_train)\n",
    "\n",
    "    # Récupération des meilleurs hyperparamètres trouvés\n",
    "    best_params = bayessearch_cv.best_params_\n",
    "    results.append([name, best_params])\n",
    "\n",
    "# Création d'un dataframe avec les résultats\n",
    "results_df = pd.DataFrame(results, columns=[\"dataframe\", \"best_params\"])\n",
    "results_df"
   ]
  },
  {
   "cell_type": "code",
   "execution_count": null,
   "id": "2Y_IQPfHNdgv",
   "metadata": {
    "colab": {
     "base_uri": "https://localhost:8080/",
     "height": 206
    },
    "executionInfo": {
     "elapsed": 460,
     "status": "ok",
     "timestamp": 1683479717374,
     "user": {
      "displayName": "Ben-Mekki AYADI (Ben)",
      "userId": "10473218066512117106"
     },
     "user_tz": -120
    },
    "id": "2Y_IQPfHNdgv",
    "outputId": "3fe78e8c-6783-43cb-a44e-2dc50996adad"
   },
   "outputs": [],
   "source": [
    "results_df"
   ]
  },
  {
   "cell_type": "markdown",
   "id": "rdyKhBpKR25S",
   "metadata": {
    "id": "rdyKhBpKR25S"
   },
   "source": [
    "## 3.2 Entrainement et évaluation des modèles optimisés"
   ]
  },
  {
   "cell_type": "code",
   "execution_count": null,
   "id": "xKMKw679I_G3",
   "metadata": {
    "colab": {
     "base_uri": "https://localhost:8080/",
     "height": 1000
    },
    "executionInfo": {
     "elapsed": 82895,
     "status": "ok",
     "timestamp": 1683480014873,
     "user": {
      "displayName": "Ben-Mekki AYADI (Ben)",
      "userId": "10473218066512117106"
     },
     "user_tz": -120
    },
    "id": "xKMKw679I_G3",
    "outputId": "db85d4c1-2259-4378-dc01-64d7ad9f8676"
   },
   "outputs": [],
   "source": [
    "df_names = [\"df_chaud_humide\", \"df_tempere_froid\", \"df_mediterraneen\", \"df_sec\", \"df_local\"]\n",
    "df_list = [df_chaud_humide, df_tempere_froid, df_mediterraneen, df_sec, df_local]\n",
    "\n",
    "results = []\n",
    "for name, df in zip(df_names, df_list):\n",
    "    X = df.drop(\"raintomorrow\", axis=1)\n",
    "    y = df[\"raintomorrow\"]\n",
    "    \n",
    "    X_train, X_test, y_train, y_test = train_test_split(X, y, test_size=0.2, random_state=42)\n",
    "    best_param = results_df.best_params[results_df.dataframe == name].iloc[0]\n",
    "    clf = RandomForestClassifier(**best_param)\n",
    "    print(name)\n",
    "    result = evaluate(name, clf, X_train, y_train, X_test, y_test)\n",
    "    results.append(result)\n",
    "    print(\"\\n\")\n",
    "    print(\"\\n\")\n",
    "\n",
    "results_df = pd.concat(results)\n",
    "results_df"
   ]
  },
  {
   "cell_type": "markdown",
   "id": "iDP0nStLPshb",
   "metadata": {
    "id": "iDP0nStLPshb"
   },
   "source": [
    "***Analyse :*** \n",
    "\n",
    "En comparant les résultats avant et après l'optimisation bayésienne, on peut \n",
    "voir une amélioration significative des performances des modèles. \n",
    "\n",
    "Avant l'optimisation, les précisions variaient entre 0,79 et 0,94, tandis que les rappels variaient entre 0,35 et 0,52.\n",
    "\n",
    "Après l'optimisation, les précisions sont restées stables, mais les rappels ont augmenté, allant de 0,37 à 0,54. Les scores F1 pondérés ont également augmenté dans certains cas.\n",
    "\n",
    "L'optimisation bayésienne a permis de trouver des hyperparamètres plus adaptés à chaque modèle et a amélioré les performances des modèles."
   ]
  },
  {
   "cell_type": "markdown",
   "id": "x5t3yp2mSKXQ",
   "metadata": {
    "id": "x5t3yp2mSKXQ"
   },
   "source": [
    "## 3.3 Analyse de la performance des modèles"
   ]
  },
  {
   "cell_type": "code",
   "execution_count": null,
   "id": "5gJfhhJHxQof",
   "metadata": {
    "colab": {
     "base_uri": "https://localhost:8080/",
     "height": 487
    },
    "executionInfo": {
     "elapsed": 281441,
     "status": "ok",
     "timestamp": 1683480825783,
     "user": {
      "displayName": "Ben-Mekki AYADI (Ben)",
      "userId": "10473218066512117106"
     },
     "user_tz": -120
    },
    "id": "5gJfhhJHxQof",
    "outputId": "e51302ad-3696-47a2-d1ac-d0c58719cf07"
   },
   "outputs": [],
   "source": [
    "fig, axs = plt.subplots(ncols=len(df_names), figsize=(20,5))\n",
    "\n",
    "for i, (name, df) in enumerate(zip(df_names, df_list)):\n",
    "    X = df.drop(\"raintomorrow\", axis=1)\n",
    "    y = df[\"raintomorrow\"]\n",
    "\n",
    "    train_sizes, train_scores, test_scores = learning_curve(\n",
    "        RandomForestClassifier(),\n",
    "        X,\n",
    "        y,\n",
    "        cv=5,\n",
    "        train_sizes=np.linspace(0.1, 1.0, 10),\n",
    "        scoring='f1_weighted',\n",
    "        n_jobs=-1\n",
    "    )\n",
    "\n",
    "    train_scores_mean = np.mean(train_scores, axis=1)\n",
    "    train_scores_std = np.std(train_scores, axis=1)\n",
    "    test_scores_mean = np.mean(test_scores, axis=1)\n",
    "    test_scores_std = np.std(test_scores, axis=1)\n",
    "\n",
    "    axs[i].set_title(name)\n",
    "    axs[i].set_xlabel(\"Training Examples\")\n",
    "    axs[i].set_ylabel(\"F1 Score\")\n",
    "    axs[i].grid()\n",
    "    \n",
    "    axs[i].fill_between(train_sizes, train_scores_mean - train_scores_std,\n",
    "                     train_scores_mean + train_scores_std, alpha=0.1,\n",
    "                     color=\"r\")\n",
    "    axs[i].fill_between(train_sizes, test_scores_mean - test_scores_std,\n",
    "                     test_scores_mean + test_scores_std, alpha=0.1,\n",
    "                     color=\"g\")\n",
    "    axs[i].plot(train_sizes, train_scores_mean, 'o-', color=\"r\",\n",
    "             label=\"Training score\")\n",
    "    axs[i].plot(train_sizes, test_scores_mean, 'o-', color=\"g\",\n",
    "             label=\"Cross-validation score\")\n",
    "\n",
    "    axs[i].legend(loc=\"best\")\n",
    "\n",
    "plt.show()"
   ]
  },
  {
   "cell_type": "markdown",
   "id": "ky2xOniISoOU",
   "metadata": {
    "id": "ky2xOniISoOU"
   },
   "source": [
    "**Analyse :**\n",
    "Les courbes d'apprentissage montrent que les performances du classificateur de forêt aléatoire s'améliorent à mesure que le nombre d'exemples d'entraînement augmente (sauf pour le modèle temps sec). Les courbes des scores d'entraînement et de validation croisée sont proches les unes des autres, ce qui indique qu'il n'y a pas de surapprentissage significatif. Cependant, la largeur de la zone ombrée autour des courbes varie entre les ensembles de données, avec df_mediterraneen ayant la zone la plus large, ce qui indique une plus grande variabilité dans les scores de performances\n"
   ]
  },
  {
   "cell_type": "markdown",
   "id": "b59ae850-98a4-4f9b-9b74-6996472c92d1",
   "metadata": {
    "id": "b59ae850-98a4-4f9b-9b74-6996472c92d1"
   },
   "source": [
    "# 4. Conclusion <a name=4></a>\n",
    "[return to the plan](#0)  "
   ]
  },
  {
   "cell_type": "markdown",
   "id": "c640de7c-a17b-4cc2-bf8d-b399daef2852",
   "metadata": {
    "id": "c640de7c-a17b-4cc2-bf8d-b399daef2852"
   },
   "source": [
    "Ces modèles peuvent être utilisés (sauf pour le `modèle temps sec`). Car les courbes d'apprentissage générées montrent que les performances du modèle s'améliorent à mesure que le nombre d'exemples d'entraînement augmente, ce qui est une bonne indication de la capacité du modèle à généraliser à de nouvelles données. De plus, la faible différence entre les scores d'entraînement et de validation croisée suggère que les modèles ne souffrent pas de surapprentissage significatif."
   ]
  }
 ],
 "metadata": {
  "accelerator": "GPU",
  "colab": {
   "gpuType": "V100",
   "provenance": []
  },
  "gpuClass": "standard",
  "kernelspec": {
   "display_name": "venv_weatherforecast",
   "language": "python",
   "name": "venv_weatherforecast"
  },
  "language_info": {
   "codemirror_mode": {
    "name": "ipython",
    "version": 3
   },
   "file_extension": ".py",
   "mimetype": "text/x-python",
   "name": "python",
   "nbconvert_exporter": "python",
   "pygments_lexer": "ipython3",
   "version": "3.10.9"
  }
 },
 "nbformat": 4,
 "nbformat_minor": 5
}
